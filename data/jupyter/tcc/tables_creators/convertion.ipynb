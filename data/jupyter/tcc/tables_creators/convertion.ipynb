{
 "cells": [
  {
   "cell_type": "code",
   "execution_count": 1,
   "id": "1d8a2eb8-14cd-4ff6-a420-4da6a146b524",
   "metadata": {},
   "outputs": [],
   "source": [
    "import pandas as pd\n",
    "import numpy as np\n",
    "import matplotlib.pyplot as plt"
   ]
  },
  {
   "cell_type": "code",
   "execution_count": 2,
   "id": "90ed0974-c123-4ed4-8499-7d7003a74fd6",
   "metadata": {},
   "outputs": [],
   "source": [
    "import pyspark\n",
    "from pyspark.sql import SparkSession\n",
    "from pyspark.sql.types import *\n",
    "from pyspark.sql.functions import *\n",
    "\n",
    "spark = SparkSession.builder.master(\"local[2]\") \\\n",
    "                    .appName('tcc1') \\\n",
    "                    .getOrCreate()"
   ]
  },
  {
   "cell_type": "code",
   "execution_count": 4,
   "id": "82b8756b-55fd-48de-931b-8781df1c692a",
   "metadata": {},
   "outputs": [],
   "source": [
    "ciha = spark.read.option(\"header\", True).csv(\"datasus/ciha/csv/\")"
   ]
  },
  {
   "cell_type": "code",
   "execution_count": 6,
   "id": "09bb04be-422d-4f97-b243-8ae36e378fd2",
   "metadata": {},
   "outputs": [
    {
     "data": {
      "text/plain": [
       "214492919"
      ]
     },
     "execution_count": 6,
     "metadata": {},
     "output_type": "execute_result"
    }
   ],
   "source": [
    "ciha.count()"
   ]
  },
  {
   "cell_type": "code",
   "execution_count": 7,
   "id": "1122fc5a-a5bb-401c-a72e-bd04c0e4f930",
   "metadata": {},
   "outputs": [
    {
     "name": "stdout",
     "output_type": "stream",
     "text": [
      "root\n",
      " |-- ANO_CMPT: string (nullable = true)\n",
      " |-- MES_CMPT: string (nullable = true)\n",
      " |-- ESPEC: string (nullable = true)\n",
      " |-- CGC_HOSP: string (nullable = true)\n",
      " |-- MUNIC_RES: string (nullable = true)\n",
      " |-- NASC: string (nullable = true)\n",
      " |-- SEXO: string (nullable = true)\n",
      " |-- UTI_MES_TO: string (nullable = true)\n",
      " |-- UTI_INT_TO: string (nullable = true)\n",
      " |-- PROC_REA: string (nullable = true)\n",
      " |-- QT_PROC: string (nullable = true)\n",
      " |-- DT_ATEND: string (nullable = true)\n",
      " |-- DT_SAIDA: string (nullable = true)\n",
      " |-- DIAG_PRINC: string (nullable = true)\n",
      " |-- DIAG_SECUN: string (nullable = true)\n",
      " |-- COBRANCA: string (nullable = true)\n",
      " |-- NATUREZA: string (nullable = true)\n",
      " |-- GESTAO: string (nullable = true)\n",
      " |-- MUNIC_MOV: string (nullable = true)\n",
      " |-- COD_IDADE: string (nullable = true)\n",
      " |-- IDADE: string (nullable = true)\n",
      " |-- DIAS_PERM: string (nullable = true)\n",
      " |-- MORTE: string (nullable = true)\n",
      " |-- NACIONAL: string (nullable = true)\n",
      " |-- CAR_INT: string (nullable = true)\n",
      " |-- HOMONIMO: string (nullable = true)\n",
      " |-- CNES: string (nullable = true)\n",
      " |-- FONTE: string (nullable = true)\n",
      " |-- MODALIDADE: string (nullable = true)\n",
      "\n"
     ]
    }
   ],
   "source": [
    "ciha.printSchema()"
   ]
  },
  {
   "cell_type": "code",
   "execution_count": 5,
   "id": "d4298c2b-00b4-4bbb-baea-7bf8cf4156f5",
   "metadata": {},
   "outputs": [
    {
     "name": "stdout",
     "output_type": "stream",
     "text": [
      "+--------+--------+-----+--------------+---------+----+----+----------+----------+----------+-------+--------+--------+----------+----------+--------+--------+------+---------+---------+-----+---------+-----+--------+-------+--------+-------+-----+----------+\n",
      "|ANO_CMPT|MES_CMPT|ESPEC|CGC_HOSP      |MUNIC_RES|NASC|SEXO|UTI_MES_TO|UTI_INT_TO|PROC_REA  |QT_PROC|DT_ATEND|DT_SAIDA|DIAG_PRINC|DIAG_SECUN|COBRANCA|NATUREZA|GESTAO|MUNIC_MOV|COD_IDADE|IDADE|DIAS_PERM|MORTE|NACIONAL|CAR_INT|HOMONIMO|CNES   |FONTE|MODALIDADE|\n",
      "+--------+--------+-----+--------------+---------+----+----+----------+----------+----------+-------+--------+--------+----------+----------+--------+--------+------+---------+---------+-----+---------+-----+--------+-------+--------+-------+-----+----------+\n",
      "|2011    |05      |null |55344337000108|null     |null|null|0         |0         |0202060330|1      |null    |null    |null      |null      |null    |11      |D     |354140   |null     |null |null     |null |null    |null   |null    |2080532|null |00        |\n",
      "|2011    |05      |null |55344337000108|null     |null|null|0         |0         |0202060349|7      |null    |null    |null      |null      |null    |11      |D     |354140   |null     |null |null     |null |null    |null   |null    |2080532|null |00        |\n",
      "|2011    |05      |null |55344337000108|null     |null|null|0         |0         |0202060365|3      |null    |null    |null      |null      |null    |11      |D     |354140   |null     |null |null     |null |null    |null   |null    |2080532|null |00        |\n",
      "|2011    |05      |null |55344337000108|null     |null|null|0         |0         |0202060373|3      |null    |null    |null      |null      |null    |11      |D     |354140   |null     |null |null     |null |null    |null   |null    |2080532|null |00        |\n",
      "|2011    |05      |null |55344337000108|null     |null|null|0         |0         |0202060381|60     |null    |null    |null      |null      |null    |11      |D     |354140   |null     |null |null     |null |null    |null   |null    |2080532|null |00        |\n",
      "|2011    |05      |null |55344337000108|null     |null|null|0         |0         |0202060390|25     |null    |null    |null      |null      |null    |11      |D     |354140   |null     |null |null     |null |null    |null   |null    |2080532|null |00        |\n",
      "|2011    |05      |null |55344337000108|null     |null|null|0         |0         |0202080013|2      |null    |null    |null      |null      |null    |11      |D     |354140   |null     |null |null     |null |null    |null   |null    |2080532|null |00        |\n",
      "|2011    |05      |null |55344337000108|null     |null|null|0         |0         |0202080072|61     |null    |null    |null      |null      |null    |11      |D     |354140   |null     |null |null     |null |null    |null   |null    |2080532|null |00        |\n",
      "|2011    |05      |null |55344337000108|null     |null|null|0         |0         |0202080080|49     |null    |null    |null      |null      |null    |11      |D     |354140   |null     |null |null     |null |null    |null   |null    |2080532|null |00        |\n",
      "|2011    |05      |null |55344337000108|null     |null|null|0         |0         |0202080110|34     |null    |null    |null      |null      |null    |11      |D     |354140   |null     |null |null     |null |null    |null   |null    |2080532|null |00        |\n",
      "|2011    |05      |null |55344337000108|null     |null|null|0         |0         |0202080137|36     |null    |null    |null      |null      |null    |11      |D     |354140   |null     |null |null     |null |null    |null   |null    |2080532|null |00        |\n",
      "|2011    |05      |null |55344337000108|null     |null|null|0         |0         |0202080145|1      |null    |null    |null      |null      |null    |11      |D     |354140   |null     |null |null     |null |null    |null   |null    |2080532|null |00        |\n",
      "|2011    |05      |null |55344337000108|null     |null|null|0         |0         |0202080153|4      |null    |null    |null      |null      |null    |11      |D     |354140   |null     |null |null     |null |null    |null   |null    |2080532|null |00        |\n",
      "|2011    |05      |null |55344337000108|null     |null|null|0         |0         |0202090051|7      |null    |null    |null      |null      |null    |11      |D     |354140   |null     |null |null     |null |null    |null   |null    |2080532|null |00        |\n",
      "|2011    |05      |null |55344337000108|null     |null|null|0         |0         |0202090191|1      |null    |null    |null      |null      |null    |11      |D     |354140   |null     |null |null     |null |null    |null   |null    |2080532|null |00        |\n",
      "|2011    |05      |null |55344337000108|null     |null|null|0         |0         |0202090264|2      |null    |null    |null      |null      |null    |11      |D     |354140   |null     |null |null     |null |null    |null   |null    |2080532|null |00        |\n",
      "|2011    |05      |null |55344337000108|null     |null|null|0         |0         |0202120023|2      |null    |null    |null      |null      |null    |11      |D     |354140   |null     |null |null     |null |null    |null   |null    |2080532|null |00        |\n",
      "|2011    |05      |null |55344337000108|null     |null|null|0         |0         |0204010039|1      |null    |null    |null      |null      |null    |11      |D     |354140   |null     |null |null     |null |null    |null   |null    |2080532|null |00        |\n",
      "|2011    |05      |null |55344337000108|null     |null|null|0         |0         |0204010055|2      |null    |null    |null      |null      |null    |11      |D     |354140   |null     |null |null     |null |null    |null   |null    |2080532|null |00        |\n",
      "|2011    |05      |null |55344337000108|null     |null|null|0         |0         |0204010063|1      |null    |null    |null      |null      |null    |11      |D     |354140   |null     |null |null     |null |null    |null   |null    |2080532|null |00        |\n",
      "+--------+--------+-----+--------------+---------+----+----+----------+----------+----------+-------+--------+--------+----------+----------+--------+--------+------+---------+---------+-----+---------+-----+--------+-------+--------+-------+-----+----------+\n",
      "only showing top 20 rows\n",
      "\n"
     ]
    }
   ],
   "source": [
    "ciha.show(truncate=False)"
   ]
  },
  {
   "cell_type": "code",
   "execution_count": 9,
   "id": "4c8b0ed4-8579-4b85-936b-3818281a5558",
   "metadata": {},
   "outputs": [],
   "source": [
    "df2 = ciha.select([count(when(col(c).contains('None') | \\\n",
    "                            col(c).contains('NULL') | \\\n",
    "                            (col(c) == '' ) | \\\n",
    "                            col(c).isNull() | \\\n",
    "                            isnan(c), c \n",
    "                           )).alias(c)\n",
    "                    for c in ciha.columns])"
   ]
  },
  {
   "cell_type": "code",
   "execution_count": 10,
   "id": "d55334af-ae8d-4d2c-96f5-bbf3bdb36811",
   "metadata": {},
   "outputs": [
    {
     "name": "stdout",
     "output_type": "stream",
     "text": [
      "+--------+--------+---------+--------+---------+--------+--------+----------+----------+--------+-------+--------+--------+----------+----------+---------+---------+------+---------+---------+--------+---------+--------+---------+---------+---------+----+------+----------+\n",
      "|ANO_CMPT|MES_CMPT|ESPEC    |CGC_HOSP|MUNIC_RES|NASC    |SEXO    |UTI_MES_TO|UTI_INT_TO|PROC_REA|QT_PROC|DT_ATEND|DT_SAIDA|DIAG_PRINC|DIAG_SECUN|COBRANCA |NATUREZA |GESTAO|MUNIC_MOV|COD_IDADE|IDADE   |DIAS_PERM|MORTE   |NACIONAL |CAR_INT  |HOMONIMO |CNES|FONTE |MODALIDADE|\n",
      "+--------+--------+---------+--------+---------+--------+--------+----------+----------+--------+-------+--------+--------+----------+----------+---------+---------+------+---------+---------+--------+---------+--------+---------+---------+---------+----+------+----------+\n",
      "|0       |0       |214492919|8719116 |27282664 |27282664|27282664|0         |2457596   |0       |0      |27282664|27282664|82022537  |208124582 |182108088|131909720|0     |0        |27282664 |27282664|27282664 |27282664|214492919|214492919|214492919|0   |979180|0         |\n",
      "+--------+--------+---------+--------+---------+--------+--------+----------+----------+--------+-------+--------+--------+----------+----------+---------+---------+------+---------+---------+--------+---------+--------+---------+---------+---------+----+------+----------+\n",
      "\n"
     ]
    }
   ],
   "source": [
    "df2.show(truncate=False)"
   ]
  },
  {
   "cell_type": "code",
   "execution_count": 14,
   "id": "5f5c3202-e507-4da5-93d1-aac95aed274c",
   "metadata": {},
   "outputs": [],
   "source": [
    "selected_cols = [\n",
    "    \"ANO_CMPT\",\n",
    "    \"MES_CMPT\",\n",
    "    \"CGC_HOSP\",\n",
    "    \"MUNIC_RES\",\n",
    "    \"NASC\",\n",
    "    \"SEXO\",\n",
    "    \"UTI_MES_TO\",\n",
    "    \"UTI_INT_TO\",\n",
    "    \"PROC_REA\",\n",
    "    \"QT_PROC\",\n",
    "    \"DT_ATEND\",\n",
    "    \"DT_SAIDA\",\n",
    "    \"DIAG_PRINC\",\n",
    "    \"DIAG_SECUN\",\n",
    "    \"COBRANCA\",\n",
    "    \"NATUREZA\",\n",
    "    \"GESTAO\",\n",
    "    \"MUNIC_MOV\",\n",
    "    \"COD_IDADE\",\n",
    "    \"IDADE\",\n",
    "    \"DIAS_PERM\",\n",
    "    \"MORTE\",\n",
    "    \"CNES\",\n",
    "    \"FONTE\",\n",
    "    \"MODALIDADE\"\n",
    "]\n",
    "    \n",
    "st1 = ciha.select(*selected_cols)"
   ]
  },
  {
   "cell_type": "code",
   "execution_count": 17,
   "id": "1c4a5580-04a4-4390-bedf-43b83f318ebd",
   "metadata": {},
   "outputs": [],
   "source": [
    "important_cols = [\n",
    "    \"ANO_CMPT\",\n",
    "    \"MES_CMPT\",\n",
    "    \"CGC_HOSP\",\n",
    "    \"MUNIC_RES\",\n",
    "    \"NASC\",\n",
    "    \"SEXO\",\n",
    "    \"PROC_REA\",\n",
    "    \"QT_PROC\",\n",
    "    \"DT_ATEND\",\n",
    "    \"DT_SAIDA\",\n",
    "    \"DIAG_PRINC\",\n",
    "    \"GESTAO\",\n",
    "    \"MUNIC_MOV\",\n",
    "    \"COD_IDADE\",\n",
    "    \"IDADE\",\n",
    "    \"DIAS_PERM\",\n",
    "    \"MORTE\",\n",
    "    \"CNES\",\n",
    "    \"MODALIDADE\"\n",
    "]\n",
    "\n",
    "st2 = st1.filter(\" and \".join([f\"{c} is not null\" for c in important_cols]))\n",
    "\n",
    "st2.write.parquet(\"datasus/ciha/parquet/\")"
   ]
  },
  {
   "cell_type": "code",
   "execution_count": 18,
   "id": "8bb94c7b-4d46-4a3f-a66a-1f5a9bd1b688",
   "metadata": {},
   "outputs": [],
   "source": [
    "df = spark.read.parquet(\"datasus/ciha/parquet/\")"
   ]
  },
  {
   "cell_type": "code",
   "execution_count": 21,
   "id": "54f137d6-e8df-47dc-ad46-a6f440e6073d",
   "metadata": {},
   "outputs": [
    {
     "data": {
      "text/plain": [
       "127272146"
      ]
     },
     "execution_count": 21,
     "metadata": {},
     "output_type": "execute_result"
    }
   ],
   "source": [
    "df.count()"
   ]
  },
  {
   "cell_type": "code",
   "execution_count": 20,
   "id": "28a6f51c-88f8-41f1-aa95-3fbc51c1e5dc",
   "metadata": {},
   "outputs": [
    {
     "name": "stdout",
     "output_type": "stream",
     "text": [
      "+--------+--------+--------+---------+----+----+----------+----------+--------+-------+--------+--------+----------+----------+--------+--------+------+---------+---------+-----+---------+-----+----+-----+----------+\n",
      "|ANO_CMPT|MES_CMPT|CGC_HOSP|MUNIC_RES|NASC|SEXO|UTI_MES_TO|UTI_INT_TO|PROC_REA|QT_PROC|DT_ATEND|DT_SAIDA|DIAG_PRINC|DIAG_SECUN|COBRANCA|NATUREZA|GESTAO|MUNIC_MOV|COD_IDADE|IDADE|DIAS_PERM|MORTE|CNES|FONTE|MODALIDADE|\n",
      "+--------+--------+--------+---------+----+----+----------+----------+--------+-------+--------+--------+----------+----------+--------+--------+------+---------+---------+-----+---------+-----+----+-----+----------+\n",
      "|0       |0       |0       |0        |0   |0   |0         |1352318   |0       |0      |0       |0       |0         |121074132 |96128118|76086356|0     |0        |0        |0    |0        |0    |0   |0    |0         |\n",
      "+--------+--------+--------+---------+----+----+----------+----------+--------+-------+--------+--------+----------+----------+--------+--------+------+---------+---------+-----+---------+-----+----+-----+----------+\n",
      "\n"
     ]
    }
   ],
   "source": [
    "df.select([count(when(col(c).contains('None') | \\\n",
    "                            col(c).contains('NULL') | \\\n",
    "                            (col(c) == '' ) | \\\n",
    "                            col(c).isNull() | \\\n",
    "                            isnan(c), c \n",
    "                           )).alias(c)\n",
    "                    for c in df.columns]).show(truncate=False)"
   ]
  },
  {
   "cell_type": "code",
   "execution_count": 30,
   "id": "abaa8e15-f9aa-40ad-ade2-25b0f2f15b33",
   "metadata": {},
   "outputs": [
    {
     "name": "stdout",
     "output_type": "stream",
     "text": [
      "+--------+--------+--------------+---------+--------+----+----------+----------+----------+-------+--------+--------+----------+----------+--------+--------+------+---------+---------+-----+---------+-----+-------+-----+----------+\n",
      "|ANO_CMPT|MES_CMPT|CGC_HOSP      |MUNIC_RES|NASC    |SEXO|UTI_MES_TO|UTI_INT_TO|PROC_REA  |QT_PROC|DT_ATEND|DT_SAIDA|DIAG_PRINC|DIAG_SECUN|COBRANCA|NATUREZA|GESTAO|MUNIC_MOV|COD_IDADE|IDADE|DIAS_PERM|MORTE|CNES   |FONTE|MODALIDADE|\n",
      "+--------+--------+--------------+---------+--------+----+----------+----------+----------+-------+--------+--------+----------+----------+--------+--------+------+---------+---------+-----+---------+-----+-------+-----+----------+\n",
      "|2019    |02      |60194990000763|354990   |19820217|3   |0         |000       |0411010034|1      |20190226|20190228|O821      |null      |61      |null    |M     |354990   |4        |37   |2        |0    |0009539|06   |02        |\n",
      "|2019    |02      |60194990000763|354990   |19831215|3   |0         |000       |0411010034|1      |20190225|20190227|O829      |null      |62      |null    |M     |354990   |4        |35   |2        |0    |0009539|02   |02        |\n",
      "|2019    |02      |60194990000763|354990   |19880226|3   |0         |000       |0301040001|1      |20190226|20190227|A09       |null      |12      |null    |M     |354990   |4        |31   |1        |0    |0009539|02   |02        |\n",
      "|2019    |02      |60194990000763|354990   |19350825|1   |0         |002       |0301040001|1      |20190226|20190228|I219      |null      |31      |null    |M     |354990   |4        |83   |2        |0    |0009539|02   |02        |\n",
      "|2019    |02      |60194990000763|354990   |19950205|3   |0         |000       |0301040001|1      |20190226|20190227|Z411      |null      |12      |null    |M     |354990   |4        |24   |1        |0    |0009539|02   |02        |\n",
      "|2019    |02      |60194990000763|354990   |19611021|3   |0         |000       |0301040001|1      |20190227|20190227|N649      |null      |12      |null    |M     |354990   |4        |57   |0        |0    |0009539|02   |02        |\n",
      "|2019    |02      |45184066000117|354990   |19680603|3   |0         |000       |0301060070|1      |20190222|20190222|G560      |null      |11      |null    |M     |354990   |4        |50   |0        |0    |3042529|01   |02        |\n",
      "|2019    |02      |45184066000117|354990   |19680814|1   |0         |000       |0301060070|1      |20190222|20190223|N209      |null      |11      |null    |M     |354990   |4        |50   |1        |0    |3042529|01   |02        |\n",
      "|2019    |02      |45184066000389|354990   |19820502|3   |0         |000       |0411010034|1      |20190222|20190224|O829      |null      |61      |null    |M     |354990   |4        |36   |2        |0    |5259789|01   |02        |\n",
      "|2019    |02      |45184066000389|354990   |19870423|3   |0         |000       |0411010034|1      |20190222|20190224|O829      |null      |61      |null    |M     |354990   |4        |31   |2        |0    |5259789|01   |02        |\n",
      "|2019    |02      |45184066000389|354990   |19560722|3   |0         |000       |0301060088|1      |20190223|20190223|N999      |null      |12      |null    |M     |354990   |4        |62   |0        |0    |5259789|02   |02        |\n",
      "|2019    |02      |45184066000389|354990   |19980728|1   |0         |000       |0301060070|1      |20190223|20190223|J342      |null      |12      |null    |M     |354990   |4        |20   |0        |0    |5259789|01   |02        |\n",
      "|2019    |02      |45184066000389|354990   |19870202|3   |0         |000       |0301060070|1      |20190223|20190223|Z429      |null      |12      |null    |M     |354990   |4        |32   |0        |0    |5259789|02   |02        |\n",
      "|2019    |02      |45184066000117|354990   |19690515|3   |0         |000       |0301060088|1      |20190223|20190223|R53       |null      |11      |null    |M     |354990   |4        |49   |0        |0    |3042529|01   |02        |\n",
      "|2019    |02      |45184066000389|354990   |19920717|3   |0         |000       |0411010034|1      |20190225|20190227|O829      |null      |61      |null    |M     |354990   |4        |26   |2        |0    |5259789|01   |02        |\n",
      "|2019    |02      |45184066000117|354990   |19660409|1   |0         |000       |0301060088|1      |20190224|20190226|V193      |null      |12      |null    |M     |354990   |4        |52   |2        |0    |3042529|01   |02        |\n",
      "|2019    |02      |45184066000117|354990   |19850306|1   |0         |000       |0301060070|1      |20190228|20190228|N209      |null      |11      |null    |M     |354990   |4        |33   |0        |0    |3042529|01   |02        |\n",
      "|2019    |02      |45184066000117|354990   |19710629|3   |0         |000       |0301060088|1      |20190225|20190226|E059      |null      |12      |null    |M     |354990   |4        |47   |1        |0    |3042529|02   |02        |\n",
      "|2019    |02      |45184066000389|354990   |19800424|1   |0         |000       |0301060070|1      |20190225|20190225|Z302      |null      |11      |null    |M     |354990   |4        |38   |0        |0    |5259789|01   |02        |\n",
      "|2019    |02      |45184066000389|354990   |19991226|3   |0         |000       |0411010034|1      |20190225|20190227|O829      |null      |61      |null    |M     |354990   |4        |19   |2        |0    |5259789|01   |02        |\n",
      "+--------+--------+--------------+---------+--------+----+----------+----------+----------+-------+--------+--------+----------+----------+--------+--------+------+---------+---------+-----+---------+-----+-------+-----+----------+\n",
      "only showing top 20 rows\n",
      "\n"
     ]
    }
   ],
   "source": [
    "df.show(truncate=False)"
   ]
  },
  {
   "cell_type": "code",
   "execution_count": 32,
   "id": "367f4506-4997-4e8b-b40b-23627e49b858",
   "metadata": {},
   "outputs": [
    {
     "name": "stdout",
     "output_type": "stream",
     "text": [
      "+--------+--------+\n",
      "|ANO_CMPT|   count|\n",
      "+--------+--------+\n",
      "|    2011|13455228|\n",
      "|    2012| 7493554|\n",
      "|    2013|13539741|\n",
      "|    2014| 9157732|\n",
      "|    2015| 8976001|\n",
      "|    2016|10116122|\n",
      "|    2017|11664889|\n",
      "|    2018|11277506|\n",
      "|    2019|11150677|\n",
      "|    2020| 8660219|\n",
      "|    2021| 9908547|\n",
      "|    2022|10433583|\n",
      "|    2023| 1438347|\n",
      "+--------+--------+\n",
      "\n"
     ]
    }
   ],
   "source": [
    "df.groupBy(\"ANO_CMPT\").count().orderBy(\"ANO_CMPT\").show()"
   ]
  },
  {
   "cell_type": "code",
   "execution_count": null,
   "id": "d3a02a4a-93d7-4919-8db3-ef741549c8f7",
   "metadata": {},
   "outputs": [],
   "source": []
  }
 ],
 "metadata": {
  "kernelspec": {
   "display_name": "Python 3 (ipykernel)",
   "language": "python",
   "name": "python3"
  },
  "language_info": {
   "codemirror_mode": {
    "name": "ipython",
    "version": 3
   },
   "file_extension": ".py",
   "mimetype": "text/x-python",
   "name": "python",
   "nbconvert_exporter": "python",
   "pygments_lexer": "ipython3",
   "version": "3.11.4"
  }
 },
 "nbformat": 4,
 "nbformat_minor": 5
}
