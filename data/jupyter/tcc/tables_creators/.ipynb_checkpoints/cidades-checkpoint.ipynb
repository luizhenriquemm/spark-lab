{
 "cells": [
  {
   "cell_type": "code",
   "execution_count": 1,
   "id": "946c10d9-fcf6-4866-91c6-1429b0ca8387",
   "metadata": {},
   "outputs": [],
   "source": [
    "import pyspark\n",
    "from datetime import datetime, timedelta, date\n",
    "from pyspark.sql import SparkSession\n",
    "from pyspark.sql.types import *\n",
    "from pyspark.sql.functions import *\n",
    "\n",
    "spark = SparkSession.builder.master(\"local[2]\") \\\n",
    "                    .appName('tcc1') \\\n",
    "                    .getOrCreate()\n",
    "\n",
    "import pandas as pd\n",
    "import numpy as np\n",
    "import matplotlib.pyplot as plt"
   ]
  },
  {
   "cell_type": "code",
   "execution_count": 4,
   "id": "8aaec831-965d-4504-aeb6-8fe2151af919",
   "metadata": {},
   "outputs": [
    {
     "name": "stdout",
     "output_type": "stream",
     "text": [
      "root\n",
      " |-- UF: string (nullable = true)\n",
      " |-- Nome_UF: string (nullable = true)\n",
      " |-- Região Geográfica Intermediária: string (nullable = true)\n",
      " |-- Nome Região Geográfica Intermediária: string (nullable = true)\n",
      " |-- Região Geográfica Imediata: string (nullable = true)\n",
      " |-- Nome Região Geográfica Imediata: string (nullable = true)\n",
      " |-- Mesorregião Geográfica: string (nullable = true)\n",
      " |-- Nome_Mesorregião: string (nullable = true)\n",
      " |-- Microrregião Geográfica: string (nullable = true)\n",
      " |-- Nome_Microrregião: string (nullable = true)\n",
      " |-- Município: string (nullable = true)\n",
      " |-- Código Município Completo: string (nullable = true)\n",
      " |-- Nome_Município: string (nullable = true)\n",
      "\n",
      "5570\n",
      "+---+--------+---------+----------------------+--------------------+-------------+\n",
      "| uf| nome_uf|municipio|cod_municipio_completo|      nome_municipio|cod_municipio|\n",
      "+---+--------+---------+----------------------+--------------------+-------------+\n",
      "| 11|Rondônia|    00015|               1100015|Alta Floresta D'O...|       110001|\n",
      "| 11|Rondônia|    00379|               1100379|Alto Alegre dos P...|       110037|\n",
      "| 11|Rondônia|    00403|               1100403|        Alto Paraíso|       110040|\n",
      "| 11|Rondônia|    00346|               1100346|    Alvorada D'Oeste|       110034|\n",
      "| 11|Rondônia|    00023|               1100023|           Ariquemes|       110002|\n",
      "| 11|Rondônia|    00452|               1100452|             Buritis|       110045|\n",
      "| 11|Rondônia|    00031|               1100031|              Cabixi|       110003|\n",
      "| 11|Rondônia|    00601|               1100601|         Cacaulândia|       110060|\n",
      "| 11|Rondônia|    00049|               1100049|              Cacoal|       110004|\n",
      "| 11|Rondônia|    00700|               1100700|Campo Novo de Ron...|       110070|\n",
      "| 11|Rondônia|    00809|               1100809|  Candeias do Jamari|       110080|\n",
      "| 11|Rondônia|    00908|               1100908|        Castanheiras|       110090|\n",
      "| 11|Rondônia|    00056|               1100056|          Cerejeiras|       110005|\n",
      "| 11|Rondônia|    00924|               1100924|         Chupinguaia|       110092|\n",
      "| 11|Rondônia|    00064|               1100064|   Colorado do Oeste|       110006|\n",
      "| 11|Rondônia|    00072|               1100072|          Corumbiara|       110007|\n",
      "| 11|Rondônia|    00080|               1100080|       Costa Marques|       110008|\n",
      "| 11|Rondônia|    00940|               1100940|             Cujubim|       110094|\n",
      "| 11|Rondônia|    00098|               1100098|     Espigão D'Oeste|       110009|\n",
      "| 11|Rondônia|    01005|               1101005|Governador Jorge ...|       110100|\n",
      "+---+--------+---------+----------------------+--------------------+-------------+\n",
      "only showing top 20 rows\n",
      "\n"
     ]
    }
   ],
   "source": [
    "cidades = spark.read.option(\"header\", True).option(\"sep\", \";\").option(\"encoding\", \"ISO-8859-1\").csv(\"bases finais/municipios/municipios.csv\")\n",
    "\n",
    "cidades.printSchema()\n",
    "\n",
    "cidades = cidades.select(\n",
    "    col(\"UF\").alias(\"uf\"),\n",
    "    col(\"Nome_UF\").alias(\"nome_uf\"),\n",
    "    col(\"Município\").alias(\"municipio\"),\n",
    "    col(\"Código Município Completo\").alias(\"cod_municipio_completo\"),\n",
    "    col(\"Nome_Município\").alias(\"nome_municipio\"),\n",
    "    substring('Código Município Completo', 1,6).alias(\"cod_municipio\")\n",
    ")\n",
    "\n",
    "print(cidades.count())\n",
    "\n",
    "cidades.show()"
   ]
  },
  {
   "cell_type": "code",
   "execution_count": 5,
   "id": "46cb6043-791f-4c71-9220-6bcf80b70171",
   "metadata": {},
   "outputs": [
    {
     "name": "stdout",
     "output_type": "stream",
     "text": [
      "+---+---------+---------+----------------------+-------------------+-------------+\n",
      "| uf|  nome_uf|municipio|cod_municipio_completo|     nome_municipio|cod_municipio|\n",
      "+---+---------+---------+----------------------+-------------------+-------------+\n",
      "| 35|São Paulo|    49904|               3549904|São José dos Campos|       354990|\n",
      "+---+---------+---------+----------------------+-------------------+-------------+\n",
      "\n"
     ]
    }
   ],
   "source": [
    "cidades.filter(\"nome_municipio like '%São José dos Campos%' \").show()"
   ]
  }
 ],
 "metadata": {
  "kernelspec": {
   "display_name": "Python 3 (ipykernel)",
   "language": "python",
   "name": "python3"
  },
  "language_info": {
   "codemirror_mode": {
    "name": "ipython",
    "version": 3
   },
   "file_extension": ".py",
   "mimetype": "text/x-python",
   "name": "python",
   "nbconvert_exporter": "python",
   "pygments_lexer": "ipython3",
   "version": "3.11.4"
  }
 },
 "nbformat": 4,
 "nbformat_minor": 5
}
