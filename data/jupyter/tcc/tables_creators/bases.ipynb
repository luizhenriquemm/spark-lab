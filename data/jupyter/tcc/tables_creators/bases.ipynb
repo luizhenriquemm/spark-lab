{
 "cells": [
  {
   "cell_type": "code",
   "execution_count": 1,
   "id": "2bce1639-5960-40d0-9a71-02df3629a3cd",
   "metadata": {},
   "outputs": [],
   "source": [
    "import pyspark\n",
    "import builtins as b\n",
    "from datetime import datetime, timedelta, date\n",
    "from pyspark.sql import SparkSession\n",
    "from pyspark.sql.types import *\n",
    "from pyspark.sql.functions import *\n",
    "import sys, traceback\n",
    "\n",
    "spark = SparkSession.builder.master(\"local[*]\") \\\n",
    "                    .appName('tcc') \\\n",
    "                    .getOrCreate()\n",
    "\n",
    "import pandas as pd\n",
    "import numpy as np\n",
    "import matplotlib.pyplot as plt"
   ]
  },
  {
   "cell_type": "code",
   "execution_count": 2,
   "id": "6ebf9164-4c18-4a97-896b-39273eeb5053",
   "metadata": {},
   "outputs": [],
   "source": [
    "spark.conf.set(\"spark.sql.sources.partitionOverwriteMode\",\"dynamic\")"
   ]
  },
  {
   "cell_type": "code",
   "execution_count": 3,
   "id": "45f9bd4e-57f6-4cd5-8b99-d1111d2d6d2f",
   "metadata": {},
   "outputs": [
    {
     "name": "stdout",
     "output_type": "stream",
     "text": [
      "root\n",
      " |-- ano_cmpt: string (nullable = true)\n",
      " |-- mes_cmpt: string (nullable = true)\n",
      " |-- cgc_hosp: string (nullable = true)\n",
      " |-- munic_res: string (nullable = true)\n",
      " |-- nasc: date (nullable = true)\n",
      " |-- sexo: string (nullable = true)\n",
      " |-- uti_mes_to: string (nullable = true)\n",
      " |-- uti_int_to: string (nullable = true)\n",
      " |-- proc_rea: string (nullable = true)\n",
      " |-- qt_proc: string (nullable = true)\n",
      " |-- dt_atend: date (nullable = true)\n",
      " |-- dt_saida: date (nullable = true)\n",
      " |-- diag_princ: string (nullable = true)\n",
      " |-- diag_secun: string (nullable = true)\n",
      " |-- cobranca: string (nullable = true)\n",
      " |-- natureza: string (nullable = true)\n",
      " |-- gestao: string (nullable = true)\n",
      " |-- munic_mov: string (nullable = true)\n",
      " |-- cod_idade: string (nullable = true)\n",
      " |-- idade: string (nullable = true)\n",
      " |-- dias_perm: string (nullable = true)\n",
      " |-- morte: string (nullable = true)\n",
      " |-- cnes: string (nullable = true)\n",
      " |-- fonte: string (nullable = true)\n",
      " |-- modalidade: string (nullable = true)\n",
      "\n",
      "+--------+--------+--------------+---------+----------+----+----------+----------+----------+-------+----------+----------+----------+----------+--------+--------+------+---------+---------+-----+---------+-----+-------+-----+----------+\n",
      "|ano_cmpt|mes_cmpt|      cgc_hosp|munic_res|      nasc|sexo|uti_mes_to|uti_int_to|  proc_rea|qt_proc|  dt_atend|  dt_saida|diag_princ|diag_secun|cobranca|natureza|gestao|munic_mov|cod_idade|idade|dias_perm|morte|   cnes|fonte|modalidade|\n",
      "+--------+--------+--------------+---------+----------+----+----------+----------+----------+-------+----------+----------+----------+----------+--------+--------+------+---------+---------+-----+---------+-----+-------+-----+----------+\n",
      "|    2019|      02|60194990000763|   354990|1982-02-17|   3|         0|       000|0411010034|      1|2019-02-26|2019-02-28|      O821|      null|      61|    null|     M|   354990|        4|   37|        2|    0|0009539|   06|        02|\n",
      "|    2019|      02|60194990000763|   354990|1983-12-15|   3|         0|       000|0411010034|      1|2019-02-25|2019-02-27|      O829|      null|      62|    null|     M|   354990|        4|   35|        2|    0|0009539|   02|        02|\n",
      "|    2019|      02|60194990000763|   354990|1988-02-26|   3|         0|       000|0301040001|      1|2019-02-26|2019-02-27|       A09|      null|      12|    null|     M|   354990|        4|   31|        1|    0|0009539|   02|        02|\n",
      "|    2019|      02|60194990000763|   354990|1935-08-25|   1|         0|       002|0301040001|      1|2019-02-26|2019-02-28|      I219|      null|      31|    null|     M|   354990|        4|   83|        2|    0|0009539|   02|        02|\n",
      "|    2019|      02|60194990000763|   354990|1995-02-05|   3|         0|       000|0301040001|      1|2019-02-26|2019-02-27|      Z411|      null|      12|    null|     M|   354990|        4|   24|        1|    0|0009539|   02|        02|\n",
      "|    2019|      02|60194990000763|   354990|1961-10-21|   3|         0|       000|0301040001|      1|2019-02-27|2019-02-27|      N649|      null|      12|    null|     M|   354990|        4|   57|        0|    0|0009539|   02|        02|\n",
      "|    2019|      02|45184066000117|   354990|1968-06-03|   3|         0|       000|0301060070|      1|2019-02-22|2019-02-22|      G560|      null|      11|    null|     M|   354990|        4|   50|        0|    0|3042529|   01|        02|\n",
      "|    2019|      02|45184066000117|   354990|1968-08-14|   1|         0|       000|0301060070|      1|2019-02-22|2019-02-23|      N209|      null|      11|    null|     M|   354990|        4|   50|        1|    0|3042529|   01|        02|\n",
      "|    2019|      02|45184066000389|   354990|1982-05-02|   3|         0|       000|0411010034|      1|2019-02-22|2019-02-24|      O829|      null|      61|    null|     M|   354990|        4|   36|        2|    0|5259789|   01|        02|\n",
      "|    2019|      02|45184066000389|   354990|1987-04-23|   3|         0|       000|0411010034|      1|2019-02-22|2019-02-24|      O829|      null|      61|    null|     M|   354990|        4|   31|        2|    0|5259789|   01|        02|\n",
      "|    2019|      02|45184066000389|   354990|1956-07-22|   3|         0|       000|0301060088|      1|2019-02-23|2019-02-23|      N999|      null|      12|    null|     M|   354990|        4|   62|        0|    0|5259789|   02|        02|\n",
      "|    2019|      02|45184066000389|   354990|1998-07-28|   1|         0|       000|0301060070|      1|2019-02-23|2019-02-23|      J342|      null|      12|    null|     M|   354990|        4|   20|        0|    0|5259789|   01|        02|\n",
      "|    2019|      02|45184066000389|   354990|1987-02-02|   3|         0|       000|0301060070|      1|2019-02-23|2019-02-23|      Z429|      null|      12|    null|     M|   354990|        4|   32|        0|    0|5259789|   02|        02|\n",
      "|    2019|      02|45184066000117|   354990|1969-05-15|   3|         0|       000|0301060088|      1|2019-02-23|2019-02-23|       R53|      null|      11|    null|     M|   354990|        4|   49|        0|    0|3042529|   01|        02|\n",
      "|    2019|      02|45184066000389|   354990|1992-07-17|   3|         0|       000|0411010034|      1|2019-02-25|2019-02-27|      O829|      null|      61|    null|     M|   354990|        4|   26|        2|    0|5259789|   01|        02|\n",
      "|    2019|      02|45184066000117|   354990|1966-04-09|   1|         0|       000|0301060088|      1|2019-02-24|2019-02-26|      V193|      null|      12|    null|     M|   354990|        4|   52|        2|    0|3042529|   01|        02|\n",
      "|    2019|      02|45184066000117|   354990|1985-03-06|   1|         0|       000|0301060070|      1|2019-02-28|2019-02-28|      N209|      null|      11|    null|     M|   354990|        4|   33|        0|    0|3042529|   01|        02|\n",
      "|    2019|      02|45184066000117|   354990|1971-06-29|   3|         0|       000|0301060088|      1|2019-02-25|2019-02-26|      E059|      null|      12|    null|     M|   354990|        4|   47|        1|    0|3042529|   02|        02|\n",
      "|    2019|      02|45184066000389|   354990|1980-04-24|   1|         0|       000|0301060070|      1|2019-02-25|2019-02-25|      Z302|      null|      11|    null|     M|   354990|        4|   38|        0|    0|5259789|   01|        02|\n",
      "|    2019|      02|45184066000389|   354990|1999-12-26|   3|         0|       000|0411010034|      1|2019-02-25|2019-02-27|      O829|      null|      61|    null|     M|   354990|        4|   19|        2|    0|5259789|   01|        02|\n",
      "+--------+--------+--------------+---------+----------+----+----------+----------+----------+-------+----------+----------+----------+----------+--------+--------+------+---------+---------+-----+---------+-----+-------+-----+----------+\n",
      "only showing top 20 rows\n",
      "\n"
     ]
    }
   ],
   "source": [
    "ciha = spark.read.parquet(\"bases finais/ciha/\")\n",
    "\n",
    "ciha = ciha.select(\n",
    "    col(\"ANO_CMPT\").alias(\"ano_cmpt\"),\n",
    "    col(\"MES_CMPT\").alias(\"mes_cmpt\"),\n",
    "    col(\"CGC_HOSP\").alias(\"cgc_hosp\"),\n",
    "    col(\"MUNIC_RES\").alias(\"munic_res\"),\n",
    "    to_date(\"NASC\", \"yyyyMMdd\").alias(\"nasc\"),\n",
    "    col(\"SEXO\").alias(\"sexo\"),\n",
    "    col(\"UTI_MES_TO\").alias(\"uti_mes_to\"),\n",
    "    col(\"UTI_INT_TO\").alias(\"uti_int_to\"),\n",
    "    col(\"PROC_REA\").alias(\"proc_rea\"),\n",
    "    col(\"QT_PROC\").alias(\"qt_proc\"),\n",
    "    to_date(\"DT_ATEND\", \"yyyyMMdd\").alias(\"dt_atend\"),\n",
    "    to_date(\"DT_SAIDA\", \"yyyyMMdd\").alias(\"dt_saida\"),\n",
    "    col(\"DIAG_PRINC\").alias(\"diag_princ\"),\n",
    "    col(\"DIAG_SECUN\").alias(\"diag_secun\"),\n",
    "    col(\"COBRANCA\").alias(\"cobranca\"),\n",
    "    col(\"NATUREZA\").alias(\"natureza\"),\n",
    "    col(\"GESTAO\").alias(\"gestao\"),\n",
    "    col(\"MUNIC_MOV\").alias(\"munic_mov\"),\n",
    "    col(\"COD_IDADE\").alias(\"cod_idade\"),\n",
    "    col(\"IDADE\").alias(\"idade\"),\n",
    "    col(\"DIAS_PERM\").alias(\"dias_perm\"),\n",
    "    col(\"MORTE\").alias(\"morte\"),\n",
    "    col(\"CNES\").alias(\"cnes\"),\n",
    "    col(\"FONTE\").alias(\"fonte\"),\n",
    "    col(\"MODALIDADE\").alias(\"modalidade\")\n",
    ")\n",
    "\n",
    "ciha.printSchema()\n",
    "\n",
    "# print(ciha.count())\n",
    "\n",
    "ciha.show()"
   ]
  },
  {
   "cell_type": "code",
   "execution_count": 5,
   "id": "9bc7b591-bf88-4a3d-bd0f-193ca3103b1c",
   "metadata": {},
   "outputs": [
    {
     "name": "stdout",
     "output_type": "stream",
     "text": [
      "+--------+--------+\n",
      "|ano_cmpt|   count|\n",
      "+--------+--------+\n",
      "|    2011|13455228|\n",
      "|    2012| 7493554|\n",
      "|    2013|13539741|\n",
      "|    2014| 9157732|\n",
      "|    2015| 8976001|\n",
      "|    2016|10116122|\n",
      "|    2017|11664889|\n",
      "|    2018|11277506|\n",
      "|    2019|11150677|\n",
      "|    2020| 8660219|\n",
      "|    2021| 9908547|\n",
      "|    2022|10433583|\n",
      "|    2023| 1438347|\n",
      "+--------+--------+\n",
      "\n"
     ]
    }
   ],
   "source": [
    "ciha.select(\"ano_cmpt\").groupBy(\"ano_cmpt\").count().orderBy(\"ano_cmpt\").show()"
   ]
  },
  {
   "cell_type": "code",
   "execution_count": 6,
   "id": "6afb8045-960f-4850-9d01-80e721ce4077",
   "metadata": {},
   "outputs": [
    {
     "data": {
      "text/plain": [
       "125833799"
      ]
     },
     "execution_count": 6,
     "metadata": {},
     "output_type": "execute_result"
    }
   ],
   "source": [
    "ciha.filter(\"ano_cmpt between 2011 and 2022\").count()"
   ]
  },
  {
   "cell_type": "code",
   "execution_count": 8,
   "id": "a9d4e09c-e4c7-426a-a0c7-4446a76303a5",
   "metadata": {},
   "outputs": [
    {
     "name": "stdout",
     "output_type": "stream",
     "text": [
      "root\n",
      " |-- uf: string (nullable = true)\n",
      " |-- nome_uf: string (nullable = true)\n",
      " |-- municipio: string (nullable = true)\n",
      " |-- cod_municipio_completo: string (nullable = true)\n",
      " |-- nome_municipio: string (nullable = true)\n",
      " |-- cod_municipio: string (nullable = true)\n",
      "\n",
      "5570\n",
      "+---+--------+---------+----------------------+--------------------+-------------+\n",
      "| uf| nome_uf|municipio|cod_municipio_completo|      nome_municipio|cod_municipio|\n",
      "+---+--------+---------+----------------------+--------------------+-------------+\n",
      "| 11|Rondônia|    00015|               1100015|Alta Floresta D'O...|       110001|\n",
      "| 11|Rondônia|    00379|               1100379|Alto Alegre dos P...|       110037|\n",
      "| 11|Rondônia|    00403|               1100403|        Alto Paraíso|       110040|\n",
      "| 11|Rondônia|    00346|               1100346|    Alvorada D'Oeste|       110034|\n",
      "| 11|Rondônia|    00023|               1100023|           Ariquemes|       110002|\n",
      "| 11|Rondônia|    00452|               1100452|             Buritis|       110045|\n",
      "| 11|Rondônia|    00031|               1100031|              Cabixi|       110003|\n",
      "| 11|Rondônia|    00601|               1100601|         Cacaulândia|       110060|\n",
      "| 11|Rondônia|    00049|               1100049|              Cacoal|       110004|\n",
      "| 11|Rondônia|    00700|               1100700|Campo Novo de Ron...|       110070|\n",
      "| 11|Rondônia|    00809|               1100809|  Candeias do Jamari|       110080|\n",
      "| 11|Rondônia|    00908|               1100908|        Castanheiras|       110090|\n",
      "| 11|Rondônia|    00056|               1100056|          Cerejeiras|       110005|\n",
      "| 11|Rondônia|    00924|               1100924|         Chupinguaia|       110092|\n",
      "| 11|Rondônia|    00064|               1100064|   Colorado do Oeste|       110006|\n",
      "| 11|Rondônia|    00072|               1100072|          Corumbiara|       110007|\n",
      "| 11|Rondônia|    00080|               1100080|       Costa Marques|       110008|\n",
      "| 11|Rondônia|    00940|               1100940|             Cujubim|       110094|\n",
      "| 11|Rondônia|    00098|               1100098|     Espigão D'Oeste|       110009|\n",
      "| 11|Rondônia|    01005|               1101005|Governador Jorge ...|       110100|\n",
      "+---+--------+---------+----------------------+--------------------+-------------+\n",
      "only showing top 20 rows\n",
      "\n"
     ]
    }
   ],
   "source": [
    "municipios = spark.read.option(\"header\", True).option(\"sep\", \";\").option(\"encoding\", \"ISO-8859-1\").csv(\"bases finais/municipios/municipios.csv\")\n",
    "\n",
    "municipios = municipios.select(\n",
    "    col(\"UF\").alias(\"uf\"),\n",
    "    col(\"Nome_UF\").alias(\"nome_uf\"),\n",
    "    col(\"Município\").alias(\"municipio\"),\n",
    "    col(\"Código Município Completo\").alias(\"cod_municipio_completo\"),\n",
    "    col(\"Nome_Município\").alias(\"nome_municipio\"),\n",
    "    substring('Código Município Completo', 1,6).alias(\"cod_municipio\")\n",
    ")\n",
    "\n",
    "municipios.printSchema()\n",
    "\n",
    "print(municipios.count())\n",
    "\n",
    "municipios.show()"
   ]
  },
  {
   "cell_type": "code",
   "execution_count": 9,
   "id": "bef55a35-80e9-4aa3-934d-67ae7c10d0bf",
   "metadata": {},
   "outputs": [
    {
     "name": "stdout",
     "output_type": "stream",
     "text": [
      "root\n",
      " |-- cod_uf: string (nullable = true)\n",
      " |-- nome_uf: string (nullable = true)\n",
      " |-- regiao: string (nullable = true)\n",
      " |-- sigla: string (nullable = true)\n",
      "\n",
      "27\n",
      "+------+-------------------+--------+-----+\n",
      "|cod_uf|            nome_uf|  regiao|sigla|\n",
      "+------+-------------------+--------+-----+\n",
      "|    11|           Rondônia|   Norte|   RO|\n",
      "|    12|               Acre|   Norte|   AC|\n",
      "|    13|           Amazonas|   Norte|   AM|\n",
      "|    14|            Roraima|   Norte|   RR|\n",
      "|    15|               Pará|   Norte|   PA|\n",
      "|    16|              Amapá|   Norte|   AP|\n",
      "|    17|          Tocantins|   Norte|   TO|\n",
      "|    21|           Maranhão|Nordeste|   MA|\n",
      "|    22|              Piauí|Nordeste|   PI|\n",
      "|    23|              Ceará|Nordeste|   CE|\n",
      "|    24|Rio Grande do Norte|Nordeste|   RN|\n",
      "|    25|            Paraíba|Nordeste|   PB|\n",
      "|    26|         Pernambuco|Nordeste|   PE|\n",
      "|    27|            Alagoas|Nordeste|   AL|\n",
      "|    28|            Sergipe|Nordeste|   SE|\n",
      "|    29|              Bahia|Nordeste|   BA|\n",
      "|    31|       Minas Gerais| Sudeste|   MG|\n",
      "|    32|     Espírito Santo| Sudeste|   ES|\n",
      "|    33|     Rio de Janeiro| Sudeste|   RJ|\n",
      "|    35|          São Paulo| Sudeste|   SP|\n",
      "+------+-------------------+--------+-----+\n",
      "only showing top 20 rows\n",
      "\n"
     ]
    }
   ],
   "source": [
    "estados = spark.read.option(\"header\", True).option(\"sep\", \";\").option(\"encoding\", \"ISO-8859-1\").csv(\"bases finais/municipios/estados.csv\")\n",
    "\n",
    "estados = estados.select(\n",
    "    col(\"COD_UF\").alias(\"cod_uf\"),\n",
    "    col(\"NOME_UF\").alias(\"nome_uf\"),\n",
    "    col(\"REGIAO\").alias(\"regiao\"),\n",
    "    col(\"SIGLA\").alias(\"sigla\")\n",
    ")\n",
    "\n",
    "estados.printSchema()\n",
    "\n",
    "print(estados.count())\n",
    "\n",
    "estados.show()"
   ]
  },
  {
   "cell_type": "code",
   "execution_count": 10,
   "id": "73f41800-bf25-4dd0-957b-9f7dce2e33dd",
   "metadata": {},
   "outputs": [
    {
     "name": "stdout",
     "output_type": "stream",
     "text": [
      "root\n",
      " |-- cod_municipio: string (nullable = true)\n",
      " |-- idhm_2010: float (nullable = true)\n",
      "\n",
      "5564\n",
      "+-------------+---------+\n",
      "|cod_municipio|idhm_2010|\n",
      "+-------------+---------+\n",
      "|       110001|    0.641|\n",
      "|       110002|    0.702|\n",
      "|       110003|     0.65|\n",
      "|       110004|    0.718|\n",
      "|       110005|    0.692|\n",
      "|       110006|    0.685|\n",
      "|       110007|    0.613|\n",
      "|       110008|    0.611|\n",
      "|       110009|    0.672|\n",
      "|       110010|    0.657|\n",
      "|       110011|    0.689|\n",
      "|       110012|    0.714|\n",
      "|       110013|    0.596|\n",
      "|       110014|    0.643|\n",
      "|       110015|    0.682|\n",
      "|       110018|     0.71|\n",
      "|       110020|    0.736|\n",
      "|       110025|    0.664|\n",
      "|       110026|    0.643|\n",
      "|       110028|      0.7|\n",
      "+-------------+---------+\n",
      "only showing top 20 rows\n",
      "\n"
     ]
    }
   ],
   "source": [
    "idhm = spark.read.option(\"header\", True).option(\"sep\", \",\").csv(\"bases finais/ibge/idhm_2010.csv\")\n",
    "\n",
    "idhm = idhm.select(\n",
    "    col(\"COD_MUNICIPIO\").alias(\"cod_municipio\"),\n",
    "    col(\"IDHM_2010\").cast(\"float\").alias(\"idhm_2010\")\n",
    ")\n",
    "\n",
    "idhm.printSchema()\n",
    "\n",
    "print(idhm.count())\n",
    "\n",
    "idhm.show()"
   ]
  },
  {
   "cell_type": "code",
   "execution_count": 10,
   "id": "7416718d-8960-4234-a109-c910774b7041",
   "metadata": {},
   "outputs": [
    {
     "name": "stdout",
     "output_type": "stream",
     "text": [
      "root\n",
      " |-- cod_municipio: string (nullable = true)\n",
      " |-- populacao_residente: integer (nullable = true)\n",
      " |-- area_unidade_territorial: float (nullable = true)\n",
      "\n",
      "5564\n",
      "+-------------+-------------------+------------------------+\n",
      "|cod_municipio|populacao_residente|area_unidade_territorial|\n",
      "+-------------+-------------------+------------------------+\n",
      "|       110001|              24392|                7067.025|\n",
      "|       110002|              90353|                4426.571|\n",
      "|       110003|               6313|                1314.362|\n",
      "|       110004|              78574|                3792.801|\n",
      "|       110005|              17029|                  2783.3|\n",
      "|       110006|              18591|                1451.061|\n",
      "|       110007|               8783|                3060.321|\n",
      "|       110008|              13678|                4987.177|\n",
      "|       110009|              28729|                4518.034|\n",
      "|       110010|              41656|               24855.725|\n",
      "|       110011|              52005|                2944.128|\n",
      "|       110012|             116610|                6896.738|\n",
      "|       110013|              31135|                8509.314|\n",
      "|       110014|              19874|                1703.008|\n",
      "|       110015|              37928|                 1969.85|\n",
      "|       110018|              33822|                6240.932|\n",
      "|       110020|             428527|               34096.387|\n",
      "|       110025|              22319|                1758.465|\n",
      "|       110026|               3316|                 1717.64|\n",
      "|       110028|              50648|                1457.888|\n",
      "+-------------+-------------------+------------------------+\n",
      "only showing top 20 rows\n",
      "\n"
     ]
    }
   ],
   "source": [
    "ibge = spark.read.option(\"header\", True).option(\"sep\", \",\").csv(\"bases finais/ibge/ibge.csv\")\n",
    "\n",
    "ibge = ibge.select(\n",
    "    col(\"COD_MUNICIPIO\").alias(\"cod_municipio\"),\n",
    "    col(\"POPULACAO_RESIDENTE\").cast(\"integer\").alias(\"populacao_residente\"),\n",
    "    col(\"AREA_UNIDADE_TERRITORIAL\").cast(\"float\").alias(\"area_unidade_territorial\")\n",
    ")\n",
    "\n",
    "ibge.printSchema()\n",
    "\n",
    "print(ibge.count())\n",
    "\n",
    "ibge.show()"
   ]
  },
  {
   "cell_type": "code",
   "execution_count": 7,
   "id": "d5c2da03-49d6-465a-92aa-49ed10126764",
   "metadata": {},
   "outputs": [
    {
     "name": "stdout",
     "output_type": "stream",
     "text": [
      "root\n",
      " |-- data: string (nullable = true)\n",
      " |-- nome: string (nullable = true)\n",
      " |-- tipo: string (nullable = true)\n",
      " |-- descricao: string (nullable = true)\n",
      " |-- uf: string (nullable = true)\n",
      " |-- municipio: string (nullable = true)\n",
      " |-- cod_municipio: string (nullable = true)\n",
      "\n",
      "154378\n",
      "+----------+--------------------+--------+--------------------+---+---------+-------------+\n",
      "|      data|                nome|    tipo|           descricao| uf|municipio|cod_municipio|\n",
      "+----------+--------------------+--------+--------------------+---+---------+-------------+\n",
      "|2015-01-20|     Dia do Católico|ESTADUAL|Dia 20 de janeiro...| AC|     null|         null|\n",
      "|2015-01-23|   Dia do Evangélico|ESTADUAL|Dia 23 de janeiro...| AC|     null|         null|\n",
      "|2015-03-08|       Dia da Mulher|ESTADUAL|Feriado conforme ...| AC|     null|         null|\n",
      "|2015-06-15| Aniversário do Acre|ESTADUAL|De acordo com a L...| AC|     null|         null|\n",
      "|2015-08-06|   Revolução Acreana|ESTADUAL|                null| AC|     null|         null|\n",
      "|2015-09-05|     Dia da Amazônia|ESTADUAL|Conforme a lei Nº...| AC|     null|         null|\n",
      "|2015-06-24|     Dia de São João|ESTADUAL|O mastro de São J...| AL|     null|         null|\n",
      "|2015-06-29|    Dia de São Pedro|ESTADUAL|São Pedro foi um ...| AL|     null|         null|\n",
      "|2015-09-16|Emancipação de Al...|ESTADUAL|Comemoração da em...| AL|     null|         null|\n",
      "|2015-11-20|Dia da Consciênci...|ESTADUAL|O Dia Nacional da...| AL|     null|         null|\n",
      "|2015-11-30|   Dia do Evangélico|ESTADUAL|Dia do evangélico...| AL|     null|         null|\n",
      "|2015-09-05|Aniversário do Am...|ESTADUAL|Dia da elevação d...| AM|     null|         null|\n",
      "|2015-11-20|Dia da Consciênci...|ESTADUAL|O Dia Nacional da...| AM|     null|         null|\n",
      "|2015-12-08|Dia de Nossa Senh...|ESTADUAL|                null| AM|     null|         null|\n",
      "|2015-03-19|     Dia de São José|ESTADUAL|São José é o sant...| AP|     null|         null|\n",
      "|2015-05-15|  Dia de Cabralzinho|ESTADUAL|Homenagem a Franc...| AP|     null|         null|\n",
      "|2015-07-25|    Dia de São Tiago|ESTADUAL|De acordo com a L...| AP|     null|         null|\n",
      "|2015-09-13|Aniversário da cr...|ESTADUAL|Dia da criação do...| AP|     null|         null|\n",
      "|2015-11-20|Dia da Consciênci...|ESTADUAL|De acordo com a L...| AP|     null|         null|\n",
      "|2015-11-30|   Dia do Evangélico|ESTADUAL|Dia 30 de Novembr...| AP|     null|         null|\n",
      "+----------+--------------------+--------+--------------------+---+---------+-------------+\n",
      "only showing top 20 rows\n",
      "\n"
     ]
    }
   ],
   "source": [
    "feriados = spark.read.option(\"header\", True).option(\"sep\", \";\").option(\"encoding\", \"ISO-8859-1\").csv(\"bases finais/feriados/\")\n",
    "\n",
    "feriados.printSchema()\n",
    "\n",
    "print(feriados.count())\n",
    "\n",
    "feriados.show()"
   ]
  },
  {
   "cell_type": "code",
   "execution_count": 8,
   "id": "69b6177b-1f30-4134-9fa2-690dc632e622",
   "metadata": {},
   "outputs": [],
   "source": [
    "feriados_prep = feriados.withColumn(\"facultativo\", when(col(\"tipo\") == lit(\"FACULTATIVO\"), lit(True)).otherwise(lit(False))).groupBy(\n",
    "    col(\"data\")\n",
    ").agg(\n",
    "    collect_list(\n",
    "        struct(\n",
    "            \"data\",\n",
    "            \"nome\",\n",
    "            \"tipo\",\n",
    "            \"descricao\",\n",
    "            \"uf\",\n",
    "            \"municipio\",\n",
    "            \"cod_municipio\"\n",
    "        )\n",
    "    ).alias(\"itens\")\n",
    ").rdd.map(lambda x: x.asDict()).collect()\n",
    "\n",
    "feriados_prep = {\n",
    "    x[\"data\"]: [y.asDict() for y in x[\"itens\"]]\n",
    "    for x in feriados_prep\n",
    "}\n",
    "\n",
    "sorted_keys = list(feriados_prep.keys())\n",
    "sorted_keys.sort()\n",
    "\n",
    "feriados_prep = {\n",
    "    k: feriados_prep[k]\n",
    "    for k in sorted_keys\n",
    "}"
   ]
  },
  {
   "cell_type": "code",
   "execution_count": 9,
   "id": "60ce7f16-5328-4b3b-ac77-a00f241b7cb1",
   "metadata": {},
   "outputs": [],
   "source": [
    "def checa_feriados(data, cod_municipio=None, uf_estado=None):\n",
    "    feriados_possiveis = []\n",
    "    erro = \"\"\n",
    "\n",
    "    try:\n",
    "        if data in feriados_prep.keys():\n",
    "            for feriado in feriados_prep[data]:\n",
    "                if feriado[\"tipo\"] in [\"NACIONAL\", \"FACULTATIVO\"]:\n",
    "                    feriados_possiveis.append(feriado)\n",
    "                elif feriado[\"tipo\"] in [\"ESTADUAL\"]:\n",
    "                    if uf_estado is not None and feriado[\"uf\"] == uf_estado:\n",
    "                        feriados_possiveis.append(feriado)\n",
    "                elif feriado[\"tipo\"] in [\"MUNICIPAL\"]:\n",
    "                    if cod_municipio is not None and feriado[\"cod_municipio\"] == cod_municipio:\n",
    "                        feriados_possiveis.append(feriado)\n",
    "            \n",
    "            feriado = True\n",
    "            dist_feriado = 0\n",
    "            \n",
    "        if len(feriados_possiveis) == 0:\n",
    "            feriado_info = None\n",
    "            feriado = False\n",
    "            \n",
    "            mais_prox = \"\"\n",
    "            dist_prox = 999\n",
    "            for data_feriado in feriados_prep:\n",
    "                data_obj = datetime.strptime(str(data), \"%Y-%m-%d\").date()\n",
    "                feriado_obj = datetime.strptime(data_feriado, \"%Y-%m-%d\").date()\n",
    "                d = b.abs((data_obj - feriado_obj).days)\n",
    "                \n",
    "                \n",
    "                if d < dist_prox:\n",
    "                    checked = False\n",
    "                    for check_feriado in feriados_prep[data_feriado]:\n",
    "                        if ((check_feriado[\"tipo\"] in [\"NACIONAL\", \"FACULTATIVO\"])\n",
    "                            or (check_feriado[\"tipo\"] == \"ESTADUAL\" and check_feriado[\"uf\"] == uf_estado)\n",
    "                            or (check_feriado[\"tipo\"] == \"MUNICIPAL\" and check_feriado[\"cod_municipio\"] == cod_municipio)):\n",
    "                            checked = True\n",
    "                    if checked:\n",
    "                        dist_prox = d\n",
    "                        mais_prox = feriado\n",
    "                        feriado_info = list(b.filter(None, [\n",
    "                            x if ((x[\"tipo\"] in [\"NACIONAL\", \"FACULTATIVO\"])\n",
    "                                or (x[\"tipo\"] == \"ESTADUAL\" and x[\"uf\"] == uf_estado)\n",
    "                                or (x[\"tipo\"] == \"MUNICIPAL\" and x[\"cod_municipio\"] == cod_municipio))\n",
    "                            else None\n",
    "                            for x in feriados_prep[data_feriado]\n",
    "                        ]))\n",
    "            \n",
    "            dist_feriado = dist_prox \n",
    "            feriados_possiveis += feriado_info\n",
    "            \n",
    "    except Exception as e:\n",
    "        ex_type, ex, tb = sys.exc_info()\n",
    "        feriado = None\n",
    "        dist_feriado = None\n",
    "        feriados_possiveis = None\n",
    "        erro = str(traceback.extract_tb(tb)) + \" / \" + str(e)\n",
    "\n",
    "    return {\n",
    "        \"feriado\": feriado,\n",
    "        \"distancia_feriado\": dist_feriado,\n",
    "        \"feriado_info\": feriados_possiveis,\n",
    "        \"erro\": erro\n",
    "    }\n",
    "\n",
    "udf_checa_feriados = udf(checa_feriados, StructType([\n",
    "    StructField(\"feriado\", StringType(), True),\n",
    "    StructField(\"distancia_feriado\", IntegerType(), True),\n",
    "    StructField(\"feriado_info\", ArrayType(StructType([\n",
    "        StructField(\"data\", StringType(), True),\n",
    "        StructField(\"nome\", StringType(), True),\n",
    "        StructField(\"tipo\", StringType(), True),\n",
    "        StructField(\"descricao\", StringType(), True),\n",
    "        StructField(\"uf\", StringType(), True),\n",
    "        StructField(\"municipio\", StringType(), True),\n",
    "        StructField(\"cod_municipio\", StringType(), True)\n",
    "    ])), True),\n",
    "    StructField(\"erro\", StringType(), True)\n",
    "]))"
   ]
  },
  {
   "cell_type": "code",
   "execution_count": 12,
   "id": "d537104c-58ca-4704-a30c-dda02fafbe89",
   "metadata": {},
   "outputs": [
    {
     "name": "stdout",
     "output_type": "stream",
     "text": [
      "+--------+--------+--------------+---------+----------+----+----------+----------+----------+-------+----------+----------+----------+----------+--------+--------+------+---------+---------+-----+---------+-----+-------+-----+----------+---------+-------------------+-----+-------+-----+-------------------+------------------------+\n",
      "|ano_cmpt|mes_cmpt|      cgc_hosp|munic_res|      nasc|sexo|uti_mes_to|uti_int_to|  proc_rea|qt_proc|  dt_atend|  dt_saida|diag_princ|diag_secun|cobranca|natureza|gestao|munic_mov|cod_idade|idade|dias_perm|morte|   cnes|fonte|modalidade|  nome_uf|     nome_municipio|sigla| regiao| idhm|populacao_residente|area_unidade_territorial|\n",
      "+--------+--------+--------------+---------+----------+----+----------+----------+----------+-------+----------+----------+----------+----------+--------+--------+------+---------+---------+-----+---------+-----+-------+-----+----------+---------+-------------------+-----+-------+-----+-------------------+------------------------+\n",
      "|    2019|      02|60194990000763|   354990|1982-02-17|   3|         0|       000|0411010034|      1|2019-02-26|2019-02-28|      O821|      null|      61|    null|     M|   354990|        4|   37|        2|    0|0009539|   06|        02|São Paulo|São José dos Campos|   SP|Sudeste|0.807|             629921|                1099.409|\n",
      "|    2019|      02|60194990000763|   354990|1983-12-15|   3|         0|       000|0411010034|      1|2019-02-25|2019-02-27|      O829|      null|      62|    null|     M|   354990|        4|   35|        2|    0|0009539|   02|        02|São Paulo|São José dos Campos|   SP|Sudeste|0.807|             629921|                1099.409|\n",
      "|    2019|      02|60194990000763|   354990|1988-02-26|   3|         0|       000|0301040001|      1|2019-02-26|2019-02-27|       A09|      null|      12|    null|     M|   354990|        4|   31|        1|    0|0009539|   02|        02|São Paulo|São José dos Campos|   SP|Sudeste|0.807|             629921|                1099.409|\n",
      "|    2019|      02|60194990000763|   354990|1935-08-25|   1|         0|       002|0301040001|      1|2019-02-26|2019-02-28|      I219|      null|      31|    null|     M|   354990|        4|   83|        2|    0|0009539|   02|        02|São Paulo|São José dos Campos|   SP|Sudeste|0.807|             629921|                1099.409|\n",
      "|    2019|      02|60194990000763|   354990|1995-02-05|   3|         0|       000|0301040001|      1|2019-02-26|2019-02-27|      Z411|      null|      12|    null|     M|   354990|        4|   24|        1|    0|0009539|   02|        02|São Paulo|São José dos Campos|   SP|Sudeste|0.807|             629921|                1099.409|\n",
      "|    2019|      02|60194990000763|   354990|1961-10-21|   3|         0|       000|0301040001|      1|2019-02-27|2019-02-27|      N649|      null|      12|    null|     M|   354990|        4|   57|        0|    0|0009539|   02|        02|São Paulo|São José dos Campos|   SP|Sudeste|0.807|             629921|                1099.409|\n",
      "|    2019|      02|45184066000117|   354990|1968-06-03|   3|         0|       000|0301060070|      1|2019-02-22|2019-02-22|      G560|      null|      11|    null|     M|   354990|        4|   50|        0|    0|3042529|   01|        02|São Paulo|São José dos Campos|   SP|Sudeste|0.807|             629921|                1099.409|\n",
      "|    2019|      02|45184066000117|   354990|1968-08-14|   1|         0|       000|0301060070|      1|2019-02-22|2019-02-23|      N209|      null|      11|    null|     M|   354990|        4|   50|        1|    0|3042529|   01|        02|São Paulo|São José dos Campos|   SP|Sudeste|0.807|             629921|                1099.409|\n",
      "|    2019|      02|45184066000389|   354990|1982-05-02|   3|         0|       000|0411010034|      1|2019-02-22|2019-02-24|      O829|      null|      61|    null|     M|   354990|        4|   36|        2|    0|5259789|   01|        02|São Paulo|São José dos Campos|   SP|Sudeste|0.807|             629921|                1099.409|\n",
      "|    2019|      02|45184066000389|   354990|1987-04-23|   3|         0|       000|0411010034|      1|2019-02-22|2019-02-24|      O829|      null|      61|    null|     M|   354990|        4|   31|        2|    0|5259789|   01|        02|São Paulo|São José dos Campos|   SP|Sudeste|0.807|             629921|                1099.409|\n",
      "|    2019|      02|45184066000389|   354990|1956-07-22|   3|         0|       000|0301060088|      1|2019-02-23|2019-02-23|      N999|      null|      12|    null|     M|   354990|        4|   62|        0|    0|5259789|   02|        02|São Paulo|São José dos Campos|   SP|Sudeste|0.807|             629921|                1099.409|\n",
      "|    2019|      02|45184066000389|   354990|1998-07-28|   1|         0|       000|0301060070|      1|2019-02-23|2019-02-23|      J342|      null|      12|    null|     M|   354990|        4|   20|        0|    0|5259789|   01|        02|São Paulo|São José dos Campos|   SP|Sudeste|0.807|             629921|                1099.409|\n",
      "|    2019|      02|45184066000389|   354990|1987-02-02|   3|         0|       000|0301060070|      1|2019-02-23|2019-02-23|      Z429|      null|      12|    null|     M|   354990|        4|   32|        0|    0|5259789|   02|        02|São Paulo|São José dos Campos|   SP|Sudeste|0.807|             629921|                1099.409|\n",
      "|    2019|      02|45184066000117|   354990|1969-05-15|   3|         0|       000|0301060088|      1|2019-02-23|2019-02-23|       R53|      null|      11|    null|     M|   354990|        4|   49|        0|    0|3042529|   01|        02|São Paulo|São José dos Campos|   SP|Sudeste|0.807|             629921|                1099.409|\n",
      "|    2019|      02|45184066000389|   354990|1992-07-17|   3|         0|       000|0411010034|      1|2019-02-25|2019-02-27|      O829|      null|      61|    null|     M|   354990|        4|   26|        2|    0|5259789|   01|        02|São Paulo|São José dos Campos|   SP|Sudeste|0.807|             629921|                1099.409|\n",
      "|    2019|      02|45184066000117|   354990|1966-04-09|   1|         0|       000|0301060088|      1|2019-02-24|2019-02-26|      V193|      null|      12|    null|     M|   354990|        4|   52|        2|    0|3042529|   01|        02|São Paulo|São José dos Campos|   SP|Sudeste|0.807|             629921|                1099.409|\n",
      "|    2019|      02|45184066000117|   354990|1985-03-06|   1|         0|       000|0301060070|      1|2019-02-28|2019-02-28|      N209|      null|      11|    null|     M|   354990|        4|   33|        0|    0|3042529|   01|        02|São Paulo|São José dos Campos|   SP|Sudeste|0.807|             629921|                1099.409|\n",
      "|    2019|      02|45184066000117|   354990|1971-06-29|   3|         0|       000|0301060088|      1|2019-02-25|2019-02-26|      E059|      null|      12|    null|     M|   354990|        4|   47|        1|    0|3042529|   02|        02|São Paulo|São José dos Campos|   SP|Sudeste|0.807|             629921|                1099.409|\n",
      "|    2019|      02|45184066000389|   354990|1980-04-24|   1|         0|       000|0301060070|      1|2019-02-25|2019-02-25|      Z302|      null|      11|    null|     M|   354990|        4|   38|        0|    0|5259789|   01|        02|São Paulo|São José dos Campos|   SP|Sudeste|0.807|             629921|                1099.409|\n",
      "|    2019|      02|45184066000389|   354990|1999-12-26|   3|         0|       000|0411010034|      1|2019-02-25|2019-02-27|      O829|      null|      61|    null|     M|   354990|        4|   19|        2|    0|5259789|   01|        02|São Paulo|São José dos Campos|   SP|Sudeste|0.807|             629921|                1099.409|\n",
      "+--------+--------+--------------+---------+----------+----+----------+----------+----------+-------+----------+----------+----------+----------+--------+--------+------+---------+---------+-----+---------+-----+-------+-----+----------+---------+-------------------+-----+-------+-----+-------------------+------------------------+\n",
      "only showing top 20 rows\n",
      "\n"
     ]
    }
   ],
   "source": [
    "prefinal = (ciha.alias(\"ciha\")\n",
    "            .join(municipios.alias(\"mun\"), col(\"ciha.munic_res\") == col(\"mun.cod_municipio\"), \"left\")\n",
    "            .join(estados.alias(\"est\"), col(\"mun.uf\") == col(\"est.cod_uf\"), \"left\")\n",
    "            .join(idhm.alias(\"idhm\"), col(\"ciha.munic_res\") == col(\"idhm.cod_municipio\"), \"left\")\n",
    "            .join(ibge.alias(\"ibge\"), col(\"ciha.munic_res\") == col(\"ibge.cod_municipio\"), \"left\")\n",
    "\n",
    "            .select(\n",
    "                col(\"ciha.*\"),\n",
    "                col(\"mun.nome_uf\"),\n",
    "                col(\"mun.nome_municipio\"),\n",
    "                col(\"est.sigla\"),\n",
    "                col(\"est.regiao\"),\n",
    "                col(\"idhm.idhm_2010\").alias(\"idhm\"),\n",
    "                col(\"ibge.populacao_residente\"),\n",
    "                col(\"ibge.area_unidade_territorial\")\n",
    "            )\n",
    "           \n",
    "           )\n",
    "\n",
    "prefinal.show()"
   ]
  },
  {
   "cell_type": "code",
   "execution_count": 16,
   "id": "92f08afe-9368-4988-93b4-afba2fc3f522",
   "metadata": {},
   "outputs": [
    {
     "data": {
      "text/plain": [
       "127272146"
      ]
     },
     "execution_count": 16,
     "metadata": {},
     "output_type": "execute_result"
    }
   ],
   "source": [
    "prefinal.select(\"dt_atend\", \"sigla\", \"munic_res\").count()"
   ]
  },
  {
   "cell_type": "code",
   "execution_count": 17,
   "id": "f659fcd3-3ec2-49fd-82be-4a915ef25768",
   "metadata": {},
   "outputs": [
    {
     "data": {
      "text/plain": [
       "1694708"
      ]
     },
     "execution_count": 17,
     "metadata": {},
     "output_type": "execute_result"
    }
   ],
   "source": [
    "prefinal.select(\"dt_atend\", \"munic_res\", \"sigla\").distinct().count()"
   ]
  },
  {
   "cell_type": "code",
   "execution_count": 23,
   "id": "26edb11d-ddc7-46a9-bd0c-721af8acf414",
   "metadata": {},
   "outputs": [],
   "source": [
    "preferiado = prefinal.select(\"dt_atend\", \"munic_res\", \"sigla\").distinct()\n",
    "preferiado.write.mode(\"overwrite\").parquet(\"bases temp/preferiado/\")"
   ]
  },
  {
   "cell_type": "code",
   "execution_count": 13,
   "id": "2b25dd95-9bce-41a7-abe8-8e660231fd46",
   "metadata": {},
   "outputs": [],
   "source": [
    "preferiado_partitionated = spark.read.parquet(\"bases temp/preferiado/\")\n",
    "preferiado_partitionated.write.partitionBy(\"sigla\").mode(\"overwrite\").parquet(\"bases temp/preferiado_partitionated/\")"
   ]
  },
  {
   "cell_type": "code",
   "execution_count": 15,
   "id": "da2e89bc-1266-48de-a44d-76508e3dd3bb",
   "metadata": {},
   "outputs": [
    {
     "name": "stdout",
     "output_type": "stream",
     "text": [
      "+-----+------+\n",
      "|sigla| count|\n",
      "+-----+------+\n",
      "|   SC| 84543|\n",
      "|   RO|  5791|\n",
      "|   PI|  8739|\n",
      "|   GO| 29475|\n",
      "| null| 86015|\n",
      "|   TO|   706|\n",
      "|   MT| 28529|\n",
      "|   SP|608758|\n",
      "|   ES| 45812|\n",
      "|   PB| 11458|\n",
      "|   RS|171508|\n",
      "|   MS| 30015|\n",
      "|   AL| 19926|\n",
      "|   MG|259669|\n",
      "|   PA| 34438|\n",
      "|   BA| 31469|\n",
      "|   SE|  8882|\n",
      "|   PE| 22223|\n",
      "|   CE| 48754|\n",
      "|   RN|  8007|\n",
      "+-----+------+\n",
      "only showing top 20 rows\n",
      "\n"
     ]
    }
   ],
   "source": [
    "preferiado_partitionated.groupBy(\"sigla\").count().show()"
   ]
  },
  {
   "cell_type": "code",
   "execution_count": 32,
   "id": "3fbf4c16-5adb-401a-8b26-0257fe6e3f0f",
   "metadata": {},
   "outputs": [],
   "source": [
    "# withferiado = spark.read.parquet(\"bases temp/preferiado_partitionated/\").filter(f\"sigla is null\").withColumn(\"feriado\", udf_checa_feriados(col(\"dt_atend\"), col(\"munic_res\"), col(\"sigla\")))\n",
    "# withferiado.write.partitionBy(\"sigla\").mode(\"overwrite\").parquet(\"bases temp/withferiado/\")"
   ]
  },
  {
   "cell_type": "code",
   "execution_count": 13,
   "id": "287b7b9a-66f5-4321-a85c-2b71a10f14b1",
   "metadata": {},
   "outputs": [
    {
     "name": "stdout",
     "output_type": "stream",
     "text": [
      "+----------+---------+--------------------------------------------------------------------------------------------------------------------------------------------------------------------------------------------------------------------------------------------------------------------------------------------------------------------------------------------------------------------------------------------------------------------+-----+\n",
      "|dt_atend  |munic_res|feriado                                                                                                                                                                                                                                                                                                                                                                                                             |sigla|\n",
      "+----------+---------+--------------------------------------------------------------------------------------------------------------------------------------------------------------------------------------------------------------------------------------------------------------------------------------------------------------------------------------------------------------------------------------------------------------------+-----+\n",
      "|2019-02-22|350850   |{false, 6, [{2019-02-28, Facultativo, FACULTATIVO, aniversário de morte de José Pedro Dias, fundador de Juara, null, null, null}], }                                                                                                                                                                                                                                                                                |SP   |\n",
      "|2019-02-08|352050   |{false, 6, [{2019-02-02, Feriado Municipal, MUNICIPAL, null, SP, Indaiatuba, 352050}], }                                                                                                                                                                                                                                                                                                                            |SP   |\n",
      "|2019-02-08|350790   |{false, 20, [{2019-02-28, Facultativo, FACULTATIVO, aniversário de morte de José Pedro Dias, fundador de Juara, null, null, null}], }                                                                                                                                                                                                                                                                               |SP   |\n",
      "|2019-02-19|350880   |{false, 9, [{2019-02-28, Facultativo, FACULTATIVO, aniversário de morte de José Pedro Dias, fundador de Juara, null, null, null}], }                                                                                                                                                                                                                                                                                |SP   |\n",
      "|2019-01-31|354020   |{false, 17, [{2019-01-14, Véspera de feriado, FACULTATIVO, Véspera do aniversário da cidade (Ponto Facultativo a Compensar), null, null, null}, {2019-01-14, Ponto Facultativo, FACULTATIVO, null, null, null, null}], }                                                                                                                                                                                            |SP   |\n",
      "|2019-02-14|350610   |{false, 14, [{2019-02-28, Facultativo, FACULTATIVO, aniversário de morte de José Pedro Dias, fundador de Juara, null, null, null}], }                                                                                                                                                                                                                                                                               |SP   |\n",
      "|2019-02-01|355030   |{false, 7, [{2019-01-25, Aniversário da Cidade, MUNICIPAL, conforme Lei nº 14.485 de 19 de julho de 2007, SP, São Paulo, 355030}], }                                                                                                                                                                                                                                                                                |SP   |\n",
      "|2019-02-25|353130   |{false, 3, [{2019-02-28, Facultativo, FACULTATIVO, aniversário de morte de José Pedro Dias, fundador de Juara, null, null, null}], }                                                                                                                                                                                                                                                                                |SP   |\n",
      "|2019-02-09|354060   |{false, 19, [{2019-02-28, Facultativo, FACULTATIVO, aniversário de morte de José Pedro Dias, fundador de Juara, null, null, null}], }                                                                                                                                                                                                                                                                               |SP   |\n",
      "|2019-01-29|351440   |{false, 15, [{2019-01-14, Véspera de feriado, FACULTATIVO, Véspera do aniversário da cidade (Ponto Facultativo a Compensar), null, null, null}, {2019-01-14, Ponto Facultativo, FACULTATIVO, null, null, null, null}], }                                                                                                                                                                                            |SP   |\n",
      "|2019-02-08|351518   |{false, 20, [{2019-02-28, Facultativo, FACULTATIVO, aniversário de morte de José Pedro Dias, fundador de Juara, null, null, null}], }                                                                                                                                                                                                                                                                               |SP   |\n",
      "|2019-02-12|354890   |{false, 16, [{2019-02-28, Facultativo, FACULTATIVO, aniversário de morte de José Pedro Dias, fundador de Juara, null, null, null}], }                                                                                                                                                                                                                                                                               |SP   |\n",
      "|2019-02-05|354640   |{false, 16, [{2019-01-20, Feriado Municipal, MUNICIPAL, null, SP, Santa Cruz do Rio Pardo, 354640}], }                                                                                                                                                                                                                                                                                                              |SP   |\n",
      "|2019-02-25|354660   |{false, 3, [{2019-02-28, Facultativo, FACULTATIVO, aniversário de morte de José Pedro Dias, fundador de Juara, null, null, null}], }                                                                                                                                                                                                                                                                                |SP   |\n",
      "|2019-02-06|352800   |{false, 22, [{2019-02-28, Facultativo, FACULTATIVO, aniversário de morte de José Pedro Dias, fundador de Juara, null, null, null}], }                                                                                                                                                                                                                                                                               |SP   |\n",
      "|2019-01-16|352440   |{false, 2, [{2019-01-14, Véspera de feriado, FACULTATIVO, Véspera do aniversário da cidade (Ponto Facultativo a Compensar), null, null, null}, {2019-01-14, Ponto Facultativo, FACULTATIVO, null, null, null, null}], }                                                                                                                                                                                             |SP   |\n",
      "|2019-02-26|353790   |{false, 2, [{2019-02-28, Facultativo, FACULTATIVO, aniversário de morte de José Pedro Dias, fundador de Juara, null, null, null}], }                                                                                                                                                                                                                                                                                |SP   |\n",
      "|2018-10-29|355030   |{false, 1, [{2018-10-28, Dia do Servidor Público, FACULTATIVO, O dia do servidor público é feriado apenas para funcionários públicos., null, null, null}, {2018-10-28, Servidor público, FACULTATIVO, Ponto facultativo, Dia do Servidor Público, null, null, null}, {2018-10-28, Ponto Facultativo Municipal, FACULTATIVO, Dia do Servidor Público - art. 249 da Lei Municipal nº 2.215/1991, null, null, null}], }|SP   |\n",
      "|2019-02-09|355090   |{false, 19, [{2019-02-28, Facultativo, FACULTATIVO, aniversário de morte de José Pedro Dias, fundador de Juara, null, null, null}], }                                                                                                                                                                                                                                                                               |SP   |\n",
      "|2019-02-24|355270   |{false, 4, [{2019-02-28, Facultativo, FACULTATIVO, aniversário de morte de José Pedro Dias, fundador de Juara, null, null, null}], }                                                                                                                                                                                                                                                                                |SP   |\n",
      "+----------+---------+--------------------------------------------------------------------------------------------------------------------------------------------------------------------------------------------------------------------------------------------------------------------------------------------------------------------------------------------------------------------------------------------------------------------+-----+\n",
      "only showing top 20 rows\n",
      "\n"
     ]
    }
   ],
   "source": [
    "feriado_done = spark.read.parquet(\"bases temp/withferiado/\")\n",
    "feriado_done.show(truncate = False)"
   ]
  },
  {
   "cell_type": "code",
   "execution_count": 12,
   "id": "7d8219ac-fc30-4402-af77-adab01f8ed37",
   "metadata": {},
   "outputs": [
    {
     "name": "stdout",
     "output_type": "stream",
     "text": [
      "root\n",
      " |-- dt_atend: date (nullable = true)\n",
      " |-- munic_res: string (nullable = true)\n",
      " |-- feriado: struct (nullable = true)\n",
      " |    |-- feriado: string (nullable = true)\n",
      " |    |-- distancia_feriado: integer (nullable = true)\n",
      " |    |-- feriado_info: array (nullable = true)\n",
      " |    |    |-- element: struct (containsNull = true)\n",
      " |    |    |    |-- data: string (nullable = true)\n",
      " |    |    |    |-- nome: string (nullable = true)\n",
      " |    |    |    |-- tipo: string (nullable = true)\n",
      " |    |    |    |-- descricao: string (nullable = true)\n",
      " |    |    |    |-- uf: string (nullable = true)\n",
      " |    |    |    |-- municipio: string (nullable = true)\n",
      " |    |    |    |-- cod_municipio: string (nullable = true)\n",
      " |    |-- erro: string (nullable = true)\n",
      " |-- sigla: string (nullable = true)\n",
      "\n"
     ]
    }
   ],
   "source": [
    "feriado_done.printSchema()"
   ]
  },
  {
   "cell_type": "code",
   "execution_count": 16,
   "id": "43aaac36-39b3-4ee4-8a07-7f0cc0c1cac9",
   "metadata": {},
   "outputs": [
    {
     "data": {
      "text/plain": [
       "1544717"
      ]
     },
     "execution_count": 16,
     "metadata": {},
     "output_type": "execute_result"
    }
   ],
   "source": [
    "feriado_done.count()"
   ]
  },
  {
   "cell_type": "code",
   "execution_count": 14,
   "id": "e9e0f84b-c392-4f77-814d-60242e417cf8",
   "metadata": {},
   "outputs": [],
   "source": [
    "cid10 = spark.read.option(\"header\", True).option(\"sep\", \";\").option(\"encoding\", \"ISO-8859-1\").csv(\"bases finais/cid10/CID-10-SUBCATEGORIAS.CSV\")\n",
    "\n",
    "cid10 = cid10.select(\n",
    "    col(\"SUBCAT\").alias(\"sub_cat\"),\n",
    "    col(\"CLASSIF\").alias(\"classificacao\"),\n",
    "    col(\"RESTRSEXO\").alias(\"restr_sexo\"),\n",
    "    col(\"CAUSAOBITO\").alias(\"causa_obito\"),\n",
    "    col(\"DESCRICAO\").alias(\"descricao\"),\n",
    "    col(\"DESCRABREV\").alias(\"desc_abrev\"),\n",
    "    col(\"REFER\").alias(\"refer\"),\n",
    "    col(\"EXCLUIDOS\").alias(\"excluidos\")\n",
    ")"
   ]
  },
  {
   "cell_type": "code",
   "execution_count": 17,
   "id": "4f7be28b-834c-4d20-8788-ac95fe668c1f",
   "metadata": {},
   "outputs": [
    {
     "name": "stdout",
     "output_type": "stream",
     "text": [
      "+-------+-------------+----------+-----------+----------------------------------------------------+-------------------------------------------------+-----+---------+\n",
      "|sub_cat|classificacao|restr_sexo|causa_obito|descricao                                           |desc_abrev                                       |refer|excluidos|\n",
      "+-------+-------------+----------+-----------+----------------------------------------------------+-------------------------------------------------+-----+---------+\n",
      "|A000   |null         |null      |null       |Cólera devida a Vibrio cholerae 01, biótipo cholerae|A00.0 Colera dev Vibrio cholerae 01 biot cholerae|null |null     |\n",
      "|A001   |null         |null      |null       |Cólera devida a Vibrio cholerae 01, biótipo El Tor  |A00.1 Colera dev Vibrio cholerae 01 biot El Tor  |null |null     |\n",
      "|A009   |null         |null      |null       |Cólera não especificada                             |A00.9 Colera NE                                  |null |null     |\n",
      "|A010   |null         |null      |null       |Febre tifóide                                       |A01.0 Febre tifoide                              |null |null     |\n",
      "|A011   |null         |null      |null       |Febre paratifóide A                                 |A01.1 Febre paratifoide A                        |null |null     |\n",
      "|A012   |null         |null      |null       |Febre paratifóide B                                 |A01.2 Febre paratifoide B                        |null |null     |\n",
      "|A013   |null         |null      |null       |Febre paratifóide C                                 |A01.3 Febre paratifoide C                        |null |null     |\n",
      "|A014   |null         |null      |null       |Febre paratifóide não especificada                  |A01.4 Febre paratifoide NE                       |null |null     |\n",
      "|A020   |null         |null      |null       |Enterite por salmonela                              |A02.0 Enterite p/salmonela                       |null |null     |\n",
      "|A021   |null         |null      |null       |Septicemia por salmonela                            |A02.1 Septicemia p/salmonela                     |null |null     |\n",
      "|A022   |null         |null      |null       |Infecções localizadas por salmonela                 |A02.2 Infecc localizadas p/salmonela             |null |null     |\n",
      "|A028   |null         |null      |null       |Outras infecções especificadas por salmonela        |A02.8 Outr infecc espec p/salmonela              |null |null     |\n",
      "|A029   |null         |null      |null       |Infecção não especificada por salmonela             |A02.9 Infecc NE p/salmonela                      |null |null     |\n",
      "|A030   |null         |null      |null       |Shiguelose devida a Shigella dysenteriae            |A03.0 Shiguelose dev Shigella dysenteriae        |null |null     |\n",
      "|A031   |null         |null      |null       |Shiguelose devida a Shigella flexneri               |A03.1 Shiguelose dev Shigella flexneri           |null |null     |\n",
      "|A032   |null         |null      |null       |Shiguelose devida a Shigella boydii                 |A03.2 Shiguelose dev Shigella boydii             |null |null     |\n",
      "|A033   |null         |null      |null       |Shiguelose devida a Shigella sonnei                 |A03.3 Shiguelose dev Shigella sonnei             |null |null     |\n",
      "|A038   |null         |null      |null       |Outras shigueloses                                  |A03.8 Outr shigueloses                           |null |null     |\n",
      "|A039   |null         |null      |null       |Shiguelose não especificada                         |A03.9 Shiguelose NE                              |null |null     |\n",
      "|A040   |null         |null      |null       |Infecção por Escherichia coli enteropatogênica      |A04.0 Infecc p/Escherichia coli enteropatogenica |null |null     |\n",
      "+-------+-------------+----------+-----------+----------------------------------------------------+-------------------------------------------------+-----+---------+\n",
      "only showing top 20 rows\n",
      "\n"
     ]
    }
   ],
   "source": [
    "cid10.show(truncate=False)"
   ]
  },
  {
   "cell_type": "code",
   "execution_count": 20,
   "id": "0b56b0ed-a093-48ce-8287-4c2b0c293cf7",
   "metadata": {},
   "outputs": [
    {
     "data": {
      "text/plain": [
       "127272146"
      ]
     },
     "execution_count": 20,
     "metadata": {},
     "output_type": "execute_result"
    }
   ],
   "source": [
    "prefinal.count()"
   ]
  },
  {
   "cell_type": "code",
   "execution_count": 15,
   "id": "7c290da6-064c-4749-802d-40592a5f2867",
   "metadata": {},
   "outputs": [],
   "source": [
    "final = (prefinal.alias(\"pf\")\n",
    "    .join(feriado_done.alias(\"fd\"), \n",
    "          (col(\"pf.dt_atend\") == col(\"fd.dt_atend\"))\n",
    "          & (col(\"pf.munic_res\") == col(\"fd.munic_res\"))\n",
    "          & (col(\"pf.sigla\") == col(\"fd.sigla\")),\n",
    "          \"left\")\n",
    "    .join(cid10.alias(\"cid10_princ\"),\n",
    "          col(\"pf.diag_princ\") == col(\"cid10_princ.sub_cat\"),\n",
    "         \"left\")\n",
    "    .join(cid10.alias(\"cid10_secun\"),\n",
    "          col(\"pf.diag_secun\") == col(\"cid10_secun.sub_cat\"),\n",
    "         \"left\")\n",
    "    .filter(\"pf.nome_municipio is not null\")\n",
    "    .filter(\"fd.feriado.feriado is not null\")\n",
    "    .select(\n",
    "        col(\"pf.ano_cmpt\"),\n",
    "        col(\"pf.mes_cmpt\"),\n",
    "        col(\"pf.cgc_hosp\"),\n",
    "        col(\"pf.munic_res\"),\n",
    "        col(\"pf.nasc\"),\n",
    "        col(\"pf.sexo\"),\n",
    "        col(\"pf.uti_mes_to\"),\n",
    "        col(\"pf.uti_int_to\"),\n",
    "        col(\"pf.proc_rea\"),\n",
    "        col(\"pf.qt_proc\"),\n",
    "        col(\"pf.dt_atend\"),\n",
    "        col(\"pf.dt_saida\"),\n",
    "        col(\"pf.diag_princ\"),\n",
    "        col(\"pf.diag_secun\"),\n",
    "        col(\"pf.cobranca\"),\n",
    "        col(\"pf.natureza\"),\n",
    "        col(\"pf.gestao\"),\n",
    "        col(\"pf.munic_mov\"),\n",
    "        col(\"pf.cod_idade\"),\n",
    "        col(\"pf.idade\"),\n",
    "        col(\"pf.dias_perm\"),\n",
    "        col(\"pf.morte\"),\n",
    "        col(\"pf.cnes\"),\n",
    "        col(\"pf.fonte\"),\n",
    "        col(\"pf.modalidade\"),\n",
    "        col(\"pf.nome_uf\"),\n",
    "        col(\"pf.nome_municipio\"),\n",
    "        col(\"pf.sigla\"),\n",
    "        col(\"pf.regiao\"),\n",
    "        col(\"pf.idhm\"),\n",
    "        col(\"pf.populacao_residente\"),\n",
    "        col(\"pf.area_unidade_territorial\"),\n",
    "        col(\"cid10_princ.descricao\").alias(\"diag_princ_desc\"),\n",
    "        col(\"cid10_secun.descricao\").alias(\"diag_secun_desc\"),\n",
    "        struct(col(\"cid10_princ.*\")).alias(\"diag_princ_detalhes\"),\n",
    "        struct(col(\"cid10_secun.*\")).alias(\"diag_secun_detalhes\"),\n",
    "        col(\"fd.feriado.feriado\").alias(\"feriado\"),\n",
    "        col(\"fd.feriado.distancia_feriado\").alias(\"distancia_feriado\"),\n",
    "        col(\"fd.feriado.feriado_info\").alias(\"feriado_info\")\n",
    "    )        \n",
    ")"
   ]
  },
  {
   "cell_type": "code",
   "execution_count": 27,
   "id": "307c8519-94b6-4b07-83a2-43085094d7d5",
   "metadata": {},
   "outputs": [
    {
     "name": "stdout",
     "output_type": "stream",
     "text": [
      "+--------+--------+--------------+---------+----------+----+----------+----------+----------+-------+----------+----------+----------+----------+--------+--------+------+---------+---------+-----+---------+-----+-------+-----+----------+------------------+--------------------+-----+------------+-----+--------------------+--------------------+--------------------+--------------------+-------+-----------------+--------------------+\n",
      "|ano_cmpt|mes_cmpt|      cgc_hosp|munic_res|      nasc|sexo|uti_mes_to|uti_int_to|  proc_rea|qt_proc|  dt_atend|  dt_saida|diag_princ|diag_secun|cobranca|natureza|gestao|munic_mov|cod_idade|idade|dias_perm|morte|   cnes|fonte|modalidade|           nome_uf|      nome_municipio|sigla|      regiao| idhm|     diag_princ_desc|     diag_secun_desc| diag_princ_detalhes| diag_secun_detalhes|feriado|distancia_feriado|        feriado_info|\n",
      "+--------+--------+--------------+---------+----------+----+----------+----------+----------+-------+----------+----------+----------+----------+--------+--------+------+---------+---------+-----+---------+-----+-------+-----+----------+------------------+--------------------+-----+------------+-----+--------------------+--------------------+--------------------+--------------------+-------+-----------------+--------------------+\n",
      "|    2021|      07|54731377000140|   353890|1930-03-25|   1|         0|         0|0301060088|      1|2007-07-09|2021-07-12|      B342|      null|      31|    null|     M|   353890|        4|   77|     5117|    0|2080370|   01|        02|         São Paulo|             Pirajuí|   SP|     Sudeste|0.749|Infecção por coro...|                null|{B342, null, null...|{null, null, null...|  false|              907|[{2010-01-01, Ano...|\n",
      "|    2011|      02|26150979000178|   315210|1940-03-08|   1|         0|       000|0303140046|      1|2009-06-29|2011-02-12|      J449|      null|      18|      11|     M|   315210|        4|   69|      593|    0|2206382|   01|        02|      Minas Gerais|          Ponte Nova|   MG|     Sudeste|0.717|Doença pulmonar o...|                null|{J449, null, null...|{null, null, null...|  false|              186|[{2010-01-01, Ano...|\n",
      "|    2011|      10|08933601000169|   353440|1924-07-18|   1|         0|         0|0303170093|      1|2010-01-27|2011-10-14|       I10|      null|      31|      11|     M|   353440|        4|   85|      625|    0|0008478|   03|        02|         São Paulo|              Osasco|   SP|     Sudeste|0.776|Hipertensão essen...|                null|{I10, null, null,...|{null, null, null...|  false|               19|[{2010-02-15, Car...|\n",
      "|    2014|      05|00034534000139|   354850|1964-12-06|   3|         0|       000|0413040046|      1|2010-05-11|2014-05-12|      E669|      null|      11|      07|     M|   354850|        4|   45|     1462|    0|2702622|   02|        02|         São Paulo|              Santos|   SP|     Sudeste| 0.84|Obesidade não esp...|                null|{E669, null, null...|{null, null, null...|  false|               10|[{2010-05-01, Dia...|\n",
      "|    2011|      04|88633227000115|   430510|2007-10-18|   3|         0|       004|0303140135|      1|2010-07-31|2011-04-01|      J960|      null|      12|      11|     M|   430510|        4|   02|      244|    0|2223546|   01|        02| Rio Grande do Sul|       Caxias do Sul|   RS|         Sul|0.782|Insuficiência res...|                null|{J960, null, null...|{null, null, null...|  false|                5|[{2010-07-26, Fun...|\n",
      "|    2011|      01|59986224000167|   354980|1965-03-08|   1|         0|         0|0303170093|      1|2010-11-04|2011-01-21|       F29|       F29|      31|      11|     M|   354980|        4|   45|       78|    0|2097648|   01|        02|         São Paulo|São José do Rio P...|   SP|     Sudeste|0.797|Psicose não-orgân...|Psicose não-orgân...|{F29, null, null,...|{F29, null, null,...|  false|                2|[{2010-11-02, Dia...|\n",
      "|    2011|      01|02122913000106|   420420|2010-09-02|   1|         0|       000|0407010084|      1|2010-11-11|2011-01-03|      T286|      null|      31|      11|     M|   420420|        3|   00|       53|    0|2537788|   01|        02|    Santa Catarina|             Chapecó|   SC|         Sul| 0.79| Corrosão do esôfago|                null|{T286, null, null...|{null, null, null...|  false|                4|[{2010-11-15, Pro...|\n",
      "|    2011|      01|03267101000464|   500270|1961-04-30|   1|         0|         0|0303170093|      1|2010-11-15|2011-01-07|      F102|      null|      12|      11|     M|   500270|        4|   49|       53|    0|0009792|   01|        02|Mato Grosso do Sul|        Campo Grande|   MS|Centro-Oeste|0.784|Transtornos menta...|                null|{F102, null, null...|{null, null, null...|  false|                0|[{2010-11-15, Pro...|\n",
      "|    2011|      01|07287865000120|   230440|1972-08-19|   1|         0|         0|0303170093|      1|2010-11-17|2011-01-15|      F208|      null|      12|      11|     M|   230440|        4|   38|       59|    0|2529424|   01|        02|             Ceará|           Fortaleza|   CE|    Nordeste|0.754|Outras esquizofre...|                null|{F208, null, null...|{null, null, null...|  false|                2|[{2010-11-15, Pro...|\n",
      "|    2011|      02|88575394000157|   430510|1927-02-26|   3|         0|       001|0303140046|      1|2010-11-23|2011-02-22|      J440|      null|      12|      07|     M|   430510|        4|   83|       91|    0|2223597|   06|        02| Rio Grande do Sul|       Caxias do Sul|   RS|         Sul|0.782|Doença pulmonar o...|                null|{J440, null, null...|{null, null, null...|  false|                3|[{2010-11-20, Dia...|\n",
      "|    2011|      03|92202498000193|   431440|1947-11-19|   3|         0|         0|0303170093|      1|2010-11-24|2011-03-07|       F03|      null|      51|      11|     M|   431440|        4|   63|      103|    1|2252376|   02|        02| Rio Grande do Sul|             Pelotas|   RS|         Sul|0.739|Demência não espe...|                null|{F03, null, null,...|{null, null, null...|  false|                4|[{2010-11-20, Dia...|\n",
      "|    2011|      01|05994724000111|   510340|1947-06-24|   1|         0|       000|0303060212|      1|2010-11-29|2011-01-03|      I500|      null|      41|      07|     M|   510340|        4|   63|       35|    1|2674955|   01|        02|       Mato Grosso|              Cuiabá|   MT|Centro-Oeste|0.785|Insuficiência car...|                null|{I500, null, null...|{null, null, null...|  false|                9|[{2010-11-20, Dia...|\n",
      "|    2011|      01|45184066000460|   352440|1939-05-05|   3|         0|         0|0301060088|      1|2010-12-01|2011-01-07|      N390|      null|      12|      07|     M|   352440|        4|   71|       37|    0|2026074|   01|        02|         São Paulo|             Jacareí|   SP|     Sudeste|0.777|Infecção do trato...|                null|{N390, null, null...|{null, null, null...|  false|                7|[{2010-12-08, Pon...|\n",
      "|    2011|      01|45184066000460|   352440|1945-01-12|   3|         0|         0|0301060088|      1|2010-12-01|2011-01-01|      J189|      null|      12|      07|     M|   352440|        4|   65|       31|    0|2026074|   01|        02|         São Paulo|             Jacareí|   SP|     Sudeste|0.777|Pneumonia não esp...|                null|{J189, null, null...|{null, null, null...|  false|                7|[{2010-12-08, Pon...|\n",
      "|    2011|      04|88314133000183|   430460|1951-12-23|   1|         0|       026|0303040149|      1|2010-12-02|2011-04-05|      I694|      null|      12|      11|     M|   430460|        4|   58|      124|    0|2232014|   01|        02| Rio Grande do Sul|              Canoas|   RS|         Sul| 0.75|Seqüelas de acide...|                null|{I694, null, null...|{null, null, null...|  false|                6|[{2010-12-08, Pon...|\n",
      "|    2011|      03|15113103000135|   292740|1953-07-09|   3|         0|       002|0303040149|      1|2010-12-07|2011-03-28|      C830|      null|      12|      11|     M|   292740|        4|   57|      111|    0|0004057|   01|        02|             Bahia|            Salvador|   BA|    Nordeste|0.759|Linfoma não-Hodgk...|                null|{C830, null, null...|{null, null, null...|  false|                1|[{2010-12-08, Pon...|\n",
      "|    2011|      01|15113103000135|   292740|1963-04-10|   1|         0|       003|0303040149|      1|2010-12-07|2011-01-07|      F454|      null|      12|      11|     M|   292740|        4|   47|       31|    0|0004057|   01|        02|             Bahia|            Salvador|   BA|    Nordeste|0.759|Transtorno doloro...|                null|{F454, null, null...|{null, null, null...|  false|                1|[{2010-12-08, Pon...|\n",
      "|    2011|      01|01370425000155|   352690|1963-11-18|   1|         0|       000|0408050608|      1|2010-12-07|2011-01-08|      S827|      S827|      12|      09|     M|   352690|        4|   47|       32|    0|2825309|   01|        02|         São Paulo|             Limeira|   SP|     Sudeste|0.775|Fraturas múltipla...|Fraturas múltipla...|{S827, null, null...|{S827, null, null...|  false|                1|[{2010-12-08, Pon...|\n",
      "|    2011|      03|88630413000796|   431490|1928-05-31|   3|         0|       000|0303140151|      1|2010-12-12|2011-03-13|      J158|      null|      41|      11|     M|   431490|        4|   82|       91|    1|2262568|   01|        02| Rio Grande do Sul|        Porto Alegre|   RS|         Sul|0.805|Outras pneumonias...|                null|{J158, null, null...|{null, null, null...|  false|                4|[{2010-12-08, Pon...|\n",
      "|    2011|      01|88625686002443|   431490|1923-04-02|   3|         0|       000|0301010005|      1|2010-12-12|2011-01-03|      R100|      null|      12|      11|     M|   431490|        4|   87|       22|    0|3007847|   01|        02| Rio Grande do Sul|        Porto Alegre|   RS|         Sul|0.805|        Abdome agudo|                null|{R100, null, null...|{null, null, null...|  false|                4|[{2010-12-08, Pon...|\n",
      "+--------+--------+--------------+---------+----------+----+----------+----------+----------+-------+----------+----------+----------+----------+--------+--------+------+---------+---------+-----+---------+-----+-------+-----+----------+------------------+--------------------+-----+------------+-----+--------------------+--------------------+--------------------+--------------------+-------+-----------------+--------------------+\n",
      "\n"
     ]
    }
   ],
   "source": [
    "final.limit(20).show()"
   ]
  },
  {
   "cell_type": "code",
   "execution_count": 41,
   "id": "047ef60e-a3f3-4384-8c45-6f750b177bb8",
   "metadata": {},
   "outputs": [
    {
     "data": {
      "text/plain": [
       "99162294"
      ]
     },
     "execution_count": 41,
     "metadata": {},
     "output_type": "execute_result"
    }
   ],
   "source": [
    "final.count()"
   ]
  },
  {
   "cell_type": "code",
   "execution_count": 42,
   "id": "30507790-a1d5-40d9-9e32-ee84b8227204",
   "metadata": {},
   "outputs": [
    {
     "data": {
      "text/plain": [
       "0"
      ]
     },
     "execution_count": 42,
     "metadata": {},
     "output_type": "execute_result"
    }
   ],
   "source": [
    "final.filter(\"feriado is null\").count()"
   ]
  },
  {
   "cell_type": "code",
   "execution_count": 16,
   "id": "6c6fa7e2-22ab-4d87-b591-1dc8e5bc46f9",
   "metadata": {},
   "outputs": [],
   "source": [
    "final.write.mode(\"overwrite\").partitionBy(\"sigla\").parquet(\"bases finais/final/\")"
   ]
  },
  {
   "cell_type": "code",
   "execution_count": 7,
   "id": "ba943abb-b32b-4fa5-98ba-ebb0df1ab13c",
   "metadata": {},
   "outputs": [],
   "source": [
    "final = spark.read.parquet(\"bases finais/final/\")"
   ]
  },
  {
   "cell_type": "code",
   "execution_count": 8,
   "id": "a1356d9a-66d6-417c-83cf-bd680d774686",
   "metadata": {},
   "outputs": [
    {
     "data": {
      "text/plain": [
       "98231863"
      ]
     },
     "execution_count": 8,
     "metadata": {},
     "output_type": "execute_result"
    }
   ],
   "source": [
    "final.filter(\"ano_cmpt between 2011 and 2022\").count()"
   ]
  },
  {
   "cell_type": "code",
   "execution_count": 18,
   "id": "c6e7937f-c78c-46a6-ada4-688aee70ec71",
   "metadata": {},
   "outputs": [],
   "source": [
    "final_sample = (final\n",
    "     .withColumn(\"diag_princ_detalhes\", to_json(\"diag_princ_detalhes\"))\n",
    "     .withColumn(\"diag_secun_detalhes\", to_json(\"diag_secun_detalhes\"))\n",
    "     .withColumn(\"feriado_info\", to_json(\"feriado_info\"))\n",
    "     .sample(fraction=0.001, seed = 1010)\n",
    ")\n",
    "\n",
    "(final_sample.repartition(1)\n",
    "     .write\n",
    "     .mode(\"overwrite\")\n",
    "     .option(\"header\", True)\n",
    "     .option(\"sep\", \";\")\n",
    "     .csv(\"bases finais/final_sample/\")\n",
    ")"
   ]
  },
  {
   "cell_type": "code",
   "execution_count": 24,
   "id": "8a3d1d31-06d6-409c-89d7-b8ac69951c85",
   "metadata": {},
   "outputs": [
    {
     "data": {
      "text/plain": [
       "['ano_cmpt',\n",
       " 'mes_cmpt',\n",
       " 'cgc_hosp',\n",
       " 'munic_res',\n",
       " 'nasc',\n",
       " 'sexo',\n",
       " 'uti_mes_to',\n",
       " 'uti_int_to',\n",
       " 'proc_rea',\n",
       " 'qt_proc',\n",
       " 'dt_atend',\n",
       " 'dt_saida',\n",
       " 'diag_princ',\n",
       " 'diag_secun',\n",
       " 'cobranca',\n",
       " 'natureza',\n",
       " 'gestao',\n",
       " 'munic_mov',\n",
       " 'cod_idade',\n",
       " 'idade',\n",
       " 'dias_perm',\n",
       " 'morte',\n",
       " 'cnes',\n",
       " 'fonte',\n",
       " 'modalidade',\n",
       " 'nome_uf',\n",
       " 'nome_municipio',\n",
       " 'sigla',\n",
       " 'regiao',\n",
       " 'idhm',\n",
       " 'diag_princ_desc',\n",
       " 'diag_secun_desc',\n",
       " 'diag_princ_detalhes',\n",
       " 'diag_secun_detalhes',\n",
       " 'feriado',\n",
       " 'distancia_feriado',\n",
       " 'feriado_info']"
      ]
     },
     "execution_count": 24,
     "metadata": {},
     "output_type": "execute_result"
    }
   ],
   "source": [
    "final_sample.columns"
   ]
  },
  {
   "cell_type": "code",
   "execution_count": 15,
   "id": "1322517d-71e8-4c28-8d52-b6f2b12b3149",
   "metadata": {},
   "outputs": [
    {
     "data": {
      "text/plain": [
       "536"
      ]
     },
     "execution_count": 15,
     "metadata": {},
     "output_type": "execute_result"
    }
   ],
   "source": [
    "final.filter(\"diag_princ like '%N47%' and morte = 1\").count()"
   ]
  },
  {
   "cell_type": "code",
   "execution_count": null,
   "id": "e20b1c82-2d80-4107-819c-46f56dc7fe67",
   "metadata": {},
   "outputs": [],
   "source": [
    "# To do\n",
    "#   Add mesoregiao\n",
    "#   Add dia da semana\n",
    "#   "
   ]
  }
 ],
 "metadata": {
  "kernelspec": {
   "display_name": "Python 3 (ipykernel)",
   "language": "python",
   "name": "python3"
  },
  "language_info": {
   "codemirror_mode": {
    "name": "ipython",
    "version": 3
   },
   "file_extension": ".py",
   "mimetype": "text/x-python",
   "name": "python",
   "nbconvert_exporter": "python",
   "pygments_lexer": "ipython3",
   "version": "3.11.4"
  }
 },
 "nbformat": 4,
 "nbformat_minor": 5
}
