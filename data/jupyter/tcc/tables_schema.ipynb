{
 "cells": [
  {
   "cell_type": "code",
   "execution_count": 1,
   "id": "c32bc34e-d075-4ea9-84ed-190b06c4a86e",
   "metadata": {},
   "outputs": [],
   "source": [
    "from pyspark.sql import SparkSession\n",
    "from pyspark.sql.types import *\n",
    "from pyspark.sql.functions import *\n",
    "\n",
    "spark = (SparkSession.builder\n",
    "             .master(\"spark://spark-master:7077\") # Points to the Spark Cluster\n",
    "             .appName('lab') # Name the app\n",
    "             .config(\"hive.metastore.uris\", \"thrift://hive-metastore:9083\") # Set external Hive Metastore\n",
    "             .config(\"hive.metastore.warehouse.dir\", \"s3a://minio:9000/datalake/\") # Set default warehouse dir (legacy) users/hive/warehouse\n",
    "             .config(\"spark.sql.warehouse.dir\", \"s3a://minio:9000/datalake/\") # Set default warehouse dir\n",
    "             .config(\"hive.metastore.schema.verification\", \"false\") # Prevent some errors\n",
    "             .config(\"fs.defaultFS\", \"s3a://minio:9000/datalake/\") # Set default file system into the HDFS namenode\n",
    "             .config(\"spark.jars\", \"/opt/bitnami/spark/jars_external/hadoop-aws-3.3.4.jar,/opt/bitnami/spark/jars_external/aws-java-sdk-bundle-1.12.588.jar\")\n",
    "             .config(\"spark.sql.repl.eagerEval.enabled\", True)\n",
    "             .enableHiveSupport()\n",
    "             .getOrCreate())\n",
    "\n",
    "sc = spark.sparkContext\n",
    "\n",
    "hdp_configs = {\n",
    "    \"fs.s3a.endpoint\": \"http://minio:9000\",\n",
    "    \"fs.s3a.access.key\": \"minio\",\n",
    "    \"fs.s3a.secret.key\": \"minioadmin\",\n",
    "    \"fs.s3a.connection.timeout\": \"600000\",\n",
    "    \"spark.sql.debug.maxToStringFields\": \"100\",\n",
    "    \"fs.s3a.path.style.access\": \"true\",\n",
    "    \"fs.s3a.impl\": \"org.apache.hadoop.fs.s3a.S3AFileSystem\",\n",
    "    \"fs.s3a.connection.ssl.enabled\": \"true\"\n",
    "}\n",
    "\n",
    "for k,v in hdp_configs.items():\n",
    "    spark.sparkContext._jsc.hadoopConfiguration().set(k, v)\n"
   ]
  },
  {
   "cell_type": "code",
   "execution_count": 10,
   "id": "856034a2-7a01-496b-b8bc-f67fe60076a5",
   "metadata": {},
   "outputs": [],
   "source": [
    "spark.stop()"
   ]
  },
  {
   "cell_type": "code",
   "execution_count": 31,
   "id": "76db62db-3f63-467c-aa58-7bc49f88fe86",
   "metadata": {},
   "outputs": [
    {
     "ename": "AnalysisException",
     "evalue": "org.apache.hadoop.hive.ql.metadata.HiveException: MetaException(message:java.lang.IllegalArgumentException: java.net.UnknownHostException: hdfs-namenode)",
     "output_type": "error",
     "traceback": [
      "\u001b[0;31m---------------------------------------------------------------------------\u001b[0m",
      "\u001b[0;31mAnalysisException\u001b[0m                         Traceback (most recent call last)",
      "Cell \u001b[0;32mIn[31], line 1\u001b[0m\n\u001b[0;32m----> 1\u001b[0m \u001b[43mspark\u001b[49m\u001b[38;5;241;43m.\u001b[39;49m\u001b[43msql\u001b[49m\u001b[43m(\u001b[49m\u001b[38;5;124;43m\"\u001b[39;49m\u001b[38;5;124;43mdrop database silver cascade\u001b[39;49m\u001b[38;5;124;43m\"\u001b[39;49m\u001b[43m)\u001b[49m\n",
      "File \u001b[0;32m/usr/local/spark/python/pyspark/sql/session.py:1440\u001b[0m, in \u001b[0;36mSparkSession.sql\u001b[0;34m(self, sqlQuery, args, **kwargs)\u001b[0m\n\u001b[1;32m   1438\u001b[0m \u001b[38;5;28;01mtry\u001b[39;00m:\n\u001b[1;32m   1439\u001b[0m     litArgs \u001b[38;5;241m=\u001b[39m {k: _to_java_column(lit(v)) \u001b[38;5;28;01mfor\u001b[39;00m k, v \u001b[38;5;129;01min\u001b[39;00m (args \u001b[38;5;129;01mor\u001b[39;00m {})\u001b[38;5;241m.\u001b[39mitems()}\n\u001b[0;32m-> 1440\u001b[0m     \u001b[38;5;28;01mreturn\u001b[39;00m DataFrame(\u001b[38;5;28;43mself\u001b[39;49m\u001b[38;5;241;43m.\u001b[39;49m\u001b[43m_jsparkSession\u001b[49m\u001b[38;5;241;43m.\u001b[39;49m\u001b[43msql\u001b[49m\u001b[43m(\u001b[49m\u001b[43msqlQuery\u001b[49m\u001b[43m,\u001b[49m\u001b[43m \u001b[49m\u001b[43mlitArgs\u001b[49m\u001b[43m)\u001b[49m, \u001b[38;5;28mself\u001b[39m)\n\u001b[1;32m   1441\u001b[0m \u001b[38;5;28;01mfinally\u001b[39;00m:\n\u001b[1;32m   1442\u001b[0m     \u001b[38;5;28;01mif\u001b[39;00m \u001b[38;5;28mlen\u001b[39m(kwargs) \u001b[38;5;241m>\u001b[39m \u001b[38;5;241m0\u001b[39m:\n",
      "File \u001b[0;32m/usr/local/spark/python/lib/py4j-0.10.9.7-src.zip/py4j/java_gateway.py:1322\u001b[0m, in \u001b[0;36mJavaMember.__call__\u001b[0;34m(self, *args)\u001b[0m\n\u001b[1;32m   1316\u001b[0m command \u001b[38;5;241m=\u001b[39m proto\u001b[38;5;241m.\u001b[39mCALL_COMMAND_NAME \u001b[38;5;241m+\u001b[39m\\\n\u001b[1;32m   1317\u001b[0m     \u001b[38;5;28mself\u001b[39m\u001b[38;5;241m.\u001b[39mcommand_header \u001b[38;5;241m+\u001b[39m\\\n\u001b[1;32m   1318\u001b[0m     args_command \u001b[38;5;241m+\u001b[39m\\\n\u001b[1;32m   1319\u001b[0m     proto\u001b[38;5;241m.\u001b[39mEND_COMMAND_PART\n\u001b[1;32m   1321\u001b[0m answer \u001b[38;5;241m=\u001b[39m \u001b[38;5;28mself\u001b[39m\u001b[38;5;241m.\u001b[39mgateway_client\u001b[38;5;241m.\u001b[39msend_command(command)\n\u001b[0;32m-> 1322\u001b[0m return_value \u001b[38;5;241m=\u001b[39m \u001b[43mget_return_value\u001b[49m\u001b[43m(\u001b[49m\n\u001b[1;32m   1323\u001b[0m \u001b[43m    \u001b[49m\u001b[43manswer\u001b[49m\u001b[43m,\u001b[49m\u001b[43m \u001b[49m\u001b[38;5;28;43mself\u001b[39;49m\u001b[38;5;241;43m.\u001b[39;49m\u001b[43mgateway_client\u001b[49m\u001b[43m,\u001b[49m\u001b[43m \u001b[49m\u001b[38;5;28;43mself\u001b[39;49m\u001b[38;5;241;43m.\u001b[39;49m\u001b[43mtarget_id\u001b[49m\u001b[43m,\u001b[49m\u001b[43m \u001b[49m\u001b[38;5;28;43mself\u001b[39;49m\u001b[38;5;241;43m.\u001b[39;49m\u001b[43mname\u001b[49m\u001b[43m)\u001b[49m\n\u001b[1;32m   1325\u001b[0m \u001b[38;5;28;01mfor\u001b[39;00m temp_arg \u001b[38;5;129;01min\u001b[39;00m temp_args:\n\u001b[1;32m   1326\u001b[0m     \u001b[38;5;28;01mif\u001b[39;00m \u001b[38;5;28mhasattr\u001b[39m(temp_arg, \u001b[38;5;124m\"\u001b[39m\u001b[38;5;124m_detach\u001b[39m\u001b[38;5;124m\"\u001b[39m):\n",
      "File \u001b[0;32m/usr/local/spark/python/pyspark/errors/exceptions/captured.py:175\u001b[0m, in \u001b[0;36mcapture_sql_exception.<locals>.deco\u001b[0;34m(*a, **kw)\u001b[0m\n\u001b[1;32m    171\u001b[0m converted \u001b[38;5;241m=\u001b[39m convert_exception(e\u001b[38;5;241m.\u001b[39mjava_exception)\n\u001b[1;32m    172\u001b[0m \u001b[38;5;28;01mif\u001b[39;00m \u001b[38;5;129;01mnot\u001b[39;00m \u001b[38;5;28misinstance\u001b[39m(converted, UnknownException):\n\u001b[1;32m    173\u001b[0m     \u001b[38;5;66;03m# Hide where the exception came from that shows a non-Pythonic\u001b[39;00m\n\u001b[1;32m    174\u001b[0m     \u001b[38;5;66;03m# JVM exception message.\u001b[39;00m\n\u001b[0;32m--> 175\u001b[0m     \u001b[38;5;28;01mraise\u001b[39;00m converted \u001b[38;5;28;01mfrom\u001b[39;00m \u001b[38;5;28;01mNone\u001b[39;00m\n\u001b[1;32m    176\u001b[0m \u001b[38;5;28;01melse\u001b[39;00m:\n\u001b[1;32m    177\u001b[0m     \u001b[38;5;28;01mraise\u001b[39;00m\n",
      "\u001b[0;31mAnalysisException\u001b[0m: org.apache.hadoop.hive.ql.metadata.HiveException: MetaException(message:java.lang.IllegalArgumentException: java.net.UnknownHostException: hdfs-namenode)"
     ]
    }
   ],
   "source": [
    "spark.sql(\"drop database silver cascade\")"
   ]
  },
  {
   "cell_type": "code",
   "execution_count": 2,
   "id": "3fb8be1e-a569-4a5f-9c48-35481b30d890",
   "metadata": {},
   "outputs": [
    {
     "data": {
      "text/html": [
       "<table border='1'>\n",
       "<tr><th>namespace</th></tr>\n",
       "<tr><td>bronze</td></tr>\n",
       "<tr><td>default</td></tr>\n",
       "<tr><td>gold</td></tr>\n",
       "<tr><td>silver</td></tr>\n",
       "<tr><td>source</td></tr>\n",
       "</table>\n"
      ],
      "text/plain": [
       "+---------+\n",
       "|namespace|\n",
       "+---------+\n",
       "|   bronze|\n",
       "|  default|\n",
       "|     gold|\n",
       "|   silver|\n",
       "|   source|\n",
       "+---------+"
      ]
     },
     "execution_count": 2,
     "metadata": {},
     "output_type": "execute_result"
    }
   ],
   "source": [
    "spark.sql(\"show databases\")"
   ]
  },
  {
   "cell_type": "code",
   "execution_count": 34,
   "id": "f99aff0b-9b68-4845-9398-f7b830b0f26e",
   "metadata": {},
   "outputs": [
    {
     "data": {
      "text/html": [
       "<table border='1'>\n",
       "<tr><th></th></tr>\n",
       "</table>\n"
      ],
      "text/plain": [
       "++\n",
       "||\n",
       "++\n",
       "++"
      ]
     },
     "execution_count": 34,
     "metadata": {},
     "output_type": "execute_result"
    }
   ],
   "source": [
    "spark.sql(\"CREATE DATABASE IF NOT EXISTS source LOCATION 's3a://datalake/source/'\")"
   ]
  },
  {
   "cell_type": "code",
   "execution_count": 37,
   "id": "8a8a1190-4730-490d-9373-f7c7a9a5a3f0",
   "metadata": {},
   "outputs": [
    {
     "data": {
      "text/html": [
       "<table border='1'>\n",
       "<tr><th></th></tr>\n",
       "</table>\n"
      ],
      "text/plain": [
       "++\n",
       "||\n",
       "++\n",
       "++"
      ]
     },
     "execution_count": 37,
     "metadata": {},
     "output_type": "execute_result"
    }
   ],
   "source": [
    "spark.sql(\"CREATE DATABASE IF NOT EXISTS gold LOCATION 's3a://datalake/gold/'\")"
   ]
  },
  {
   "cell_type": "code",
   "execution_count": 38,
   "id": "77967e16-4120-4c00-9ba7-8c3d66779a22",
   "metadata": {},
   "outputs": [
    {
     "data": {
      "text/html": [
       "<table border='1'>\n",
       "<tr><th></th></tr>\n",
       "</table>\n"
      ],
      "text/plain": [
       "++\n",
       "||\n",
       "++\n",
       "++"
      ]
     },
     "execution_count": 38,
     "metadata": {},
     "output_type": "execute_result"
    }
   ],
   "source": [
    "spark.sql(\"CREATE DATABASE IF NOT EXISTS silver LOCATION 's3a://datalake/silver/'\")"
   ]
  },
  {
   "cell_type": "code",
   "execution_count": 39,
   "id": "981b57af-e117-4953-be4f-e5e6994e54dc",
   "metadata": {},
   "outputs": [
    {
     "data": {
      "text/html": [
       "<table border='1'>\n",
       "<tr><th></th></tr>\n",
       "</table>\n"
      ],
      "text/plain": [
       "++\n",
       "||\n",
       "++\n",
       "++"
      ]
     },
     "execution_count": 39,
     "metadata": {},
     "output_type": "execute_result"
    }
   ],
   "source": [
    "spark.sql(\"CREATE DATABASE IF NOT EXISTS bronze LOCATION 's3a://datalake/bronze/'\")"
   ]
  },
  {
   "cell_type": "code",
   "execution_count": 3,
   "id": "9aebd4f5-6db6-4767-90bf-c064eae91838",
   "metadata": {},
   "outputs": [
    {
     "name": "stdout",
     "output_type": "stream",
     "text": [
      "+---------+---------+-----------+\n",
      "|namespace|tableName|isTemporary|\n",
      "+---------+---------+-----------+\n",
      "|   source|    final|      false|\n",
      "+---------+---------+-----------+\n",
      "\n"
     ]
    }
   ],
   "source": [
    "spark.sql(\"show tables from source\").show()"
   ]
  },
  {
   "cell_type": "code",
   "execution_count": 5,
   "id": "629daf19-6939-465c-87aa-10c93220281c",
   "metadata": {},
   "outputs": [
    {
     "name": "stdout",
     "output_type": "stream",
     "text": [
      "+---------+---------+-----------+\n",
      "|namespace|tableName|isTemporary|\n",
      "+---------+---------+-----------+\n",
      "+---------+---------+-----------+\n",
      "\n"
     ]
    }
   ],
   "source": [
    "spark.sql(\"show tables from silver\").show()"
   ]
  },
  {
   "cell_type": "code",
   "execution_count": 35,
   "id": "e0b3256f-d712-4b52-9fb2-8428ce87b732",
   "metadata": {},
   "outputs": [
    {
     "name": "stdout",
     "output_type": "stream",
     "text": [
      "++\n",
      "||\n",
      "++\n",
      "++\n",
      "\n"
     ]
    }
   ],
   "source": [
    "schema = StructType([\n",
    "    StructField('ano_cmpt', StringType(), True), \n",
    "    StructField('mes_cmpt', StringType(), True), \n",
    "    StructField('cgc_hosp', StringType(), True), \n",
    "    StructField('munic_res', StringType(), True), \n",
    "    StructField('nasc', DateType(), True), \n",
    "    StructField('sexo', StringType(), True), \n",
    "    StructField('uti_mes_to', StringType(), True), \n",
    "    StructField('uti_int_to', StringType(), True), \n",
    "    StructField('proc_rea', StringType(), True), \n",
    "    StructField('qt_proc', StringType(), True), \n",
    "    StructField('dt_atend', DateType(), True), \n",
    "    StructField('dt_saida', DateType(), True), \n",
    "    StructField('diag_princ', StringType(), True), \n",
    "    StructField('diag_secun', StringType(), True), \n",
    "    StructField('cobranca', StringType(), True), \n",
    "    StructField('natureza', StringType(), True), \n",
    "    StructField('gestao', StringType(), True), \n",
    "    StructField('munic_mov', StringType(), True), \n",
    "    StructField('cod_idade', StringType(), True), \n",
    "    StructField('idade', StringType(), True), \n",
    "    StructField('dias_perm', StringType(), True), \n",
    "    StructField('morte', StringType(), True), \n",
    "    StructField('cnes', StringType(), True), \n",
    "    StructField('fonte', StringType(), True), \n",
    "    StructField('modalidade', StringType(), True), \n",
    "    StructField('nome_uf', StringType(), True), \n",
    "    StructField('nome_municipio', StringType(), True), \n",
    "    StructField('regiao', StringType(), True), \n",
    "    StructField('idhm', FloatType(), True), \n",
    "    StructField('populacao_residente', IntegerType(), True), \n",
    "    StructField('area_unidade_territorial', FloatType(), True), \n",
    "    StructField('diag_princ_desc', StringType(), True), \n",
    "    StructField('diag_secun_desc', StringType(), True), \n",
    "    StructField('diag_princ_detalhes', StructType([\n",
    "        StructField('sub_cat', StringType(), True), \n",
    "        StructField('classificacao', StringType(), True), \n",
    "        StructField('restr_sexo', StringType(), True), \n",
    "        StructField('causa_obito', StringType(), True), \n",
    "        StructField('descricao', StringType(), True), \n",
    "        StructField('desc_abrev', StringType(), True), \n",
    "        StructField('refer', StringType(), True), \n",
    "        StructField('excluidos', StringType(), True)\n",
    "    ]), True), \n",
    "    StructField('diag_secun_detalhes', StructType([\n",
    "        StructField('sub_cat', StringType(), True), \n",
    "        StructField('classificacao', StringType(), True), \n",
    "        StructField('restr_sexo', StringType(), True), \n",
    "        StructField('causa_obito', StringType(), True), \n",
    "        StructField('descricao', StringType(), True), \n",
    "        StructField('desc_abrev', StringType(), True), \n",
    "        StructField('refer', StringType(), True), \n",
    "        StructField('excluidos', StringType(), True)\n",
    "    ]), True), \n",
    "    StructField('feriado', StringType(), True), \n",
    "    StructField('distancia_feriado', IntegerType(), True), \n",
    "    StructField('feriado_info', ArrayType(StructType([\n",
    "        StructField('data', StringType(), True), \n",
    "        StructField('nome', StringType(), True), \n",
    "        StructField('tipo', StringType(), True), \n",
    "        StructField('descricao', StringType(), True), \n",
    "        StructField('uf', StringType(), True), \n",
    "        StructField('municipio', StringType(), True), \n",
    "        StructField('cod_municipio', StringType(), True)\n",
    "    ]), True), True), \n",
    "    StructField('sigla', StringType(), True)\n",
    "])\n",
    "\n",
    "df_final = spark.createDataFrame([], schema = schema)\n",
    "\n",
    "schema_str = \", \".join([f\"{x[0]} {x[1]}\" for x in df_final.drop(\"sigla\").dtypes ])\n",
    "spark.sql(f\"CREATE EXTERNAL TABLE IF NOT EXISTS source.final ({schema_str}) USING PARQUET PARTITIONED BY (sigla string) LOCATION 's3a://datalake/source/final/'\").show()"
   ]
  },
  {
   "cell_type": "code",
   "execution_count": 36,
   "id": "2359e7f5-3d1d-4512-879b-a4f5b5c1c32d",
   "metadata": {},
   "outputs": [
    {
     "name": "stdout",
     "output_type": "stream",
     "text": [
      "++\n",
      "||\n",
      "++\n",
      "++\n",
      "\n"
     ]
    }
   ],
   "source": [
    "spark.sql(\"msck repair table source.final\").show()"
   ]
  },
  {
   "cell_type": "code",
   "execution_count": 10,
   "id": "8d5944db-3668-484f-9ed8-5b63e65269fb",
   "metadata": {},
   "outputs": [
    {
     "data": {
      "text/html": [
       "<table border='1'>\n",
       "<tr><th>sigla</th><th>count</th></tr>\n",
       "<tr><td>SP</td><td>67515831</td></tr>\n",
       "<tr><td>RS</td><td>9961350</td></tr>\n",
       "<tr><td>MG</td><td>8143352</td></tr>\n",
       "<tr><td>BA</td><td>5017618</td></tr>\n",
       "<tr><td>SC</td><td>2861516</td></tr>\n",
       "<tr><td>CE</td><td>906485</td></tr>\n",
       "<tr><td>MS</td><td>659648</td></tr>\n",
       "<tr><td>AL</td><td>522891</td></tr>\n",
       "<tr><td>PA</td><td>567822</td></tr>\n",
       "<tr><td>GO</td><td>503891</td></tr>\n",
       "<tr><td>ES</td><td>342183</td></tr>\n",
       "<tr><td>RN</td><td>760980</td></tr>\n",
       "<tr><td>MT</td><td>319959</td></tr>\n",
       "<tr><td>PI</td><td>385786</td></tr>\n",
       "<tr><td>PE</td><td>289395</td></tr>\n",
       "<tr><td>PB</td><td>177462</td></tr>\n",
       "<tr><td>SE</td><td>92552</td></tr>\n",
       "<tr><td>RO</td><td>19372</td></tr>\n",
       "<tr><td>TO</td><td>114201</td></tr>\n",
       "</table>\n"
      ],
      "text/plain": [
       "+-----+--------+\n",
       "|sigla|   count|\n",
       "+-----+--------+\n",
       "|   SP|67515831|\n",
       "|   RS| 9961350|\n",
       "|   MG| 8143352|\n",
       "|   BA| 5017618|\n",
       "|   SC| 2861516|\n",
       "|   CE|  906485|\n",
       "|   MS|  659648|\n",
       "|   AL|  522891|\n",
       "|   PA|  567822|\n",
       "|   GO|  503891|\n",
       "|   ES|  342183|\n",
       "|   RN|  760980|\n",
       "|   MT|  319959|\n",
       "|   PI|  385786|\n",
       "|   PE|  289395|\n",
       "|   PB|  177462|\n",
       "|   SE|   92552|\n",
       "|   RO|   19372|\n",
       "|   TO|  114201|\n",
       "+-----+--------+"
      ]
     },
     "execution_count": 10,
     "metadata": {},
     "output_type": "execute_result"
    }
   ],
   "source": [
    "spark.table(\"source.final\").groupBy(\"sigla\").count()"
   ]
  },
  {
   "cell_type": "code",
   "execution_count": 6,
   "id": "0bcec92f-4b2a-4b75-bc5d-ce0c492edd49",
   "metadata": {},
   "outputs": [],
   "source": [
    "import pyspark.sql.types as T\n",
    "import pyspark.sql.functions as F\n",
    "import builtins as b\n",
    "\n",
    "def StructNormalizer(df):\n",
    "  def SchemaIterator(schema, root=True, prefix=[]):\n",
    "    f = []\n",
    "    for c in schema:\n",
    "      if c.dataType.typeName() == \"struct\":\n",
    "        f += SchemaIterator(schema=c.dataType, root=False, prefix=[*prefix, c.name])\n",
    "      elif not root:\n",
    "        f.append([*prefix, c.name])\n",
    "    return f\n",
    "  nested_cols = SchemaIterator(df.schema)\n",
    "  s = []\n",
    "  for c in df.columns:\n",
    "    if c not in [x[0] for x in nested_cols]:\n",
    "      s.append(F.col(c))\n",
    "    else:\n",
    "      s += [F.col(\".\".join(x)).alias(\"_\".join(x)) for x in b.filter(None, [x if x[0] == c else None for x in nested_cols])]\n",
    "  return df.select(*s)"
   ]
  },
  {
   "cell_type": "code",
   "execution_count": 13,
   "id": "03d54e8e-6834-4dd2-b429-bcbdd86e8a8f",
   "metadata": {},
   "outputs": [],
   "source": [
    "df = StructNormalizer(spark.table(\"source.final\").filter(\"sigla = 'GO'\"))\n",
    "\n",
    "df.write.partitionBy(\"sigla\").mode(\"overwrite\").format(\"parquet\").saveAsTable(\"gold.final\")"
   ]
  },
  {
   "cell_type": "code",
   "execution_count": 8,
   "id": "55d14ea7-8e98-4e4c-8949-c3d22788bd71",
   "metadata": {},
   "outputs": [],
   "source": [
    "df = spark.table(\"gold.final\")"
   ]
  },
  {
   "cell_type": "code",
   "execution_count": 9,
   "id": "8c8987cd-b5e2-4d91-8e12-96910cb882e9",
   "metadata": {},
   "outputs": [
    {
     "data": {
      "text/html": [
       "<table border='1'>\n",
       "<tr><th>ano_cmpt</th><th>mes_cmpt</th><th>cgc_hosp</th><th>munic_res</th><th>nasc</th><th>sexo</th><th>uti_mes_to</th><th>uti_int_to</th><th>proc_rea</th><th>qt_proc</th><th>dt_atend</th><th>dt_saida</th><th>diag_princ</th><th>diag_secun</th><th>cobranca</th><th>natureza</th><th>gestao</th><th>munic_mov</th><th>cod_idade</th><th>idade</th><th>dias_perm</th><th>morte</th><th>cnes</th><th>fonte</th><th>modalidade</th><th>nome_uf</th><th>nome_municipio</th><th>regiao</th><th>idhm</th><th>populacao_residente</th><th>area_unidade_territorial</th><th>diag_princ_desc</th><th>diag_secun_desc</th><th>diag_princ_detalhes_sub_cat</th><th>diag_princ_detalhes_classificacao</th><th>diag_princ_detalhes_restr_sexo</th><th>diag_princ_detalhes_causa_obito</th><th>diag_princ_detalhes_descricao</th><th>diag_princ_detalhes_desc_abrev</th><th>diag_princ_detalhes_refer</th><th>diag_princ_detalhes_excluidos</th><th>diag_secun_detalhes_sub_cat</th><th>diag_secun_detalhes_classificacao</th><th>diag_secun_detalhes_restr_sexo</th><th>diag_secun_detalhes_causa_obito</th><th>diag_secun_detalhes_descricao</th><th>diag_secun_detalhes_desc_abrev</th><th>diag_secun_detalhes_refer</th><th>diag_secun_detalhes_excluidos</th><th>feriado</th><th>distancia_feriado</th><th>feriado_info</th><th>sigla</th></tr>\n",
       "</table>\n"
      ],
      "text/plain": [
       "+--------+--------+--------+---------+----+----+----------+----------+--------+-------+--------+--------+----------+----------+--------+--------+------+---------+---------+-----+---------+-----+----+-----+----------+-------+--------------+------+----+-------------------+------------------------+---------------+---------------+---------------------------+---------------------------------+------------------------------+-------------------------------+-----------------------------+------------------------------+-------------------------+-----------------------------+---------------------------+---------------------------------+------------------------------+-------------------------------+-----------------------------+------------------------------+-------------------------+-----------------------------+-------+-----------------+------------+-----+\n",
       "|ano_cmpt|mes_cmpt|cgc_hosp|munic_res|nasc|sexo|uti_mes_to|uti_int_to|proc_rea|qt_proc|dt_atend|dt_saida|diag_princ|diag_secun|cobranca|natureza|gestao|munic_mov|cod_idade|idade|dias_perm|morte|cnes|fonte|modalidade|nome_uf|nome_municipio|regiao|idhm|populacao_residente|area_unidade_territorial|diag_princ_desc|diag_secun_desc|diag_princ_detalhes_sub_cat|diag_princ_detalhes_classificacao|diag_princ_detalhes_restr_sexo|diag_princ_detalhes_causa_obito|diag_princ_detalhes_descricao|diag_princ_detalhes_desc_abrev|diag_princ_detalhes_refer|diag_princ_detalhes_excluidos|diag_secun_detalhes_sub_cat|diag_secun_detalhes_classificacao|diag_secun_detalhes_restr_sexo|diag_secun_detalhes_causa_obito|diag_secun_detalhes_descricao|diag_secun_detalhes_desc_abrev|diag_secun_detalhes_refer|diag_secun_detalhes_excluidos|feriado|distancia_feriado|feriado_info|sigla|\n",
       "+--------+--------+--------+---------+----+----+----------+----------+--------+-------+--------+--------+----------+----------+--------+--------+------+---------+---------+-----+---------+-----+----+-----+----------+-------+--------------+------+----+-------------------+------------------------+---------------+---------------+---------------------------+---------------------------------+------------------------------+-------------------------------+-----------------------------+------------------------------+-------------------------+-----------------------------+---------------------------+---------------------------------+------------------------------+-------------------------------+-----------------------------+------------------------------+-------------------------+-----------------------------+-------+-----------------+------------+-----+\n",
       "+--------+--------+--------+---------+----+----+----------+----------+--------+-------+--------+--------+----------+----------+--------+--------+------+---------+---------+-----+---------+-----+----+-----+----------+-------+--------------+------+----+-------------------+------------------------+---------------+---------------+---------------------------+---------------------------------+------------------------------+-------------------------------+-----------------------------+------------------------------+-------------------------+-----------------------------+---------------------------+---------------------------------+------------------------------+-------------------------------+-----------------------------+------------------------------+-------------------------+-----------------------------+-------+-----------------+------------+-----+"
      ]
     },
     "execution_count": 9,
     "metadata": {},
     "output_type": "execute_result"
    }
   ],
   "source": [
    "df"
   ]
  },
  {
   "cell_type": "code",
   "execution_count": 14,
   "id": "9765808e-6ed1-44ce-ac1c-100be9a1633e",
   "metadata": {},
   "outputs": [
    {
     "data": {
      "text/plain": [
       "99162294"
      ]
     },
     "execution_count": 14,
     "metadata": {},
     "output_type": "execute_result"
    }
   ],
   "source": [
    "spark.table(\"source.final\").count()"
   ]
  },
  {
   "cell_type": "code",
   "execution_count": 2,
   "id": "77641673-4bd6-4bc2-8d1c-7a1528ae3ebe",
   "metadata": {},
   "outputs": [],
   "source": [
    "df = spark.read.parquet(\"s3a://datalake/source/ciha/\")"
   ]
  },
  {
   "cell_type": "code",
   "execution_count": 3,
   "id": "53ec28a2-4445-4263-8e34-4380b1f218fc",
   "metadata": {},
   "outputs": [
    {
     "data": {
      "text/html": [
       "<table border='1'>\n",
       "<tr><th>ANO_CMPT</th><th>MES_CMPT</th><th>CGC_HOSP</th><th>MUNIC_RES</th><th>NASC</th><th>SEXO</th><th>UTI_MES_TO</th><th>UTI_INT_TO</th><th>PROC_REA</th><th>QT_PROC</th><th>DT_ATEND</th><th>DT_SAIDA</th><th>DIAG_PRINC</th><th>DIAG_SECUN</th><th>COBRANCA</th><th>NATUREZA</th><th>GESTAO</th><th>MUNIC_MOV</th><th>COD_IDADE</th><th>IDADE</th><th>DIAS_PERM</th><th>MORTE</th><th>CNES</th><th>FONTE</th><th>MODALIDADE</th></tr>\n",
       "<tr><td>2019</td><td>02</td><td>60194990000763</td><td>354990</td><td>19820217</td><td>3</td><td>0</td><td>000</td><td>0411010034</td><td>1</td><td>20190226</td><td>20190228</td><td>O821</td><td>null</td><td>61</td><td>null</td><td>M</td><td>354990</td><td>4</td><td>37</td><td>2</td><td>0</td><td>0009539</td><td>06</td><td>02</td></tr>\n",
       "<tr><td>2019</td><td>02</td><td>60194990000763</td><td>354990</td><td>19831215</td><td>3</td><td>0</td><td>000</td><td>0411010034</td><td>1</td><td>20190225</td><td>20190227</td><td>O829</td><td>null</td><td>62</td><td>null</td><td>M</td><td>354990</td><td>4</td><td>35</td><td>2</td><td>0</td><td>0009539</td><td>02</td><td>02</td></tr>\n",
       "<tr><td>2019</td><td>02</td><td>60194990000763</td><td>354990</td><td>19880226</td><td>3</td><td>0</td><td>000</td><td>0301040001</td><td>1</td><td>20190226</td><td>20190227</td><td>A09</td><td>null</td><td>12</td><td>null</td><td>M</td><td>354990</td><td>4</td><td>31</td><td>1</td><td>0</td><td>0009539</td><td>02</td><td>02</td></tr>\n",
       "<tr><td>2019</td><td>02</td><td>60194990000763</td><td>354990</td><td>19350825</td><td>1</td><td>0</td><td>002</td><td>0301040001</td><td>1</td><td>20190226</td><td>20190228</td><td>I219</td><td>null</td><td>31</td><td>null</td><td>M</td><td>354990</td><td>4</td><td>83</td><td>2</td><td>0</td><td>0009539</td><td>02</td><td>02</td></tr>\n",
       "<tr><td>2019</td><td>02</td><td>60194990000763</td><td>354990</td><td>19950205</td><td>3</td><td>0</td><td>000</td><td>0301040001</td><td>1</td><td>20190226</td><td>20190227</td><td>Z411</td><td>null</td><td>12</td><td>null</td><td>M</td><td>354990</td><td>4</td><td>24</td><td>1</td><td>0</td><td>0009539</td><td>02</td><td>02</td></tr>\n",
       "<tr><td>2019</td><td>02</td><td>60194990000763</td><td>354990</td><td>19611021</td><td>3</td><td>0</td><td>000</td><td>0301040001</td><td>1</td><td>20190227</td><td>20190227</td><td>N649</td><td>null</td><td>12</td><td>null</td><td>M</td><td>354990</td><td>4</td><td>57</td><td>0</td><td>0</td><td>0009539</td><td>02</td><td>02</td></tr>\n",
       "<tr><td>2019</td><td>02</td><td>45184066000117</td><td>354990</td><td>19680603</td><td>3</td><td>0</td><td>000</td><td>0301060070</td><td>1</td><td>20190222</td><td>20190222</td><td>G560</td><td>null</td><td>11</td><td>null</td><td>M</td><td>354990</td><td>4</td><td>50</td><td>0</td><td>0</td><td>3042529</td><td>01</td><td>02</td></tr>\n",
       "<tr><td>2019</td><td>02</td><td>45184066000117</td><td>354990</td><td>19680814</td><td>1</td><td>0</td><td>000</td><td>0301060070</td><td>1</td><td>20190222</td><td>20190223</td><td>N209</td><td>null</td><td>11</td><td>null</td><td>M</td><td>354990</td><td>4</td><td>50</td><td>1</td><td>0</td><td>3042529</td><td>01</td><td>02</td></tr>\n",
       "<tr><td>2019</td><td>02</td><td>45184066000389</td><td>354990</td><td>19820502</td><td>3</td><td>0</td><td>000</td><td>0411010034</td><td>1</td><td>20190222</td><td>20190224</td><td>O829</td><td>null</td><td>61</td><td>null</td><td>M</td><td>354990</td><td>4</td><td>36</td><td>2</td><td>0</td><td>5259789</td><td>01</td><td>02</td></tr>\n",
       "<tr><td>2019</td><td>02</td><td>45184066000389</td><td>354990</td><td>19870423</td><td>3</td><td>0</td><td>000</td><td>0411010034</td><td>1</td><td>20190222</td><td>20190224</td><td>O829</td><td>null</td><td>61</td><td>null</td><td>M</td><td>354990</td><td>4</td><td>31</td><td>2</td><td>0</td><td>5259789</td><td>01</td><td>02</td></tr>\n",
       "<tr><td>2019</td><td>02</td><td>45184066000389</td><td>354990</td><td>19560722</td><td>3</td><td>0</td><td>000</td><td>0301060088</td><td>1</td><td>20190223</td><td>20190223</td><td>N999</td><td>null</td><td>12</td><td>null</td><td>M</td><td>354990</td><td>4</td><td>62</td><td>0</td><td>0</td><td>5259789</td><td>02</td><td>02</td></tr>\n",
       "<tr><td>2019</td><td>02</td><td>45184066000389</td><td>354990</td><td>19980728</td><td>1</td><td>0</td><td>000</td><td>0301060070</td><td>1</td><td>20190223</td><td>20190223</td><td>J342</td><td>null</td><td>12</td><td>null</td><td>M</td><td>354990</td><td>4</td><td>20</td><td>0</td><td>0</td><td>5259789</td><td>01</td><td>02</td></tr>\n",
       "<tr><td>2019</td><td>02</td><td>45184066000389</td><td>354990</td><td>19870202</td><td>3</td><td>0</td><td>000</td><td>0301060070</td><td>1</td><td>20190223</td><td>20190223</td><td>Z429</td><td>null</td><td>12</td><td>null</td><td>M</td><td>354990</td><td>4</td><td>32</td><td>0</td><td>0</td><td>5259789</td><td>02</td><td>02</td></tr>\n",
       "<tr><td>2019</td><td>02</td><td>45184066000117</td><td>354990</td><td>19690515</td><td>3</td><td>0</td><td>000</td><td>0301060088</td><td>1</td><td>20190223</td><td>20190223</td><td>R53</td><td>null</td><td>11</td><td>null</td><td>M</td><td>354990</td><td>4</td><td>49</td><td>0</td><td>0</td><td>3042529</td><td>01</td><td>02</td></tr>\n",
       "<tr><td>2019</td><td>02</td><td>45184066000389</td><td>354990</td><td>19920717</td><td>3</td><td>0</td><td>000</td><td>0411010034</td><td>1</td><td>20190225</td><td>20190227</td><td>O829</td><td>null</td><td>61</td><td>null</td><td>M</td><td>354990</td><td>4</td><td>26</td><td>2</td><td>0</td><td>5259789</td><td>01</td><td>02</td></tr>\n",
       "<tr><td>2019</td><td>02</td><td>45184066000117</td><td>354990</td><td>19660409</td><td>1</td><td>0</td><td>000</td><td>0301060088</td><td>1</td><td>20190224</td><td>20190226</td><td>V193</td><td>null</td><td>12</td><td>null</td><td>M</td><td>354990</td><td>4</td><td>52</td><td>2</td><td>0</td><td>3042529</td><td>01</td><td>02</td></tr>\n",
       "<tr><td>2019</td><td>02</td><td>45184066000117</td><td>354990</td><td>19850306</td><td>1</td><td>0</td><td>000</td><td>0301060070</td><td>1</td><td>20190228</td><td>20190228</td><td>N209</td><td>null</td><td>11</td><td>null</td><td>M</td><td>354990</td><td>4</td><td>33</td><td>0</td><td>0</td><td>3042529</td><td>01</td><td>02</td></tr>\n",
       "<tr><td>2019</td><td>02</td><td>45184066000117</td><td>354990</td><td>19710629</td><td>3</td><td>0</td><td>000</td><td>0301060088</td><td>1</td><td>20190225</td><td>20190226</td><td>E059</td><td>null</td><td>12</td><td>null</td><td>M</td><td>354990</td><td>4</td><td>47</td><td>1</td><td>0</td><td>3042529</td><td>02</td><td>02</td></tr>\n",
       "<tr><td>2019</td><td>02</td><td>45184066000389</td><td>354990</td><td>19800424</td><td>1</td><td>0</td><td>000</td><td>0301060070</td><td>1</td><td>20190225</td><td>20190225</td><td>Z302</td><td>null</td><td>11</td><td>null</td><td>M</td><td>354990</td><td>4</td><td>38</td><td>0</td><td>0</td><td>5259789</td><td>01</td><td>02</td></tr>\n",
       "<tr><td>2019</td><td>02</td><td>45184066000389</td><td>354990</td><td>19991226</td><td>3</td><td>0</td><td>000</td><td>0411010034</td><td>1</td><td>20190225</td><td>20190227</td><td>O829</td><td>null</td><td>61</td><td>null</td><td>M</td><td>354990</td><td>4</td><td>19</td><td>2</td><td>0</td><td>5259789</td><td>01</td><td>02</td></tr>\n",
       "</table>\n",
       "only showing top 20 rows\n"
      ],
      "text/plain": [
       "+--------+--------+--------------+---------+--------+----+----------+----------+----------+-------+--------+--------+----------+----------+--------+--------+------+---------+---------+-----+---------+-----+-------+-----+----------+\n",
       "|ANO_CMPT|MES_CMPT|      CGC_HOSP|MUNIC_RES|    NASC|SEXO|UTI_MES_TO|UTI_INT_TO|  PROC_REA|QT_PROC|DT_ATEND|DT_SAIDA|DIAG_PRINC|DIAG_SECUN|COBRANCA|NATUREZA|GESTAO|MUNIC_MOV|COD_IDADE|IDADE|DIAS_PERM|MORTE|   CNES|FONTE|MODALIDADE|\n",
       "+--------+--------+--------------+---------+--------+----+----------+----------+----------+-------+--------+--------+----------+----------+--------+--------+------+---------+---------+-----+---------+-----+-------+-----+----------+\n",
       "|    2019|      02|60194990000763|   354990|19820217|   3|         0|       000|0411010034|      1|20190226|20190228|      O821|      null|      61|    null|     M|   354990|        4|   37|        2|    0|0009539|   06|        02|\n",
       "|    2019|      02|60194990000763|   354990|19831215|   3|         0|       000|0411010034|      1|20190225|20190227|      O829|      null|      62|    null|     M|   354990|        4|   35|        2|    0|0009539|   02|        02|\n",
       "|    2019|      02|60194990000763|   354990|19880226|   3|         0|       000|0301040001|      1|20190226|20190227|       A09|      null|      12|    null|     M|   354990|        4|   31|        1|    0|0009539|   02|        02|\n",
       "|    2019|      02|60194990000763|   354990|19350825|   1|         0|       002|0301040001|      1|20190226|20190228|      I219|      null|      31|    null|     M|   354990|        4|   83|        2|    0|0009539|   02|        02|\n",
       "|    2019|      02|60194990000763|   354990|19950205|   3|         0|       000|0301040001|      1|20190226|20190227|      Z411|      null|      12|    null|     M|   354990|        4|   24|        1|    0|0009539|   02|        02|\n",
       "|    2019|      02|60194990000763|   354990|19611021|   3|         0|       000|0301040001|      1|20190227|20190227|      N649|      null|      12|    null|     M|   354990|        4|   57|        0|    0|0009539|   02|        02|\n",
       "|    2019|      02|45184066000117|   354990|19680603|   3|         0|       000|0301060070|      1|20190222|20190222|      G560|      null|      11|    null|     M|   354990|        4|   50|        0|    0|3042529|   01|        02|\n",
       "|    2019|      02|45184066000117|   354990|19680814|   1|         0|       000|0301060070|      1|20190222|20190223|      N209|      null|      11|    null|     M|   354990|        4|   50|        1|    0|3042529|   01|        02|\n",
       "|    2019|      02|45184066000389|   354990|19820502|   3|         0|       000|0411010034|      1|20190222|20190224|      O829|      null|      61|    null|     M|   354990|        4|   36|        2|    0|5259789|   01|        02|\n",
       "|    2019|      02|45184066000389|   354990|19870423|   3|         0|       000|0411010034|      1|20190222|20190224|      O829|      null|      61|    null|     M|   354990|        4|   31|        2|    0|5259789|   01|        02|\n",
       "|    2019|      02|45184066000389|   354990|19560722|   3|         0|       000|0301060088|      1|20190223|20190223|      N999|      null|      12|    null|     M|   354990|        4|   62|        0|    0|5259789|   02|        02|\n",
       "|    2019|      02|45184066000389|   354990|19980728|   1|         0|       000|0301060070|      1|20190223|20190223|      J342|      null|      12|    null|     M|   354990|        4|   20|        0|    0|5259789|   01|        02|\n",
       "|    2019|      02|45184066000389|   354990|19870202|   3|         0|       000|0301060070|      1|20190223|20190223|      Z429|      null|      12|    null|     M|   354990|        4|   32|        0|    0|5259789|   02|        02|\n",
       "|    2019|      02|45184066000117|   354990|19690515|   3|         0|       000|0301060088|      1|20190223|20190223|       R53|      null|      11|    null|     M|   354990|        4|   49|        0|    0|3042529|   01|        02|\n",
       "|    2019|      02|45184066000389|   354990|19920717|   3|         0|       000|0411010034|      1|20190225|20190227|      O829|      null|      61|    null|     M|   354990|        4|   26|        2|    0|5259789|   01|        02|\n",
       "|    2019|      02|45184066000117|   354990|19660409|   1|         0|       000|0301060088|      1|20190224|20190226|      V193|      null|      12|    null|     M|   354990|        4|   52|        2|    0|3042529|   01|        02|\n",
       "|    2019|      02|45184066000117|   354990|19850306|   1|         0|       000|0301060070|      1|20190228|20190228|      N209|      null|      11|    null|     M|   354990|        4|   33|        0|    0|3042529|   01|        02|\n",
       "|    2019|      02|45184066000117|   354990|19710629|   3|         0|       000|0301060088|      1|20190225|20190226|      E059|      null|      12|    null|     M|   354990|        4|   47|        1|    0|3042529|   02|        02|\n",
       "|    2019|      02|45184066000389|   354990|19800424|   1|         0|       000|0301060070|      1|20190225|20190225|      Z302|      null|      11|    null|     M|   354990|        4|   38|        0|    0|5259789|   01|        02|\n",
       "|    2019|      02|45184066000389|   354990|19991226|   3|         0|       000|0411010034|      1|20190225|20190227|      O829|      null|      61|    null|     M|   354990|        4|   19|        2|    0|5259789|   01|        02|\n",
       "+--------+--------+--------------+---------+--------+----+----------+----------+----------+-------+--------+--------+----------+----------+--------+--------+------+---------+---------+-----+---------+-----+-------+-----+----------+\n",
       "only showing top 20 rows"
      ]
     },
     "execution_count": 3,
     "metadata": {},
     "output_type": "execute_result"
    }
   ],
   "source": [
    "df"
   ]
  },
  {
   "cell_type": "code",
   "execution_count": 4,
   "id": "609cdb3a-c661-4965-ab2c-ca50e3a4b8a1",
   "metadata": {},
   "outputs": [
    {
     "data": {
      "text/plain": [
       "127272146"
      ]
     },
     "execution_count": 4,
     "metadata": {},
     "output_type": "execute_result"
    }
   ],
   "source": [
    "df.count()"
   ]
  },
  {
   "cell_type": "code",
   "execution_count": null,
   "id": "07303980-0fc3-4f9a-af61-a623787aa795",
   "metadata": {},
   "outputs": [],
   "source": []
  }
 ],
 "metadata": {
  "kernelspec": {
   "display_name": "Python 3 (ipykernel)",
   "language": "python",
   "name": "python3"
  },
  "language_info": {
   "codemirror_mode": {
    "name": "ipython",
    "version": 3
   },
   "file_extension": ".py",
   "mimetype": "text/x-python",
   "name": "python",
   "nbconvert_exporter": "python",
   "pygments_lexer": "ipython3",
   "version": "3.11.6"
  }
 },
 "nbformat": 4,
 "nbformat_minor": 5
}
