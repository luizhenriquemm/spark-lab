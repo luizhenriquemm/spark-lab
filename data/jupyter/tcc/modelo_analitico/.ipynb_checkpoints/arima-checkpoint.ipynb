{
 "cells": [
  {
   "cell_type": "code",
   "execution_count": 1,
   "id": "0326c21b-95c7-4bfd-a4e3-74e4d06f7cdf",
   "metadata": {},
   "outputs": [],
   "source": [
    "%run ../spark-default.py"
   ]
  },
  {
   "cell_type": "code",
   "execution_count": 2,
   "id": "681ca8b9-45b3-421c-8e26-f1e3c2ec1497",
   "metadata": {},
   "outputs": [],
   "source": [
    "import builtins as b\n",
    "from datetime import datetime, timedelta, date\n",
    "import sys, traceback\n",
    "from delta.tables import DeltaTable\n",
    "\n",
    "from scipy.cluster.hierarchy import linkage, dendrogram\n",
    "import pandas as pd\n",
    "import numpy as np\n",
    "import matplotlib.pyplot as plt\n",
    "import seaborn as sns\n",
    "\n",
    "from pyspark.ml.clustering import KMeans\n",
    "from pyspark.ml.feature import StringIndexer, VectorAssembler, OneHotEncoder\n",
    "from pyspark.ml.evaluation import ClusteringEvaluator\n",
    "from pyspark.ml import Pipeline"
   ]
  },
  {
   "cell_type": "code",
   "execution_count": 3,
   "id": "90331b28-4478-40af-aef7-c2e2062c5623",
   "metadata": {},
   "outputs": [
    {
     "name": "stdout",
     "output_type": "stream",
     "text": [
      "root\n",
      " |-- dt_atend: date (nullable = true)\n",
      " |-- total_atendimentos: long (nullable = false)\n",
      " |-- total_atendimentos_masc: long (nullable = true)\n",
      " |-- total_atendimentos_fem: long (nullable = true)\n",
      "\n"
     ]
    }
   ],
   "source": [
    "df = spark.table(\"stage.ciha_atendimentos\")\n",
    "\n",
    "df.printSchema()"
   ]
  },
  {
   "cell_type": "code",
   "execution_count": 4,
   "id": "2ca6b654-9c90-44aa-b913-f1cad5b1632c",
   "metadata": {},
   "outputs": [
    {
     "data": {
      "text/html": [
       "<table border='1'>\n",
       "<tr><th>dt_atend</th><th>total_atendimentos</th><th>total_atendimentos_masc</th><th>total_atendimentos_fem</th></tr>\n",
       "<tr><td>2020-08-24</td><td>26611</td><td>10521</td><td>16088</td></tr>\n",
       "<tr><td>2018-08-10</td><td>29478</td><td>11331</td><td>18144</td></tr>\n",
       "<tr><td>2013-01-22</td><td>19441</td><td>7570</td><td>11868</td></tr>\n",
       "<tr><td>2020-07-24</td><td>22686</td><td>9143</td><td>13543</td></tr>\n",
       "<tr><td>2020-08-05</td><td>24690</td><td>9938</td><td>14751</td></tr>\n",
       "<tr><td>2020-11-29</td><td>8323</td><td>3687</td><td>4636</td></tr>\n",
       "<tr><td>2020-01-21</td><td>36586</td><td>14050</td><td>22527</td></tr>\n",
       "<tr><td>2019-11-18</td><td>35068</td><td>13586</td><td>21480</td></tr>\n",
       "<tr><td>2019-11-01</td><td>31141</td><td>12119</td><td>19017</td></tr>\n",
       "<tr><td>2019-09-22</td><td>8001</td><td>3391</td><td>4608</td></tr>\n",
       "<tr><td>2020-04-30</td><td>14657</td><td>5877</td><td>8777</td></tr>\n",
       "<tr><td>2020-08-28</td><td>24050</td><td>9429</td><td>14620</td></tr>\n",
       "<tr><td>2020-08-29</td><td>12213</td><td>5056</td><td>7155</td></tr>\n",
       "<tr><td>2019-11-21</td><td>32640</td><td>12798</td><td>19834</td></tr>\n",
       "<tr><td>2020-10-04</td><td>7079</td><td>2893</td><td>4185</td></tr>\n",
       "<tr><td>2019-05-27</td><td>35265</td><td>14163</td><td>21100</td></tr>\n",
       "<tr><td>2020-09-24</td><td>28126</td><td>10833</td><td>17289</td></tr>\n",
       "<tr><td>2020-12-18</td><td>28034</td><td>10986</td><td>17043</td></tr>\n",
       "<tr><td>2020-03-07</td><td>16363</td><td>6665</td><td>9697</td></tr>\n",
       "<tr><td>2020-03-13</td><td>33123</td><td>13228</td><td>19879</td></tr>\n",
       "</table>\n",
       "only showing top 20 rows\n"
      ],
      "text/plain": [
       "+----------+------------------+-----------------------+----------------------+\n",
       "|  dt_atend|total_atendimentos|total_atendimentos_masc|total_atendimentos_fem|\n",
       "+----------+------------------+-----------------------+----------------------+\n",
       "|2020-08-24|             26611|                  10521|                 16088|\n",
       "|2018-08-10|             29478|                  11331|                 18144|\n",
       "|2013-01-22|             19441|                   7570|                 11868|\n",
       "|2020-07-24|             22686|                   9143|                 13543|\n",
       "|2020-08-05|             24690|                   9938|                 14751|\n",
       "|2020-11-29|              8323|                   3687|                  4636|\n",
       "|2020-01-21|             36586|                  14050|                 22527|\n",
       "|2019-11-18|             35068|                  13586|                 21480|\n",
       "|2019-11-01|             31141|                  12119|                 19017|\n",
       "|2019-09-22|              8001|                   3391|                  4608|\n",
       "|2020-04-30|             14657|                   5877|                  8777|\n",
       "|2020-08-28|             24050|                   9429|                 14620|\n",
       "|2020-08-29|             12213|                   5056|                  7155|\n",
       "|2019-11-21|             32640|                  12798|                 19834|\n",
       "|2020-10-04|              7079|                   2893|                  4185|\n",
       "|2019-05-27|             35265|                  14163|                 21100|\n",
       "|2020-09-24|             28126|                  10833|                 17289|\n",
       "|2020-12-18|             28034|                  10986|                 17043|\n",
       "|2020-03-07|             16363|                   6665|                  9697|\n",
       "|2020-03-13|             33123|                  13228|                 19879|\n",
       "+----------+------------------+-----------------------+----------------------+\n",
       "only showing top 20 rows"
      ]
     },
     "execution_count": 4,
     "metadata": {},
     "output_type": "execute_result"
    }
   ],
   "source": [
    "df"
   ]
  },
  {
   "cell_type": "code",
   "execution_count": 31,
   "id": "a1bfa050-88c7-41c6-a806-911f3edeeead",
   "metadata": {},
   "outputs": [],
   "source": [
    "# date_format(col(\"dt_atend\"), \"yyyy-MM\")\n",
    "# date_trunc(\"month\", col(\"dt_atend\"))\n",
    "\n",
    "df_mensal = df.filter(col(\"dt_atend\").between(lit('2011-01-01').cast('date'), lit('2023-12-31').cast('date'))).withColumn(\"mes\", date_trunc(\"month\", col(\"dt_atend\"))) \\\n",
    "                     .groupBy(\"mes\").agg(\n",
    "                         sum(\"total_atendimentos\").alias(\"qtd_mes\")\n",
    "                     ).orderBy(col(\"mes\").asc())"
   ]
  },
  {
   "cell_type": "code",
   "execution_count": 24,
   "id": "68737fdd-6754-4c01-ac4a-de0294ea9f84",
   "metadata": {},
   "outputs": [
    {
     "data": {
      "text/html": [
       "<table border='1'>\n",
       "<tr><th>mes</th><th>qtd_mes</th></tr>\n",
       "<tr><td>2011-01-01 00:00:00</td><td>454317</td></tr>\n",
       "<tr><td>2011-02-01 00:00:00</td><td>503245</td></tr>\n",
       "<tr><td>2011-03-01 00:00:00</td><td>614843</td></tr>\n",
       "<tr><td>2011-04-01 00:00:00</td><td>545305</td></tr>\n",
       "<tr><td>2011-05-01 00:00:00</td><td>765510</td></tr>\n",
       "<tr><td>2011-06-01 00:00:00</td><td>676873</td></tr>\n",
       "<tr><td>2011-07-01 00:00:00</td><td>476433</td></tr>\n",
       "<tr><td>2011-08-01 00:00:00</td><td>493784</td></tr>\n",
       "<tr><td>2011-09-01 00:00:00</td><td>462859</td></tr>\n",
       "<tr><td>2011-10-01 00:00:00</td><td>465303</td></tr>\n",
       "<tr><td>2011-11-01 00:00:00</td><td>453093</td></tr>\n",
       "<tr><td>2011-12-01 00:00:00</td><td>435116</td></tr>\n",
       "<tr><td>2012-01-01 00:00:00</td><td>759931</td></tr>\n",
       "<tr><td>2012-02-01 00:00:00</td><td>537577</td></tr>\n",
       "<tr><td>2012-03-01 00:00:00</td><td>562423</td></tr>\n",
       "<tr><td>2012-04-01 00:00:00</td><td>533233</td></tr>\n",
       "<tr><td>2012-05-01 00:00:00</td><td>593217</td></tr>\n",
       "<tr><td>2012-06-01 00:00:00</td><td>539245</td></tr>\n",
       "<tr><td>2012-07-01 00:00:00</td><td>579764</td></tr>\n",
       "<tr><td>2012-08-01 00:00:00</td><td>638978</td></tr>\n",
       "</table>\n",
       "only showing top 20 rows\n"
      ],
      "text/plain": [
       "+-------------------+-------+\n",
       "|                mes|qtd_mes|\n",
       "+-------------------+-------+\n",
       "|2011-01-01 00:00:00| 454317|\n",
       "|2011-02-01 00:00:00| 503245|\n",
       "|2011-03-01 00:00:00| 614843|\n",
       "|2011-04-01 00:00:00| 545305|\n",
       "|2011-05-01 00:00:00| 765510|\n",
       "|2011-06-01 00:00:00| 676873|\n",
       "|2011-07-01 00:00:00| 476433|\n",
       "|2011-08-01 00:00:00| 493784|\n",
       "|2011-09-01 00:00:00| 462859|\n",
       "|2011-10-01 00:00:00| 465303|\n",
       "|2011-11-01 00:00:00| 453093|\n",
       "|2011-12-01 00:00:00| 435116|\n",
       "|2012-01-01 00:00:00| 759931|\n",
       "|2012-02-01 00:00:00| 537577|\n",
       "|2012-03-01 00:00:00| 562423|\n",
       "|2012-04-01 00:00:00| 533233|\n",
       "|2012-05-01 00:00:00| 593217|\n",
       "|2012-06-01 00:00:00| 539245|\n",
       "|2012-07-01 00:00:00| 579764|\n",
       "|2012-08-01 00:00:00| 638978|\n",
       "+-------------------+-------+\n",
       "only showing top 20 rows"
      ]
     },
     "execution_count": 24,
     "metadata": {},
     "output_type": "execute_result"
    }
   ],
   "source": [
    "df_mensal"
   ]
  },
  {
   "cell_type": "code",
   "execution_count": 32,
   "id": "ab6939ae-6f51-458f-a51f-5b2faecd2b91",
   "metadata": {},
   "outputs": [
    {
     "name": "stderr",
     "output_type": "stream",
     "text": [
      "/usr/local/spark/python/pyspark/sql/pandas/conversion.py:251: FutureWarning: Passing unit-less datetime64 dtype to .astype is deprecated and will raise in a future version. Pass 'datetime64[ns]' instead\n",
      "  series = series.astype(t, copy=False)\n"
     ]
    }
   ],
   "source": [
    "df_mensal_pd = df_mensal.toPandas()"
   ]
  },
  {
   "cell_type": "code",
   "execution_count": 26,
   "id": "8b4c1003-1e82-4ea2-91af-e3c0da8f0167",
   "metadata": {},
   "outputs": [
    {
     "data": {
      "text/html": [
       "<div>\n",
       "<style scoped>\n",
       "    .dataframe tbody tr th:only-of-type {\n",
       "        vertical-align: middle;\n",
       "    }\n",
       "\n",
       "    .dataframe tbody tr th {\n",
       "        vertical-align: top;\n",
       "    }\n",
       "\n",
       "    .dataframe thead th {\n",
       "        text-align: right;\n",
       "    }\n",
       "</style>\n",
       "<table border=\"1\" class=\"dataframe\">\n",
       "  <thead>\n",
       "    <tr style=\"text-align: right;\">\n",
       "      <th></th>\n",
       "      <th>mes</th>\n",
       "      <th>qtd_mes</th>\n",
       "    </tr>\n",
       "  </thead>\n",
       "  <tbody>\n",
       "    <tr>\n",
       "      <th>0</th>\n",
       "      <td>2011-01-01</td>\n",
       "      <td>454317</td>\n",
       "    </tr>\n",
       "    <tr>\n",
       "      <th>1</th>\n",
       "      <td>2011-02-01</td>\n",
       "      <td>503245</td>\n",
       "    </tr>\n",
       "    <tr>\n",
       "      <th>2</th>\n",
       "      <td>2011-03-01</td>\n",
       "      <td>614843</td>\n",
       "    </tr>\n",
       "    <tr>\n",
       "      <th>3</th>\n",
       "      <td>2011-04-01</td>\n",
       "      <td>545305</td>\n",
       "    </tr>\n",
       "    <tr>\n",
       "      <th>4</th>\n",
       "      <td>2011-05-01</td>\n",
       "      <td>765510</td>\n",
       "    </tr>\n",
       "  </tbody>\n",
       "</table>\n",
       "</div>"
      ],
      "text/plain": [
       "         mes  qtd_mes\n",
       "0 2011-01-01   454317\n",
       "1 2011-02-01   503245\n",
       "2 2011-03-01   614843\n",
       "3 2011-04-01   545305\n",
       "4 2011-05-01   765510"
      ]
     },
     "execution_count": 26,
     "metadata": {},
     "output_type": "execute_result"
    }
   ],
   "source": [
    "df_mensal_pd.head()"
   ]
  },
  {
   "cell_type": "code",
   "execution_count": 27,
   "id": "51fe487a-1932-4d52-9156-2cdf5bd0a599",
   "metadata": {},
   "outputs": [
    {
     "data": {
      "text/html": [
       "<div>\n",
       "<style scoped>\n",
       "    .dataframe tbody tr th:only-of-type {\n",
       "        vertical-align: middle;\n",
       "    }\n",
       "\n",
       "    .dataframe tbody tr th {\n",
       "        vertical-align: top;\n",
       "    }\n",
       "\n",
       "    .dataframe thead th {\n",
       "        text-align: right;\n",
       "    }\n",
       "</style>\n",
       "<table border=\"1\" class=\"dataframe\">\n",
       "  <thead>\n",
       "    <tr style=\"text-align: right;\">\n",
       "      <th></th>\n",
       "      <th>qtd_mes</th>\n",
       "    </tr>\n",
       "    <tr>\n",
       "      <th>mes</th>\n",
       "      <th></th>\n",
       "    </tr>\n",
       "  </thead>\n",
       "  <tbody>\n",
       "    <tr>\n",
       "      <th>2011-01-01</th>\n",
       "      <td>454317</td>\n",
       "    </tr>\n",
       "    <tr>\n",
       "      <th>2011-02-01</th>\n",
       "      <td>503245</td>\n",
       "    </tr>\n",
       "    <tr>\n",
       "      <th>2011-03-01</th>\n",
       "      <td>614843</td>\n",
       "    </tr>\n",
       "    <tr>\n",
       "      <th>2011-04-01</th>\n",
       "      <td>545305</td>\n",
       "    </tr>\n",
       "    <tr>\n",
       "      <th>2011-05-01</th>\n",
       "      <td>765510</td>\n",
       "    </tr>\n",
       "  </tbody>\n",
       "</table>\n",
       "</div>"
      ],
      "text/plain": [
       "            qtd_mes\n",
       "mes                \n",
       "2011-01-01   454317\n",
       "2011-02-01   503245\n",
       "2011-03-01   614843\n",
       "2011-04-01   545305\n",
       "2011-05-01   765510"
      ]
     },
     "execution_count": 27,
     "metadata": {},
     "output_type": "execute_result"
    }
   ],
   "source": [
    "df_mensal_pd.set_index('mes', inplace=True)\n",
    "df_mensal_pd.index = pd.DatetimeIndex(df_mensal_pd.index, freq='MS')\n",
    "\n",
    "df_mensal_pd.head()"
   ]
  },
  {
   "cell_type": "code",
   "execution_count": 71,
   "id": "4f1809d2-14af-4c26-9948-20ddc31e7a39",
   "metadata": {},
   "outputs": [],
   "source": [
    "from statsmodels.tsa.arima.model import ARIMA\n",
    "\n",
    "model = ARIMA(df_mensal_pd['qtd_mes'], order=(1,1,1))\n",
    "model_fit = model.fit()\n",
    "\n",
    "# Previsão para os próximos 12 meses\n",
    "forecast = model_fit.forecast(steps=12)"
   ]
  },
  {
   "cell_type": "code",
   "execution_count": 72,
   "id": "98bfa56d-ecbf-44a0-a4de-b8822fd33dbf",
   "metadata": {},
   "outputs": [
    {
     "data": {
      "text/plain": [
       "156    890126.971784\n",
       "157    914731.879270\n",
       "158    923211.726198\n",
       "159    926134.224645\n",
       "160    927141.435889\n",
       "161    927488.561647\n",
       "162    927608.195232\n",
       "163    927649.425807\n",
       "164    927663.635532\n",
       "165    927668.532779\n",
       "166    927670.220568\n",
       "167    927670.802248\n",
       "Name: predicted_mean, dtype: float64"
      ]
     },
     "execution_count": 72,
     "metadata": {},
     "output_type": "execute_result"
    }
   ],
   "source": [
    "forecast"
   ]
  },
  {
   "cell_type": "code",
   "execution_count": 73,
   "id": "031368a0-6e41-474c-a2ed-c77aea1095a2",
   "metadata": {},
   "outputs": [
    {
     "name": "stderr",
     "output_type": "stream",
     "text": [
      "/usr/local/spark/python/pyspark/sql/pandas/conversion.py:251: FutureWarning: Passing unit-less datetime64 dtype to .astype is deprecated and will raise in a future version. Pass 'datetime64[ns]' instead\n",
      "  series = series.astype(t, copy=False)\n"
     ]
    }
   ],
   "source": [
    "# Cria o dataframe com os dados de 2024 para comparar com o modelo\n",
    "df_mensal_2024 = df.filter(col(\"dt_atend\").between(lit('2024-01-01').cast('date'), lit('2024-12-31').cast('date'))).withColumn(\"mes\", date_trunc(\"month\", col(\"dt_atend\"))) \\\n",
    "                     .groupBy(\"mes\").agg(\n",
    "                         sum(\"total_atendimentos\").alias(\"qtd_mes\")\n",
    "                     ).orderBy(col(\"mes\").asc())\n",
    "\n",
    "df_mensal_2024_pd = df_mensal_2024.toPandas()\n",
    "\n",
    "df_mensal_2024_pd.set_index('mes', inplace=True)\n",
    "df_mensal_2024_pd.index = pd.DatetimeIndex(df_mensal_2024_pd.index, freq='MS')"
   ]
  },
  {
   "cell_type": "code",
   "execution_count": 79,
   "id": "34b31a1d-648a-4e17-a9aa-9a8679f88d00",
   "metadata": {},
   "outputs": [],
   "source": [
    "predito = forecast\n",
    "real = df_mensal_2024_pd['qtd_mes']\n",
    "\n",
    "real.index = pd.DatetimeIndex(real.index)\n",
    "predito.index = pd.DatetimeIndex(real.index)"
   ]
  },
  {
   "cell_type": "code",
   "execution_count": 80,
   "id": "6db7e5ee-d537-49b9-8327-598a561e4894",
   "metadata": {},
   "outputs": [
    {
     "data": {
      "text/plain": [
       "mes\n",
       "2024-01-01    890126.971784\n",
       "2024-02-01    914731.879270\n",
       "2024-03-01    923211.726198\n",
       "2024-04-01    926134.224645\n",
       "2024-05-01    927141.435889\n",
       "2024-06-01    927488.561647\n",
       "2024-07-01    927608.195232\n",
       "2024-08-01    927649.425807\n",
       "2024-09-01    927663.635532\n",
       "2024-10-01    927668.532779\n",
       "2024-11-01    927670.220568\n",
       "2024-12-01    927670.802248\n",
       "Freq: MS, Name: predicted_mean, dtype: float64"
      ]
     },
     "execution_count": 80,
     "metadata": {},
     "output_type": "execute_result"
    }
   ],
   "source": [
    "predito"
   ]
  },
  {
   "cell_type": "code",
   "execution_count": 78,
   "id": "c161fe8a-2ac5-4737-a613-4f580f82601f",
   "metadata": {},
   "outputs": [
    {
     "data": {
      "text/plain": [
       "mes\n",
       "2024-01-01     861636\n",
       "2024-02-01     897287\n",
       "2024-03-01    1012663\n",
       "2024-04-01    1072117\n",
       "2024-05-01     948572\n",
       "2024-06-01     897999\n",
       "2024-07-01     818334\n",
       "2024-08-01     822552\n",
       "2024-09-01     798087\n",
       "2024-10-01     831779\n",
       "2024-11-01     755784\n",
       "2024-12-01     635165\n",
       "Freq: MS, Name: qtd_mes, dtype: int64"
      ]
     },
     "execution_count": 78,
     "metadata": {},
     "output_type": "execute_result"
    }
   ],
   "source": [
    "real"
   ]
  },
  {
   "cell_type": "code",
   "execution_count": 84,
   "id": "700e5f3e-b0e8-42d0-9c05-0a143091211b",
   "metadata": {},
   "outputs": [
    {
     "name": "stdout",
     "output_type": "stream",
     "text": [
      "MAE: 103043.32\n",
      "RMSE: 127747.54\n",
      "MAPE: 12.99%\n",
      "R²: -0.3225\n"
     ]
    }
   ],
   "source": [
    "from sklearn.metrics import mean_absolute_error, mean_squared_error, r2_score\n",
    "\n",
    "mae = mean_absolute_error(real, predito)\n",
    "rmse = mean_squared_error(real, predito, squared=False)\n",
    "r2 = r2_score(real, predito)\n",
    "mape = (b.abs((real - predito) / real).mean()) * 100\n",
    "\n",
    "# Exibir resultados\n",
    "print(f\"MAE: {mae:.2f}\")\n",
    "print(f\"RMSE: {rmse:.2f}\")\n",
    "print(f\"MAPE: {mape:.2f}%\")\n",
    "print(f\"R²: {r2:.4f}\")"
   ]
  },
  {
   "cell_type": "code",
   "execution_count": 87,
   "id": "9fd190d6-5333-4310-8399-683be4d55503",
   "metadata": {},
   "outputs": [
    {
     "data": {
      "image/png": "[encoded data removed]",
      "text/plain": [
       "<Figure size 1200x600 with 1 Axes>"
      ]
     },
     "metadata": {},
     "output_type": "display_data"
    }
   ],
   "source": [
    "import matplotlib.pyplot as plt\n",
    "\n",
    "plt.figure(figsize=(12,6))\n",
    "plt.plot(real_aligned, label=\"Real\")\n",
    "plt.plot(predito_aligned, label=\"Previsto\")\n",
    "plt.title(\"Atendimentos Médicos - Previsão vs Real\")\n",
    "plt.legend()\n",
    "plt.grid()\n",
    "plt.ticklabel_format(style='plain', axis='y')\n",
    "plt.show()"
   ]
  },
  {
   "cell_type": "code",
   "execution_count": null,
   "id": "237870ef-5f2d-45b9-82cf-8b8999203d57",
   "metadata": {},
   "outputs": [],
   "source": []
  }
 ],
 "metadata": {
  "kernelspec": {
   "display_name": "Python 3 (ipykernel)",
   "language": "python",
   "name": "python3"
  },
  "language_info": {
   "codemirror_mode": {
    "name": "ipython",
    "version": 3
   },
   "file_extension": ".py",
   "mimetype": "text/x-python",
   "name": "python",
   "nbconvert_exporter": "python",
   "pygments_lexer": "ipython3",
   "version": "3.11.6"
  }
 },
 "nbformat": 4,
 "nbformat_minor": 5
}
