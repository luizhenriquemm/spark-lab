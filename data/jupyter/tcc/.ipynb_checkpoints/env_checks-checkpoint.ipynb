{
 "cells": [
  {
   "cell_type": "code",
   "execution_count": 1,
   "id": "693affc7-eb4f-484a-a480-3d82e846f053",
   "metadata": {},
   "outputs": [
    {
     "name": "stdout",
     "output_type": "stream",
     "text": [
      "Collecting delta-spark\n",
      "  Obtaining dependency information for delta-spark from https://files.pythonhosted.org/packages/a7/fc/e57607f6685d13ad71c93f1c63ceabd1eff667c4ca0ebea733a8f37eb711/delta_spark-3.3.0-py3-none-any.whl.metadata\n",
      "  Downloading delta_spark-3.3.0-py3-none-any.whl.metadata (2.0 kB)\n",
      "Collecting pyspark<3.6.0,>=3.5.3 (from delta-spark)\n",
      "  Downloading pyspark-3.5.4.tar.gz (317.3 MB)\n",
      "\u001b[2K     \u001b[90m━━━━━━━━━━━━━━━━━━━━━━━━━━━━━━━━━━━━━━\u001b[0m \u001b[32m317.3/317.3 MB\u001b[0m \u001b[31m10.2 MB/s\u001b[0m eta \u001b[36m0:00:00\u001b[0m00:01\u001b[0m00:01\u001b[0m\n",
      "\u001b[?25h  Preparing metadata (setup.py) ... \u001b[?25ldone\n",
      "\u001b[?25hRequirement already satisfied: importlib-metadata>=1.0.0 in /opt/conda/lib/python3.11/site-packages (from delta-spark) (6.8.0)\n",
      "Requirement already satisfied: zipp>=0.5 in /opt/conda/lib/python3.11/site-packages (from importlib-metadata>=1.0.0->delta-spark) (3.16.2)\n",
      "Collecting py4j==0.10.9.7 (from pyspark<3.6.0,>=3.5.3->delta-spark)\n",
      "  Obtaining dependency information for py4j==0.10.9.7 from https://files.pythonhosted.org/packages/10/30/a58b32568f1623aaad7db22aa9eafc4c6c194b429ff35bdc55ca2726da47/py4j-0.10.9.7-py2.py3-none-any.whl.metadata\n",
      "  Downloading py4j-0.10.9.7-py2.py3-none-any.whl.metadata (1.5 kB)\n",
      "Downloading delta_spark-3.3.0-py3-none-any.whl (21 kB)\n",
      "Downloading py4j-0.10.9.7-py2.py3-none-any.whl (200 kB)\n",
      "\u001b[2K   \u001b[90m━━━━━━━━━━━━━━━━━━━━━━━━━━━━━━━━━━━━━━━━\u001b[0m \u001b[32m200.5/200.5 kB\u001b[0m \u001b[31m7.9 MB/s\u001b[0m eta \u001b[36m0:00:00\u001b[0m\n",
      "\u001b[?25hBuilding wheels for collected packages: pyspark\n",
      "  Building wheel for pyspark (setup.py) ... \u001b[?25ldone\n",
      "\u001b[?25h  Created wheel for pyspark: filename=pyspark-3.5.4-py2.py3-none-any.whl size=317849767 sha256=9c7121ae40c64219551b7abc6c028fec2ff37e804bae5ee6f8b14ade35af87d2\n",
      "  Stored in directory: /home/user/.cache/pip/wheels/8d/28/22/5dbae8a8714ef046cebd320d0ef7c92f5383903cf854c15c0c\n",
      "Successfully built pyspark\n",
      "Installing collected packages: py4j, pyspark, delta-spark\n",
      "  Attempting uninstall: pyspark\n",
      "    Found existing installation: pyspark 3.4.1\n",
      "    Can't uninstall 'pyspark'. No files were found to uninstall.\n",
      "Successfully installed delta-spark-3.3.0 py4j-0.10.9.7 pyspark-3.5.4\n",
      "Note: you may need to restart the kernel to use updated packages.\n"
     ]
    }
   ],
   "source": [
    "pip install delta-spark"
   ]
  },
  {
   "cell_type": "code",
   "execution_count": 1,
   "id": "f833eab9-89c9-4d5e-852a-f9cf296549fa",
   "metadata": {},
   "outputs": [],
   "source": [
    "%run spark-default.py"
   ]
  },
  {
   "cell_type": "code",
   "execution_count": 2,
   "id": "c8cb9fb0-bdbf-4695-bf3e-73af8417ab49",
   "metadata": {},
   "outputs": [
    {
     "data": {
      "text/html": [
       "<table border='1'>\n",
       "<tr><th>namespace</th></tr>\n",
       "<tr><td>bronze</td></tr>\n",
       "<tr><td>default</td></tr>\n",
       "<tr><td>gold</td></tr>\n",
       "<tr><td>silver</td></tr>\n",
       "<tr><td>source</td></tr>\n",
       "</table>\n"
      ],
      "text/plain": [
       "+---------+\n",
       "|namespace|\n",
       "+---------+\n",
       "|   bronze|\n",
       "|  default|\n",
       "|     gold|\n",
       "|   silver|\n",
       "|   source|\n",
       "+---------+"
      ]
     },
     "execution_count": 2,
     "metadata": {},
     "output_type": "execute_result"
    }
   ],
   "source": [
    "spark.sql(\"show databases\")"
   ]
  },
  {
   "cell_type": "code",
   "execution_count": 3,
   "id": "a7561b90-24ab-434b-acc7-e3da771da52a",
   "metadata": {},
   "outputs": [
    {
     "data": {
      "text/html": [
       "<table border='1'>\n",
       "<tr><th>uf</th><th>nome_uf</th><th>regiao_geografica_intermediaria</th><th>nome_regiao_geografica_intermediaria</th><th>nome_regiao_geografica_imediata</th><th>mesorregiao_geografica</th><th>nome_mesorregiao</th><th>microrregiao_geografica</th><th>nome_microrregiao</th><th>municipio</th><th>cod_municipio_completo</th><th>nome_municipio</th><th>cod_municipio</th></tr>\n",
       "<tr><td>11</td><td>Rondônia</td><td>1102</td><td>Ji-Paraná</td><td>Cacoal</td><td>02</td><td>Leste Rondoniense</td><td>006</td><td>Cacoal</td><td>00015</td><td>1100015</td><td>Alta Floresta D&#x27;O...</td><td>110001</td></tr>\n",
       "<tr><td>11</td><td>Rondônia</td><td>1102</td><td>Ji-Paraná</td><td>Cacoal</td><td>02</td><td>Leste Rondoniense</td><td>006</td><td>Cacoal</td><td>00379</td><td>1100379</td><td>Alto Alegre dos P...</td><td>110037</td></tr>\n",
       "<tr><td>11</td><td>Rondônia</td><td>1101</td><td>Porto Velho</td><td>Ariquemes</td><td>02</td><td>Leste Rondoniense</td><td>003</td><td>Ariquemes</td><td>00403</td><td>1100403</td><td>Alto Paraíso</td><td>110040</td></tr>\n",
       "<tr><td>11</td><td>Rondônia</td><td>1102</td><td>Ji-Paraná</td><td>Ji-Paraná</td><td>02</td><td>Leste Rondoniense</td><td>005</td><td>Alvorada D&#x27;Oeste</td><td>00346</td><td>1100346</td><td>Alvorada D&#x27;Oeste</td><td>110034</td></tr>\n",
       "<tr><td>11</td><td>Rondônia</td><td>1101</td><td>Porto Velho</td><td>Ariquemes</td><td>02</td><td>Leste Rondoniense</td><td>003</td><td>Ariquemes</td><td>00023</td><td>1100023</td><td>Ariquemes</td><td>110002</td></tr>\n",
       "<tr><td>11</td><td>Rondônia</td><td>1101</td><td>Porto Velho</td><td>Ariquemes</td><td>01</td><td>Madeira-Guaporé</td><td>001</td><td>Porto Velho</td><td>00452</td><td>1100452</td><td>Buritis</td><td>110045</td></tr>\n",
       "<tr><td>11</td><td>Rondônia</td><td>1102</td><td>Ji-Paraná</td><td>Vilhena</td><td>02</td><td>Leste Rondoniense</td><td>008</td><td>Colorado do Oeste</td><td>00031</td><td>1100031</td><td>Cabixi</td><td>110003</td></tr>\n",
       "<tr><td>11</td><td>Rondônia</td><td>1101</td><td>Porto Velho</td><td>Ariquemes</td><td>02</td><td>Leste Rondoniense</td><td>003</td><td>Ariquemes</td><td>00601</td><td>1100601</td><td>Cacaulândia</td><td>110060</td></tr>\n",
       "<tr><td>11</td><td>Rondônia</td><td>1102</td><td>Ji-Paraná</td><td>Cacoal</td><td>02</td><td>Leste Rondoniense</td><td>006</td><td>Cacoal</td><td>00049</td><td>1100049</td><td>Cacoal</td><td>110004</td></tr>\n",
       "<tr><td>11</td><td>Rondônia</td><td>1101</td><td>Porto Velho</td><td>Ariquemes</td><td>01</td><td>Madeira-Guaporé</td><td>001</td><td>Porto Velho</td><td>00700</td><td>1100700</td><td>Campo Novo de Ron...</td><td>110070</td></tr>\n",
       "<tr><td>11</td><td>Rondônia</td><td>1101</td><td>Porto Velho</td><td>Porto Velho</td><td>01</td><td>Madeira-Guaporé</td><td>001</td><td>Porto Velho</td><td>00809</td><td>1100809</td><td>Candeias do Jamari</td><td>110080</td></tr>\n",
       "<tr><td>11</td><td>Rondônia</td><td>1102</td><td>Ji-Paraná</td><td>Cacoal</td><td>02</td><td>Leste Rondoniense</td><td>006</td><td>Cacoal</td><td>00908</td><td>1100908</td><td>Castanheiras</td><td>110090</td></tr>\n",
       "<tr><td>11</td><td>Rondônia</td><td>1102</td><td>Ji-Paraná</td><td>Vilhena</td><td>02</td><td>Leste Rondoniense</td><td>008</td><td>Colorado do Oeste</td><td>00056</td><td>1100056</td><td>Cerejeiras</td><td>110005</td></tr>\n",
       "<tr><td>11</td><td>Rondônia</td><td>1102</td><td>Ji-Paraná</td><td>Vilhena</td><td>02</td><td>Leste Rondoniense</td><td>007</td><td>Vilhena</td><td>00924</td><td>1100924</td><td>Chupinguaia</td><td>110092</td></tr>\n",
       "<tr><td>11</td><td>Rondônia</td><td>1102</td><td>Ji-Paraná</td><td>Vilhena</td><td>02</td><td>Leste Rondoniense</td><td>008</td><td>Colorado do Oeste</td><td>00064</td><td>1100064</td><td>Colorado do Oeste</td><td>110006</td></tr>\n",
       "<tr><td>11</td><td>Rondônia</td><td>1102</td><td>Ji-Paraná</td><td>Vilhena</td><td>02</td><td>Leste Rondoniense</td><td>008</td><td>Colorado do Oeste</td><td>00072</td><td>1100072</td><td>Corumbiara</td><td>110007</td></tr>\n",
       "<tr><td>11</td><td>Rondônia</td><td>1102</td><td>Ji-Paraná</td><td>Ji-Paraná</td><td>01</td><td>Madeira-Guaporé</td><td>002</td><td>Guajará-Mirim</td><td>00080</td><td>1100080</td><td>Costa Marques</td><td>110008</td></tr>\n",
       "<tr><td>11</td><td>Rondônia</td><td>1101</td><td>Porto Velho</td><td>Ariquemes</td><td>01</td><td>Madeira-Guaporé</td><td>001</td><td>Porto Velho</td><td>00940</td><td>1100940</td><td>Cujubim</td><td>110094</td></tr>\n",
       "<tr><td>11</td><td>Rondônia</td><td>1102</td><td>Ji-Paraná</td><td>Cacoal</td><td>02</td><td>Leste Rondoniense</td><td>006</td><td>Cacoal</td><td>00098</td><td>1100098</td><td>Espigão D&#x27;Oeste</td><td>110009</td></tr>\n",
       "<tr><td>11</td><td>Rondônia</td><td>1101</td><td>Porto Velho</td><td>Jaru</td><td>02</td><td>Leste Rondoniense</td><td>004</td><td>Ji-Paraná</td><td>01005</td><td>1101005</td><td>Governador Jorge ...</td><td>110100</td></tr>\n",
       "</table>\n",
       "only showing top 20 rows\n"
      ],
      "text/plain": [
       "+---+--------+-------------------------------+------------------------------------+-------------------------------+----------------------+-----------------+-----------------------+-----------------+---------+----------------------+--------------------+-------------+\n",
       "| uf| nome_uf|regiao_geografica_intermediaria|nome_regiao_geografica_intermediaria|nome_regiao_geografica_imediata|mesorregiao_geografica| nome_mesorregiao|microrregiao_geografica|nome_microrregiao|municipio|cod_municipio_completo|      nome_municipio|cod_municipio|\n",
       "+---+--------+-------------------------------+------------------------------------+-------------------------------+----------------------+-----------------+-----------------------+-----------------+---------+----------------------+--------------------+-------------+\n",
       "| 11|Rondônia|                           1102|                           Ji-Paraná|                         Cacoal|                    02|Leste Rondoniense|                    006|           Cacoal|    00015|               1100015|Alta Floresta D'O...|       110001|\n",
       "| 11|Rondônia|                           1102|                           Ji-Paraná|                         Cacoal|                    02|Leste Rondoniense|                    006|           Cacoal|    00379|               1100379|Alto Alegre dos P...|       110037|\n",
       "| 11|Rondônia|                           1101|                         Porto Velho|                      Ariquemes|                    02|Leste Rondoniense|                    003|        Ariquemes|    00403|               1100403|        Alto Paraíso|       110040|\n",
       "| 11|Rondônia|                           1102|                           Ji-Paraná|                      Ji-Paraná|                    02|Leste Rondoniense|                    005| Alvorada D'Oeste|    00346|               1100346|    Alvorada D'Oeste|       110034|\n",
       "| 11|Rondônia|                           1101|                         Porto Velho|                      Ariquemes|                    02|Leste Rondoniense|                    003|        Ariquemes|    00023|               1100023|           Ariquemes|       110002|\n",
       "| 11|Rondônia|                           1101|                         Porto Velho|                      Ariquemes|                    01|  Madeira-Guaporé|                    001|      Porto Velho|    00452|               1100452|             Buritis|       110045|\n",
       "| 11|Rondônia|                           1102|                           Ji-Paraná|                        Vilhena|                    02|Leste Rondoniense|                    008|Colorado do Oeste|    00031|               1100031|              Cabixi|       110003|\n",
       "| 11|Rondônia|                           1101|                         Porto Velho|                      Ariquemes|                    02|Leste Rondoniense|                    003|        Ariquemes|    00601|               1100601|         Cacaulândia|       110060|\n",
       "| 11|Rondônia|                           1102|                           Ji-Paraná|                         Cacoal|                    02|Leste Rondoniense|                    006|           Cacoal|    00049|               1100049|              Cacoal|       110004|\n",
       "| 11|Rondônia|                           1101|                         Porto Velho|                      Ariquemes|                    01|  Madeira-Guaporé|                    001|      Porto Velho|    00700|               1100700|Campo Novo de Ron...|       110070|\n",
       "| 11|Rondônia|                           1101|                         Porto Velho|                    Porto Velho|                    01|  Madeira-Guaporé|                    001|      Porto Velho|    00809|               1100809|  Candeias do Jamari|       110080|\n",
       "| 11|Rondônia|                           1102|                           Ji-Paraná|                         Cacoal|                    02|Leste Rondoniense|                    006|           Cacoal|    00908|               1100908|        Castanheiras|       110090|\n",
       "| 11|Rondônia|                           1102|                           Ji-Paraná|                        Vilhena|                    02|Leste Rondoniense|                    008|Colorado do Oeste|    00056|               1100056|          Cerejeiras|       110005|\n",
       "| 11|Rondônia|                           1102|                           Ji-Paraná|                        Vilhena|                    02|Leste Rondoniense|                    007|          Vilhena|    00924|               1100924|         Chupinguaia|       110092|\n",
       "| 11|Rondônia|                           1102|                           Ji-Paraná|                        Vilhena|                    02|Leste Rondoniense|                    008|Colorado do Oeste|    00064|               1100064|   Colorado do Oeste|       110006|\n",
       "| 11|Rondônia|                           1102|                           Ji-Paraná|                        Vilhena|                    02|Leste Rondoniense|                    008|Colorado do Oeste|    00072|               1100072|          Corumbiara|       110007|\n",
       "| 11|Rondônia|                           1102|                           Ji-Paraná|                      Ji-Paraná|                    01|  Madeira-Guaporé|                    002|    Guajará-Mirim|    00080|               1100080|       Costa Marques|       110008|\n",
       "| 11|Rondônia|                           1101|                         Porto Velho|                      Ariquemes|                    01|  Madeira-Guaporé|                    001|      Porto Velho|    00940|               1100940|             Cujubim|       110094|\n",
       "| 11|Rondônia|                           1102|                           Ji-Paraná|                         Cacoal|                    02|Leste Rondoniense|                    006|           Cacoal|    00098|               1100098|     Espigão D'Oeste|       110009|\n",
       "| 11|Rondônia|                           1101|                         Porto Velho|                           Jaru|                    02|Leste Rondoniense|                    004|        Ji-Paraná|    01005|               1101005|Governador Jorge ...|       110100|\n",
       "+---+--------+-------------------------------+------------------------------------+-------------------------------+----------------------+-----------------+-----------------------+-----------------+---------+----------------------+--------------------+-------------+\n",
       "only showing top 20 rows"
      ]
     },
     "execution_count": 3,
     "metadata": {},
     "output_type": "execute_result"
    }
   ],
   "source": [
    "municipios = spark.read.parquet(\"s3a://datalake/raw/municipios/\")\n",
    "\n",
    "municipios"
   ]
  },
  {
   "cell_type": "code",
   "execution_count": 4,
   "id": "ddb2e184-a925-4f36-a932-e39a1fdf3121",
   "metadata": {},
   "outputs": [],
   "source": [
    "municipios.write.format(\"delta\").save(\"s3a://datalake/bronze/municipios/\")"
   ]
  },
  {
   "cell_type": "code",
   "execution_count": 3,
   "id": "8b9b60b1-e51b-423d-beaa-cbbff194b2b6",
   "metadata": {},
   "outputs": [],
   "source": [
    "spark.stop()"
   ]
  }
 ],
 "metadata": {
  "kernelspec": {
   "display_name": "Python 3 (ipykernel)",
   "language": "python",
   "name": "python3"
  },
  "language_info": {
   "codemirror_mode": {
    "name": "ipython",
    "version": 3
   },
   "file_extension": ".py",
   "mimetype": "text/x-python",
   "name": "python",
   "nbconvert_exporter": "python",
   "pygments_lexer": "ipython3",
   "version": "3.11.6"
  }
 },
 "nbformat": 4,
 "nbformat_minor": 5
}
