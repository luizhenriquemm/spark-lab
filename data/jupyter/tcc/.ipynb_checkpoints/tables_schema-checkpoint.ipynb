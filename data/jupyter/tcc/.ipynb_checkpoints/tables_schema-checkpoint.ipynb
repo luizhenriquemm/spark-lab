{
 "cells": [
  {
   "cell_type": "code",
   "execution_count": 11,
   "id": "c32bc34e-d075-4ea9-84ed-190b06c4a86e",
   "metadata": {},
   "outputs": [],
   "source": [
    "from pyspark.sql import SparkSession\n",
    "from pyspark.sql.types import *\n",
    "from pyspark.sql.functions import *\n",
    "\n",
    "spark = (SparkSession.builder\n",
    "             .master(\"spark://spark-master:7077\") # Points to the Spark Cluster\n",
    "             .appName('lab') # Name the app\n",
    "             .config(\"hive.metastore.uris\", \"thrift://hive-metastore:9083\") # Set external Hive Metastore\n",
    "             .config(\"hive.metastore.warehouse.dir\", \"s3a://minio:9000/datalake/\") # Set default warehouse dir (legacy) users/hive/warehouse\n",
    "             .config(\"spark.sql.warehouse.dir\", \"s3a://minio:9000/datalake/\") # Set default warehouse dir\n",
    "             .config(\"hive.metastore.schema.verification\", \"false\") # Prevent some errors\n",
    "             .config(\"fs.defaultFS\", \"s3a://minio:9000/datalake/\") # Set default file system into the HDFS namenode\n",
    "             .config(\"spark.jars\", \"/opt/bitnami/spark/jars_external/hadoop-aws-3.3.4.jar,/opt/bitnami/spark/jars_external/aws-java-sdk-bundle-1.12.588.jar\")\n",
    "             .config(\"spark.sql.repl.eagerEval.enabled\", True)\n",
    "             .enableHiveSupport()\n",
    "             .getOrCreate())\n",
    "\n",
    "sc = spark.sparkContext\n",
    "\n",
    "hdp_configs = {\n",
    "    \"fs.s3a.endpoint\": \"http://minio:9000\",\n",
    "    \"fs.s3a.access.key\": \"minio\",\n",
    "    \"fs.s3a.secret.key\": \"minioadmin\",\n",
    "    \"fs.s3a.connection.timeout\": \"600000\",\n",
    "    \"spark.sql.debug.maxToStringFields\": \"100\",\n",
    "    \"fs.s3a.path.style.access\": \"true\",\n",
    "    \"fs.s3a.impl\": \"org.apache.hadoop.fs.s3a.S3AFileSystem\",\n",
    "    \"fs.s3a.connection.ssl.enabled\": \"true\"\n",
    "}\n",
    "\n",
    "for k,v in hdp_configs.items():\n",
    "    spark.sparkContext._jsc.hadoopConfiguration().set(k, v)\n"
   ]
  },
  {
   "cell_type": "code",
   "execution_count": 10,
   "id": "856034a2-7a01-496b-b8bc-f67fe60076a5",
   "metadata": {},
   "outputs": [],
   "source": [
    "spark.stop()"
   ]
  },
  {
   "cell_type": "code",
   "execution_count": 20,
   "id": "3fb8be1e-a569-4a5f-9c48-35481b30d890",
   "metadata": {},
   "outputs": [
    {
     "data": {
      "text/html": [
       "<table border='1'>\n",
       "<tr><th>namespace</th></tr>\n",
       "<tr><td>bronze</td></tr>\n",
       "<tr><td>default</td></tr>\n",
       "<tr><td>gold</td></tr>\n",
       "<tr><td>silver</td></tr>\n",
       "<tr><td>source</td></tr>\n",
       "</table>\n"
      ],
      "text/plain": [
       "+---------+\n",
       "|namespace|\n",
       "+---------+\n",
       "|   bronze|\n",
       "|  default|\n",
       "|     gold|\n",
       "|   silver|\n",
       "|   source|\n",
       "+---------+"
      ]
     },
     "execution_count": 20,
     "metadata": {},
     "output_type": "execute_result"
    }
   ],
   "source": [
    "spark.sql(\"show databases\")"
   ]
  },
  {
   "cell_type": "code",
   "execution_count": 14,
   "id": "f99aff0b-9b68-4845-9398-f7b830b0f26e",
   "metadata": {},
   "outputs": [
    {
     "data": {
      "text/html": [
       "<table border='1'>\n",
       "<tr><th></th></tr>\n",
       "</table>\n"
      ],
      "text/plain": [
       "++\n",
       "||\n",
       "++\n",
       "++"
      ]
     },
     "execution_count": 14,
     "metadata": {},
     "output_type": "execute_result"
    }
   ],
   "source": [
    "spark.sql(\"CREATE DATABASE IF NOT EXISTS source LOCATION 's3a://datalake/source/'\")"
   ]
  },
  {
   "cell_type": "code",
   "execution_count": 19,
   "id": "9aebd4f5-6db6-4767-90bf-c064eae91838",
   "metadata": {},
   "outputs": [
    {
     "name": "stdout",
     "output_type": "stream",
     "text": [
      "+---------+---------+-----------+\n",
      "|namespace|tableName|isTemporary|\n",
      "+---------+---------+-----------+\n",
      "|   source|    final|      false|\n",
      "+---------+---------+-----------+\n",
      "\n"
     ]
    }
   ],
   "source": [
    "spark.sql(\"show tables from source\").show()"
   ]
  },
  {
   "cell_type": "code",
   "execution_count": 16,
   "id": "e0b3256f-d712-4b52-9fb2-8428ce87b732",
   "metadata": {},
   "outputs": [
    {
     "name": "stdout",
     "output_type": "stream",
     "text": [
      "++\n",
      "||\n",
      "++\n",
      "++\n",
      "\n"
     ]
    }
   ],
   "source": [
    "schema = StructType([\n",
    "    StructField('ano_cmpt', StringType(), True), \n",
    "    StructField('mes_cmpt', StringType(), True), \n",
    "    StructField('cgc_hosp', StringType(), True), \n",
    "    StructField('munic_res', StringType(), True), \n",
    "    StructField('nasc', DateType(), True), \n",
    "    StructField('sexo', StringType(), True), \n",
    "    StructField('uti_mes_to', StringType(), True), \n",
    "    StructField('uti_int_to', StringType(), True), \n",
    "    StructField('proc_rea', StringType(), True), \n",
    "    StructField('qt_proc', StringType(), True), \n",
    "    StructField('dt_atend', DateType(), True), \n",
    "    StructField('dt_saida', DateType(), True), \n",
    "    StructField('diag_princ', StringType(), True), \n",
    "    StructField('diag_secun', StringType(), True), \n",
    "    StructField('cobranca', StringType(), True), \n",
    "    StructField('natureza', StringType(), True), \n",
    "    StructField('gestao', StringType(), True), \n",
    "    StructField('munic_mov', StringType(), True), \n",
    "    StructField('cod_idade', StringType(), True), \n",
    "    StructField('idade', StringType(), True), \n",
    "    StructField('dias_perm', StringType(), True), \n",
    "    StructField('morte', StringType(), True), \n",
    "    StructField('cnes', StringType(), True), \n",
    "    StructField('fonte', StringType(), True), \n",
    "    StructField('modalidade', StringType(), True), \n",
    "    StructField('nome_uf', StringType(), True), \n",
    "    StructField('nome_municipio', StringType(), True), \n",
    "    StructField('regiao', StringType(), True), \n",
    "    StructField('idhm', FloatType(), True), \n",
    "    StructField('populacao_residente', IntegerType(), True), \n",
    "    StructField('area_unidade_territorial', FloatType(), True), \n",
    "    StructField('diag_princ_desc', StringType(), True), \n",
    "    StructField('diag_secun_desc', StringType(), True), \n",
    "    StructField('diag_princ_detalhes', StructType([\n",
    "        StructField('sub_cat', StringType(), True), \n",
    "        StructField('classificacao', StringType(), True), \n",
    "        StructField('restr_sexo', StringType(), True), \n",
    "        StructField('causa_obito', StringType(), True), \n",
    "        StructField('descricao', StringType(), True), \n",
    "        StructField('desc_abrev', StringType(), True), \n",
    "        StructField('refer', StringType(), True), \n",
    "        StructField('excluidos', StringType(), True)\n",
    "    ]), True), \n",
    "    StructField('diag_secun_detalhes', StructType([\n",
    "        StructField('sub_cat', StringType(), True), \n",
    "        StructField('classificacao', StringType(), True), \n",
    "        StructField('restr_sexo', StringType(), True), \n",
    "        StructField('causa_obito', StringType(), True), \n",
    "        StructField('descricao', StringType(), True), \n",
    "        StructField('desc_abrev', StringType(), True), \n",
    "        StructField('refer', StringType(), True), \n",
    "        StructField('excluidos', StringType(), True)\n",
    "    ]), True), \n",
    "    StructField('feriado', StringType(), True), \n",
    "    StructField('distancia_feriado', IntegerType(), True), \n",
    "    StructField('feriado_info', ArrayType(StructType([\n",
    "        StructField('data', StringType(), True), \n",
    "        StructField('nome', StringType(), True), \n",
    "        StructField('tipo', StringType(), True), \n",
    "        StructField('descricao', StringType(), True), \n",
    "        StructField('uf', StringType(), True), \n",
    "        StructField('municipio', StringType(), True), \n",
    "        StructField('cod_municipio', StringType(), True)\n",
    "    ]), True), True), \n",
    "    StructField('sigla', StringType(), True)\n",
    "])\n",
    "\n",
    "df_final = spark.createDataFrame([], schema = schema)\n",
    "\n",
    "schema_str = \", \".join([f\"{x[0]} {x[1]}\" for x in df_final.drop(\"sigla\").dtypes ])\n",
    "spark.sql(f\"CREATE EXTERNAL TABLE IF NOT EXISTS source.final ({schema_str}) USING PARQUET PARTITIONED BY (sigla string) LOCATION 's3a://datalake/source/final/'\").show()"
   ]
  },
  {
   "cell_type": "code",
   "execution_count": 17,
   "id": "2359e7f5-3d1d-4512-879b-a4f5b5c1c32d",
   "metadata": {},
   "outputs": [
    {
     "name": "stdout",
     "output_type": "stream",
     "text": [
      "++\n",
      "||\n",
      "++\n",
      "++\n",
      "\n"
     ]
    }
   ],
   "source": [
    "spark.sql(\"msck repair table source.final\").show()"
   ]
  },
  {
   "cell_type": "code",
   "execution_count": 18,
   "id": "8d5944db-3668-484f-9ed8-5b63e65269fb",
   "metadata": {},
   "outputs": [
    {
     "name": "stdout",
     "output_type": "stream",
     "text": [
      "+-----+--------+\n",
      "|sigla|   count|\n",
      "+-----+--------+\n",
      "|   SP|67515831|\n",
      "|   RS| 9961350|\n",
      "|   MG| 8143352|\n",
      "|   BA| 5017618|\n",
      "|   SC| 2861516|\n",
      "|   CE|  906485|\n",
      "|   MS|  659648|\n",
      "|   AL|  522891|\n",
      "|   PA|  567822|\n",
      "|   GO|  503891|\n",
      "|   ES|  342183|\n",
      "|   RN|  760980|\n",
      "|   MT|  319959|\n",
      "|   PI|  385786|\n",
      "|   PE|  289395|\n",
      "|   PB|  177462|\n",
      "|   SE|   92552|\n",
      "|   RO|   19372|\n",
      "|   TO|  114201|\n",
      "+-----+--------+\n",
      "\n"
     ]
    }
   ],
   "source": [
    "spark.table(\"source.final\").groupBy(\"sigla\").count().show()"
   ]
  },
  {
   "cell_type": "code",
   "execution_count": null,
   "id": "ce7deb9b-4ba9-46ba-9bb6-25e20b07637e",
   "metadata": {},
   "outputs": [],
   "source": [
    "df_final_clean = spark.createDataFrame([], schema = schema).drop(\"diag_princ_detalhes\", \"diag_secun_detalhes\", \"feriado_info\")\n",
    "\n",
    "schema_str = \", \".join([f\"{x[0]} {x[1]}\" for x in df_final_clean.drop(\"sigla\").dtypes])\n",
    "select_str = \", \".join(df_final_clean.columns)\n",
    "\n",
    "spark.sql(f\"CREATE EXTERNAL TABLE IF NOT EXISTS gold.final LOCATION 's3a://datalake/gold/final/' AS (SELECT {select_str} FROM source.final) \")"
   ]
  },
  {
   "cell_type": "code",
   "execution_count": 22,
   "id": "03d54e8e-6834-4dd2-b429-bcbdd86e8a8f",
   "metadata": {},
   "outputs": [
    {
     "ename": "AttributeError",
     "evalue": "'DataFrame' object has no attribute 'createOrReplaceGlobalView'",
     "output_type": "error",
     "traceback": [
      "\u001b[0;31m---------------------------------------------------------------------------\u001b[0m",
      "\u001b[0;31mAttributeError\u001b[0m                            Traceback (most recent call last)",
      "Cell \u001b[0;32mIn[22], line 5\u001b[0m\n\u001b[1;32m      1\u001b[0m df \u001b[38;5;241m=\u001b[39m spark\u001b[38;5;241m.\u001b[39mtable(\u001b[38;5;124m\"\u001b[39m\u001b[38;5;124msource.final\u001b[39m\u001b[38;5;124m\"\u001b[39m)\u001b[38;5;241m.\u001b[39mdrop(\u001b[38;5;124m\"\u001b[39m\u001b[38;5;124mdiag_princ_detalhes\u001b[39m\u001b[38;5;124m\"\u001b[39m, \u001b[38;5;124m\"\u001b[39m\u001b[38;5;124mdiag_secun_detalhes\u001b[39m\u001b[38;5;124m\"\u001b[39m, \u001b[38;5;124m\"\u001b[39m\u001b[38;5;124mferiado_info\u001b[39m\u001b[38;5;124m\"\u001b[39m)\n\u001b[1;32m      3\u001b[0m \u001b[38;5;66;03m# df.write.mode(\"overwrite\").saveAsTable(\"source.final_clean\")\u001b[39;00m\n\u001b[0;32m----> 5\u001b[0m \u001b[43mdf\u001b[49m\u001b[38;5;241;43m.\u001b[39;49m\u001b[43mcreateOrReplaceGlobalView\u001b[49m(\u001b[38;5;124m\"\u001b[39m\u001b[38;5;124mgold.final\u001b[39m\u001b[38;5;124m\"\u001b[39m)\n",
      "File \u001b[0;32m/usr/local/spark/python/pyspark/sql/dataframe.py:2977\u001b[0m, in \u001b[0;36mDataFrame.__getattr__\u001b[0;34m(self, name)\u001b[0m\n\u001b[1;32m   2944\u001b[0m \u001b[38;5;250m\u001b[39m\u001b[38;5;124;03m\"\"\"Returns the :class:`Column` denoted by ``name``.\u001b[39;00m\n\u001b[1;32m   2945\u001b[0m \n\u001b[1;32m   2946\u001b[0m \u001b[38;5;124;03m.. versionadded:: 1.3.0\u001b[39;00m\n\u001b[0;32m   (...)\u001b[0m\n\u001b[1;32m   2974\u001b[0m \u001b[38;5;124;03m+---+\u001b[39;00m\n\u001b[1;32m   2975\u001b[0m \u001b[38;5;124;03m\"\"\"\u001b[39;00m\n\u001b[1;32m   2976\u001b[0m \u001b[38;5;28;01mif\u001b[39;00m name \u001b[38;5;129;01mnot\u001b[39;00m \u001b[38;5;129;01min\u001b[39;00m \u001b[38;5;28mself\u001b[39m\u001b[38;5;241m.\u001b[39mcolumns:\n\u001b[0;32m-> 2977\u001b[0m     \u001b[38;5;28;01mraise\u001b[39;00m \u001b[38;5;167;01mAttributeError\u001b[39;00m(\n\u001b[1;32m   2978\u001b[0m         \u001b[38;5;124m\"\u001b[39m\u001b[38;5;124m'\u001b[39m\u001b[38;5;132;01m%s\u001b[39;00m\u001b[38;5;124m'\u001b[39m\u001b[38;5;124m object has no attribute \u001b[39m\u001b[38;5;124m'\u001b[39m\u001b[38;5;132;01m%s\u001b[39;00m\u001b[38;5;124m'\u001b[39m\u001b[38;5;124m\"\u001b[39m \u001b[38;5;241m%\u001b[39m (\u001b[38;5;28mself\u001b[39m\u001b[38;5;241m.\u001b[39m\u001b[38;5;18m__class__\u001b[39m\u001b[38;5;241m.\u001b[39m\u001b[38;5;18m__name__\u001b[39m, name)\n\u001b[1;32m   2979\u001b[0m     )\n\u001b[1;32m   2980\u001b[0m jc \u001b[38;5;241m=\u001b[39m \u001b[38;5;28mself\u001b[39m\u001b[38;5;241m.\u001b[39m_jdf\u001b[38;5;241m.\u001b[39mapply(name)\n\u001b[1;32m   2981\u001b[0m \u001b[38;5;28;01mreturn\u001b[39;00m Column(jc)\n",
      "\u001b[0;31mAttributeError\u001b[0m: 'DataFrame' object has no attribute 'createOrReplaceGlobalView'"
     ]
    }
   ],
   "source": [
    "df = spark.table(\"source.final\").drop(\"diag_princ_detalhes\", \"diag_secun_detalhes\", \"feriado_info\")\n",
    "\n",
    "# df.write.mode(\"overwrite\").saveAsTable(\"source.final_clean\")\n",
    "\n",
    "df.createOrReplaceGlobalView(\"gold.final\")"
   ]
  },
  {
   "cell_type": "code",
   "execution_count": 9,
   "id": "55d14ea7-8e98-4e4c-8949-c3d22788bd71",
   "metadata": {},
   "outputs": [],
   "source": [
    "df = spark.table(\"source.final\")"
   ]
  },
  {
   "cell_type": "code",
   "execution_count": 11,
   "id": "8c8987cd-b5e2-4d91-8e12-96910cb882e9",
   "metadata": {},
   "outputs": [
    {
     "data": {
      "text/html": [
       "<table border='1'>\n",
       "<tr><th>ano_cmpt</th><th>mes_cmpt</th><th>cgc_hosp</th><th>munic_res</th><th>nasc</th><th>sexo</th><th>uti_mes_to</th><th>uti_int_to</th><th>proc_rea</th><th>qt_proc</th><th>dt_atend</th><th>dt_saida</th><th>diag_princ</th><th>diag_secun</th><th>cobranca</th><th>natureza</th><th>gestao</th><th>munic_mov</th><th>cod_idade</th><th>idade</th><th>dias_perm</th><th>morte</th><th>cnes</th><th>fonte</th><th>modalidade</th><th>nome_uf</th><th>nome_municipio</th><th>regiao</th><th>idhm</th><th>populacao_residente</th><th>area_unidade_territorial</th><th>diag_princ_desc</th><th>diag_secun_desc</th><th>diag_princ_detalhes</th><th>diag_secun_detalhes</th><th>feriado</th><th>distancia_feriado</th><th>feriado_info</th><th>sigla</th></tr>\n",
       "<tr><td>2018</td><td>02</td><td>60975174000363</td><td>355030</td><td>1994-07-31</td><td>3</td><td>0</td><td>000</td><td>0301060002</td><td>1</td><td>2018-02-06</td><td>2018-02-06</td><td>Z014</td><td>null</td><td>null</td><td>null</td><td>M</td><td>355030</td><td>4</td><td>23</td><td>0</td><td>0</td><td>2080796</td><td>01</td><td>01</td><td>São Paulo</td><td>São Paulo</td><td>Sudeste</td><td>0.805</td><td>11253503</td><td>1521.101</td><td>Exame ginecológic...</td><td>null</td><td>{Z014, null, F, n...</td><td>{null, null, null...</td><td>false</td><td>6</td><td>[{2018-02-12, Car...</td><td>SP</td></tr>\n",
       "<tr><td>2019</td><td>10</td><td>60979457000707</td><td>353440</td><td>2016-07-15</td><td>3</td><td>0</td><td>000</td><td>0301070121</td><td>1</td><td>2019-10-11</td><td>2019-10-11</td><td>G822</td><td>null</td><td>null</td><td>null</td><td>M</td><td>353440</td><td>4</td><td>03</td><td>0</td><td>0</td><td>5493943</td><td>01</td><td>01</td><td>São Paulo</td><td>Osasco</td><td>Sudeste</td><td>0.776</td><td>666740</td><td>64.954</td><td>Paraplegia não es...</td><td>null</td><td>{G822, null, null...</td><td>{null, null, null...</td><td>false</td><td>1</td><td>[{2019-10-12, Nos...</td><td>SP</td></tr>\n",
       "<tr><td>2018</td><td>02</td><td>60975174000363</td><td>355030</td><td>1959-10-02</td><td>3</td><td>0</td><td>000</td><td>0302050027</td><td>1</td><td>2018-02-06</td><td>2018-02-06</td><td>A300</td><td>null</td><td>null</td><td>null</td><td>M</td><td>355030</td><td>4</td><td>58</td><td>0</td><td>0</td><td>2080796</td><td>01</td><td>01</td><td>São Paulo</td><td>São Paulo</td><td>Sudeste</td><td>0.805</td><td>11253503</td><td>1521.101</td><td>Hanseníase [lepra...</td><td>null</td><td>{A300, null, null...</td><td>{null, null, null...</td><td>false</td><td>6</td><td>[{2018-02-12, Car...</td><td>SP</td></tr>\n",
       "<tr><td>2019</td><td>10</td><td>60979457000707</td><td>353440</td><td>2005-04-01</td><td>3</td><td>0</td><td>000</td><td>0301070121</td><td>1</td><td>2019-10-11</td><td>2019-10-11</td><td>G822</td><td>null</td><td>null</td><td>null</td><td>M</td><td>353440</td><td>4</td><td>14</td><td>0</td><td>0</td><td>5493943</td><td>01</td><td>01</td><td>São Paulo</td><td>Osasco</td><td>Sudeste</td><td>0.776</td><td>666740</td><td>64.954</td><td>Paraplegia não es...</td><td>null</td><td>{G822, null, null...</td><td>{null, null, null...</td><td>false</td><td>1</td><td>[{2019-10-12, Nos...</td><td>SP</td></tr>\n",
       "<tr><td>2018</td><td>02</td><td>60975174000363</td><td>355030</td><td>1997-07-20</td><td>3</td><td>0</td><td>000</td><td>0301060002</td><td>1</td><td>2018-02-06</td><td>2018-02-06</td><td>Z349</td><td>null</td><td>null</td><td>null</td><td>M</td><td>355030</td><td>4</td><td>20</td><td>0</td><td>0</td><td>2080796</td><td>01</td><td>01</td><td>São Paulo</td><td>São Paulo</td><td>Sudeste</td><td>0.805</td><td>11253503</td><td>1521.101</td><td>Supervisão de gra...</td><td>null</td><td>{Z349, null, F, n...</td><td>{null, null, null...</td><td>false</td><td>6</td><td>[{2018-02-12, Car...</td><td>SP</td></tr>\n",
       "<tr><td>2019</td><td>10</td><td>60979457000707</td><td>353440</td><td>2016-07-21</td><td>1</td><td>0</td><td>000</td><td>0301070121</td><td>1</td><td>2019-10-11</td><td>2019-10-11</td><td>G808</td><td>null</td><td>null</td><td>null</td><td>M</td><td>353440</td><td>4</td><td>03</td><td>0</td><td>0</td><td>5493943</td><td>01</td><td>01</td><td>São Paulo</td><td>Osasco</td><td>Sudeste</td><td>0.776</td><td>666740</td><td>64.954</td><td>Outras formas de ...</td><td>null</td><td>{G808, null, null...</td><td>{null, null, null...</td><td>false</td><td>1</td><td>[{2019-10-12, Nos...</td><td>SP</td></tr>\n",
       "<tr><td>2018</td><td>02</td><td>60975174000363</td><td>355030</td><td>1960-12-06</td><td>3</td><td>0</td><td>000</td><td>0301060002</td><td>1</td><td>2018-02-06</td><td>2018-02-06</td><td>K219</td><td>null</td><td>null</td><td>null</td><td>M</td><td>355030</td><td>4</td><td>57</td><td>0</td><td>0</td><td>2080796</td><td>01</td><td>01</td><td>São Paulo</td><td>São Paulo</td><td>Sudeste</td><td>0.805</td><td>11253503</td><td>1521.101</td><td>Doença de refluxo...</td><td>null</td><td>{K219, null, null...</td><td>{null, null, null...</td><td>false</td><td>6</td><td>[{2018-02-12, Car...</td><td>SP</td></tr>\n",
       "<tr><td>2019</td><td>10</td><td>60979457000707</td><td>353440</td><td>1972-02-14</td><td>3</td><td>0</td><td>000</td><td>0302050019</td><td>1</td><td>2019-10-11</td><td>2019-10-11</td><td>M510</td><td>null</td><td>null</td><td>null</td><td>M</td><td>353440</td><td>4</td><td>47</td><td>0</td><td>0</td><td>5493943</td><td>01</td><td>01</td><td>São Paulo</td><td>Osasco</td><td>Sudeste</td><td>0.776</td><td>666740</td><td>64.954</td><td>Transtornos de di...</td><td>null</td><td>{M510, +, null, n...</td><td>{null, null, null...</td><td>false</td><td>1</td><td>[{2019-10-12, Nos...</td><td>SP</td></tr>\n",
       "<tr><td>2018</td><td>02</td><td>60975174000363</td><td>355030</td><td>1929-07-01</td><td>3</td><td>0</td><td>000</td><td>0301060002</td><td>1</td><td>2018-02-06</td><td>2018-02-06</td><td>R54</td><td>null</td><td>null</td><td>null</td><td>M</td><td>355030</td><td>4</td><td>88</td><td>0</td><td>0</td><td>2080796</td><td>01</td><td>01</td><td>São Paulo</td><td>São Paulo</td><td>Sudeste</td><td>0.805</td><td>11253503</td><td>1521.101</td><td>Senilidade</td><td>null</td><td>{R54, null, null,...</td><td>{null, null, null...</td><td>false</td><td>6</td><td>[{2018-02-12, Car...</td><td>SP</td></tr>\n",
       "<tr><td>2019</td><td>10</td><td>60979457000707</td><td>353440</td><td>2017-10-10</td><td>1</td><td>0</td><td>000</td><td>0301070121</td><td>3</td><td>2019-10-11</td><td>2019-10-11</td><td>G808</td><td>null</td><td>null</td><td>null</td><td>M</td><td>353440</td><td>4</td><td>02</td><td>0</td><td>0</td><td>5493943</td><td>01</td><td>01</td><td>São Paulo</td><td>Osasco</td><td>Sudeste</td><td>0.776</td><td>666740</td><td>64.954</td><td>Outras formas de ...</td><td>null</td><td>{G808, null, null...</td><td>{null, null, null...</td><td>false</td><td>1</td><td>[{2019-10-12, Nos...</td><td>SP</td></tr>\n",
       "<tr><td>2018</td><td>02</td><td>60975174000363</td><td>355030</td><td>1960-09-17</td><td>3</td><td>0</td><td>000</td><td>0301060002</td><td>1</td><td>2018-02-06</td><td>2018-02-06</td><td>E149</td><td>null</td><td>null</td><td>null</td><td>M</td><td>355030</td><td>4</td><td>57</td><td>0</td><td>0</td><td>2080796</td><td>01</td><td>01</td><td>São Paulo</td><td>São Paulo</td><td>Sudeste</td><td>0.805</td><td>11253503</td><td>1521.101</td><td>Diabetes mellitus...</td><td>null</td><td>{E149, null, null...</td><td>{null, null, null...</td><td>false</td><td>6</td><td>[{2018-02-12, Car...</td><td>SP</td></tr>\n",
       "<tr><td>2019</td><td>10</td><td>60979457000707</td><td>353440</td><td>2018-06-08</td><td>1</td><td>0</td><td>000</td><td>0301070121</td><td>1</td><td>2019-10-11</td><td>2019-10-11</td><td>G510</td><td>null</td><td>null</td><td>null</td><td>M</td><td>353440</td><td>4</td><td>01</td><td>0</td><td>0</td><td>5493943</td><td>02</td><td>01</td><td>São Paulo</td><td>Osasco</td><td>Sudeste</td><td>0.776</td><td>666740</td><td>64.954</td><td>Paralisia de Bell</td><td>null</td><td>{G510, null, null...</td><td>{null, null, null...</td><td>false</td><td>1</td><td>[{2019-10-12, Nos...</td><td>SP</td></tr>\n",
       "<tr><td>2018</td><td>02</td><td>60975174000363</td><td>355030</td><td>1989-07-07</td><td>1</td><td>0</td><td>000</td><td>0301060002</td><td>1</td><td>2018-02-06</td><td>2018-02-06</td><td>H905</td><td>null</td><td>null</td><td>null</td><td>M</td><td>355030</td><td>4</td><td>28</td><td>0</td><td>0</td><td>2080796</td><td>01</td><td>01</td><td>São Paulo</td><td>São Paulo</td><td>Sudeste</td><td>0.805</td><td>11253503</td><td>1521.101</td><td>Perda de audição ...</td><td>null</td><td>{H905, null, null...</td><td>{null, null, null...</td><td>false</td><td>6</td><td>[{2018-02-12, Car...</td><td>SP</td></tr>\n",
       "<tr><td>2019</td><td>10</td><td>60979457000707</td><td>353440</td><td>2018-02-12</td><td>3</td><td>0</td><td>000</td><td>0301070121</td><td>1</td><td>2019-10-11</td><td>2019-10-11</td><td>G822</td><td>null</td><td>null</td><td>null</td><td>M</td><td>353440</td><td>4</td><td>01</td><td>0</td><td>0</td><td>5493943</td><td>02</td><td>01</td><td>São Paulo</td><td>Osasco</td><td>Sudeste</td><td>0.776</td><td>666740</td><td>64.954</td><td>Paraplegia não es...</td><td>null</td><td>{G822, null, null...</td><td>{null, null, null...</td><td>false</td><td>1</td><td>[{2019-10-12, Nos...</td><td>SP</td></tr>\n",
       "<tr><td>2018</td><td>02</td><td>60975174000363</td><td>355030</td><td>1999-11-12</td><td>1</td><td>0</td><td>000</td><td>0301060002</td><td>1</td><td>2018-02-06</td><td>2018-02-06</td><td>J350</td><td>null</td><td>null</td><td>null</td><td>M</td><td>355030</td><td>4</td><td>18</td><td>0</td><td>0</td><td>2080796</td><td>01</td><td>01</td><td>São Paulo</td><td>São Paulo</td><td>Sudeste</td><td>0.805</td><td>11253503</td><td>1521.101</td><td>Amigdalite crônica</td><td>null</td><td>{J350, null, null...</td><td>{null, null, null...</td><td>false</td><td>6</td><td>[{2018-02-12, Car...</td><td>SP</td></tr>\n",
       "<tr><td>2019</td><td>10</td><td>60979457000707</td><td>353440</td><td>2008-03-04</td><td>3</td><td>0</td><td>000</td><td>0301070121</td><td>1</td><td>2019-10-11</td><td>2019-10-11</td><td>R278</td><td>null</td><td>null</td><td>null</td><td>M</td><td>353440</td><td>4</td><td>11</td><td>0</td><td>0</td><td>5493943</td><td>01</td><td>01</td><td>São Paulo</td><td>Osasco</td><td>Sudeste</td><td>0.776</td><td>666740</td><td>64.954</td><td>Outros distúrbios...</td><td>null</td><td>{R278, null, null...</td><td>{null, null, null...</td><td>false</td><td>1</td><td>[{2019-10-12, Nos...</td><td>SP</td></tr>\n",
       "<tr><td>2018</td><td>02</td><td>60975174000363</td><td>355030</td><td>1981-10-01</td><td>3</td><td>0</td><td>000</td><td>0301060002</td><td>1</td><td>2018-02-06</td><td>2018-02-06</td><td>N390</td><td>null</td><td>null</td><td>null</td><td>M</td><td>355030</td><td>4</td><td>36</td><td>0</td><td>0</td><td>2080796</td><td>01</td><td>01</td><td>São Paulo</td><td>São Paulo</td><td>Sudeste</td><td>0.805</td><td>11253503</td><td>1521.101</td><td>Infecção do trato...</td><td>null</td><td>{N390, null, null...</td><td>{null, null, null...</td><td>false</td><td>6</td><td>[{2018-02-12, Car...</td><td>SP</td></tr>\n",
       "<tr><td>2019</td><td>10</td><td>60979457000707</td><td>353440</td><td>2018-10-02</td><td>3</td><td>0</td><td>000</td><td>0301070121</td><td>1</td><td>2019-10-11</td><td>2019-10-11</td><td>G822</td><td>null</td><td>null</td><td>null</td><td>M</td><td>353440</td><td>4</td><td>01</td><td>0</td><td>0</td><td>5493943</td><td>01</td><td>01</td><td>São Paulo</td><td>Osasco</td><td>Sudeste</td><td>0.776</td><td>666740</td><td>64.954</td><td>Paraplegia não es...</td><td>null</td><td>{G822, null, null...</td><td>{null, null, null...</td><td>false</td><td>1</td><td>[{2019-10-12, Nos...</td><td>SP</td></tr>\n",
       "<tr><td>2018</td><td>02</td><td>60975174000363</td><td>355030</td><td>1933-11-14</td><td>3</td><td>0</td><td>000</td><td>0301060002</td><td>1</td><td>2018-02-06</td><td>2018-02-06</td><td>I10</td><td>null</td><td>null</td><td>null</td><td>M</td><td>355030</td><td>4</td><td>84</td><td>0</td><td>0</td><td>2080796</td><td>01</td><td>01</td><td>São Paulo</td><td>São Paulo</td><td>Sudeste</td><td>0.805</td><td>11253503</td><td>1521.101</td><td>Hipertensão essen...</td><td>null</td><td>{I10, null, null,...</td><td>{null, null, null...</td><td>false</td><td>6</td><td>[{2018-02-12, Car...</td><td>SP</td></tr>\n",
       "<tr><td>2019</td><td>10</td><td>60979457000707</td><td>353440</td><td>1998-04-21</td><td>3</td><td>0</td><td>000</td><td>0302050019</td><td>1</td><td>2019-10-11</td><td>2019-10-11</td><td>G822</td><td>null</td><td>null</td><td>null</td><td>M</td><td>353440</td><td>4</td><td>21</td><td>0</td><td>0</td><td>5493943</td><td>01</td><td>01</td><td>São Paulo</td><td>Osasco</td><td>Sudeste</td><td>0.776</td><td>666740</td><td>64.954</td><td>Paraplegia não es...</td><td>null</td><td>{G822, null, null...</td><td>{null, null, null...</td><td>false</td><td>1</td><td>[{2019-10-12, Nos...</td><td>SP</td></tr>\n",
       "</table>\n",
       "only showing top 20 rows\n"
      ],
      "text/plain": [
       "DataFrame[ano_cmpt: string, mes_cmpt: string, cgc_hosp: string, munic_res: string, nasc: date, sexo: string, uti_mes_to: string, uti_int_to: string, proc_rea: string, qt_proc: string, dt_atend: date, dt_saida: date, diag_princ: string, diag_secun: string, cobranca: string, natureza: string, gestao: string, munic_mov: string, cod_idade: string, idade: string, dias_perm: string, morte: string, cnes: string, fonte: string, modalidade: string, nome_uf: string, nome_municipio: string, regiao: string, idhm: float, populacao_residente: int, area_unidade_territorial: float, diag_princ_desc: string, diag_secun_desc: string, diag_princ_detalhes: struct<sub_cat:string,classificacao:string,restr_sexo:string,causa_obito:string,descricao:string,desc_abrev:string,refer:string,excluidos:string>, diag_secun_detalhes: struct<sub_cat:string,classificacao:string,restr_sexo:string,causa_obito:string,descricao:string,desc_abrev:string,refer:string,excluidos:string>, feriado: string, distancia_feriado: int, feriado_info: array<struct<data:string,nome:string,tipo:string,descricao:string,uf:string,municipio:string,cod_municipio:string>>, sigla: string]"
      ]
     },
     "execution_count": 11,
     "metadata": {},
     "output_type": "execute_result"
    }
   ],
   "source": [
    "df"
   ]
  }
 ],
 "metadata": {
  "kernelspec": {
   "display_name": "Python 3 (ipykernel)",
   "language": "python",
   "name": "python3"
  },
  "language_info": {
   "codemirror_mode": {
    "name": "ipython",
    "version": 3
   },
   "file_extension": ".py",
   "mimetype": "text/x-python",
   "name": "python",
   "nbconvert_exporter": "python",
   "pygments_lexer": "ipython3",
   "version": "3.11.6"
  }
 },
 "nbformat": 4,
 "nbformat_minor": 5
}
