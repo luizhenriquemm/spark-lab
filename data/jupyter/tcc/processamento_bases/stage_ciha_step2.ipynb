{
 "cells": [
  {
   "cell_type": "code",
   "execution_count": 2,
   "id": "201c87e3-b09b-42ba-88e9-b62ad97936fb",
   "metadata": {},
   "outputs": [],
   "source": [
    "%run ../spark-default.py"
   ]
  },
  {
   "cell_type": "code",
   "execution_count": 8,
   "id": "3c780d88-afaf-42c6-85ff-8f7882713413",
   "metadata": {},
   "outputs": [],
   "source": [
    "spark.conf.set(\"spark.sql.sources.partitionOverwriteMode\",\"dynamic\")"
   ]
  },
  {
   "cell_type": "code",
   "execution_count": 9,
   "id": "f57460b9-e7b0-49f2-9d55-a28ff6ba182f",
   "metadata": {},
   "outputs": [],
   "source": [
    "import builtins as b\n",
    "from datetime import datetime, timedelta, date\n",
    "import sys, traceback\n",
    "from delta.tables import DeltaTable\n",
    "\n",
    "import pandas as pd\n",
    "import numpy as np\n",
    "import matplotlib.pyplot as plt"
   ]
  },
  {
   "cell_type": "code",
   "execution_count": 10,
   "id": "0742876b-651c-4bf0-85ca-5b9024e35d04",
   "metadata": {},
   "outputs": [],
   "source": [
    "# spark.sql(\"optimize stage.ciha_step1\")"
   ]
  },
  {
   "cell_type": "code",
   "execution_count": 11,
   "id": "60cef1db-c72b-4c09-91d3-e0ab2dfaf455",
   "metadata": {},
   "outputs": [],
   "source": [
    "# Até aqui, a base do CIHA foi enriquecida com:\n",
    "#  - Nome das cidades (residencia e movimentação)\n",
    "#  - Nome, uf e info dos estados (residencia e movimentação)\n",
    "#  - Infos do IBGE como população e área\n",
    "#  - Calculo de feriados"
   ]
  },
  {
   "cell_type": "code",
   "execution_count": 12,
   "id": "040de677-c262-4487-951d-d29d1ad7c43d",
   "metadata": {},
   "outputs": [
    {
     "name": "stdout",
     "output_type": "stream",
     "text": [
      "root\n",
      " |-- mes_cmpt: string (nullable = true)\n",
      " |-- espec: string (nullable = true)\n",
      " |-- cgc_hosp: string (nullable = true)\n",
      " |-- munic_res: string (nullable = true)\n",
      " |-- nasc: date (nullable = true)\n",
      " |-- sexo: string (nullable = true)\n",
      " |-- uti_mes_to: string (nullable = true)\n",
      " |-- uti_int_to: string (nullable = true)\n",
      " |-- proc_rea: string (nullable = true)\n",
      " |-- qt_proc: string (nullable = true)\n",
      " |-- dt_atend: date (nullable = true)\n",
      " |-- dt_saida: date (nullable = true)\n",
      " |-- diag_princ: string (nullable = true)\n",
      " |-- diag_secun: string (nullable = true)\n",
      " |-- cobranca: string (nullable = true)\n",
      " |-- natureza: string (nullable = true)\n",
      " |-- gestao: string (nullable = true)\n",
      " |-- munic_mov: string (nullable = true)\n",
      " |-- cod_idade: string (nullable = true)\n",
      " |-- idade: string (nullable = true)\n",
      " |-- dias_perm: string (nullable = true)\n",
      " |-- morte: string (nullable = true)\n",
      " |-- nacional: string (nullable = true)\n",
      " |-- car_int: string (nullable = true)\n",
      " |-- homonimo: string (nullable = true)\n",
      " |-- cnes: string (nullable = true)\n",
      " |-- fonte: string (nullable = true)\n",
      " |-- cgc_consor: string (nullable = true)\n",
      " |-- modalidade: string (nullable = true)\n",
      " |-- input_file_name: string (nullable = true)\n",
      " |-- arquivo_sigla_uf: string (nullable = true)\n",
      " |-- ano_cmpt: integer (nullable = true)\n",
      " |-- munic_res_nome_uf: string (nullable = true)\n",
      " |-- munic_mov_nome_uf: string (nullable = true)\n",
      " |-- munic_res_nome_municipio: string (nullable = true)\n",
      " |-- munic_mov_nome_municipio: string (nullable = true)\n",
      " |-- munic_res_sigla_uf: string (nullable = true)\n",
      " |-- munic_mov_sigla_uf: string (nullable = true)\n",
      " |-- munic_res_regiao: string (nullable = true)\n",
      " |-- munic_mov_regiao: string (nullable = true)\n",
      " |-- munic_res_populacao_residente: string (nullable = true)\n",
      " |-- munic_mov_populacao_residente: string (nullable = true)\n",
      " |-- munic_res_area_unidade_territorial: string (nullable = true)\n",
      " |-- munic_mov_area_unidade_territorial: string (nullable = true)\n",
      " |-- feriado: struct (nullable = true)\n",
      " |    |-- feriado: string (nullable = true)\n",
      " |    |-- distancia_feriado: integer (nullable = true)\n",
      " |    |-- feriado_info: array (nullable = true)\n",
      " |    |    |-- element: struct (containsNull = true)\n",
      " |    |    |    |-- data: string (nullable = true)\n",
      " |    |    |    |-- nome: string (nullable = true)\n",
      " |    |    |    |-- tipo: string (nullable = true)\n",
      " |    |    |    |-- descricao: string (nullable = true)\n",
      " |    |    |    |-- uf: string (nullable = true)\n",
      " |    |    |    |-- municipio: string (nullable = true)\n",
      " |    |    |    |-- cod_municipio: string (nullable = true)\n",
      " |    |-- erro: string (nullable = true)\n",
      "\n"
     ]
    }
   ],
   "source": [
    "ciha_step1 = spark.table(\"stage.ciha_step1\")\n",
    "ciha_step1.printSchema()"
   ]
  },
  {
   "cell_type": "code",
   "execution_count": 13,
   "id": "d02dad31-c768-4dbf-8a02-14ac9058f6af",
   "metadata": {},
   "outputs": [
    {
     "data": {
      "text/html": [
       "<table border='1'>\n",
       "<tr><th>mes_cmpt</th><th>espec</th><th>cgc_hosp</th><th>munic_res</th><th>nasc</th><th>sexo</th><th>uti_mes_to</th><th>uti_int_to</th><th>proc_rea</th><th>qt_proc</th><th>dt_atend</th><th>dt_saida</th><th>diag_princ</th><th>diag_secun</th><th>cobranca</th><th>natureza</th><th>gestao</th><th>munic_mov</th><th>cod_idade</th><th>idade</th><th>dias_perm</th><th>morte</th><th>nacional</th><th>car_int</th><th>homonimo</th><th>cnes</th><th>fonte</th><th>cgc_consor</th><th>modalidade</th><th>input_file_name</th><th>arquivo_sigla_uf</th><th>ano_cmpt</th><th>munic_res_nome_uf</th><th>munic_mov_nome_uf</th><th>munic_res_nome_municipio</th><th>munic_mov_nome_municipio</th><th>munic_res_sigla_uf</th><th>munic_mov_sigla_uf</th><th>munic_res_regiao</th><th>munic_mov_regiao</th><th>munic_res_populacao_residente</th><th>munic_mov_populacao_residente</th><th>munic_res_area_unidade_territorial</th><th>munic_mov_area_unidade_territorial</th><th>feriado</th></tr>\n",
       "<tr><td>03</td><td>null</td><td>06047087000210</td><td>355030</td><td>2017-08-04</td><td>3</td><td>0</td><td>024</td><td>0301060010</td><td>1</td><td>2017-08-04</td><td>2018-03-20</td><td>P780</td><td>P912</td><td>11</td><td>null</td><td>M</td><td>355030</td><td>2</td><td>00</td><td>228</td><td>0</td><td>null</td><td>null</td><td>null</td><td>2688611</td><td>01</td><td>1</td><td>02</td><td>s3a://datalake/so...</td><td>SP</td><td>2018</td><td>São Paulo</td><td>São Paulo</td><td>São Paulo</td><td>São Paulo</td><td>SP</td><td>SP</td><td>Sudeste</td><td>Sudeste</td><td>11253503</td><td>11253503</td><td>1521.101</td><td>1521.101</td><td>{false, 9, [{2017...</td></tr>\n",
       "<tr><td>01</td><td>null</td><td>78614971000119</td><td>411370</td><td>1987-06-24</td><td>1</td><td>0</td><td>0</td><td>0416070000</td><td>1</td><td>2018-01-24</td><td>2018-01-24</td><td>Z049</td><td>null</td><td>null</td><td>null</td><td>M</td><td>411370</td><td>4</td><td>30</td><td>0</td><td>0</td><td>null</td><td>null</td><td>null</td><td>2580055</td><td>06</td><td>6</td><td>01</td><td>s3a://datalake/so...</td><td>PR</td><td>2018</td><td>Paraná</td><td>Paraná</td><td>Londrina</td><td>Londrina</td><td>PR</td><td>PR</td><td>Sul</td><td>Sul</td><td>506701</td><td>506701</td><td>1653.075</td><td>1653.075</td><td>{false, 19, [{201...</td></tr>\n",
       "<tr><td>03</td><td>null</td><td>06260857000127</td><td>354340</td><td>1953-05-23</td><td>3</td><td>0</td><td>059</td><td>0303060212</td><td>1</td><td>2017-09-23</td><td>2018-03-22</td><td>J189</td><td>null</td><td>12</td><td>null</td><td>M</td><td>354340</td><td>4</td><td>64</td><td>180</td><td>0</td><td>null</td><td>null</td><td>null</td><td>5171946</td><td>01</td><td>1</td><td>02</td><td>s3a://datalake/so...</td><td>SP</td><td>2018</td><td>São Paulo</td><td>São Paulo</td><td>Ribeirão Preto</td><td>Ribeirão Preto</td><td>SP</td><td>SP</td><td>Sudeste</td><td>Sudeste</td><td>604682</td><td>604682</td><td>650.955</td><td>650.955</td><td>{false, 4, [{2017...</td></tr>\n",
       "<tr><td>01</td><td>null</td><td>78614971000119</td><td>411370</td><td>1960-01-12</td><td>3</td><td>0</td><td>0</td><td>0303060000</td><td>1</td><td>2018-01-24</td><td>2018-01-24</td><td>Z049</td><td>null</td><td>null</td><td>null</td><td>M</td><td>411370</td><td>4</td><td>58</td><td>0</td><td>0</td><td>null</td><td>null</td><td>null</td><td>2580055</td><td>06</td><td>6</td><td>01</td><td>s3a://datalake/so...</td><td>PR</td><td>2018</td><td>Paraná</td><td>Paraná</td><td>Londrina</td><td>Londrina</td><td>PR</td><td>PR</td><td>Sul</td><td>Sul</td><td>506701</td><td>506701</td><td>1653.075</td><td>1653.075</td><td>{false, 19, [{201...</td></tr>\n",
       "<tr><td>01</td><td>null</td><td>92815000000168</td><td>431490</td><td>1986-11-30</td><td>1</td><td>0</td><td>001</td><td>0306020009</td><td>1</td><td>2017-10-03</td><td>2018-01-26</td><td>R529</td><td>null</td><td>41</td><td>null</td><td>M</td><td>431490</td><td>4</td><td>30</td><td>115</td><td>1</td><td>null</td><td>null</td><td>null</td><td>2237253</td><td>06</td><td>6</td><td>02</td><td>s3a://datalake/so...</td><td>RS</td><td>2018</td><td>Rio Grande do Sul</td><td>Rio Grande do Sul</td><td>Porto Alegre</td><td>Porto Alegre</td><td>RS</td><td>RS</td><td>Sul</td><td>Sul</td><td>1409351</td><td>1409351</td><td>496.682</td><td>496.682</td><td>{false, 4, [{2017...</td></tr>\n",
       "<tr><td>01</td><td>null</td><td>07194341000194</td><td>411370</td><td>2001-04-18</td><td>3</td><td>0</td><td>000</td><td>0405030002</td><td>1</td><td>2018-01-24</td><td>2018-01-24</td><td>H186</td><td>null</td><td>12</td><td>null</td><td>D</td><td>411370</td><td>4</td><td>16</td><td>0</td><td>0</td><td>null</td><td>null</td><td>null</td><td>2578506</td><td>02</td><td>2</td><td>02</td><td>s3a://datalake/so...</td><td>PR</td><td>2018</td><td>Paraná</td><td>Paraná</td><td>Londrina</td><td>Londrina</td><td>PR</td><td>PR</td><td>Sul</td><td>Sul</td><td>506701</td><td>506701</td><td>1653.075</td><td>1653.075</td><td>{false, 19, [{201...</td></tr>\n",
       "<tr><td>03</td><td>null</td><td>87317764001084</td><td>431490</td><td>1941-09-27</td><td>1</td><td>0</td><td>000</td><td>0303130075</td><td>1</td><td>2017-11-01</td><td>2018-03-20</td><td>M869</td><td>null</td><td>11</td><td>null</td><td>M</td><td>431490</td><td>4</td><td>76</td><td>139</td><td>0</td><td>null</td><td>null</td><td>null</td><td>2237598</td><td>06</td><td>6</td><td>02</td><td>s3a://datalake/so...</td><td>RS</td><td>2018</td><td>Rio Grande do Sul</td><td>Rio Grande do Sul</td><td>Porto Alegre</td><td>Porto Alegre</td><td>RS</td><td>RS</td><td>Sul</td><td>Sul</td><td>1409351</td><td>1409351</td><td>496.682</td><td>496.682</td><td>{false, 0, [{2017...</td></tr>\n",
       "<tr><td>01</td><td>null</td><td>07194341000194</td><td>411370</td><td>1957-07-06</td><td>3</td><td>0</td><td>000</td><td>0211060259</td><td>1</td><td>2018-01-24</td><td>2018-01-24</td><td>Z010</td><td>null</td><td>null</td><td>null</td><td>D</td><td>411370</td><td>4</td><td>60</td><td>0</td><td>0</td><td>null</td><td>null</td><td>null</td><td>2578506</td><td>06</td><td>6</td><td>01</td><td>s3a://datalake/so...</td><td>PR</td><td>2018</td><td>Paraná</td><td>Paraná</td><td>Londrina</td><td>Londrina</td><td>PR</td><td>PR</td><td>Sul</td><td>Sul</td><td>506701</td><td>506701</td><td>1653.075</td><td>1653.075</td><td>{false, 19, [{201...</td></tr>\n",
       "<tr><td>01</td><td>null</td><td>88630413000796</td><td>431490</td><td>1936-11-25</td><td>3</td><td>0</td><td>000</td><td>0308040015</td><td>1</td><td>2017-11-01</td><td>2018-01-04</td><td>A419</td><td>null</td><td>12</td><td>null</td><td>M</td><td>431490</td><td>4</td><td>80</td><td>64</td><td>0</td><td>null</td><td>null</td><td>null</td><td>2262568</td><td>01</td><td>1</td><td>02</td><td>s3a://datalake/so...</td><td>RS</td><td>2018</td><td>Rio Grande do Sul</td><td>Rio Grande do Sul</td><td>Porto Alegre</td><td>Porto Alegre</td><td>RS</td><td>RS</td><td>Sul</td><td>Sul</td><td>1409351</td><td>1409351</td><td>496.682</td><td>496.682</td><td>{false, 0, [{2017...</td></tr>\n",
       "<tr><td>01</td><td>null</td><td>78614971000119</td><td>411370</td><td>2000-05-05</td><td>1</td><td>0</td><td>0</td><td>0416010008</td><td>1</td><td>2018-01-24</td><td>2018-01-25</td><td>N23</td><td>null</td><td>12</td><td>null</td><td>M</td><td>411370</td><td>4</td><td>17</td><td>1</td><td>0</td><td>null</td><td>null</td><td>null</td><td>2580055</td><td>06</td><td>6</td><td>02</td><td>s3a://datalake/so...</td><td>PR</td><td>2018</td><td>Paraná</td><td>Paraná</td><td>Londrina</td><td>Londrina</td><td>PR</td><td>PR</td><td>Sul</td><td>Sul</td><td>506701</td><td>506701</td><td>1653.075</td><td>1653.075</td><td>{false, 19, [{201...</td></tr>\n",
       "<tr><td>01</td><td>null</td><td>92741016000254</td><td>431490</td><td>1939-12-19</td><td>1</td><td>0</td><td>015</td><td>0407030026</td><td>1</td><td>2017-11-01</td><td>2018-01-01</td><td>K800</td><td>null</td><td>41</td><td>null</td><td>M</td><td>431490</td><td>4</td><td>77</td><td>61</td><td>1</td><td>null</td><td>null</td><td>null</td><td>3567664</td><td>06</td><td>6</td><td>02</td><td>s3a://datalake/so...</td><td>RS</td><td>2018</td><td>Rio Grande do Sul</td><td>Rio Grande do Sul</td><td>Porto Alegre</td><td>Porto Alegre</td><td>RS</td><td>RS</td><td>Sul</td><td>Sul</td><td>1409351</td><td>1409351</td><td>496.682</td><td>496.682</td><td>{false, 0, [{2017...</td></tr>\n",
       "<tr><td>01</td><td>null</td><td>78614971000119</td><td>411370</td><td>1969-01-18</td><td>3</td><td>0</td><td>0</td><td>0408060000</td><td>1</td><td>2018-01-24</td><td>2018-01-24</td><td>J039</td><td>null</td><td>null</td><td>null</td><td>M</td><td>411370</td><td>4</td><td>49</td><td>0</td><td>0</td><td>null</td><td>null</td><td>null</td><td>2580055</td><td>06</td><td>6</td><td>01</td><td>s3a://datalake/so...</td><td>PR</td><td>2018</td><td>Paraná</td><td>Paraná</td><td>Londrina</td><td>Londrina</td><td>PR</td><td>PR</td><td>Sul</td><td>Sul</td><td>506701</td><td>506701</td><td>1653.075</td><td>1653.075</td><td>{false, 19, [{201...</td></tr>\n",
       "<tr><td>01</td><td>null</td><td>92741016000254</td><td>431490</td><td>1941-04-21</td><td>1</td><td>0</td><td>001</td><td>0303020032</td><td>1</td><td>2017-11-01</td><td>2018-01-20</td><td>D649</td><td>null</td><td>12</td><td>null</td><td>M</td><td>431490</td><td>4</td><td>76</td><td>80</td><td>0</td><td>null</td><td>null</td><td>null</td><td>3567664</td><td>06</td><td>6</td><td>02</td><td>s3a://datalake/so...</td><td>RS</td><td>2018</td><td>Rio Grande do Sul</td><td>Rio Grande do Sul</td><td>Porto Alegre</td><td>Porto Alegre</td><td>RS</td><td>RS</td><td>Sul</td><td>Sul</td><td>1409351</td><td>1409351</td><td>496.682</td><td>496.682</td><td>{false, 0, [{2017...</td></tr>\n",
       "<tr><td>01</td><td>null</td><td>78613841000161</td><td>411370</td><td>1986-01-15</td><td>3</td><td>0</td><td>000</td><td>0303060220</td><td>1</td><td>2018-01-24</td><td>2018-01-25</td><td>A09</td><td>null</td><td>12</td><td>null</td><td>M</td><td>411370</td><td>4</td><td>32</td><td>1</td><td>0</td><td>null</td><td>null</td><td>null</td><td>2550792</td><td>01</td><td>1</td><td>02</td><td>s3a://datalake/so...</td><td>PR</td><td>2018</td><td>Paraná</td><td>Paraná</td><td>Londrina</td><td>Londrina</td><td>PR</td><td>PR</td><td>Sul</td><td>Sul</td><td>506701</td><td>506701</td><td>1653.075</td><td>1653.075</td><td>{false, 19, [{201...</td></tr>\n",
       "<tr><td>01</td><td>null</td><td>54384631000261</td><td>353870</td><td>1945-03-06</td><td>3</td><td>0</td><td>022</td><td>0404010377</td><td>1</td><td>2017-11-06</td><td>2018-01-03</td><td>S323</td><td>Z930</td><td>12</td><td>null</td><td>M</td><td>353870</td><td>4</td><td>72</td><td>58</td><td>0</td><td>null</td><td>null</td><td>null</td><td>2087057</td><td>01</td><td>1</td><td>02</td><td>s3a://datalake/so...</td><td>SP</td><td>2018</td><td>São Paulo</td><td>São Paulo</td><td>Piracicaba</td><td>Piracicaba</td><td>SP</td><td>SP</td><td>Sudeste</td><td>Sudeste</td><td>364571</td><td>364571</td><td>1378.501</td><td>1378.501</td><td>{false, 3, [{2017...</td></tr>\n",
       "<tr><td>01</td><td>null</td><td>78614971000119</td><td>411370</td><td>1972-07-24</td><td>3</td><td>0</td><td>0</td><td>0415040000</td><td>1</td><td>2018-01-24</td><td>2018-01-24</td><td>Z049</td><td>null</td><td>null</td><td>null</td><td>M</td><td>411370</td><td>4</td><td>45</td><td>0</td><td>0</td><td>null</td><td>null</td><td>null</td><td>2580055</td><td>06</td><td>6</td><td>01</td><td>s3a://datalake/so...</td><td>PR</td><td>2018</td><td>Paraná</td><td>Paraná</td><td>Londrina</td><td>Londrina</td><td>PR</td><td>PR</td><td>Sul</td><td>Sul</td><td>506701</td><td>506701</td><td>1653.075</td><td>1653.075</td><td>{false, 19, [{201...</td></tr>\n",
       "<tr><td>01</td><td>null</td><td>46009718000140</td><td>350950</td><td>2017-11-10</td><td>1</td><td>0</td><td>070</td><td>0303070102</td><td>1</td><td>2017-11-10</td><td>2018-01-18</td><td>Z383</td><td>null</td><td>12</td><td>null</td><td>M</td><td>350950</td><td>2</td><td>00</td><td>69</td><td>0</td><td>null</td><td>null</td><td>null</td><td>2078376</td><td>01</td><td>1</td><td>02</td><td>s3a://datalake/so...</td><td>SP</td><td>2018</td><td>São Paulo</td><td>São Paulo</td><td>Campinas</td><td>Campinas</td><td>SP</td><td>SP</td><td>Sudeste</td><td>Sudeste</td><td>1080113</td><td>1080113</td><td>794.433</td><td>794.433</td><td>{false, 5, [{2017...</td></tr>\n",
       "<tr><td>01</td><td>null</td><td>78614971000119</td><td>411370</td><td>1958-12-21</td><td>1</td><td>0</td><td>0</td><td>0416070000</td><td>1</td><td>2018-01-24</td><td>2018-01-24</td><td>Z049</td><td>null</td><td>null</td><td>null</td><td>M</td><td>411370</td><td>4</td><td>59</td><td>0</td><td>0</td><td>null</td><td>null</td><td>null</td><td>2580055</td><td>06</td><td>6</td><td>01</td><td>s3a://datalake/so...</td><td>PR</td><td>2018</td><td>Paraná</td><td>Paraná</td><td>Londrina</td><td>Londrina</td><td>PR</td><td>PR</td><td>Sul</td><td>Sul</td><td>506701</td><td>506701</td><td>1653.075</td><td>1653.075</td><td>{false, 19, [{201...</td></tr>\n",
       "<tr><td>01</td><td>null</td><td>46036018000144</td><td>350950</td><td>1933-03-31</td><td>3</td><td>0</td><td>049</td><td>0301060070</td><td>1</td><td>2017-11-10</td><td>2018-01-18</td><td>E86</td><td>null</td><td>41</td><td>null</td><td>M</td><td>350950</td><td>4</td><td>84</td><td>69</td><td>1</td><td>null</td><td>null</td><td>null</td><td>2081946</td><td>01</td><td>1</td><td>02</td><td>s3a://datalake/so...</td><td>SP</td><td>2018</td><td>São Paulo</td><td>São Paulo</td><td>Campinas</td><td>Campinas</td><td>SP</td><td>SP</td><td>Sudeste</td><td>Sudeste</td><td>1080113</td><td>1080113</td><td>794.433</td><td>794.433</td><td>{false, 5, [{2017...</td></tr>\n",
       "<tr><td>01</td><td>null</td><td>78614971000119</td><td>411370</td><td>1951-10-30</td><td>3</td><td>0</td><td>0</td><td>0415040000</td><td>1</td><td>2018-01-24</td><td>2018-01-24</td><td>Z049</td><td>null</td><td>null</td><td>null</td><td>M</td><td>411370</td><td>4</td><td>66</td><td>0</td><td>0</td><td>null</td><td>null</td><td>null</td><td>2580055</td><td>06</td><td>6</td><td>01</td><td>s3a://datalake/so...</td><td>PR</td><td>2018</td><td>Paraná</td><td>Paraná</td><td>Londrina</td><td>Londrina</td><td>PR</td><td>PR</td><td>Sul</td><td>Sul</td><td>506701</td><td>506701</td><td>1653.075</td><td>1653.075</td><td>{false, 19, [{201...</td></tr>\n",
       "</table>\n",
       "only showing top 20 rows\n"
      ],
      "text/plain": [
       "+--------+-----+--------------+---------+----------+----+----------+----------+----------+-------+----------+----------+----------+----------+--------+--------+------+---------+---------+-----+---------+-----+--------+-------+--------+-------+-----+----------+----------+--------------------+----------------+--------+-----------------+-----------------+------------------------+------------------------+------------------+------------------+----------------+----------------+-----------------------------+-----------------------------+----------------------------------+----------------------------------+--------------------+\n",
       "|mes_cmpt|espec|      cgc_hosp|munic_res|      nasc|sexo|uti_mes_to|uti_int_to|  proc_rea|qt_proc|  dt_atend|  dt_saida|diag_princ|diag_secun|cobranca|natureza|gestao|munic_mov|cod_idade|idade|dias_perm|morte|nacional|car_int|homonimo|   cnes|fonte|cgc_consor|modalidade|     input_file_name|arquivo_sigla_uf|ano_cmpt|munic_res_nome_uf|munic_mov_nome_uf|munic_res_nome_municipio|munic_mov_nome_municipio|munic_res_sigla_uf|munic_mov_sigla_uf|munic_res_regiao|munic_mov_regiao|munic_res_populacao_residente|munic_mov_populacao_residente|munic_res_area_unidade_territorial|munic_mov_area_unidade_territorial|             feriado|\n",
       "+--------+-----+--------------+---------+----------+----+----------+----------+----------+-------+----------+----------+----------+----------+--------+--------+------+---------+---------+-----+---------+-----+--------+-------+--------+-------+-----+----------+----------+--------------------+----------------+--------+-----------------+-----------------+------------------------+------------------------+------------------+------------------+----------------+----------------+-----------------------------+-----------------------------+----------------------------------+----------------------------------+--------------------+\n",
       "|      03| null|06047087000210|   355030|2017-08-04|   3|         0|       024|0301060010|      1|2017-08-04|2018-03-20|      P780|      P912|      11|    null|     M|   355030|        2|   00|      228|    0|    null|   null|    null|2688611|   01|         1|        02|s3a://datalake/so...|              SP|    2018|        São Paulo|        São Paulo|               São Paulo|               São Paulo|                SP|                SP|         Sudeste|         Sudeste|                     11253503|                     11253503|                          1521.101|                          1521.101|{false, 9, [{2017...|\n",
       "|      01| null|78614971000119|   411370|1987-06-24|   1|         0|         0|0416070000|      1|2018-01-24|2018-01-24|      Z049|      null|    null|    null|     M|   411370|        4|   30|        0|    0|    null|   null|    null|2580055|   06|         6|        01|s3a://datalake/so...|              PR|    2018|           Paraná|           Paraná|                Londrina|                Londrina|                PR|                PR|             Sul|             Sul|                       506701|                       506701|                          1653.075|                          1653.075|{false, 19, [{201...|\n",
       "|      03| null|06260857000127|   354340|1953-05-23|   3|         0|       059|0303060212|      1|2017-09-23|2018-03-22|      J189|      null|      12|    null|     M|   354340|        4|   64|      180|    0|    null|   null|    null|5171946|   01|         1|        02|s3a://datalake/so...|              SP|    2018|        São Paulo|        São Paulo|          Ribeirão Preto|          Ribeirão Preto|                SP|                SP|         Sudeste|         Sudeste|                       604682|                       604682|                           650.955|                           650.955|{false, 4, [{2017...|\n",
       "|      01| null|78614971000119|   411370|1960-01-12|   3|         0|         0|0303060000|      1|2018-01-24|2018-01-24|      Z049|      null|    null|    null|     M|   411370|        4|   58|        0|    0|    null|   null|    null|2580055|   06|         6|        01|s3a://datalake/so...|              PR|    2018|           Paraná|           Paraná|                Londrina|                Londrina|                PR|                PR|             Sul|             Sul|                       506701|                       506701|                          1653.075|                          1653.075|{false, 19, [{201...|\n",
       "|      01| null|92815000000168|   431490|1986-11-30|   1|         0|       001|0306020009|      1|2017-10-03|2018-01-26|      R529|      null|      41|    null|     M|   431490|        4|   30|      115|    1|    null|   null|    null|2237253|   06|         6|        02|s3a://datalake/so...|              RS|    2018|Rio Grande do Sul|Rio Grande do Sul|            Porto Alegre|            Porto Alegre|                RS|                RS|             Sul|             Sul|                      1409351|                      1409351|                           496.682|                           496.682|{false, 4, [{2017...|\n",
       "|      01| null|07194341000194|   411370|2001-04-18|   3|         0|       000|0405030002|      1|2018-01-24|2018-01-24|      H186|      null|      12|    null|     D|   411370|        4|   16|        0|    0|    null|   null|    null|2578506|   02|         2|        02|s3a://datalake/so...|              PR|    2018|           Paraná|           Paraná|                Londrina|                Londrina|                PR|                PR|             Sul|             Sul|                       506701|                       506701|                          1653.075|                          1653.075|{false, 19, [{201...|\n",
       "|      03| null|87317764001084|   431490|1941-09-27|   1|         0|       000|0303130075|      1|2017-11-01|2018-03-20|      M869|      null|      11|    null|     M|   431490|        4|   76|      139|    0|    null|   null|    null|2237598|   06|         6|        02|s3a://datalake/so...|              RS|    2018|Rio Grande do Sul|Rio Grande do Sul|            Porto Alegre|            Porto Alegre|                RS|                RS|             Sul|             Sul|                      1409351|                      1409351|                           496.682|                           496.682|{false, 0, [{2017...|\n",
       "|      01| null|07194341000194|   411370|1957-07-06|   3|         0|       000|0211060259|      1|2018-01-24|2018-01-24|      Z010|      null|    null|    null|     D|   411370|        4|   60|        0|    0|    null|   null|    null|2578506|   06|         6|        01|s3a://datalake/so...|              PR|    2018|           Paraná|           Paraná|                Londrina|                Londrina|                PR|                PR|             Sul|             Sul|                       506701|                       506701|                          1653.075|                          1653.075|{false, 19, [{201...|\n",
       "|      01| null|88630413000796|   431490|1936-11-25|   3|         0|       000|0308040015|      1|2017-11-01|2018-01-04|      A419|      null|      12|    null|     M|   431490|        4|   80|       64|    0|    null|   null|    null|2262568|   01|         1|        02|s3a://datalake/so...|              RS|    2018|Rio Grande do Sul|Rio Grande do Sul|            Porto Alegre|            Porto Alegre|                RS|                RS|             Sul|             Sul|                      1409351|                      1409351|                           496.682|                           496.682|{false, 0, [{2017...|\n",
       "|      01| null|78614971000119|   411370|2000-05-05|   1|         0|         0|0416010008|      1|2018-01-24|2018-01-25|       N23|      null|      12|    null|     M|   411370|        4|   17|        1|    0|    null|   null|    null|2580055|   06|         6|        02|s3a://datalake/so...|              PR|    2018|           Paraná|           Paraná|                Londrina|                Londrina|                PR|                PR|             Sul|             Sul|                       506701|                       506701|                          1653.075|                          1653.075|{false, 19, [{201...|\n",
       "|      01| null|92741016000254|   431490|1939-12-19|   1|         0|       015|0407030026|      1|2017-11-01|2018-01-01|      K800|      null|      41|    null|     M|   431490|        4|   77|       61|    1|    null|   null|    null|3567664|   06|         6|        02|s3a://datalake/so...|              RS|    2018|Rio Grande do Sul|Rio Grande do Sul|            Porto Alegre|            Porto Alegre|                RS|                RS|             Sul|             Sul|                      1409351|                      1409351|                           496.682|                           496.682|{false, 0, [{2017...|\n",
       "|      01| null|78614971000119|   411370|1969-01-18|   3|         0|         0|0408060000|      1|2018-01-24|2018-01-24|      J039|      null|    null|    null|     M|   411370|        4|   49|        0|    0|    null|   null|    null|2580055|   06|         6|        01|s3a://datalake/so...|              PR|    2018|           Paraná|           Paraná|                Londrina|                Londrina|                PR|                PR|             Sul|             Sul|                       506701|                       506701|                          1653.075|                          1653.075|{false, 19, [{201...|\n",
       "|      01| null|92741016000254|   431490|1941-04-21|   1|         0|       001|0303020032|      1|2017-11-01|2018-01-20|      D649|      null|      12|    null|     M|   431490|        4|   76|       80|    0|    null|   null|    null|3567664|   06|         6|        02|s3a://datalake/so...|              RS|    2018|Rio Grande do Sul|Rio Grande do Sul|            Porto Alegre|            Porto Alegre|                RS|                RS|             Sul|             Sul|                      1409351|                      1409351|                           496.682|                           496.682|{false, 0, [{2017...|\n",
       "|      01| null|78613841000161|   411370|1986-01-15|   3|         0|       000|0303060220|      1|2018-01-24|2018-01-25|       A09|      null|      12|    null|     M|   411370|        4|   32|        1|    0|    null|   null|    null|2550792|   01|         1|        02|s3a://datalake/so...|              PR|    2018|           Paraná|           Paraná|                Londrina|                Londrina|                PR|                PR|             Sul|             Sul|                       506701|                       506701|                          1653.075|                          1653.075|{false, 19, [{201...|\n",
       "|      01| null|54384631000261|   353870|1945-03-06|   3|         0|       022|0404010377|      1|2017-11-06|2018-01-03|      S323|      Z930|      12|    null|     M|   353870|        4|   72|       58|    0|    null|   null|    null|2087057|   01|         1|        02|s3a://datalake/so...|              SP|    2018|        São Paulo|        São Paulo|              Piracicaba|              Piracicaba|                SP|                SP|         Sudeste|         Sudeste|                       364571|                       364571|                          1378.501|                          1378.501|{false, 3, [{2017...|\n",
       "|      01| null|78614971000119|   411370|1972-07-24|   3|         0|         0|0415040000|      1|2018-01-24|2018-01-24|      Z049|      null|    null|    null|     M|   411370|        4|   45|        0|    0|    null|   null|    null|2580055|   06|         6|        01|s3a://datalake/so...|              PR|    2018|           Paraná|           Paraná|                Londrina|                Londrina|                PR|                PR|             Sul|             Sul|                       506701|                       506701|                          1653.075|                          1653.075|{false, 19, [{201...|\n",
       "|      01| null|46009718000140|   350950|2017-11-10|   1|         0|       070|0303070102|      1|2017-11-10|2018-01-18|      Z383|      null|      12|    null|     M|   350950|        2|   00|       69|    0|    null|   null|    null|2078376|   01|         1|        02|s3a://datalake/so...|              SP|    2018|        São Paulo|        São Paulo|                Campinas|                Campinas|                SP|                SP|         Sudeste|         Sudeste|                      1080113|                      1080113|                           794.433|                           794.433|{false, 5, [{2017...|\n",
       "|      01| null|78614971000119|   411370|1958-12-21|   1|         0|         0|0416070000|      1|2018-01-24|2018-01-24|      Z049|      null|    null|    null|     M|   411370|        4|   59|        0|    0|    null|   null|    null|2580055|   06|         6|        01|s3a://datalake/so...|              PR|    2018|           Paraná|           Paraná|                Londrina|                Londrina|                PR|                PR|             Sul|             Sul|                       506701|                       506701|                          1653.075|                          1653.075|{false, 19, [{201...|\n",
       "|      01| null|46036018000144|   350950|1933-03-31|   3|         0|       049|0301060070|      1|2017-11-10|2018-01-18|       E86|      null|      41|    null|     M|   350950|        4|   84|       69|    1|    null|   null|    null|2081946|   01|         1|        02|s3a://datalake/so...|              SP|    2018|        São Paulo|        São Paulo|                Campinas|                Campinas|                SP|                SP|         Sudeste|         Sudeste|                      1080113|                      1080113|                           794.433|                           794.433|{false, 5, [{2017...|\n",
       "|      01| null|78614971000119|   411370|1951-10-30|   3|         0|         0|0415040000|      1|2018-01-24|2018-01-24|      Z049|      null|    null|    null|     M|   411370|        4|   66|        0|    0|    null|   null|    null|2580055|   06|         6|        01|s3a://datalake/so...|              PR|    2018|           Paraná|           Paraná|                Londrina|                Londrina|                PR|                PR|             Sul|             Sul|                       506701|                       506701|                          1653.075|                          1653.075|{false, 19, [{201...|\n",
       "+--------+-----+--------------+---------+----------+----+----------+----------+----------+-------+----------+----------+----------+----------+--------+--------+------+---------+---------+-----+---------+-----+--------+-------+--------+-------+-----+----------+----------+--------------------+----------------+--------+-----------------+-----------------+------------------------+------------------------+------------------+------------------+----------------+----------------+-----------------------------+-----------------------------+----------------------------------+----------------------------------+--------------------+\n",
       "only showing top 20 rows"
      ]
     },
     "execution_count": 13,
     "metadata": {},
     "output_type": "execute_result"
    }
   ],
   "source": [
    "ciha_step1"
   ]
  },
  {
   "cell_type": "code",
   "execution_count": 14,
   "id": "882c57da-3ba8-40d7-9d9b-f7b816994a7d",
   "metadata": {},
   "outputs": [
    {
     "name": "stdout",
     "output_type": "stream",
     "text": [
      "+-------------+---------------------------+----------------+-----------+--------------------------------------------------------------------------------------------+-------------------------------------------------+------------------------+-----------------------+---------+-----------------------+------------------------------------------------------------------------------------------------+--------------------------------------------------+--------------------+---------------+------------------------------------------------------------+--------------------------------------------------+\n",
      "|sub_categoria|sub_categoria_classificacao|restringido_sexo|causa_obito|sub_categoria_descricao                                                                     |sub_categoria_descricao_abreviada                |sub_categoria_referencia|sub_categoria_excluidos|categoria|categoria_classificacao|categoria_descricao                                                                             |categoria_descricao_abreviada                     |categoria_referencia|capitulo_numero|capitulo_descricao                                          |capitulo_descricao_abreviada                      |\n",
      "+-------------+---------------------------+----------------+-----------+--------------------------------------------------------------------------------------------+-------------------------------------------------+------------------------+-----------------------+---------+-----------------------+------------------------------------------------------------------------------------------------+--------------------------------------------------+--------------------+---------------+------------------------------------------------------------+--------------------------------------------------+\n",
      "|A288         |null                       |null            |null       |Outras doenças bacterianas zoonóticas especificadas não classificadas em outra parte        |A28.8 Outr doenc bacter zoonoticas espec NCOP    |null                    |null                   |A28      |null                   |Outras doenças bacterianas zoonóticas não classificadas em outra parte                          |A28   Outr doenc bacter zoonoticas NCOP           |null                |1              |Capítulo I - Algumas doenças infecciosas e parasitárias     |I.   Algumas doenças infecciosas e parasitárias   |\n",
      "|A982         |null                       |null            |null       |Doença da floresta de Kyasanur                                                              |A98.2 Doenc da floresta de Kyasanur              |null                    |null                   |A98      |null                   |Outras febres hemorrágicas por vírus, não classificadas em outra parte                          |A98   Outr febres hemorragicas p/virus NCOP       |null                |1              |Capítulo I - Algumas doenças infecciosas e parasitárias     |I.   Algumas doenças infecciosas e parasitárias   |\n",
      "|B022         |+                          |null            |null       |Herpes zoster acompanhado de outras manifestações neurológicas                              |B02.2 Herpes zoster acomp outr manif neurologicas|null                    |null                   |B02      |null                   |Herpes zoster [Zona]                                                                            |B02   Herpes zoster                               |null                |1              |Capítulo I - Algumas doenças infecciosas e parasitárias     |I.   Algumas doenças infecciosas e parasitárias   |\n",
      "|B400         |null                       |null            |null       |Blastomicose pulmonar aguda                                                                 |B40.0 Blastomicose pulmonar aguda                |null                    |null                   |B40      |null                   |Blastomicose                                                                                    |B40   Blastomicose                                |null                |1              |Capítulo I - Algumas doenças infecciosas e parasitárias     |I.   Algumas doenças infecciosas e parasitárias   |\n",
      "|C154         |null                       |null            |null       |Neoplasia maligna do terço médio do esôfago                                                 |C15.4 Terco medio do esofago                     |null                    |null                   |C15      |null                   |Neoplasia maligna do esôfago                                                                    |C15   Neopl malig do esofago                      |null                |2              |Capítulo II - Neoplasias [tumores]                          |II.  Neoplasias (tumores)                         |\n",
      "|C185         |null                       |null            |null       |Neoplasia maligna da flexura (ângulo) esplênica(o)                                          |C18.5 Flexura esplenica                          |null                    |null                   |C18      |null                   |Neoplasia maligna do cólon                                                                      |C18   Neopl malig do colon                        |null                |2              |Capítulo II - Neoplasias [tumores]                          |II.  Neoplasias (tumores)                         |\n",
      "|C480         |null                       |null            |null       |Neoplasia maligna do retroperitônio                                                         |C48.0 Retroperitonio                             |null                    |null                   |C48      |null                   |Neoplasia maligna dos tecidos moles do retroperitônio e do peritônio                            |C48   Neopl malig tec moles retro- e peritonio    |null                |2              |Capítulo II - Neoplasias [tumores]                          |II.  Neoplasias (tumores)                         |\n",
      "|C778         |null                       |null            |null       |Neoplasia maligna secundária e não especificada dos gânglios linfáticos de múltiplas regiões|C77.8 Ganglios linfaticos de mult regioes        |null                    |null                   |C77      |null                   |Neoplasia maligna secundária e não especificada dos gânglios linfáticos                         |C77   Neopl malig secund e NE gangl linfaticos    |null                |2              |Capítulo II - Neoplasias [tumores]                          |II.  Neoplasias (tumores)                         |\n",
      "|D091         |null                       |null            |null       |Carcinoma in situ de outros órgãos urinários e os não especificados                         |D09.1 Outr orgaos urinarios e os NE              |null                    |null                   |D09      |null                   |Carcinoma in situ de outras localizações e das não especificadas                                |D09   Carcinoma in situ de outr localiz e das NE  |null                |2              |Capítulo II - Neoplasias [tumores]                          |II.  Neoplasias (tumores)                         |\n",
      "|D093         |null                       |null            |null       |Carcinoma in situ da tireóide e de outras glândulas endócrinas                              |D09.3 Tireoide e de outr gland endocrinas        |null                    |null                   |D09      |null                   |Carcinoma in situ de outras localizações e das não especificadas                                |D09   Carcinoma in situ de outr localiz e das NE  |null                |2              |Capítulo II - Neoplasias [tumores]                          |II.  Neoplasias (tumores)                         |\n",
      "|D237         |null                       |null            |null       |Neoplasia benigna da pele dos membros inferiores, incluindo o quadril                       |D23.7 Pele dos membros infer incl o quadril      |null                    |null                   |D23      |null                   |Outras neoplasias benignas da pele                                                              |D23   Outr neopl benig da pele                    |null                |2              |Capítulo II - Neoplasias [tumores]                          |II.  Neoplasias (tumores)                         |\n",
      "|D251         |null                       |F               |null       |Leiomioma intramural do útero                                                               |D25.1 Leiomioma intramural do utero              |null                    |null                   |D25      |null                   |Leiomioma do útero                                                                              |D25   Leiomioma do utero                          |null                |2              |Capítulo II - Neoplasias [tumores]                          |II.  Neoplasias (tumores)                         |\n",
      "|E002         |null                       |null            |null       |Síndrome da deficiência congênita de iodo do tipo misto                                     |E00.2 Sindr defic congen iodo tipo misto         |null                    |null                   |E00      |null                   |Síndrome de deficiência congênita de iodo                                                       |E00   Sindr de defic congen de iodo               |null                |4              |Capítulo IV - Doenças endócrinas, nutricionais e metabólicas|IV.  Doenças endócrinas nutricionais e metabólicas|\n",
      "|E763         |null                       |null            |null       |Mucopolissacaridose não especificada                                                        |E76.3 Mucopolissacaridose NE                     |null                    |null                   |E76      |null                   |Distúrbios do metabolismo do glicosaminoglicano                                                 |E76   Disturbios metabolismo do glicosaminoglicano|null                |4              |Capítulo IV - Doenças endócrinas, nutricionais e metabólicas|IV.  Doenças endócrinas nutricionais e metabólicas|\n",
      "|E791         |null                       |null            |null       |Síndrome de Lesch-Nyhan                                                                     |E79.1 Sindr de Lesch-Nyhan                       |null                    |null                   |E79      |null                   |Distúrbios do metabolismo de purina e pirimidina                                                |E79   Disturbios metabolismo purina e pirimidina  |null                |4              |Capítulo IV - Doenças endócrinas, nutricionais e metabólicas|IV.  Doenças endócrinas nutricionais e metabólicas|\n",
      "|F072         |null                       |null            |null       |Síndrome pós-traumática                                                                     |F07.2 Sindr pos-traum                            |null                    |null                   |F07      |null                   |Transtornos de personalidade e do comportamento devidos a doença, a lesão e a disfunção cerebral|F07   Transt pers comport dev doen lesao disf cer |null                |5              |Capítulo V - Transtornos mentais e comportamentais          |V.   Transtornos mentais e comportamentais        |\n",
      "|F413         |null                       |null            |null       |Outros transtornos ansiosos mistos                                                          |F41.3 Outr transt ansiosos mistos                |null                    |null                   |F41      |null                   |Outros transtornos ansiosos                                                                     |F41   Outr transt ansiosos                        |null                |5              |Capítulo V - Transtornos mentais e comportamentais          |V.   Transtornos mentais e comportamentais        |\n",
      "|F419         |null                       |null            |null       |Transtorno ansioso não especificado                                                         |F41.9 Transt ansioso NE                          |null                    |null                   |F41      |null                   |Outros transtornos ansiosos                                                                     |F41   Outr transt ansiosos                        |null                |5              |Capítulo V - Transtornos mentais e comportamentais          |V.   Transtornos mentais e comportamentais        |\n",
      "|H268         |null                       |null            |N          |Outras cataratas especificadas                                                              |H26.8 Outr cataratas espec                       |null                    |null                   |H26      |null                   |Outras cataratas                                                                                |H26   Outr cataratas                              |null                |7              |Capítulo VII - Doenças do olho e anexos                     |VII. Doenças do olho e anexos                     |\n",
      "|K050         |null                       |null            |N          |Gengivite aguda                                                                             |K05.0 Gengivite aguda                            |null                    |null                   |K05      |null                   |Gengivite e doenças periodontais                                                                |K05   Gengivite e doenc periodontais              |null                |11             |Capítulo XI - Doenças do aparelho digestivo                 |XI.  Doenças do aparelho digestivo                |\n",
      "+-------------+---------------------------+----------------+-----------+--------------------------------------------------------------------------------------------+-------------------------------------------------+------------------------+-----------------------+---------+-----------------------+------------------------------------------------------------------------------------------------+--------------------------------------------------+--------------------+---------------+------------------------------------------------------------+--------------------------------------------------+\n",
      "only showing top 20 rows\n",
      "\n"
     ]
    }
   ],
   "source": [
    "cid10 = spark.table(\"stage.cid10_joined\")\n",
    "cid10.show(truncate=False)"
   ]
  },
  {
   "cell_type": "code",
   "execution_count": 15,
   "id": "a8fa4f39-ca49-4911-9b8a-d169fc53afc0",
   "metadata": {},
   "outputs": [
    {
     "data": {
      "text/plain": [
       "['mes_cmpt',\n",
       " 'espec',\n",
       " 'cgc_hosp',\n",
       " 'munic_res',\n",
       " 'nasc',\n",
       " 'sexo',\n",
       " 'uti_mes_to',\n",
       " 'uti_int_to',\n",
       " 'proc_rea',\n",
       " 'qt_proc',\n",
       " 'dt_atend',\n",
       " 'dt_saida',\n",
       " 'diag_princ',\n",
       " 'diag_secun',\n",
       " 'cobranca',\n",
       " 'natureza',\n",
       " 'gestao',\n",
       " 'munic_mov',\n",
       " 'cod_idade',\n",
       " 'idade',\n",
       " 'dias_perm',\n",
       " 'morte',\n",
       " 'nacional',\n",
       " 'car_int',\n",
       " 'homonimo',\n",
       " 'cnes',\n",
       " 'fonte',\n",
       " 'cgc_consor',\n",
       " 'modalidade',\n",
       " 'input_file_name',\n",
       " 'arquivo_sigla_uf',\n",
       " 'ano_cmpt',\n",
       " 'munic_res_nome_uf',\n",
       " 'munic_mov_nome_uf',\n",
       " 'munic_res_nome_municipio',\n",
       " 'munic_mov_nome_municipio',\n",
       " 'munic_res_sigla_uf',\n",
       " 'munic_mov_sigla_uf',\n",
       " 'munic_res_regiao',\n",
       " 'munic_mov_regiao',\n",
       " 'munic_res_populacao_residente',\n",
       " 'munic_mov_populacao_residente',\n",
       " 'munic_res_area_unidade_territorial',\n",
       " 'munic_mov_area_unidade_territorial',\n",
       " 'feriado']"
      ]
     },
     "execution_count": 15,
     "metadata": {},
     "output_type": "execute_result"
    }
   ],
   "source": [
    "ciha_step1.columns"
   ]
  },
  {
   "cell_type": "code",
   "execution_count": 20,
   "id": "150167b3-8ae6-4f88-badd-aeb62aece302",
   "metadata": {},
   "outputs": [
    {
     "name": "stdout",
     "output_type": "stream",
     "text": [
      "root\n",
      " |-- mes_cmpt: string (nullable = true)\n",
      " |-- espec: string (nullable = true)\n",
      " |-- cgc_hosp: string (nullable = true)\n",
      " |-- munic_res: string (nullable = true)\n",
      " |-- nasc: date (nullable = true)\n",
      " |-- sexo: string (nullable = true)\n",
      " |-- uti_mes_to: string (nullable = true)\n",
      " |-- uti_int_to: string (nullable = true)\n",
      " |-- proc_rea: string (nullable = true)\n",
      " |-- qt_proc: string (nullable = true)\n",
      " |-- dt_atend: date (nullable = true)\n",
      " |-- dt_atend_dow: integer (nullable = true)\n",
      " |-- dt_saida: date (nullable = true)\n",
      " |-- diag_princ: string (nullable = true)\n",
      " |-- diag_secun: string (nullable = true)\n",
      " |-- cobranca: string (nullable = true)\n",
      " |-- natureza: string (nullable = true)\n",
      " |-- gestao: string (nullable = true)\n",
      " |-- munic_mov: string (nullable = true)\n",
      " |-- cod_idade: string (nullable = true)\n",
      " |-- idade: string (nullable = true)\n",
      " |-- dias_perm: string (nullable = true)\n",
      " |-- morte: string (nullable = true)\n",
      " |-- nacional: string (nullable = true)\n",
      " |-- car_int: string (nullable = true)\n",
      " |-- homonimo: string (nullable = true)\n",
      " |-- cnes: string (nullable = true)\n",
      " |-- fonte: string (nullable = true)\n",
      " |-- cgc_consor: string (nullable = true)\n",
      " |-- modalidade: string (nullable = true)\n",
      " |-- input_file_name: string (nullable = true)\n",
      " |-- arquivo_sigla_uf: string (nullable = true)\n",
      " |-- ano_cmpt: integer (nullable = true)\n",
      " |-- munic_res_nome_uf: string (nullable = true)\n",
      " |-- munic_mov_nome_uf: string (nullable = true)\n",
      " |-- munic_res_nome_municipio: string (nullable = true)\n",
      " |-- munic_mov_nome_municipio: string (nullable = true)\n",
      " |-- munic_res_sigla_uf: string (nullable = true)\n",
      " |-- munic_mov_sigla_uf: string (nullable = true)\n",
      " |-- munic_res_regiao: string (nullable = true)\n",
      " |-- munic_mov_regiao: string (nullable = true)\n",
      " |-- munic_res_populacao_residente: string (nullable = true)\n",
      " |-- munic_mov_populacao_residente: string (nullable = true)\n",
      " |-- munic_res_area_unidade_territorial: string (nullable = true)\n",
      " |-- munic_mov_area_unidade_territorial: string (nullable = true)\n",
      " |-- feriado: struct (nullable = true)\n",
      " |    |-- feriado: string (nullable = true)\n",
      " |    |-- distancia_feriado: integer (nullable = true)\n",
      " |    |-- feriado_info: array (nullable = true)\n",
      " |    |    |-- element: struct (containsNull = true)\n",
      " |    |    |    |-- data: string (nullable = true)\n",
      " |    |    |    |-- nome: string (nullable = true)\n",
      " |    |    |    |-- tipo: string (nullable = true)\n",
      " |    |    |    |-- descricao: string (nullable = true)\n",
      " |    |    |    |-- uf: string (nullable = true)\n",
      " |    |    |    |-- municipio: string (nullable = true)\n",
      " |    |    |    |-- cod_municipio: string (nullable = true)\n",
      " |    |-- erro: string (nullable = true)\n",
      " |-- diag_princ_cid10: struct (nullable = false)\n",
      " |    |-- sub_categoria: string (nullable = true)\n",
      " |    |-- sub_categoria_classificacao: string (nullable = true)\n",
      " |    |-- restringido_sexo: string (nullable = true)\n",
      " |    |-- causa_obito: string (nullable = true)\n",
      " |    |-- sub_categoria_descricao: string (nullable = true)\n",
      " |    |-- sub_categoria_descricao_abreviada: string (nullable = true)\n",
      " |    |-- sub_categoria_referencia: string (nullable = true)\n",
      " |    |-- sub_categoria_excluidos: string (nullable = true)\n",
      " |    |-- categoria: string (nullable = true)\n",
      " |    |-- categoria_classificacao: string (nullable = true)\n",
      " |    |-- categoria_descricao: string (nullable = true)\n",
      " |    |-- categoria_descricao_abreviada: string (nullable = true)\n",
      " |    |-- categoria_referencia: string (nullable = true)\n",
      " |    |-- capitulo_numero: string (nullable = true)\n",
      " |    |-- capitulo_descricao: string (nullable = true)\n",
      " |    |-- capitulo_descricao_abreviada: string (nullable = true)\n",
      " |-- diag_secun_cid10: struct (nullable = false)\n",
      " |    |-- sub_categoria: string (nullable = true)\n",
      " |    |-- sub_categoria_classificacao: string (nullable = true)\n",
      " |    |-- restringido_sexo: string (nullable = true)\n",
      " |    |-- causa_obito: string (nullable = true)\n",
      " |    |-- sub_categoria_descricao: string (nullable = true)\n",
      " |    |-- sub_categoria_descricao_abreviada: string (nullable = true)\n",
      " |    |-- sub_categoria_referencia: string (nullable = true)\n",
      " |    |-- sub_categoria_excluidos: string (nullable = true)\n",
      " |    |-- categoria: string (nullable = true)\n",
      " |    |-- categoria_classificacao: string (nullable = true)\n",
      " |    |-- categoria_descricao: string (nullable = true)\n",
      " |    |-- categoria_descricao_abreviada: string (nullable = true)\n",
      " |    |-- categoria_referencia: string (nullable = true)\n",
      " |    |-- capitulo_numero: string (nullable = true)\n",
      " |    |-- capitulo_descricao: string (nullable = true)\n",
      " |    |-- capitulo_descricao_abreviada: string (nullable = true)\n",
      "\n",
      "+--------+-----+--------------+---------+----------+----+----------+----------+----------+-------+----------+------------+----------+----------+----------+--------+--------+------+---------+---------+-----+---------+-----+--------+-------+--------+-------+-----+----------+----------+---------------------------------------------+----------------+--------+-----------------+-----------------+------------------------+------------------------+------------------+------------------+----------------+----------------+-----------------------------+-----------------------------+----------------------------------+----------------------------------+------------------------------------------------------------------------------------------------------------------------------------------------------------------------------------------------------------------------------------------------------------------------------------------------------------------------------------------+------------------------------------------------------------------------------------------------------------------------------------------------------------------------------------------------------------------------------------------------------------------------------------------------------------------------------------------------------------------------------------------------------+----------------------------------------------------------------------------------------------------------------------------------------------------------------------------------------------------------------------------------------------------------------------------------------------------------------------------------------------------------+\n",
      "|mes_cmpt|espec|cgc_hosp      |munic_res|nasc      |sexo|uti_mes_to|uti_int_to|proc_rea  |qt_proc|dt_atend  |dt_atend_dow|dt_saida  |diag_princ|diag_secun|cobranca|natureza|gestao|munic_mov|cod_idade|idade|dias_perm|morte|nacional|car_int|homonimo|cnes   |fonte|cgc_consor|modalidade|input_file_name                              |arquivo_sigla_uf|ano_cmpt|munic_res_nome_uf|munic_mov_nome_uf|munic_res_nome_municipio|munic_mov_nome_municipio|munic_res_sigla_uf|munic_mov_sigla_uf|munic_res_regiao|munic_mov_regiao|munic_res_populacao_residente|munic_mov_populacao_residente|munic_res_area_unidade_territorial|munic_mov_area_unidade_territorial|feriado                                                                                                                                                                                                                                                                                                                                   |diag_princ_cid10                                                                                                                                                                                                                                                                                                                                                                                      |diag_secun_cid10                                                                                                                                                                                                                                                                                                                                          |\n",
      "+--------+-----+--------------+---------+----------+----+----------+----------+----------+-------+----------+------------+----------+----------+----------+--------+--------+------+---------+---------+-----+---------+-----+--------+-------+--------+-------+-----+----------+----------+---------------------------------------------+----------------+--------+-----------------+-----------------+------------------------+------------------------+------------------+------------------+----------------+----------------+-----------------------------+-----------------------------+----------------------------------+----------------------------------+------------------------------------------------------------------------------------------------------------------------------------------------------------------------------------------------------------------------------------------------------------------------------------------------------------------------------------------+------------------------------------------------------------------------------------------------------------------------------------------------------------------------------------------------------------------------------------------------------------------------------------------------------------------------------------------------------------------------------------------------------+----------------------------------------------------------------------------------------------------------------------------------------------------------------------------------------------------------------------------------------------------------------------------------------------------------------------------------------------------------+\n",
      "|03      |null |06047087000210|355030   |2017-08-04|3   |0         |024       |0301060010|1      |2017-08-04|6           |2018-03-20|P780      |P912      |11      |null    |M     |355030   |2        |00   |228      |0    |null    |null   |null    |2688611|01   |1         |02        |s3a://datalake/source/ciha_csv/CIHASP1803.csv|SP              |2018    |São Paulo        |São Paulo        |São Paulo               |São Paulo               |SP                |SP                |Sudeste         |Sudeste         |11253503                     |11253503                     |1521.101                          |1521.101                          |{false, 9, [{2017-07-26, Fundação da Cidade de Goiás, FACULTATIVO, Feriado para Servidores Públicos. Determinado pelo Estatuto dos Funcionários Públicos Civis do Estado de Goiás e de suas Autarquias, Lei nº 10.460, de 22 de fevereiro de 1988, null, null, null}], }                                                                  |{P780, null, null, null, Perfuração intestinal no período perinatal, P78.0 Perfuracao intestinal no periodo perinatal, null, null, P78, null, Outros transtornos do aparelho digestivo do período perinatal, P78   Outr transt ap digestivo periodo perinatal, null, 16, Capítulo XVI - Algumas afecções originadas no período perinatal, XVI. Algumas afec originadas no período perinatal}          |{P912, null, null, null, Leucomalácia cerebral neonatal, P91.2 Leucomalacia cerebral neonatal, null, null, P91, null, Outros distúrbios da função cerebral do recém-nascido, P91   Outr disturbios funcao cerebral rec-nasc, null, 16, Capítulo XVI - Algumas afecções originadas no período perinatal, XVI. Algumas afec originadas no período perinatal}|\n",
      "|01      |null |78614971000119|411370   |1987-06-24|1   |0         |0         |0416070000|1      |2018-01-24|4           |2018-01-24|Z049      |null      |null    |null    |M     |411370   |4        |30   |0        |0    |null    |null   |null    |2580055|06   |6         |01        |s3a://datalake/source/ciha_csv/CIHAPR1801.csv|PR              |2018    |Paraná           |Paraná           |Londrina                |Londrina                |PR                |PR                |Sul             |Sul             |506701                       |506701                       |1653.075                          |1653.075                          |{false, 19, [{2018-02-12, Carnaval, FACULTATIVO, Ponto Facultativo, ou seja, cabe às empresas e orgão públicos decidirem se trabalharão ou não., null, null, null}, {2018-02-12, Segunda de Carnaval, FACULTATIVO, Ponto Facultativo nas repartições públicas, null, null, null}], }                                                      |{Z049, null, null, null, Exame e observação por razão não especificada, Z04.9 Exame e observacao p/razao NE, null, null, Z04, null, Exame e observação por outras razões, Z04   Exame e observacao p/outr razoes, null, 21, Capítulo XXI - Fatores que influenciam o estado de saúde e o contato com os serviços de saúde, XXI. Contatos com serviços de saúde}                                       |{null, null, null, null, null, null, null, null, null, null, null, null, null, null, null, null}                                                                                                                                                                                                                                                          |\n",
      "|03      |null |06260857000127|354340   |1953-05-23|3   |0         |059       |0303060212|1      |2017-09-23|7           |2018-03-22|J189      |null      |12      |null    |M     |354340   |4        |64   |180      |0    |null    |null   |null    |5171946|01   |1         |02        |s3a://datalake/source/ciha_csv/CIHASP1803.csv|SP              |2018    |São Paulo        |São Paulo        |Ribeirão Preto          |Ribeirão Preto          |SP                |SP                |Sudeste         |Sudeste         |604682                       |604682                       |650.955                           |650.955                           |{false, 4, [{2017-09-27, Ponto Facultativo, FACULTATIVO, Ponto Facultativo conforme decreto 027/2017, null, null, null}], }                                                                                                                                                                                                               |{J189, null, null, null, Pneumonia não especificada, J18.9 Pneumonia NE, null, null, J18, null, Pneumonia por microorganismo não especificada, J18   Pneumonia p/microorg NE, null, 10, Capítulo X - Doenças do aparelho respiratório, X.   Doenças do aparelho respiratório}                                                                                                                         |{null, null, null, null, null, null, null, null, null, null, null, null, null, null, null, null}                                                                                                                                                                                                                                                          |\n",
      "|01      |null |78614971000119|411370   |1960-01-12|3   |0         |0         |0303060000|1      |2018-01-24|4           |2018-01-24|Z049      |null      |null    |null    |M     |411370   |4        |58   |0        |0    |null    |null   |null    |2580055|06   |6         |01        |s3a://datalake/source/ciha_csv/CIHAPR1801.csv|PR              |2018    |Paraná           |Paraná           |Londrina                |Londrina                |PR                |PR                |Sul             |Sul             |506701                       |506701                       |1653.075                          |1653.075                          |{false, 19, [{2018-02-12, Carnaval, FACULTATIVO, Ponto Facultativo, ou seja, cabe às empresas e orgão públicos decidirem se trabalharão ou não., null, null, null}, {2018-02-12, Segunda de Carnaval, FACULTATIVO, Ponto Facultativo nas repartições públicas, null, null, null}], }                                                      |{Z049, null, null, null, Exame e observação por razão não especificada, Z04.9 Exame e observacao p/razao NE, null, null, Z04, null, Exame e observação por outras razões, Z04   Exame e observacao p/outr razoes, null, 21, Capítulo XXI - Fatores que influenciam o estado de saúde e o contato com os serviços de saúde, XXI. Contatos com serviços de saúde}                                       |{null, null, null, null, null, null, null, null, null, null, null, null, null, null, null, null}                                                                                                                                                                                                                                                          |\n",
      "|01      |null |92815000000168|431490   |1986-11-30|1   |0         |001       |0306020009|1      |2017-10-03|3           |2018-01-26|R529      |null      |41      |null    |M     |431490   |4        |30   |115      |1    |null    |null   |null    |2237253|06   |6         |02        |s3a://datalake/source/ciha_csv/CIHARS1801.csv|RS              |2018    |Rio Grande do Sul|Rio Grande do Sul|Porto Alegre            |Porto Alegre            |RS                |RS                |Sul             |Sul             |1409351                      |1409351                      |496.682                           |496.682                           |{false, 4, [{2017-09-29, Ponto Facultativo, FACULTATIVO, Ponto Facultativo devido ao aniversário da cidade, null, null, null}], }                                                                                                                                                                                                         |{R529, null, null, null, Dor não especificada, R52.9 Dor NE, null, null, R52, null, Dor não classificada em outra parte, R52   Dor NCOP, null, 18, Capítulo XVIII - Sintomas, sinais e achados anormais de exames clínicos e de laboratório, não classificados em outra parte, XVIII.Sint sinais e achad anorm ex clín e laborat}                                                                     |{null, null, null, null, null, null, null, null, null, null, null, null, null, null, null, null}                                                                                                                                                                                                                                                          |\n",
      "|01      |null |07194341000194|411370   |2001-04-18|3   |0         |000       |0405030002|1      |2018-01-24|4           |2018-01-24|H186      |null      |12      |null    |D     |411370   |4        |16   |0        |0    |null    |null   |null    |2578506|02   |2         |02        |s3a://datalake/source/ciha_csv/CIHAPR1801.csv|PR              |2018    |Paraná           |Paraná           |Londrina                |Londrina                |PR                |PR                |Sul             |Sul             |506701                       |506701                       |1653.075                          |1653.075                          |{false, 19, [{2018-02-12, Carnaval, FACULTATIVO, Ponto Facultativo, ou seja, cabe às empresas e orgão públicos decidirem se trabalharão ou não., null, null, null}, {2018-02-12, Segunda de Carnaval, FACULTATIVO, Ponto Facultativo nas repartições públicas, null, null, null}], }                                                      |{H186, null, null, N, Ceratocone, H18.6 Ceratocone, null, null, H18, null, Outros transtornos da córnea, H18   Outr transt da cornea, null, 7, Capítulo VII - Doenças do olho e anexos, VII. Doenças do olho e anexos}                                                                                                                                                                                |{null, null, null, null, null, null, null, null, null, null, null, null, null, null, null, null}                                                                                                                                                                                                                                                          |\n",
      "|03      |null |87317764001084|431490   |1941-09-27|1   |0         |000       |0303130075|1      |2017-11-01|4           |2018-03-20|M869      |null      |11      |null    |M     |431490   |4        |76   |139      |0    |null    |null   |null    |2237598|06   |6         |02        |s3a://datalake/source/ciha_csv/CIHARS1803.csv|RS              |2018    |Rio Grande do Sul|Rio Grande do Sul|Porto Alegre            |Porto Alegre            |RS                |RS                |Sul             |Sul             |1409351                      |1409351                      |496.682                           |496.682                           |{false, 0, [{2017-11-01, Ponto Facultativo, FACULTATIVO, Feriado para Funcionários Públicos ESTADUAIS transferido para este dia, null, null, null}], }                                                                                                                                                                                    |{M869, null, null, null, Osteomielite não especificada, M86.9 Osteomielite NE, null, null, M86, null, Osteomielite, M86   Osteomielite, null, 13, Capítulo XIII - Doenças do sistema osteomuscular e do tecido conjuntivo, XIII.Doenças sist osteomuscular e tec conjuntivo}                                                                                                                          |{null, null, null, null, null, null, null, null, null, null, null, null, null, null, null, null}                                                                                                                                                                                                                                                          |\n",
      "|01      |null |07194341000194|411370   |1957-07-06|3   |0         |000       |0211060259|1      |2018-01-24|4           |2018-01-24|Z010      |null      |null    |null    |D     |411370   |4        |60   |0        |0    |null    |null   |null    |2578506|06   |6         |01        |s3a://datalake/source/ciha_csv/CIHAPR1801.csv|PR              |2018    |Paraná           |Paraná           |Londrina                |Londrina                |PR                |PR                |Sul             |Sul             |506701                       |506701                       |1653.075                          |1653.075                          |{false, 19, [{2018-02-12, Carnaval, FACULTATIVO, Ponto Facultativo, ou seja, cabe às empresas e orgão públicos decidirem se trabalharão ou não., null, null, null}, {2018-02-12, Segunda de Carnaval, FACULTATIVO, Ponto Facultativo nas repartições públicas, null, null, null}], }                                                      |{Z010, null, null, null, Exame dos olhos e da visão, Z01.0 Exame dos olhos e da visao, null, null, Z01, null, Outros exames e investigações especiais de pessoas sem queixa ou diagnóstico relatado, Z01   Outr exam invest esp pess s/queix diag relat, null, 21, Capítulo XXI - Fatores que influenciam o estado de saúde e o contato com os serviços de saúde, XXI. Contatos com serviços de saúde}|{null, null, null, null, null, null, null, null, null, null, null, null, null, null, null, null}                                                                                                                                                                                                                                                          |\n",
      "|01      |null |88630413000796|431490   |1936-11-25|3   |0         |000       |0308040015|1      |2017-11-01|4           |2018-01-04|A419      |null      |12      |null    |M     |431490   |4        |80   |64       |0    |null    |null   |null    |2262568|01   |1         |02        |s3a://datalake/source/ciha_csv/CIHARS1801.csv|RS              |2018    |Rio Grande do Sul|Rio Grande do Sul|Porto Alegre            |Porto Alegre            |RS                |RS                |Sul             |Sul             |1409351                      |1409351                      |496.682                           |496.682                           |{false, 0, [{2017-11-01, Ponto Facultativo, FACULTATIVO, Feriado para Funcionários Públicos ESTADUAIS transferido para este dia, null, null, null}], }                                                                                                                                                                                    |{A419, null, null, null, Septicemia não especificada, A41.9 Septicemia NE, null, null, A41, null, Outras septicemias, A41   Outr septicemias, null, 1, Capítulo I - Algumas doenças infecciosas e parasitárias, I.   Algumas doenças infecciosas e parasitárias}                                                                                                                                      |{null, null, null, null, null, null, null, null, null, null, null, null, null, null, null, null}                                                                                                                                                                                                                                                          |\n",
      "|01      |null |78614971000119|411370   |2000-05-05|1   |0         |0         |0416010008|1      |2018-01-24|4           |2018-01-25|N23       |null      |12      |null    |M     |411370   |4        |17   |1        |0    |null    |null   |null    |2580055|06   |6         |02        |s3a://datalake/source/ciha_csv/CIHAPR1801.csv|PR              |2018    |Paraná           |Paraná           |Londrina                |Londrina                |PR                |PR                |Sul             |Sul             |506701                       |506701                       |1653.075                          |1653.075                          |{false, 19, [{2018-02-12, Carnaval, FACULTATIVO, Ponto Facultativo, ou seja, cabe às empresas e orgão públicos decidirem se trabalharão ou não., null, null, null}, {2018-02-12, Segunda de Carnaval, FACULTATIVO, Ponto Facultativo nas repartições públicas, null, null, null}], }                                                      |{N23, null, null, null, Cólica nefrética não especificada, N23   Colica nefretica NE, null, null, N23, null, Cólica nefrética não especificada, N23   Colica nefretica NE, null, 14, Capítulo XIV - Doenças do aparelho geniturinário, XIV. Doenças do aparelho geniturinário}                                                                                                                        |{null, null, null, null, null, null, null, null, null, null, null, null, null, null, null, null}                                                                                                                                                                                                                                                          |\n",
      "|01      |null |92741016000254|431490   |1939-12-19|1   |0         |015       |0407030026|1      |2017-11-01|4           |2018-01-01|K800      |null      |41      |null    |M     |431490   |4        |77   |61       |1    |null    |null   |null    |3567664|06   |6         |02        |s3a://datalake/source/ciha_csv/CIHARS1801.csv|RS              |2018    |Rio Grande do Sul|Rio Grande do Sul|Porto Alegre            |Porto Alegre            |RS                |RS                |Sul             |Sul             |1409351                      |1409351                      |496.682                           |496.682                           |{false, 0, [{2017-11-01, Ponto Facultativo, FACULTATIVO, Feriado para Funcionários Públicos ESTADUAIS transferido para este dia, null, null, null}], }                                                                                                                                                                                    |{K800, null, null, null, Calculose da vesícula biliar com colicistite aguda, K80.0 Calculose vesicula biliar c/colicistite agud, null, null, K80, null, Colelitíase, K80   Colelitiase, null, 11, Capítulo XI - Doenças do aparelho digestivo, XI.  Doenças do aparelho digestivo}                                                                                                                    |{null, null, null, null, null, null, null, null, null, null, null, null, null, null, null, null}                                                                                                                                                                                                                                                          |\n",
      "|01      |null |78614971000119|411370   |1969-01-18|3   |0         |0         |0408060000|1      |2018-01-24|4           |2018-01-24|J039      |null      |null    |null    |M     |411370   |4        |49   |0        |0    |null    |null   |null    |2580055|06   |6         |01        |s3a://datalake/source/ciha_csv/CIHAPR1801.csv|PR              |2018    |Paraná           |Paraná           |Londrina                |Londrina                |PR                |PR                |Sul             |Sul             |506701                       |506701                       |1653.075                          |1653.075                          |{false, 19, [{2018-02-12, Carnaval, FACULTATIVO, Ponto Facultativo, ou seja, cabe às empresas e orgão públicos decidirem se trabalharão ou não., null, null, null}, {2018-02-12, Segunda de Carnaval, FACULTATIVO, Ponto Facultativo nas repartições públicas, null, null, null}], }                                                      |{J039, null, null, null, Amigdalite aguda não especificada, J03.9 Amigdalite aguda NE, null, null, J03, null, Amigdalite aguda, J03   Amigdalite aguda, null, 10, Capítulo X - Doenças do aparelho respiratório, X.   Doenças do aparelho respiratório}                                                                                                                                               |{null, null, null, null, null, null, null, null, null, null, null, null, null, null, null, null}                                                                                                                                                                                                                                                          |\n",
      "|01      |null |92741016000254|431490   |1941-04-21|1   |0         |001       |0303020032|1      |2017-11-01|4           |2018-01-20|D649      |null      |12      |null    |M     |431490   |4        |76   |80       |0    |null    |null   |null    |3567664|06   |6         |02        |s3a://datalake/source/ciha_csv/CIHARS1801.csv|RS              |2018    |Rio Grande do Sul|Rio Grande do Sul|Porto Alegre            |Porto Alegre            |RS                |RS                |Sul             |Sul             |1409351                      |1409351                      |496.682                           |496.682                           |{false, 0, [{2017-11-01, Ponto Facultativo, FACULTATIVO, Feriado para Funcionários Públicos ESTADUAIS transferido para este dia, null, null, null}], }                                                                                                                                                                                    |{D649, null, null, null, Anemia não especificada, D64.9 Anemia NE, null, null, D64, null, Outras anemias, D64   Outr anemias, null, 3, Capítulo III  - Doenças do sangue e dos órgãos hematopoéticos e alguns transtornos imunitários, III. Doenças sangue órgãos hemat e transt imunitár}                                                                                                            |{null, null, null, null, null, null, null, null, null, null, null, null, null, null, null, null}                                                                                                                                                                                                                                                          |\n",
      "|01      |null |78613841000161|411370   |1986-01-15|3   |0         |000       |0303060220|1      |2018-01-24|4           |2018-01-25|A09       |null      |12      |null    |M     |411370   |4        |32   |1        |0    |null    |null   |null    |2550792|01   |1         |02        |s3a://datalake/source/ciha_csv/CIHAPR1801.csv|PR              |2018    |Paraná           |Paraná           |Londrina                |Londrina                |PR                |PR                |Sul             |Sul             |506701                       |506701                       |1653.075                          |1653.075                          |{false, 19, [{2018-02-12, Carnaval, FACULTATIVO, Ponto Facultativo, ou seja, cabe às empresas e orgão públicos decidirem se trabalharão ou não., null, null, null}, {2018-02-12, Segunda de Carnaval, FACULTATIVO, Ponto Facultativo nas repartições públicas, null, null, null}], }                                                      |{A09, null, null, null, Diarréia e gastroenterite de origem infecciosa presumível, A09   Diarreia e gastroenterite orig infecc presum, null, null, A09, null, Diarréia e gastroenterite de origem infecciosa presumível, A09   Diarreia e gastroenterite orig infecc presum, null, 1, Capítulo I - Algumas doenças infecciosas e parasitárias, I.   Algumas doenças infecciosas e parasitárias}       |{null, null, null, null, null, null, null, null, null, null, null, null, null, null, null, null}                                                                                                                                                                                                                                                          |\n",
      "|01      |null |54384631000261|353870   |1945-03-06|3   |0         |022       |0404010377|1      |2017-11-06|2           |2018-01-03|S323      |Z930      |12      |null    |M     |353870   |4        |72   |58       |0    |null    |null   |null    |2087057|01   |1         |02        |s3a://datalake/source/ciha_csv/CIHASP1801.csv|SP              |2018    |São Paulo        |São Paulo        |Piracicaba              |Piracicaba              |SP                |SP                |Sudeste         |Sudeste         |364571                       |364571                       |1378.501                          |1378.501                          |{false, 3, [{2017-11-03, Ponto Facultativo, FACULTATIVO, Feriado para funcionários públicos do município, null, null, null}, {2017-11-03, Dia do Func. Público, FACULTATIVO, Feriado para Funcionários Públicos (Dia do Funcionário Público) transferido para 03 de Novembro, null, null, null}], }                                       |{S323, null, null, null, Fratura do ílio, S32.3 Frat do ilio, null, null, S32, null, Fratura da coluna lombar e da pelve, S32   Frat da coluna lombar e da pelve, null, 19, Capítulo XIX - Lesões, envenenamento e algumas outras conseqüências de causas externas, XIX. Lesões enven e alg out conseq causas externas}                                                                               |{Z930, null, null, null, Traqueostomia, Z93.0 Traqueostomia, null, null, Z93, null, Orifícios artificiais, Z93   Orificios artificiais, null, 21, Capítulo XXI - Fatores que influenciam o estado de saúde e o contato com os serviços de saúde, XXI. Contatos com serviços de saúde}                                                                     |\n",
      "|01      |null |78614971000119|411370   |1972-07-24|3   |0         |0         |0415040000|1      |2018-01-24|4           |2018-01-24|Z049      |null      |null    |null    |M     |411370   |4        |45   |0        |0    |null    |null   |null    |2580055|06   |6         |01        |s3a://datalake/source/ciha_csv/CIHAPR1801.csv|PR              |2018    |Paraná           |Paraná           |Londrina                |Londrina                |PR                |PR                |Sul             |Sul             |506701                       |506701                       |1653.075                          |1653.075                          |{false, 19, [{2018-02-12, Carnaval, FACULTATIVO, Ponto Facultativo, ou seja, cabe às empresas e orgão públicos decidirem se trabalharão ou não., null, null, null}, {2018-02-12, Segunda de Carnaval, FACULTATIVO, Ponto Facultativo nas repartições públicas, null, null, null}], }                                                      |{Z049, null, null, null, Exame e observação por razão não especificada, Z04.9 Exame e observacao p/razao NE, null, null, Z04, null, Exame e observação por outras razões, Z04   Exame e observacao p/outr razoes, null, 21, Capítulo XXI - Fatores que influenciam o estado de saúde e o contato com os serviços de saúde, XXI. Contatos com serviços de saúde}                                       |{null, null, null, null, null, null, null, null, null, null, null, null, null, null, null, null}                                                                                                                                                                                                                                                          |\n",
      "|01      |null |46009718000140|350950   |2017-11-10|1   |0         |070       |0303070102|1      |2017-11-10|6           |2018-01-18|Z383      |null      |12      |null    |M     |350950   |2        |00   |69       |0    |null    |null   |null    |2078376|01   |1         |02        |s3a://datalake/source/ciha_csv/CIHASP1801.csv|SP              |2018    |São Paulo        |São Paulo        |Campinas                |Campinas                |SP                |SP                |Sudeste         |Sudeste         |1080113                      |1080113                      |794.433                           |794.433                           |{false, 5, [{2017-11-15, Proclamação da República, NACIONAL, A Proclamação da República foi um levante político-militar ocorrido em 15 de novembro de 1889 que instaurou a forma Republicana Federativa Presidencialista de governo no Brasil, derrubando a Monarquia e, por conseguinte, o imperador dom Pedro II., null, null, null}], }|{Z383, null, null, null, Gêmeos (duplos), nascidos em hospital, Z38.3 Gemeos nascidos em hospital, null, null, Z38, null, Nascidos vivos [nado-vivos] segundo o local de nascimento, Z38   Nascidos vivos segundo o local de nascimento, null, 21, Capítulo XXI - Fatores que influenciam o estado de saúde e o contato com os serviços de saúde, XXI. Contatos com serviços de saúde}                |{null, null, null, null, null, null, null, null, null, null, null, null, null, null, null, null}                                                                                                                                                                                                                                                          |\n",
      "|01      |null |78614971000119|411370   |1958-12-21|1   |0         |0         |0416070000|1      |2018-01-24|4           |2018-01-24|Z049      |null      |null    |null    |M     |411370   |4        |59   |0        |0    |null    |null   |null    |2580055|06   |6         |01        |s3a://datalake/source/ciha_csv/CIHAPR1801.csv|PR              |2018    |Paraná           |Paraná           |Londrina                |Londrina                |PR                |PR                |Sul             |Sul             |506701                       |506701                       |1653.075                          |1653.075                          |{false, 19, [{2018-02-12, Carnaval, FACULTATIVO, Ponto Facultativo, ou seja, cabe às empresas e orgão públicos decidirem se trabalharão ou não., null, null, null}, {2018-02-12, Segunda de Carnaval, FACULTATIVO, Ponto Facultativo nas repartições públicas, null, null, null}], }                                                      |{Z049, null, null, null, Exame e observação por razão não especificada, Z04.9 Exame e observacao p/razao NE, null, null, Z04, null, Exame e observação por outras razões, Z04   Exame e observacao p/outr razoes, null, 21, Capítulo XXI - Fatores que influenciam o estado de saúde e o contato com os serviços de saúde, XXI. Contatos com serviços de saúde}                                       |{null, null, null, null, null, null, null, null, null, null, null, null, null, null, null, null}                                                                                                                                                                                                                                                          |\n",
      "|01      |null |46036018000144|350950   |1933-03-31|3   |0         |049       |0301060070|1      |2017-11-10|6           |2018-01-18|E86       |null      |41      |null    |M     |350950   |4        |84   |69       |1    |null    |null   |null    |2081946|01   |1         |02        |s3a://datalake/source/ciha_csv/CIHASP1801.csv|SP              |2018    |São Paulo        |São Paulo        |Campinas                |Campinas                |SP                |SP                |Sudeste         |Sudeste         |1080113                      |1080113                      |794.433                           |794.433                           |{false, 5, [{2017-11-15, Proclamação da República, NACIONAL, A Proclamação da República foi um levante político-militar ocorrido em 15 de novembro de 1889 que instaurou a forma Republicana Federativa Presidencialista de governo no Brasil, derrubando a Monarquia e, por conseguinte, o imperador dom Pedro II., null, null, null}], }|{E86, null, null, null, Depleção de volume, E86   Deplecao de volume, null, null, E86, null, Depleção de volume, E86   Deplecao de volume, null, 4, Capítulo IV - Doenças endócrinas, nutricionais e metabólicas, IV.  Doenças endócrinas nutricionais e metabólicas}                                                                                                                                 |{null, null, null, null, null, null, null, null, null, null, null, null, null, null, null, null}                                                                                                                                                                                                                                                          |\n",
      "|01      |null |78614971000119|411370   |1951-10-30|3   |0         |0         |0415040000|1      |2018-01-24|4           |2018-01-24|Z049      |null      |null    |null    |M     |411370   |4        |66   |0        |0    |null    |null   |null    |2580055|06   |6         |01        |s3a://datalake/source/ciha_csv/CIHAPR1801.csv|PR              |2018    |Paraná           |Paraná           |Londrina                |Londrina                |PR                |PR                |Sul             |Sul             |506701                       |506701                       |1653.075                          |1653.075                          |{false, 19, [{2018-02-12, Carnaval, FACULTATIVO, Ponto Facultativo, ou seja, cabe às empresas e orgão públicos decidirem se trabalharão ou não., null, null, null}, {2018-02-12, Segunda de Carnaval, FACULTATIVO, Ponto Facultativo nas repartições públicas, null, null, null}], }                                                      |{Z049, null, null, null, Exame e observação por razão não especificada, Z04.9 Exame e observacao p/razao NE, null, null, Z04, null, Exame e observação por outras razões, Z04   Exame e observacao p/outr razoes, null, 21, Capítulo XXI - Fatores que influenciam o estado de saúde e o contato com os serviços de saúde, XXI. Contatos com serviços de saúde}                                       |{null, null, null, null, null, null, null, null, null, null, null, null, null, null, null, null}                                                                                                                                                                                                                                                          |\n",
      "+--------+-----+--------------+---------+----------+----+----------+----------+----------+-------+----------+------------+----------+----------+----------+--------+--------+------+---------+---------+-----+---------+-----+--------+-------+--------+-------+-----+----------+----------+---------------------------------------------+----------------+--------+-----------------+-----------------+------------------------+------------------------+------------------+------------------+----------------+----------------+-----------------------------+-----------------------------+----------------------------------+----------------------------------+------------------------------------------------------------------------------------------------------------------------------------------------------------------------------------------------------------------------------------------------------------------------------------------------------------------------------------------+------------------------------------------------------------------------------------------------------------------------------------------------------------------------------------------------------------------------------------------------------------------------------------------------------------------------------------------------------------------------------------------------------+----------------------------------------------------------------------------------------------------------------------------------------------------------------------------------------------------------------------------------------------------------------------------------------------------------------------------------------------------------+\n",
      "only showing top 20 rows\n",
      "\n"
     ]
    }
   ],
   "source": [
    "ciha_step2 = (ciha_step1.alias(\"s1\")\n",
    "    .join(cid10.alias(\"cid10_princ\"),\n",
    "          col(\"s1.diag_princ\") == col(\"cid10_princ.sub_categoria\"),\n",
    "         \"left\")\n",
    "    .join(cid10.alias(\"cid10_secun\"),\n",
    "          col(\"s1.diag_secun\") == col(\"cid10_secun.sub_categoria\"),\n",
    "         \"left\")\n",
    "    .select(\n",
    "        col(\"s1.mes_cmpt\"),\n",
    "        col(\"s1.espec\"),\n",
    "        col(\"s1.cgc_hosp\"),\n",
    "        col(\"s1.munic_res\"),\n",
    "        col(\"s1.nasc\"),\n",
    "        col(\"s1.sexo\"),\n",
    "        col(\"s1.uti_mes_to\"),\n",
    "        col(\"s1.uti_int_to\"),\n",
    "        col(\"s1.proc_rea\"),\n",
    "        col(\"s1.qt_proc\"),\n",
    "        col(\"s1.dt_atend\"),\n",
    "        dayofweek('s1.dt_atend').alias(\"dt_atend_dow\"),\n",
    "        col(\"s1.dt_saida\"),\n",
    "        col(\"s1.diag_princ\"),\n",
    "        col(\"s1.diag_secun\"),\n",
    "        col(\"s1.cobranca\"),\n",
    "        col(\"s1.natureza\"),\n",
    "        col(\"s1.gestao\"),\n",
    "        col(\"s1.munic_mov\"),\n",
    "        col(\"s1.cod_idade\"),\n",
    "        col(\"s1.idade\"),\n",
    "        col(\"s1.dias_perm\"),\n",
    "        col(\"s1.morte\"),\n",
    "        col(\"s1.nacional\"),\n",
    "        col(\"s1.car_int\"),\n",
    "        col(\"s1.homonimo\"),\n",
    "        col(\"s1.cnes\"),\n",
    "        col(\"s1.fonte\"),\n",
    "        col(\"s1.cgc_consor\"),\n",
    "        col(\"s1.modalidade\"),\n",
    "        col(\"s1.input_file_name\"),\n",
    "        col(\"s1.arquivo_sigla_uf\"),\n",
    "        col(\"s1.ano_cmpt\"),\n",
    "        col(\"s1.munic_res_nome_uf\"),\n",
    "        col(\"s1.munic_mov_nome_uf\"),\n",
    "        col(\"s1.munic_res_nome_municipio\"),\n",
    "        col(\"s1.munic_mov_nome_municipio\"),\n",
    "        col(\"s1.munic_res_sigla_uf\"),\n",
    "        col(\"s1.munic_mov_sigla_uf\"),\n",
    "        col(\"s1.munic_res_regiao\"),\n",
    "        col(\"s1.munic_mov_regiao\"),\n",
    "        col(\"s1.munic_res_populacao_residente\"),\n",
    "        col(\"s1.munic_mov_populacao_residente\"),\n",
    "        col(\"s1.munic_res_area_unidade_territorial\"),\n",
    "        col(\"s1.munic_mov_area_unidade_territorial\"),\n",
    "        col(\"s1.feriado\"),\n",
    "        struct(\"cid10_princ.*\").alias(\"diag_princ_cid10\"),\n",
    "        struct(\"cid10_secun.*\").alias(\"diag_secun_cid10\")\n",
    "    )\n",
    ")\n",
    "    \n",
    "ciha_step2.printSchema()\n",
    "ciha_step2.show(truncate=False)"
   ]
  },
  {
   "cell_type": "code",
   "execution_count": 23,
   "id": "0fa762aa-41f6-4919-b09d-aa907693361e",
   "metadata": {},
   "outputs": [
    {
     "data": {
      "text/plain": [
       "<delta.tables.DeltaTable at 0x7f8f8d38c650>"
      ]
     },
     "execution_count": 23,
     "metadata": {},
     "output_type": "execute_result"
    }
   ],
   "source": [
    "DeltaTable.createIfNotExists(spark) \\\n",
    "  .tableName(\"stage.ciha_step2\") \\\n",
    "  .addColumns(ciha_step2.schema) \\\n",
    "  .partitionedBy(\"ano_cmpt\") \\\n",
    "  .execute()"
   ]
  },
  {
   "cell_type": "code",
   "execution_count": 24,
   "id": "9d960e7e-7c09-4c41-94a8-07d1244196f2",
   "metadata": {},
   "outputs": [],
   "source": [
    "ciha_step2.write.insertInto(\"stage.ciha_step2\")"
   ]
  },
  {
   "cell_type": "code",
   "execution_count": 34,
   "id": "df78ded0-48c7-41aa-9f61-205966cc2633",
   "metadata": {},
   "outputs": [
    {
     "data": {
      "text/html": [
       "<table border='1'>\n",
       "<tr><th>path</th><th>metrics</th></tr>\n",
       "<tr><td>s3a://datalake/st...</td><td>{4, 8, {280468750...</td></tr>\n",
       "</table>\n"
      ],
      "text/plain": [
       "+--------------------+--------------------+\n",
       "|                path|             metrics|\n",
       "+--------------------+--------------------+\n",
       "|s3a://datalake/st...|{4, 8, {280468750...|\n",
       "+--------------------+--------------------+"
      ]
     },
     "execution_count": 34,
     "metadata": {},
     "output_type": "execute_result"
    }
   ],
   "source": [
    "spark.sql(\"optimize stage.ciha_step2\")"
   ]
  },
  {
   "cell_type": "code",
   "execution_count": 25,
   "id": "e170f49c-fcb5-40ca-aeea-8c529ab672f4",
   "metadata": {},
   "outputs": [],
   "source": [
    "spark.stop()"
   ]
  }
 ],
 "metadata": {
  "kernelspec": {
   "display_name": "Python 3 (ipykernel)",
   "language": "python",
   "name": "python3"
  },
  "language_info": {
   "codemirror_mode": {
    "name": "ipython",
    "version": 3
   },
   "file_extension": ".py",
   "mimetype": "text/x-python",
   "name": "python",
   "nbconvert_exporter": "python",
   "pygments_lexer": "ipython3",
   "version": "3.11.6"
  }
 },
 "nbformat": 4,
 "nbformat_minor": 5
}
