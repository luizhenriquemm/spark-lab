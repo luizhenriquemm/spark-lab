{
 "cells": [
  {
   "cell_type": "code",
   "execution_count": 1,
   "id": "201c87e3-b09b-42ba-88e9-b62ad97936fb",
   "metadata": {},
   "outputs": [],
   "source": [
    "%run ../spark-default.py"
   ]
  },
  {
   "cell_type": "code",
   "execution_count": 2,
   "id": "3c780d88-afaf-42c6-85ff-8f7882713413",
   "metadata": {},
   "outputs": [],
   "source": [
    "spark.conf.set(\"spark.sql.sources.partitionOverwriteMode\",\"dynamic\")"
   ]
  },
  {
   "cell_type": "code",
   "execution_count": 3,
   "id": "f57460b9-e7b0-49f2-9d55-a28ff6ba182f",
   "metadata": {},
   "outputs": [],
   "source": [
    "import builtins as b\n",
    "from datetime import datetime, timedelta, date\n",
    "import sys, traceback\n",
    "from delta.tables import DeltaTable\n",
    "\n",
    "import pandas as pd\n",
    "import numpy as np\n",
    "import matplotlib.pyplot as plt"
   ]
  },
  {
   "cell_type": "code",
   "execution_count": 10,
   "id": "0742876b-651c-4bf0-85ca-5b9024e35d04",
   "metadata": {},
   "outputs": [],
   "source": [
    "# spark.sql(\"optimize stage.ciha_step1\")"
   ]
  },
  {
   "cell_type": "code",
   "execution_count": 11,
   "id": "60cef1db-c72b-4c09-91d3-e0ab2dfaf455",
   "metadata": {},
   "outputs": [],
   "source": [
    "# Até aqui, a base do CIHA foi enriquecida com:\n",
    "#  - Nome das cidades (residencia e movimentação)\n",
    "#  - Nome, uf e info dos estados (residencia e movimentação)\n",
    "#  - Infos do IBGE como população e área\n",
    "#  - Calculo de feriados"
   ]
  },
  {
   "cell_type": "code",
   "execution_count": 4,
   "id": "040de677-c262-4487-951d-d29d1ad7c43d",
   "metadata": {},
   "outputs": [
    {
     "name": "stdout",
     "output_type": "stream",
     "text": [
      "root\n",
      " |-- mes_cmpt: string (nullable = true)\n",
      " |-- espec: string (nullable = true)\n",
      " |-- cgc_hosp: string (nullable = true)\n",
      " |-- munic_res: string (nullable = true)\n",
      " |-- nasc: date (nullable = true)\n",
      " |-- sexo: string (nullable = true)\n",
      " |-- uti_mes_to: string (nullable = true)\n",
      " |-- uti_int_to: string (nullable = true)\n",
      " |-- proc_rea: string (nullable = true)\n",
      " |-- qt_proc: string (nullable = true)\n",
      " |-- dt_atend: date (nullable = true)\n",
      " |-- dt_saida: date (nullable = true)\n",
      " |-- diag_princ: string (nullable = true)\n",
      " |-- diag_secun: string (nullable = true)\n",
      " |-- cobranca: string (nullable = true)\n",
      " |-- natureza: string (nullable = true)\n",
      " |-- gestao: string (nullable = true)\n",
      " |-- munic_mov: string (nullable = true)\n",
      " |-- cod_idade: string (nullable = true)\n",
      " |-- idade: string (nullable = true)\n",
      " |-- dias_perm: string (nullable = true)\n",
      " |-- morte: string (nullable = true)\n",
      " |-- nacional: string (nullable = true)\n",
      " |-- car_int: string (nullable = true)\n",
      " |-- homonimo: string (nullable = true)\n",
      " |-- cnes: string (nullable = true)\n",
      " |-- fonte: string (nullable = true)\n",
      " |-- cgc_consor: string (nullable = true)\n",
      " |-- modalidade: string (nullable = true)\n",
      " |-- input_file_name: string (nullable = true)\n",
      " |-- arquivo_sigla_uf: string (nullable = true)\n",
      " |-- ano_cmpt: integer (nullable = true)\n",
      " |-- munic_res_nome_uf: string (nullable = true)\n",
      " |-- munic_mov_nome_uf: string (nullable = true)\n",
      " |-- munic_res_nome_municipio: string (nullable = true)\n",
      " |-- munic_mov_nome_municipio: string (nullable = true)\n",
      " |-- munic_res_sigla_uf: string (nullable = true)\n",
      " |-- munic_mov_sigla_uf: string (nullable = true)\n",
      " |-- munic_res_regiao: string (nullable = true)\n",
      " |-- munic_mov_regiao: string (nullable = true)\n",
      " |-- munic_res_populacao_residente: string (nullable = true)\n",
      " |-- munic_mov_populacao_residente: string (nullable = true)\n",
      " |-- munic_res_area_unidade_territorial: string (nullable = true)\n",
      " |-- munic_mov_area_unidade_territorial: string (nullable = true)\n",
      " |-- feriado: struct (nullable = true)\n",
      " |    |-- feriado: string (nullable = true)\n",
      " |    |-- distancia_feriado: integer (nullable = true)\n",
      " |    |-- feriado_info: array (nullable = true)\n",
      " |    |    |-- element: struct (containsNull = true)\n",
      " |    |    |    |-- data: string (nullable = true)\n",
      " |    |    |    |-- nome: string (nullable = true)\n",
      " |    |    |    |-- tipo: string (nullable = true)\n",
      " |    |    |    |-- descricao: string (nullable = true)\n",
      " |    |    |    |-- uf: string (nullable = true)\n",
      " |    |    |    |-- municipio: string (nullable = true)\n",
      " |    |    |    |-- cod_municipio: string (nullable = true)\n",
      " |    |-- erro: string (nullable = true)\n",
      "\n"
     ]
    }
   ],
   "source": [
    "ciha_step1 = spark.table(\"stage.ciha_step1\")\n",
    "ciha_step1.printSchema()"
   ]
  },
  {
   "cell_type": "code",
   "execution_count": 5,
   "id": "d02dad31-c768-4dbf-8a02-14ac9058f6af",
   "metadata": {},
   "outputs": [
    {
     "data": {
      "text/html": [
       "<table border='1'>\n",
       "<tr><th>mes_cmpt</th><th>espec</th><th>cgc_hosp</th><th>munic_res</th><th>nasc</th><th>sexo</th><th>uti_mes_to</th><th>uti_int_to</th><th>proc_rea</th><th>qt_proc</th><th>dt_atend</th><th>dt_saida</th><th>diag_princ</th><th>diag_secun</th><th>cobranca</th><th>natureza</th><th>gestao</th><th>munic_mov</th><th>cod_idade</th><th>idade</th><th>dias_perm</th><th>morte</th><th>nacional</th><th>car_int</th><th>homonimo</th><th>cnes</th><th>fonte</th><th>cgc_consor</th><th>modalidade</th><th>input_file_name</th><th>arquivo_sigla_uf</th><th>ano_cmpt</th><th>munic_res_nome_uf</th><th>munic_mov_nome_uf</th><th>munic_res_nome_municipio</th><th>munic_mov_nome_municipio</th><th>munic_res_sigla_uf</th><th>munic_mov_sigla_uf</th><th>munic_res_regiao</th><th>munic_mov_regiao</th><th>munic_res_populacao_residente</th><th>munic_mov_populacao_residente</th><th>munic_res_area_unidade_territorial</th><th>munic_mov_area_unidade_territorial</th><th>feriado</th></tr>\n",
       "<tr><td>03</td><td>null</td><td>61590410000124</td><td>355030</td><td>1948-06-29</td><td>3</td><td>0</td><td>002</td><td>0412040166</td><td>1</td><td>2022-07-27</td><td>2023-03-02</td><td>J90</td><td>J448</td><td>12</td><td>null</td><td>M</td><td>355030</td><td>4</td><td>74</td><td>218</td><td>0</td><td>null</td><td>null</td><td>null</td><td>2079127</td><td>01</td><td>1</td><td>02</td><td>s3a://datalake/so...</td><td>SP</td><td>2023</td><td>São Paulo</td><td>São Paulo</td><td>São Paulo</td><td>São Paulo</td><td>SP</td><td>SP</td><td>Sudeste</td><td>Sudeste</td><td>11253503</td><td>11253503</td><td>1521.101</td><td>1521.101</td><td>{false, 1, [{2022...</td></tr>\n",
       "<tr><td>10</td><td>null</td><td>87547444000804</td><td>430210</td><td>1971-12-17</td><td>3</td><td>0</td><td>00</td><td>0302040013</td><td>1</td><td>2023-10-06</td><td>2023-10-06</td><td>Z501</td><td>null</td><td>18</td><td>null</td><td>M</td><td>430210</td><td>4</td><td>51</td><td>0</td><td>0</td><td>null</td><td>null</td><td>null</td><td>3392406</td><td>01</td><td>00000000000000</td><td>01</td><td>s3a://datalake/so...</td><td>RS</td><td>2023</td><td>Rio Grande do Sul</td><td>Rio Grande do Sul</td><td>Bento Gonçalves</td><td>Bento Gonçalves</td><td>RS</td><td>RS</td><td>Sul</td><td>Sul</td><td>107278</td><td>107278</td><td>381.958</td><td>381.958</td><td>{false, 6, [{2023...</td></tr>\n",
       "<tr><td>02</td><td>null</td><td>00698882000100</td><td>354990</td><td>1979-08-31</td><td>3</td><td>0</td><td>0</td><td>0303170093</td><td>1</td><td>2022-11-10</td><td>2023-02-03</td><td>F29</td><td>null</td><td>12</td><td>null</td><td>M</td><td>354990</td><td>4</td><td>43</td><td>85</td><td>0</td><td>null</td><td>null</td><td>null</td><td>0009636</td><td>05</td><td>5</td><td>02</td><td>s3a://datalake/so...</td><td>SP</td><td>2023</td><td>São Paulo</td><td>São Paulo</td><td>São José dos Campos</td><td>São José dos Campos</td><td>SP</td><td>SP</td><td>Sudeste</td><td>Sudeste</td><td>629921</td><td>629921</td><td>1099.409</td><td>1099.409</td><td>{false, 5, [{2022...</td></tr>\n",
       "<tr><td>10</td><td>null</td><td>87547444000804</td><td>430210</td><td>1954-10-19</td><td>1</td><td>0</td><td>00</td><td>0302050027</td><td>1</td><td>2023-10-06</td><td>2023-10-06</td><td>Z501</td><td>null</td><td>18</td><td>null</td><td>M</td><td>430210</td><td>4</td><td>68</td><td>0</td><td>0</td><td>null</td><td>null</td><td>null</td><td>3392406</td><td>01</td><td>00000000000000</td><td>01</td><td>s3a://datalake/so...</td><td>RS</td><td>2023</td><td>Rio Grande do Sul</td><td>Rio Grande do Sul</td><td>Bento Gonçalves</td><td>Bento Gonçalves</td><td>RS</td><td>RS</td><td>Sul</td><td>Sul</td><td>107278</td><td>107278</td><td>381.958</td><td>381.958</td><td>{false, 6, [{2023...</td></tr>\n",
       "<tr><td>01</td><td>null</td><td>54012406000385</td><td>350330</td><td>1937-01-17</td><td>1</td><td>0</td><td>012</td><td>0301060010</td><td>1</td><td>2022-11-24</td><td>2023-01-07</td><td>I678</td><td>null</td><td>41</td><td>null</td><td>M</td><td>350330</td><td>4</td><td>85</td><td>44</td><td>1</td><td>null</td><td>null</td><td>null</td><td>2081040</td><td>01</td><td>00000000000000</td><td>02</td><td>s3a://datalake/so...</td><td>SP</td><td>2023</td><td>São Paulo</td><td>São Paulo</td><td>Araras</td><td>Araras</td><td>SP</td><td>SP</td><td>Sudeste</td><td>Sudeste</td><td>118843</td><td>118843</td><td>644.831</td><td>644.831</td><td>{false, 4, [{2022...</td></tr>\n",
       "<tr><td>10</td><td>null</td><td>87547444000804</td><td>430210</td><td>1952-03-03</td><td>1</td><td>0</td><td>00</td><td>0302040013</td><td>1</td><td>2023-10-06</td><td>2023-10-06</td><td>Z501</td><td>null</td><td>18</td><td>null</td><td>M</td><td>430210</td><td>4</td><td>71</td><td>0</td><td>0</td><td>null</td><td>null</td><td>null</td><td>3392406</td><td>01</td><td>00000000000000</td><td>01</td><td>s3a://datalake/so...</td><td>RS</td><td>2023</td><td>Rio Grande do Sul</td><td>Rio Grande do Sul</td><td>Bento Gonçalves</td><td>Bento Gonçalves</td><td>RS</td><td>RS</td><td>Sul</td><td>Sul</td><td>107278</td><td>107278</td><td>381.958</td><td>381.958</td><td>{false, 6, [{2023...</td></tr>\n",
       "<tr><td>02</td><td>null</td><td>00006037000470</td><td>355400</td><td>1946-07-23</td><td>1</td><td>0</td><td>041</td><td>0301060002</td><td>1</td><td>2022-12-06</td><td>2023-02-13</td><td>R418</td><td>null</td><td>12</td><td>null</td><td>M</td><td>355400</td><td>4</td><td>76</td><td>69</td><td>0</td><td>null</td><td>null</td><td>null</td><td>7368704</td><td>01</td><td>1</td><td>02</td><td>s3a://datalake/so...</td><td>SP</td><td>2023</td><td>São Paulo</td><td>São Paulo</td><td>Tatuí</td><td>Tatuí</td><td>SP</td><td>SP</td><td>Sudeste</td><td>Sudeste</td><td>107326</td><td>107326</td><td>523.475</td><td>523.475</td><td>{false, 2, [{2022...</td></tr>\n",
       "<tr><td>10</td><td>null</td><td>87547444000804</td><td>430210</td><td>1957-04-06</td><td>3</td><td>0</td><td>00</td><td>0302040013</td><td>1</td><td>2023-10-06</td><td>2023-10-06</td><td>Z501</td><td>null</td><td>18</td><td>null</td><td>M</td><td>430210</td><td>4</td><td>66</td><td>0</td><td>0</td><td>null</td><td>null</td><td>null</td><td>3392406</td><td>01</td><td>00000000000000</td><td>01</td><td>s3a://datalake/so...</td><td>RS</td><td>2023</td><td>Rio Grande do Sul</td><td>Rio Grande do Sul</td><td>Bento Gonçalves</td><td>Bento Gonçalves</td><td>RS</td><td>RS</td><td>Sul</td><td>Sul</td><td>107278</td><td>107278</td><td>381.958</td><td>381.958</td><td>{false, 6, [{2023...</td></tr>\n",
       "<tr><td>01</td><td>null</td><td>60922168005226</td><td>420240</td><td>1970-05-29</td><td>1</td><td>0</td><td>000</td><td>0305020056</td><td>1</td><td>2022-12-14</td><td>2023-01-03</td><td>N180</td><td>null</td><td>12</td><td>null</td><td>M</td><td>420240</td><td>4</td><td>52</td><td>20</td><td>0</td><td>null</td><td>null</td><td>null</td><td>2558246</td><td>01</td><td>1</td><td>02</td><td>s3a://datalake/so...</td><td>SC</td><td>2023</td><td>Santa Catarina</td><td>Santa Catarina</td><td>Blumenau</td><td>Blumenau</td><td>SC</td><td>SC</td><td>Sul</td><td>Sul</td><td>309011</td><td>309011</td><td>518.497</td><td>518.497</td><td>{false, 6, [{2022...</td></tr>\n",
       "<tr><td>10</td><td>null</td><td>87547444000804</td><td>430210</td><td>2015-07-16</td><td>1</td><td>0</td><td>00</td><td>0302050027</td><td>1</td><td>2023-10-06</td><td>2023-10-06</td><td>Z501</td><td>null</td><td>18</td><td>null</td><td>M</td><td>430210</td><td>4</td><td>08</td><td>0</td><td>0</td><td>null</td><td>null</td><td>null</td><td>3392406</td><td>01</td><td>00000000000000</td><td>01</td><td>s3a://datalake/so...</td><td>RS</td><td>2023</td><td>Rio Grande do Sul</td><td>Rio Grande do Sul</td><td>Bento Gonçalves</td><td>Bento Gonçalves</td><td>RS</td><td>RS</td><td>Sul</td><td>Sul</td><td>107278</td><td>107278</td><td>381.958</td><td>381.958</td><td>{false, 6, [{2023...</td></tr>\n",
       "<tr><td>01</td><td>null</td><td>17214743000167</td><td>313760</td><td>1967-12-30</td><td>3</td><td>0</td><td>003</td><td>0403030145</td><td>1</td><td>2022-12-15</td><td>2023-01-02</td><td>D43</td><td>null</td><td>12</td><td>null</td><td>M</td><td>310620</td><td>4</td><td>54</td><td>18</td><td>0</td><td>null</td><td>null</td><td>null</td><td>0026808</td><td>06</td><td>00000000000000</td><td>02</td><td>s3a://datalake/so...</td><td>MG</td><td>2023</td><td>Minas Gerais</td><td>Minas Gerais</td><td>Lagoa Santa</td><td>Belo Horizonte</td><td>MG</td><td>MG</td><td>Sudeste</td><td>Sudeste</td><td>52520</td><td>2375151</td><td>229.267</td><td>331.401</td><td>{false, 2, [{2022...</td></tr>\n",
       "<tr><td>10</td><td>null</td><td>87547444000804</td><td>430210</td><td>1952-08-14</td><td>1</td><td>0</td><td>00</td><td>0302040013</td><td>1</td><td>2023-10-06</td><td>2023-10-06</td><td>Z501</td><td>null</td><td>18</td><td>null</td><td>M</td><td>430210</td><td>4</td><td>71</td><td>0</td><td>0</td><td>null</td><td>null</td><td>null</td><td>3392406</td><td>01</td><td>00000000000000</td><td>01</td><td>s3a://datalake/so...</td><td>RS</td><td>2023</td><td>Rio Grande do Sul</td><td>Rio Grande do Sul</td><td>Bento Gonçalves</td><td>Bento Gonçalves</td><td>RS</td><td>RS</td><td>Sul</td><td>Sul</td><td>107278</td><td>107278</td><td>381.958</td><td>381.958</td><td>{false, 6, [{2023...</td></tr>\n",
       "<tr><td>01</td><td>null</td><td>52739950000136</td><td>353070</td><td>1944-04-10</td><td>3</td><td>0</td><td>000</td><td>0403010039</td><td>1</td><td>2022-12-16</td><td>2023-01-25</td><td>S068</td><td>W199</td><td>42</td><td>null</td><td>M</td><td>353070</td><td>4</td><td>78</td><td>40</td><td>1</td><td>null</td><td>null</td><td>null</td><td>2096463</td><td>01</td><td>1</td><td>02</td><td>s3a://datalake/so...</td><td>SP</td><td>2023</td><td>São Paulo</td><td>São Paulo</td><td>Mogi Guaçu</td><td>Mogi Guaçu</td><td>SP</td><td>SP</td><td>Sudeste</td><td>Sudeste</td><td>137245</td><td>137245</td><td>812.163</td><td>812.163</td><td>{false, 8, [{2022...</td></tr>\n",
       "<tr><td>10</td><td>null</td><td>87547444000804</td><td>430210</td><td>1981-08-25</td><td>3</td><td>0</td><td>00</td><td>0302050027</td><td>1</td><td>2023-10-06</td><td>2023-10-06</td><td>Z501</td><td>null</td><td>18</td><td>null</td><td>M</td><td>430210</td><td>4</td><td>42</td><td>0</td><td>0</td><td>null</td><td>null</td><td>null</td><td>3392406</td><td>01</td><td>00000000000000</td><td>01</td><td>s3a://datalake/so...</td><td>RS</td><td>2023</td><td>Rio Grande do Sul</td><td>Rio Grande do Sul</td><td>Bento Gonçalves</td><td>Bento Gonçalves</td><td>RS</td><td>RS</td><td>Sul</td><td>Sul</td><td>107278</td><td>107278</td><td>381.958</td><td>381.958</td><td>{false, 6, [{2023...</td></tr>\n",
       "<tr><td>01</td><td>null</td><td>60922168000429</td><td>330390</td><td>1956-07-14</td><td>3</td><td>0</td><td>000</td><td>0303060298</td><td>1</td><td>2022-12-19</td><td>2023-01-07</td><td>N179</td><td>null</td><td>12</td><td>null</td><td>M</td><td>330390</td><td>4</td><td>66</td><td>19</td><td>0</td><td>null</td><td>null</td><td>null</td><td>2275635</td><td>01</td><td>1</td><td>02</td><td>s3a://datalake/so...</td><td>RJ</td><td>2023</td><td>Rio de Janeiro</td><td>Rio de Janeiro</td><td>Petrópolis</td><td>Petrópolis</td><td>RJ</td><td>RJ</td><td>Sudeste</td><td>Sudeste</td><td>295917</td><td>295917</td><td>795.798</td><td>795.798</td><td>{false, 6, [{2022...</td></tr>\n",
       "<tr><td>10</td><td>null</td><td>87547444000804</td><td>430210</td><td>1956-10-07</td><td>1</td><td>0</td><td>00</td><td>0302050027</td><td>1</td><td>2023-10-06</td><td>2023-10-06</td><td>Z501</td><td>null</td><td>18</td><td>null</td><td>M</td><td>430210</td><td>4</td><td>66</td><td>0</td><td>0</td><td>null</td><td>null</td><td>null</td><td>3392406</td><td>01</td><td>00000000000000</td><td>01</td><td>s3a://datalake/so...</td><td>RS</td><td>2023</td><td>Rio Grande do Sul</td><td>Rio Grande do Sul</td><td>Bento Gonçalves</td><td>Bento Gonçalves</td><td>RS</td><td>RS</td><td>Sul</td><td>Sul</td><td>107278</td><td>107278</td><td>381.958</td><td>381.958</td><td>{false, 6, [{2023...</td></tr>\n",
       "<tr><td>01</td><td>null</td><td>60922168000429</td><td>330390</td><td>2022-12-19</td><td>1</td><td>0</td><td>015</td><td>0303140151</td><td>1</td><td>2022-12-19</td><td>2023-01-03</td><td>P221</td><td>null</td><td>12</td><td>null</td><td>M</td><td>330390</td><td>2</td><td>00</td><td>15</td><td>0</td><td>null</td><td>null</td><td>null</td><td>2275635</td><td>01</td><td>1</td><td>02</td><td>s3a://datalake/so...</td><td>RJ</td><td>2023</td><td>Rio de Janeiro</td><td>Rio de Janeiro</td><td>Petrópolis</td><td>Petrópolis</td><td>RJ</td><td>RJ</td><td>Sudeste</td><td>Sudeste</td><td>295917</td><td>295917</td><td>795.798</td><td>795.798</td><td>{false, 6, [{2022...</td></tr>\n",
       "<tr><td>10</td><td>null</td><td>87547444000804</td><td>430210</td><td>2011-01-19</td><td>3</td><td>0</td><td>00</td><td>0302040013</td><td>1</td><td>2023-10-06</td><td>2023-10-06</td><td>Z501</td><td>null</td><td>18</td><td>null</td><td>M</td><td>430210</td><td>4</td><td>12</td><td>0</td><td>0</td><td>null</td><td>null</td><td>null</td><td>3392406</td><td>01</td><td>00000000000000</td><td>01</td><td>s3a://datalake/so...</td><td>RS</td><td>2023</td><td>Rio Grande do Sul</td><td>Rio Grande do Sul</td><td>Bento Gonçalves</td><td>Bento Gonçalves</td><td>RS</td><td>RS</td><td>Sul</td><td>Sul</td><td>107278</td><td>107278</td><td>381.958</td><td>381.958</td><td>{false, 6, [{2023...</td></tr>\n",
       "<tr><td>01</td><td>null</td><td>87547444001444</td><td>430480</td><td>1997-10-04</td><td>3</td><td>0</td><td>000</td><td>0303040025</td><td>1</td><td>2022-12-23</td><td>2023-01-23</td><td>F206</td><td>null</td><td>12</td><td>null</td><td>M</td><td>430480</td><td>4</td><td>25</td><td>31</td><td>0</td><td>null</td><td>null</td><td>null</td><td>2241137</td><td>06</td><td>6</td><td>02</td><td>s3a://datalake/so...</td><td>RS</td><td>2023</td><td>Rio Grande do Sul</td><td>Rio Grande do Sul</td><td>Carlos Barbosa</td><td>Carlos Barbosa</td><td>RS</td><td>RS</td><td>Sul</td><td>Sul</td><td>25192</td><td>25192</td><td>228.669</td><td>228.669</td><td>{false, 2, [{2022...</td></tr>\n",
       "<tr><td>10</td><td>null</td><td>87547444000804</td><td>430210</td><td>2023-03-14</td><td>1</td><td>0</td><td>00</td><td>0302040021</td><td>1</td><td>2023-10-06</td><td>2023-10-06</td><td>Z501</td><td>null</td><td>18</td><td>null</td><td>M</td><td>430210</td><td>3</td><td>00</td><td>0</td><td>0</td><td>null</td><td>null</td><td>null</td><td>3392406</td><td>01</td><td>00000000000000</td><td>01</td><td>s3a://datalake/so...</td><td>RS</td><td>2023</td><td>Rio Grande do Sul</td><td>Rio Grande do Sul</td><td>Bento Gonçalves</td><td>Bento Gonçalves</td><td>RS</td><td>RS</td><td>Sul</td><td>Sul</td><td>107278</td><td>107278</td><td>381.958</td><td>381.958</td><td>{false, 6, [{2023...</td></tr>\n",
       "</table>\n",
       "only showing top 20 rows\n"
      ],
      "text/plain": [
       "+--------+-----+--------------+---------+----------+----+----------+----------+----------+-------+----------+----------+----------+----------+--------+--------+------+---------+---------+-----+---------+-----+--------+-------+--------+-------+-----+--------------+----------+--------------------+----------------+--------+-----------------+-----------------+------------------------+------------------------+------------------+------------------+----------------+----------------+-----------------------------+-----------------------------+----------------------------------+----------------------------------+--------------------+\n",
       "|mes_cmpt|espec|      cgc_hosp|munic_res|      nasc|sexo|uti_mes_to|uti_int_to|  proc_rea|qt_proc|  dt_atend|  dt_saida|diag_princ|diag_secun|cobranca|natureza|gestao|munic_mov|cod_idade|idade|dias_perm|morte|nacional|car_int|homonimo|   cnes|fonte|    cgc_consor|modalidade|     input_file_name|arquivo_sigla_uf|ano_cmpt|munic_res_nome_uf|munic_mov_nome_uf|munic_res_nome_municipio|munic_mov_nome_municipio|munic_res_sigla_uf|munic_mov_sigla_uf|munic_res_regiao|munic_mov_regiao|munic_res_populacao_residente|munic_mov_populacao_residente|munic_res_area_unidade_territorial|munic_mov_area_unidade_territorial|             feriado|\n",
       "+--------+-----+--------------+---------+----------+----+----------+----------+----------+-------+----------+----------+----------+----------+--------+--------+------+---------+---------+-----+---------+-----+--------+-------+--------+-------+-----+--------------+----------+--------------------+----------------+--------+-----------------+-----------------+------------------------+------------------------+------------------+------------------+----------------+----------------+-----------------------------+-----------------------------+----------------------------------+----------------------------------+--------------------+\n",
       "|      03| null|61590410000124|   355030|1948-06-29|   3|         0|       002|0412040166|      1|2022-07-27|2023-03-02|       J90|      J448|      12|    null|     M|   355030|        4|   74|      218|    0|    null|   null|    null|2079127|   01|             1|        02|s3a://datalake/so...|              SP|    2023|        São Paulo|        São Paulo|               São Paulo|               São Paulo|                SP|                SP|         Sudeste|         Sudeste|                     11253503|                     11253503|                          1521.101|                          1521.101|{false, 1, [{2022...|\n",
       "|      10| null|87547444000804|   430210|1971-12-17|   3|         0|        00|0302040013|      1|2023-10-06|2023-10-06|      Z501|      null|      18|    null|     M|   430210|        4|   51|        0|    0|    null|   null|    null|3392406|   01|00000000000000|        01|s3a://datalake/so...|              RS|    2023|Rio Grande do Sul|Rio Grande do Sul|         Bento Gonçalves|         Bento Gonçalves|                RS|                RS|             Sul|             Sul|                       107278|                       107278|                           381.958|                           381.958|{false, 6, [{2023...|\n",
       "|      02| null|00698882000100|   354990|1979-08-31|   3|         0|         0|0303170093|      1|2022-11-10|2023-02-03|       F29|      null|      12|    null|     M|   354990|        4|   43|       85|    0|    null|   null|    null|0009636|   05|             5|        02|s3a://datalake/so...|              SP|    2023|        São Paulo|        São Paulo|     São José dos Campos|     São José dos Campos|                SP|                SP|         Sudeste|         Sudeste|                       629921|                       629921|                          1099.409|                          1099.409|{false, 5, [{2022...|\n",
       "|      10| null|87547444000804|   430210|1954-10-19|   1|         0|        00|0302050027|      1|2023-10-06|2023-10-06|      Z501|      null|      18|    null|     M|   430210|        4|   68|        0|    0|    null|   null|    null|3392406|   01|00000000000000|        01|s3a://datalake/so...|              RS|    2023|Rio Grande do Sul|Rio Grande do Sul|         Bento Gonçalves|         Bento Gonçalves|                RS|                RS|             Sul|             Sul|                       107278|                       107278|                           381.958|                           381.958|{false, 6, [{2023...|\n",
       "|      01| null|54012406000385|   350330|1937-01-17|   1|         0|       012|0301060010|      1|2022-11-24|2023-01-07|      I678|      null|      41|    null|     M|   350330|        4|   85|       44|    1|    null|   null|    null|2081040|   01|00000000000000|        02|s3a://datalake/so...|              SP|    2023|        São Paulo|        São Paulo|                  Araras|                  Araras|                SP|                SP|         Sudeste|         Sudeste|                       118843|                       118843|                           644.831|                           644.831|{false, 4, [{2022...|\n",
       "|      10| null|87547444000804|   430210|1952-03-03|   1|         0|        00|0302040013|      1|2023-10-06|2023-10-06|      Z501|      null|      18|    null|     M|   430210|        4|   71|        0|    0|    null|   null|    null|3392406|   01|00000000000000|        01|s3a://datalake/so...|              RS|    2023|Rio Grande do Sul|Rio Grande do Sul|         Bento Gonçalves|         Bento Gonçalves|                RS|                RS|             Sul|             Sul|                       107278|                       107278|                           381.958|                           381.958|{false, 6, [{2023...|\n",
       "|      02| null|00006037000470|   355400|1946-07-23|   1|         0|       041|0301060002|      1|2022-12-06|2023-02-13|      R418|      null|      12|    null|     M|   355400|        4|   76|       69|    0|    null|   null|    null|7368704|   01|             1|        02|s3a://datalake/so...|              SP|    2023|        São Paulo|        São Paulo|                   Tatuí|                   Tatuí|                SP|                SP|         Sudeste|         Sudeste|                       107326|                       107326|                           523.475|                           523.475|{false, 2, [{2022...|\n",
       "|      10| null|87547444000804|   430210|1957-04-06|   3|         0|        00|0302040013|      1|2023-10-06|2023-10-06|      Z501|      null|      18|    null|     M|   430210|        4|   66|        0|    0|    null|   null|    null|3392406|   01|00000000000000|        01|s3a://datalake/so...|              RS|    2023|Rio Grande do Sul|Rio Grande do Sul|         Bento Gonçalves|         Bento Gonçalves|                RS|                RS|             Sul|             Sul|                       107278|                       107278|                           381.958|                           381.958|{false, 6, [{2023...|\n",
       "|      01| null|60922168005226|   420240|1970-05-29|   1|         0|       000|0305020056|      1|2022-12-14|2023-01-03|      N180|      null|      12|    null|     M|   420240|        4|   52|       20|    0|    null|   null|    null|2558246|   01|             1|        02|s3a://datalake/so...|              SC|    2023|   Santa Catarina|   Santa Catarina|                Blumenau|                Blumenau|                SC|                SC|             Sul|             Sul|                       309011|                       309011|                           518.497|                           518.497|{false, 6, [{2022...|\n",
       "|      10| null|87547444000804|   430210|2015-07-16|   1|         0|        00|0302050027|      1|2023-10-06|2023-10-06|      Z501|      null|      18|    null|     M|   430210|        4|   08|        0|    0|    null|   null|    null|3392406|   01|00000000000000|        01|s3a://datalake/so...|              RS|    2023|Rio Grande do Sul|Rio Grande do Sul|         Bento Gonçalves|         Bento Gonçalves|                RS|                RS|             Sul|             Sul|                       107278|                       107278|                           381.958|                           381.958|{false, 6, [{2023...|\n",
       "|      01| null|17214743000167|   313760|1967-12-30|   3|         0|       003|0403030145|      1|2022-12-15|2023-01-02|       D43|      null|      12|    null|     M|   310620|        4|   54|       18|    0|    null|   null|    null|0026808|   06|00000000000000|        02|s3a://datalake/so...|              MG|    2023|     Minas Gerais|     Minas Gerais|             Lagoa Santa|          Belo Horizonte|                MG|                MG|         Sudeste|         Sudeste|                        52520|                      2375151|                           229.267|                           331.401|{false, 2, [{2022...|\n",
       "|      10| null|87547444000804|   430210|1952-08-14|   1|         0|        00|0302040013|      1|2023-10-06|2023-10-06|      Z501|      null|      18|    null|     M|   430210|        4|   71|        0|    0|    null|   null|    null|3392406|   01|00000000000000|        01|s3a://datalake/so...|              RS|    2023|Rio Grande do Sul|Rio Grande do Sul|         Bento Gonçalves|         Bento Gonçalves|                RS|                RS|             Sul|             Sul|                       107278|                       107278|                           381.958|                           381.958|{false, 6, [{2023...|\n",
       "|      01| null|52739950000136|   353070|1944-04-10|   3|         0|       000|0403010039|      1|2022-12-16|2023-01-25|      S068|      W199|      42|    null|     M|   353070|        4|   78|       40|    1|    null|   null|    null|2096463|   01|             1|        02|s3a://datalake/so...|              SP|    2023|        São Paulo|        São Paulo|              Mogi Guaçu|              Mogi Guaçu|                SP|                SP|         Sudeste|         Sudeste|                       137245|                       137245|                           812.163|                           812.163|{false, 8, [{2022...|\n",
       "|      10| null|87547444000804|   430210|1981-08-25|   3|         0|        00|0302050027|      1|2023-10-06|2023-10-06|      Z501|      null|      18|    null|     M|   430210|        4|   42|        0|    0|    null|   null|    null|3392406|   01|00000000000000|        01|s3a://datalake/so...|              RS|    2023|Rio Grande do Sul|Rio Grande do Sul|         Bento Gonçalves|         Bento Gonçalves|                RS|                RS|             Sul|             Sul|                       107278|                       107278|                           381.958|                           381.958|{false, 6, [{2023...|\n",
       "|      01| null|60922168000429|   330390|1956-07-14|   3|         0|       000|0303060298|      1|2022-12-19|2023-01-07|      N179|      null|      12|    null|     M|   330390|        4|   66|       19|    0|    null|   null|    null|2275635|   01|             1|        02|s3a://datalake/so...|              RJ|    2023|   Rio de Janeiro|   Rio de Janeiro|              Petrópolis|              Petrópolis|                RJ|                RJ|         Sudeste|         Sudeste|                       295917|                       295917|                           795.798|                           795.798|{false, 6, [{2022...|\n",
       "|      10| null|87547444000804|   430210|1956-10-07|   1|         0|        00|0302050027|      1|2023-10-06|2023-10-06|      Z501|      null|      18|    null|     M|   430210|        4|   66|        0|    0|    null|   null|    null|3392406|   01|00000000000000|        01|s3a://datalake/so...|              RS|    2023|Rio Grande do Sul|Rio Grande do Sul|         Bento Gonçalves|         Bento Gonçalves|                RS|                RS|             Sul|             Sul|                       107278|                       107278|                           381.958|                           381.958|{false, 6, [{2023...|\n",
       "|      01| null|60922168000429|   330390|2022-12-19|   1|         0|       015|0303140151|      1|2022-12-19|2023-01-03|      P221|      null|      12|    null|     M|   330390|        2|   00|       15|    0|    null|   null|    null|2275635|   01|             1|        02|s3a://datalake/so...|              RJ|    2023|   Rio de Janeiro|   Rio de Janeiro|              Petrópolis|              Petrópolis|                RJ|                RJ|         Sudeste|         Sudeste|                       295917|                       295917|                           795.798|                           795.798|{false, 6, [{2022...|\n",
       "|      10| null|87547444000804|   430210|2011-01-19|   3|         0|        00|0302040013|      1|2023-10-06|2023-10-06|      Z501|      null|      18|    null|     M|   430210|        4|   12|        0|    0|    null|   null|    null|3392406|   01|00000000000000|        01|s3a://datalake/so...|              RS|    2023|Rio Grande do Sul|Rio Grande do Sul|         Bento Gonçalves|         Bento Gonçalves|                RS|                RS|             Sul|             Sul|                       107278|                       107278|                           381.958|                           381.958|{false, 6, [{2023...|\n",
       "|      01| null|87547444001444|   430480|1997-10-04|   3|         0|       000|0303040025|      1|2022-12-23|2023-01-23|      F206|      null|      12|    null|     M|   430480|        4|   25|       31|    0|    null|   null|    null|2241137|   06|             6|        02|s3a://datalake/so...|              RS|    2023|Rio Grande do Sul|Rio Grande do Sul|          Carlos Barbosa|          Carlos Barbosa|                RS|                RS|             Sul|             Sul|                        25192|                        25192|                           228.669|                           228.669|{false, 2, [{2022...|\n",
       "|      10| null|87547444000804|   430210|2023-03-14|   1|         0|        00|0302040021|      1|2023-10-06|2023-10-06|      Z501|      null|      18|    null|     M|   430210|        3|   00|        0|    0|    null|   null|    null|3392406|   01|00000000000000|        01|s3a://datalake/so...|              RS|    2023|Rio Grande do Sul|Rio Grande do Sul|         Bento Gonçalves|         Bento Gonçalves|                RS|                RS|             Sul|             Sul|                       107278|                       107278|                           381.958|                           381.958|{false, 6, [{2023...|\n",
       "+--------+-----+--------------+---------+----------+----+----------+----------+----------+-------+----------+----------+----------+----------+--------+--------+------+---------+---------+-----+---------+-----+--------+-------+--------+-------+-----+--------------+----------+--------------------+----------------+--------+-----------------+-----------------+------------------------+------------------------+------------------+------------------+----------------+----------------+-----------------------------+-----------------------------+----------------------------------+----------------------------------+--------------------+\n",
       "only showing top 20 rows"
      ]
     },
     "execution_count": 5,
     "metadata": {},
     "output_type": "execute_result"
    }
   ],
   "source": [
    "ciha_step1"
   ]
  },
  {
   "cell_type": "code",
   "execution_count": 6,
   "id": "882c57da-3ba8-40d7-9d9b-f7b816994a7d",
   "metadata": {},
   "outputs": [
    {
     "name": "stdout",
     "output_type": "stream",
     "text": [
      "+-------------+---------------------------+----------------+-----------+--------------------------------------------------------------------------------------------+-------------------------------------------------+------------------------+-----------------------+---------+-----------------------+------------------------------------------------------------------------------------------------+--------------------------------------------------+--------------------+---------------+------------------------------------------------------------+--------------------------------------------------+\n",
      "|sub_categoria|sub_categoria_classificacao|restringido_sexo|causa_obito|sub_categoria_descricao                                                                     |sub_categoria_descricao_abreviada                |sub_categoria_referencia|sub_categoria_excluidos|categoria|categoria_classificacao|categoria_descricao                                                                             |categoria_descricao_abreviada                     |categoria_referencia|capitulo_numero|capitulo_descricao                                          |capitulo_descricao_abreviada                      |\n",
      "+-------------+---------------------------+----------------+-----------+--------------------------------------------------------------------------------------------+-------------------------------------------------+------------------------+-----------------------+---------+-----------------------+------------------------------------------------------------------------------------------------+--------------------------------------------------+--------------------+---------------+------------------------------------------------------------+--------------------------------------------------+\n",
      "|A288         |null                       |null            |null       |Outras doenças bacterianas zoonóticas especificadas não classificadas em outra parte        |A28.8 Outr doenc bacter zoonoticas espec NCOP    |null                    |null                   |A28      |null                   |Outras doenças bacterianas zoonóticas não classificadas em outra parte                          |A28   Outr doenc bacter zoonoticas NCOP           |null                |1              |Capítulo I - Algumas doenças infecciosas e parasitárias     |I.   Algumas doenças infecciosas e parasitárias   |\n",
      "|A982         |null                       |null            |null       |Doença da floresta de Kyasanur                                                              |A98.2 Doenc da floresta de Kyasanur              |null                    |null                   |A98      |null                   |Outras febres hemorrágicas por vírus, não classificadas em outra parte                          |A98   Outr febres hemorragicas p/virus NCOP       |null                |1              |Capítulo I - Algumas doenças infecciosas e parasitárias     |I.   Algumas doenças infecciosas e parasitárias   |\n",
      "|B022         |+                          |null            |null       |Herpes zoster acompanhado de outras manifestações neurológicas                              |B02.2 Herpes zoster acomp outr manif neurologicas|null                    |null                   |B02      |null                   |Herpes zoster [Zona]                                                                            |B02   Herpes zoster                               |null                |1              |Capítulo I - Algumas doenças infecciosas e parasitárias     |I.   Algumas doenças infecciosas e parasitárias   |\n",
      "|B400         |null                       |null            |null       |Blastomicose pulmonar aguda                                                                 |B40.0 Blastomicose pulmonar aguda                |null                    |null                   |B40      |null                   |Blastomicose                                                                                    |B40   Blastomicose                                |null                |1              |Capítulo I - Algumas doenças infecciosas e parasitárias     |I.   Algumas doenças infecciosas e parasitárias   |\n",
      "|C154         |null                       |null            |null       |Neoplasia maligna do terço médio do esôfago                                                 |C15.4 Terco medio do esofago                     |null                    |null                   |C15      |null                   |Neoplasia maligna do esôfago                                                                    |C15   Neopl malig do esofago                      |null                |2              |Capítulo II - Neoplasias [tumores]                          |II.  Neoplasias (tumores)                         |\n",
      "|C185         |null                       |null            |null       |Neoplasia maligna da flexura (ângulo) esplênica(o)                                          |C18.5 Flexura esplenica                          |null                    |null                   |C18      |null                   |Neoplasia maligna do cólon                                                                      |C18   Neopl malig do colon                        |null                |2              |Capítulo II - Neoplasias [tumores]                          |II.  Neoplasias (tumores)                         |\n",
      "|C480         |null                       |null            |null       |Neoplasia maligna do retroperitônio                                                         |C48.0 Retroperitonio                             |null                    |null                   |C48      |null                   |Neoplasia maligna dos tecidos moles do retroperitônio e do peritônio                            |C48   Neopl malig tec moles retro- e peritonio    |null                |2              |Capítulo II - Neoplasias [tumores]                          |II.  Neoplasias (tumores)                         |\n",
      "|C778         |null                       |null            |null       |Neoplasia maligna secundária e não especificada dos gânglios linfáticos de múltiplas regiões|C77.8 Ganglios linfaticos de mult regioes        |null                    |null                   |C77      |null                   |Neoplasia maligna secundária e não especificada dos gânglios linfáticos                         |C77   Neopl malig secund e NE gangl linfaticos    |null                |2              |Capítulo II - Neoplasias [tumores]                          |II.  Neoplasias (tumores)                         |\n",
      "|D091         |null                       |null            |null       |Carcinoma in situ de outros órgãos urinários e os não especificados                         |D09.1 Outr orgaos urinarios e os NE              |null                    |null                   |D09      |null                   |Carcinoma in situ de outras localizações e das não especificadas                                |D09   Carcinoma in situ de outr localiz e das NE  |null                |2              |Capítulo II - Neoplasias [tumores]                          |II.  Neoplasias (tumores)                         |\n",
      "|D093         |null                       |null            |null       |Carcinoma in situ da tireóide e de outras glândulas endócrinas                              |D09.3 Tireoide e de outr gland endocrinas        |null                    |null                   |D09      |null                   |Carcinoma in situ de outras localizações e das não especificadas                                |D09   Carcinoma in situ de outr localiz e das NE  |null                |2              |Capítulo II - Neoplasias [tumores]                          |II.  Neoplasias (tumores)                         |\n",
      "|D237         |null                       |null            |null       |Neoplasia benigna da pele dos membros inferiores, incluindo o quadril                       |D23.7 Pele dos membros infer incl o quadril      |null                    |null                   |D23      |null                   |Outras neoplasias benignas da pele                                                              |D23   Outr neopl benig da pele                    |null                |2              |Capítulo II - Neoplasias [tumores]                          |II.  Neoplasias (tumores)                         |\n",
      "|D251         |null                       |F               |null       |Leiomioma intramural do útero                                                               |D25.1 Leiomioma intramural do utero              |null                    |null                   |D25      |null                   |Leiomioma do útero                                                                              |D25   Leiomioma do utero                          |null                |2              |Capítulo II - Neoplasias [tumores]                          |II.  Neoplasias (tumores)                         |\n",
      "|E002         |null                       |null            |null       |Síndrome da deficiência congênita de iodo do tipo misto                                     |E00.2 Sindr defic congen iodo tipo misto         |null                    |null                   |E00      |null                   |Síndrome de deficiência congênita de iodo                                                       |E00   Sindr de defic congen de iodo               |null                |4              |Capítulo IV - Doenças endócrinas, nutricionais e metabólicas|IV.  Doenças endócrinas nutricionais e metabólicas|\n",
      "|E763         |null                       |null            |null       |Mucopolissacaridose não especificada                                                        |E76.3 Mucopolissacaridose NE                     |null                    |null                   |E76      |null                   |Distúrbios do metabolismo do glicosaminoglicano                                                 |E76   Disturbios metabolismo do glicosaminoglicano|null                |4              |Capítulo IV - Doenças endócrinas, nutricionais e metabólicas|IV.  Doenças endócrinas nutricionais e metabólicas|\n",
      "|E791         |null                       |null            |null       |Síndrome de Lesch-Nyhan                                                                     |E79.1 Sindr de Lesch-Nyhan                       |null                    |null                   |E79      |null                   |Distúrbios do metabolismo de purina e pirimidina                                                |E79   Disturbios metabolismo purina e pirimidina  |null                |4              |Capítulo IV - Doenças endócrinas, nutricionais e metabólicas|IV.  Doenças endócrinas nutricionais e metabólicas|\n",
      "|F072         |null                       |null            |null       |Síndrome pós-traumática                                                                     |F07.2 Sindr pos-traum                            |null                    |null                   |F07      |null                   |Transtornos de personalidade e do comportamento devidos a doença, a lesão e a disfunção cerebral|F07   Transt pers comport dev doen lesao disf cer |null                |5              |Capítulo V - Transtornos mentais e comportamentais          |V.   Transtornos mentais e comportamentais        |\n",
      "|F413         |null                       |null            |null       |Outros transtornos ansiosos mistos                                                          |F41.3 Outr transt ansiosos mistos                |null                    |null                   |F41      |null                   |Outros transtornos ansiosos                                                                     |F41   Outr transt ansiosos                        |null                |5              |Capítulo V - Transtornos mentais e comportamentais          |V.   Transtornos mentais e comportamentais        |\n",
      "|F419         |null                       |null            |null       |Transtorno ansioso não especificado                                                         |F41.9 Transt ansioso NE                          |null                    |null                   |F41      |null                   |Outros transtornos ansiosos                                                                     |F41   Outr transt ansiosos                        |null                |5              |Capítulo V - Transtornos mentais e comportamentais          |V.   Transtornos mentais e comportamentais        |\n",
      "|H268         |null                       |null            |N          |Outras cataratas especificadas                                                              |H26.8 Outr cataratas espec                       |null                    |null                   |H26      |null                   |Outras cataratas                                                                                |H26   Outr cataratas                              |null                |7              |Capítulo VII - Doenças do olho e anexos                     |VII. Doenças do olho e anexos                     |\n",
      "|K050         |null                       |null            |N          |Gengivite aguda                                                                             |K05.0 Gengivite aguda                            |null                    |null                   |K05      |null                   |Gengivite e doenças periodontais                                                                |K05   Gengivite e doenc periodontais              |null                |11             |Capítulo XI - Doenças do aparelho digestivo                 |XI.  Doenças do aparelho digestivo                |\n",
      "+-------------+---------------------------+----------------+-----------+--------------------------------------------------------------------------------------------+-------------------------------------------------+------------------------+-----------------------+---------+-----------------------+------------------------------------------------------------------------------------------------+--------------------------------------------------+--------------------+---------------+------------------------------------------------------------+--------------------------------------------------+\n",
      "only showing top 20 rows\n",
      "\n"
     ]
    }
   ],
   "source": [
    "cid10 = spark.table(\"stage.cid10_joined\")\n",
    "cid10.show(truncate=False)"
   ]
  },
  {
   "cell_type": "code",
   "execution_count": 7,
   "id": "a8fa4f39-ca49-4911-9b8a-d169fc53afc0",
   "metadata": {},
   "outputs": [
    {
     "data": {
      "text/plain": [
       "['mes_cmpt',\n",
       " 'espec',\n",
       " 'cgc_hosp',\n",
       " 'munic_res',\n",
       " 'nasc',\n",
       " 'sexo',\n",
       " 'uti_mes_to',\n",
       " 'uti_int_to',\n",
       " 'proc_rea',\n",
       " 'qt_proc',\n",
       " 'dt_atend',\n",
       " 'dt_saida',\n",
       " 'diag_princ',\n",
       " 'diag_secun',\n",
       " 'cobranca',\n",
       " 'natureza',\n",
       " 'gestao',\n",
       " 'munic_mov',\n",
       " 'cod_idade',\n",
       " 'idade',\n",
       " 'dias_perm',\n",
       " 'morte',\n",
       " 'nacional',\n",
       " 'car_int',\n",
       " 'homonimo',\n",
       " 'cnes',\n",
       " 'fonte',\n",
       " 'cgc_consor',\n",
       " 'modalidade',\n",
       " 'input_file_name',\n",
       " 'arquivo_sigla_uf',\n",
       " 'ano_cmpt',\n",
       " 'munic_res_nome_uf',\n",
       " 'munic_mov_nome_uf',\n",
       " 'munic_res_nome_municipio',\n",
       " 'munic_mov_nome_municipio',\n",
       " 'munic_res_sigla_uf',\n",
       " 'munic_mov_sigla_uf',\n",
       " 'munic_res_regiao',\n",
       " 'munic_mov_regiao',\n",
       " 'munic_res_populacao_residente',\n",
       " 'munic_mov_populacao_residente',\n",
       " 'munic_res_area_unidade_territorial',\n",
       " 'munic_mov_area_unidade_territorial',\n",
       " 'feriado']"
      ]
     },
     "execution_count": 7,
     "metadata": {},
     "output_type": "execute_result"
    }
   ],
   "source": [
    "ciha_step1.columns"
   ]
  },
  {
   "cell_type": "code",
   "execution_count": 8,
   "id": "150167b3-8ae6-4f88-badd-aeb62aece302",
   "metadata": {},
   "outputs": [
    {
     "name": "stdout",
     "output_type": "stream",
     "text": [
      "root\n",
      " |-- mes_cmpt: string (nullable = true)\n",
      " |-- espec: string (nullable = true)\n",
      " |-- cgc_hosp: string (nullable = true)\n",
      " |-- munic_res: string (nullable = true)\n",
      " |-- nasc: date (nullable = true)\n",
      " |-- sexo: string (nullable = true)\n",
      " |-- uti_mes_to: string (nullable = true)\n",
      " |-- uti_int_to: string (nullable = true)\n",
      " |-- proc_rea: string (nullable = true)\n",
      " |-- qt_proc: string (nullable = true)\n",
      " |-- dt_atend: date (nullable = true)\n",
      " |-- dt_atend_dow: integer (nullable = true)\n",
      " |-- dt_saida: date (nullable = true)\n",
      " |-- diag_princ: string (nullable = true)\n",
      " |-- diag_secun: string (nullable = true)\n",
      " |-- cobranca: string (nullable = true)\n",
      " |-- natureza: string (nullable = true)\n",
      " |-- gestao: string (nullable = true)\n",
      " |-- munic_mov: string (nullable = true)\n",
      " |-- cod_idade: string (nullable = true)\n",
      " |-- idade: string (nullable = true)\n",
      " |-- dias_perm: string (nullable = true)\n",
      " |-- morte: string (nullable = true)\n",
      " |-- nacional: string (nullable = true)\n",
      " |-- car_int: string (nullable = true)\n",
      " |-- homonimo: string (nullable = true)\n",
      " |-- cnes: string (nullable = true)\n",
      " |-- fonte: string (nullable = true)\n",
      " |-- cgc_consor: string (nullable = true)\n",
      " |-- modalidade: string (nullable = true)\n",
      " |-- input_file_name: string (nullable = true)\n",
      " |-- arquivo_sigla_uf: string (nullable = true)\n",
      " |-- ano_cmpt: integer (nullable = true)\n",
      " |-- munic_res_nome_uf: string (nullable = true)\n",
      " |-- munic_mov_nome_uf: string (nullable = true)\n",
      " |-- munic_res_nome_municipio: string (nullable = true)\n",
      " |-- munic_mov_nome_municipio: string (nullable = true)\n",
      " |-- munic_res_sigla_uf: string (nullable = true)\n",
      " |-- munic_mov_sigla_uf: string (nullable = true)\n",
      " |-- munic_res_regiao: string (nullable = true)\n",
      " |-- munic_mov_regiao: string (nullable = true)\n",
      " |-- munic_res_populacao_residente: string (nullable = true)\n",
      " |-- munic_mov_populacao_residente: string (nullable = true)\n",
      " |-- munic_res_area_unidade_territorial: string (nullable = true)\n",
      " |-- munic_mov_area_unidade_territorial: string (nullable = true)\n",
      " |-- feriado: struct (nullable = true)\n",
      " |    |-- feriado: string (nullable = true)\n",
      " |    |-- distancia_feriado: integer (nullable = true)\n",
      " |    |-- feriado_info: array (nullable = true)\n",
      " |    |    |-- element: struct (containsNull = true)\n",
      " |    |    |    |-- data: string (nullable = true)\n",
      " |    |    |    |-- nome: string (nullable = true)\n",
      " |    |    |    |-- tipo: string (nullable = true)\n",
      " |    |    |    |-- descricao: string (nullable = true)\n",
      " |    |    |    |-- uf: string (nullable = true)\n",
      " |    |    |    |-- municipio: string (nullable = true)\n",
      " |    |    |    |-- cod_municipio: string (nullable = true)\n",
      " |    |-- erro: string (nullable = true)\n",
      " |-- diag_princ_cid10: struct (nullable = false)\n",
      " |    |-- sub_categoria: string (nullable = true)\n",
      " |    |-- sub_categoria_classificacao: string (nullable = true)\n",
      " |    |-- restringido_sexo: string (nullable = true)\n",
      " |    |-- causa_obito: string (nullable = true)\n",
      " |    |-- sub_categoria_descricao: string (nullable = true)\n",
      " |    |-- sub_categoria_descricao_abreviada: string (nullable = true)\n",
      " |    |-- sub_categoria_referencia: string (nullable = true)\n",
      " |    |-- sub_categoria_excluidos: string (nullable = true)\n",
      " |    |-- categoria: string (nullable = true)\n",
      " |    |-- categoria_classificacao: string (nullable = true)\n",
      " |    |-- categoria_descricao: string (nullable = true)\n",
      " |    |-- categoria_descricao_abreviada: string (nullable = true)\n",
      " |    |-- categoria_referencia: string (nullable = true)\n",
      " |    |-- capitulo_numero: string (nullable = true)\n",
      " |    |-- capitulo_descricao: string (nullable = true)\n",
      " |    |-- capitulo_descricao_abreviada: string (nullable = true)\n",
      " |-- diag_secun_cid10: struct (nullable = false)\n",
      " |    |-- sub_categoria: string (nullable = true)\n",
      " |    |-- sub_categoria_classificacao: string (nullable = true)\n",
      " |    |-- restringido_sexo: string (nullable = true)\n",
      " |    |-- causa_obito: string (nullable = true)\n",
      " |    |-- sub_categoria_descricao: string (nullable = true)\n",
      " |    |-- sub_categoria_descricao_abreviada: string (nullable = true)\n",
      " |    |-- sub_categoria_referencia: string (nullable = true)\n",
      " |    |-- sub_categoria_excluidos: string (nullable = true)\n",
      " |    |-- categoria: string (nullable = true)\n",
      " |    |-- categoria_classificacao: string (nullable = true)\n",
      " |    |-- categoria_descricao: string (nullable = true)\n",
      " |    |-- categoria_descricao_abreviada: string (nullable = true)\n",
      " |    |-- categoria_referencia: string (nullable = true)\n",
      " |    |-- capitulo_numero: string (nullable = true)\n",
      " |    |-- capitulo_descricao: string (nullable = true)\n",
      " |    |-- capitulo_descricao_abreviada: string (nullable = true)\n",
      "\n",
      "+--------+-----+--------------+---------+----------+----+----------+----------+----------+-------+----------+------------+----------+----------+----------+--------+--------+------+---------+---------+-----+---------+-----+--------+-------+--------+-------+-----+--------------+----------+---------------------------------------------+----------------+--------+-----------------+-----------------+------------------------+------------------------+------------------+------------------+----------------+----------------+-----------------------------+-----------------------------+----------------------------------+----------------------------------+----------------------------------------------------------------------------------------------------------------------------------------------------------------------------------------------------------------------------------------------------------------------------------------------------------------------------------------------------------------------------------------------------------------------------------------------------+-------------------------------------------------------------------------------------------------------------------------------------------------------------------------------------------------------------------------------------------------------------------------------------------------------------------------------------------------------------------------------------------------------------------------------------------------------------------------------------------------------------+-----------------------------------------------------------------------------------------------------------------------------------------------------------------------------------------------------------------------------------------------------------------------------------------------------------------------------------------------------------------------+\n",
      "|mes_cmpt|espec|cgc_hosp      |munic_res|nasc      |sexo|uti_mes_to|uti_int_to|proc_rea  |qt_proc|dt_atend  |dt_atend_dow|dt_saida  |diag_princ|diag_secun|cobranca|natureza|gestao|munic_mov|cod_idade|idade|dias_perm|morte|nacional|car_int|homonimo|cnes   |fonte|cgc_consor    |modalidade|input_file_name                              |arquivo_sigla_uf|ano_cmpt|munic_res_nome_uf|munic_mov_nome_uf|munic_res_nome_municipio|munic_mov_nome_municipio|munic_res_sigla_uf|munic_mov_sigla_uf|munic_res_regiao|munic_mov_regiao|munic_res_populacao_residente|munic_mov_populacao_residente|munic_res_area_unidade_territorial|munic_mov_area_unidade_territorial|feriado                                                                                                                                                                                                                                                                                                                                                                                                                                             |diag_princ_cid10                                                                                                                                                                                                                                                                                                                                                                                                                                                                                             |diag_secun_cid10                                                                                                                                                                                                                                                                                                                                                       |\n",
      "+--------+-----+--------------+---------+----------+----+----------+----------+----------+-------+----------+------------+----------+----------+----------+--------+--------+------+---------+---------+-----+---------+-----+--------+-------+--------+-------+-----+--------------+----------+---------------------------------------------+----------------+--------+-----------------+-----------------+------------------------+------------------------+------------------+------------------+----------------+----------------+-----------------------------+-----------------------------+----------------------------------+----------------------------------+----------------------------------------------------------------------------------------------------------------------------------------------------------------------------------------------------------------------------------------------------------------------------------------------------------------------------------------------------------------------------------------------------------------------------------------------------+-------------------------------------------------------------------------------------------------------------------------------------------------------------------------------------------------------------------------------------------------------------------------------------------------------------------------------------------------------------------------------------------------------------------------------------------------------------------------------------------------------------+-----------------------------------------------------------------------------------------------------------------------------------------------------------------------------------------------------------------------------------------------------------------------------------------------------------------------------------------------------------------------+\n",
      "|03      |null |61590410000124|355030   |1948-06-29|3   |0         |002       |0412040166|1      |2022-07-27|4           |2023-03-02|J90       |J448      |12      |null    |M     |355030   |4        |74   |218      |0    |null    |null   |null    |2079127|01   |1             |02        |s3a://datalake/source/ciha_csv/CIHASP2303.csv|SP              |2023    |São Paulo        |São Paulo        |São Paulo               |São Paulo               |SP                |SP                |Sudeste         |Sudeste         |11253503                     |11253503                     |1521.101                          |1521.101                          |{false, 1, [{2022-07-26, Fundação da Cidade de Goiás, FACULTATIVO, Feriado para Servidores Públicos. Determinado pelo Estatuto dos Funcionários Públicos Civis do Estado de Goiás e de suas Autarquias, Lei nº 10.460, de 22 de fevereiro de 1988, null, null, null}], }                                                                                                                                                                            |{J90, null, null, null, Derrame pleural não classificado em outra parte, J90   Derrame pleural NCOP, null, null, J90, null, Derrame pleural não classificado em outra parte, J90   Derrame pleural NCOP, null, 10, Capítulo X - Doenças do aparelho respiratório, X.   Doenças do aparelho respiratório}                                                                                                                                                                                                     |{J448, null, null, null, Outras formas especificadas de doença pulmonar obstrutiva crônica, J44.8 Outr form espec doenc pulmonar obstrut cron, null, null, J44, null, Outras doenças pulmonares obstrutivas crônicas, J44   Outr doenc pulmonares obstrutivas cronicas, null, 10, Capítulo X - Doenças do aparelho respiratório, X.   Doenças do aparelho respiratório}|\n",
      "|10      |null |87547444000804|430210   |1971-12-17|3   |0         |00        |0302040013|1      |2023-10-06|6           |2023-10-06|Z501      |null      |18      |null    |M     |430210   |4        |51   |0        |0    |null    |null   |null    |3392406|01   |00000000000000|01        |s3a://datalake/source/ciha_csv/CIHARS2310.csv|RS              |2023    |Rio Grande do Sul|Rio Grande do Sul|Bento Gonçalves         |Bento Gonçalves         |RS                |RS                |Sul             |Sul             |107278                       |107278                       |381.958                           |381.958                           |{false, 6, [{2023-10-12, Nossa Senhora Aparecida, NACIONAL, Nossa Senhora da Conceição Aparecida é a padroeira do Brasil. Sua festa é celebrada em 12 de outubro, um feriado nacional desde que o Papa João Paulo II consagrou a Basílica em 1980., null, null, null}], }                                                                                                                                                                           |{Z501, null, null, null, Outra fisioterapia, Z50.1 Outr fisioterapia, null, null, Z50, null, Cuidados envolvendo o uso de procedimentos de reabilitação, Z50   Cuidados envolv uso proced de reabilitacao, null, 21, Capítulo XXI - Fatores que influenciam o estado de saúde e o contato com os serviços de saúde, XXI. Contatos com serviços de saúde}                                                                                                                                                     |{null, null, null, null, null, null, null, null, null, null, null, null, null, null, null, null}                                                                                                                                                                                                                                                                       |\n",
      "|02      |null |00698882000100|354990   |1979-08-31|3   |0         |0         |0303170093|1      |2022-11-10|5           |2023-02-03|F29       |null      |12      |null    |M     |354990   |4        |43   |85       |0    |null    |null   |null    |0009636|05   |5             |02        |s3a://datalake/source/ciha_csv/CIHASP2302.csv|SP              |2023    |São Paulo        |São Paulo        |São José dos Campos     |São José dos Campos     |SP                |SP                |Sudeste         |Sudeste         |629921                       |629921                       |1099.409                          |1099.409                          |{false, 5, [{2022-11-15, Proclamação da República, NACIONAL, A Proclamação da República foi um levante político-militar ocorrido em 15 de novembro de 1889 que instaurou a forma Republicana Federativa Presidencialista de governo no Brasil, derrubando a Monarquia e, por conseguinte, o imperador dom Pedro II., null, null, null}], }                                                                                                          |{F29, null, null, null, Psicose não-orgânica não especificada, F29   Psicose nao-organica NE, null, null, F29, null, Psicose não-orgânica não especificada, F29   Psicose nao-organica NE, null, 5, Capítulo V - Transtornos mentais e comportamentais, V.   Transtornos mentais e comportamentais}                                                                                                                                                                                                          |{null, null, null, null, null, null, null, null, null, null, null, null, null, null, null, null}                                                                                                                                                                                                                                                                       |\n",
      "|10      |null |87547444000804|430210   |1954-10-19|1   |0         |00        |0302050027|1      |2023-10-06|6           |2023-10-06|Z501      |null      |18      |null    |M     |430210   |4        |68   |0        |0    |null    |null   |null    |3392406|01   |00000000000000|01        |s3a://datalake/source/ciha_csv/CIHARS2310.csv|RS              |2023    |Rio Grande do Sul|Rio Grande do Sul|Bento Gonçalves         |Bento Gonçalves         |RS                |RS                |Sul             |Sul             |107278                       |107278                       |381.958                           |381.958                           |{false, 6, [{2023-10-12, Nossa Senhora Aparecida, NACIONAL, Nossa Senhora da Conceição Aparecida é a padroeira do Brasil. Sua festa é celebrada em 12 de outubro, um feriado nacional desde que o Papa João Paulo II consagrou a Basílica em 1980., null, null, null}], }                                                                                                                                                                           |{Z501, null, null, null, Outra fisioterapia, Z50.1 Outr fisioterapia, null, null, Z50, null, Cuidados envolvendo o uso de procedimentos de reabilitação, Z50   Cuidados envolv uso proced de reabilitacao, null, 21, Capítulo XXI - Fatores que influenciam o estado de saúde e o contato com os serviços de saúde, XXI. Contatos com serviços de saúde}                                                                                                                                                     |{null, null, null, null, null, null, null, null, null, null, null, null, null, null, null, null}                                                                                                                                                                                                                                                                       |\n",
      "|01      |null |54012406000385|350330   |1937-01-17|1   |0         |012       |0301060010|1      |2022-11-24|5           |2023-01-07|I678      |null      |41      |null    |M     |350330   |4        |85   |44       |1    |null    |null   |null    |2081040|01   |00000000000000|02        |s3a://datalake/source/ciha_csv/CIHASP2301.csv|SP              |2023    |São Paulo        |São Paulo        |Araras                  |Araras                  |SP                |SP                |Sudeste         |Sudeste         |118843                       |118843                       |644.831                           |644.831                           |{false, 4, [{2022-11-20, Dia da Consciência Negra, MUNICIPAL, Lei Municipal No. 4.258/2009, SP, Araras , 350330}, {2022-11-20, Consciência Negra, FACULTATIVO, Dia da Consciência Negra. Ponto Facultativo de acordo com a Lei Municipal 2484/2008, null, null, null}, {2022-11-20, Dia da Consciência Negra, FACULTATIVO, Lei Municipal No 1985, de 2009. Prefeitura não funcionará. O Comércio deverá Funcionar normalmente, null, null, null}], }|{I678, null, null, null, Outras doenças cerebrovasculares especificadas, I67.8 Outr doenc cerebrovasculares espec, null, null, I67, null, Outras doenças cerebrovasculares, I67   Outr doenc cerebrovasculares, null, 9, Capítulo IX - Doenças do aparelho circulatório, IX.  Doenças do aparelho circulatório}                                                                                                                                                                                              |{null, null, null, null, null, null, null, null, null, null, null, null, null, null, null, null}                                                                                                                                                                                                                                                                       |\n",
      "|10      |null |87547444000804|430210   |1952-03-03|1   |0         |00        |0302040013|1      |2023-10-06|6           |2023-10-06|Z501      |null      |18      |null    |M     |430210   |4        |71   |0        |0    |null    |null   |null    |3392406|01   |00000000000000|01        |s3a://datalake/source/ciha_csv/CIHARS2310.csv|RS              |2023    |Rio Grande do Sul|Rio Grande do Sul|Bento Gonçalves         |Bento Gonçalves         |RS                |RS                |Sul             |Sul             |107278                       |107278                       |381.958                           |381.958                           |{false, 6, [{2023-10-12, Nossa Senhora Aparecida, NACIONAL, Nossa Senhora da Conceição Aparecida é a padroeira do Brasil. Sua festa é celebrada em 12 de outubro, um feriado nacional desde que o Papa João Paulo II consagrou a Basílica em 1980., null, null, null}], }                                                                                                                                                                           |{Z501, null, null, null, Outra fisioterapia, Z50.1 Outr fisioterapia, null, null, Z50, null, Cuidados envolvendo o uso de procedimentos de reabilitação, Z50   Cuidados envolv uso proced de reabilitacao, null, 21, Capítulo XXI - Fatores que influenciam o estado de saúde e o contato com os serviços de saúde, XXI. Contatos com serviços de saúde}                                                                                                                                                     |{null, null, null, null, null, null, null, null, null, null, null, null, null, null, null, null}                                                                                                                                                                                                                                                                       |\n",
      "|02      |null |00006037000470|355400   |1946-07-23|1   |0         |041       |0301060002|1      |2022-12-06|3           |2023-02-13|R418      |null      |12      |null    |M     |355400   |4        |76   |69       |0    |null    |null   |null    |7368704|01   |1             |02        |s3a://datalake/source/ciha_csv/CIHASP2302.csv|SP              |2023    |São Paulo        |São Paulo        |Tatuí                   |Tatuí                   |SP                |SP                |Sudeste         |Sudeste         |107326                       |107326                       |523.475                           |523.475                           |{false, 2, [{2022-12-08, Feriado Municipal, MUNICIPAL, null, SP, Tatuí , 355400}, {2022-12-08, N. Sra. da Conceição, FACULTATIVO, Nossa Senhora da Conceição, null, null, null}, {2022-12-08, Ponto Facultativo, FACULTATIVO, Nossa Senhora da Conceição, null, null, null}, {2022-12-08, Dia da Imaculada Conceição, FACULTATIVO, Dia da Imaculada Conceição, padroeira da cidade, null, null, null}], }                                           |{R418, null, null, null, Outros sintomas e sinais especificados relativos às funções cognitivas e à consciência, R41.8 Outr sint sinais esp rel func cognit e consc, null, null, R41, null, Outros sintomas e sinais relativos à função cognitiva e à consciência, R41   Outr sint sinais relat func cognit e consc, null, 18, Capítulo XVIII - Sintomas, sinais e achados anormais de exames clínicos e de laboratório, não classificados em outra parte, XVIII.Sint sinais e achad anorm ex clín e laborat}|{null, null, null, null, null, null, null, null, null, null, null, null, null, null, null, null}                                                                                                                                                                                                                                                                       |\n",
      "|10      |null |87547444000804|430210   |1957-04-06|3   |0         |00        |0302040013|1      |2023-10-06|6           |2023-10-06|Z501      |null      |18      |null    |M     |430210   |4        |66   |0        |0    |null    |null   |null    |3392406|01   |00000000000000|01        |s3a://datalake/source/ciha_csv/CIHARS2310.csv|RS              |2023    |Rio Grande do Sul|Rio Grande do Sul|Bento Gonçalves         |Bento Gonçalves         |RS                |RS                |Sul             |Sul             |107278                       |107278                       |381.958                           |381.958                           |{false, 6, [{2023-10-12, Nossa Senhora Aparecida, NACIONAL, Nossa Senhora da Conceição Aparecida é a padroeira do Brasil. Sua festa é celebrada em 12 de outubro, um feriado nacional desde que o Papa João Paulo II consagrou a Basílica em 1980., null, null, null}], }                                                                                                                                                                           |{Z501, null, null, null, Outra fisioterapia, Z50.1 Outr fisioterapia, null, null, Z50, null, Cuidados envolvendo o uso de procedimentos de reabilitação, Z50   Cuidados envolv uso proced de reabilitacao, null, 21, Capítulo XXI - Fatores que influenciam o estado de saúde e o contato com os serviços de saúde, XXI. Contatos com serviços de saúde}                                                                                                                                                     |{null, null, null, null, null, null, null, null, null, null, null, null, null, null, null, null}                                                                                                                                                                                                                                                                       |\n",
      "|01      |null |60922168005226|420240   |1970-05-29|1   |0         |000       |0305020056|1      |2022-12-14|4           |2023-01-03|N180      |null      |12      |null    |M     |420240   |4        |52   |20       |0    |null    |null   |null    |2558246|01   |1             |02        |s3a://datalake/source/ciha_csv/CIHASC2301.csv|SC              |2023    |Santa Catarina   |Santa Catarina   |Blumenau                |Blumenau                |SC                |SC                |Sul             |Sul             |309011                       |309011                       |518.497                           |518.497                           |{false, 6, [{2022-12-08, N. Sra. da Conceição, FACULTATIVO, Nossa Senhora da Conceição, null, null, null}, {2022-12-08, Ponto Facultativo, FACULTATIVO, Nossa Senhora da Conceição, null, null, null}, {2022-12-08, Dia da Imaculada Conceição, FACULTATIVO, Dia da Imaculada Conceição, padroeira da cidade, null, null, null}], }                                                                                                                 |{N180, null, null, null, Doença renal em estádio final, N18.0 Doenc renal em estadio final, null, null, N18, null, Insuficiência renal crônica, N18   Insuf renal cronica, null, 14, Capítulo XIV - Doenças do aparelho geniturinário, XIV. Doenças do aparelho geniturinário}                                                                                                                                                                                                                               |{null, null, null, null, null, null, null, null, null, null, null, null, null, null, null, null}                                                                                                                                                                                                                                                                       |\n",
      "|10      |null |87547444000804|430210   |2015-07-16|1   |0         |00        |0302050027|1      |2023-10-06|6           |2023-10-06|Z501      |null      |18      |null    |M     |430210   |4        |08   |0        |0    |null    |null   |null    |3392406|01   |00000000000000|01        |s3a://datalake/source/ciha_csv/CIHARS2310.csv|RS              |2023    |Rio Grande do Sul|Rio Grande do Sul|Bento Gonçalves         |Bento Gonçalves         |RS                |RS                |Sul             |Sul             |107278                       |107278                       |381.958                           |381.958                           |{false, 6, [{2023-10-12, Nossa Senhora Aparecida, NACIONAL, Nossa Senhora da Conceição Aparecida é a padroeira do Brasil. Sua festa é celebrada em 12 de outubro, um feriado nacional desde que o Papa João Paulo II consagrou a Basílica em 1980., null, null, null}], }                                                                                                                                                                           |{Z501, null, null, null, Outra fisioterapia, Z50.1 Outr fisioterapia, null, null, Z50, null, Cuidados envolvendo o uso de procedimentos de reabilitação, Z50   Cuidados envolv uso proced de reabilitacao, null, 21, Capítulo XXI - Fatores que influenciam o estado de saúde e o contato com os serviços de saúde, XXI. Contatos com serviços de saúde}                                                                                                                                                     |{null, null, null, null, null, null, null, null, null, null, null, null, null, null, null, null}                                                                                                                                                                                                                                                                       |\n",
      "|01      |null |17214743000167|313760   |1967-12-30|3   |0         |003       |0403030145|1      |2022-12-15|5           |2023-01-02|D43       |null      |12      |null    |M     |310620   |4        |54   |18       |0    |null    |null   |null    |0026808|06   |00000000000000|02        |s3a://datalake/source/ciha_csv/CIHAMG2301.csv|MG              |2023    |Minas Gerais     |Minas Gerais     |Lagoa Santa             |Belo Horizonte          |MG                |MG                |Sudeste         |Sudeste         |52520                        |2375151                      |229.267                           |331.401                           |{false, 2, [{2022-12-17, Aniversário da Cidade, MUNICIPAL, Aniversário da Cidade de Lagoa Santa, MG, Lagoa Santa , 313760}], }                                                                                                                                                                                                                                                                                                                      |{null, null, null, null, null, null, null, null, null, null, null, null, null, null, null, null}                                                                                                                                                                                                                                                                                                                                                                                                             |{null, null, null, null, null, null, null, null, null, null, null, null, null, null, null, null}                                                                                                                                                                                                                                                                       |\n",
      "|10      |null |87547444000804|430210   |1952-08-14|1   |0         |00        |0302040013|1      |2023-10-06|6           |2023-10-06|Z501      |null      |18      |null    |M     |430210   |4        |71   |0        |0    |null    |null   |null    |3392406|01   |00000000000000|01        |s3a://datalake/source/ciha_csv/CIHARS2310.csv|RS              |2023    |Rio Grande do Sul|Rio Grande do Sul|Bento Gonçalves         |Bento Gonçalves         |RS                |RS                |Sul             |Sul             |107278                       |107278                       |381.958                           |381.958                           |{false, 6, [{2023-10-12, Nossa Senhora Aparecida, NACIONAL, Nossa Senhora da Conceição Aparecida é a padroeira do Brasil. Sua festa é celebrada em 12 de outubro, um feriado nacional desde que o Papa João Paulo II consagrou a Basílica em 1980., null, null, null}], }                                                                                                                                                                           |{Z501, null, null, null, Outra fisioterapia, Z50.1 Outr fisioterapia, null, null, Z50, null, Cuidados envolvendo o uso de procedimentos de reabilitação, Z50   Cuidados envolv uso proced de reabilitacao, null, 21, Capítulo XXI - Fatores que influenciam o estado de saúde e o contato com os serviços de saúde, XXI. Contatos com serviços de saúde}                                                                                                                                                     |{null, null, null, null, null, null, null, null, null, null, null, null, null, null, null, null}                                                                                                                                                                                                                                                                       |\n",
      "|01      |null |52739950000136|353070   |1944-04-10|3   |0         |000       |0403010039|1      |2022-12-16|6           |2023-01-25|S068      |W199      |42      |null    |M     |353070   |4        |78   |40       |1    |null    |null   |null    |2096463|01   |1             |02        |s3a://datalake/source/ciha_csv/CIHASP2301.csv|SP              |2023    |São Paulo        |São Paulo        |Mogi Guaçu              |Mogi Guaçu              |SP                |SP                |Sudeste         |Sudeste         |137245                       |137245                       |812.163                           |812.163                           |{false, 8, [{2022-12-08, N. Sra. da Conceição, FACULTATIVO, Nossa Senhora da Conceição, null, null, null}, {2022-12-08, Ponto Facultativo, FACULTATIVO, Nossa Senhora da Conceição, null, null, null}, {2022-12-08, Dia da Imaculada Conceição, FACULTATIVO, Dia da Imaculada Conceição, padroeira da cidade, null, null, null}], }                                                                                                                 |{S068, null, null, null, Outros traumatismos intracranianos, S06.8 Outr traum intracranianos, null, null, S06, null, Traumatismo intracraniano, S06   Traum intracraniano, null, 19, Capítulo XIX - Lesões, envenenamento e algumas outras conseqüências de causas externas, XIX. Lesões enven e alg out conseq causas externas}                                                                                                                                                                             |{W199, null, null, null, Queda sem especificação - local não especificado, W19.9 Local NE, null, null, W19, null, Queda sem especificação, W19   Queda s/especificacao, null, 20, Capítulo XX - Causas externas de morbidade e de mortalidade, XX.  Causas externas de morbidade e mortalidade}                                                                        |\n",
      "|10      |null |87547444000804|430210   |1981-08-25|3   |0         |00        |0302050027|1      |2023-10-06|6           |2023-10-06|Z501      |null      |18      |null    |M     |430210   |4        |42   |0        |0    |null    |null   |null    |3392406|01   |00000000000000|01        |s3a://datalake/source/ciha_csv/CIHARS2310.csv|RS              |2023    |Rio Grande do Sul|Rio Grande do Sul|Bento Gonçalves         |Bento Gonçalves         |RS                |RS                |Sul             |Sul             |107278                       |107278                       |381.958                           |381.958                           |{false, 6, [{2023-10-12, Nossa Senhora Aparecida, NACIONAL, Nossa Senhora da Conceição Aparecida é a padroeira do Brasil. Sua festa é celebrada em 12 de outubro, um feriado nacional desde que o Papa João Paulo II consagrou a Basílica em 1980., null, null, null}], }                                                                                                                                                                           |{Z501, null, null, null, Outra fisioterapia, Z50.1 Outr fisioterapia, null, null, Z50, null, Cuidados envolvendo o uso de procedimentos de reabilitação, Z50   Cuidados envolv uso proced de reabilitacao, null, 21, Capítulo XXI - Fatores que influenciam o estado de saúde e o contato com os serviços de saúde, XXI. Contatos com serviços de saúde}                                                                                                                                                     |{null, null, null, null, null, null, null, null, null, null, null, null, null, null, null, null}                                                                                                                                                                                                                                                                       |\n",
      "|01      |null |60922168000429|330390   |1956-07-14|3   |0         |000       |0303060298|1      |2022-12-19|2           |2023-01-07|N179      |null      |12      |null    |M     |330390   |4        |66   |19       |0    |null    |null   |null    |2275635|01   |1             |02        |s3a://datalake/source/ciha_csv/CIHARJ2301.csv|RJ              |2023    |Rio de Janeiro   |Rio de Janeiro   |Petrópolis              |Petrópolis              |RJ                |RJ                |Sudeste         |Sudeste         |295917                       |295917                       |795.798                           |795.798                           |{false, 6, [{2022-12-25, Natal, NACIONAL, O Natal é comemorado anualmente em 25 de Dezembro. Originalmente destinado a celebrar o nascimento anual do Deus Sol no solstício de inverno, foi adaptado pela Igreja Católica no 3o século d.C., para permitir a conversão dos povos pagãos sob o domínio do Império Romano, passando a comemorar o nascimento de Jesus de Nazaré., null, null, null}], }                                               |{N179, null, null, null, Insuficiência renal aguda não especificada, N17.9 Insuf renal aguda NE, null, null, N17, null, Insuficiência renal aguda, N17   Insuf renal aguda, null, 14, Capítulo XIV - Doenças do aparelho geniturinário, XIV. Doenças do aparelho geniturinário}                                                                                                                                                                                                                              |{null, null, null, null, null, null, null, null, null, null, null, null, null, null, null, null}                                                                                                                                                                                                                                                                       |\n",
      "|10      |null |87547444000804|430210   |1956-10-07|1   |0         |00        |0302050027|1      |2023-10-06|6           |2023-10-06|Z501      |null      |18      |null    |M     |430210   |4        |66   |0        |0    |null    |null   |null    |3392406|01   |00000000000000|01        |s3a://datalake/source/ciha_csv/CIHARS2310.csv|RS              |2023    |Rio Grande do Sul|Rio Grande do Sul|Bento Gonçalves         |Bento Gonçalves         |RS                |RS                |Sul             |Sul             |107278                       |107278                       |381.958                           |381.958                           |{false, 6, [{2023-10-12, Nossa Senhora Aparecida, NACIONAL, Nossa Senhora da Conceição Aparecida é a padroeira do Brasil. Sua festa é celebrada em 12 de outubro, um feriado nacional desde que o Papa João Paulo II consagrou a Basílica em 1980., null, null, null}], }                                                                                                                                                                           |{Z501, null, null, null, Outra fisioterapia, Z50.1 Outr fisioterapia, null, null, Z50, null, Cuidados envolvendo o uso de procedimentos de reabilitação, Z50   Cuidados envolv uso proced de reabilitacao, null, 21, Capítulo XXI - Fatores que influenciam o estado de saúde e o contato com os serviços de saúde, XXI. Contatos com serviços de saúde}                                                                                                                                                     |{null, null, null, null, null, null, null, null, null, null, null, null, null, null, null, null}                                                                                                                                                                                                                                                                       |\n",
      "|01      |null |60922168000429|330390   |2022-12-19|1   |0         |015       |0303140151|1      |2022-12-19|2           |2023-01-03|P221      |null      |12      |null    |M     |330390   |2        |00   |15       |0    |null    |null   |null    |2275635|01   |1             |02        |s3a://datalake/source/ciha_csv/CIHARJ2301.csv|RJ              |2023    |Rio de Janeiro   |Rio de Janeiro   |Petrópolis              |Petrópolis              |RJ                |RJ                |Sudeste         |Sudeste         |295917                       |295917                       |795.798                           |795.798                           |{false, 6, [{2022-12-25, Natal, NACIONAL, O Natal é comemorado anualmente em 25 de Dezembro. Originalmente destinado a celebrar o nascimento anual do Deus Sol no solstício de inverno, foi adaptado pela Igreja Católica no 3o século d.C., para permitir a conversão dos povos pagãos sob o domínio do Império Romano, passando a comemorar o nascimento de Jesus de Nazaré., null, null, null}], }                                               |{P221, null, null, null, Taquipnéia transitória do recém-nascido, P22.1 Taquipneia transitoria do recem-nascido, null, null, P22, null, Desconforto (angústia) respiratório(a) do recém-nascido, P22   Desconforto respirat do recem-nascido, null, 16, Capítulo XVI - Algumas afecções originadas no período perinatal, XVI. Algumas afec originadas no período perinatal}                                                                                                                                  |{null, null, null, null, null, null, null, null, null, null, null, null, null, null, null, null}                                                                                                                                                                                                                                                                       |\n",
      "|10      |null |87547444000804|430210   |2011-01-19|3   |0         |00        |0302040013|1      |2023-10-06|6           |2023-10-06|Z501      |null      |18      |null    |M     |430210   |4        |12   |0        |0    |null    |null   |null    |3392406|01   |00000000000000|01        |s3a://datalake/source/ciha_csv/CIHARS2310.csv|RS              |2023    |Rio Grande do Sul|Rio Grande do Sul|Bento Gonçalves         |Bento Gonçalves         |RS                |RS                |Sul             |Sul             |107278                       |107278                       |381.958                           |381.958                           |{false, 6, [{2023-10-12, Nossa Senhora Aparecida, NACIONAL, Nossa Senhora da Conceição Aparecida é a padroeira do Brasil. Sua festa é celebrada em 12 de outubro, um feriado nacional desde que o Papa João Paulo II consagrou a Basílica em 1980., null, null, null}], }                                                                                                                                                                           |{Z501, null, null, null, Outra fisioterapia, Z50.1 Outr fisioterapia, null, null, Z50, null, Cuidados envolvendo o uso de procedimentos de reabilitação, Z50   Cuidados envolv uso proced de reabilitacao, null, 21, Capítulo XXI - Fatores que influenciam o estado de saúde e o contato com os serviços de saúde, XXI. Contatos com serviços de saúde}                                                                                                                                                     |{null, null, null, null, null, null, null, null, null, null, null, null, null, null, null, null}                                                                                                                                                                                                                                                                       |\n",
      "|01      |null |87547444001444|430480   |1997-10-04|3   |0         |000       |0303040025|1      |2022-12-23|6           |2023-01-23|F206      |null      |12      |null    |M     |430480   |4        |25   |31       |0    |null    |null   |null    |2241137|06   |6             |02        |s3a://datalake/source/ciha_csv/CIHARS2301.csv|RS              |2023    |Rio Grande do Sul|Rio Grande do Sul|Carlos Barbosa          |Carlos Barbosa          |RS                |RS                |Sul             |Sul             |25192                        |25192                        |228.669                           |228.669                           |{false, 2, [{2022-12-25, Natal, NACIONAL, O Natal é comemorado anualmente em 25 de Dezembro. Originalmente destinado a celebrar o nascimento anual do Deus Sol no solstício de inverno, foi adaptado pela Igreja Católica no 3o século d.C., para permitir a conversão dos povos pagãos sob o domínio do Império Romano, passando a comemorar o nascimento de Jesus de Nazaré., null, null, null}], }                                               |{F206, null, null, null, Esquizofrenia simples, F20.6 Esquizofrenia simples, null, null, F20, null, Esquizofrenia, F20   Esquizofrenia, null, 5, Capítulo V - Transtornos mentais e comportamentais, V.   Transtornos mentais e comportamentais}                                                                                                                                                                                                                                                             |{null, null, null, null, null, null, null, null, null, null, null, null, null, null, null, null}                                                                                                                                                                                                                                                                       |\n",
      "|10      |null |87547444000804|430210   |2023-03-14|1   |0         |00        |0302040021|1      |2023-10-06|6           |2023-10-06|Z501      |null      |18      |null    |M     |430210   |3        |00   |0        |0    |null    |null   |null    |3392406|01   |00000000000000|01        |s3a://datalake/source/ciha_csv/CIHARS2310.csv|RS              |2023    |Rio Grande do Sul|Rio Grande do Sul|Bento Gonçalves         |Bento Gonçalves         |RS                |RS                |Sul             |Sul             |107278                       |107278                       |381.958                           |381.958                           |{false, 6, [{2023-10-12, Nossa Senhora Aparecida, NACIONAL, Nossa Senhora da Conceição Aparecida é a padroeira do Brasil. Sua festa é celebrada em 12 de outubro, um feriado nacional desde que o Papa João Paulo II consagrou a Basílica em 1980., null, null, null}], }                                                                                                                                                                           |{Z501, null, null, null, Outra fisioterapia, Z50.1 Outr fisioterapia, null, null, Z50, null, Cuidados envolvendo o uso de procedimentos de reabilitação, Z50   Cuidados envolv uso proced de reabilitacao, null, 21, Capítulo XXI - Fatores que influenciam o estado de saúde e o contato com os serviços de saúde, XXI. Contatos com serviços de saúde}                                                                                                                                                     |{null, null, null, null, null, null, null, null, null, null, null, null, null, null, null, null}                                                                                                                                                                                                                                                                       |\n",
      "+--------+-----+--------------+---------+----------+----+----------+----------+----------+-------+----------+------------+----------+----------+----------+--------+--------+------+---------+---------+-----+---------+-----+--------+-------+--------+-------+-----+--------------+----------+---------------------------------------------+----------------+--------+-----------------+-----------------+------------------------+------------------------+------------------+------------------+----------------+----------------+-----------------------------+-----------------------------+----------------------------------+----------------------------------+----------------------------------------------------------------------------------------------------------------------------------------------------------------------------------------------------------------------------------------------------------------------------------------------------------------------------------------------------------------------------------------------------------------------------------------------------+-------------------------------------------------------------------------------------------------------------------------------------------------------------------------------------------------------------------------------------------------------------------------------------------------------------------------------------------------------------------------------------------------------------------------------------------------------------------------------------------------------------+-----------------------------------------------------------------------------------------------------------------------------------------------------------------------------------------------------------------------------------------------------------------------------------------------------------------------------------------------------------------------+\n",
      "only showing top 20 rows\n",
      "\n"
     ]
    }
   ],
   "source": [
    "ciha_step2 = (ciha_step1.alias(\"s1\")\n",
    "    .join(cid10.alias(\"cid10_princ\"),\n",
    "          col(\"s1.diag_princ\") == col(\"cid10_princ.sub_categoria\"),\n",
    "         \"left\")\n",
    "    .join(cid10.alias(\"cid10_secun\"),\n",
    "          col(\"s1.diag_secun\") == col(\"cid10_secun.sub_categoria\"),\n",
    "         \"left\")\n",
    "    .select(\n",
    "        col(\"s1.mes_cmpt\"),\n",
    "        col(\"s1.espec\"),\n",
    "        col(\"s1.cgc_hosp\"),\n",
    "        col(\"s1.munic_res\"),\n",
    "        col(\"s1.nasc\"),\n",
    "        col(\"s1.sexo\"),\n",
    "        col(\"s1.uti_mes_to\"),\n",
    "        col(\"s1.uti_int_to\"),\n",
    "        col(\"s1.proc_rea\"),\n",
    "        col(\"s1.qt_proc\"),\n",
    "        col(\"s1.dt_atend\"),\n",
    "        dayofweek('s1.dt_atend').alias(\"dt_atend_dow\"),\n",
    "        col(\"s1.dt_saida\"),\n",
    "        col(\"s1.diag_princ\"),\n",
    "        col(\"s1.diag_secun\"),\n",
    "        col(\"s1.cobranca\"),\n",
    "        col(\"s1.natureza\"),\n",
    "        col(\"s1.gestao\"),\n",
    "        col(\"s1.munic_mov\"),\n",
    "        col(\"s1.cod_idade\"),\n",
    "        col(\"s1.idade\"),\n",
    "        col(\"s1.dias_perm\"),\n",
    "        col(\"s1.morte\"),\n",
    "        col(\"s1.nacional\"),\n",
    "        col(\"s1.car_int\"),\n",
    "        col(\"s1.homonimo\"),\n",
    "        col(\"s1.cnes\"),\n",
    "        col(\"s1.fonte\"),\n",
    "        col(\"s1.cgc_consor\"),\n",
    "        col(\"s1.modalidade\"),\n",
    "        col(\"s1.input_file_name\"),\n",
    "        col(\"s1.arquivo_sigla_uf\"),\n",
    "        col(\"s1.ano_cmpt\"),\n",
    "        col(\"s1.munic_res_nome_uf\"),\n",
    "        col(\"s1.munic_mov_nome_uf\"),\n",
    "        col(\"s1.munic_res_nome_municipio\"),\n",
    "        col(\"s1.munic_mov_nome_municipio\"),\n",
    "        col(\"s1.munic_res_sigla_uf\"),\n",
    "        col(\"s1.munic_mov_sigla_uf\"),\n",
    "        col(\"s1.munic_res_regiao\"),\n",
    "        col(\"s1.munic_mov_regiao\"),\n",
    "        col(\"s1.munic_res_populacao_residente\"),\n",
    "        col(\"s1.munic_mov_populacao_residente\"),\n",
    "        col(\"s1.munic_res_area_unidade_territorial\"),\n",
    "        col(\"s1.munic_mov_area_unidade_territorial\"),\n",
    "        col(\"s1.feriado\"),\n",
    "        struct(\"cid10_princ.*\").alias(\"diag_princ_cid10\"),\n",
    "        struct(\"cid10_secun.*\").alias(\"diag_secun_cid10\")\n",
    "    )\n",
    ")\n",
    "    \n",
    "ciha_step2.printSchema()\n",
    "ciha_step2.show(truncate=False)"
   ]
  },
  {
   "cell_type": "code",
   "execution_count": 9,
   "id": "0fa762aa-41f6-4919-b09d-aa907693361e",
   "metadata": {},
   "outputs": [
    {
     "data": {
      "text/plain": [
       "<delta.tables.DeltaTable at 0x74fc3b28aa90>"
      ]
     },
     "execution_count": 9,
     "metadata": {},
     "output_type": "execute_result"
    }
   ],
   "source": [
    "DeltaTable.createIfNotExists(spark) \\\n",
    "  .tableName(\"stage.ciha_step2\") \\\n",
    "  .addColumns(ciha_step2.schema) \\\n",
    "  .partitionedBy(\"ano_cmpt\") \\\n",
    "  .execute()"
   ]
  },
  {
   "cell_type": "code",
   "execution_count": 10,
   "id": "f0391783-05ed-4f40-b657-f16348a7769b",
   "metadata": {},
   "outputs": [
    {
     "data": {
      "text/html": [
       "<table border='1'>\n",
       "<tr><th>num_affected_rows</th></tr>\n",
       "<tr><td>117092917</td></tr>\n",
       "</table>\n"
      ],
      "text/plain": [
       "+-----------------+\n",
       "|num_affected_rows|\n",
       "+-----------------+\n",
       "|        117092917|\n",
       "+-----------------+"
      ]
     },
     "execution_count": 10,
     "metadata": {},
     "output_type": "execute_result"
    }
   ],
   "source": [
    "spark.sql(\"delete from stage.ciha_step2\")"
   ]
  },
  {
   "cell_type": "code",
   "execution_count": 11,
   "id": "9d960e7e-7c09-4c41-94a8-07d1244196f2",
   "metadata": {},
   "outputs": [],
   "source": [
    "ciha_step2.write.mode(\"overwrite\").insertInto(\"stage.ciha_step2\")"
   ]
  },
  {
   "cell_type": "code",
   "execution_count": 12,
   "id": "df78ded0-48c7-41aa-9f61-205966cc2633",
   "metadata": {},
   "outputs": [
    {
     "data": {
      "text/html": [
       "<table border='1'>\n",
       "<tr><th>path</th><th>metrics</th></tr>\n",
       "<tr><td>s3a://datalake/st...</td><td>{6, 12, {26794666...</td></tr>\n",
       "</table>\n"
      ],
      "text/plain": [
       "+--------------------+--------------------+\n",
       "|                path|             metrics|\n",
       "+--------------------+--------------------+\n",
       "|s3a://datalake/st...|{6, 12, {26794666...|\n",
       "+--------------------+--------------------+"
      ]
     },
     "execution_count": 12,
     "metadata": {},
     "output_type": "execute_result"
    }
   ],
   "source": [
    "spark.sql(\"optimize stage.ciha_step2\")"
   ]
  },
  {
   "cell_type": "code",
   "execution_count": 13,
   "id": "696f1844-2fbe-4e80-bb0d-8112ef1af05a",
   "metadata": {},
   "outputs": [],
   "source": [
    "spark.conf.set(\"spark.databricks.delta.retentionDurationCheck.enabled\", \"false\")"
   ]
  },
  {
   "cell_type": "code",
   "execution_count": 14,
   "id": "4a13aa2f-fd81-419d-95b2-5876a589c144",
   "metadata": {},
   "outputs": [
    {
     "data": {
      "text/html": [
       "<table border='1'>\n",
       "<tr><th>path</th></tr>\n",
       "<tr><td>s3a://datalake/st...</td></tr>\n",
       "</table>\n"
      ],
      "text/plain": [
       "+--------------------+\n",
       "|                path|\n",
       "+--------------------+\n",
       "|s3a://datalake/st...|\n",
       "+--------------------+"
      ]
     },
     "execution_count": 14,
     "metadata": {},
     "output_type": "execute_result"
    }
   ],
   "source": [
    "spark.sql(\"VACUUM stage.ciha_step2 RETAIN 0 HOURS\")"
   ]
  },
  {
   "cell_type": "code",
   "execution_count": 15,
   "id": "e170f49c-fcb5-40ca-aeea-8c529ab672f4",
   "metadata": {},
   "outputs": [],
   "source": [
    "spark.stop()"
   ]
  }
 ],
 "metadata": {
  "kernelspec": {
   "display_name": "Python 3 (ipykernel)",
   "language": "python",
   "name": "python3"
  },
  "language_info": {
   "codemirror_mode": {
    "name": "ipython",
    "version": 3
   },
   "file_extension": ".py",
   "mimetype": "text/x-python",
   "name": "python",
   "nbconvert_exporter": "python",
   "pygments_lexer": "ipython3",
   "version": "3.11.6"
  }
 },
 "nbformat": 4,
 "nbformat_minor": 5
}
