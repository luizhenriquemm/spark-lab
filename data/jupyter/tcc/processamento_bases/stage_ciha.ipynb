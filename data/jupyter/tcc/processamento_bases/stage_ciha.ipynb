{
 "cells": [
  {
   "cell_type": "code",
   "execution_count": 3,
   "id": "fbc086c8-2a3d-440d-b04b-c4e32a0b09a7",
   "metadata": {},
   "outputs": [],
   "source": [
    "# stage_ciha\n",
    "# Processa a camada stage da base CIHA, criando a tabela no catalogo e salvando em delta"
   ]
  },
  {
   "cell_type": "code",
   "execution_count": 7,
   "id": "43c31848-cf2c-4cbc-8d57-287749fab355",
   "metadata": {},
   "outputs": [
    {
     "name": "stdout",
     "output_type": "stream",
     "text": [
      "Requirement already satisfied: delta-spark in /opt/conda/lib/python3.11/site-packages (3.3.0)\n",
      "Collecting pyspark<3.6.0,>=3.5.3 (from delta-spark)\n",
      "  Using cached pyspark-3.5.4-py2.py3-none-any.whl\n",
      "Requirement already satisfied: importlib-metadata>=1.0.0 in /opt/conda/lib/python3.11/site-packages (from delta-spark) (6.8.0)\n",
      "Requirement already satisfied: zipp>=0.5 in /opt/conda/lib/python3.11/site-packages (from importlib-metadata>=1.0.0->delta-spark) (3.16.2)\n",
      "Requirement already satisfied: py4j==0.10.9.7 in /opt/conda/lib/python3.11/site-packages (from pyspark<3.6.0,>=3.5.3->delta-spark) (0.10.9.7)\n",
      "Installing collected packages: pyspark\n",
      "  Attempting uninstall: pyspark\n",
      "    Found existing installation: pyspark 3.4.1\n",
      "    Can't uninstall 'pyspark'. No files were found to uninstall.\n",
      "Successfully installed pyspark-3.5.4\n",
      "Note: you may need to restart the kernel to use updated packages.\n"
     ]
    }
   ],
   "source": [
    "pip install delta-spark"
   ]
  },
  {
   "cell_type": "code",
   "execution_count": 1,
   "id": "1c5329b5-24c8-4194-84c8-72d4dcf1e250",
   "metadata": {},
   "outputs": [],
   "source": [
    "%run ../spark-default.py"
   ]
  },
  {
   "cell_type": "code",
   "execution_count": 2,
   "id": "e5d8ffd9-0b13-49f7-996b-64d456216f30",
   "metadata": {},
   "outputs": [],
   "source": [
    "from delta.tables import DeltaTable\n",
    "\n"
   ]
  },
  {
   "cell_type": "code",
   "execution_count": 3,
   "id": "13489393-9b96-42e5-b4eb-e91c074ce3dd",
   "metadata": {},
   "outputs": [],
   "source": [
    "ciha = spark.read.parquet(\"s3a://datalake/raw/ciha/\")"
   ]
  },
  {
   "cell_type": "code",
   "execution_count": 11,
   "id": "06d8a074-5e99-40f5-9b59-91a455bbc359",
   "metadata": {},
   "outputs": [
    {
     "name": "stdout",
     "output_type": "stream",
     "text": [
      "+---------+\n",
      "|namespace|\n",
      "+---------+\n",
      "|default  |\n",
      "|stage    |\n",
      "+---------+\n",
      "\n"
     ]
    }
   ],
   "source": [
    "spark.sql(\"show databases\").show(truncate=False)"
   ]
  },
  {
   "cell_type": "code",
   "execution_count": 16,
   "id": "be002b9a-acef-400c-8784-e9be6363a84c",
   "metadata": {},
   "outputs": [
    {
     "data": {
      "text/plain": [
       "<delta.tables.DeltaTable at 0x7f6b84212710>"
      ]
     },
     "execution_count": 16,
     "metadata": {},
     "output_type": "execute_result"
    }
   ],
   "source": [
    "DeltaTable.createIfNotExists(spark) \\\n",
    "  .tableName(\"stage.ciha\") \\\n",
    "  .addColumns(ciha.schema) \\\n",
    "  .partitionedBy(\"ano_cmpt\") \\\n",
    "  .execute()"
   ]
  },
  {
   "cell_type": "code",
   "execution_count": 17,
   "id": "861a9ef8-a853-4ae2-80d0-28b73cf6767d",
   "metadata": {},
   "outputs": [],
   "source": [
    "ciha.write.insertInto(\"stage.ciha\")"
   ]
  },
  {
   "cell_type": "code",
   "execution_count": 18,
   "id": "a4ea4b98-71ec-4591-bbd2-9d9c787e775a",
   "metadata": {},
   "outputs": [],
   "source": [
    "ciha = spark.table(\"stage.ciha\")"
   ]
  },
  {
   "cell_type": "code",
   "execution_count": 19,
   "id": "87ae1949-01b0-4cc0-aea8-174f580e5060",
   "metadata": {},
   "outputs": [
    {
     "name": "stdout",
     "output_type": "stream",
     "text": [
      "+--------+-----+--------------+---------+----+----+----------+----------+----------+-------+--------+--------+----------+----------+--------+--------+------+---------+---------+-----+---------+-----+--------+-------+--------+-------+-----+----------+----------+---------------------------------------------+---------+--------+\n",
      "|mes_cmpt|espec|cgc_hosp      |munic_res|nasc|sexo|uti_mes_to|uti_int_to|proc_rea  |qt_proc|dt_atend|dt_saida|diag_princ|diag_secun|cobranca|natureza|gestao|munic_mov|cod_idade|idade|dias_perm|morte|nacional|car_int|homonimo|cnes   |fonte|cgc_consor|modalidade|input_file_name                              |estado_uf|ano_cmpt|\n",
      "+--------+-----+--------------+---------+----+----+----------+----------+----------+-------+--------+--------+----------+----------+--------+--------+------+---------+---------+-----+---------+-----+--------+-------+--------+-------+-----+----------+----------+---------------------------------------------+---------+--------+\n",
      "|01      |null |null          |null     |null|null|0         |0         |0301010048|4160   |null    |null    |null      |null      |null    |11      |M     |350570   |null     |null |null     |null |null    |null   |null    |3488225|null |00        |null      |s3a://datalake/source/ciha_csv/CIHASP1201.csv|SP       |2012    |\n",
      "|01      |null |null          |null     |null|null|0         |0         |0301060096|2514   |null    |null    |null      |null      |null    |11      |M     |350570   |null     |null |null     |null |null    |null   |null    |3488225|null |00        |null      |s3a://datalake/source/ciha_csv/CIHASP1201.csv|SP       |2012    |\n",
      "|01      |null |null          |null     |null|null|0         |0         |0301100012|421    |null    |null    |null      |null      |null    |11      |M     |350570   |null     |null |null     |null |null    |null   |null    |3488225|null |00        |null      |s3a://datalake/source/ciha_csv/CIHASP1201.csv|SP       |2012    |\n",
      "|01      |null |59981712000181|null     |null|null|0         |0         |0404020674|1      |null    |null    |null      |null      |null    |11      |M     |354980   |null     |null |null     |null |null    |null   |null    |2798298|01   |00        |null      |s3a://datalake/source/ciha_csv/CIHASP1201.csv|SP       |2012    |\n",
      "|01      |null |59981712000181|null     |null|null|0         |0         |0404020674|1      |null    |null    |null      |null      |null    |11      |M     |354980   |null     |null |null     |null |null    |null   |null    |2798298|01   |00        |null      |s3a://datalake/source/ciha_csv/CIHASP1201.csv|SP       |2012    |\n",
      "|01      |null |59981712000181|null     |null|null|0         |0         |0405040199|1      |null    |null    |null      |null      |null    |11      |M     |354980   |null     |null |null     |null |null    |null   |null    |2798298|06   |00        |null      |s3a://datalake/source/ciha_csv/CIHASP1201.csv|SP       |2012    |\n",
      "|01      |null |59981712000181|null     |null|null|0         |0         |0405050208|1      |null    |null    |null      |null      |null    |11      |M     |354980   |null     |null |null     |null |null    |null   |null    |2798298|06   |00        |null      |s3a://datalake/source/ciha_csv/CIHASP1201.csv|SP       |2012    |\n",
      "|01      |null |59981712000181|null     |null|null|0         |0         |0405050364|4      |null    |null    |null      |null      |null    |11      |M     |354980   |null     |null |null     |null |null    |null   |null    |2798298|04   |00        |null      |s3a://datalake/source/ciha_csv/CIHASP1201.csv|SP       |2012    |\n",
      "|01      |null |59981712000181|null     |null|null|0         |0         |0405050364|3      |null    |null    |null      |null      |null    |11      |M     |354980   |null     |null |null     |null |null    |null   |null    |2798298|06   |00        |null      |s3a://datalake/source/ciha_csv/CIHASP1201.csv|SP       |2012    |\n",
      "|01      |null |59981712000181|null     |null|null|0         |0         |0405050364|2      |null    |null    |null      |null      |null    |11      |M     |354980   |null     |null |null     |null |null    |null   |null    |2798298|01   |00        |null      |s3a://datalake/source/ciha_csv/CIHASP1201.csv|SP       |2012    |\n",
      "+--------+-----+--------------+---------+----+----+----------+----------+----------+-------+--------+--------+----------+----------+--------+--------+------+---------+---------+-----+---------+-----+--------+-------+--------+-------+-----+----------+----------+---------------------------------------------+---------+--------+\n",
      "\n"
     ]
    }
   ],
   "source": [
    "ciha.limit(10).show(truncate=False)"
   ]
  },
  {
   "cell_type": "code",
   "execution_count": 23,
   "id": "fe27a8e6-ec3a-4607-a47b-45cc45c1fcd1",
   "metadata": {},
   "outputs": [
    {
     "name": "stdout",
     "output_type": "stream",
     "text": [
      "+---------+--------+\n",
      "|estado_uf|count(1)|\n",
      "+---------+--------+\n",
      "|SP       |97412632|\n",
      "|RS       |39747028|\n",
      "|MG       |26912855|\n",
      "|PR       |13715770|\n",
      "|SC       |7916651 |\n",
      "|PE       |5129427 |\n",
      "|BA       |9868350 |\n",
      "|RJ       |8220163 |\n",
      "|PA       |4099412 |\n",
      "|CE       |2367227 |\n",
      "|AM       |1165597 |\n",
      "|ES       |2310448 |\n",
      "|MS       |1468566 |\n",
      "|AL       |1370711 |\n",
      "|RN       |870861  |\n",
      "|TO       |609368  |\n",
      "|PI       |499666  |\n",
      "|GO       |1136945 |\n",
      "|MT       |728605  |\n",
      "|PB       |464889  |\n",
      "|AP       |776312  |\n",
      "|MA       |395712  |\n",
      "|SE       |225111  |\n",
      "|RO       |126331  |\n",
      "|DF       |128683  |\n",
      "|AC       |46511   |\n",
      "+---------+--------+\n",
      "\n"
     ]
    }
   ],
   "source": [
    "ciha.groupBy(\"estado_uf\").agg(count(\"*\")).show(100, truncate=False)"
   ]
  },
  {
   "cell_type": "code",
   "execution_count": 24,
   "id": "029fe14e-c1de-478c-b6b0-24886ecb5b50",
   "metadata": {},
   "outputs": [
    {
     "data": {
      "text/plain": [
       "227713831"
      ]
     },
     "execution_count": 24,
     "metadata": {},
     "output_type": "execute_result"
    }
   ],
   "source": [
    "ciha.count()"
   ]
  }
 ],
 "metadata": {
  "kernelspec": {
   "display_name": "Python 3 (ipykernel)",
   "language": "python",
   "name": "python3"
  },
  "language_info": {
   "codemirror_mode": {
    "name": "ipython",
    "version": 3
   },
   "file_extension": ".py",
   "mimetype": "text/x-python",
   "name": "python",
   "nbconvert_exporter": "python",
   "pygments_lexer": "ipython3",
   "version": "3.11.6"
  }
 },
 "nbformat": 4,
 "nbformat_minor": 5
}
