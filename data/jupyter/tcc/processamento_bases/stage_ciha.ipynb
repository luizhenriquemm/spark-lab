{
 "cells": [
  {
   "cell_type": "code",
   "execution_count": 3,
   "id": "fbc086c8-2a3d-440d-b04b-c4e32a0b09a7",
   "metadata": {},
   "outputs": [],
   "source": [
    "# stage_ciha\n",
    "# Processa a camada stage da base CIHA, criando a tabela no catalogo e salvando em delta"
   ]
  },
  {
   "cell_type": "code",
   "execution_count": 3,
   "id": "43c31848-cf2c-4cbc-8d57-287749fab355",
   "metadata": {},
   "outputs": [
    {
     "name": "stdout",
     "output_type": "stream",
     "text": [
      "Collecting delta-spark\n",
      "  Obtaining dependency information for delta-spark from https://files.pythonhosted.org/packages/3b/d8/265a93d22ae79262cdff701496a6f5676926a342153f3855ae6060430660/delta_spark-4.0.0-py3-none-any.whl.metadata\n",
      "  Downloading delta_spark-4.0.0-py3-none-any.whl.metadata (1.9 kB)\n",
      "Collecting pyspark>=4.0.0 (from delta-spark)\n",
      "  Downloading pyspark-4.0.0.tar.gz (434.1 MB)\n",
      "\u001b[2K     \u001b[90m━━━━━━━━━━━━━━━━━━━━━━━━━━━━━━━━━━━━━━━\u001b[0m \u001b[32m434.1/434.1 MB\u001b[0m \u001b[31m2.9 MB/s\u001b[0m eta \u001b[36m0:00:00\u001b[0m00:01\u001b[0m00:02\u001b[0m\n",
      "\u001b[?25h  Preparing metadata (setup.py) ... \u001b[?25ldone\n",
      "\u001b[?25hRequirement already satisfied: importlib-metadata>=1.0.0 in /opt/conda/lib/python3.11/site-packages (from delta-spark) (6.8.0)\n",
      "Requirement already satisfied: zipp>=0.5 in /opt/conda/lib/python3.11/site-packages (from importlib-metadata>=1.0.0->delta-spark) (3.16.2)\n",
      "Collecting py4j==0.10.9.9 (from pyspark>=4.0.0->delta-spark)\n",
      "  Obtaining dependency information for py4j==0.10.9.9 from https://files.pythonhosted.org/packages/bd/db/ea0203e495be491c85af87b66e37acfd3bf756fd985f87e46fc5e3bf022c/py4j-0.10.9.9-py2.py3-none-any.whl.metadata\n",
      "  Downloading py4j-0.10.9.9-py2.py3-none-any.whl.metadata (1.3 kB)\n",
      "Downloading delta_spark-4.0.0-py3-none-any.whl (39 kB)\n",
      "Downloading py4j-0.10.9.9-py2.py3-none-any.whl (203 kB)\n",
      "\u001b[2K   \u001b[90m━━━━━━━━━━━━━━━━━━━━━━━━━━━━━━━━━━━━━━━━\u001b[0m \u001b[32m203.0/203.0 kB\u001b[0m \u001b[31m8.7 MB/s\u001b[0m eta \u001b[36m0:00:00\u001b[0m\n",
      "\u001b[?25hBuilding wheels for collected packages: pyspark\n",
      "  Building wheel for pyspark (setup.py) ... \u001b[?25ldone\n",
      "\u001b[?25h  Created wheel for pyspark: filename=pyspark-4.0.0-py2.py3-none-any.whl size=434741238 sha256=cd65e189159d05d2b421525377bbca3a3bab2eaac09710f00848068c9ebf878b\n",
      "  Stored in directory: /home/user/.cache/pip/wheels/91/e4/c1/3c917d48563ae77204dd185aa3da90da6a1a5526565296dadf\n",
      "Successfully built pyspark\n",
      "Installing collected packages: py4j, pyspark, delta-spark\n",
      "  Attempting uninstall: pyspark\n",
      "    Found existing installation: pyspark 3.4.1\n",
      "    Can't uninstall 'pyspark'. No files were found to uninstall.\n",
      "Successfully installed delta-spark-4.0.0 py4j-0.10.9.9 pyspark-4.0.0\n",
      "Note: you may need to restart the kernel to use updated packages.\n"
     ]
    }
   ],
   "source": [
    "pip install delta-spark"
   ]
  },
  {
   "cell_type": "code",
   "execution_count": 1,
   "id": "1c5329b5-24c8-4194-84c8-72d4dcf1e250",
   "metadata": {},
   "outputs": [],
   "source": [
    "%run ../spark-default.py"
   ]
  },
  {
   "cell_type": "code",
   "execution_count": 2,
   "id": "e5d8ffd9-0b13-49f7-996b-64d456216f30",
   "metadata": {},
   "outputs": [],
   "source": [
    "from delta.tables import DeltaTable\n",
    "import uuid"
   ]
  },
  {
   "cell_type": "code",
   "execution_count": 3,
   "id": "13489393-9b96-42e5-b4eb-e91c074ce3dd",
   "metadata": {},
   "outputs": [],
   "source": [
    "uuid_udf = udf(lambda: str(uuid.uuid4()), StringType())\n",
    "ciha = spark.read.parquet(\"s3a://datalake/raw/ciha/\").withColumn(\"pk\", uuid_udf())"
   ]
  },
  {
   "cell_type": "code",
   "execution_count": 4,
   "id": "06d8a074-5e99-40f5-9b59-91a455bbc359",
   "metadata": {},
   "outputs": [
    {
     "name": "stdout",
     "output_type": "stream",
     "text": [
      "+---------+\n",
      "|namespace|\n",
      "+---------+\n",
      "|default  |\n",
      "|stage    |\n",
      "+---------+\n",
      "\n"
     ]
    }
   ],
   "source": [
    "spark.sql(\"show databases\").show(truncate=False)"
   ]
  },
  {
   "cell_type": "code",
   "execution_count": 6,
   "id": "be002b9a-acef-400c-8784-e9be6363a84c",
   "metadata": {},
   "outputs": [
    {
     "data": {
      "text/plain": [
       "<delta.tables.DeltaTable at 0x7d0230330e50>"
      ]
     },
     "execution_count": 6,
     "metadata": {},
     "output_type": "execute_result"
    }
   ],
   "source": [
    "DeltaTable.createIfNotExists(spark) \\\n",
    "  .tableName(\"stage.ciha\") \\\n",
    "  .addColumns(ciha.schema) \\\n",
    "  .partitionedBy(\"ano_cmpt\") \\\n",
    "  .execute()"
   ]
  },
  {
   "cell_type": "code",
   "execution_count": 7,
   "id": "0dca234b-4f93-4fe0-ae61-8f3a4fe0317b",
   "metadata": {},
   "outputs": [
    {
     "name": "stdout",
     "output_type": "stream",
     "text": [
      "root\n",
      " |-- mes_cmpt: string (nullable = true)\n",
      " |-- espec: string (nullable = true)\n",
      " |-- cgc_hosp: string (nullable = true)\n",
      " |-- munic_res: string (nullable = true)\n",
      " |-- nasc: date (nullable = true)\n",
      " |-- sexo: string (nullable = true)\n",
      " |-- uti_mes_to: string (nullable = true)\n",
      " |-- uti_int_to: string (nullable = true)\n",
      " |-- proc_rea: string (nullable = true)\n",
      " |-- qt_proc: string (nullable = true)\n",
      " |-- dt_atend: date (nullable = true)\n",
      " |-- dt_saida: date (nullable = true)\n",
      " |-- diag_princ: string (nullable = true)\n",
      " |-- diag_secun: string (nullable = true)\n",
      " |-- cobranca: string (nullable = true)\n",
      " |-- natureza: string (nullable = true)\n",
      " |-- gestao: string (nullable = true)\n",
      " |-- munic_mov: string (nullable = true)\n",
      " |-- cod_idade: string (nullable = true)\n",
      " |-- idade: string (nullable = true)\n",
      " |-- dias_perm: string (nullable = true)\n",
      " |-- morte: string (nullable = true)\n",
      " |-- nacional: string (nullable = true)\n",
      " |-- car_int: string (nullable = true)\n",
      " |-- homonimo: string (nullable = true)\n",
      " |-- cnes: string (nullable = true)\n",
      " |-- fonte: string (nullable = true)\n",
      " |-- cgc_consor: string (nullable = true)\n",
      " |-- modalidade: string (nullable = true)\n",
      " |-- input_file_name: string (nullable = true)\n",
      " |-- estado_uf: string (nullable = true)\n",
      " |-- ano_cmpt: integer (nullable = true)\n",
      " |-- pk: string (nullable = true)\n",
      "\n"
     ]
    }
   ],
   "source": [
    "ciha.printSchema()"
   ]
  },
  {
   "cell_type": "code",
   "execution_count": 8,
   "id": "01a09c2f-6341-4cf2-a7bf-652dc482aa53",
   "metadata": {},
   "outputs": [
    {
     "name": "stdout",
     "output_type": "stream",
     "text": [
      "+--------------------+---------+-------+\n",
      "|            col_name|data_type|comment|\n",
      "+--------------------+---------+-------+\n",
      "|            mes_cmpt|   string|   null|\n",
      "|               espec|   string|   null|\n",
      "|            cgc_hosp|   string|   null|\n",
      "|           munic_res|   string|   null|\n",
      "|                nasc|     date|   null|\n",
      "|                sexo|   string|   null|\n",
      "|          uti_mes_to|   string|   null|\n",
      "|          uti_int_to|   string|   null|\n",
      "|            proc_rea|   string|   null|\n",
      "|             qt_proc|   string|   null|\n",
      "|            dt_atend|     date|   null|\n",
      "|            dt_saida|     date|   null|\n",
      "|          diag_princ|   string|   null|\n",
      "|          diag_secun|   string|   null|\n",
      "|            cobranca|   string|   null|\n",
      "|            natureza|   string|   null|\n",
      "|              gestao|   string|   null|\n",
      "|           munic_mov|   string|   null|\n",
      "|           cod_idade|   string|   null|\n",
      "|               idade|   string|   null|\n",
      "|           dias_perm|   string|   null|\n",
      "|               morte|   string|   null|\n",
      "|            nacional|   string|   null|\n",
      "|             car_int|   string|   null|\n",
      "|            homonimo|   string|   null|\n",
      "|                cnes|   string|   null|\n",
      "|               fonte|   string|   null|\n",
      "|          cgc_consor|   string|   null|\n",
      "|          modalidade|   string|   null|\n",
      "|     input_file_name|   string|   null|\n",
      "|           estado_uf|   string|   null|\n",
      "|            ano_cmpt|      int|   null|\n",
      "|                  pk|   string|   null|\n",
      "|# Partition Infor...|         |       |\n",
      "|          # col_name|data_type|comment|\n",
      "|            ano_cmpt|      int|   null|\n",
      "+--------------------+---------+-------+\n",
      "\n"
     ]
    }
   ],
   "source": [
    "spark.sql(\"describe stage.ciha\").show(999)"
   ]
  },
  {
   "cell_type": "code",
   "execution_count": 5,
   "id": "4afba87b-e13e-4337-ba9d-2ea708b2ab4d",
   "metadata": {},
   "outputs": [
    {
     "name": "stdout",
     "output_type": "stream",
     "text": [
      "++\n",
      "||\n",
      "++\n",
      "++\n",
      "\n"
     ]
    }
   ],
   "source": [
    "# spark.sql(\"delete from stage.ciha\").show()\n",
    "# spark.sql(\"drop table stage.ciha\").show()"
   ]
  },
  {
   "cell_type": "code",
   "execution_count": 9,
   "id": "861a9ef8-a853-4ae2-80d0-28b73cf6767d",
   "metadata": {},
   "outputs": [
    {
     "name": "stdout",
     "output_type": "stream",
     "text": [
      "2011\n",
      "2012\n",
      "2013\n",
      "2014\n",
      "2015\n",
      "2016\n",
      "2017\n",
      "2018\n",
      "2019\n",
      "2020\n",
      "2021\n",
      "2022\n",
      "2023\n",
      "2024\n",
      "2025\n"
     ]
    }
   ],
   "source": [
    "for ano in [2011, 2012, 2013, 2014, 2015, 2016, 2017, 2018, 2019, 2020, 2021, 2022, 2023, 2024, 2025]:\n",
    "    print(ano)\n",
    "    ciha.filter(f\"ano_cmpt = '{ano}'\").write.mode(\"append\").insertInto(\"stage.ciha\")"
   ]
  },
  {
   "cell_type": "code",
   "execution_count": 10,
   "id": "a4ea4b98-71ec-4591-bbd2-9d9c787e775a",
   "metadata": {},
   "outputs": [],
   "source": [
    "ciha = spark.table(\"stage.ciha\")"
   ]
  },
  {
   "cell_type": "code",
   "execution_count": 11,
   "id": "87ae1949-01b0-4cc0-aea8-174f580e5060",
   "metadata": {},
   "outputs": [
    {
     "name": "stdout",
     "output_type": "stream",
     "text": [
      "+--------+-----+--------------+---------+----------+----+----------+----------+----------+-------+----------+----------+----------+----------+--------+--------+------+---------+---------+-----+---------+-----+--------+-------+--------+-------+-----+----------+----------+---------------------------------------------+---------+--------+------------------------------------+\n",
      "|mes_cmpt|espec|cgc_hosp      |munic_res|nasc      |sexo|uti_mes_to|uti_int_to|proc_rea  |qt_proc|dt_atend  |dt_saida  |diag_princ|diag_secun|cobranca|natureza|gestao|munic_mov|cod_idade|idade|dias_perm|morte|nacional|car_int|homonimo|cnes   |fonte|cgc_consor|modalidade|input_file_name                              |estado_uf|ano_cmpt|pk                                  |\n",
      "+--------+-----+--------------+---------+----------+----+----------+----------+----------+-------+----------+----------+----------+----------+--------+--------+------+---------+---------+-----+---------+-----+--------+-------+--------+-------+-----+----------+----------+---------------------------------------------+---------+--------+------------------------------------+\n",
      "|01      |null |29072642000188|330420   |1932-06-28|3   |0         |002       |0303040149|1      |2011-01-09|2011-01-12|I678      |null      |11      |07      |M     |330420   |4        |78   |3        |0    |null    |null   |null    |2299216|01   |02        |null      |s3a://datalake/source/ciha_csv/CIHARJ1101.csv|RJ       |2011    |85ecf468-a513-4eba-ae49-8c7fe235cf14|\n",
      "|01      |null |29072642000188|330420   |1916-09-12|3   |0         |000       |0303140151|1      |2011-01-02|2011-01-08|J189      |null      |11      |07      |M     |330420   |4        |94   |6        |0    |null    |null   |null    |2299216|01   |02        |null      |s3a://datalake/source/ciha_csv/CIHARJ1101.csv|RJ       |2011    |6986cba0-df73-43f1-b6ed-491eb7b0fbe3|\n",
      "|01      |null |29072642000188|330420   |1945-09-04|1   |0         |000       |0407040102|1      |2011-01-26|2011-01-27|K409      |null      |11      |07      |M     |330420   |4        |65   |1        |0    |null    |null   |null    |2299216|01   |02        |null      |s3a://datalake/source/ciha_csv/CIHARJ1101.csv|RJ       |2011    |9ebde07b-3185-4c66-b32b-a7c24750ab11|\n",
      "|01      |null |29072642000188|330420   |1986-04-09|3   |0         |001       |0408040076|1      |2011-01-08|2011-01-10|M873      |null      |11      |07      |M     |330420   |4        |24   |2        |0    |null    |null   |null    |2299216|01   |02        |null      |s3a://datalake/source/ciha_csv/CIHARJ1101.csv|RJ       |2011    |d45c36db-21af-4be2-9da5-a2497c0f3a8f|\n",
      "|01      |null |60922168002553|330600   |2005-07-26|1   |0         |000       |0303140135|1      |2011-01-27|2011-01-27|J352      |null      |12      |11      |M     |330600   |4        |05   |0        |0    |null    |null   |null    |2294923|05   |02        |null      |s3a://datalake/source/ciha_csv/CIHARJ1101.csv|RJ       |2011    |c504fab4-02fc-47b7-99cf-bee19a0d036f|\n",
      "|01      |null |60922168002553|330600   |2008-09-30|1   |0         |000       |0301060070|1      |2011-01-10|2011-01-11|M255      |null      |12      |11      |M     |330600   |4        |02   |1        |0    |null    |null   |null    |2294923|05   |02        |null      |s3a://datalake/source/ciha_csv/CIHARJ1101.csv|RJ       |2011    |2a341482-54c8-4d2b-b5e7-b26487bd8920|\n",
      "|01      |null |60922168002553|330600   |2003-03-24|1   |0         |000       |0404010016|1      |2011-01-13|2011-01-15|J390      |null      |12      |11      |M     |330600   |4        |07   |2        |0    |null    |null   |null    |2294923|05   |02        |null      |s3a://datalake/source/ciha_csv/CIHARJ1101.csv|RJ       |2011    |b4a90d9a-02f7-494b-8af4-9669c2ef6330|\n",
      "|01      |null |31424245000170|330400   |1978-11-12|3   |0         |0         |0205010032|1      |2011-01-28|2011-01-28|null      |null      |null    |11      |M     |330400   |4        |32   |0        |0    |null    |null   |null    |2267187|01   |01        |null      |s3a://datalake/source/ciha_csv/CIHARJ1101.csv|RJ       |2011    |fe00c837-fc32-406c-b1df-6d78ee9f1f1d|\n",
      "|01      |null |31424245000170|330400   |1965-03-31|1   |0         |0         |0302040048|10     |2011-01-06|2011-01-06|I110      |null      |null    |11      |M     |330400   |4        |45   |0        |0    |null    |null   |null    |2267187|01   |01        |null      |s3a://datalake/source/ciha_csv/CIHARJ1101.csv|RJ       |2011    |98130628-6682-4d23-b96b-3459c0aa596c|\n",
      "|01      |null |31424245000170|330400   |1941-10-01|1   |0         |0         |0302050027|5      |2011-01-04|2011-01-04|G838      |null      |null    |11      |M     |330400   |4        |69   |0        |0    |null    |null   |null    |2267187|01   |01        |null      |s3a://datalake/source/ciha_csv/CIHARJ1101.csv|RJ       |2011    |ef3de901-384f-43b0-a837-13899354dc1c|\n",
      "+--------+-----+--------------+---------+----------+----+----------+----------+----------+-------+----------+----------+----------+----------+--------+--------+------+---------+---------+-----+---------+-----+--------+-------+--------+-------+-----+----------+----------+---------------------------------------------+---------+--------+------------------------------------+\n",
      "\n"
     ]
    }
   ],
   "source": [
    "ciha.limit(10).show(truncate=False)"
   ]
  },
  {
   "cell_type": "code",
   "execution_count": 12,
   "id": "fa4e2355-952b-4f6b-9611-c916c40ac42d",
   "metadata": {},
   "outputs": [
    {
     "name": "stdout",
     "output_type": "stream",
     "text": [
      "+--------+--------+\n",
      "|ano_cmpt|count(1)|\n",
      "+--------+--------+\n",
      "|2011    |10010212|\n",
      "|2012    |11234203|\n",
      "|2013    |12388257|\n",
      "|2014    |16011188|\n",
      "|2015    |14029854|\n",
      "|2016    |16218264|\n",
      "|2017    |17707297|\n",
      "|2018    |16095906|\n",
      "|2019    |17008127|\n",
      "|2020    |13105052|\n",
      "|2021    |16309069|\n",
      "|2022    |17818647|\n",
      "|2023    |18017246|\n",
      "|2024    |15655354|\n",
      "|2025    |4209491 |\n",
      "+--------+--------+\n",
      "\n"
     ]
    }
   ],
   "source": [
    "ciha.groupBy(\"ano_cmpt\").agg(count(\"*\")).orderBy(\"ano_cmpt\").show(truncate=False)"
   ]
  },
  {
   "cell_type": "code",
   "execution_count": 13,
   "id": "fe27a8e6-ec3a-4607-a47b-45cc45c1fcd1",
   "metadata": {},
   "outputs": [
    {
     "name": "stdout",
     "output_type": "stream",
     "text": [
      "+---------+--------+\n",
      "|estado_uf|count(1)|\n",
      "+---------+--------+\n",
      "|SP       |92096240|\n",
      "|RS       |39060781|\n",
      "|MG       |24358412|\n",
      "|PR       |14761366|\n",
      "|BA       |8609573 |\n",
      "|RJ       |7356377 |\n",
      "|SC       |7550733 |\n",
      "|PE       |4890151 |\n",
      "|ES       |1988321 |\n",
      "|CE       |2278173 |\n",
      "|PA       |3771294 |\n",
      "|AM       |1080146 |\n",
      "|MS       |1303271 |\n",
      "|AL       |1137548 |\n",
      "|RN       |980335  |\n",
      "|TO       |517835  |\n",
      "|GO       |963343  |\n",
      "|PB       |491967  |\n",
      "|PI       |470368  |\n",
      "|MT       |666845  |\n",
      "|MA       |350928  |\n",
      "|AP       |664216  |\n",
      "|RO       |124731  |\n",
      "|SE       |192684  |\n",
      "|DF       |104108  |\n",
      "|AC       |48421   |\n",
      "+---------+--------+\n",
      "\n"
     ]
    }
   ],
   "source": [
    "ciha.groupBy(\"estado_uf\").agg(count(\"*\")).show(100, truncate=False)"
   ]
  },
  {
   "cell_type": "code",
   "execution_count": 14,
   "id": "029fe14e-c1de-478c-b6b0-24886ecb5b50",
   "metadata": {},
   "outputs": [
    {
     "data": {
      "text/plain": [
       "215818167"
      ]
     },
     "execution_count": 14,
     "metadata": {},
     "output_type": "execute_result"
    }
   ],
   "source": [
    "ciha.count()"
   ]
  },
  {
   "cell_type": "code",
   "execution_count": 15,
   "id": "2b67f150-63b7-4176-9184-7a073a48f5c4",
   "metadata": {},
   "outputs": [
    {
     "data": {
      "text/plain": [
       "0"
      ]
     },
     "execution_count": 15,
     "metadata": {},
     "output_type": "execute_result"
    }
   ],
   "source": [
    "ciha.groupBy(\"pk\").agg(count(\"*\").alias(\"count\")).filter(\"count > 1\").count()"
   ]
  },
  {
   "cell_type": "code",
   "execution_count": 16,
   "id": "e04436a1-88b5-4a36-a303-bdfd6614b5fd",
   "metadata": {},
   "outputs": [],
   "source": [
    "spark.stop()"
   ]
  }
 ],
 "metadata": {
  "kernelspec": {
   "display_name": "Python 3 (ipykernel)",
   "language": "python",
   "name": "python3"
  },
  "language_info": {
   "codemirror_mode": {
    "name": "ipython",
    "version": 3
   },
   "file_extension": ".py",
   "mimetype": "text/x-python",
   "name": "python",
   "nbconvert_exporter": "python",
   "pygments_lexer": "ipython3",
   "version": "3.11.6"
  }
 },
 "nbformat": 4,
 "nbformat_minor": 5
}
