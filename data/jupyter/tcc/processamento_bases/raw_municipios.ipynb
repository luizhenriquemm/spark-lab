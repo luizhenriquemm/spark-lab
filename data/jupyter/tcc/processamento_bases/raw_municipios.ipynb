{
 "cells": [
  {
   "cell_type": "code",
   "execution_count": null,
   "id": "439dbe55-7529-44c8-915b-db145d291a11",
   "metadata": {},
   "outputs": [],
   "source": [
    "# raw_estados\n",
    "# Este notebook cria a camada raw da base de estados."
   ]
  },
  {
   "cell_type": "code",
   "execution_count": 1,
   "id": "946c10d9-fcf6-4866-91c6-1429b0ca8387",
   "metadata": {},
   "outputs": [],
   "source": [
    "%run ../spark-default.py"
   ]
  },
  {
   "cell_type": "code",
   "execution_count": 2,
   "id": "ce491ffd-613e-4899-975c-b207bac61b6b",
   "metadata": {},
   "outputs": [],
   "source": [
    "spark.conf.set(\"spark.sql.sources.partitionOverwriteMode\",\"dynamic\")"
   ]
  },
  {
   "cell_type": "code",
   "execution_count": 4,
   "id": "8aaec831-965d-4504-aeb6-8fe2151af919",
   "metadata": {},
   "outputs": [
    {
     "name": "stdout",
     "output_type": "stream",
     "text": [
      "root\n",
      " |-- COD_UF: string (nullable = true)\n",
      " |-- NOME_UF: string (nullable = true)\n",
      " |-- REGIAO: string (nullable = true)\n",
      " |-- SIGLA: string (nullable = true)\n",
      "\n",
      "27\n",
      "+------+-------------------+--------+-----+\n",
      "|cod_uf|            nome_uf|  regiao|sigla|\n",
      "+------+-------------------+--------+-----+\n",
      "|    11|           Rondônia|   Norte|   RO|\n",
      "|    12|               Acre|   Norte|   AC|\n",
      "|    13|           Amazonas|   Norte|   AM|\n",
      "|    14|            Roraima|   Norte|   RR|\n",
      "|    15|               Pará|   Norte|   PA|\n",
      "|    16|              Amapá|   Norte|   AP|\n",
      "|    17|          Tocantins|   Norte|   TO|\n",
      "|    21|           Maranhão|Nordeste|   MA|\n",
      "|    22|              Piauí|Nordeste|   PI|\n",
      "|    23|              Ceará|Nordeste|   CE|\n",
      "|    24|Rio Grande do Norte|Nordeste|   RN|\n",
      "|    25|            Paraíba|Nordeste|   PB|\n",
      "|    26|         Pernambuco|Nordeste|   PE|\n",
      "|    27|            Alagoas|Nordeste|   AL|\n",
      "|    28|            Sergipe|Nordeste|   SE|\n",
      "|    29|              Bahia|Nordeste|   BA|\n",
      "|    31|       Minas Gerais| Sudeste|   MG|\n",
      "|    32|     Espírito Santo| Sudeste|   ES|\n",
      "|    33|     Rio de Janeiro| Sudeste|   RJ|\n",
      "|    35|          São Paulo| Sudeste|   SP|\n",
      "+------+-------------------+--------+-----+\n",
      "only showing top 20 rows\n",
      "\n"
     ]
    }
   ],
   "source": [
    "estados = spark.read.option(\"header\", True).option(\"sep\", \";\").option(\"encoding\", \"ISO-8859-1\").csv(\"s3a://datalake/source/estados/estados.csv\")\n",
    "\n",
    "estados.printSchema()\n",
    "\n",
    "estados = estados.select(\n",
    "    col(\"COD_UF\").alias(\"cod_uf\"),\n",
    "    col(\"NOME_UF\").alias(\"nome_uf\"),\n",
    "    col(\"REGIAO\").alias(\"regiao\"),\n",
    "    col(\"SIGLA\").alias(\"sigla\")\n",
    ")\n",
    "\n",
    "print(estados.count())\n",
    "\n",
    "estados.show()"
   ]
  },
  {
   "cell_type": "code",
   "execution_count": 5,
   "id": "6d9fe46b-1317-4f8d-ae36-8db82820a744",
   "metadata": {},
   "outputs": [],
   "source": [
    "estados.write.parquet(\"s3a://datalake/raw/estados/\")"
   ]
  },
  {
   "cell_type": "code",
   "execution_count": 13,
   "id": "a38bd0b7-fb98-46fc-b567-686e1adf6359",
   "metadata": {},
   "outputs": [],
   "source": [
    "spark.stop()"
   ]
  }
 ],
 "metadata": {
  "kernelspec": {
   "display_name": "Python 3 (ipykernel)",
   "language": "python",
   "name": "python3"
  },
  "language_info": {
   "codemirror_mode": {
    "name": "ipython",
    "version": 3
   },
   "file_extension": ".py",
   "mimetype": "text/x-python",
   "name": "python",
   "nbconvert_exporter": "python",
   "pygments_lexer": "ipython3",
   "version": "3.11.6"
  }
 },
 "nbformat": 4,
 "nbformat_minor": 5
}
