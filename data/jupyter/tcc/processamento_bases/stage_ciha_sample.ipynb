{
 "cells": [
  {
   "cell_type": "code",
   "execution_count": 1,
   "id": "201c87e3-b09b-42ba-88e9-b62ad97936fb",
   "metadata": {},
   "outputs": [],
   "source": [
    "%run ../spark-default.py"
   ]
  },
  {
   "cell_type": "code",
   "execution_count": 2,
   "id": "3c780d88-afaf-42c6-85ff-8f7882713413",
   "metadata": {},
   "outputs": [],
   "source": [
    "spark.conf.set(\"spark.sql.sources.partitionOverwriteMode\",\"dynamic\")"
   ]
  },
  {
   "cell_type": "code",
   "execution_count": 3,
   "id": "f57460b9-e7b0-49f2-9d55-a28ff6ba182f",
   "metadata": {},
   "outputs": [],
   "source": [
    "import builtins as b\n",
    "from datetime import datetime, timedelta, date\n",
    "import sys, traceback\n",
    "from delta.tables import DeltaTable\n",
    "\n",
    "import pandas as pd\n",
    "import numpy as np\n",
    "import matplotlib.pyplot as plt"
   ]
  },
  {
   "cell_type": "code",
   "execution_count": null,
   "id": "8c8d1eb7-d091-4e56-a807-1a2224355683",
   "metadata": {},
   "outputs": [],
   "source": [
    "ciha = spark.table(\"stage.ciha_step3\")"
   ]
  },
  {
   "cell_type": "code",
   "execution_count": null,
   "id": "7c062a30-2c01-4a2a-8246-d6822dced3bb",
   "metadata": {},
   "outputs": [],
   "source": [
    "ciha_sample = ciha \\\n",
    "     .withColumn(\"feriado_info\", to_json(\"feriado_info\")) \\\n",
    "     .sample(fraction=0.001, seed = 1010)\n",
    "\n",
    "\n",
    "ciha_sample.repartition(1) \\\n",
    "     .write \\\n",
    "     .mode(\"overwrite\") \\\n",
    "     .option(\"header\", True) \\\n",
    "     .option(\"sep\", \";\") \\\n",
    "     .csv(\"s3a://datalake/output/ciha_sample/\") \\\n"
   ]
  },
  {
   "cell_type": "code",
   "execution_count": 6,
   "id": "e170f49c-fcb5-40ca-aeea-8c529ab672f4",
   "metadata": {},
   "outputs": [],
   "source": [
    "spark.stop()"
   ]
  }
 ],
 "metadata": {
  "kernelspec": {
   "display_name": "Python 3 (ipykernel)",
   "language": "python",
   "name": "python3"
  },
  "language_info": {
   "codemirror_mode": {
    "name": "ipython",
    "version": 3
   },
   "file_extension": ".py",
   "mimetype": "text/x-python",
   "name": "python",
   "nbconvert_exporter": "python",
   "pygments_lexer": "ipython3",
   "version": "3.11.6"
  }
 },
 "nbformat": 4,
 "nbformat_minor": 5
}
