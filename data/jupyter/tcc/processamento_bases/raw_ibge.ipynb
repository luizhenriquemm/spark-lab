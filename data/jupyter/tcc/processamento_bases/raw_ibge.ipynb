{
 "cells": [
  {
   "cell_type": "code",
   "execution_count": 1,
   "id": "439dbe55-7529-44c8-915b-db145d291a11",
   "metadata": {},
   "outputs": [],
   "source": [
    "# raw_ibge\n",
    "# Este notebook cria a camada raw da base de estatisticas do IBGE"
   ]
  },
  {
   "cell_type": "code",
   "execution_count": 2,
   "id": "946c10d9-fcf6-4866-91c6-1429b0ca8387",
   "metadata": {},
   "outputs": [],
   "source": [
    "%run ../spark-default.py"
   ]
  },
  {
   "cell_type": "code",
   "execution_count": 3,
   "id": "ce491ffd-613e-4899-975c-b207bac61b6b",
   "metadata": {},
   "outputs": [],
   "source": [
    "spark.conf.set(\"spark.sql.sources.partitionOverwriteMode\",\"dynamic\")"
   ]
  },
  {
   "cell_type": "code",
   "execution_count": 5,
   "id": "8aaec831-965d-4504-aeb6-8fe2151af919",
   "metadata": {},
   "outputs": [
    {
     "name": "stdout",
     "output_type": "stream",
     "text": [
      "root\n",
      " |-- COD_MUNICIPIO: string (nullable = true)\n",
      " |-- POPULACAO_RESIDENTE: string (nullable = true)\n",
      " |-- AREA_UNIDADE_TERRITORIAL: string (nullable = true)\n",
      "\n",
      "5564\n",
      "+-------------+-------------------+------------------------+\n",
      "|cod_municipio|populacao_residente|area_unidade_territorial|\n",
      "+-------------+-------------------+------------------------+\n",
      "|       110001|              24392|                7067.025|\n",
      "|       110002|              90353|                4426.571|\n",
      "|       110003|               6313|                1314.362|\n",
      "|       110004|              78574|                3792.801|\n",
      "|       110005|              17029|                  2783.3|\n",
      "|       110006|              18591|                1451.061|\n",
      "|       110007|               8783|                3060.321|\n",
      "|       110008|              13678|                4987.177|\n",
      "|       110009|              28729|                4518.034|\n",
      "|       110010|              41656|               24855.724|\n",
      "|       110011|              52005|                2944.128|\n",
      "|       110012|             116610|                6896.738|\n",
      "|       110013|              31135|                8509.314|\n",
      "|       110014|              19874|                1703.008|\n",
      "|       110015|              37928|                 1969.85|\n",
      "|       110018|              33822|                6240.932|\n",
      "|       110020|             428527|               34096.388|\n",
      "|       110025|              22319|                1758.465|\n",
      "|       110026|               3316|                 1717.64|\n",
      "|       110028|              50648|                1457.888|\n",
      "+-------------+-------------------+------------------------+\n",
      "only showing top 20 rows\n",
      "\n"
     ]
    }
   ],
   "source": [
    "ibge = spark.read.option(\"header\", True).csv(\"s3a://datalake/input/ibge/\")\n",
    "\n",
    "ibge.printSchema()\n",
    "\n",
    "ibge = ibge.select(\n",
    "    col(\"COD_MUNICIPIO\").alias(\"cod_municipio\"),\n",
    "    col(\"POPULACAO_RESIDENTE\").alias(\"populacao_residente\"),\n",
    "    col(\"AREA_UNIDADE_TERRITORIAL\").alias(\"area_unidade_territorial\")\n",
    ")\n",
    "\n",
    "print(ibge.count())\n",
    "\n",
    "ibge.show()"
   ]
  },
  {
   "cell_type": "code",
   "execution_count": 6,
   "id": "6d9fe46b-1317-4f8d-ae36-8db82820a744",
   "metadata": {},
   "outputs": [],
   "source": [
    "ibge.write.parquet(\"s3a://datalake/raw/ibge/\")"
   ]
  },
  {
   "cell_type": "code",
   "execution_count": 7,
   "id": "a38bd0b7-fb98-46fc-b567-686e1adf6359",
   "metadata": {},
   "outputs": [],
   "source": [
    "spark.stop()"
   ]
  }
 ],
 "metadata": {
  "kernelspec": {
   "display_name": "Python 3 (ipykernel)",
   "language": "python",
   "name": "python3"
  },
  "language_info": {
   "codemirror_mode": {
    "name": "ipython",
    "version": 3
   },
   "file_extension": ".py",
   "mimetype": "text/x-python",
   "name": "python",
   "nbconvert_exporter": "python",
   "pygments_lexer": "ipython3",
   "version": "3.11.6"
  }
 },
 "nbformat": 4,
 "nbformat_minor": 5
}
