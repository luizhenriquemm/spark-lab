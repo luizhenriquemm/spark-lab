{
 "cells": [
  {
   "cell_type": "code",
   "execution_count": 1,
   "id": "fbc086c8-2a3d-440d-b04b-c4e32a0b09a7",
   "metadata": {},
   "outputs": [],
   "source": [
    "# stage_ibge\n",
    "# Processa a camada stage da base do IBGE, criando a tabela no catalogo e salvando em delta"
   ]
  },
  {
   "cell_type": "code",
   "execution_count": 2,
   "id": "1c5329b5-24c8-4194-84c8-72d4dcf1e250",
   "metadata": {},
   "outputs": [],
   "source": [
    "%run ../spark-default.py"
   ]
  },
  {
   "cell_type": "code",
   "execution_count": 3,
   "id": "e5d8ffd9-0b13-49f7-996b-64d456216f30",
   "metadata": {},
   "outputs": [],
   "source": [
    "from delta.tables import DeltaTable"
   ]
  },
  {
   "cell_type": "code",
   "execution_count": 13,
   "id": "13489393-9b96-42e5-b4eb-e91c074ce3dd",
   "metadata": {},
   "outputs": [
    {
     "data": {
      "text/html": [
       "<table border='1'>\n",
       "<tr><th>cod_municipio</th><th>populacao_residente</th><th>area_unidade_territorial</th></tr>\n",
       "<tr><td>110001</td><td>24392</td><td>7067.025</td></tr>\n",
       "<tr><td>110002</td><td>90353</td><td>4426.571</td></tr>\n",
       "<tr><td>110003</td><td>6313</td><td>1314.362</td></tr>\n",
       "<tr><td>110004</td><td>78574</td><td>3792.801</td></tr>\n",
       "<tr><td>110005</td><td>17029</td><td>2783.3</td></tr>\n",
       "<tr><td>110006</td><td>18591</td><td>1451.061</td></tr>\n",
       "<tr><td>110007</td><td>8783</td><td>3060.321</td></tr>\n",
       "<tr><td>110008</td><td>13678</td><td>4987.177</td></tr>\n",
       "<tr><td>110009</td><td>28729</td><td>4518.034</td></tr>\n",
       "<tr><td>110010</td><td>41656</td><td>24855.724</td></tr>\n",
       "<tr><td>110011</td><td>52005</td><td>2944.128</td></tr>\n",
       "<tr><td>110012</td><td>116610</td><td>6896.738</td></tr>\n",
       "<tr><td>110013</td><td>31135</td><td>8509.314</td></tr>\n",
       "<tr><td>110014</td><td>19874</td><td>1703.008</td></tr>\n",
       "<tr><td>110015</td><td>37928</td><td>1969.85</td></tr>\n",
       "<tr><td>110018</td><td>33822</td><td>6240.932</td></tr>\n",
       "<tr><td>110020</td><td>428527</td><td>34096.388</td></tr>\n",
       "<tr><td>110025</td><td>22319</td><td>1758.465</td></tr>\n",
       "<tr><td>110026</td><td>3316</td><td>1717.64</td></tr>\n",
       "<tr><td>110028</td><td>50648</td><td>1457.888</td></tr>\n",
       "</table>\n",
       "only showing top 20 rows\n"
      ],
      "text/plain": [
       "+-------------+-------------------+------------------------+\n",
       "|cod_municipio|populacao_residente|area_unidade_territorial|\n",
       "+-------------+-------------------+------------------------+\n",
       "|       110001|              24392|                7067.025|\n",
       "|       110002|              90353|                4426.571|\n",
       "|       110003|               6313|                1314.362|\n",
       "|       110004|              78574|                3792.801|\n",
       "|       110005|              17029|                  2783.3|\n",
       "|       110006|              18591|                1451.061|\n",
       "|       110007|               8783|                3060.321|\n",
       "|       110008|              13678|                4987.177|\n",
       "|       110009|              28729|                4518.034|\n",
       "|       110010|              41656|               24855.724|\n",
       "|       110011|              52005|                2944.128|\n",
       "|       110012|             116610|                6896.738|\n",
       "|       110013|              31135|                8509.314|\n",
       "|       110014|              19874|                1703.008|\n",
       "|       110015|              37928|                 1969.85|\n",
       "|       110018|              33822|                6240.932|\n",
       "|       110020|             428527|               34096.388|\n",
       "|       110025|              22319|                1758.465|\n",
       "|       110026|               3316|                 1717.64|\n",
       "|       110028|              50648|                1457.888|\n",
       "+-------------+-------------------+------------------------+\n",
       "only showing top 20 rows"
      ]
     },
     "execution_count": 13,
     "metadata": {},
     "output_type": "execute_result"
    }
   ],
   "source": [
    "ibge = spark.read.parquet(\"s3a://datalake/raw/ibge/\")\n",
    "\n",
    "ibge"
   ]
  },
  {
   "cell_type": "code",
   "execution_count": 5,
   "id": "06d8a074-5e99-40f5-9b59-91a455bbc359",
   "metadata": {},
   "outputs": [
    {
     "name": "stdout",
     "output_type": "stream",
     "text": [
      "+---------+\n",
      "|namespace|\n",
      "+---------+\n",
      "|default  |\n",
      "|stage    |\n",
      "+---------+\n",
      "\n"
     ]
    }
   ],
   "source": [
    "spark.sql(\"show databases\").show(truncate=False)"
   ]
  },
  {
   "cell_type": "code",
   "execution_count": 5,
   "id": "be002b9a-acef-400c-8784-e9be6363a84c",
   "metadata": {},
   "outputs": [
    {
     "data": {
      "text/plain": [
       "<delta.tables.DeltaTable at 0x7f40783f2310>"
      ]
     },
     "execution_count": 5,
     "metadata": {},
     "output_type": "execute_result"
    }
   ],
   "source": [
    "DeltaTable.createIfNotExists(spark) \\\n",
    "  .tableName(\"stage.ibge\") \\\n",
    "  .addColumns(ibge.schema) \\\n",
    "  .execute()"
   ]
  },
  {
   "cell_type": "code",
   "execution_count": 14,
   "id": "861a9ef8-a853-4ae2-80d0-28b73cf6767d",
   "metadata": {},
   "outputs": [],
   "source": [
    "ibge.write.insertInto(\"stage.ibge\")"
   ]
  },
  {
   "cell_type": "code",
   "execution_count": 15,
   "id": "a4ea4b98-71ec-4591-bbd2-9d9c787e775a",
   "metadata": {},
   "outputs": [],
   "source": [
    "ibge = spark.table(\"stage.ibge\")"
   ]
  },
  {
   "cell_type": "code",
   "execution_count": 16,
   "id": "87ae1949-01b0-4cc0-aea8-174f580e5060",
   "metadata": {},
   "outputs": [
    {
     "name": "stdout",
     "output_type": "stream",
     "text": [
      "+-------------+-------------------+------------------------+\n",
      "|cod_municipio|populacao_residente|area_unidade_territorial|\n",
      "+-------------+-------------------+------------------------+\n",
      "|110001       |24392              |7067.025                |\n",
      "|110002       |90353              |4426.571                |\n",
      "|110003       |6313               |1314.362                |\n",
      "|110004       |78574              |3792.801                |\n",
      "|110005       |17029              |2783.3                  |\n",
      "|110006       |18591              |1451.061                |\n",
      "|110007       |8783               |3060.321                |\n",
      "|110008       |13678              |4987.177                |\n",
      "|110009       |28729              |4518.034                |\n",
      "|110010       |41656              |24855.724               |\n",
      "+-------------+-------------------+------------------------+\n",
      "\n"
     ]
    }
   ],
   "source": [
    "ibge.limit(10).show(truncate=False)"
   ]
  },
  {
   "cell_type": "code",
   "execution_count": 17,
   "id": "029fe14e-c1de-478c-b6b0-24886ecb5b50",
   "metadata": {},
   "outputs": [
    {
     "data": {
      "text/plain": [
       "5564"
      ]
     },
     "execution_count": 17,
     "metadata": {},
     "output_type": "execute_result"
    }
   ],
   "source": [
    "ibge.count()"
   ]
  },
  {
   "cell_type": "code",
   "execution_count": 18,
   "id": "a7105f07-f9e1-443e-a85b-f5eb5d0a1d32",
   "metadata": {},
   "outputs": [],
   "source": [
    "spark.stop()"
   ]
  }
 ],
 "metadata": {
  "kernelspec": {
   "display_name": "Python 3 (ipykernel)",
   "language": "python",
   "name": "python3"
  },
  "language_info": {
   "codemirror_mode": {
    "name": "ipython",
    "version": 3
   },
   "file_extension": ".py",
   "mimetype": "text/x-python",
   "name": "python",
   "nbconvert_exporter": "python",
   "pygments_lexer": "ipython3",
   "version": "3.11.6"
  }
 },
 "nbformat": 4,
 "nbformat_minor": 5
}
