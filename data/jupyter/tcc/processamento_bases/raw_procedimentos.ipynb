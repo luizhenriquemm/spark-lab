{
 "cells": [
  {
   "cell_type": "code",
   "execution_count": 1,
   "id": "439dbe55-7529-44c8-915b-db145d291a11",
   "metadata": {},
   "outputs": [],
   "source": [
    "# raw_procedimentos\n",
    "# Este notebook cria a camada raw das bases de procedimentos e semelhantes"
   ]
  },
  {
   "cell_type": "code",
   "execution_count": 2,
   "id": "946c10d9-fcf6-4866-91c6-1429b0ca8387",
   "metadata": {},
   "outputs": [],
   "source": [
    "%run ../spark-default.py"
   ]
  },
  {
   "cell_type": "code",
   "execution_count": 3,
   "id": "ce491ffd-613e-4899-975c-b207bac61b6b",
   "metadata": {},
   "outputs": [],
   "source": [
    "spark.conf.set(\"spark.sql.sources.partitionOverwriteMode\",\"dynamic\")"
   ]
  },
  {
   "cell_type": "code",
   "execution_count": 53,
   "id": "1a906660-dde5-4526-b11c-88326e396646",
   "metadata": {},
   "outputs": [],
   "source": [
    "def get_df_procedimento(arq):\n",
    "    # arq = \"tb_grupo\"\n",
    "    \n",
    "    layout = spark.read.option(\"encoding\", \"ISO-8859-1\").option(\"header\", \"true\").option(\"sep\", \",\").csv(\"s3a://datalake/input/procedimentos/\" + arq + \"_layout.txt\")\n",
    "    # layout.show(truncate=False)\n",
    "    \n",
    "    layout_ = [\n",
    "        trim(substring(\n",
    "            \"data\", \n",
    "            int(x[\"Inicio\"]), \n",
    "            int(x[\"Tamanho\"])\n",
    "        )).alias(x[\"Coluna\"].lower()) \n",
    "        for x in [\n",
    "            x.asDict() for x in layout.collect()\n",
    "        ]\n",
    "    ]\n",
    "    \n",
    "    \n",
    "    data = spark.read.option(\"encoding\", \"ISO-8859-1\").option(\"header\", \"false\").option(\"sep\", \"\\u0000\").csv(\"s3a://datalake/input/procedimentos/\" + arq + \".txt\").toDF(\"data\")\n",
    "    # data.show(truncate=False)\n",
    "    \n",
    "    data_ = data.select(*layout_)\n",
    "    # data_.show(truncate=False)\n",
    "\n",
    "    return data_"
   ]
  },
  {
   "cell_type": "code",
   "execution_count": 63,
   "id": "4f3fa3fe-6be5-4d1d-9f4e-aa1ce6cbeb8b",
   "metadata": {},
   "outputs": [
    {
     "name": "stdout",
     "output_type": "stream",
     "text": [
      "+--------+-------------------------------------------------+--------------+\n",
      "|co_grupo|no_grupo                                         |dt_competencia|\n",
      "+--------+-------------------------------------------------+--------------+\n",
      "|01      |Ações de promoção e prevenção em saúde           |202501        |\n",
      "|02      |Procedimentos com finalidade diagnóstica         |202501        |\n",
      "|03      |Procedimentos clínicos                           |202501        |\n",
      "|04      |Procedimentos cirúrgicos                         |202501        |\n",
      "|05      |Transplantes de orgãos, tecidos e células        |202501        |\n",
      "|06      |Medicamentos                                     |202501        |\n",
      "|07      |Órteses, próteses e materiais especiais          |202501        |\n",
      "|08      |Ações complementares da atenção à saúde          |202501        |\n",
      "|09      |Procedimentos para Ofertas de Cuidados Integrados|202501        |\n",
      "+--------+-------------------------------------------------+--------------+\n",
      "\n"
     ]
    }
   ],
   "source": [
    "df_grupo = get_df_procedimento(\"tb_grupo\")\n",
    "df_grupo.show(truncate=False)\n",
    "df_grupo.write.mode(\"overwrite\").parquet(\"s3a://datalake/raw/proc_grupo/\")"
   ]
  },
  {
   "cell_type": "code",
   "execution_count": 64,
   "id": "ab3d96cb-1850-43d0-baa4-9160fed50008",
   "metadata": {},
   "outputs": [
    {
     "name": "stdout",
     "output_type": "stream",
     "text": [
      "+--------+------------+---------------------------------------------------------------------------------+--------------+\n",
      "|co_grupo|co_sub_grupo|no_sub_grupo                                                                     |dt_competencia|\n",
      "+--------+------------+---------------------------------------------------------------------------------+--------------+\n",
      "|04      |01          |Pequenas cirurgias e cirurgias de pele, tecido subcutâneo e mucosa               |202501        |\n",
      "|05      |01          |Coleta e exames para fins de doação de orgãos, tecidos e células e de transplante|202501        |\n",
      "|02      |01          |Coleta de material                                                               |202501        |\n",
      "|01      |01          |Ações coletivas/individuais em saúde                                             |202501        |\n",
      "|09      |01          |Atenção em Oncologia                                                             |202501        |\n",
      "|07      |01          |Órteses, próteses e materiais especiais não relacionados ao ato cirúrgico        |202501        |\n",
      "|06      |01          |Medicamentos de dispensação excepcional                                          |202501        |\n",
      "|03      |01          |Consultas / Atendimentos / Acompanhamentos                                       |202501        |\n",
      "|08      |01          |Ações relacionadas ao estabelecimento                                            |202501        |\n",
      "|03      |02          |Fisioterapia                                                                     |202501        |\n",
      "|02      |02          |Diagnóstico em laboratório clínico                                               |202501        |\n",
      "|01      |02          |Vigilância em saúde                                                              |202501        |\n",
      "|09      |02          |Atenção em Cardiologia                                                           |202501        |\n",
      "|08      |02          |Ações relacionadas ao atendimento                                                |202501        |\n",
      "|07      |02          |Órteses, próteses e materiais especiais relacionados ao ato cirúrgico            |202501        |\n",
      "|06      |02          |Medicamentos estratégicos                                                        |202501        |\n",
      "|05      |02          |Avaliação de morte encefálica                                                    |202501        |\n",
      "|04      |02          |Cirurgia de glândulas endócrinas                                                 |202501        |\n",
      "|02      |03          |Diagnóstico por anatomia patológica e citopatologia                              |202501        |\n",
      "|09      |03          |Atenção em Ortopedia                                                             |202501        |\n",
      "+--------+------------+---------------------------------------------------------------------------------+--------------+\n",
      "only showing top 20 rows\n",
      "\n"
     ]
    }
   ],
   "source": [
    "df_sub_grupo = get_df_procedimento(\"tb_sub_grupo\")\n",
    "df_sub_grupo.show(truncate=False)\n",
    "df_sub_grupo.write.mode(\"overwrite\").parquet(\"s3a://datalake/raw/proc_sub_grupo/\")"
   ]
  },
  {
   "cell_type": "code",
   "execution_count": 65,
   "id": "1cf0b0c3-84aa-4917-bad2-d86774c7cb12",
   "metadata": {},
   "outputs": [
    {
     "name": "stdout",
     "output_type": "stream",
     "text": [
      "+--------+------------+--------------------+---------------------------------------------------------------------+--------------+\n",
      "|co_grupo|co_sub_grupo|co_forma_organizacao|no_forma_organizacao                                                 |dt_competencia|\n",
      "+--------+------------+--------------------+---------------------------------------------------------------------+--------------+\n",
      "|09      |04          |01                  |Ofertas de Cuidados Integrados em Otorrinolaringologia.              |202501        |\n",
      "|09      |05          |01                  |Ofertas de Cuidados Integrados em Oftalmologia.                      |202501        |\n",
      "|09      |06          |01                  |Consultas e Teleatendimentos em Ofertas de Cuidados Integrados.      |202501        |\n",
      "|01      |01          |01                  |Educação em saúde                                                    |202501        |\n",
      "|01      |02          |01                  |Vigilancia sanitária                                                 |202501        |\n",
      "|02      |01          |01                  |Coleta de material por meio de punção/biópsia                        |202501        |\n",
      "|02      |02          |01                  |Exames bioquimicos                                                   |202501        |\n",
      "|02      |03          |01                  |Exames citopatológicos                                               |202501        |\n",
      "|02      |04          |01                  |Exames radiológicos da cabeça e pescoço                              |202501        |\n",
      "|02      |05          |01                  |Ultra-sonografias do sistema circulatório (qualquer região anatômica)|202501        |\n",
      "|02      |06          |01                  |Tomografia da cabeça, pescoço e coluna vertebral                     |202501        |\n",
      "|02      |07          |01                  |RM da cabeça, pescoço e coluna vertebral                             |202501        |\n",
      "|02      |08          |01                  |Aparelho cardiovascular                                              |202501        |\n",
      "|02      |09          |01                  |Aparelho digestivo                                                   |202501        |\n",
      "|02      |10          |01                  |Exames radiológicos de vasos sangüíneos e linfáticos                 |202501        |\n",
      "|02      |11          |01                  |Diagnóstico em angiologia                                            |202501        |\n",
      "|02      |12          |01                  |Exames do doador/receptor                                            |202501        |\n",
      "|02      |13          |01                  |Exames relacionados a doenças e agravos de notificação compulsória   |202501        |\n",
      "|02      |14          |01                  |Teste realizado fora da estrutura de laboratório                     |202501        |\n",
      "|03      |01          |01                  |Consultas médicas/outros profissionais  de nivel superior            |202501        |\n",
      "+--------+------------+--------------------+---------------------------------------------------------------------+--------------+\n",
      "only showing top 20 rows\n",
      "\n"
     ]
    }
   ],
   "source": [
    "df_forma_organizacao = get_df_procedimento(\"tb_forma_organizacao\")\n",
    "df_forma_organizacao.show(truncate=False)\n",
    "df_forma_organizacao.write.mode(\"overwrite\").parquet(\"s3a://datalake/raw/proc_forma_organizacao/\")"
   ]
  },
  {
   "cell_type": "code",
   "execution_count": 66,
   "id": "836b01fa-9482-436c-82dd-0c6686c2c3af",
   "metadata": {},
   "outputs": [
    {
     "name": "stdout",
     "output_type": "stream",
     "text": [
      "+---------------+------------------------------------------------------------------+---------------+-------+------------------+-------------------+---------+---------------+---------------+----------+----------+----------+----------------+----------+--------------------+--------------+\n",
      "|co_procedimento|no_procedimento                                                   |tp_complexidade|tp_sexo|qt_maxima_execucao|qt_dias_permanencia|qt_pontos|vl_idade_minima|vl_idade_maxima|vl_sh     |vl_sa     |vl_sp     |co_financiamento|co_rubrica|qt_tempo_permanencia|dt_competencia|\n",
      "+---------------+------------------------------------------------------------------+---------------+-------+------------------+-------------------+---------+---------------+---------------+----------+----------+----------+----------------+----------+--------------------+--------------+\n",
      "|0101010010     |ATIVIDADE EDUCATIVA / ORIENTAÇÃO EM GRUPO NA ATENÇÃO PRIMÁRIA     |1              |N      |9999              |9999               |0000     |9999           |9999           |0000000000|0000000000|0000000000|01              |          |9999                |202501        |\n",
      "|0101010028     |ATIVIDADE EDUCATIVA / ORIENTAÇÃO EM GRUPO NA ATENÇÃO ESPECIALIZADA|2              |I      |9999              |9999               |0000     |0084           |1571           |0000000000|0000000270|0000000000|06              |          |9999                |202501        |\n",
      "|0101010036     |PRÁTICA CORPORAL / ATIVIDADE FÍSICA EM GRUPO                      |1              |I      |9999              |9999               |0000     |0072           |1571           |0000000000|0000000000|0000000000|01              |          |9999                |202501        |\n",
      "|0101010095     |PREVENÇÃO DA COVID-19 NAS ESCOLAS                                 |1              |I      |9999              |9999               |0000     |0000           |1571           |0000000000|0000000000|0000000000|01              |          |9999                |202501        |\n",
      "|0101010109     |ATIVIDADES EDUCATIVAS DA POPULAÇÃO SOBRE A TEMÁTICA DAMALÁRIA     |1              |I      |9999              |9999               |0000     |0000           |1571           |0000000000|0000000000|0000000000|07              |          |9999                |202501        |\n",
      "|0101010117     |ATIVIDADE DE EDUCAÇÃO PERMANENTE EM SAÚDE DO TRABALHADOR          |2              |N      |9999              |9999               |0000     |9999           |9999           |0000000000|0000000000|0000000000|05              |          |9999                |202501        |\n",
      "|0101020015     |AÇÃO COLETIVA DE APLICAÇÃO TÓPICA DE FLÚOR GEL                    |1              |I      |9999              |9999               |0000     |0048           |1571           |0000000000|0000000000|0000000000|01              |          |9999                |202501        |\n",
      "|0101020023     |AÇÃO COLETIVA DE BOCHECHO FLUORADO                                |1              |I      |9999              |9999               |0000     |0084           |1571           |0000000000|0000000000|0000000000|01              |          |9999                |202501        |\n",
      "|0101020031     |AÇÃO COLETIVA DE ESCOVAÇÃO DENTAL SUPERVISIONADA                  |1              |I      |9999              |9999               |0000     |0036           |1571           |0000000000|0000000000|0000000000|01              |          |9999                |202501        |\n",
      "|0101020040     |AÇÃO COLETIVA DE EXAME BUCAL COM FINALIDADE EPIDEMIOLÓGICA        |1              |I      |9999              |9999               |0000     |0000           |1571           |0000000000|0000000000|0000000000|01              |          |9999                |202501        |\n",
      "|0101020058     |APLICAÇÃO DE CARIOSTÁTICO (POR DENTE)                             |1              |I      |9999              |9999               |0000     |0000           |1571           |0000000000|0000000000|0000000000|01              |          |9999                |202501        |\n",
      "|0101020066     |APLICAÇÃO DE SELANTE (POR DENTE)                                  |1              |I      |9999              |9999               |0000     |0000           |1571           |0000000000|0000000000|0000000000|01              |          |9999                |202501        |\n",
      "|0101020074     |APLICAÇÃO TÓPICA DE FLÚOR (INDIVIDUAL POR SESSÃO)                 |1              |I      |9999              |9999               |0000     |0000           |1571           |0000000000|0000000000|0000000000|01              |          |9999                |202501        |\n",
      "|0101020082     |EVIDENCIAÇÃO DE PLACA BACTERIANA                                  |1              |I      |9999              |9999               |0000     |0000           |1571           |0000000000|0000000000|0000000000|01              |          |9999                |202501        |\n",
      "|0101020090     |SELAMENTO PROVISÓRIO DE CAVIDADE DENTÁRIA                         |1              |I      |9999              |9999               |0000     |0000           |1571           |0000000000|0000000000|0000000000|01              |          |9999                |202501        |\n",
      "|0101020104     |ORIENTAÇÃO DE HIGIENE BUCAL                                       |1              |I      |9999              |9999               |0000     |0000           |1571           |0000000000|0000000000|0000000000|01              |          |9999                |202501        |\n",
      "|0101020112     |AÇÃO COLETIVA DE PREVENÇÃO DE CÂNCER BUCAL                        |1              |I      |9999              |9999               |0000     |0120           |1571           |0000000000|0000000000|0000000000|01              |          |9999                |202501        |\n",
      "|0101020120     |ORIENTAÇÃO DE HIGIENIZAÇÃO DE PRÓTESES DENTÁRIAS                  |1              |I      |9999              |9999               |0000     |0120           |1571           |0000000000|0000000000|0000000000|01              |          |9999                |202501        |\n",
      "|0101030010     |VISITA DOMICILIAR POR PROFISSIONAL DE NÍVEL MÉDIO                 |1              |I      |9999              |9999               |0000     |0000           |1571           |0000000000|0000000000|0000000000|01              |          |9999                |202501        |\n",
      "|0101030029     |VISITA DOMICILIAR/INSTITUCIONAL POR PROFISSIONAL DE NÍVEL SUPERIOR|1              |I      |9999              |9999               |0000     |0000           |1571           |0000000000|0000000000|0000000000|01              |          |9999                |202501        |\n",
      "+---------------+------------------------------------------------------------------+---------------+-------+------------------+-------------------+---------+---------------+---------------+----------+----------+----------+----------------+----------+--------------------+--------------+\n",
      "only showing top 20 rows\n",
      "\n"
     ]
    }
   ],
   "source": [
    "df_procedimento = get_df_procedimento(\"tb_procedimento\")\n",
    "df_procedimento.show(truncate=False)\n",
    "df_procedimento.write.mode(\"overwrite\").parquet(\"s3a://datalake/raw/proc_procedimento/\")"
   ]
  },
  {
   "cell_type": "code",
   "execution_count": 67,
   "id": "37cb1e0b-5040-431f-af7e-2458763dab5a",
   "metadata": {},
   "outputs": [
    {
     "name": "stdout",
     "output_type": "stream",
     "text": [
      "+---------------+--------------------------------------------------------------------------------------------------------------------------------------------------------------------------------------------------------------------------------------------------------------------------------------------------------------------------------------------------------------------------------------------------------------------------------------------------------------------------------------------------------------------------------------------------------------------------------------------------------------------------------------------------------------------------------------------------------------------------------------------------------------+--------------+\n",
      "|co_procedimento|ds_procedimento                                                                                                                                                                                                                                                                                                                                                                                                                                                                                                                                                                                                                                                                                                                                               |dt_competencia|\n",
      "+---------------+--------------------------------------------------------------------------------------------------------------------------------------------------------------------------------------------------------------------------------------------------------------------------------------------------------------------------------------------------------------------------------------------------------------------------------------------------------------------------------------------------------------------------------------------------------------------------------------------------------------------------------------------------------------------------------------------------------------------------------------------------------------+--------------+\n",
      "|0101010010     |CONSISTE NAS ATIVIDADES EDUCATIVAS, EM GRUPO,  SOBRE AÇÕES DE PROMOÇÃO E PREVENÇÃO À SAÚDE, DESENVOLVIDAS NA UNIDADE OU NA COMUNIDADE.  RECOMENDA-SE O MÍNIMO DE 10 (DEZ) PARTICIPANTES,COM DURAÇÃO MÍNIMA  DE 30 (TRINTA) MINUTOS.DEVE-SE REGISTRAR O NÚMERO DE ATIVIDADES REALIZADAS POR MÊS                                                                                                                                                                                                                                                                                                                                                                                                                                                                |202501        |\n",
      "|0101010028     |CONSISTE NAS ATIVIDADES EDUCATIVAS SOBRE AÇÕES DE PROMOÇÃO E PREVENÇÃO À SAÚDE, DESENVOLVIDAS EM GRUPO.  RECOMENDA-SE O MÍNIMO DE 10 (DEZ) PARTICIPANTES,COM DURAÇÃO MÍNIMA  DE 30 (TRINTA) MINUTOS.DEVE-SE REGISTRAR O NÚMERO DE ATIVIDADES REALIZADAS POR MÊS.                                                                                                                                                                                                                                                                                                                                                                                                                                                                                              |202501        |\n",
      "|0101010036     |ATIVIDADE FÍSICA DESENVOLVIDA EM GRUPO POR PROFISSIONAIS QUALIFICADOS , REALIZADA NO ESTABELECIMENTO DE SAÚDE OU NA COMUNIDADE.INFORMAR NÚMERO DE ATIVIDADES REALIZADAS EM GRUPO POR MÊS.                                                                                                                                                                                                                                                                                                                                                                                                                                                                                                                                                                     |202501        |\n",
      "|0101010095     |AÇÕES COLETIVAS DE PROMOÇÃO DA SAÚDE E PREVENÇÃO DE DOENÇAS VOLTADAS À PREVENÇÃO DO NOVO CORONAVÍRUS (COVID-19) REALIZADAS NO ÂMBITO DAS ESCOLAS                                                                                                                                                                                                                                                                                                                                                                                                                                                                                                                                                                                                              |202501        |\n",
      "|0101010109     |PROMOVER OU REALIZAR EVENTOS, PALESTRAS, REUNIÕES, AULAS, OFICINAS, PEÇASTEATRAIS E DEMAIS ATIVIDADES DE DIVULGAÇÃO DE TEMAS RELACIONADOS ÀPREVENÇÃO E CONTROLE DA MALÁRIA.                                                                                                                                                                                                                                                                                                                                                                                                                                                                                                                                                                                   |202501        |\n",
      "|0101010117     |ENTENDE-SE A EDUCAÇÃO PERMANENTE EM SAÚDE DO TRABALHADOR COMO UMA ESTRATÉGIA DE FORMAÇÃO QUE INCORPORA, COMO OBJETO, OS PROBLEMAS E AS NECESSIDADES QUE SURGEM A PARTIR DO PROCESSO DE TRABALHO EM SAÚDE E QUE VISAM MUDANÇAS NESTE CONTEXTO, POR EXEMPLO, INCORPORAÇÃO DE AÇÕES DE SAÚDE DO TRABALHADOR NA ROTINA DOS SERVIÇOS DE SAÚDE NA REDE DE ATENÇÃO EM SAÚDE (RAS). ESTA AÇÃO DEVE PROMOVER A FORMAÇÃO E O DESENVOLVIMENTO DOS TRABALHADORES NO SUS, A PARTIR DOS PROBLEMAS COTIDIANOS, REFERENTES À ATENÇÃO À SAÚDE E À ORGANIZAÇÃO DO TRABALHO EM SAÚDE, ESTIMULAR O PLANEJAMENTO, EXECUÇÃO E AVALIAÇÃO DOS PROCESSOS FORMATIVOS EM SAÚDE DO TRABALHADOR. O PROCEDIMENTO A SER INFORMADO É A AÇÃO REALIZADA E NÃO O NÚMERO DE PARTICIPANTES DA AÇÃO.|202501        |\n",
      "|0101020015     |APLICAÇÃO TÓPICA DE FLÚOR EM GEL COM CONCENTRAÇÃO DE 1,23 , REALIZADA SISTEMATICAMENTE POR GRUPOS POPULACIONAIS SOB ORIENTAÇÃO E SUPERVISÃO DE UM OU MAIS PROFISSIONAIS DE SAÚDE, UTILIZANDO-SE ESCOVA DENTAL, MOLDEIRA, PINCELAMENTO OU OUTRAS FORMAS DE APLICAÇÃO. AÇÃO REGISTRADA POR PESSOA POR MÊS.                                                                                                                                                                                                                                                                                                                                                                                                                                                      |202501        |\n",
      "|0101020023     |BOCHECHO DE SOLUÇÃO FLUORETADA, REALIZADO SISTEMATICAMENTE POR GRUPOS POPULACIONAIS SOB  ORIENTAÇÃO E SUPERVISÃO DE UM OU MAIS PROFISSIONAIS DE SAÚDE, PODENDO TER PERIODICIDADE SEMANAL, CASO A  SOLUÇÃO DE FLUORETO DE SÓDIO TENHA A CONCENTRAÇÃO DE 0,2 , OU DIARIAMENTE, CASO A CONCENTRAÇÃO SEJA DE 0,05. AÇÃO REGISTRADA POR USUÁRIO PARTICIPANTE POR MÊS, INDEPENDENTE DA FREQUÊNCIA COM QUE É REALIZADA (DIÁRIA OU SEMANAL) OU DA FREQUÊNCIA COM QUE O USUÁRIO PARTICIPOU DA AÇÃO.                                                                                                                                                                                                                                                                    |202501        |\n",
      "|0101020031     |ESCOVAÇÃO DENTAL COM OU SEM EVIDENCIAÇÃO DE PLACAS BACTERIANAS. REALIZADA COM GRUPOS POPULACIONAIS SOB ORIENTAÇÃO E SUPERVISÃO DE UM OU MAIS PROFISSIONAIS DE SAÚDE. AÇÃO REGISTRADA POR USUÁRIO POR USUÁRIO PARTICIPANTE DA AÇÃO.                                                                                                                                                                                                                                                                                                                                                                                                                                                                                                                            |202501        |\n",
      "|0101020040     |COMPREENDE A AVALIAÇÃO DE ESTRUTURAS DA CAVIDADE BUCAL, COM FINALIDADE DE DIAGNÓSTICO SEGUNDO CRITÉRIOS EPIDEMIOLÓGICOS, EM ESTUDOS DE PREVALÊNCIA, INCIDÊNCIA E OUTROS, COM O OBJETIVO DE ELABORAR PERFIL EPIDEMIOLÓGICO E/OU AVALIAR O IMPACTO DAS ATIVIDADES DESENVOLVIDAS, SUBSIDIANDO O PLANEJAMENTO.                                                                                                                                                                                                                                                                                                                                                                                                                                                    |202501        |\n",
      "|0101020058     |ATIVIDADE COM FINALIDADE TERAPÊUTICA E  CONTROLE DE UM OU MAIS DENTES COM LESÕES DE CARIE.                                                                                                                                                                                                                                                                                                                                                                                                                                                                                                                                                                                                                                                                    |202501        |\n",
      "|0101020066     |APLICAÇÃO DE MATERIAL SELADOR POR DENTE EM PONTOS, SULCOS E FISSURAS, REALIZADA COM FINALIDADE PREVENTIVA DAS LESÕES DE CARIE.                                                                                                                                                                                                                                                                                                                                                                                                                                                                                                                                                                                                                                |202501        |\n",
      "|0101020074     |APLICAÇÃO TÓPICA DE FLÚOR NA FORMA DE GEL COM CONCENTRAÇÃO DE 1,23  OU NA FORMA DE VERNIZ, PODENDO USAR PINCÉIS, ESCOVA DENTAL, MOLDEIRA E OUTRAS FORMAS DE APLICAÇÕES, COM A FINALIDADE DE PREVENIR E/OU  REMINERALIZAR OS DENTES COM OU SEM LESÕES. O NUMERO DE SESSÕES DEVE SER DEFINIDO SEGUNDO PADRÕES TÉCNICO CIENTIFICO DE ABORDAGEM DO CASO E DO ACOMPANHAMENTO DO PROFISSIONAL AOS PROGRAMAS LOCAIS.                                                                                                                                                                                                                                                                                                                                                 |202501        |\n",
      "|0101020082     |UTILIZAÇÃO DE SUBSTÂNCIAS CORANTES COM A FINALIDADE DE EVIDENCIAR A PLACA BACTERIANA.                                                                                                                                                                                                                                                                                                                                                                                                                                                                                                                                                                                                                                                                         |202501        |\n",
      "|0101020090     |FECHAMENTO DE CAVIDADE COM OU SEM PRAPARO CAVITARIO PARA FINS DE RESTAURACAO, COM O OBJETIVO DE REDUCAO DA SEPTICEMIA BUCAL OU DE TERAPIA EXPECTANTE COMO ETAPA INTERMEDIARIA  ATE QUE A RESTAURACAO DEFINITIVA SEJA EXECUTADA. INCLUI-SE NESTA DENIMINACAO OS PROCEDIMENTOS CONHECIDOS COMO ADEQUACAO DO MEIO BUCAL, CONTROLE DA INFECCAO INTRA BUCAL, CONTROLE EPIDEMIOLOGICO DA CARIE E A RESTAURACAO PROVISORIA, DENTRE OUTRAS.                                                                                                                                                                                                                                                                                                                           |202501        |\n",
      "|0101020104     |CONSISTE EM ATIVIDADES DE ORIENTAÇÃO DE HIGIENE BUCAL VOLTADAS À PROMOÇÃO DO AUTOCUIDADO E MELHORIA DA CONDIÇÃO BUCAL.                                                                                                                                                                                                                                                                                                                                                                                                                                                                                                                                                                                                                                        |202501        |\n",
      "|0101020112     |CONSISTE EM ATIVIDADES COLETIVAS COM A FINALIDADE DE ELUCIDAR A POPULAÇÃO  SOBRE OS PRINCIPAIS SINTOMAS, CAUSAS E OUTROS FATORES LIGADOS AO CÂNCER DE BOCA PARA GRUPOS POPULACIONAIS, PROMOVENDO SAÚDE E PREVENINDO ESSA NEOPLASIA. GRUPOS ENTRE 5 E 20 PESSOAS.                                                                                                                                                                                                                                                                                                                                                                                                                                                                                              |202501        |\n",
      "|0101020120     |CONSISTE EM ORIENTAÇÃO PROFISSIONAL ACERCA DOS CUIDADOS COM A DESINFECÇÃO E A HIGIENIZAÇÃO DOS DIFERENTES TIPOS DE PRÓTESE, PROMOVENDO A MANUTENÇÃO DA ESTRUTURA DA PRÓTESE, ASSIM COMO EVITANDO QUE OS USUÁRIOS DESENVOLVAM AGRAVOS RELACIONADOS À MICRORGANISMOS QUE ANCORAM NA SUPERFÍCIE DAS PRÓTESES OU INTERFACE DESTA COM OS DENTES REMANESCENTES.                                                                                                                                                                                                                                                                                                                                                                                                     |202501        |\n",
      "|0101030010     |ATIVIDADE EXTERNA REALIZADA POR PROFISSIONAL AUXILIAR OU TÉCNICO DE NÍVEL MÉDIO, OBJETIVANDO A REALIZAÇÃO DE AÇÕES PARA FINS DE BUSCA ATIVA, AÇÕES DE VIGILÂNCIA, CADASTRAMENTO FAMILIAR, IDENTIFICAÇÃO, ENCAMINHAMENTO E ACOMPANHAMENTO DA POPULAÇÃO ALVO, INCLUINDO OS USUÁRIOS SOB CUIDADOS DOMICILIARES, VISANDO A CONTINUIDADE DE CUIDADOS EM AÇÃO INTEGRADA ÀS REDES DE ATENÇÃO À SAÚDE                                                                                                                                                                                                                                                                                                                                                                 |202501        |\n",
      "|0101030029     |CONSISTE NA AVALIAÇÃO PELA EQUIPE DE ATENÇÃO DOMICILIAR COM OBJETIVO DE VERIFICAR A CONDIÇÃO DO PACIENTE. CONSIDERANDO AVALIAÇÃO CLÍNICA, DO DOMICÍLIO, DO CUIDADOR E OUTRAS.                                                                                                                                                                                                                                                                                                                                                                                                                                                                                                                                                                                 |202501        |\n",
      "+---------------+--------------------------------------------------------------------------------------------------------------------------------------------------------------------------------------------------------------------------------------------------------------------------------------------------------------------------------------------------------------------------------------------------------------------------------------------------------------------------------------------------------------------------------------------------------------------------------------------------------------------------------------------------------------------------------------------------------------------------------------------------------------+--------------+\n",
      "only showing top 20 rows\n",
      "\n"
     ]
    }
   ],
   "source": [
    "df_descricao = get_df_procedimento(\"tb_descricao\")\n",
    "df_descricao.show(truncate=False)\n",
    "df_descricao.write.mode(\"overwrite\").parquet(\"s3a://datalake/raw/proc_descricao/\")"
   ]
  },
  {
   "cell_type": "code",
   "execution_count": 68,
   "id": "3588d6d1-dc56-49f7-98e0-5f5c60106b49",
   "metadata": {},
   "outputs": [
    {
     "name": "stdout",
     "output_type": "stream",
     "text": [
      "+---------------+------+------------+--------------+\n",
      "|co_procedimento|co_cid|st_principal|dt_competencia|\n",
      "+---------------+------+------------+--------------+\n",
      "|0201010038     |C73   |S           |202501        |\n",
      "|0201010038     |D093  |S           |202501        |\n",
      "|0201010038     |D34   |S           |202501        |\n",
      "|0201010038     |D440  |S           |202501        |\n",
      "|0201010046     |C211  |S           |202501        |\n",
      "|0201010046     |C218  |S           |202501        |\n",
      "|0201010046     |D013  |S           |202501        |\n",
      "|0201010046     |K626  |S           |202501        |\n",
      "|0201010046     |K629  |S           |202501        |\n",
      "|0201010062     |C670  |S           |202501        |\n",
      "|0201010062     |C671  |S           |202501        |\n",
      "|0201010062     |C672  |S           |202501        |\n",
      "|0201010062     |C673  |S           |202501        |\n",
      "|0201010062     |C674  |S           |202501        |\n",
      "|0201010062     |C675  |S           |202501        |\n",
      "|0201010062     |C678  |S           |202501        |\n",
      "|0201010062     |D090  |S           |202501        |\n",
      "|0201010062     |D303  |S           |202501        |\n",
      "|0201010062     |N300  |S           |202501        |\n",
      "|0201010062     |N301  |S           |202501        |\n",
      "+---------------+------+------------+--------------+\n",
      "only showing top 20 rows\n",
      "\n"
     ]
    }
   ],
   "source": [
    "df_rl_procedimento_cid = get_df_procedimento(\"rl_procedimento_cid\")\n",
    "df_rl_procedimento_cid.show(truncate=False)\n",
    "df_rl_procedimento_cid.write.mode(\"overwrite\").parquet(\"s3a://datalake/raw/proc_rl_procedimento_cid/\")"
   ]
  },
  {
   "cell_type": "code",
   "execution_count": 69,
   "id": "a38bd0b7-fb98-46fc-b567-686e1adf6359",
   "metadata": {},
   "outputs": [],
   "source": [
    "spark.stop()"
   ]
  }
 ],
 "metadata": {
  "kernelspec": {
   "display_name": "Python 3 (ipykernel)",
   "language": "python",
   "name": "python3"
  },
  "language_info": {
   "codemirror_mode": {
    "name": "ipython",
    "version": 3
   },
   "file_extension": ".py",
   "mimetype": "text/x-python",
   "name": "python",
   "nbconvert_exporter": "python",
   "pygments_lexer": "ipython3",
   "version": "3.11.6"
  }
 },
 "nbformat": 4,
 "nbformat_minor": 5
}
