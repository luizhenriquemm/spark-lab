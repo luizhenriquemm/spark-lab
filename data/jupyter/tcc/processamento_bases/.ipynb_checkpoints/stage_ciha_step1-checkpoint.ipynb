{
 "cells": [
  {
   "cell_type": "code",
   "execution_count": 1,
   "id": "c18934d4-566e-47d2-8223-5cadb090f6e5",
   "metadata": {},
   "outputs": [],
   "source": [
    "%run ../spark-default.py"
   ]
  },
  {
   "cell_type": "code",
   "execution_count": 2,
   "id": "6ebf9164-4c18-4a97-896b-39273eeb5053",
   "metadata": {},
   "outputs": [],
   "source": [
    "spark.conf.set(\"spark.sql.sources.partitionOverwriteMode\",\"dynamic\")"
   ]
  },
  {
   "cell_type": "code",
   "execution_count": 3,
   "id": "1bb88036-19a1-49ed-b728-6f4c233f3e9a",
   "metadata": {},
   "outputs": [
    {
     "name": "stdout",
     "output_type": "stream",
     "text": [
      "Collecting delta-spark\n",
      "  Obtaining dependency information for delta-spark from https://files.pythonhosted.org/packages/3b/d8/265a93d22ae79262cdff701496a6f5676926a342153f3855ae6060430660/delta_spark-4.0.0-py3-none-any.whl.metadata\n",
      "  Downloading delta_spark-4.0.0-py3-none-any.whl.metadata (1.9 kB)\n",
      "Collecting pyspark>=4.0.0 (from delta-spark)\n",
      "  Downloading pyspark-4.0.0.tar.gz (434.1 MB)\n",
      "\u001b[2K     \u001b[90m━━━━━━━━━━━━━━━━━━━━━━━━━━━━━━━━━━━━━━━\u001b[0m \u001b[32m434.1/434.1 MB\u001b[0m \u001b[31m3.2 MB/s\u001b[0m eta \u001b[36m0:00:00\u001b[0m00:01\u001b[0m00:01\u001b[0m\n",
      "\u001b[?25h  Preparing metadata (setup.py) ... \u001b[?25ldone\n",
      "\u001b[?25hRequirement already satisfied: importlib-metadata>=1.0.0 in /opt/conda/lib/python3.11/site-packages (from delta-spark) (6.8.0)\n",
      "Requirement already satisfied: zipp>=0.5 in /opt/conda/lib/python3.11/site-packages (from importlib-metadata>=1.0.0->delta-spark) (3.16.2)\n",
      "Collecting py4j==0.10.9.9 (from pyspark>=4.0.0->delta-spark)\n",
      "  Obtaining dependency information for py4j==0.10.9.9 from https://files.pythonhosted.org/packages/bd/db/ea0203e495be491c85af87b66e37acfd3bf756fd985f87e46fc5e3bf022c/py4j-0.10.9.9-py2.py3-none-any.whl.metadata\n",
      "  Downloading py4j-0.10.9.9-py2.py3-none-any.whl.metadata (1.3 kB)\n",
      "Downloading delta_spark-4.0.0-py3-none-any.whl (39 kB)\n",
      "Downloading py4j-0.10.9.9-py2.py3-none-any.whl (203 kB)\n",
      "\u001b[2K   \u001b[90m━━━━━━━━━━━━━━━━━━━━━━━━━━━━━━━━━━━━━━━━\u001b[0m \u001b[32m203.0/203.0 kB\u001b[0m \u001b[31m9.7 MB/s\u001b[0m eta \u001b[36m0:00:00\u001b[0m\n",
      "\u001b[?25hBuilding wheels for collected packages: pyspark\n",
      "  Building wheel for pyspark (setup.py) ... \u001b[?25ldone\n",
      "\u001b[?25h  Created wheel for pyspark: filename=pyspark-4.0.0-py2.py3-none-any.whl size=434741238 sha256=382a4c25d16b1bb2b846f49bbb394de41ac04e71f361844fa60375d1a737713a\n",
      "  Stored in directory: /home/user/.cache/pip/wheels/91/e4/c1/3c917d48563ae77204dd185aa3da90da6a1a5526565296dadf\n",
      "Successfully built pyspark\n",
      "Installing collected packages: py4j, pyspark, delta-spark\n",
      "  Attempting uninstall: pyspark\n",
      "    Found existing installation: pyspark 3.4.1\n",
      "    Can't uninstall 'pyspark'. No files were found to uninstall.\n",
      "Successfully installed delta-spark-4.0.0 py4j-0.10.9.9 pyspark-4.0.0\n",
      "Note: you may need to restart the kernel to use updated packages.\n"
     ]
    }
   ],
   "source": [
    "pip install delta-spark"
   ]
  },
  {
   "cell_type": "code",
   "execution_count": 3,
   "id": "2bce1639-5960-40d0-9a71-02df3629a3cd",
   "metadata": {},
   "outputs": [],
   "source": [
    "import builtins as b\n",
    "from datetime import datetime, timedelta, date\n",
    "import sys, traceback\n",
    "from delta.tables import DeltaTable\n",
    "\n",
    "import pandas as pd\n",
    "import numpy as np\n",
    "import matplotlib.pyplot as plt"
   ]
  },
  {
   "cell_type": "code",
   "execution_count": 12,
   "id": "45f9bd4e-57f6-4cd5-8b99-d1111d2d6d2f",
   "metadata": {},
   "outputs": [
    {
     "name": "stdout",
     "output_type": "stream",
     "text": [
      "root\n",
      " |-- mes_cmpt: string (nullable = true)\n",
      " |-- espec: string (nullable = true)\n",
      " |-- cgc_hosp: string (nullable = true)\n",
      " |-- munic_res: string (nullable = true)\n",
      " |-- nasc: date (nullable = true)\n",
      " |-- sexo: string (nullable = true)\n",
      " |-- uti_mes_to: string (nullable = true)\n",
      " |-- uti_int_to: string (nullable = true)\n",
      " |-- proc_rea: string (nullable = true)\n",
      " |-- qt_proc: string (nullable = true)\n",
      " |-- dt_atend: date (nullable = true)\n",
      " |-- dt_saida: date (nullable = true)\n",
      " |-- diag_princ: string (nullable = true)\n",
      " |-- diag_secun: string (nullable = true)\n",
      " |-- cobranca: string (nullable = true)\n",
      " |-- natureza: string (nullable = true)\n",
      " |-- gestao: string (nullable = true)\n",
      " |-- munic_mov: string (nullable = true)\n",
      " |-- cod_idade: string (nullable = true)\n",
      " |-- idade: string (nullable = true)\n",
      " |-- dias_perm: string (nullable = true)\n",
      " |-- morte: string (nullable = true)\n",
      " |-- nacional: string (nullable = true)\n",
      " |-- car_int: string (nullable = true)\n",
      " |-- homonimo: string (nullable = true)\n",
      " |-- cnes: string (nullable = true)\n",
      " |-- fonte: string (nullable = true)\n",
      " |-- cgc_consor: string (nullable = true)\n",
      " |-- modalidade: string (nullable = true)\n",
      " |-- input_file_name: string (nullable = true)\n",
      " |-- estado_uf: string (nullable = true)\n",
      " |-- ano_cmpt: integer (nullable = true)\n",
      " |-- pk: string (nullable = true)\n",
      "\n",
      "+--------+-----+--------------+---------+----------+----+----------+----------+----------+-------+----------+----------+----------+----------+--------+--------+------+---------+---------+-----+---------+-----+--------+-------+--------+-------+-----+--------------+----------+--------------------+---------+--------+--------------------+\n",
      "|mes_cmpt|espec|      cgc_hosp|munic_res|      nasc|sexo|uti_mes_to|uti_int_to|  proc_rea|qt_proc|  dt_atend|  dt_saida|diag_princ|diag_secun|cobranca|natureza|gestao|munic_mov|cod_idade|idade|dias_perm|morte|nacional|car_int|homonimo|   cnes|fonte|    cgc_consor|modalidade|     input_file_name|estado_uf|ano_cmpt|                  pk|\n",
      "+--------+-----+--------------+---------+----------+----+----------+----------+----------+-------+----------+----------+----------+----------+--------+--------+------+---------+---------+-----+---------+-----+--------+-------+--------+-------+-----+--------------+----------+--------------------+---------+--------+--------------------+\n",
      "|      10| null|60194990000763|   354990|1987-12-23|   3|         0|       000|0301040001|      1|2020-10-04|2020-10-05|      O034|      null|      12|    null|     M|   354990|        4|   32|        1|    0|    null|   null|    null|0009539|   06|00000000000000|        02|s3a://datalake/so...|       SP|    2020|2d1eef5e-6bac-454...|\n",
      "|      10| null|60194990000763|   352440|1934-02-14|   1|         0|       000|0301040001|      1|2020-10-04|2020-10-10|      J158|      null|      12|    null|     M|   354990|        4|   86|        6|    0|    null|   null|    null|0009539|   09|00000000000000|        02|s3a://datalake/so...|       SP|    2020|28d536a7-f92b-4c3...|\n",
      "|      10| null|60194990000763|   354990|1998-09-08|   3|         0|       000|0310010004|      1|2020-10-04|2020-10-06|      O828|      null|      61|    null|     M|   354990|        4|   22|        2|    0|    null|   null|    null|0009539|   01|00000000000000|        02|s3a://datalake/so...|       SP|    2020|0d0318db-26b7-48d...|\n",
      "|      10| null|60194990000763|   354990|1955-12-09|   3|         0|       000|0301040001|      1|2020-10-04|2020-10-07|      M549|      null|      12|    null|     M|   354990|        4|   64|        3|    0|    null|   null|    null|0009539|   09|00000000000000|        02|s3a://datalake/so...|       SP|    2020|7d776854-478b-4fa...|\n",
      "|      10| null|60194990000763|   354230|2003-07-18|   1|         0|       000|0301040001|      1|2020-10-05|2020-10-05|      Q173|      null|      12|    null|     M|   354990|        4|   17|        0|    0|    null|   null|    null|0009539|   02|00000000000000|        02|s3a://datalake/so...|       SP|    2020|1036e4f5-5810-4b6...|\n",
      "|      10| null|60194990000763|   354990|1975-01-20|   3|         0|       000|0301040001|      1|2020-10-13|2020-10-14|      K802|      null|      12|    null|     M|   354990|        4|   45|        1|    0|    null|   null|    null|0009539|   01|00000000000000|        02|s3a://datalake/so...|       SP|    2020|bc28fa05-ce04-4a4...|\n",
      "|      10| null|60194990000763|   354990|1992-04-21|   3|         0|       000|0310010004|      1|2020-10-05|2020-10-07|      O829|      null|      61|    null|     M|   354990|        4|   28|        2|    0|    null|   null|    null|0009539|   02|00000000000000|        02|s3a://datalake/so...|       SP|    2020|d19ba9f7-2ae3-4ed...|\n",
      "|      10| null|60194990000763|   352440|2020-09-15|   1|         0|       000|0211070149|      1|2020-10-05|2020-10-05|      Z000|      null|      18|    null|     M|   354990|        2|   00|        0|    0|    null|   null|    null|0009539|   01|00000000000000|        01|s3a://datalake/so...|       SP|    2020|587a798e-161e-4a2...|\n",
      "|      10| null|60194990000763|   354990|1994-03-25|   3|         0|       000|0205020160|      1|2020-10-05|2020-10-05|      Z000|      null|      18|    null|     M|   354990|        4|   26|        0|    0|    null|   null|    null|0009539|   09|00000000000000|        01|s3a://datalake/so...|       SP|    2020|1cf176f3-fef5-4b5...|\n",
      "|      10| null|60194990000763|   354990|1977-09-26|   3|         0|       000|0205020160|      1|2020-10-05|2020-10-05|      Z000|      null|      18|    null|     M|   354990|        4|   43|        0|    0|    null|   null|    null|0009539|   02|00000000000000|        01|s3a://datalake/so...|       SP|    2020|59e41675-16cc-4d5...|\n",
      "|      10| null|60194990000763|   354990|1995-05-15|   3|         0|       000|0310010004|      1|2020-10-05|2020-10-07|      O828|      null|      61|    null|     M|   354990|        4|   25|        2|    0|    null|   null|    null|0009539|   02|00000000000000|        02|s3a://datalake/so...|       SP|    2020|141318f9-fccb-4c5...|\n",
      "|      10| null|60194990000763|   354990|1941-03-16|   3|         0|       000|0301040001|      1|2020-10-05|2020-10-07|      N390|      null|      12|    null|     M|   354990|        4|   79|        2|    0|    null|   null|    null|0009539|   09|00000000000000|        02|s3a://datalake/so...|       SP|    2020|f379314b-30bb-415...|\n",
      "|      10| null|60194990000763|   354990|1984-04-17|   3|         0|       000|0205020054|      1|2020-10-05|2020-10-05|      Z000|      null|      18|    null|     M|   354990|        4|   36|        0|    0|    null|   null|    null|0009539|   02|00000000000000|        01|s3a://datalake/so...|       SP|    2020|d4dfc984-49c1-4f2...|\n",
      "|      10| null|60194990000763|   354990|1942-02-14|   1|         0|       002|0301040001|      1|2020-10-05|2020-10-08|      J189|      null|      41|    null|     M|   354990|        4|   78|        3|    1|    null|   null|    null|0009539|   09|00000000000000|        02|s3a://datalake/so...|       SP|    2020|2b4c08e8-d203-476...|\n",
      "|      10| null|60194990000763|   354990|1980-12-23|   3|         0|       000|0301040001|      1|2020-10-06|2020-10-07|      Z429|      null|      12|    null|     M|   354990|        4|   39|        1|    0|    null|   null|    null|0009539|   02|00000000000000|        02|s3a://datalake/so...|       SP|    2020|143e504e-44c5-4f6...|\n",
      "|      10| null|60194990000763|   352440|1995-10-20|   3|         0|       000|0310010004|      1|2020-10-06|2020-10-09|      O828|      null|      61|    null|     M|   354990|        4|   24|        3|    0|    null|   null|    null|0009539|   01|00000000000000|        02|s3a://datalake/so...|       SP|    2020|8447bc43-7a93-437...|\n",
      "|      10| null|60194990000763|   354990|2010-05-22|   1|         0|       000|0301040001|      1|2020-10-14|2020-10-14|      Z540|      null|      12|    null|     M|   354990|        4|   10|        0|    0|    null|   null|    null|0009539|   02|00000000000000|        02|s3a://datalake/so...|       SP|    2020|c6217414-2ac4-455...|\n",
      "|      10| null|60194990000763|   354990|1989-09-17|   3|         0|       000|0301040001|      1|2020-10-23|2020-10-23|      L989|      null|      12|    null|     M|   354990|        4|   31|        0|    0|    null|   null|    null|0009539|   01|00000000000000|        02|s3a://datalake/so...|       SP|    2020|9ea75d29-f90c-404...|\n",
      "|      10| null|60194990000763|   352440|1983-05-21|   3|         0|       000|0301040001|      1|2020-10-15|2020-10-15|      J342|      null|      12|    null|     M|   354990|        4|   37|        0|    0|    null|   null|    null|0009539|   02|00000000000000|        02|s3a://datalake/so...|       SP|    2020|a4f89461-9d9c-412...|\n",
      "|      10| null|60194990000763|   354990|2020-10-02|   3|         0|       000|0301040001|      1|2020-10-04|2020-10-06|      P050|      null|      12|    null|     M|   354990|        2|   00|        2|    0|    null|   null|    null|0009539|   09|00000000000000|        02|s3a://datalake/so...|       SP|    2020|4771a35e-390f-494...|\n",
      "+--------+-----+--------------+---------+----------+----+----------+----------+----------+-------+----------+----------+----------+----------+--------+--------+------+---------+---------+-----+---------+-----+--------+-------+--------+-------+-----+--------------+----------+--------------------+---------+--------+--------------------+\n",
      "\n"
     ]
    }
   ],
   "source": [
    "ciha = spark.table(\"stage.ciha\").filter(\"dt_atend is not null and diag_princ is not null and munic_res is not null\")\n",
    "\n",
    "ciha.printSchema()\n",
    "\n",
    "# print(ciha.count())\n",
    "\n",
    "ciha.limit(20).show()"
   ]
  },
  {
   "cell_type": "code",
   "execution_count": 6,
   "id": "c11434fa-4197-4b9c-adcb-590b687d3cc9",
   "metadata": {},
   "outputs": [
    {
     "data": {
      "text/plain": [
       "147825012"
      ]
     },
     "execution_count": 6,
     "metadata": {},
     "output_type": "execute_result"
    }
   ],
   "source": [
    "ciha.count()"
   ]
  },
  {
   "cell_type": "code",
   "execution_count": 5,
   "id": "a9d4e09c-e4c7-426a-a0c7-4446a76303a5",
   "metadata": {},
   "outputs": [
    {
     "name": "stdout",
     "output_type": "stream",
     "text": [
      "root\n",
      " |-- uf: string (nullable = true)\n",
      " |-- nome_uf: string (nullable = true)\n",
      " |-- regiao_geografica_intermediaria: string (nullable = true)\n",
      " |-- nome_regiao_geografica_intermediaria: string (nullable = true)\n",
      " |-- nome_regiao_geografica_imediata: string (nullable = true)\n",
      " |-- mesorregiao_geografica: string (nullable = true)\n",
      " |-- nome_mesorregiao: string (nullable = true)\n",
      " |-- microrregiao_geografica: string (nullable = true)\n",
      " |-- nome_microrregiao: string (nullable = true)\n",
      " |-- municipio: string (nullable = true)\n",
      " |-- cod_municipio_completo: string (nullable = true)\n",
      " |-- nome_municipio: string (nullable = true)\n",
      " |-- cod_municipio: string (nullable = true)\n",
      "\n",
      "5570\n",
      "+---+--------+-------------------------------+------------------------------------+-------------------------------+----------------------+-----------------+-----------------------+-----------------+---------+----------------------+--------------------+-------------+\n",
      "| uf| nome_uf|regiao_geografica_intermediaria|nome_regiao_geografica_intermediaria|nome_regiao_geografica_imediata|mesorregiao_geografica| nome_mesorregiao|microrregiao_geografica|nome_microrregiao|municipio|cod_municipio_completo|      nome_municipio|cod_municipio|\n",
      "+---+--------+-------------------------------+------------------------------------+-------------------------------+----------------------+-----------------+-----------------------+-----------------+---------+----------------------+--------------------+-------------+\n",
      "| 11|Rondônia|                           1102|                           Ji-Paraná|                         Cacoal|                    02|Leste Rondoniense|                    006|           Cacoal|    00015|               1100015|Alta Floresta D'O...|       110001|\n",
      "| 11|Rondônia|                           1102|                           Ji-Paraná|                         Cacoal|                    02|Leste Rondoniense|                    006|           Cacoal|    00379|               1100379|Alto Alegre dos P...|       110037|\n",
      "| 11|Rondônia|                           1101|                         Porto Velho|                      Ariquemes|                    02|Leste Rondoniense|                    003|        Ariquemes|    00403|               1100403|        Alto Paraíso|       110040|\n",
      "| 11|Rondônia|                           1102|                           Ji-Paraná|                      Ji-Paraná|                    02|Leste Rondoniense|                    005| Alvorada D'Oeste|    00346|               1100346|    Alvorada D'Oeste|       110034|\n",
      "| 11|Rondônia|                           1101|                         Porto Velho|                      Ariquemes|                    02|Leste Rondoniense|                    003|        Ariquemes|    00023|               1100023|           Ariquemes|       110002|\n",
      "| 11|Rondônia|                           1101|                         Porto Velho|                      Ariquemes|                    01|  Madeira-Guaporé|                    001|      Porto Velho|    00452|               1100452|             Buritis|       110045|\n",
      "| 11|Rondônia|                           1102|                           Ji-Paraná|                        Vilhena|                    02|Leste Rondoniense|                    008|Colorado do Oeste|    00031|               1100031|              Cabixi|       110003|\n",
      "| 11|Rondônia|                           1101|                         Porto Velho|                      Ariquemes|                    02|Leste Rondoniense|                    003|        Ariquemes|    00601|               1100601|         Cacaulândia|       110060|\n",
      "| 11|Rondônia|                           1102|                           Ji-Paraná|                         Cacoal|                    02|Leste Rondoniense|                    006|           Cacoal|    00049|               1100049|              Cacoal|       110004|\n",
      "| 11|Rondônia|                           1101|                         Porto Velho|                      Ariquemes|                    01|  Madeira-Guaporé|                    001|      Porto Velho|    00700|               1100700|Campo Novo de Ron...|       110070|\n",
      "| 11|Rondônia|                           1101|                         Porto Velho|                    Porto Velho|                    01|  Madeira-Guaporé|                    001|      Porto Velho|    00809|               1100809|  Candeias do Jamari|       110080|\n",
      "| 11|Rondônia|                           1102|                           Ji-Paraná|                         Cacoal|                    02|Leste Rondoniense|                    006|           Cacoal|    00908|               1100908|        Castanheiras|       110090|\n",
      "| 11|Rondônia|                           1102|                           Ji-Paraná|                        Vilhena|                    02|Leste Rondoniense|                    008|Colorado do Oeste|    00056|               1100056|          Cerejeiras|       110005|\n",
      "| 11|Rondônia|                           1102|                           Ji-Paraná|                        Vilhena|                    02|Leste Rondoniense|                    007|          Vilhena|    00924|               1100924|         Chupinguaia|       110092|\n",
      "| 11|Rondônia|                           1102|                           Ji-Paraná|                        Vilhena|                    02|Leste Rondoniense|                    008|Colorado do Oeste|    00064|               1100064|   Colorado do Oeste|       110006|\n",
      "| 11|Rondônia|                           1102|                           Ji-Paraná|                        Vilhena|                    02|Leste Rondoniense|                    008|Colorado do Oeste|    00072|               1100072|          Corumbiara|       110007|\n",
      "| 11|Rondônia|                           1102|                           Ji-Paraná|                      Ji-Paraná|                    01|  Madeira-Guaporé|                    002|    Guajará-Mirim|    00080|               1100080|       Costa Marques|       110008|\n",
      "| 11|Rondônia|                           1101|                         Porto Velho|                      Ariquemes|                    01|  Madeira-Guaporé|                    001|      Porto Velho|    00940|               1100940|             Cujubim|       110094|\n",
      "| 11|Rondônia|                           1102|                           Ji-Paraná|                         Cacoal|                    02|Leste Rondoniense|                    006|           Cacoal|    00098|               1100098|     Espigão D'Oeste|       110009|\n",
      "| 11|Rondônia|                           1101|                         Porto Velho|                           Jaru|                    02|Leste Rondoniense|                    004|        Ji-Paraná|    01005|               1101005|Governador Jorge ...|       110100|\n",
      "+---+--------+-------------------------------+------------------------------------+-------------------------------+----------------------+-----------------+-----------------------+-----------------+---------+----------------------+--------------------+-------------+\n",
      "only showing top 20 rows\n",
      "\n"
     ]
    }
   ],
   "source": [
    "municipios = spark.table(\"stage.municipios\")\n",
    "\n",
    "municipios.printSchema()\n",
    "\n",
    "print(municipios.count())\n",
    "\n",
    "municipios.show()"
   ]
  },
  {
   "cell_type": "code",
   "execution_count": 6,
   "id": "bef55a35-80e9-4aa3-934d-67ae7c10d0bf",
   "metadata": {},
   "outputs": [
    {
     "name": "stdout",
     "output_type": "stream",
     "text": [
      "root\n",
      " |-- cod_uf: string (nullable = true)\n",
      " |-- nome_uf: string (nullable = true)\n",
      " |-- regiao: string (nullable = true)\n",
      " |-- sigla: string (nullable = true)\n",
      "\n",
      "27\n",
      "+------+-------------------+--------+-----+\n",
      "|cod_uf|            nome_uf|  regiao|sigla|\n",
      "+------+-------------------+--------+-----+\n",
      "|    11|           Rondônia|   Norte|   RO|\n",
      "|    12|               Acre|   Norte|   AC|\n",
      "|    13|           Amazonas|   Norte|   AM|\n",
      "|    14|            Roraima|   Norte|   RR|\n",
      "|    15|               Pará|   Norte|   PA|\n",
      "|    16|              Amapá|   Norte|   AP|\n",
      "|    17|          Tocantins|   Norte|   TO|\n",
      "|    21|           Maranhão|Nordeste|   MA|\n",
      "|    22|              Piauí|Nordeste|   PI|\n",
      "|    23|              Ceará|Nordeste|   CE|\n",
      "|    24|Rio Grande do Norte|Nordeste|   RN|\n",
      "|    25|            Paraíba|Nordeste|   PB|\n",
      "|    26|         Pernambuco|Nordeste|   PE|\n",
      "|    27|            Alagoas|Nordeste|   AL|\n",
      "|    28|            Sergipe|Nordeste|   SE|\n",
      "|    29|              Bahia|Nordeste|   BA|\n",
      "|    31|       Minas Gerais| Sudeste|   MG|\n",
      "|    32|     Espírito Santo| Sudeste|   ES|\n",
      "|    33|     Rio de Janeiro| Sudeste|   RJ|\n",
      "|    35|          São Paulo| Sudeste|   SP|\n",
      "+------+-------------------+--------+-----+\n",
      "only showing top 20 rows\n",
      "\n"
     ]
    }
   ],
   "source": [
    "estados = spark.table(\"stage.estados\")\n",
    "\n",
    "estados.printSchema()\n",
    "\n",
    "print(estados.count())\n",
    "\n",
    "estados.show()"
   ]
  },
  {
   "cell_type": "code",
   "execution_count": 7,
   "id": "73f41800-bf25-4dd0-957b-9f7dce2e33dd",
   "metadata": {},
   "outputs": [
    {
     "name": "stdout",
     "output_type": "stream",
     "text": [
      "root\n",
      " |-- cod_municipio: string (nullable = true)\n",
      " |-- idhm_2010: string (nullable = true)\n",
      "\n",
      "5564\n",
      "+-------------+---------+\n",
      "|cod_municipio|idhm_2010|\n",
      "+-------------+---------+\n",
      "|       110001|    0.641|\n",
      "|       110002|    0.702|\n",
      "|       110003|     0.65|\n",
      "|       110004|    0.718|\n",
      "|       110005|    0.692|\n",
      "|       110006|    0.685|\n",
      "|       110007|    0.613|\n",
      "|       110008|    0.611|\n",
      "|       110009|    0.672|\n",
      "|       110010|    0.657|\n",
      "|       110011|    0.689|\n",
      "|       110012|    0.714|\n",
      "|       110013|    0.596|\n",
      "|       110014|    0.643|\n",
      "|       110015|    0.682|\n",
      "|       110018|     0.71|\n",
      "|       110020|    0.736|\n",
      "|       110025|    0.664|\n",
      "|       110026|    0.643|\n",
      "|       110028|      0.7|\n",
      "+-------------+---------+\n",
      "only showing top 20 rows\n",
      "\n"
     ]
    }
   ],
   "source": [
    "idhm = spark.table(\"stage.idhm\")\n",
    "\n",
    "idhm.printSchema()\n",
    "\n",
    "print(idhm.count())\n",
    "\n",
    "idhm.show()"
   ]
  },
  {
   "cell_type": "code",
   "execution_count": 8,
   "id": "7416718d-8960-4234-a109-c910774b7041",
   "metadata": {},
   "outputs": [
    {
     "name": "stdout",
     "output_type": "stream",
     "text": [
      "root\n",
      " |-- cod_municipio: string (nullable = true)\n",
      " |-- populacao_residente: string (nullable = true)\n",
      " |-- area_unidade_territorial: string (nullable = true)\n",
      "\n",
      "5564\n",
      "+-------------+-------------------+------------------------+\n",
      "|cod_municipio|populacao_residente|area_unidade_territorial|\n",
      "+-------------+-------------------+------------------------+\n",
      "|       110001|              24392|                7067.025|\n",
      "|       110002|              90353|                4426.571|\n",
      "|       110003|               6313|                1314.362|\n",
      "|       110004|              78574|                3792.801|\n",
      "|       110005|              17029|                  2783.3|\n",
      "|       110006|              18591|                1451.061|\n",
      "|       110007|               8783|                3060.321|\n",
      "|       110008|              13678|                4987.177|\n",
      "|       110009|              28729|                4518.034|\n",
      "|       110010|              41656|               24855.724|\n",
      "|       110011|              52005|                2944.128|\n",
      "|       110012|             116610|                6896.738|\n",
      "|       110013|              31135|                8509.314|\n",
      "|       110014|              19874|                1703.008|\n",
      "|       110015|              37928|                 1969.85|\n",
      "|       110018|              33822|                6240.932|\n",
      "|       110020|             428527|               34096.388|\n",
      "|       110025|              22319|                1758.465|\n",
      "|       110026|               3316|                 1717.64|\n",
      "|       110028|              50648|                1457.888|\n",
      "+-------------+-------------------+------------------------+\n",
      "only showing top 20 rows\n",
      "\n"
     ]
    }
   ],
   "source": [
    "ibge = spark.table(\"stage.ibge\")\n",
    "\n",
    "ibge.printSchema()\n",
    "\n",
    "print(ibge.count())\n",
    "\n",
    "ibge.show()"
   ]
  },
  {
   "cell_type": "code",
   "execution_count": 9,
   "id": "d5c2da03-49d6-465a-92aa-49ed10126764",
   "metadata": {},
   "outputs": [
    {
     "name": "stdout",
     "output_type": "stream",
     "text": [
      "root\n",
      " |-- data: string (nullable = true)\n",
      " |-- nome: string (nullable = true)\n",
      " |-- tipo: string (nullable = true)\n",
      " |-- descricao: string (nullable = true)\n",
      " |-- uf: string (nullable = true)\n",
      " |-- municipio: string (nullable = true)\n",
      " |-- cod_municipio: string (nullable = true)\n",
      "\n",
      "154698\n",
      "+----------+--------------------+---------+--------------------+---+----------------+-------------+\n",
      "|      data|                nome|     tipo|           descricao| uf|       municipio|cod_municipio|\n",
      "+----------+--------------------+---------+--------------------+---+----------------+-------------+\n",
      "|2014-04-28|   Feriado Municipal|MUNICIPAL|                null| AC|     Acrelândia |       120001|\n",
      "|2014-09-06|   Feriado Municipal|MUNICIPAL|                null| AC|     Acrelândia |       120001|\n",
      "|2014-05-14|   Feriado Municipal|MUNICIPAL|                null| AC|   Assis Brasil |       120005|\n",
      "|2014-05-31|   Feriado Municipal|MUNICIPAL|                null| AC|   Assis Brasil |       120005|\n",
      "|2014-08-15|   Feriado Municipal|MUNICIPAL|                null| AC|   Assis Brasil |       120005|\n",
      "|2014-07-03|   Feriado Municipal|MUNICIPAL|                null| AC|      Brasiléia |       120010|\n",
      "|2014-09-06|   Feriado Municipal|MUNICIPAL|                null| AC|      Brasiléia |       120010|\n",
      "|2014-09-06|   Feriado Municipal|MUNICIPAL|                null| AC|         Bujari |       120013|\n",
      "|2014-09-06|   Feriado Municipal|MUNICIPAL|                null| AC|       Capixaba |       120017|\n",
      "|2014-08-15| Nossa Sra da Glória|MUNICIPAL|Nossa Senhora da ...| AC|Cruzeiro do Sul |       430620|\n",
      "|2014-08-15| Nossa Sra da Glória|MUNICIPAL|Nossa Senhora da ...| AC|Cruzeiro do Sul |       410670|\n",
      "|2014-08-15| Nossa Sra da Glória|MUNICIPAL|Nossa Senhora da ...| AC|Cruzeiro do Sul |       120020|\n",
      "|2014-09-28|Aniversário da Ci...|MUNICIPAL|Aniversário de Cr...| AC|Cruzeiro do Sul |       430620|\n",
      "|2014-09-28|Aniversário da Ci...|MUNICIPAL|Aniversário de Cr...| AC|Cruzeiro do Sul |       410670|\n",
      "|2014-09-28|Aniversário da Ci...|MUNICIPAL|Aniversário de Cr...| AC|Cruzeiro do Sul |       120020|\n",
      "|2014-04-28|   Feriado Municipal|MUNICIPAL|                null| AC| Epitaciolândia |       120025|\n",
      "|2014-09-06|   Feriado Municipal|MUNICIPAL|                null| AC| Epitaciolândia |       120025|\n",
      "|2014-06-27|Dia da Padroeira ...|MUNICIPAL|Homenagem a Nossa...| AC|          Feijó |       120030|\n",
      "|2014-09-06|   Feriado Municipal|MUNICIPAL|                null| AC|          Feijó |       120030|\n",
      "|2014-12-21|   Feriado Municipal|MUNICIPAL|                null| AC|          Feijó |       120030|\n",
      "+----------+--------------------+---------+--------------------+---+----------------+-------------+\n",
      "only showing top 20 rows\n",
      "\n"
     ]
    }
   ],
   "source": [
    "feriados = spark.table(\"stage.feriados\")\n",
    "\n",
    "feriados.printSchema()\n",
    "\n",
    "print(feriados.count())\n",
    "\n",
    "feriados.show()"
   ]
  },
  {
   "cell_type": "code",
   "execution_count": 10,
   "id": "93b56475-6d6f-4d80-95e6-68a0e91b792b",
   "metadata": {},
   "outputs": [],
   "source": [
    "# ------------------------"
   ]
  },
  {
   "cell_type": "code",
   "execution_count": 34,
   "id": "87706165-1ec6-4603-8113-611ee623e3a3",
   "metadata": {},
   "outputs": [],
   "source": [
    "# Join para feriados exatos\n",
    "\n",
    "ciha_fer_1 = ciha.alias(\"c\") \\\n",
    "                .join(\n",
    "                    feriados.filter(\"tipo = 'MUNICIPAL'\").alias(\"f\"),\n",
    "                    [\n",
    "                        col(\"c.dt_atend\") == col(\"f.data\"),\n",
    "                        col(\"c.munic_res\") == col(\"f.cod_municipio\")\n",
    "                    ],\n",
    "                    \"left\"\n",
    "                ) \\\n",
    "                .select(\n",
    "                    *[col(x).alias(x) for x in ciha.columns],\n",
    "                    col(\"f.nome\").alias(\"feriado_mun_nome\"),\n",
    "                    col(\"f.tipo\").alias(\"feriado_mun_tipo\"),\n",
    "                    col(\"f.descricao\").alias(\"feriado_mun_descricao\"),\n",
    "                    col(\"f.uf\").alias(\"feriado_mun_uf\"),\n",
    "                    col(\"f.municipio\").alias(\"feriado_mun_municipio\")\n",
    "                ) \\\n",
    "                .groupBy(\"pk\").agg(\n",
    "                    *[first(x).alias(x) for x in ciha.drop(\"pk\").columns],\n",
    "                    collect_set(\n",
    "                        struct(\n",
    "                            col(\"feriado_mun_nome\"),\n",
    "                            col(\"feriado_mun_tipo\"),\n",
    "                            col(\"feriado_mun_descricao\"),\n",
    "                            col(\"feriado_mun_uf\"),\n",
    "                            col(\"feriado_mun_municipio\")\n",
    "                        )\n",
    "                    ).alias(\"feriado_mun\")\n",
    "                )\n",
    "\n",
    "ciha_fer_2 = ciha_fer_1.alias(\"c\") \\\n",
    "                .join(\n",
    "                    feriados.filter(\"tipo = 'ESTADUAL'\").alias(\"f\"),\n",
    "                    [\n",
    "                        col(\"c.dt_atend\") == col(\"f.data\"),\n",
    "                        col(\"c.estado_uf\") == col(\"f.uf\")\n",
    "                    ],\n",
    "                    \"left\"\n",
    "                ) \\\n",
    "                .select(\n",
    "                    *[col(x).alias(x) for x in ciha_fer_1.columns],\n",
    "                    col(\"f.nome\").alias(\"feriado_est_nome\"),\n",
    "                    col(\"f.tipo\").alias(\"feriado_est_tipo\"),\n",
    "                    col(\"f.descricao\").alias(\"feriado_est_descricao\"),\n",
    "                    col(\"f.uf\").alias(\"feriado_est_uf\"),\n",
    "                    col(\"f.municipio\").alias(\"feriado_est_municipio\")\n",
    "                ) \\\n",
    "                .groupBy(\"pk\").agg(\n",
    "                    *[first(x).alias(x) for x in ciha_fer_1.drop(\"pk\").columns],\n",
    "                    collect_set(\n",
    "                        struct(\n",
    "                            col(\"feriado_est_nome\"),\n",
    "                            col(\"feriado_est_tipo\"),\n",
    "                            col(\"feriado_est_descricao\"),\n",
    "                            col(\"feriado_est_uf\"),\n",
    "                            col(\"feriado_est_municipio\")\n",
    "                        )\n",
    "                    ).alias(\"feriado_est\")\n",
    "                ) \n",
    "\n",
    "ciha_fer_3 = ciha_fer_2.alias(\"c\") \\\n",
    "                .join(\n",
    "                    feriados.filter(\"tipo in ('FACULTATIVO', 'NACIONAL')\").alias(\"f\"),\n",
    "                    [\n",
    "                        col(\"c.dt_atend\") == col(\"f.data\")\n",
    "                    ],\n",
    "                    \"left\"\n",
    "                ) \\\n",
    "                .select(\n",
    "                    *[col(x).alias(x) for x in ciha_fer_2.columns],\n",
    "                    col(\"f.nome\").alias(\"feriado_nac_nome\"),\n",
    "                    col(\"f.tipo\").alias(\"feriado_nac_tipo\"),\n",
    "                    col(\"f.descricao\").alias(\"feriado_nac_descricao\"),\n",
    "                    col(\"f.uf\").alias(\"feriado_nac_uf\"),\n",
    "                    col(\"f.municipio\").alias(\"feriado_nac_municipio\")\n",
    "                ) \\\n",
    "                .groupBy(\"pk\").agg(\n",
    "                    *[first(x).alias(x) for x in ciha_fer_2.drop(\"pk\").columns],\n",
    "                    collect_set(\n",
    "                        struct(\n",
    "                            col(\"feriado_nac_nome\"),\n",
    "                            col(\"feriado_nac_tipo\"),\n",
    "                            col(\"feriado_nac_descricao\"),\n",
    "                            col(\"feriado_nac_uf\"),\n",
    "                            col(\"feriado_nac_municipio\")\n",
    "                        )\n",
    "                    ).alias(\"feriado_nac\")\n",
    "                )\n",
    "\n",
    "ciha_fer_3.write.format(\"parquet\").mode(\"overwrite\").save(\"s3a://datalake/temp/ciha_fer_exatos/\")"
   ]
  },
  {
   "cell_type": "code",
   "execution_count": 5,
   "id": "28d95cf4-a025-4803-8089-a06454dbf595",
   "metadata": {},
   "outputs": [
    {
     "name": "stdout",
     "output_type": "stream",
     "text": [
      "root\n",
      " |-- pk: string (nullable = true)\n",
      " |-- mes_cmpt: string (nullable = true)\n",
      " |-- espec: string (nullable = true)\n",
      " |-- cgc_hosp: string (nullable = true)\n",
      " |-- munic_res: string (nullable = true)\n",
      " |-- nasc: date (nullable = true)\n",
      " |-- sexo: string (nullable = true)\n",
      " |-- uti_mes_to: string (nullable = true)\n",
      " |-- uti_int_to: string (nullable = true)\n",
      " |-- proc_rea: string (nullable = true)\n",
      " |-- qt_proc: string (nullable = true)\n",
      " |-- dt_atend: date (nullable = true)\n",
      " |-- dt_saida: date (nullable = true)\n",
      " |-- diag_princ: string (nullable = true)\n",
      " |-- diag_secun: string (nullable = true)\n",
      " |-- cobranca: string (nullable = true)\n",
      " |-- natureza: string (nullable = true)\n",
      " |-- gestao: string (nullable = true)\n",
      " |-- munic_mov: string (nullable = true)\n",
      " |-- cod_idade: string (nullable = true)\n",
      " |-- idade: string (nullable = true)\n",
      " |-- dias_perm: string (nullable = true)\n",
      " |-- morte: string (nullable = true)\n",
      " |-- nacional: string (nullable = true)\n",
      " |-- car_int: string (nullable = true)\n",
      " |-- homonimo: string (nullable = true)\n",
      " |-- cnes: string (nullable = true)\n",
      " |-- fonte: string (nullable = true)\n",
      " |-- cgc_consor: string (nullable = true)\n",
      " |-- modalidade: string (nullable = true)\n",
      " |-- input_file_name: string (nullable = true)\n",
      " |-- estado_uf: string (nullable = true)\n",
      " |-- ano_cmpt: integer (nullable = true)\n",
      " |-- feriado_mun: array (nullable = true)\n",
      " |    |-- element: struct (containsNull = true)\n",
      " |    |    |-- feriado_mun_nome: string (nullable = true)\n",
      " |    |    |-- feriado_mun_tipo: string (nullable = true)\n",
      " |    |    |-- feriado_mun_descricao: string (nullable = true)\n",
      " |    |    |-- feriado_mun_uf: string (nullable = true)\n",
      " |    |    |-- feriado_mun_municipio: string (nullable = true)\n",
      " |-- feriado_est: array (nullable = true)\n",
      " |    |-- element: struct (containsNull = true)\n",
      " |    |    |-- feriado_est_nome: string (nullable = true)\n",
      " |    |    |-- feriado_est_tipo: string (nullable = true)\n",
      " |    |    |-- feriado_est_descricao: string (nullable = true)\n",
      " |    |    |-- feriado_est_uf: string (nullable = true)\n",
      " |    |    |-- feriado_est_municipio: string (nullable = true)\n",
      " |-- feriado_nac: array (nullable = true)\n",
      " |    |-- element: struct (containsNull = true)\n",
      " |    |    |-- feriado_nac_nome: string (nullable = true)\n",
      " |    |    |-- feriado_nac_tipo: string (nullable = true)\n",
      " |    |    |-- feriado_nac_descricao: string (nullable = true)\n",
      " |    |    |-- feriado_nac_uf: string (nullable = true)\n",
      " |    |    |-- feriado_nac_municipio: string (nullable = true)\n",
      "\n"
     ]
    }
   ],
   "source": [
    "ciha_fer = spark.read.parquet(\"s3a://datalake/temp/ciha_fer_exatos/\")\n",
    "\n",
    "ciha_fer.printSchema()"
   ]
  },
  {
   "cell_type": "code",
   "execution_count": 8,
   "id": "e25bd12e-5aa2-4362-9058-45cf3a12103a",
   "metadata": {},
   "outputs": [],
   "source": [
    "# Join para feriados proximos, considerando uma janela de mais e menos 30 dias\n",
    "\n",
    "ciha_ferpro_1 = ciha_fer \\\n",
    "                    .withColumn(\"dt_atend_m30\", date_sub(col(\"dt_atend\"), lit(30))) \\\n",
    "                    .withColumn(\"dt_atend_p30\", date_add(col(\"dt_atend\"), lit(30))) \\\n",
    "                    .alias(\"c\") \\\n",
    "                    .join(\n",
    "                        feriados.filter(\"tipo = 'MUNICIPAL'\").alias(\"f\"),\n",
    "                        [\n",
    "                            col(\"f.data\").between(col(\"c.dt_atend_m30\"), col(\"c.dt_atend_p30\")),\n",
    "                            col(\"c.munic_res\") == col(\"f.cod_municipio\")\n",
    "                        ],\n",
    "                        \"left\"\n",
    "                    ) \\\n",
    "                    .select(\n",
    "                        *[col(x).alias(x) for x in ciha_fer.columns],\n",
    "                        col(\"c.dt_atend_m30\"),\n",
    "                        col(\"c.dt_atend_p30\"),\n",
    "                        col(\"f.data\").alias(\"feriado_pro_mun_data\"),\n",
    "                        col(\"f.nome\").alias(\"feriado_pro_mun_nome\"),\n",
    "                        col(\"f.tipo\").alias(\"feriado_pro_mun_tipo\"),\n",
    "                        col(\"f.descricao\").alias(\"feriado_pro_mun_descricao\"),\n",
    "                        col(\"f.uf\").alias(\"feriado_pro_mun_uf\"),\n",
    "                        col(\"f.municipio\").alias(\"feriado_pro_mun_municipio\")\n",
    "                    ) \\\n",
    "                    .groupBy(\"pk\").agg(\n",
    "                        *[first(x).alias(x) for x in ciha_fer.drop(\"pk\").columns],\n",
    "                        first(\"c.dt_atend_m30\").alias(\"dt_atend_m30\"),\n",
    "                        first(\"c.dt_atend_p30\").alias(\"dt_atend_p30\"),\n",
    "                        collect_set(\n",
    "                            struct(\n",
    "                                col(\"feriado_pro_mun_data\"),\n",
    "                                col(\"feriado_pro_mun_nome\"),\n",
    "                                col(\"feriado_pro_mun_tipo\"),\n",
    "                                col(\"feriado_pro_mun_descricao\"),\n",
    "                                col(\"feriado_pro_mun_uf\"),\n",
    "                                col(\"feriado_pro_mun_municipio\")\n",
    "                            )\n",
    "                        ).alias(\"feriado_pro_mun\")\n",
    "                    )\n",
    "\n",
    "\n",
    "ciha_ferpro_2 = ciha_ferpro_1.alias(\"c\") \\\n",
    "                .join(\n",
    "                    feriados.filter(\"tipo = 'ESTADUAL'\").alias(\"f\"),\n",
    "                    [\n",
    "                        col(\"f.data\").between(col(\"c.dt_atend_m30\"), col(\"c.dt_atend_p30\")),\n",
    "                        col(\"c.estado_uf\") == col(\"f.uf\")\n",
    "                    ],\n",
    "                    \"left\"\n",
    "                ) \\\n",
    "                .select(\n",
    "                    *[col(x).alias(x) for x in ciha_ferpro_1.columns],\n",
    "                    col(\"f.data\").alias(\"feriado_pro_est_data\"),\n",
    "                    col(\"f.nome\").alias(\"feriado_pro_est_nome\"),\n",
    "                    col(\"f.tipo\").alias(\"feriado_pro_est_tipo\"),\n",
    "                    col(\"f.descricao\").alias(\"feriado_pro_est_descricao\"),\n",
    "                    col(\"f.uf\").alias(\"feriado_pro_est_uf\"),\n",
    "                    col(\"f.municipio\").alias(\"feriado_pro_est_municipio\")\n",
    "                ) \\\n",
    "                .groupBy(\"pk\").agg(\n",
    "                    *[first(x).alias(x) for x in ciha_ferpro_1.drop(\"pk\").columns],\n",
    "                    collect_set(\n",
    "                        struct(\n",
    "                            col(\"feriado_pro_est_data\"),\n",
    "                            col(\"feriado_pro_est_nome\"),\n",
    "                            col(\"feriado_pro_est_tipo\"),\n",
    "                            col(\"feriado_pro_est_descricao\"),\n",
    "                            col(\"feriado_pro_est_uf\"),\n",
    "                            col(\"feriado_pro_est_municipio\")\n",
    "                        )\n",
    "                    ).alias(\"feriado_pro_est\")\n",
    "                ) \n",
    "\n",
    "ciha_ferpro_3 = ciha_ferpro_2.alias(\"c\") \\\n",
    "                .join(\n",
    "                    feriados.filter(\"tipo in ('FACULTATIVO', 'NACIONAL')\").alias(\"f\"),\n",
    "                    [\n",
    "                        col(\"f.data\").between(col(\"c.dt_atend_m30\"), col(\"c.dt_atend_p30\")),\n",
    "                    ],\n",
    "                    \"left\"\n",
    "                ) \\\n",
    "                .select(\n",
    "                    *[col(x).alias(x) for x in ciha_ferpro_2.columns],\n",
    "                    col(\"f.data\").alias(\"feriado_pro_nac_data\"),\n",
    "                    col(\"f.nome\").alias(\"feriado_pro_nac_nome\"),\n",
    "                    col(\"f.tipo\").alias(\"feriado_pro_nac_tipo\"),\n",
    "                    col(\"f.descricao\").alias(\"feriado_pro_nac_descricao\"),\n",
    "                    col(\"f.uf\").alias(\"feriado_pro_nac_uf\"),\n",
    "                    col(\"f.municipio\").alias(\"feriado_pro_nac_municipio\")\n",
    "                ) \\\n",
    "                .groupBy(\"pk\").agg(\n",
    "                    *[first(x).alias(x) for x in ciha_ferpro_2.drop(\"pk\").columns],\n",
    "                    collect_set(\n",
    "                        struct(\n",
    "                            col(\"feriado_pro_nac_data\"),\n",
    "                            col(\"feriado_pro_nac_nome\"),\n",
    "                            col(\"feriado_pro_nac_tipo\"),\n",
    "                            col(\"feriado_pro_nac_descricao\"),\n",
    "                            col(\"feriado_pro_nac_uf\"),\n",
    "                            col(\"feriado_pro_nac_municipio\")\n",
    "                        )\n",
    "                    ).alias(\"feriado_pro_nac\")\n",
    "                )\n",
    "\n",
    "ciha_ferpro_3.write.format(\"parquet\").mode(\"overwrite\").save(\"s3a://datalake/temp/ciha_fer_proximos/\")"
   ]
  },
  {
   "cell_type": "code",
   "execution_count": 9,
   "id": "5818f2d7-374b-42d3-818a-ab9f946cbb05",
   "metadata": {},
   "outputs": [
    {
     "name": "stdout",
     "output_type": "stream",
     "text": [
      "root\n",
      " |-- pk: string (nullable = true)\n",
      " |-- mes_cmpt: string (nullable = true)\n",
      " |-- espec: string (nullable = true)\n",
      " |-- cgc_hosp: string (nullable = true)\n",
      " |-- munic_res: string (nullable = true)\n",
      " |-- nasc: date (nullable = true)\n",
      " |-- sexo: string (nullable = true)\n",
      " |-- uti_mes_to: string (nullable = true)\n",
      " |-- uti_int_to: string (nullable = true)\n",
      " |-- proc_rea: string (nullable = true)\n",
      " |-- qt_proc: string (nullable = true)\n",
      " |-- dt_atend: date (nullable = true)\n",
      " |-- dt_saida: date (nullable = true)\n",
      " |-- diag_princ: string (nullable = true)\n",
      " |-- diag_secun: string (nullable = true)\n",
      " |-- cobranca: string (nullable = true)\n",
      " |-- natureza: string (nullable = true)\n",
      " |-- gestao: string (nullable = true)\n",
      " |-- munic_mov: string (nullable = true)\n",
      " |-- cod_idade: string (nullable = true)\n",
      " |-- idade: string (nullable = true)\n",
      " |-- dias_perm: string (nullable = true)\n",
      " |-- morte: string (nullable = true)\n",
      " |-- nacional: string (nullable = true)\n",
      " |-- car_int: string (nullable = true)\n",
      " |-- homonimo: string (nullable = true)\n",
      " |-- cnes: string (nullable = true)\n",
      " |-- fonte: string (nullable = true)\n",
      " |-- cgc_consor: string (nullable = true)\n",
      " |-- modalidade: string (nullable = true)\n",
      " |-- input_file_name: string (nullable = true)\n",
      " |-- estado_uf: string (nullable = true)\n",
      " |-- ano_cmpt: integer (nullable = true)\n",
      " |-- feriado_mun: array (nullable = true)\n",
      " |    |-- element: struct (containsNull = true)\n",
      " |    |    |-- feriado_mun_nome: string (nullable = true)\n",
      " |    |    |-- feriado_mun_tipo: string (nullable = true)\n",
      " |    |    |-- feriado_mun_descricao: string (nullable = true)\n",
      " |    |    |-- feriado_mun_uf: string (nullable = true)\n",
      " |    |    |-- feriado_mun_municipio: string (nullable = true)\n",
      " |-- feriado_est: array (nullable = true)\n",
      " |    |-- element: struct (containsNull = true)\n",
      " |    |    |-- feriado_est_nome: string (nullable = true)\n",
      " |    |    |-- feriado_est_tipo: string (nullable = true)\n",
      " |    |    |-- feriado_est_descricao: string (nullable = true)\n",
      " |    |    |-- feriado_est_uf: string (nullable = true)\n",
      " |    |    |-- feriado_est_municipio: string (nullable = true)\n",
      " |-- feriado_nac: array (nullable = true)\n",
      " |    |-- element: struct (containsNull = true)\n",
      " |    |    |-- feriado_nac_nome: string (nullable = true)\n",
      " |    |    |-- feriado_nac_tipo: string (nullable = true)\n",
      " |    |    |-- feriado_nac_descricao: string (nullable = true)\n",
      " |    |    |-- feriado_nac_uf: string (nullable = true)\n",
      " |    |    |-- feriado_nac_municipio: string (nullable = true)\n",
      " |-- dt_atend_m30: date (nullable = true)\n",
      " |-- dt_atend_p30: date (nullable = true)\n",
      " |-- feriado_pro_mun: array (nullable = true)\n",
      " |    |-- element: struct (containsNull = true)\n",
      " |    |    |-- feriado_pro_mun_data: string (nullable = true)\n",
      " |    |    |-- feriado_pro_mun_nome: string (nullable = true)\n",
      " |    |    |-- feriado_pro_mun_tipo: string (nullable = true)\n",
      " |    |    |-- feriado_pro_mun_descricao: string (nullable = true)\n",
      " |    |    |-- feriado_pro_mun_uf: string (nullable = true)\n",
      " |    |    |-- feriado_pro_mun_municipio: string (nullable = true)\n",
      " |-- feriado_pro_est: array (nullable = true)\n",
      " |    |-- element: struct (containsNull = true)\n",
      " |    |    |-- feriado_pro_est_data: string (nullable = true)\n",
      " |    |    |-- feriado_pro_est_nome: string (nullable = true)\n",
      " |    |    |-- feriado_pro_est_tipo: string (nullable = true)\n",
      " |    |    |-- feriado_pro_est_descricao: string (nullable = true)\n",
      " |    |    |-- feriado_pro_est_uf: string (nullable = true)\n",
      " |    |    |-- feriado_pro_est_municipio: string (nullable = true)\n",
      " |-- feriado_pro_nac: array (nullable = true)\n",
      " |    |-- element: struct (containsNull = true)\n",
      " |    |    |-- feriado_pro_nac_data: string (nullable = true)\n",
      " |    |    |-- feriado_pro_nac_nome: string (nullable = true)\n",
      " |    |    |-- feriado_pro_nac_tipo: string (nullable = true)\n",
      " |    |    |-- feriado_pro_nac_descricao: string (nullable = true)\n",
      " |    |    |-- feriado_pro_nac_uf: string (nullable = true)\n",
      " |    |    |-- feriado_pro_nac_municipio: string (nullable = true)\n",
      "\n"
     ]
    }
   ],
   "source": [
    "ciha_ferpro = spark.read.parquet(\"s3a://datalake/temp/ciha_fer_proximos/\")\n",
    "\n",
    "ciha_ferpro.printSchema()"
   ]
  },
  {
   "cell_type": "code",
   "execution_count": 43,
   "id": "6524e7d5-5aef-4633-8d47-ff95e955c5ca",
   "metadata": {},
   "outputs": [
    {
     "name": "stdout",
     "output_type": "stream",
     "text": [
      "root\n",
      " |-- mes_cmpt: string (nullable = true)\n",
      " |-- espec: string (nullable = true)\n",
      " |-- cgc_hosp: string (nullable = true)\n",
      " |-- munic_res: string (nullable = true)\n",
      " |-- nasc: date (nullable = true)\n",
      " |-- sexo: string (nullable = true)\n",
      " |-- uti_mes_to: string (nullable = true)\n",
      " |-- uti_int_to: string (nullable = true)\n",
      " |-- proc_rea: string (nullable = true)\n",
      " |-- qt_proc: string (nullable = true)\n",
      " |-- dt_atend: date (nullable = true)\n",
      " |-- dt_saida: date (nullable = true)\n",
      " |-- diag_princ: string (nullable = true)\n",
      " |-- diag_secun: string (nullable = true)\n",
      " |-- cobranca: string (nullable = true)\n",
      " |-- natureza: string (nullable = true)\n",
      " |-- gestao: string (nullable = true)\n",
      " |-- munic_mov: string (nullable = true)\n",
      " |-- cod_idade: string (nullable = true)\n",
      " |-- idade: string (nullable = true)\n",
      " |-- dias_perm: string (nullable = true)\n",
      " |-- morte: string (nullable = true)\n",
      " |-- nacional: string (nullable = true)\n",
      " |-- car_int: string (nullable = true)\n",
      " |-- homonimo: string (nullable = true)\n",
      " |-- cnes: string (nullable = true)\n",
      " |-- fonte: string (nullable = true)\n",
      " |-- cgc_consor: string (nullable = true)\n",
      " |-- modalidade: string (nullable = true)\n",
      " |-- input_file_name: string (nullable = true)\n",
      " |-- estado_uf: string (nullable = true)\n",
      " |-- ano_cmpt: integer (nullable = true)\n",
      " |-- pk: string (nullable = true)\n",
      " |-- feriado: boolean (nullable = true)\n",
      " |-- feriados: array (nullable = true)\n",
      " |    |-- element: struct (containsNull = false)\n",
      " |    |    |-- nome: string (nullable = true)\n",
      " |    |    |-- tipo: string (nullable = true)\n",
      " |    |    |-- descricao: string (nullable = true)\n",
      " |    |    |-- uf: string (nullable = true)\n",
      " |    |    |-- municipio: string (nullable = true)\n",
      " |-- feriados_prox: array (nullable = true)\n",
      " |    |-- element: struct (containsNull = false)\n",
      " |    |    |-- data: string (nullable = true)\n",
      " |    |    |-- nome: string (nullable = true)\n",
      " |    |    |-- tipo: string (nullable = true)\n",
      " |    |    |-- descricao: string (nullable = true)\n",
      " |    |    |-- uf: string (nullable = true)\n",
      " |    |    |-- municipio: string (nullable = true)\n",
      " |-- feriados_prox_dist: integer (nullable = true)\n",
      "\n"
     ]
    }
   ],
   "source": [
    "# Unifica e organiza os resultados\n",
    "\n",
    "df_u = ciha_ferpro \\\n",
    "        .select(\n",
    "            *[col(x) for x in ciha.columns],\n",
    "             expr(\"\"\"\n",
    "                transform(\n",
    "                    feriado_mun,\n",
    "                    x -> struct(\n",
    "                        x.feriado_mun_nome as nome,\n",
    "                        x.feriado_mun_tipo as tipo,\n",
    "                        x.feriado_mun_descricao as descricao,\n",
    "                        x.feriado_mun_uf as uf,\n",
    "                        x.feriado_mun_municipio as municipio\n",
    "                    )\n",
    "                ) as feriado_mun\n",
    "            \"\"\"),\n",
    "            expr(\"\"\"\n",
    "                transform(\n",
    "                    feriado_est,\n",
    "                    x -> struct(\n",
    "                        x.feriado_est_nome as nome,\n",
    "                        x.feriado_est_tipo as tipo,\n",
    "                        x.feriado_est_descricao as descricao,\n",
    "                        x.feriado_est_uf as uf,\n",
    "                        x.feriado_est_municipio as municipio\n",
    "                    )\n",
    "                ) as feriado_est\n",
    "            \"\"\"),\n",
    "            expr(\"\"\"\n",
    "                transform(\n",
    "                    feriado_nac,\n",
    "                    x -> struct(\n",
    "                        x.feriado_nac_nome as nome,\n",
    "                        x.feriado_nac_tipo as tipo,\n",
    "                        x.feriado_nac_descricao as descricao,\n",
    "                        x.feriado_nac_uf as uf,\n",
    "                        x.feriado_nac_municipio as municipio\n",
    "                    )\n",
    "                ) as feriado_nac\n",
    "            \"\"\"),\n",
    "            expr(\"\"\"\n",
    "                transform(\n",
    "                    feriado_pro_mun,\n",
    "                    x -> struct(\n",
    "                        x.feriado_pro_mun_data as data,\n",
    "                        x.feriado_pro_mun_nome as nome,\n",
    "                        x.feriado_pro_mun_tipo as tipo,\n",
    "                        x.feriado_pro_mun_descricao as descricao,\n",
    "                        x.feriado_pro_mun_uf as uf,\n",
    "                        x.feriado_pro_mun_municipio as municipio\n",
    "                    )\n",
    "                ) as feriado_pro_mun\n",
    "            \"\"\"),\n",
    "            expr(\"\"\"\n",
    "                transform(\n",
    "                    feriado_pro_est,\n",
    "                    x -> struct(\n",
    "                        x.feriado_pro_est_data as data,\n",
    "                        x.feriado_pro_est_nome as nome,\n",
    "                        x.feriado_pro_est_tipo as tipo,\n",
    "                        x.feriado_pro_est_descricao as descricao,\n",
    "                        x.feriado_pro_est_uf as uf,\n",
    "                        x.feriado_pro_est_municipio as municipio\n",
    "                    )\n",
    "                ) as feriado_pro_est\n",
    "            \"\"\"),\n",
    "            expr(\"\"\"\n",
    "                transform(\n",
    "                    feriado_pro_nac,\n",
    "                    x -> struct(\n",
    "                        x.feriado_pro_nac_data as data,\n",
    "                        x.feriado_pro_nac_nome as nome,\n",
    "                        x.feriado_pro_nac_tipo as tipo,\n",
    "                        x.feriado_pro_nac_descricao as descricao,\n",
    "                        x.feriado_pro_nac_uf as uf,\n",
    "                        x.feriado_pro_nac_municipio as municipio\n",
    "                    )\n",
    "                ) as feriado_pro_nac\n",
    "            \"\"\")\n",
    "        ) \\\n",
    "        .select(\n",
    "            *[col(x) for x in ciha.columns],\n",
    "            array_union(\n",
    "                array_union(\n",
    "                    col(\"feriado_mun\"),\n",
    "                    col(\"feriado_est\"),\n",
    "                ),\n",
    "                col(\"feriado_nac\")\n",
    "            ).alias(\"feriados\"),\n",
    "            array_union(\n",
    "                array_union(\n",
    "                    col(\"feriado_pro_mun\"),\n",
    "                    col(\"feriado_pro_est\"),\n",
    "                ),\n",
    "                col(\"feriado_pro_nac\")\n",
    "            ).alias(\"feriados_prox\")\n",
    "        ) \\\n",
    "        .select(\n",
    "            *[col(x) for x in ciha.columns],\n",
    "            when(\n",
    "                size(expr(\"\"\"\n",
    "                    filter(feriados, x -> \n",
    "                        x.nome IS NOT NULL OR\n",
    "                        x.tipo IS NOT NULL OR\n",
    "                        x.descricao IS NOT NULL OR\n",
    "                        x.uf IS NOT NULL OR\n",
    "                        x.municipio IS NOT NULL\n",
    "                    )\n",
    "                \"\"\")) > 0,\n",
    "                col(\"feriados\")\n",
    "            ).otherwise(None).alias(\"feriados\"),\n",
    "            when(\n",
    "                size(expr(\"\"\"\n",
    "                    filter(feriados_prox, x -> \n",
    "                        x.data IS NOT NULL OR\n",
    "                        x.nome IS NOT NULL OR\n",
    "                        x.tipo IS NOT NULL OR\n",
    "                        x.descricao IS NOT NULL OR\n",
    "                        x.uf IS NOT NULL OR\n",
    "                        x.municipio IS NOT NULL\n",
    "                    )\n",
    "                \"\"\")) > 0,\n",
    "                col(\"feriados_prox\")\n",
    "            ).otherwise(None).alias(\"feriados_prox\") \n",
    "        ) \\\n",
    "        .select(\n",
    "            *[col(x) for x in ciha.columns],\n",
    "            expr(\"\"\"\n",
    "                filter(feriados, x -> \n",
    "                    x.nome IS NOT NULL OR\n",
    "                    x.tipo IS NOT NULL OR\n",
    "                    x.descricao IS NOT NULL OR\n",
    "                    x.uf IS NOT NULL OR\n",
    "                    x.municipio IS NOT NULL\n",
    "                )\n",
    "            \"\"\").alias(\"feriados\"),\n",
    "            expr(\"\"\"\n",
    "                filter(feriados_prox, x -> \n",
    "                    x.data IS NOT NULL OR\n",
    "                    x.nome IS NOT NULL OR\n",
    "                    x.tipo IS NOT NULL OR\n",
    "                    x.descricao IS NOT NULL OR\n",
    "                    x.uf IS NOT NULL OR\n",
    "                    x.municipio IS NOT NULL\n",
    "                )\n",
    "            \"\"\").alias(\"feriados_prox\")\n",
    "        ) \\\n",
    "        .select(\n",
    "            *[col(x) for x in ciha.columns],\n",
    "            expr(\"exists(feriados, x -> x.tipo IS NOT NULL AND upper(x.tipo) != 'FACULTATIVO')\").alias(\"feriado\"),\n",
    "            col(\"feriados\"),\n",
    "            col(\"feriados_prox\"),\n",
    "            when(col(\"feriado\") == True, lit(0)).otherwise(\n",
    "                expr(\"\"\"\n",
    "                    array_min(\n",
    "                        transform(\n",
    "                            filter(feriados_prox, x -> x.tipo IS NOT NULL AND upper(x.tipo) != 'FACULTATIVO'),\n",
    "                            x -> abs(datediff(x.data, dt_atend))\n",
    "                        )\n",
    "                    )\n",
    "                \"\"\")\n",
    "            ).alias(\"feriados_prox_dist\")\n",
    "        )\n",
    "        \n",
    "\n",
    "df_u.printSchema()"
   ]
  },
  {
   "cell_type": "code",
   "execution_count": 45,
   "id": "3b5e13ab-c569-43a9-b758-9546a7d9e9cc",
   "metadata": {},
   "outputs": [
    {
     "data": {
      "text/html": [
       "<table border='1'>\n",
       "<tr><th>mes_cmpt</th><th>espec</th><th>cgc_hosp</th><th>munic_res</th><th>nasc</th><th>sexo</th><th>uti_mes_to</th><th>uti_int_to</th><th>proc_rea</th><th>qt_proc</th><th>dt_atend</th><th>dt_saida</th><th>diag_princ</th><th>diag_secun</th><th>cobranca</th><th>natureza</th><th>gestao</th><th>munic_mov</th><th>cod_idade</th><th>idade</th><th>dias_perm</th><th>morte</th><th>nacional</th><th>car_int</th><th>homonimo</th><th>cnes</th><th>fonte</th><th>cgc_consor</th><th>modalidade</th><th>input_file_name</th><th>estado_uf</th><th>ano_cmpt</th><th>pk</th><th>feriado</th><th>feriados</th><th>feriados_prox</th><th>feriados_prox_dist</th></tr>\n",
       "</table>\n"
      ],
      "text/plain": [
       "+--------+-----+--------+---------+----+----+----------+----------+--------+-------+--------+--------+----------+----------+--------+--------+------+---------+---------+-----+---------+-----+--------+-------+--------+----+-----+----------+----------+---------------+---------+--------+---+-------+--------+-------------+------------------+\n",
       "|mes_cmpt|espec|cgc_hosp|munic_res|nasc|sexo|uti_mes_to|uti_int_to|proc_rea|qt_proc|dt_atend|dt_saida|diag_princ|diag_secun|cobranca|natureza|gestao|munic_mov|cod_idade|idade|dias_perm|morte|nacional|car_int|homonimo|cnes|fonte|cgc_consor|modalidade|input_file_name|estado_uf|ano_cmpt| pk|feriado|feriados|feriados_prox|feriados_prox_dist|\n",
       "+--------+-----+--------+---------+----+----+----------+----------+--------+-------+--------+--------+----------+----------+--------+--------+------+---------+---------+-----+---------+-----+--------+-------+--------+----+-----+----------+----------+---------------+---------+--------+---+-------+--------+-------------+------------------+\n",
       "+--------+-----+--------+---------+----+----+----------+----------+--------+-------+--------+--------+----------+----------+--------+--------+------+---------+---------+-----+---------+-----+--------+-------+--------+----+-----+----------+----------+---------------+---------+--------+---+-------+--------+-------------+------------------+"
      ]
     },
     "execution_count": 45,
     "metadata": {},
     "output_type": "execute_result"
    }
   ],
   "source": [
    "df_u.filter(\"feriado is true and feriados_prox_dist > 0\")"
   ]
  },
  {
   "cell_type": "code",
   "execution_count": 31,
   "id": "7bde8dee-6e96-4607-9d2b-d25b8d676112",
   "metadata": {},
   "outputs": [
    {
     "data": {
      "text/html": [
       "<table border='1'>\n",
       "<tr><th>feriado</th></tr>\n",
       "<tr><td>null</td></tr>\n",
       "<tr><td>true</td></tr>\n",
       "<tr><td>false</td></tr>\n",
       "</table>\n"
      ],
      "text/plain": [
       "+-------+\n",
       "|feriado|\n",
       "+-------+\n",
       "|   null|\n",
       "|   true|\n",
       "|  false|\n",
       "+-------+"
      ]
     },
     "execution_count": 31,
     "metadata": {},
     "output_type": "execute_result"
    }
   ],
   "source": [
    "df_u.select(\"feriado\").distinct()"
   ]
  },
  {
   "cell_type": "code",
   "execution_count": 34,
   "id": "ff3bec6d-d940-4f1e-9b23-d9371526b0db",
   "metadata": {},
   "outputs": [
    {
     "data": {
      "text/html": [
       "<table border='1'>\n",
       "<tr><th>feriados</th></tr>\n",
       "<tr><td>null</td></tr>\n",
       "<tr><td>null</td></tr>\n",
       "<tr><td>null</td></tr>\n",
       "<tr><td>null</td></tr>\n",
       "<tr><td>null</td></tr>\n",
       "<tr><td>null</td></tr>\n",
       "<tr><td>null</td></tr>\n",
       "<tr><td>null</td></tr>\n",
       "<tr><td>null</td></tr>\n",
       "<tr><td>null</td></tr>\n",
       "<tr><td>null</td></tr>\n",
       "<tr><td>null</td></tr>\n",
       "<tr><td>null</td></tr>\n",
       "<tr><td>null</td></tr>\n",
       "<tr><td>null</td></tr>\n",
       "<tr><td>null</td></tr>\n",
       "<tr><td>null</td></tr>\n",
       "<tr><td>null</td></tr>\n",
       "<tr><td>null</td></tr>\n",
       "<tr><td>null</td></tr>\n",
       "</table>\n",
       "only showing top 20 rows\n"
      ],
      "text/plain": [
       "+--------+\n",
       "|feriados|\n",
       "+--------+\n",
       "|    null|\n",
       "|    null|\n",
       "|    null|\n",
       "|    null|\n",
       "|    null|\n",
       "|    null|\n",
       "|    null|\n",
       "|    null|\n",
       "|    null|\n",
       "|    null|\n",
       "|    null|\n",
       "|    null|\n",
       "|    null|\n",
       "|    null|\n",
       "|    null|\n",
       "|    null|\n",
       "|    null|\n",
       "|    null|\n",
       "|    null|\n",
       "|    null|\n",
       "+--------+\n",
       "only showing top 20 rows"
      ]
     },
     "execution_count": 34,
     "metadata": {},
     "output_type": "execute_result"
    }
   ],
   "source": [
    "ciha_feriados.filter(\"feriado is null\").select(\"feriados\")"
   ]
  },
  {
   "cell_type": "code",
   "execution_count": 46,
   "id": "d8592448-bad9-4886-a342-e7729ae5fde1",
   "metadata": {},
   "outputs": [],
   "source": [
    "df_u.write.format(\"parquet\").mode(\"overwrite\").save(\"s3a://datalake/temp/ciha_fer_final/\")"
   ]
  },
  {
   "cell_type": "code",
   "execution_count": null,
   "id": "9e8d3542-ee02-4b49-9dd7-2850fdddd559",
   "metadata": {},
   "outputs": [],
   "source": [
    "# ------------------------------------"
   ]
  },
  {
   "cell_type": "code",
   "execution_count": 38,
   "id": "dde70d76-b470-4d00-a04e-c47c947a03e5",
   "metadata": {},
   "outputs": [],
   "source": [
    "ciha_feriados = spark.read.parquet(\"s3a://datalake/temp/ciha_fer_final/\")"
   ]
  },
  {
   "cell_type": "code",
   "execution_count": 22,
   "id": "ddcebad9-ab7d-46bf-bc35-e59cd4e174af",
   "metadata": {},
   "outputs": [
    {
     "data": {
      "text/html": [
       "<table border='1'>\n",
       "<tr><th>max(dt_atend)</th></tr>\n",
       "<tr><td>2025-04-30</td></tr>\n",
       "</table>\n"
      ],
      "text/plain": [
       "+-------------+\n",
       "|max(dt_atend)|\n",
       "+-------------+\n",
       "|   2025-04-30|\n",
       "+-------------+"
      ]
     },
     "execution_count": 22,
     "metadata": {},
     "output_type": "execute_result"
    }
   ],
   "source": [
    "ciha_feriados.select(max(\"dt_atend\"))"
   ]
  },
  {
   "cell_type": "code",
   "execution_count": 25,
   "id": "da2e89bc-1266-48de-a44d-76508e3dd3bb",
   "metadata": {},
   "outputs": [
    {
     "name": "stdout",
     "output_type": "stream",
     "text": [
      "+---------+--------+\n",
      "|estado_uf|   count|\n",
      "+---------+--------+\n",
      "|       SP|74710121|\n",
      "|       RS|18630983|\n",
      "|       MG|14051549|\n",
      "|       PR|10513992|\n",
      "|       BA| 8223961|\n",
      "|       SC| 4728181|\n",
      "|       RJ| 4119041|\n",
      "|       PE| 2967761|\n",
      "|       ES| 1496605|\n",
      "|       CE| 1449376|\n",
      "|       RN|  970842|\n",
      "|       PA|  966402|\n",
      "|       MS|  894706|\n",
      "|       GO|  723891|\n",
      "|       AL|  647097|\n",
      "|       MT|  519432|\n",
      "|       PI|  432953|\n",
      "|       AP|  414278|\n",
      "|       AM|  346709|\n",
      "|       TO|  286409|\n",
      "|       PB|  234535|\n",
      "|       SE|  144644|\n",
      "|       MA|  134729|\n",
      "|       RO|   97734|\n",
      "|       DF|   70817|\n",
      "|       AC|   48264|\n",
      "+---------+--------+\n",
      "\n"
     ]
    }
   ],
   "source": [
    "ciha_feriados.groupBy(\"estado_uf\").count().orderBy(col(\"count\").desc()).show(999)"
   ]
  },
  {
   "cell_type": "code",
   "execution_count": 27,
   "id": "4ddbfb19-7bd4-430e-8d21-005d411f0bba",
   "metadata": {},
   "outputs": [
    {
     "name": "stdout",
     "output_type": "stream",
     "text": [
      "+--------+--------+\n",
      "|ano_cmpt|   count|\n",
      "+--------+--------+\n",
      "|    2025| 2323004|\n",
      "|    2024|10356975|\n",
      "|    2023|12470082|\n",
      "|    2022|11980397|\n",
      "|    2021|10873060|\n",
      "|    2020| 8977996|\n",
      "|    2019|11667682|\n",
      "|    2018|11380403|\n",
      "|    2017|11772326|\n",
      "|    2016|10574959|\n",
      "|    2015| 9819173|\n",
      "|    2014|10287549|\n",
      "|    2013| 9276292|\n",
      "|    2012| 8385941|\n",
      "|    2011| 7679173|\n",
      "+--------+--------+\n",
      "\n"
     ]
    }
   ],
   "source": [
    "ciha_feriados.groupBy(\"ano_cmpt\").count().orderBy(col(\"ano_cmpt\").desc()).show(999)"
   ]
  },
  {
   "cell_type": "code",
   "execution_count": 39,
   "id": "e71a522b-e560-4051-817c-6c79e37145e2",
   "metadata": {},
   "outputs": [
    {
     "name": "stdout",
     "output_type": "stream",
     "text": [
      "+--------------------+--------+-----+--------------+---------+----------+----+----------+----------+----------+-------+----------+----------+----------+----------+--------+--------+------+---------+---------+-----+---------+-----+--------+-------+--------+-------+-----+--------------+----------+--------------------+----------------+--------+-------+--------+--------------------+------------------+-----------------+-----------------+------------------------+------------------------+------------------+------------------+----------------+----------------+-----------------------------+-----------------------------+----------------------------------+----------------------------------+\n",
      "|                  pk|mes_cmpt|espec|      cgc_hosp|munic_res|      nasc|sexo|uti_mes_to|uti_int_to|  proc_rea|qt_proc|  dt_atend|  dt_saida|diag_princ|diag_secun|cobranca|natureza|gestao|munic_mov|cod_idade|idade|dias_perm|morte|nacional|car_int|homonimo|   cnes|fonte|    cgc_consor|modalidade|     input_file_name|arquivo_sigla_uf|ano_cmpt|feriado|feriados|       feriados_prox|feriados_prox_dist|munic_res_nome_uf|munic_mov_nome_uf|munic_res_nome_municipio|munic_mov_nome_municipio|munic_res_sigla_uf|munic_mov_sigla_uf|munic_res_regiao|munic_mov_regiao|munic_res_populacao_residente|munic_mov_populacao_residente|munic_res_area_unidade_territorial|munic_mov_area_unidade_territorial|\n",
      "+--------------------+--------+-----+--------------+---------+----------+----+----------+----------+----------+-------+----------+----------+----------+----------+--------+--------+------+---------+---------+-----+---------+-----+--------+-------+--------+-------+-----+--------------+----------+--------------------+----------------+--------+-------+--------+--------------------+------------------+-----------------+-----------------+------------------------+------------------------+------------------+------------------+----------------+----------------+-----------------------------+-----------------------------+----------------------------------+----------------------------------+\n",
      "|000018ba-d05d-49c...|      03| null|14702257000523|   170210|1976-05-08|   3|         0|         0|0301100039|      1|2021-03-31|2021-03-31|      Z000|      Z000|    null|    null|     M|   170210|        4|   44|        0|    0|    null|   null|    null|9172335|   03|             3|        01|s3a://datalake/so...|              TO|    2021|  false|    null|[{2021-04-01, Qui...|                 2|        Tocantins|        Tocantins|               Araguaína|               Araguaína|                TO|                TO|           Norte|           Norte|                       150484|                       150484|                          4000.416|                          4000.416|\n",
      "|00003720-dc3a-437...|      10| null|60975976000101|   355030|1937-07-28|   1|         0|       000|0209010029|      1|2016-10-10|2016-10-10|      Z018|      null|    null|    null|     M|   355030|        4|   79|        0|    0|    null|   null|    null|2077469|   01|             1|        01|s3a://datalake/so...|              SP|    2016|  false|    null|[{2016-11-02, Fin...|                 2|        São Paulo|        São Paulo|               São Paulo|               São Paulo|                SP|                SP|         Sudeste|         Sudeste|                     11253503|                     11253503|                          1521.101|                          1521.101|\n",
      "|00006fc1-a36c-413...|      07| null|61599908000158|   355030|2002-12-28|   1|         0|       000|0301030006|      2|2011-07-02|2011-07-02|      Z018|      null|    null|      11|     M|   355030|        4|   08|        0|    0|    null|   null|    null|2080575|   06|            01|      null|s3a://datalake/so...|              SP|    2011|  false|    null|[{2011-06-23, Cor...|                 7|        São Paulo|        São Paulo|               São Paulo|               São Paulo|                SP|                SP|         Sudeste|         Sudeste|                     11253503|                     11253503|                          1521.101|                          1521.101|\n",
      "|00007963-171b-495...|      06| null|43586122000971|   355030|1932-07-12|   1|         0|       000|0301070113|     10|2013-06-17|2013-06-17|      Z505|      null|    null|      11|     M|   355030|        4|   80|        0|    0|    null|   null|    null|3166597|   01|             1|        01|s3a://datalake/so...|              SP|    2013|  false|    null|[{2013-05-30, Cor...|                18|        São Paulo|        São Paulo|               São Paulo|               São Paulo|                SP|                SP|         Sudeste|         Sudeste|                     11253503|                     11253503|                          1521.101|                          1521.101|\n",
      "|0000a51f-b526-4a8...|      02| null|49150352000112|   350420|1950-02-18|   3|         0|       000|0302020020|      1|2023-02-06|2023-02-06|      D489|      C509|      18|    null|     E|   350550|        4|   72|        0|    0|    null|   null|    null|2090236|   11|00000000000000|        01|s3a://datalake/so...|              SP|    2023|  false|    null|[{2023-02-20, Car...|              null|        São Paulo|        São Paulo|               Auriflama|                Barretos|                SP|                SP|         Sudeste|         Sudeste|                        14202|                       112101|                           433.986|                          1565.639|\n",
      "|0000d3b6-8f56-4aa...|      03| null|82804642000108|   420420|1949-11-19|   1|         0|       000|0302050027|      1|2025-03-26|2025-03-26|      M545|      null|      18|    null|     M|   420420|        4|   75|        0|    0|    null|   null|    null|6311717|   03|00000000000000|        01|s3a://datalake/so...|              SC|    2025|  false|    null|[{2025-04-18, Sex...|                23|   Santa Catarina|   Santa Catarina|                 Chapecó|                 Chapecó|                SC|                SC|             Sul|             Sul|                       183530|                       183530|                            626.06|                            626.06|\n",
      "|0000ea8f-2759-40a...|      10| null|          null|   431490|1994-05-02|   3|         0|       000|0407010009|      1|2011-10-22|2011-10-22|      K590|      null|    null|      11|     M|   431490|        4|   17|        0|    0|    null|   null|    null|3006522|   01|            01|      null|s3a://datalake/so...|              RS|    2011|  false|    null|[{2011-11-02, Dia...|                10|Rio Grande do Sul|Rio Grande do Sul|            Porto Alegre|            Porto Alegre|                RS|                RS|             Sul|             Sul|                      1409351|                      1409351|                           496.682|                           496.682|\n",
      "|000102d7-b07d-4d3...|      06| null|19878404000100|   313130|1978-12-23|   3|         0|       000|0401010040|      6|2018-06-12|2018-06-12|      D239|      null|    null|    null|     M|   313130|        4|   39|        0|    0|    null|   null|    null|2205440|   01|             1|        01|s3a://datalake/so...|              MG|    2018|  false|    null|[{2018-05-31, Cor...|                12|     Minas Gerais|     Minas Gerais|                Ipatinga|                Ipatinga|                MG|                MG|         Sudeste|         Sudeste|                       239468|                       239468|                           164.884|                           164.884|\n",
      "|000103a3-e0e8-4ba...|      09| null|76659820002367|   410690|1931-01-09|   3|         0|       000|0417010001|      1|2017-09-18|2017-09-18|      Z000|      null|    null|    null|     M|   410690|        4|   86|        0|    0|    null|   null|    null|6878318|   01|             1|        01|s3a://datalake/so...|              PR|    2017|  false|    null|[{2017-09-08, Nos...|                10|           Paraná|           Paraná|                Curitiba|                Curitiba|                PR|                PR|             Sul|             Sul|                      1751907|                      1751907|                           435.036|                           435.036|\n",
      "|00010f93-1a49-417...|      11| null|01880344000103|   420240|1985-11-10|   3|         0|       000|0301060061|      1|2022-11-07|2022-11-07|      Z000|      null|    null|    null|     M|   420240|        4|   36|        0|    0|    null|   null|    null|2522101|   01|             1|        01|s3a://datalake/so...|              SC|    2022|  false|    null|[{2022-11-02, Fin...|                 5|   Santa Catarina|   Santa Catarina|                Blumenau|                Blumenau|                SC|                SC|             Sul|             Sul|                       309011|                       309011|                           518.497|                           518.497|\n",
      "+--------------------+--------+-----+--------------+---------+----------+----+----------+----------+----------+-------+----------+----------+----------+----------+--------+--------+------+---------+---------+-----+---------+-----+--------+-------+--------+-------+-----+--------------+----------+--------------------+----------------+--------+-------+--------+--------------------+------------------+-----------------+-----------------+------------------------+------------------------+------------------+------------------+----------------+----------------+-----------------------------+-----------------------------+----------------------------------+----------------------------------+\n",
      "\n"
     ]
    }
   ],
   "source": [
    "ciha_step1 = (ciha_feriados.alias(\"ciha\")\n",
    "            .join(municipios.alias(\"mun_1\"), col(\"ciha.munic_res\") == col(\"mun_1.cod_municipio\"), \"inner\")\n",
    "            .join(municipios.alias(\"mun_2\"), col(\"ciha.munic_mov\") == col(\"mun_2.cod_municipio\"), \"inner\")\n",
    "            .join(estados.alias(\"est_1\"), col(\"mun_1.uf\") == col(\"est_1.cod_uf\"), \"left\")\n",
    "            .join(estados.alias(\"est_2\"), col(\"mun_2.uf\") == col(\"est_2.cod_uf\"), \"left\")\n",
    "            # .join(idhm.alias(\"idhm\"), col(\"ciha.munic_res\") == col(\"idhm.cod_municipio\"), \"left\")\n",
    "            .join(ibge.alias(\"ibge_1\"), col(\"ciha.munic_res\") == col(\"ibge_1.cod_municipio\"), \"inner\")\n",
    "            .join(ibge.alias(\"ibge_2\"), col(\"ciha.munic_mov\") == col(\"ibge_2.cod_municipio\"), \"inner\")\n",
    "            .select(\n",
    "                col(\"pk\"),\n",
    "                col(\"ciha.mes_cmpt\"),\n",
    "                col(\"ciha.espec\"),\n",
    "                col(\"ciha.cgc_hosp\"),\n",
    "                col(\"ciha.munic_res\"),\n",
    "                col(\"ciha.nasc\"),\n",
    "                col(\"ciha.sexo\"),\n",
    "                col(\"ciha.uti_mes_to\"),\n",
    "                col(\"ciha.uti_int_to\"),\n",
    "                col(\"ciha.proc_rea\"),\n",
    "                col(\"ciha.qt_proc\"),\n",
    "                col(\"ciha.dt_atend\"),\n",
    "                col(\"ciha.dt_saida\"),\n",
    "                col(\"ciha.diag_princ\"),\n",
    "                col(\"ciha.diag_secun\"),\n",
    "                col(\"ciha.cobranca\"),\n",
    "                col(\"ciha.natureza\"),\n",
    "                col(\"ciha.gestao\"),\n",
    "                col(\"ciha.munic_mov\"),\n",
    "                col(\"ciha.cod_idade\"),\n",
    "                col(\"ciha.idade\"),\n",
    "                col(\"ciha.dias_perm\"),\n",
    "                col(\"ciha.morte\"),\n",
    "                col(\"ciha.nacional\"),\n",
    "                col(\"ciha.car_int\"),\n",
    "                col(\"ciha.homonimo\"),\n",
    "                col(\"ciha.cnes\"),\n",
    "                col(\"ciha.fonte\"),\n",
    "                col(\"ciha.cgc_consor\"),\n",
    "                col(\"ciha.modalidade\"),\n",
    "                col(\"ciha.input_file_name\"),\n",
    "                col(\"ciha.estado_uf\").alias(\"arquivo_sigla_uf\"),\n",
    "                col(\"ciha.ano_cmpt\"),\n",
    "                when(col(\"feriado\").isNull(), lit(False)).otherwise(col(\"feriado\")).alias(\"feriado\"),\n",
    "                col(\"feriados\"),\n",
    "                col(\"feriados_prox\"),\n",
    "                col(\"feriados_prox_dist\"),\n",
    "                col(\"mun_1.nome_uf\").alias(\"munic_res_nome_uf\"),\n",
    "                col(\"mun_2.nome_uf\").alias(\"munic_mov_nome_uf\"),\n",
    "                col(\"mun_1.nome_municipio\").alias(\"munic_res_nome_municipio\"),\n",
    "                col(\"mun_2.nome_municipio\").alias(\"munic_mov_nome_municipio\"),\n",
    "                col(\"est_1.sigla\").alias(\"munic_res_sigla_uf\"),\n",
    "                col(\"est_2.sigla\").alias(\"munic_mov_sigla_uf\"),\n",
    "                col(\"est_1.regiao\").alias(\"munic_res_regiao\"),\n",
    "                col(\"est_2.regiao\").alias(\"munic_mov_regiao\"),\n",
    "                # col(\"idhm.idhm_2010\").alias(\"idhm\"),\n",
    "                col(\"ibge_1.populacao_residente\").alias(\"munic_res_populacao_residente\"),\n",
    "                col(\"ibge_2.populacao_residente\").alias(\"munic_mov_populacao_residente\"),\n",
    "                col(\"ibge_1.area_unidade_territorial\").alias(\"munic_res_area_unidade_territorial\"),\n",
    "                col(\"ibge_2.area_unidade_territorial\").alias(\"munic_mov_area_unidade_territorial\"),\n",
    "            )\n",
    "           )\n",
    "\n",
    "ciha_step1.limit(10).show()"
   ]
  },
  {
   "cell_type": "code",
   "execution_count": 37,
   "id": "ef938061-c442-445e-a1fa-991d6732f066",
   "metadata": {},
   "outputs": [
    {
     "name": "stdout",
     "output_type": "stream",
     "text": [
      "++\n",
      "||\n",
      "++\n",
      "++\n",
      "\n"
     ]
    }
   ],
   "source": [
    "spark.sql(\"drop table stage.ciha_step1\").show()"
   ]
  },
  {
   "cell_type": "code",
   "execution_count": 40,
   "id": "58d2650c-3838-4a3c-b01d-877f9264e680",
   "metadata": {},
   "outputs": [
    {
     "data": {
      "text/plain": [
       "<delta.tables.DeltaTable at 0x7102546bc810>"
      ]
     },
     "execution_count": 40,
     "metadata": {},
     "output_type": "execute_result"
    }
   ],
   "source": [
    "DeltaTable.createIfNotExists(spark) \\\n",
    "  .tableName(\"stage.ciha_step1\") \\\n",
    "  .addColumns(ciha_step1.schema) \\\n",
    "  .partitionedBy(\"ano_cmpt\") \\\n",
    "  .execute()"
   ]
  },
  {
   "cell_type": "code",
   "execution_count": 41,
   "id": "c8e8542f-53b9-4bfb-ae64-cd848eab0e6f",
   "metadata": {},
   "outputs": [],
   "source": [
    "ciha_step1.write.mode(\"overwrite\").insertInto(\"stage.ciha_step1\")"
   ]
  },
  {
   "cell_type": "code",
   "execution_count": 42,
   "id": "b0c53f38-cd71-46d7-876e-f54d535adfa5",
   "metadata": {},
   "outputs": [
    {
     "name": "stdout",
     "output_type": "stream",
     "text": [
      "+---------+\n",
      "| count(1)|\n",
      "+---------+\n",
      "|126778574|\n",
      "+---------+\n",
      "\n"
     ]
    }
   ],
   "source": [
    "spark.sql(\"select count(*) from stage.ciha_step1\").show()"
   ]
  },
  {
   "cell_type": "code",
   "execution_count": 43,
   "id": "9ce33559-a13d-4451-91da-62d9643a9e48",
   "metadata": {},
   "outputs": [
    {
     "data": {
      "text/plain": [
       "126778574"
      ]
     },
     "execution_count": 43,
     "metadata": {},
     "output_type": "execute_result"
    }
   ],
   "source": [
    "ciha_step1.count()"
   ]
  },
  {
   "cell_type": "code",
   "execution_count": 44,
   "id": "64cdcb52-6b5b-4a53-87b3-bcf46325ea22",
   "metadata": {},
   "outputs": [
    {
     "data": {
      "text/html": [
       "<table border='1'>\n",
       "<tr><th>max(dt_atend)</th></tr>\n",
       "<tr><td>2025-05-02</td></tr>\n",
       "</table>\n"
      ],
      "text/plain": [
       "+-------------+\n",
       "|max(dt_atend)|\n",
       "+-------------+\n",
       "|   2025-05-02|\n",
       "+-------------+"
      ]
     },
     "execution_count": 44,
     "metadata": {},
     "output_type": "execute_result"
    }
   ],
   "source": [
    "spark.sql(\"select max(dt_atend) from stage.ciha\")"
   ]
  },
  {
   "cell_type": "code",
   "execution_count": 45,
   "id": "a05497e7-91a1-4b55-9aeb-d804dfab5762",
   "metadata": {},
   "outputs": [
    {
     "data": {
      "text/html": [
       "<table border='1'>\n",
       "<tr><th>max(dt_atend)</th></tr>\n",
       "<tr><td>2025-04-30</td></tr>\n",
       "</table>\n"
      ],
      "text/plain": [
       "+-------------+\n",
       "|max(dt_atend)|\n",
       "+-------------+\n",
       "|   2025-04-30|\n",
       "+-------------+"
      ]
     },
     "execution_count": 45,
     "metadata": {},
     "output_type": "execute_result"
    }
   ],
   "source": [
    "spark.sql(\"select max(dt_atend) from stage.ciha_step1\")"
   ]
  },
  {
   "cell_type": "code",
   "execution_count": 46,
   "id": "04b28e40-11a7-43d4-a2fb-cb441fbd1908",
   "metadata": {},
   "outputs": [
    {
     "data": {
      "text/html": [
       "<table border='1'>\n",
       "<tr><th>path</th><th>metrics</th></tr>\n",
       "<tr><td>s3a://datalake/st...</td><td>{15, 150, {188596...</td></tr>\n",
       "</table>\n"
      ],
      "text/plain": [
       "+--------------------+--------------------+\n",
       "|                path|             metrics|\n",
       "+--------------------+--------------------+\n",
       "|s3a://datalake/st...|{15, 150, {188596...|\n",
       "+--------------------+--------------------+"
      ]
     },
     "execution_count": 46,
     "metadata": {},
     "output_type": "execute_result"
    }
   ],
   "source": [
    "spark.sql(\"optimize stage.ciha\")"
   ]
  },
  {
   "cell_type": "code",
   "execution_count": 47,
   "id": "2da67334-dc53-4e1d-9b1b-a4a87afa6e9f",
   "metadata": {},
   "outputs": [
    {
     "data": {
      "text/html": [
       "<table border='1'>\n",
       "<tr><th>path</th><th>metrics</th></tr>\n",
       "<tr><td>s3a://datalake/st...</td><td>{16, 3000, {44225...</td></tr>\n",
       "</table>\n"
      ],
      "text/plain": [
       "+--------------------+--------------------+\n",
       "|                path|             metrics|\n",
       "+--------------------+--------------------+\n",
       "|s3a://datalake/st...|{16, 3000, {44225...|\n",
       "+--------------------+--------------------+"
      ]
     },
     "execution_count": 47,
     "metadata": {},
     "output_type": "execute_result"
    }
   ],
   "source": [
    "spark.sql(\"optimize stage.ciha_step1\")"
   ]
  },
  {
   "cell_type": "code",
   "execution_count": 5,
   "id": "39eb2224-22bf-4d01-8778-aa0342cea2a6",
   "metadata": {},
   "outputs": [],
   "source": [
    "spark.conf.set(\"spark.databricks.delta.retentionDurationCheck.enabled\", \"false\")"
   ]
  },
  {
   "cell_type": "code",
   "execution_count": 12,
   "id": "63830d6b-3daf-4541-9e1a-9a15a7e57c98",
   "metadata": {},
   "outputs": [
    {
     "data": {
      "text/html": [
       "<table border='1'>\n",
       "<tr><th>path</th></tr>\n",
       "<tr><td>s3a://datalake/st...</td></tr>\n",
       "</table>\n"
      ],
      "text/plain": [
       "+--------------------+\n",
       "|                path|\n",
       "+--------------------+\n",
       "|s3a://datalake/st...|\n",
       "+--------------------+"
      ]
     },
     "execution_count": 12,
     "metadata": {},
     "output_type": "execute_result"
    }
   ],
   "source": [
    "spark.sql(\"VACUUM stage.ciha RETAIN 0 HOURS\")"
   ]
  },
  {
   "cell_type": "code",
   "execution_count": 6,
   "id": "5e6975e8-1d8d-4c2c-a9b1-f4e325f3b96e",
   "metadata": {},
   "outputs": [
    {
     "data": {
      "text/html": [
       "<table border='1'>\n",
       "<tr><th>path</th></tr>\n",
       "<tr><td>s3a://datalake/st...</td></tr>\n",
       "</table>\n"
      ],
      "text/plain": [
       "+--------------------+\n",
       "|                path|\n",
       "+--------------------+\n",
       "|s3a://datalake/st...|\n",
       "+--------------------+"
      ]
     },
     "execution_count": 6,
     "metadata": {},
     "output_type": "execute_result"
    }
   ],
   "source": [
    "spark.sql(\"VACUUM stage.ciha_step1 RETAIN 0 HOURS\")"
   ]
  },
  {
   "cell_type": "code",
   "execution_count": 48,
   "id": "57f10154-3167-4ce8-bd25-edcd18ec00eb",
   "metadata": {},
   "outputs": [],
   "source": [
    "spark.stop()"
   ]
  },
  {
   "cell_type": "code",
   "execution_count": null,
   "id": "1619cbb6-4f18-4017-842d-58e85b27b4b2",
   "metadata": {},
   "outputs": [],
   "source": [
    "# Até aqui, a base do CIHA foi enriquecida com:\n",
    "#  - Nome das cidades (residencia e movimentação)\n",
    "#  - Nome, uf e info dos estados (residencia e movimentação)\n",
    "#  - Infos do IBGE como população e área\n",
    "#  - Calculo de feriados"
   ]
  }
 ],
 "metadata": {
  "kernelspec": {
   "display_name": "Python 3 (ipykernel)",
   "language": "python",
   "name": "python3"
  },
  "language_info": {
   "codemirror_mode": {
    "name": "ipython",
    "version": 3
   },
   "file_extension": ".py",
   "mimetype": "text/x-python",
   "name": "python",
   "nbconvert_exporter": "python",
   "pygments_lexer": "ipython3",
   "version": "3.11.6"
  }
 },
 "nbformat": 4,
 "nbformat_minor": 5
}
