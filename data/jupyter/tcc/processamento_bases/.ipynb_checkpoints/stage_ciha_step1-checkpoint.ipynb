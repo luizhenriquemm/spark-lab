{
 "cells": [
  {
   "cell_type": "code",
   "execution_count": 1,
   "id": "c18934d4-566e-47d2-8223-5cadb090f6e5",
   "metadata": {},
   "outputs": [],
   "source": [
    "%run ../spark-default.py"
   ]
  },
  {
   "cell_type": "code",
   "execution_count": 2,
   "id": "6ebf9164-4c18-4a97-896b-39273eeb5053",
   "metadata": {},
   "outputs": [],
   "source": [
    "spark.conf.set(\"spark.sql.sources.partitionOverwriteMode\",\"dynamic\")"
   ]
  },
  {
   "cell_type": "code",
   "execution_count": 20,
   "id": "2bce1639-5960-40d0-9a71-02df3629a3cd",
   "metadata": {},
   "outputs": [],
   "source": [
    "import builtins as b\n",
    "from datetime import datetime, timedelta, date\n",
    "import sys, traceback\n",
    "from delta.tables import DeltaTable\n",
    "\n",
    "import pandas as pd\n",
    "import numpy as np\n",
    "import matplotlib.pyplot as plt"
   ]
  },
  {
   "cell_type": "code",
   "execution_count": 11,
   "id": "45f9bd4e-57f6-4cd5-8b99-d1111d2d6d2f",
   "metadata": {},
   "outputs": [
    {
     "name": "stdout",
     "output_type": "stream",
     "text": [
      "root\n",
      " |-- mes_cmpt: string (nullable = true)\n",
      " |-- espec: string (nullable = true)\n",
      " |-- cgc_hosp: string (nullable = true)\n",
      " |-- munic_res: string (nullable = true)\n",
      " |-- nasc: date (nullable = true)\n",
      " |-- sexo: string (nullable = true)\n",
      " |-- uti_mes_to: string (nullable = true)\n",
      " |-- uti_int_to: string (nullable = true)\n",
      " |-- proc_rea: string (nullable = true)\n",
      " |-- qt_proc: string (nullable = true)\n",
      " |-- dt_atend: date (nullable = true)\n",
      " |-- dt_saida: date (nullable = true)\n",
      " |-- diag_princ: string (nullable = true)\n",
      " |-- diag_secun: string (nullable = true)\n",
      " |-- cobranca: string (nullable = true)\n",
      " |-- natureza: string (nullable = true)\n",
      " |-- gestao: string (nullable = true)\n",
      " |-- munic_mov: string (nullable = true)\n",
      " |-- cod_idade: string (nullable = true)\n",
      " |-- idade: string (nullable = true)\n",
      " |-- dias_perm: string (nullable = true)\n",
      " |-- morte: string (nullable = true)\n",
      " |-- nacional: string (nullable = true)\n",
      " |-- car_int: string (nullable = true)\n",
      " |-- homonimo: string (nullable = true)\n",
      " |-- cnes: string (nullable = true)\n",
      " |-- fonte: string (nullable = true)\n",
      " |-- cgc_consor: string (nullable = true)\n",
      " |-- modalidade: string (nullable = true)\n",
      " |-- input_file_name: string (nullable = true)\n",
      " |-- estado_uf: string (nullable = true)\n",
      " |-- ano_cmpt: integer (nullable = true)\n",
      "\n",
      "+--------+-----+--------------+---------+----------+----+----------+----------+----------+-------+----------+----------+----------+----------+--------+--------+------+---------+---------+-----+---------+-----+--------+-------+--------+-------+-----+----------+----------+--------------------+---------+--------+\n",
      "|mes_cmpt|espec|      cgc_hosp|munic_res|      nasc|sexo|uti_mes_to|uti_int_to|  proc_rea|qt_proc|  dt_atend|  dt_saida|diag_princ|diag_secun|cobranca|natureza|gestao|munic_mov|cod_idade|idade|dias_perm|morte|nacional|car_int|homonimo|   cnes|fonte|cgc_consor|modalidade|     input_file_name|estado_uf|ano_cmpt|\n",
      "+--------+-----+--------------+---------+----------+----+----------+----------+----------+-------+----------+----------+----------+----------+--------+--------+------+---------+---------+-----+---------+-----+--------+-------+--------+-------+-----+----------+----------+--------------------+---------+--------+\n",
      "|      08| null|54370630000187|   353870|2005-03-02|   1|         0|       000|0303010061|      1|2014-08-14|2014-08-16|       A09|      null|      12|      11|     M|   353870|        4|   09|        2|    0|    null|   null|    null|2772310|   01|         1|        02|s3a://datalake/so...|       SP|    2014|\n",
      "|      08| null|60777901000116|   355030|1974-06-21|   3|         0|       000|0506020045|      1|2014-08-28|2014-08-29|      R520|      null|      11|      07|     M|   355030|        4|   40|        1|    0|    null|   null|    null|2089580|   01|         1|        02|s3a://datalake/so...|       SP|    2014|\n",
      "|      08| null|57498420000167|   354330|1956-06-21|   3|         0|       001|0301060088|      1|2014-08-20|2014-08-25|      C189|      null|      41|      07|     M|   354330|        4|   58|        5|    1|    null|   null|    null|3580822|   01|         1|        02|s3a://datalake/so...|       SP|    2014|\n",
      "|      08| null|54384631000261|   353870|1966-08-01|   3|         0|       000|0301010064|      1|2014-08-12|2014-08-12|      C509|      null|    null|      11|     M|   353870|        4|   48|        0|    0|    null|   null|    null|2087057|   01|         1|        01|s3a://datalake/so...|       SP|    2014|\n",
      "|      08| null|54384631000261|   353870|1966-08-01|   3|         0|       000|0206010028|      1|2014-08-21|2014-08-21|      Z008|      null|    null|      11|     M|   353870|        4|   48|        0|    0|    null|   null|    null|2087057|   01|         1|        01|s3a://datalake/so...|       SP|    2014|\n",
      "|      08| null|54384631000261|   353870|1966-08-01|   3|         0|       000|0206010036|      1|2014-08-21|2014-08-21|      Z008|      null|    null|      11|     M|   353870|        4|   48|        0|    0|    null|   null|    null|2087057|   01|         1|        01|s3a://datalake/so...|       SP|    2014|\n",
      "|      08| null|54384631000261|   353870|1966-08-01|   3|         0|       000|0206010010|      1|2014-08-21|2014-08-21|      Z008|      null|    null|      11|     M|   353870|        4|   48|        0|    0|    null|   null|    null|2087057|   01|         1|        01|s3a://datalake/so...|       SP|    2014|\n",
      "|      08| null|61599908000158|   355030|1966-03-05|   1|         0|       000|0305010000|      9|2014-08-02|2014-08-02|      Z018|      null|    null|      11|     M|   355030|        4|   48|        0|    0|    null|   null|    null|2080575|   01|         1|        01|s3a://datalake/so...|       SP|    2014|\n",
      "|      08| null|61599908000158|   355030|1994-10-09|   3|         0|       000|0301030006|      2|2014-08-04|2014-08-04|      Z018|      null|    null|      11|     M|   355030|        4|   19|        0|    0|    null|   null|    null|2080575|   01|         1|        01|s3a://datalake/so...|       SP|    2014|\n",
      "|      08| null|61599908000158|   355030|1988-08-10|   1|         0|       000|0408060000|      7|2014-08-08|2014-08-08|      Z018|      null|    null|      11|     M|   355030|        4|   25|        0|    0|    null|   null|    null|2080575|   01|         1|        01|s3a://datalake/so...|       SP|    2014|\n",
      "|      08| null|61599908000158|   355030|1976-03-04|   3|         0|       000|0202100006|     20|2014-08-08|2014-08-08|      Z018|      null|    null|      11|     M|   355030|        4|   38|        0|    0|    null|   null|    null|2080575|   01|         1|        01|s3a://datalake/so...|       SP|    2014|\n",
      "|      08| null|61599908000158|   355030|1959-05-07|   3|         0|       000|0408060000|      5|2014-08-11|2014-08-11|      Z018|      null|    null|      11|     M|   355030|        4|   55|        0|    0|    null|   null|    null|2080575|   01|         1|        01|s3a://datalake/so...|       SP|    2014|\n",
      "|      08| null|61599908000158|   355030|1980-04-28|   1|         0|       000|0304080004|     22|2014-08-14|2014-08-14|      Z018|      null|    null|      11|     M|   355030|        4|   34|        0|    0|    null|   null|    null|2080575|   01|         1|        01|s3a://datalake/so...|       SP|    2014|\n",
      "|      08| null|61599908000158|   355030|1980-03-21|   3|         0|       000|0408060000|     13|2014-08-14|2014-08-14|      Z018|      null|    null|      11|     M|   355030|        4|   34|        0|    0|    null|   null|    null|2080575|   01|         1|        01|s3a://datalake/so...|       SP|    2014|\n",
      "|      08| null|61599908000158|   355030|1986-03-23|   3|         0|       000|0301030006|     11|2014-08-15|2014-08-15|      Z018|      null|    null|      11|     M|   355030|        4|   28|        0|    0|    null|   null|    null|2080575|   01|         1|        01|s3a://datalake/so...|       SP|    2014|\n",
      "|      08| null|61599908000158|   355030|1938-01-11|   3|         0|       000|0301030006|     14|2014-08-15|2014-08-15|      Z018|      null|    null|      11|     M|   355030|        4|   76|        0|    0|    null|   null|    null|2080575|   01|         1|        01|s3a://datalake/so...|       SP|    2014|\n",
      "|      08| null|61599908000158|   355030|1940-02-04|   1|         0|       000|0207010005|      1|2014-08-18|2014-08-18|      Z018|      null|    null|      11|     M|   355030|        4|   74|        0|    0|    null|   null|    null|2080575|   09|         9|        01|s3a://datalake/so...|       SP|    2014|\n",
      "|      08| null|61599908000158|   355030|1922-03-10|   3|         0|       000|0202100006|      4|2014-08-19|2014-08-19|      Z018|      null|    null|      11|     M|   355030|        4|   92|        0|    0|    null|   null|    null|2080575|   01|         1|        01|s3a://datalake/so...|       SP|    2014|\n",
      "|      08| null|61599908000158|   355030|2003-02-11|   3|         0|       000|0301030006|      4|2014-08-19|2014-08-19|      Z018|      null|    null|      11|     M|   355030|        4|   11|        0|    0|    null|   null|    null|2080575|   01|         1|        01|s3a://datalake/so...|       SP|    2014|\n",
      "|      08| null|61599908000158|   355030|1953-12-16|   1|         0|       000|0304080004|     43|2014-08-27|2014-08-27|      Z018|      null|    null|      11|     M|   355030|        4|   60|        0|    0|    null|   null|    null|2080575|   01|         1|        01|s3a://datalake/so...|       SP|    2014|\n",
      "+--------+-----+--------------+---------+----------+----+----------+----------+----------+-------+----------+----------+----------+----------+--------+--------+------+---------+---------+-----+---------+-----+--------+-------+--------+-------+-----+----------+----------+--------------------+---------+--------+\n",
      "\n"
     ]
    }
   ],
   "source": [
    "ciha = spark.table(\"stage.ciha\").filter(\"dt_atend is not null and diag_princ is not null and munic_res is not null\")\n",
    "\n",
    "ciha.printSchema()\n",
    "\n",
    "# print(ciha.count())\n",
    "\n",
    "ciha.limit(20).show()"
   ]
  },
  {
   "cell_type": "code",
   "execution_count": 5,
   "id": "c11434fa-4197-4b9c-adcb-590b687d3cc9",
   "metadata": {},
   "outputs": [
    {
     "data": {
      "text/plain": [
       "138328339"
      ]
     },
     "execution_count": 5,
     "metadata": {},
     "output_type": "execute_result"
    }
   ],
   "source": [
    "ciha.count()"
   ]
  },
  {
   "cell_type": "code",
   "execution_count": 12,
   "id": "a9d4e09c-e4c7-426a-a0c7-4446a76303a5",
   "metadata": {},
   "outputs": [
    {
     "name": "stdout",
     "output_type": "stream",
     "text": [
      "root\n",
      " |-- uf: string (nullable = true)\n",
      " |-- nome_uf: string (nullable = true)\n",
      " |-- regiao_geografica_intermediaria: string (nullable = true)\n",
      " |-- nome_regiao_geografica_intermediaria: string (nullable = true)\n",
      " |-- nome_regiao_geografica_imediata: string (nullable = true)\n",
      " |-- mesorregiao_geografica: string (nullable = true)\n",
      " |-- nome_mesorregiao: string (nullable = true)\n",
      " |-- microrregiao_geografica: string (nullable = true)\n",
      " |-- nome_microrregiao: string (nullable = true)\n",
      " |-- municipio: string (nullable = true)\n",
      " |-- cod_municipio_completo: string (nullable = true)\n",
      " |-- nome_municipio: string (nullable = true)\n",
      " |-- cod_municipio: string (nullable = true)\n",
      "\n",
      "5570\n",
      "+---+--------+-------------------------------+------------------------------------+-------------------------------+----------------------+-----------------+-----------------------+-----------------+---------+----------------------+--------------------+-------------+\n",
      "| uf| nome_uf|regiao_geografica_intermediaria|nome_regiao_geografica_intermediaria|nome_regiao_geografica_imediata|mesorregiao_geografica| nome_mesorregiao|microrregiao_geografica|nome_microrregiao|municipio|cod_municipio_completo|      nome_municipio|cod_municipio|\n",
      "+---+--------+-------------------------------+------------------------------------+-------------------------------+----------------------+-----------------+-----------------------+-----------------+---------+----------------------+--------------------+-------------+\n",
      "| 11|Rondônia|                           1102|                           Ji-Paraná|                         Cacoal|                    02|Leste Rondoniense|                    006|           Cacoal|    00015|               1100015|Alta Floresta D'O...|       110001|\n",
      "| 11|Rondônia|                           1102|                           Ji-Paraná|                         Cacoal|                    02|Leste Rondoniense|                    006|           Cacoal|    00379|               1100379|Alto Alegre dos P...|       110037|\n",
      "| 11|Rondônia|                           1101|                         Porto Velho|                      Ariquemes|                    02|Leste Rondoniense|                    003|        Ariquemes|    00403|               1100403|        Alto Paraíso|       110040|\n",
      "| 11|Rondônia|                           1102|                           Ji-Paraná|                      Ji-Paraná|                    02|Leste Rondoniense|                    005| Alvorada D'Oeste|    00346|               1100346|    Alvorada D'Oeste|       110034|\n",
      "| 11|Rondônia|                           1101|                         Porto Velho|                      Ariquemes|                    02|Leste Rondoniense|                    003|        Ariquemes|    00023|               1100023|           Ariquemes|       110002|\n",
      "| 11|Rondônia|                           1101|                         Porto Velho|                      Ariquemes|                    01|  Madeira-Guaporé|                    001|      Porto Velho|    00452|               1100452|             Buritis|       110045|\n",
      "| 11|Rondônia|                           1102|                           Ji-Paraná|                        Vilhena|                    02|Leste Rondoniense|                    008|Colorado do Oeste|    00031|               1100031|              Cabixi|       110003|\n",
      "| 11|Rondônia|                           1101|                         Porto Velho|                      Ariquemes|                    02|Leste Rondoniense|                    003|        Ariquemes|    00601|               1100601|         Cacaulândia|       110060|\n",
      "| 11|Rondônia|                           1102|                           Ji-Paraná|                         Cacoal|                    02|Leste Rondoniense|                    006|           Cacoal|    00049|               1100049|              Cacoal|       110004|\n",
      "| 11|Rondônia|                           1101|                         Porto Velho|                      Ariquemes|                    01|  Madeira-Guaporé|                    001|      Porto Velho|    00700|               1100700|Campo Novo de Ron...|       110070|\n",
      "| 11|Rondônia|                           1101|                         Porto Velho|                    Porto Velho|                    01|  Madeira-Guaporé|                    001|      Porto Velho|    00809|               1100809|  Candeias do Jamari|       110080|\n",
      "| 11|Rondônia|                           1102|                           Ji-Paraná|                         Cacoal|                    02|Leste Rondoniense|                    006|           Cacoal|    00908|               1100908|        Castanheiras|       110090|\n",
      "| 11|Rondônia|                           1102|                           Ji-Paraná|                        Vilhena|                    02|Leste Rondoniense|                    008|Colorado do Oeste|    00056|               1100056|          Cerejeiras|       110005|\n",
      "| 11|Rondônia|                           1102|                           Ji-Paraná|                        Vilhena|                    02|Leste Rondoniense|                    007|          Vilhena|    00924|               1100924|         Chupinguaia|       110092|\n",
      "| 11|Rondônia|                           1102|                           Ji-Paraná|                        Vilhena|                    02|Leste Rondoniense|                    008|Colorado do Oeste|    00064|               1100064|   Colorado do Oeste|       110006|\n",
      "| 11|Rondônia|                           1102|                           Ji-Paraná|                        Vilhena|                    02|Leste Rondoniense|                    008|Colorado do Oeste|    00072|               1100072|          Corumbiara|       110007|\n",
      "| 11|Rondônia|                           1102|                           Ji-Paraná|                      Ji-Paraná|                    01|  Madeira-Guaporé|                    002|    Guajará-Mirim|    00080|               1100080|       Costa Marques|       110008|\n",
      "| 11|Rondônia|                           1101|                         Porto Velho|                      Ariquemes|                    01|  Madeira-Guaporé|                    001|      Porto Velho|    00940|               1100940|             Cujubim|       110094|\n",
      "| 11|Rondônia|                           1102|                           Ji-Paraná|                         Cacoal|                    02|Leste Rondoniense|                    006|           Cacoal|    00098|               1100098|     Espigão D'Oeste|       110009|\n",
      "| 11|Rondônia|                           1101|                         Porto Velho|                           Jaru|                    02|Leste Rondoniense|                    004|        Ji-Paraná|    01005|               1101005|Governador Jorge ...|       110100|\n",
      "+---+--------+-------------------------------+------------------------------------+-------------------------------+----------------------+-----------------+-----------------------+-----------------+---------+----------------------+--------------------+-------------+\n",
      "only showing top 20 rows\n",
      "\n"
     ]
    }
   ],
   "source": [
    "municipios = spark.table(\"stage.municipios\")\n",
    "\n",
    "municipios.printSchema()\n",
    "\n",
    "print(municipios.count())\n",
    "\n",
    "municipios.show()"
   ]
  },
  {
   "cell_type": "code",
   "execution_count": 13,
   "id": "bef55a35-80e9-4aa3-934d-67ae7c10d0bf",
   "metadata": {},
   "outputs": [
    {
     "name": "stdout",
     "output_type": "stream",
     "text": [
      "root\n",
      " |-- cod_uf: string (nullable = true)\n",
      " |-- nome_uf: string (nullable = true)\n",
      " |-- regiao: string (nullable = true)\n",
      " |-- sigla: string (nullable = true)\n",
      "\n",
      "27\n",
      "+------+-------------------+--------+-----+\n",
      "|cod_uf|            nome_uf|  regiao|sigla|\n",
      "+------+-------------------+--------+-----+\n",
      "|    11|           Rondônia|   Norte|   RO|\n",
      "|    12|               Acre|   Norte|   AC|\n",
      "|    13|           Amazonas|   Norte|   AM|\n",
      "|    14|            Roraima|   Norte|   RR|\n",
      "|    15|               Pará|   Norte|   PA|\n",
      "|    16|              Amapá|   Norte|   AP|\n",
      "|    17|          Tocantins|   Norte|   TO|\n",
      "|    21|           Maranhão|Nordeste|   MA|\n",
      "|    22|              Piauí|Nordeste|   PI|\n",
      "|    23|              Ceará|Nordeste|   CE|\n",
      "|    24|Rio Grande do Norte|Nordeste|   RN|\n",
      "|    25|            Paraíba|Nordeste|   PB|\n",
      "|    26|         Pernambuco|Nordeste|   PE|\n",
      "|    27|            Alagoas|Nordeste|   AL|\n",
      "|    28|            Sergipe|Nordeste|   SE|\n",
      "|    29|              Bahia|Nordeste|   BA|\n",
      "|    31|       Minas Gerais| Sudeste|   MG|\n",
      "|    32|     Espírito Santo| Sudeste|   ES|\n",
      "|    33|     Rio de Janeiro| Sudeste|   RJ|\n",
      "|    35|          São Paulo| Sudeste|   SP|\n",
      "+------+-------------------+--------+-----+\n",
      "only showing top 20 rows\n",
      "\n"
     ]
    }
   ],
   "source": [
    "estados = spark.table(\"stage.estados\")\n",
    "\n",
    "estados.printSchema()\n",
    "\n",
    "print(estados.count())\n",
    "\n",
    "estados.show()"
   ]
  },
  {
   "cell_type": "code",
   "execution_count": 14,
   "id": "73f41800-bf25-4dd0-957b-9f7dce2e33dd",
   "metadata": {},
   "outputs": [
    {
     "name": "stdout",
     "output_type": "stream",
     "text": [
      "root\n",
      " |-- cod_municipio: string (nullable = true)\n",
      " |-- idhm_2010: string (nullable = true)\n",
      "\n",
      "5564\n",
      "+-------------+---------+\n",
      "|cod_municipio|idhm_2010|\n",
      "+-------------+---------+\n",
      "|       110001|    0.641|\n",
      "|       110002|    0.702|\n",
      "|       110003|     0.65|\n",
      "|       110004|    0.718|\n",
      "|       110005|    0.692|\n",
      "|       110006|    0.685|\n",
      "|       110007|    0.613|\n",
      "|       110008|    0.611|\n",
      "|       110009|    0.672|\n",
      "|       110010|    0.657|\n",
      "|       110011|    0.689|\n",
      "|       110012|    0.714|\n",
      "|       110013|    0.596|\n",
      "|       110014|    0.643|\n",
      "|       110015|    0.682|\n",
      "|       110018|     0.71|\n",
      "|       110020|    0.736|\n",
      "|       110025|    0.664|\n",
      "|       110026|    0.643|\n",
      "|       110028|      0.7|\n",
      "+-------------+---------+\n",
      "only showing top 20 rows\n",
      "\n"
     ]
    }
   ],
   "source": [
    "idhm = spark.table(\"stage.idhm\")\n",
    "\n",
    "idhm.printSchema()\n",
    "\n",
    "print(idhm.count())\n",
    "\n",
    "idhm.show()"
   ]
  },
  {
   "cell_type": "code",
   "execution_count": 15,
   "id": "7416718d-8960-4234-a109-c910774b7041",
   "metadata": {},
   "outputs": [
    {
     "name": "stdout",
     "output_type": "stream",
     "text": [
      "root\n",
      " |-- cod_municipio: string (nullable = true)\n",
      " |-- populacao_residente: string (nullable = true)\n",
      " |-- area_unidade_territorial: string (nullable = true)\n",
      "\n",
      "5564\n",
      "+-------------+-------------------+------------------------+\n",
      "|cod_municipio|populacao_residente|area_unidade_territorial|\n",
      "+-------------+-------------------+------------------------+\n",
      "|       110001|              24392|                7067.025|\n",
      "|       110002|              90353|                4426.571|\n",
      "|       110003|               6313|                1314.362|\n",
      "|       110004|              78574|                3792.801|\n",
      "|       110005|              17029|                  2783.3|\n",
      "|       110006|              18591|                1451.061|\n",
      "|       110007|               8783|                3060.321|\n",
      "|       110008|              13678|                4987.177|\n",
      "|       110009|              28729|                4518.034|\n",
      "|       110010|              41656|               24855.724|\n",
      "|       110011|              52005|                2944.128|\n",
      "|       110012|             116610|                6896.738|\n",
      "|       110013|              31135|                8509.314|\n",
      "|       110014|              19874|                1703.008|\n",
      "|       110015|              37928|                 1969.85|\n",
      "|       110018|              33822|                6240.932|\n",
      "|       110020|             428527|               34096.388|\n",
      "|       110025|              22319|                1758.465|\n",
      "|       110026|               3316|                 1717.64|\n",
      "|       110028|              50648|                1457.888|\n",
      "+-------------+-------------------+------------------------+\n",
      "only showing top 20 rows\n",
      "\n"
     ]
    }
   ],
   "source": [
    "ibge = spark.table(\"stage.ibge\")\n",
    "\n",
    "ibge.printSchema()\n",
    "\n",
    "print(ibge.count())\n",
    "\n",
    "ibge.show()"
   ]
  },
  {
   "cell_type": "code",
   "execution_count": 10,
   "id": "d5c2da03-49d6-465a-92aa-49ed10126764",
   "metadata": {},
   "outputs": [
    {
     "name": "stdout",
     "output_type": "stream",
     "text": [
      "root\n",
      " |-- data: string (nullable = true)\n",
      " |-- nome: string (nullable = true)\n",
      " |-- tipo: string (nullable = true)\n",
      " |-- descricao: string (nullable = true)\n",
      " |-- uf: string (nullable = true)\n",
      " |-- municipio: string (nullable = true)\n",
      " |-- cod_municipio: string (nullable = true)\n",
      "\n",
      "154698\n",
      "+----------+--------------------+---------+--------------------+---+----------------+-------------+\n",
      "|      data|                nome|     tipo|           descricao| uf|       municipio|cod_municipio|\n",
      "+----------+--------------------+---------+--------------------+---+----------------+-------------+\n",
      "|2014-04-28|   Feriado Municipal|MUNICIPAL|                null| AC|     Acrelândia |       120001|\n",
      "|2014-09-06|   Feriado Municipal|MUNICIPAL|                null| AC|     Acrelândia |       120001|\n",
      "|2014-05-14|   Feriado Municipal|MUNICIPAL|                null| AC|   Assis Brasil |       120005|\n",
      "|2014-05-31|   Feriado Municipal|MUNICIPAL|                null| AC|   Assis Brasil |       120005|\n",
      "|2014-08-15|   Feriado Municipal|MUNICIPAL|                null| AC|   Assis Brasil |       120005|\n",
      "|2014-07-03|   Feriado Municipal|MUNICIPAL|                null| AC|      Brasiléia |       120010|\n",
      "|2014-09-06|   Feriado Municipal|MUNICIPAL|                null| AC|      Brasiléia |       120010|\n",
      "|2014-09-06|   Feriado Municipal|MUNICIPAL|                null| AC|         Bujari |       120013|\n",
      "|2014-09-06|   Feriado Municipal|MUNICIPAL|                null| AC|       Capixaba |       120017|\n",
      "|2014-08-15| Nossa Sra da Glória|MUNICIPAL|Nossa Senhora da ...| AC|Cruzeiro do Sul |       430620|\n",
      "|2014-08-15| Nossa Sra da Glória|MUNICIPAL|Nossa Senhora da ...| AC|Cruzeiro do Sul |       410670|\n",
      "|2014-08-15| Nossa Sra da Glória|MUNICIPAL|Nossa Senhora da ...| AC|Cruzeiro do Sul |       120020|\n",
      "|2014-09-28|Aniversário da Ci...|MUNICIPAL|Aniversário de Cr...| AC|Cruzeiro do Sul |       430620|\n",
      "|2014-09-28|Aniversário da Ci...|MUNICIPAL|Aniversário de Cr...| AC|Cruzeiro do Sul |       410670|\n",
      "|2014-09-28|Aniversário da Ci...|MUNICIPAL|Aniversário de Cr...| AC|Cruzeiro do Sul |       120020|\n",
      "|2014-04-28|   Feriado Municipal|MUNICIPAL|                null| AC| Epitaciolândia |       120025|\n",
      "|2014-09-06|   Feriado Municipal|MUNICIPAL|                null| AC| Epitaciolândia |       120025|\n",
      "|2014-06-27|Dia da Padroeira ...|MUNICIPAL|Homenagem a Nossa...| AC|          Feijó |       120030|\n",
      "|2014-09-06|   Feriado Municipal|MUNICIPAL|                null| AC|          Feijó |       120030|\n",
      "|2014-12-21|   Feriado Municipal|MUNICIPAL|                null| AC|          Feijó |       120030|\n",
      "+----------+--------------------+---------+--------------------+---+----------------+-------------+\n",
      "only showing top 20 rows\n",
      "\n"
     ]
    }
   ],
   "source": [
    "feriados = spark.table(\"stage.feriados\")\n",
    "\n",
    "feriados.printSchema()\n",
    "\n",
    "print(feriados.count())\n",
    "\n",
    "feriados.show()"
   ]
  },
  {
   "cell_type": "code",
   "execution_count": 11,
   "id": "69b6177b-1f30-4134-9fa2-690dc632e622",
   "metadata": {},
   "outputs": [],
   "source": [
    "feriados_prep = feriados \\\n",
    "                    .withColumn(\"facultativo\", when(col(\"tipo\") == lit(\"FACULTATIVO\"), lit(True)).otherwise(lit(False))) \\\n",
    "                    .groupBy(\n",
    "                        col(\"data\")\n",
    "                    ) \\\n",
    "                    .agg(\n",
    "                        collect_list(\n",
    "                            struct(\n",
    "                                \"data\",\n",
    "                                \"nome\",\n",
    "                                \"tipo\",\n",
    "                                \"descricao\",\n",
    "                                \"uf\",\n",
    "                                \"municipio\",\n",
    "                                \"cod_municipio\"\n",
    "                            )\n",
    "                        ).alias(\"itens\")\n",
    "                    ) \\\n",
    "                    .rdd.map(lambda x: x.asDict()).collect()\n",
    "\n",
    "feriados_prep = {\n",
    "    x[\"data\"]: [y.asDict() for y in x[\"itens\"]]\n",
    "    for x in feriados_prep\n",
    "}\n",
    "\n",
    "sorted_keys = list(feriados_prep.keys())\n",
    "sorted_keys.sort()\n",
    "\n",
    "feriados_prep = {\n",
    "    k: feriados_prep[k]\n",
    "    for k in sorted_keys\n",
    "}"
   ]
  },
  {
   "cell_type": "code",
   "execution_count": 12,
   "id": "60ce7f16-5328-4b3b-ac77-a00f241b7cb1",
   "metadata": {},
   "outputs": [],
   "source": [
    "def checa_feriados(data, cod_municipio=None, uf_estado=None):\n",
    "    feriados_possiveis = []\n",
    "    erro = \"\"\n",
    "\n",
    "    try:\n",
    "        if data in feriados_prep.keys():\n",
    "            for feriado in feriados_prep[data]:\n",
    "                if feriado[\"tipo\"] in [\"NACIONAL\", \"FACULTATIVO\"]:\n",
    "                    feriados_possiveis.append(feriado)\n",
    "                elif feriado[\"tipo\"] in [\"ESTADUAL\"]:\n",
    "                    if uf_estado is not None and feriado[\"uf\"] == uf_estado:\n",
    "                        feriados_possiveis.append(feriado)\n",
    "                elif feriado[\"tipo\"] in [\"MUNICIPAL\"]:\n",
    "                    if cod_municipio is not None and feriado[\"cod_municipio\"] == cod_municipio:\n",
    "                        feriados_possiveis.append(feriado)\n",
    "            \n",
    "            feriado = True\n",
    "            dist_feriado = 0\n",
    "            \n",
    "        if len(feriados_possiveis) == 0:\n",
    "            feriado_info = None\n",
    "            feriado = False\n",
    "            \n",
    "            mais_prox = \"\"\n",
    "            dist_prox = 999\n",
    "            for data_feriado in feriados_prep:\n",
    "                data_obj = datetime.strptime(str(data), \"%Y-%m-%d\").date()\n",
    "                feriado_obj = datetime.strptime(data_feriado, \"%Y-%m-%d\").date()\n",
    "                d = b.abs((data_obj - feriado_obj).days)\n",
    "                \n",
    "                \n",
    "                if d < dist_prox:\n",
    "                    checked = False\n",
    "                    for check_feriado in feriados_prep[data_feriado]:\n",
    "                        if ((check_feriado[\"tipo\"] in [\"NACIONAL\", \"FACULTATIVO\"])\n",
    "                            or (check_feriado[\"tipo\"] == \"ESTADUAL\" and check_feriado[\"uf\"] == uf_estado)\n",
    "                            or (check_feriado[\"tipo\"] == \"MUNICIPAL\" and check_feriado[\"cod_municipio\"] == cod_municipio)):\n",
    "                            checked = True\n",
    "                    if checked:\n",
    "                        dist_prox = d\n",
    "                        mais_prox = feriado\n",
    "                        feriado_info = list(b.filter(None, [\n",
    "                            x if ((x[\"tipo\"] in [\"NACIONAL\", \"FACULTATIVO\"])\n",
    "                                or (x[\"tipo\"] == \"ESTADUAL\" and x[\"uf\"] == uf_estado)\n",
    "                                or (x[\"tipo\"] == \"MUNICIPAL\" and x[\"cod_municipio\"] == cod_municipio))\n",
    "                            else None\n",
    "                            for x in feriados_prep[data_feriado]\n",
    "                        ]))\n",
    "            \n",
    "            dist_feriado = dist_prox \n",
    "            feriados_possiveis += feriado_info\n",
    "            \n",
    "    except Exception as e:\n",
    "        ex_type, ex, tb = sys.exc_info()\n",
    "        feriado = None\n",
    "        dist_feriado = None\n",
    "        feriados_possiveis = None\n",
    "        erro = str(traceback.extract_tb(tb)) + \" / \" + str(e)\n",
    "\n",
    "    return {\n",
    "        \"feriado\": feriado,\n",
    "        \"distancia_feriado\": dist_feriado,\n",
    "        \"feriado_info\": feriados_possiveis,\n",
    "        \"erro\": erro\n",
    "    }\n",
    "\n",
    "udf_checa_feriados = udf(checa_feriados, StructType([\n",
    "    StructField(\"feriado\", StringType(), True),\n",
    "    StructField(\"distancia_feriado\", IntegerType(), True),\n",
    "    StructField(\"feriado_info\", ArrayType(StructType([\n",
    "        StructField(\"data\", StringType(), True),\n",
    "        StructField(\"nome\", StringType(), True),\n",
    "        StructField(\"tipo\", StringType(), True),\n",
    "        StructField(\"descricao\", StringType(), True),\n",
    "        StructField(\"uf\", StringType(), True),\n",
    "        StructField(\"municipio\", StringType(), True),\n",
    "        StructField(\"cod_municipio\", StringType(), True)\n",
    "    ])), True),\n",
    "    StructField(\"erro\", StringType(), True)\n",
    "]))"
   ]
  },
  {
   "cell_type": "code",
   "execution_count": 13,
   "id": "d537104c-58ca-4704-a30c-dda02fafbe89",
   "metadata": {},
   "outputs": [
    {
     "name": "stdout",
     "output_type": "stream",
     "text": [
      "+--------+-----+--------------+---------+----------+----+----------+----------+----------+-------+----------+----------+----------+----------+--------+--------+------+---------+---------+-----+---------+-----+--------+-------+--------+-------+-----+----------+----------+--------------------+----------------+--------+-----------------+-----------------+------------------------+------------------------+------------------+------------------+----------------+----------------+-----------------------------+-----------------------------+----------------------------------+----------------------------------+\n",
      "|mes_cmpt|espec|      cgc_hosp|munic_res|      nasc|sexo|uti_mes_to|uti_int_to|  proc_rea|qt_proc|  dt_atend|  dt_saida|diag_princ|diag_secun|cobranca|natureza|gestao|munic_mov|cod_idade|idade|dias_perm|morte|nacional|car_int|homonimo|   cnes|fonte|cgc_consor|modalidade|     input_file_name|arquivo_sigla_uf|ano_cmpt|munic_res_nome_uf|munic_mov_nome_uf|munic_res_nome_municipio|munic_mov_nome_municipio|munic_res_sigla_uf|munic_mov_sigla_uf|munic_res_regiao|munic_mov_regiao|munic_res_populacao_residente|munic_mov_populacao_residente|munic_res_area_unidade_territorial|munic_mov_area_unidade_territorial|\n",
      "+--------+-----+--------------+---------+----------+----+----------+----------+----------+-------+----------+----------+----------+----------+--------+--------+------+---------+---------+-----+---------+-----+--------+-------+--------+-------+-----+----------+----------+--------------------+----------------+--------+-----------------+-----------------+------------------------+------------------------+------------------+------------------+----------------+----------------+-----------------------------+-----------------------------+----------------------------------+----------------------------------+\n",
      "|      08| null|54370630000187|   353870|2005-03-02|   1|         0|       000|0303010061|      1|2014-08-14|2014-08-16|       A09|      null|      12|      11|     M|   353870|        4|   09|        2|    0|    null|   null|    null|2772310|   01|         1|        02|s3a://datalake/so...|              SP|    2014|        São Paulo|        São Paulo|              Piracicaba|              Piracicaba|                SP|                SP|         Sudeste|         Sudeste|                       364571|                       364571|                          1378.501|                          1378.501|\n",
      "|      08| null|60777901000116|   355030|1974-06-21|   3|         0|       000|0506020045|      1|2014-08-28|2014-08-29|      R520|      null|      11|      07|     M|   355030|        4|   40|        1|    0|    null|   null|    null|2089580|   01|         1|        02|s3a://datalake/so...|              SP|    2014|        São Paulo|        São Paulo|               São Paulo|               São Paulo|                SP|                SP|         Sudeste|         Sudeste|                     11253503|                     11253503|                          1521.101|                          1521.101|\n",
      "|      08| null|57498420000167|   354330|1956-06-21|   3|         0|       001|0301060088|      1|2014-08-20|2014-08-25|      C189|      null|      41|      07|     M|   354330|        4|   58|        5|    1|    null|   null|    null|3580822|   01|         1|        02|s3a://datalake/so...|              SP|    2014|        São Paulo|        São Paulo|          Ribeirão Pires|          Ribeirão Pires|                SP|                SP|         Sudeste|         Sudeste|                       113068|                       113068|                            99.119|                            99.119|\n",
      "|      08| null|54384631000261|   353870|1966-08-01|   3|         0|       000|0301010064|      1|2014-08-12|2014-08-12|      C509|      null|    null|      11|     M|   353870|        4|   48|        0|    0|    null|   null|    null|2087057|   01|         1|        01|s3a://datalake/so...|              SP|    2014|        São Paulo|        São Paulo|              Piracicaba|              Piracicaba|                SP|                SP|         Sudeste|         Sudeste|                       364571|                       364571|                          1378.501|                          1378.501|\n",
      "|      08| null|54384631000261|   353870|1966-08-01|   3|         0|       000|0206010028|      1|2014-08-21|2014-08-21|      Z008|      null|    null|      11|     M|   353870|        4|   48|        0|    0|    null|   null|    null|2087057|   01|         1|        01|s3a://datalake/so...|              SP|    2014|        São Paulo|        São Paulo|              Piracicaba|              Piracicaba|                SP|                SP|         Sudeste|         Sudeste|                       364571|                       364571|                          1378.501|                          1378.501|\n",
      "|      08| null|54384631000261|   353870|1966-08-01|   3|         0|       000|0206010036|      1|2014-08-21|2014-08-21|      Z008|      null|    null|      11|     M|   353870|        4|   48|        0|    0|    null|   null|    null|2087057|   01|         1|        01|s3a://datalake/so...|              SP|    2014|        São Paulo|        São Paulo|              Piracicaba|              Piracicaba|                SP|                SP|         Sudeste|         Sudeste|                       364571|                       364571|                          1378.501|                          1378.501|\n",
      "|      08| null|54384631000261|   353870|1966-08-01|   3|         0|       000|0206010010|      1|2014-08-21|2014-08-21|      Z008|      null|    null|      11|     M|   353870|        4|   48|        0|    0|    null|   null|    null|2087057|   01|         1|        01|s3a://datalake/so...|              SP|    2014|        São Paulo|        São Paulo|              Piracicaba|              Piracicaba|                SP|                SP|         Sudeste|         Sudeste|                       364571|                       364571|                          1378.501|                          1378.501|\n",
      "|      08| null|61599908000158|   355030|1966-03-05|   1|         0|       000|0305010000|      9|2014-08-02|2014-08-02|      Z018|      null|    null|      11|     M|   355030|        4|   48|        0|    0|    null|   null|    null|2080575|   01|         1|        01|s3a://datalake/so...|              SP|    2014|        São Paulo|        São Paulo|               São Paulo|               São Paulo|                SP|                SP|         Sudeste|         Sudeste|                     11253503|                     11253503|                          1521.101|                          1521.101|\n",
      "|      08| null|61599908000158|   355030|1994-10-09|   3|         0|       000|0301030006|      2|2014-08-04|2014-08-04|      Z018|      null|    null|      11|     M|   355030|        4|   19|        0|    0|    null|   null|    null|2080575|   01|         1|        01|s3a://datalake/so...|              SP|    2014|        São Paulo|        São Paulo|               São Paulo|               São Paulo|                SP|                SP|         Sudeste|         Sudeste|                     11253503|                     11253503|                          1521.101|                          1521.101|\n",
      "|      08| null|61599908000158|   355030|1988-08-10|   1|         0|       000|0408060000|      7|2014-08-08|2014-08-08|      Z018|      null|    null|      11|     M|   355030|        4|   25|        0|    0|    null|   null|    null|2080575|   01|         1|        01|s3a://datalake/so...|              SP|    2014|        São Paulo|        São Paulo|               São Paulo|               São Paulo|                SP|                SP|         Sudeste|         Sudeste|                     11253503|                     11253503|                          1521.101|                          1521.101|\n",
      "+--------+-----+--------------+---------+----------+----+----------+----------+----------+-------+----------+----------+----------+----------+--------+--------+------+---------+---------+-----+---------+-----+--------+-------+--------+-------+-----+----------+----------+--------------------+----------------+--------+-----------------+-----------------+------------------------+------------------------+------------------+------------------+----------------+----------------+-----------------------------+-----------------------------+----------------------------------+----------------------------------+\n",
      "\n"
     ]
    }
   ],
   "source": [
    "prefinal = (ciha.alias(\"ciha\")\n",
    "            .join(municipios.alias(\"mun_1\"), col(\"ciha.munic_res\") == col(\"mun_1.cod_municipio\"), \"inner\")\n",
    "            .join(municipios.alias(\"mun_2\"), col(\"ciha.munic_mov\") == col(\"mun_2.cod_municipio\"), \"inner\")\n",
    "            .join(estados.alias(\"est_1\"), col(\"mun_1.uf\") == col(\"est_1.cod_uf\"), \"left\")\n",
    "            .join(estados.alias(\"est_2\"), col(\"mun_2.uf\") == col(\"est_2.cod_uf\"), \"left\")\n",
    "            # .join(idhm.alias(\"idhm\"), col(\"ciha.munic_res\") == col(\"idhm.cod_municipio\"), \"left\")\n",
    "            .join(ibge.alias(\"ibge_1\"), col(\"ciha.munic_res\") == col(\"ibge_1.cod_municipio\"), \"inner\")\n",
    "            .join(ibge.alias(\"ibge_2\"), col(\"ciha.munic_mov\") == col(\"ibge_2.cod_municipio\"), \"inner\")\n",
    "\n",
    "            .select(\n",
    "                col(\"ciha.mes_cmpt\"),\n",
    "                col(\"ciha.espec\"),\n",
    "                col(\"ciha.cgc_hosp\"),\n",
    "                col(\"ciha.munic_res\"),\n",
    "                col(\"ciha.nasc\"),\n",
    "                col(\"ciha.sexo\"),\n",
    "                col(\"ciha.uti_mes_to\"),\n",
    "                col(\"ciha.uti_int_to\"),\n",
    "                col(\"ciha.proc_rea\"),\n",
    "                col(\"ciha.qt_proc\"),\n",
    "                col(\"ciha.dt_atend\"),\n",
    "                col(\"ciha.dt_saida\"),\n",
    "                col(\"ciha.diag_princ\"),\n",
    "                col(\"ciha.diag_secun\"),\n",
    "                col(\"ciha.cobranca\"),\n",
    "                col(\"ciha.natureza\"),\n",
    "                col(\"ciha.gestao\"),\n",
    "                col(\"ciha.munic_mov\"),\n",
    "                col(\"ciha.cod_idade\"),\n",
    "                col(\"ciha.idade\"),\n",
    "                col(\"ciha.dias_perm\"),\n",
    "                col(\"ciha.morte\"),\n",
    "                col(\"ciha.nacional\"),\n",
    "                col(\"ciha.car_int\"),\n",
    "                col(\"ciha.homonimo\"),\n",
    "                col(\"ciha.cnes\"),\n",
    "                col(\"ciha.fonte\"),\n",
    "                col(\"ciha.cgc_consor\"),\n",
    "                col(\"ciha.modalidade\"),\n",
    "                col(\"ciha.input_file_name\"),\n",
    "                col(\"ciha.estado_uf\").alias(\"arquivo_sigla_uf\"),\n",
    "                col(\"ciha.ano_cmpt\"),\n",
    "                col(\"mun_1.nome_uf\").alias(\"munic_res_nome_uf\"),\n",
    "                col(\"mun_2.nome_uf\").alias(\"munic_mov_nome_uf\"),\n",
    "                col(\"mun_1.nome_municipio\").alias(\"munic_res_nome_municipio\"),\n",
    "                col(\"mun_2.nome_municipio\").alias(\"munic_mov_nome_municipio\"),\n",
    "                col(\"est_1.sigla\").alias(\"munic_res_sigla_uf\"),\n",
    "                col(\"est_2.sigla\").alias(\"munic_mov_sigla_uf\"),\n",
    "                col(\"est_1.regiao\").alias(\"munic_res_regiao\"),\n",
    "                col(\"est_2.regiao\").alias(\"munic_mov_regiao\"),\n",
    "                # col(\"idhm.idhm_2010\").alias(\"idhm\"),\n",
    "                col(\"ibge_1.populacao_residente\").alias(\"munic_res_populacao_residente\"),\n",
    "                col(\"ibge_2.populacao_residente\").alias(\"munic_mov_populacao_residente\"),\n",
    "                col(\"ibge_1.area_unidade_territorial\").alias(\"munic_res_area_unidade_territorial\"),\n",
    "                col(\"ibge_2.area_unidade_territorial\").alias(\"munic_mov_area_unidade_territorial\")\n",
    "            )\n",
    "           )\n",
    "\n",
    "prefinal.limit(10).show()"
   ]
  },
  {
   "cell_type": "code",
   "execution_count": 31,
   "id": "92f08afe-9368-4988-93b4-afba2fc3f522",
   "metadata": {},
   "outputs": [
    {
     "data": {
      "text/plain": [
       "117092917"
      ]
     },
     "execution_count": 31,
     "metadata": {},
     "output_type": "execute_result"
    }
   ],
   "source": [
    "prefinal.count()"
   ]
  },
  {
   "cell_type": "code",
   "execution_count": 32,
   "id": "7a673024-366c-402d-866e-ad95e9417b79",
   "metadata": {},
   "outputs": [
    {
     "name": "stdout",
     "output_type": "stream",
     "text": [
      "+--------+-----+--------+---------+----+----+----------+----------+--------+-------+--------+--------+----------+----------+--------+--------+------+---------+---------+-----+---------+-----+--------+-------+--------+----+-----+----------+----------+---------------+----------------+--------+-----------------+-----------------+------------------------+------------------------+------------------+------------------+----------------+----------------+-----------------------------+-----------------------------+----------------------------------+----------------------------------+\n",
      "|mes_cmpt|espec|cgc_hosp|munic_res|nasc|sexo|uti_mes_to|uti_int_to|proc_rea|qt_proc|dt_atend|dt_saida|diag_princ|diag_secun|cobranca|natureza|gestao|munic_mov|cod_idade|idade|dias_perm|morte|nacional|car_int|homonimo|cnes|fonte|cgc_consor|modalidade|input_file_name|arquivo_sigla_uf|ano_cmpt|munic_res_nome_uf|munic_mov_nome_uf|munic_res_nome_municipio|munic_mov_nome_municipio|munic_res_sigla_uf|munic_mov_sigla_uf|munic_res_regiao|munic_mov_regiao|munic_res_populacao_residente|munic_mov_populacao_residente|munic_res_area_unidade_territorial|munic_mov_area_unidade_territorial|\n",
      "+--------+-----+--------+---------+----+----+----------+----------+--------+-------+--------+--------+----------+----------+--------+--------+------+---------+---------+-----+---------+-----+--------+-------+--------+----+-----+----------+----------+---------------+----------------+--------+-----------------+-----------------+------------------------+------------------------+------------------+------------------+----------------+----------------+-----------------------------+-----------------------------+----------------------------------+----------------------------------+\n",
      "+--------+-----+--------+---------+----+----+----------+----------+--------+-------+--------+--------+----------+----------+--------+--------+------+---------+---------+-----+---------+-----+--------+-------+--------+----+-----+----------+----------+---------------+----------------+--------+-----------------+-----------------+------------------------+------------------------+------------------+------------------+----------------+----------------+-----------------------------+-----------------------------+----------------------------------+----------------------------------+\n",
      "\n"
     ]
    }
   ],
   "source": [
    "prefinal.filter(\"arquivo_sigla_uf != munic_mov_sigla_uf \").show(truncate=False)"
   ]
  },
  {
   "cell_type": "code",
   "execution_count": 38,
   "id": "26edb11d-ddc7-46a9-bd0c-721af8acf414",
   "metadata": {},
   "outputs": [],
   "source": [
    "preferiado = prefinal.select(\"dt_atend\", \"munic_res\", \"munic_mov\", \"arquivo_sigla_uf\").distinct()\n",
    "# preferiado.write.partitionBy(\"arquivo_sigla_uf\").mode(\"overwrite\").format(\"delta\").option(\"mergeSchema\", \"true\").save(\"s3a://datalake/temp/preferiado/\")"
   ]
  },
  {
   "cell_type": "code",
   "execution_count": 40,
   "id": "da2e89bc-1266-48de-a44d-76508e3dd3bb",
   "metadata": {},
   "outputs": [
    {
     "name": "stdout",
     "output_type": "stream",
     "text": [
      "+----------------+-------+\n",
      "|arquivo_sigla_uf|  count|\n",
      "+----------------+-------+\n",
      "|              SC| 167298|\n",
      "|              RO|   8309|\n",
      "|              PI|  16237|\n",
      "|              AM|    205|\n",
      "|              GO|  43843|\n",
      "|              TO|   6087|\n",
      "|              MT|  37731|\n",
      "|              SP|1037767|\n",
      "|              ES|  73907|\n",
      "|              PB|  19211|\n",
      "|              RS| 424524|\n",
      "|              MS|  47872|\n",
      "|              AL|  26075|\n",
      "|              MG| 477283|\n",
      "|              PA|  43608|\n",
      "|              BA|  86589|\n",
      "|              SE|  13603|\n",
      "|              PE|  64279|\n",
      "|              CE|  71862|\n",
      "|              RN|  19454|\n",
      "|              RJ| 135553|\n",
      "|              MA|  15590|\n",
      "|              AC|     63|\n",
      "|              DF|   2201|\n",
      "|              PR| 178625|\n",
      "|              AP|   2981|\n",
      "+----------------+-------+\n",
      "\n"
     ]
    }
   ],
   "source": [
    "preferiado.groupBy(\"arquivo_sigla_uf\").count().show(999)"
   ]
  },
  {
   "cell_type": "code",
   "execution_count": 15,
   "id": "22c7d06d-2d81-4351-8b17-98fcf022072f",
   "metadata": {},
   "outputs": [],
   "source": [
    "ufs = [\n",
    "    \"SC\",\n",
    "    \"RO\",\n",
    "    \"PI\",\n",
    "    \"AM\",\n",
    "    \"GO\",\n",
    "    \"TO\",\n",
    "    \"MT\",\n",
    "    \"SP\",\n",
    "    \"ES\",\n",
    "    \"PB\",\n",
    "    \"RS\",\n",
    "    \"MS\",\n",
    "    \"AL\",\n",
    "    \"MG\",\n",
    "    \"PA\",\n",
    "    \"BA\",\n",
    "    \"SE\",\n",
    "    \"PE\",\n",
    "    \"CE\",\n",
    "    \"RN\",\n",
    "    \"RJ\",\n",
    "    \"MA\",\n",
    "    \"AC\",\n",
    "    \"DF\",\n",
    "    \"PR\",\n",
    "    \"AP\"\n",
    "]"
   ]
  },
  {
   "cell_type": "code",
   "execution_count": 16,
   "id": "3fbf4c16-5adb-401a-8b26-0257fe6e3f0f",
   "metadata": {},
   "outputs": [
    {
     "name": "stdout",
     "output_type": "stream",
     "text": [
      "2025-01-29 02:11:26: SP\n",
      "2025-01-29 07:56:13: ES\n",
      "2025-01-29 08:21:05: PB\n",
      "2025-01-29 08:27:31: RS\n",
      "2025-01-29 10:48:29: MS\n",
      "2025-01-29 11:04:26: AL\n",
      "2025-01-29 11:13:07: MG\n",
      "2025-01-29 13:51:58: PA\n",
      "2025-01-29 14:06:36: BA\n",
      "2025-01-29 14:35:23: SE\n",
      "2025-01-29 14:39:58: PE\n",
      "2025-01-29 15:01:15: CE\n",
      "2025-01-29 15:25:09: RN\n",
      "2025-01-29 15:31:41: RJ\n",
      "2025-01-29 16:16:45: MA\n",
      "2025-01-29 16:21:56: AC\n",
      "2025-01-29 16:22:00: DF\n",
      "2025-01-29 16:22:49: PR\n",
      "2025-01-29 17:23:01: AP\n"
     ]
    }
   ],
   "source": [
    "for uf in ufs:\n",
    "    print(datetime.now().strftime(\"%Y-%m-%d %H:%M:%S\") + \": \" + uf)\n",
    "    withferiado = spark.read.format(\"delta\").load(\"s3a://datalake/temp/preferiado/\").filter(f\"arquivo_sigla_uf = '{uf}' \").withColumn(\"feriado\", udf_checa_feriados(col(\"dt_atend\"), col(\"munic_res\"), col(\"arquivo_sigla_uf\")))\n",
    "    withferiado.write.partitionBy(\"arquivo_sigla_uf\").mode(\"overwrite\").format(\"delta\").save(\"s3a://datalake/temp/withferiado1/\")"
   ]
  },
  {
   "cell_type": "code",
   "execution_count": 4,
   "id": "287b7b9a-66f5-4321-a85c-2b71a10f14b1",
   "metadata": {},
   "outputs": [
    {
     "name": "stdout",
     "output_type": "stream",
     "text": [
      "+----------+---------+---------+----------------+-----------------------------------------------------------------------------------------------------------------------------------------+\n",
      "|dt_atend  |munic_res|munic_mov|arquivo_sigla_uf|feriado                                                                                                                                  |\n",
      "+----------+---------+---------+----------------+-----------------------------------------------------------------------------------------------------------------------------------------+\n",
      "|2001-01-26|353890   |353890   |SP              |{null, null, null, [<FrameSummary file /tmp/ipykernel_128/3567610216.py, line 51 in checa_feriados>] / 'NoneType' object is not iterable}|\n",
      "|2000-09-03|352260   |352260   |SP              |{null, null, null, [<FrameSummary file /tmp/ipykernel_128/3567610216.py, line 51 in checa_feriados>] / 'NoneType' object is not iterable}|\n",
      "|2004-07-13|355030   |355030   |SP              |{null, null, null, [<FrameSummary file /tmp/ipykernel_128/3567610216.py, line 51 in checa_feriados>] / 'NoneType' object is not iterable}|\n",
      "|1982-01-25|355030   |355030   |SP              |{null, null, null, [<FrameSummary file /tmp/ipykernel_128/3567610216.py, line 51 in checa_feriados>] / 'NoneType' object is not iterable}|\n",
      "|1943-06-17|352440   |352440   |SP              |{null, null, null, [<FrameSummary file /tmp/ipykernel_128/3567610216.py, line 51 in checa_feriados>] / 'NoneType' object is not iterable}|\n",
      "|1963-01-16|353440   |353440   |SP              |{null, null, null, [<FrameSummary file /tmp/ipykernel_128/3567610216.py, line 51 in checa_feriados>] / 'NoneType' object is not iterable}|\n",
      "|2002-08-31|352440   |352440   |SP              |{null, null, null, [<FrameSummary file /tmp/ipykernel_128/3567610216.py, line 51 in checa_feriados>] / 'NoneType' object is not iterable}|\n",
      "|2001-01-28|354990   |354990   |SP              |{null, null, null, [<FrameSummary file /tmp/ipykernel_128/3567610216.py, line 51 in checa_feriados>] / 'NoneType' object is not iterable}|\n",
      "|2004-02-02|355030   |355030   |SP              |{null, null, null, [<FrameSummary file /tmp/ipykernel_128/3567610216.py, line 51 in checa_feriados>] / 'NoneType' object is not iterable}|\n",
      "|1972-08-03|353440   |353440   |SP              |{null, null, null, [<FrameSummary file /tmp/ipykernel_128/3567610216.py, line 51 in checa_feriados>] / 'NoneType' object is not iterable}|\n",
      "|1988-07-12|353440   |353440   |SP              |{null, null, null, [<FrameSummary file /tmp/ipykernel_128/3567610216.py, line 51 in checa_feriados>] / 'NoneType' object is not iterable}|\n",
      "|2004-03-31|352260   |352260   |SP              |{null, null, null, [<FrameSummary file /tmp/ipykernel_128/3567610216.py, line 51 in checa_feriados>] / 'NoneType' object is not iterable}|\n",
      "|1962-12-28|352940   |352940   |SP              |{null, null, null, [<FrameSummary file /tmp/ipykernel_128/3567610216.py, line 51 in checa_feriados>] / 'NoneType' object is not iterable}|\n",
      "|2006-08-10|352260   |352260   |SP              |{null, null, null, [<FrameSummary file /tmp/ipykernel_128/3567610216.py, line 51 in checa_feriados>] / 'NoneType' object is not iterable}|\n",
      "|1978-12-16|352940   |352940   |SP              |{null, null, null, [<FrameSummary file /tmp/ipykernel_128/3567610216.py, line 51 in checa_feriados>] / 'NoneType' object is not iterable}|\n",
      "|2004-01-26|354890   |354340   |SP              |{null, null, null, [<FrameSummary file /tmp/ipykernel_128/3567610216.py, line 51 in checa_feriados>] / 'NoneType' object is not iterable}|\n",
      "|2001-12-01|354780   |354780   |SP              |{null, null, null, [<FrameSummary file /tmp/ipykernel_128/3567610216.py, line 51 in checa_feriados>] / 'NoneType' object is not iterable}|\n",
      "|2007-04-05|355030   |355030   |SP              |{null, null, null, [<FrameSummary file /tmp/ipykernel_128/3567610216.py, line 51 in checa_feriados>] / 'NoneType' object is not iterable}|\n",
      "|2007-02-02|351620   |351620   |SP              |{null, null, null, [<FrameSummary file /tmp/ipykernel_128/3567610216.py, line 51 in checa_feriados>] / 'NoneType' object is not iterable}|\n",
      "|2006-05-06|352260   |352260   |SP              |{null, null, null, [<FrameSummary file /tmp/ipykernel_128/3567610216.py, line 51 in checa_feriados>] / 'NoneType' object is not iterable}|\n",
      "+----------+---------+---------+----------------+-----------------------------------------------------------------------------------------------------------------------------------------+\n",
      "only showing top 20 rows\n",
      "\n"
     ]
    }
   ],
   "source": [
    "feriado_done = spark.read.format(\"delta\").load(\"s3a://datalake/temp/withferiado1/\")\n",
    "feriado_done.filter(\"feriado.erro != '' \").show(20, truncate = False)"
   ]
  },
  {
   "cell_type": "code",
   "execution_count": 21,
   "id": "7d8219ac-fc30-4402-af77-adab01f8ed37",
   "metadata": {},
   "outputs": [
    {
     "data": {
      "text/plain": [
       "296"
      ]
     },
     "execution_count": 21,
     "metadata": {},
     "output_type": "execute_result"
    }
   ],
   "source": [
    "feriado_done.filter(\"feriado.erro != '' \").count()"
   ]
  },
  {
   "cell_type": "code",
   "execution_count": 5,
   "id": "43aaac36-39b3-4ee4-8a07-7f0cc0c1cac9",
   "metadata": {},
   "outputs": [
    {
     "data": {
      "text/plain": [
       "3020757"
      ]
     },
     "execution_count": 5,
     "metadata": {},
     "output_type": "execute_result"
    }
   ],
   "source": [
    "feriado_done.count()"
   ]
  },
  {
   "cell_type": "code",
   "execution_count": 9,
   "id": "93e32f7a-5bca-4282-9e06-b5898ce7f77b",
   "metadata": {},
   "outputs": [],
   "source": [
    "feriado_done.write.format(\"delta\").save(\"s3a://datalake/stage/ciha_feriados/\")"
   ]
  },
  {
   "cell_type": "code",
   "execution_count": 16,
   "id": "d6df2d75-8138-4697-b274-f06fe1a7db80",
   "metadata": {},
   "outputs": [],
   "source": [
    "ciha_feriados = spark.read.format(\"delta\").load(\"s3a://datalake/stage/ciha_feriados/\")"
   ]
  },
  {
   "cell_type": "code",
   "execution_count": 18,
   "id": "e71a522b-e560-4051-817c-6c79e37145e2",
   "metadata": {},
   "outputs": [
    {
     "name": "stdout",
     "output_type": "stream",
     "text": [
      "+--------+-----+--------------+---------+----------+----+----------+----------+----------+-------+----------+----------+----------+----------+--------+--------+------+---------+---------+-----+---------+-----+--------+-------+--------+-------+-----+----------+----------+--------------------+----------------+--------+-----------------+-----------------+------------------------+------------------------+------------------+------------------+----------------+----------------+-----------------------------+-----------------------------+----------------------------------+----------------------------------+--------------------+\n",
      "|mes_cmpt|espec|      cgc_hosp|munic_res|      nasc|sexo|uti_mes_to|uti_int_to|  proc_rea|qt_proc|  dt_atend|  dt_saida|diag_princ|diag_secun|cobranca|natureza|gestao|munic_mov|cod_idade|idade|dias_perm|morte|nacional|car_int|homonimo|   cnes|fonte|cgc_consor|modalidade|     input_file_name|arquivo_sigla_uf|ano_cmpt|munic_res_nome_uf|munic_mov_nome_uf|munic_res_nome_municipio|munic_mov_nome_municipio|munic_res_sigla_uf|munic_mov_sigla_uf|munic_res_regiao|munic_mov_regiao|munic_res_populacao_residente|munic_mov_populacao_residente|munic_res_area_unidade_territorial|munic_mov_area_unidade_territorial|             feriado|\n",
      "+--------+-----+--------------+---------+----------+----+----------+----------+----------+-------+----------+----------+----------+----------+--------+--------+------+---------+---------+-----+---------+-----+--------+-------+--------+-------+-----+----------+----------+--------------------+----------------+--------+-----------------+-----------------+------------------------+------------------------+------------------+------------------+----------------+----------------+-----------------------------+-----------------------------+----------------------------------+----------------------------------+--------------------+\n",
      "|      06| null|60453024000390|   355030|1919-09-19|   3|         0|       029|0303040149|      1|2009-09-10|2011-06-28|      I639|      I219|      41|      11|     M|   355030|        4|   89|      656|    1|    null|   null|    null|2081288|   01|        02|      null|s3a://datalake/so...|              SP|    2011|        São Paulo|        São Paulo|               São Paulo|               São Paulo|                SP|                SP|         Sudeste|         Sudeste|                     11253503|                     11253503|                          1521.101|                          1521.101|{false, 113, [{20...|\n",
      "|      09| null|60765823000130|   355030|1927-03-27|   3|         0|       007|0404010377|      1|2010-04-15|2013-09-26|      J969|       J81|      18|      11|     M|   355030|        4|   83|     1260|    0|    null|   null|    null|2058391|   01|        02|      null|s3a://datalake/so...|              SP|    2013|        São Paulo|        São Paulo|               São Paulo|               São Paulo|                SP|                SP|         Sudeste|         Sudeste|                     11253503|                     11253503|                          1521.101|                          1521.101|{false, 6, [{2010...|\n",
      "|      03| null|60975737005110|   355030|1937-01-03|   1|         0|       042|0407020047|      1|2010-04-15|2012-03-20|       I64|      null|      12|      11|     M|   355030|        4|   73|      705|    0|    null|   null|    null|3027600|   01|        02|      null|s3a://datalake/so...|              SP|    2012|        São Paulo|        São Paulo|               São Paulo|               São Paulo|                SP|                SP|         Sudeste|         Sudeste|                     11253503|                     11253503|                          1521.101|                          1521.101|{false, 6, [{2010...|\n",
      "|      02| null|60765823000130|   355030|1922-05-11|   3|         0|       000|0407010211|      1|2010-04-15|2011-02-08|      J988|      I959|      12|      11|     M|   355030|        4|   87|      299|    0|    null|   null|    null|2058391|   01|        02|      null|s3a://datalake/so...|              SP|    2011|        São Paulo|        São Paulo|               São Paulo|               São Paulo|                SP|                SP|         Sudeste|         Sudeste|                     11253503|                     11253503|                          1521.101|                          1521.101|{false, 6, [{2010...|\n",
      "|      01| null|60922168000348|   330455|1934-06-13|   3|         0|       071|0301060070|      1|2010-11-09|2011-01-28|      G919|      null|      12|      11|     M|   330455|        4|   76|       80|    0|    null|   null|    null|2271443|   01|        02|      null|s3a://datalake/so...|              RJ|    2011|   Rio de Janeiro|   Rio de Janeiro|          Rio de Janeiro|          Rio de Janeiro|                RJ|                RJ|         Sudeste|         Sudeste|                      6320446|                      6320446|                          1200.278|                          1200.278|{false, 6, [{2010...|\n",
      "|      01| null|51502821000752|   352710|1941-11-21|   3|         0|       000|0301060088|      1|2010-11-18|2016-01-28|       R54|      null|      41|    null|     M|   352710|        4|   68|     1897|    1|    null|   null|    null|3060616|   01|         1|        02|s3a://datalake/so...|              SP|    2016|        São Paulo|        São Paulo|                    Lins|                    Lins|                SP|                SP|         Sudeste|         Sudeste|                        71432|                        71432|                           571.538|                           571.538|{false, 2, [{2010...|\n",
      "|      01| null|44402675000132|   354880|1940-07-29|   3|         0|       000|0301060088|      1|2010-12-20|2011-01-10|      Z000|      null|      18|      07|     M|   354880|        4|   70|       21|    0|    null|   null|    null|2080613|   02|        02|      null|s3a://datalake/so...|              SP|    2011|        São Paulo|        São Paulo|      São Caetano do Sul|      São Caetano do Sul|                SP|                SP|         Sudeste|         Sudeste|                       149263|                       149263|                            15.331|                            15.331|{false, 5, [{2010...|\n",
      "|      02| null|59307074000118|   354880|1936-11-13|   1|         0|        24|0407030026|      1|2010-12-20|2011-02-03|      K810|       R17|      12|      11|     M|   354880|        4|   74|       45|    0|    null|   null|    null|2082330|   01|        02|      null|s3a://datalake/so...|              SP|    2011|        São Paulo|        São Paulo|      São Caetano do Sul|      São Caetano do Sul|                SP|                SP|         Sudeste|         Sudeste|                       149263|                       149263|                            15.331|                            15.331|{false, 5, [{2010...|\n",
      "|      01| null|51612828000131|   351840|1933-05-22|   1|         0|       004|0406030014|      1|2010-12-24|2011-01-01|      I200|      null|      12|      11|     M|   351840|        4|   77|        8|    0|    null|   null|    null|2081644|   01|        02|      null|s3a://datalake/so...|              SP|    2011|        São Paulo|        São Paulo|           Guaratinguetá|           Guaratinguetá|                SP|                SP|         Sudeste|         Sudeste|                       112072|                       112072|                           752.636|                           752.636|{false, 1, [{2010...|\n",
      "|      01| null|59610394000142|   354890|1966-03-27|   1|         0|       000|0412040166|      1|2010-12-26|2011-01-27|       J91|      null|      51|      11|     M|   354890|        4|   44|       32|    1|    null|   null|    null|2080931|   01|        02|      null|s3a://datalake/so...|              SP|    2011|        São Paulo|        São Paulo|              São Carlos|              São Carlos|                SP|                SP|         Sudeste|         Sudeste|                       221950|                       221950|                          1137.332|                          1137.332|{false, 1, [{2010...|\n",
      "+--------+-----+--------------+---------+----------+----+----------+----------+----------+-------+----------+----------+----------+----------+--------+--------+------+---------+---------+-----+---------+-----+--------+-------+--------+-------+-----+----------+----------+--------------------+----------------+--------+-----------------+-----------------+------------------------+------------------------+------------------+------------------+----------------+----------------+-----------------------------+-----------------------------+----------------------------------+----------------------------------+--------------------+\n",
      "\n"
     ]
    }
   ],
   "source": [
    "ciha_step1 = (ciha.alias(\"ciha\")\n",
    "            .join(municipios.alias(\"mun_1\"), col(\"ciha.munic_res\") == col(\"mun_1.cod_municipio\"), \"inner\")\n",
    "            .join(municipios.alias(\"mun_2\"), col(\"ciha.munic_mov\") == col(\"mun_2.cod_municipio\"), \"inner\")\n",
    "            .join(estados.alias(\"est_1\"), col(\"mun_1.uf\") == col(\"est_1.cod_uf\"), \"left\")\n",
    "            .join(estados.alias(\"est_2\"), col(\"mun_2.uf\") == col(\"est_2.cod_uf\"), \"left\")\n",
    "            # .join(idhm.alias(\"idhm\"), col(\"ciha.munic_res\") == col(\"idhm.cod_municipio\"), \"left\")\n",
    "            .join(ibge.alias(\"ibge_1\"), col(\"ciha.munic_res\") == col(\"ibge_1.cod_municipio\"), \"inner\")\n",
    "            .join(ibge.alias(\"ibge_2\"), col(\"ciha.munic_mov\") == col(\"ibge_2.cod_municipio\"), \"inner\")\n",
    "            .join(ciha_feriados.alias(\"fer\"), \n",
    "                  [col(\"ciha.dt_atend\") == col(\"fer.dt_atend\"), \n",
    "                  col(\"ciha.munic_res\") == col(\"fer.munic_res\"), \n",
    "                  col(\"ciha.munic_mov\") == col(\"fer.munic_mov\"), \n",
    "                  col(\"ciha.estado_uf\") == col(\"fer.arquivo_sigla_uf\")], \n",
    "                  \"inner\")\n",
    "\n",
    "            .select(\n",
    "                col(\"ciha.mes_cmpt\"),\n",
    "                col(\"ciha.espec\"),\n",
    "                col(\"ciha.cgc_hosp\"),\n",
    "                col(\"ciha.munic_res\"),\n",
    "                col(\"ciha.nasc\"),\n",
    "                col(\"ciha.sexo\"),\n",
    "                col(\"ciha.uti_mes_to\"),\n",
    "                col(\"ciha.uti_int_to\"),\n",
    "                col(\"ciha.proc_rea\"),\n",
    "                col(\"ciha.qt_proc\"),\n",
    "                col(\"ciha.dt_atend\"),\n",
    "                col(\"ciha.dt_saida\"),\n",
    "                col(\"ciha.diag_princ\"),\n",
    "                col(\"ciha.diag_secun\"),\n",
    "                col(\"ciha.cobranca\"),\n",
    "                col(\"ciha.natureza\"),\n",
    "                col(\"ciha.gestao\"),\n",
    "                col(\"ciha.munic_mov\"),\n",
    "                col(\"ciha.cod_idade\"),\n",
    "                col(\"ciha.idade\"),\n",
    "                col(\"ciha.dias_perm\"),\n",
    "                col(\"ciha.morte\"),\n",
    "                col(\"ciha.nacional\"),\n",
    "                col(\"ciha.car_int\"),\n",
    "                col(\"ciha.homonimo\"),\n",
    "                col(\"ciha.cnes\"),\n",
    "                col(\"ciha.fonte\"),\n",
    "                col(\"ciha.cgc_consor\"),\n",
    "                col(\"ciha.modalidade\"),\n",
    "                col(\"ciha.input_file_name\"),\n",
    "                col(\"ciha.estado_uf\").alias(\"arquivo_sigla_uf\"),\n",
    "                col(\"ciha.ano_cmpt\"),\n",
    "                col(\"mun_1.nome_uf\").alias(\"munic_res_nome_uf\"),\n",
    "                col(\"mun_2.nome_uf\").alias(\"munic_mov_nome_uf\"),\n",
    "                col(\"mun_1.nome_municipio\").alias(\"munic_res_nome_municipio\"),\n",
    "                col(\"mun_2.nome_municipio\").alias(\"munic_mov_nome_municipio\"),\n",
    "                col(\"est_1.sigla\").alias(\"munic_res_sigla_uf\"),\n",
    "                col(\"est_2.sigla\").alias(\"munic_mov_sigla_uf\"),\n",
    "                col(\"est_1.regiao\").alias(\"munic_res_regiao\"),\n",
    "                col(\"est_2.regiao\").alias(\"munic_mov_regiao\"),\n",
    "                # col(\"idhm.idhm_2010\").alias(\"idhm\"),\n",
    "                col(\"ibge_1.populacao_residente\").alias(\"munic_res_populacao_residente\"),\n",
    "                col(\"ibge_2.populacao_residente\").alias(\"munic_mov_populacao_residente\"),\n",
    "                col(\"ibge_1.area_unidade_territorial\").alias(\"munic_res_area_unidade_territorial\"),\n",
    "                col(\"ibge_2.area_unidade_territorial\").alias(\"munic_mov_area_unidade_territorial\"),\n",
    "                col(\"fer.feriado\").alias(\"feriado\")\n",
    "            )\n",
    "           )\n",
    "\n",
    "ciha_step1.limit(10).show()"
   ]
  },
  {
   "cell_type": "code",
   "execution_count": 19,
   "id": "7d4119d3-1372-4cf9-a868-30c798323965",
   "metadata": {},
   "outputs": [],
   "source": [
    "ciha_step1.write.partitionBy(\"ano_cmpt\").format(\"delta\").save(\"s3a://datalake/stage/ciha_step1/\")"
   ]
  },
  {
   "cell_type": "code",
   "execution_count": 24,
   "id": "58d2650c-3838-4a3c-b01d-877f9264e680",
   "metadata": {},
   "outputs": [
    {
     "data": {
      "text/plain": [
       "<delta.tables.DeltaTable at 0x7f3a0b46cc10>"
      ]
     },
     "execution_count": 24,
     "metadata": {},
     "output_type": "execute_result"
    }
   ],
   "source": [
    "DeltaTable.createIfNotExists(spark) \\\n",
    "  .tableName(\"stage.ciha_step1\") \\\n",
    "  .addColumns(ciha_step1.schema) \\\n",
    "  .partitionedBy(\"ano_cmpt\") \\\n",
    "  .execute()"
   ]
  },
  {
   "cell_type": "code",
   "execution_count": 25,
   "id": "c8e8542f-53b9-4bfb-ae64-cd848eab0e6f",
   "metadata": {},
   "outputs": [],
   "source": [
    "ciha_step1.write.insertInto(\"stage.ciha_step1\")"
   ]
  },
  {
   "cell_type": "code",
   "execution_count": 26,
   "id": "57f10154-3167-4ce8-bd25-edcd18ec00eb",
   "metadata": {},
   "outputs": [],
   "source": [
    "spark.stop()"
   ]
  },
  {
   "cell_type": "code",
   "execution_count": null,
   "id": "1619cbb6-4f18-4017-842d-58e85b27b4b2",
   "metadata": {},
   "outputs": [],
   "source": [
    "# Até aqui, a base do CIHA foi enriquecida com:\n",
    "#  - Nome das cidades (residencia e movimentação)\n",
    "#  - Nome, uf e info dos estados (residencia e movimentação)\n",
    "#  - Infos do IBGE como população e área\n",
    "#  - Calculo de feriados"
   ]
  }
 ],
 "metadata": {
  "kernelspec": {
   "display_name": "Python 3 (ipykernel)",
   "language": "python",
   "name": "python3"
  },
  "language_info": {
   "codemirror_mode": {
    "name": "ipython",
    "version": 3
   },
   "file_extension": ".py",
   "mimetype": "text/x-python",
   "name": "python",
   "nbconvert_exporter": "python",
   "pygments_lexer": "ipython3",
   "version": "3.11.6"
  }
 },
 "nbformat": 4,
 "nbformat_minor": 5
}
