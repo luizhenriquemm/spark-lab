{
 "cells": [
  {
   "cell_type": "code",
   "execution_count": 1,
   "id": "c18934d4-566e-47d2-8223-5cadb090f6e5",
   "metadata": {},
   "outputs": [],
   "source": [
    "%run ../spark-default.py"
   ]
  },
  {
   "cell_type": "code",
   "execution_count": 2,
   "id": "6ebf9164-4c18-4a97-896b-39273eeb5053",
   "metadata": {},
   "outputs": [],
   "source": [
    "spark.conf.set(\"spark.sql.sources.partitionOverwriteMode\",\"dynamic\")"
   ]
  },
  {
   "cell_type": "code",
   "execution_count": 3,
   "id": "1bb88036-19a1-49ed-b728-6f4c233f3e9a",
   "metadata": {},
   "outputs": [
    {
     "name": "stdout",
     "output_type": "stream",
     "text": [
      "Collecting delta-spark\n",
      "  Obtaining dependency information for delta-spark from https://files.pythonhosted.org/packages/3b/d8/265a93d22ae79262cdff701496a6f5676926a342153f3855ae6060430660/delta_spark-4.0.0-py3-none-any.whl.metadata\n",
      "  Downloading delta_spark-4.0.0-py3-none-any.whl.metadata (1.9 kB)\n",
      "Collecting pyspark>=4.0.0 (from delta-spark)\n",
      "  Downloading pyspark-4.0.0.tar.gz (434.1 MB)\n",
      "\u001b[2K     \u001b[90m━━━━━━━━━━━━━━━━━━━━━━━━━━━━━━━━━━━━━━━\u001b[0m \u001b[32m434.1/434.1 MB\u001b[0m \u001b[31m3.2 MB/s\u001b[0m eta \u001b[36m0:00:00\u001b[0m00:01\u001b[0m00:01\u001b[0m\n",
      "\u001b[?25h  Preparing metadata (setup.py) ... \u001b[?25ldone\n",
      "\u001b[?25hRequirement already satisfied: importlib-metadata>=1.0.0 in /opt/conda/lib/python3.11/site-packages (from delta-spark) (6.8.0)\n",
      "Requirement already satisfied: zipp>=0.5 in /opt/conda/lib/python3.11/site-packages (from importlib-metadata>=1.0.0->delta-spark) (3.16.2)\n",
      "Collecting py4j==0.10.9.9 (from pyspark>=4.0.0->delta-spark)\n",
      "  Obtaining dependency information for py4j==0.10.9.9 from https://files.pythonhosted.org/packages/bd/db/ea0203e495be491c85af87b66e37acfd3bf756fd985f87e46fc5e3bf022c/py4j-0.10.9.9-py2.py3-none-any.whl.metadata\n",
      "  Downloading py4j-0.10.9.9-py2.py3-none-any.whl.metadata (1.3 kB)\n",
      "Downloading delta_spark-4.0.0-py3-none-any.whl (39 kB)\n",
      "Downloading py4j-0.10.9.9-py2.py3-none-any.whl (203 kB)\n",
      "\u001b[2K   \u001b[90m━━━━━━━━━━━━━━━━━━━━━━━━━━━━━━━━━━━━━━━━\u001b[0m \u001b[32m203.0/203.0 kB\u001b[0m \u001b[31m9.7 MB/s\u001b[0m eta \u001b[36m0:00:00\u001b[0m\n",
      "\u001b[?25hBuilding wheels for collected packages: pyspark\n",
      "  Building wheel for pyspark (setup.py) ... \u001b[?25ldone\n",
      "\u001b[?25h  Created wheel for pyspark: filename=pyspark-4.0.0-py2.py3-none-any.whl size=434741238 sha256=382a4c25d16b1bb2b846f49bbb394de41ac04e71f361844fa60375d1a737713a\n",
      "  Stored in directory: /home/user/.cache/pip/wheels/91/e4/c1/3c917d48563ae77204dd185aa3da90da6a1a5526565296dadf\n",
      "Successfully built pyspark\n",
      "Installing collected packages: py4j, pyspark, delta-spark\n",
      "  Attempting uninstall: pyspark\n",
      "    Found existing installation: pyspark 3.4.1\n",
      "    Can't uninstall 'pyspark'. No files were found to uninstall.\n",
      "Successfully installed delta-spark-4.0.0 py4j-0.10.9.9 pyspark-4.0.0\n",
      "Note: you may need to restart the kernel to use updated packages.\n"
     ]
    }
   ],
   "source": [
    "pip install delta-spark"
   ]
  },
  {
   "cell_type": "code",
   "execution_count": 4,
   "id": "2bce1639-5960-40d0-9a71-02df3629a3cd",
   "metadata": {},
   "outputs": [],
   "source": [
    "import builtins as b\n",
    "from datetime import datetime, timedelta, date\n",
    "import sys, traceback\n",
    "from delta.tables import DeltaTable\n",
    "\n",
    "import pandas as pd\n",
    "import numpy as np\n",
    "import matplotlib.pyplot as plt"
   ]
  },
  {
   "cell_type": "code",
   "execution_count": 5,
   "id": "45f9bd4e-57f6-4cd5-8b99-d1111d2d6d2f",
   "metadata": {},
   "outputs": [
    {
     "name": "stdout",
     "output_type": "stream",
     "text": [
      "root\n",
      " |-- mes_cmpt: string (nullable = true)\n",
      " |-- espec: string (nullable = true)\n",
      " |-- cgc_hosp: string (nullable = true)\n",
      " |-- munic_res: string (nullable = true)\n",
      " |-- nasc: date (nullable = true)\n",
      " |-- sexo: string (nullable = true)\n",
      " |-- uti_mes_to: string (nullable = true)\n",
      " |-- uti_int_to: string (nullable = true)\n",
      " |-- proc_rea: string (nullable = true)\n",
      " |-- qt_proc: string (nullable = true)\n",
      " |-- dt_atend: date (nullable = true)\n",
      " |-- dt_saida: date (nullable = true)\n",
      " |-- diag_princ: string (nullable = true)\n",
      " |-- diag_secun: string (nullable = true)\n",
      " |-- cobranca: string (nullable = true)\n",
      " |-- natureza: string (nullable = true)\n",
      " |-- gestao: string (nullable = true)\n",
      " |-- munic_mov: string (nullable = true)\n",
      " |-- cod_idade: string (nullable = true)\n",
      " |-- idade: string (nullable = true)\n",
      " |-- dias_perm: string (nullable = true)\n",
      " |-- morte: string (nullable = true)\n",
      " |-- nacional: string (nullable = true)\n",
      " |-- car_int: string (nullable = true)\n",
      " |-- homonimo: string (nullable = true)\n",
      " |-- cnes: string (nullable = true)\n",
      " |-- fonte: string (nullable = true)\n",
      " |-- cgc_consor: string (nullable = true)\n",
      " |-- modalidade: string (nullable = true)\n",
      " |-- input_file_name: string (nullable = true)\n",
      " |-- estado_uf: string (nullable = true)\n",
      " |-- ano_cmpt: integer (nullable = true)\n",
      " |-- pk: string (nullable = true)\n",
      "\n",
      "+--------+-----+--------------+---------+----------+----+----------+----------+----------+-------+----------+----------+----------+----------+--------+--------+------+---------+---------+-----+---------+-----+--------+-------+--------+-------+-----+--------------+----------+--------------------+---------+--------+--------------------+\n",
      "|mes_cmpt|espec|      cgc_hosp|munic_res|      nasc|sexo|uti_mes_to|uti_int_to|  proc_rea|qt_proc|  dt_atend|  dt_saida|diag_princ|diag_secun|cobranca|natureza|gestao|munic_mov|cod_idade|idade|dias_perm|morte|nacional|car_int|homonimo|   cnes|fonte|    cgc_consor|modalidade|     input_file_name|estado_uf|ano_cmpt|                  pk|\n",
      "+--------+-----+--------------+---------+----------+----+----------+----------+----------+-------+----------+----------+----------+----------+--------+--------+------+---------+---------+-----+---------+-----+--------+-------+--------+-------+-----+--------------+----------+--------------------+---------+--------+--------------------+\n",
      "|      10| null|60194990000763|   354990|1987-12-23|   3|         0|       000|0301040001|      1|2020-10-04|2020-10-05|      O034|      null|      12|    null|     M|   354990|        4|   32|        1|    0|    null|   null|    null|0009539|   06|00000000000000|        02|s3a://datalake/so...|       SP|    2020|2d1eef5e-6bac-454...|\n",
      "|      10| null|60194990000763|   352440|1934-02-14|   1|         0|       000|0301040001|      1|2020-10-04|2020-10-10|      J158|      null|      12|    null|     M|   354990|        4|   86|        6|    0|    null|   null|    null|0009539|   09|00000000000000|        02|s3a://datalake/so...|       SP|    2020|28d536a7-f92b-4c3...|\n",
      "|      10| null|60194990000763|   354990|1998-09-08|   3|         0|       000|0310010004|      1|2020-10-04|2020-10-06|      O828|      null|      61|    null|     M|   354990|        4|   22|        2|    0|    null|   null|    null|0009539|   01|00000000000000|        02|s3a://datalake/so...|       SP|    2020|0d0318db-26b7-48d...|\n",
      "|      10| null|60194990000763|   354990|1955-12-09|   3|         0|       000|0301040001|      1|2020-10-04|2020-10-07|      M549|      null|      12|    null|     M|   354990|        4|   64|        3|    0|    null|   null|    null|0009539|   09|00000000000000|        02|s3a://datalake/so...|       SP|    2020|7d776854-478b-4fa...|\n",
      "|      10| null|60194990000763|   354230|2003-07-18|   1|         0|       000|0301040001|      1|2020-10-05|2020-10-05|      Q173|      null|      12|    null|     M|   354990|        4|   17|        0|    0|    null|   null|    null|0009539|   02|00000000000000|        02|s3a://datalake/so...|       SP|    2020|1036e4f5-5810-4b6...|\n",
      "|      10| null|60194990000763|   354990|1975-01-20|   3|         0|       000|0301040001|      1|2020-10-13|2020-10-14|      K802|      null|      12|    null|     M|   354990|        4|   45|        1|    0|    null|   null|    null|0009539|   01|00000000000000|        02|s3a://datalake/so...|       SP|    2020|bc28fa05-ce04-4a4...|\n",
      "|      10| null|60194990000763|   354990|1992-04-21|   3|         0|       000|0310010004|      1|2020-10-05|2020-10-07|      O829|      null|      61|    null|     M|   354990|        4|   28|        2|    0|    null|   null|    null|0009539|   02|00000000000000|        02|s3a://datalake/so...|       SP|    2020|d19ba9f7-2ae3-4ed...|\n",
      "|      10| null|60194990000763|   352440|2020-09-15|   1|         0|       000|0211070149|      1|2020-10-05|2020-10-05|      Z000|      null|      18|    null|     M|   354990|        2|   00|        0|    0|    null|   null|    null|0009539|   01|00000000000000|        01|s3a://datalake/so...|       SP|    2020|587a798e-161e-4a2...|\n",
      "|      10| null|60194990000763|   354990|1994-03-25|   3|         0|       000|0205020160|      1|2020-10-05|2020-10-05|      Z000|      null|      18|    null|     M|   354990|        4|   26|        0|    0|    null|   null|    null|0009539|   09|00000000000000|        01|s3a://datalake/so...|       SP|    2020|1cf176f3-fef5-4b5...|\n",
      "|      10| null|60194990000763|   354990|1977-09-26|   3|         0|       000|0205020160|      1|2020-10-05|2020-10-05|      Z000|      null|      18|    null|     M|   354990|        4|   43|        0|    0|    null|   null|    null|0009539|   02|00000000000000|        01|s3a://datalake/so...|       SP|    2020|59e41675-16cc-4d5...|\n",
      "|      10| null|60194990000763|   354990|1995-05-15|   3|         0|       000|0310010004|      1|2020-10-05|2020-10-07|      O828|      null|      61|    null|     M|   354990|        4|   25|        2|    0|    null|   null|    null|0009539|   02|00000000000000|        02|s3a://datalake/so...|       SP|    2020|141318f9-fccb-4c5...|\n",
      "|      10| null|60194990000763|   354990|1941-03-16|   3|         0|       000|0301040001|      1|2020-10-05|2020-10-07|      N390|      null|      12|    null|     M|   354990|        4|   79|        2|    0|    null|   null|    null|0009539|   09|00000000000000|        02|s3a://datalake/so...|       SP|    2020|f379314b-30bb-415...|\n",
      "|      10| null|60194990000763|   354990|1984-04-17|   3|         0|       000|0205020054|      1|2020-10-05|2020-10-05|      Z000|      null|      18|    null|     M|   354990|        4|   36|        0|    0|    null|   null|    null|0009539|   02|00000000000000|        01|s3a://datalake/so...|       SP|    2020|d4dfc984-49c1-4f2...|\n",
      "|      10| null|60194990000763|   354990|1942-02-14|   1|         0|       002|0301040001|      1|2020-10-05|2020-10-08|      J189|      null|      41|    null|     M|   354990|        4|   78|        3|    1|    null|   null|    null|0009539|   09|00000000000000|        02|s3a://datalake/so...|       SP|    2020|2b4c08e8-d203-476...|\n",
      "|      10| null|60194990000763|   354990|1980-12-23|   3|         0|       000|0301040001|      1|2020-10-06|2020-10-07|      Z429|      null|      12|    null|     M|   354990|        4|   39|        1|    0|    null|   null|    null|0009539|   02|00000000000000|        02|s3a://datalake/so...|       SP|    2020|143e504e-44c5-4f6...|\n",
      "|      10| null|60194990000763|   352440|1995-10-20|   3|         0|       000|0310010004|      1|2020-10-06|2020-10-09|      O828|      null|      61|    null|     M|   354990|        4|   24|        3|    0|    null|   null|    null|0009539|   01|00000000000000|        02|s3a://datalake/so...|       SP|    2020|8447bc43-7a93-437...|\n",
      "|      10| null|60194990000763|   354990|2010-05-22|   1|         0|       000|0301040001|      1|2020-10-14|2020-10-14|      Z540|      null|      12|    null|     M|   354990|        4|   10|        0|    0|    null|   null|    null|0009539|   02|00000000000000|        02|s3a://datalake/so...|       SP|    2020|c6217414-2ac4-455...|\n",
      "|      10| null|60194990000763|   354990|1989-09-17|   3|         0|       000|0301040001|      1|2020-10-23|2020-10-23|      L989|      null|      12|    null|     M|   354990|        4|   31|        0|    0|    null|   null|    null|0009539|   01|00000000000000|        02|s3a://datalake/so...|       SP|    2020|9ea75d29-f90c-404...|\n",
      "|      10| null|60194990000763|   352440|1983-05-21|   3|         0|       000|0301040001|      1|2020-10-15|2020-10-15|      J342|      null|      12|    null|     M|   354990|        4|   37|        0|    0|    null|   null|    null|0009539|   02|00000000000000|        02|s3a://datalake/so...|       SP|    2020|a4f89461-9d9c-412...|\n",
      "|      10| null|60194990000763|   354990|2020-10-02|   3|         0|       000|0301040001|      1|2020-10-04|2020-10-06|      P050|      null|      12|    null|     M|   354990|        2|   00|        2|    0|    null|   null|    null|0009539|   09|00000000000000|        02|s3a://datalake/so...|       SP|    2020|4771a35e-390f-494...|\n",
      "+--------+-----+--------------+---------+----------+----+----------+----------+----------+-------+----------+----------+----------+----------+--------+--------+------+---------+---------+-----+---------+-----+--------+-------+--------+-------+-----+--------------+----------+--------------------+---------+--------+--------------------+\n",
      "\n"
     ]
    }
   ],
   "source": [
    "ciha = spark.table(\"stage.ciha\").filter(\"dt_atend is not null and diag_princ is not null and munic_res is not null\")\n",
    "\n",
    "ciha.printSchema()\n",
    "\n",
    "# print(ciha.count())\n",
    "\n",
    "ciha.limit(20).show()"
   ]
  },
  {
   "cell_type": "code",
   "execution_count": 6,
   "id": "c11434fa-4197-4b9c-adcb-590b687d3cc9",
   "metadata": {},
   "outputs": [
    {
     "data": {
      "text/plain": [
       "147825012"
      ]
     },
     "execution_count": 6,
     "metadata": {},
     "output_type": "execute_result"
    }
   ],
   "source": [
    "ciha.count()"
   ]
  },
  {
   "cell_type": "code",
   "execution_count": 7,
   "id": "75bfa53c-429d-43ee-83bd-386651826f53",
   "metadata": {},
   "outputs": [
    {
     "data": {
      "text/html": [
       "<table border='1'>\n",
       "<tr><th>max(dt_atend)</th></tr>\n",
       "<tr><td>2025-04-30</td></tr>\n",
       "</table>\n"
      ],
      "text/plain": [
       "+-------------+\n",
       "|max(dt_atend)|\n",
       "+-------------+\n",
       "|   2025-04-30|\n",
       "+-------------+"
      ]
     },
     "execution_count": 7,
     "metadata": {},
     "output_type": "execute_result"
    }
   ],
   "source": [
    "ciha.select(max(\"dt_atend\"))"
   ]
  },
  {
   "cell_type": "code",
   "execution_count": 8,
   "id": "a9d4e09c-e4c7-426a-a0c7-4446a76303a5",
   "metadata": {},
   "outputs": [
    {
     "name": "stdout",
     "output_type": "stream",
     "text": [
      "root\n",
      " |-- uf: string (nullable = true)\n",
      " |-- nome_uf: string (nullable = true)\n",
      " |-- regiao_geografica_intermediaria: string (nullable = true)\n",
      " |-- nome_regiao_geografica_intermediaria: string (nullable = true)\n",
      " |-- nome_regiao_geografica_imediata: string (nullable = true)\n",
      " |-- mesorregiao_geografica: string (nullable = true)\n",
      " |-- nome_mesorregiao: string (nullable = true)\n",
      " |-- microrregiao_geografica: string (nullable = true)\n",
      " |-- nome_microrregiao: string (nullable = true)\n",
      " |-- municipio: string (nullable = true)\n",
      " |-- cod_municipio_completo: string (nullable = true)\n",
      " |-- nome_municipio: string (nullable = true)\n",
      " |-- cod_municipio: string (nullable = true)\n",
      "\n",
      "5570\n",
      "+---+--------+-------------------------------+------------------------------------+-------------------------------+----------------------+-----------------+-----------------------+-----------------+---------+----------------------+--------------------+-------------+\n",
      "| uf| nome_uf|regiao_geografica_intermediaria|nome_regiao_geografica_intermediaria|nome_regiao_geografica_imediata|mesorregiao_geografica| nome_mesorregiao|microrregiao_geografica|nome_microrregiao|municipio|cod_municipio_completo|      nome_municipio|cod_municipio|\n",
      "+---+--------+-------------------------------+------------------------------------+-------------------------------+----------------------+-----------------+-----------------------+-----------------+---------+----------------------+--------------------+-------------+\n",
      "| 11|Rondônia|                           1102|                           Ji-Paraná|                         Cacoal|                    02|Leste Rondoniense|                    006|           Cacoal|    00015|               1100015|Alta Floresta D'O...|       110001|\n",
      "| 11|Rondônia|                           1102|                           Ji-Paraná|                         Cacoal|                    02|Leste Rondoniense|                    006|           Cacoal|    00379|               1100379|Alto Alegre dos P...|       110037|\n",
      "| 11|Rondônia|                           1101|                         Porto Velho|                      Ariquemes|                    02|Leste Rondoniense|                    003|        Ariquemes|    00403|               1100403|        Alto Paraíso|       110040|\n",
      "| 11|Rondônia|                           1102|                           Ji-Paraná|                      Ji-Paraná|                    02|Leste Rondoniense|                    005| Alvorada D'Oeste|    00346|               1100346|    Alvorada D'Oeste|       110034|\n",
      "| 11|Rondônia|                           1101|                         Porto Velho|                      Ariquemes|                    02|Leste Rondoniense|                    003|        Ariquemes|    00023|               1100023|           Ariquemes|       110002|\n",
      "| 11|Rondônia|                           1101|                         Porto Velho|                      Ariquemes|                    01|  Madeira-Guaporé|                    001|      Porto Velho|    00452|               1100452|             Buritis|       110045|\n",
      "| 11|Rondônia|                           1102|                           Ji-Paraná|                        Vilhena|                    02|Leste Rondoniense|                    008|Colorado do Oeste|    00031|               1100031|              Cabixi|       110003|\n",
      "| 11|Rondônia|                           1101|                         Porto Velho|                      Ariquemes|                    02|Leste Rondoniense|                    003|        Ariquemes|    00601|               1100601|         Cacaulândia|       110060|\n",
      "| 11|Rondônia|                           1102|                           Ji-Paraná|                         Cacoal|                    02|Leste Rondoniense|                    006|           Cacoal|    00049|               1100049|              Cacoal|       110004|\n",
      "| 11|Rondônia|                           1101|                         Porto Velho|                      Ariquemes|                    01|  Madeira-Guaporé|                    001|      Porto Velho|    00700|               1100700|Campo Novo de Ron...|       110070|\n",
      "| 11|Rondônia|                           1101|                         Porto Velho|                    Porto Velho|                    01|  Madeira-Guaporé|                    001|      Porto Velho|    00809|               1100809|  Candeias do Jamari|       110080|\n",
      "| 11|Rondônia|                           1102|                           Ji-Paraná|                         Cacoal|                    02|Leste Rondoniense|                    006|           Cacoal|    00908|               1100908|        Castanheiras|       110090|\n",
      "| 11|Rondônia|                           1102|                           Ji-Paraná|                        Vilhena|                    02|Leste Rondoniense|                    008|Colorado do Oeste|    00056|               1100056|          Cerejeiras|       110005|\n",
      "| 11|Rondônia|                           1102|                           Ji-Paraná|                        Vilhena|                    02|Leste Rondoniense|                    007|          Vilhena|    00924|               1100924|         Chupinguaia|       110092|\n",
      "| 11|Rondônia|                           1102|                           Ji-Paraná|                        Vilhena|                    02|Leste Rondoniense|                    008|Colorado do Oeste|    00064|               1100064|   Colorado do Oeste|       110006|\n",
      "| 11|Rondônia|                           1102|                           Ji-Paraná|                        Vilhena|                    02|Leste Rondoniense|                    008|Colorado do Oeste|    00072|               1100072|          Corumbiara|       110007|\n",
      "| 11|Rondônia|                           1102|                           Ji-Paraná|                      Ji-Paraná|                    01|  Madeira-Guaporé|                    002|    Guajará-Mirim|    00080|               1100080|       Costa Marques|       110008|\n",
      "| 11|Rondônia|                           1101|                         Porto Velho|                      Ariquemes|                    01|  Madeira-Guaporé|                    001|      Porto Velho|    00940|               1100940|             Cujubim|       110094|\n",
      "| 11|Rondônia|                           1102|                           Ji-Paraná|                         Cacoal|                    02|Leste Rondoniense|                    006|           Cacoal|    00098|               1100098|     Espigão D'Oeste|       110009|\n",
      "| 11|Rondônia|                           1101|                         Porto Velho|                           Jaru|                    02|Leste Rondoniense|                    004|        Ji-Paraná|    01005|               1101005|Governador Jorge ...|       110100|\n",
      "+---+--------+-------------------------------+------------------------------------+-------------------------------+----------------------+-----------------+-----------------------+-----------------+---------+----------------------+--------------------+-------------+\n",
      "only showing top 20 rows\n",
      "\n"
     ]
    }
   ],
   "source": [
    "municipios = spark.table(\"stage.municipios\")\n",
    "\n",
    "municipios.printSchema()\n",
    "\n",
    "print(municipios.count())\n",
    "\n",
    "municipios.show()"
   ]
  },
  {
   "cell_type": "code",
   "execution_count": 9,
   "id": "bef55a35-80e9-4aa3-934d-67ae7c10d0bf",
   "metadata": {},
   "outputs": [
    {
     "name": "stdout",
     "output_type": "stream",
     "text": [
      "root\n",
      " |-- cod_uf: string (nullable = true)\n",
      " |-- nome_uf: string (nullable = true)\n",
      " |-- regiao: string (nullable = true)\n",
      " |-- sigla: string (nullable = true)\n",
      "\n",
      "27\n",
      "+------+-------------------+--------+-----+\n",
      "|cod_uf|            nome_uf|  regiao|sigla|\n",
      "+------+-------------------+--------+-----+\n",
      "|    11|           Rondônia|   Norte|   RO|\n",
      "|    12|               Acre|   Norte|   AC|\n",
      "|    13|           Amazonas|   Norte|   AM|\n",
      "|    14|            Roraima|   Norte|   RR|\n",
      "|    15|               Pará|   Norte|   PA|\n",
      "|    16|              Amapá|   Norte|   AP|\n",
      "|    17|          Tocantins|   Norte|   TO|\n",
      "|    21|           Maranhão|Nordeste|   MA|\n",
      "|    22|              Piauí|Nordeste|   PI|\n",
      "|    23|              Ceará|Nordeste|   CE|\n",
      "|    24|Rio Grande do Norte|Nordeste|   RN|\n",
      "|    25|            Paraíba|Nordeste|   PB|\n",
      "|    26|         Pernambuco|Nordeste|   PE|\n",
      "|    27|            Alagoas|Nordeste|   AL|\n",
      "|    28|            Sergipe|Nordeste|   SE|\n",
      "|    29|              Bahia|Nordeste|   BA|\n",
      "|    31|       Minas Gerais| Sudeste|   MG|\n",
      "|    32|     Espírito Santo| Sudeste|   ES|\n",
      "|    33|     Rio de Janeiro| Sudeste|   RJ|\n",
      "|    35|          São Paulo| Sudeste|   SP|\n",
      "+------+-------------------+--------+-----+\n",
      "only showing top 20 rows\n",
      "\n"
     ]
    }
   ],
   "source": [
    "estados = spark.table(\"stage.estados\")\n",
    "\n",
    "estados.printSchema()\n",
    "\n",
    "print(estados.count())\n",
    "\n",
    "estados.show()"
   ]
  },
  {
   "cell_type": "code",
   "execution_count": 10,
   "id": "73f41800-bf25-4dd0-957b-9f7dce2e33dd",
   "metadata": {},
   "outputs": [
    {
     "name": "stdout",
     "output_type": "stream",
     "text": [
      "root\n",
      " |-- cod_municipio: string (nullable = true)\n",
      " |-- idhm_2010: string (nullable = true)\n",
      "\n",
      "5564\n",
      "+-------------+---------+\n",
      "|cod_municipio|idhm_2010|\n",
      "+-------------+---------+\n",
      "|       110001|    0.641|\n",
      "|       110002|    0.702|\n",
      "|       110003|     0.65|\n",
      "|       110004|    0.718|\n",
      "|       110005|    0.692|\n",
      "|       110006|    0.685|\n",
      "|       110007|    0.613|\n",
      "|       110008|    0.611|\n",
      "|       110009|    0.672|\n",
      "|       110010|    0.657|\n",
      "|       110011|    0.689|\n",
      "|       110012|    0.714|\n",
      "|       110013|    0.596|\n",
      "|       110014|    0.643|\n",
      "|       110015|    0.682|\n",
      "|       110018|     0.71|\n",
      "|       110020|    0.736|\n",
      "|       110025|    0.664|\n",
      "|       110026|    0.643|\n",
      "|       110028|      0.7|\n",
      "+-------------+---------+\n",
      "only showing top 20 rows\n",
      "\n"
     ]
    }
   ],
   "source": [
    "idhm = spark.table(\"stage.idhm\")\n",
    "\n",
    "idhm.printSchema()\n",
    "\n",
    "print(idhm.count())\n",
    "\n",
    "idhm.show()"
   ]
  },
  {
   "cell_type": "code",
   "execution_count": 11,
   "id": "7416718d-8960-4234-a109-c910774b7041",
   "metadata": {},
   "outputs": [
    {
     "name": "stdout",
     "output_type": "stream",
     "text": [
      "root\n",
      " |-- cod_municipio: string (nullable = true)\n",
      " |-- populacao_residente: string (nullable = true)\n",
      " |-- area_unidade_territorial: string (nullable = true)\n",
      "\n",
      "5564\n",
      "+-------------+-------------------+------------------------+\n",
      "|cod_municipio|populacao_residente|area_unidade_territorial|\n",
      "+-------------+-------------------+------------------------+\n",
      "|       110001|              24392|                7067.025|\n",
      "|       110002|              90353|                4426.571|\n",
      "|       110003|               6313|                1314.362|\n",
      "|       110004|              78574|                3792.801|\n",
      "|       110005|              17029|                  2783.3|\n",
      "|       110006|              18591|                1451.061|\n",
      "|       110007|               8783|                3060.321|\n",
      "|       110008|              13678|                4987.177|\n",
      "|       110009|              28729|                4518.034|\n",
      "|       110010|              41656|               24855.724|\n",
      "|       110011|              52005|                2944.128|\n",
      "|       110012|             116610|                6896.738|\n",
      "|       110013|              31135|                8509.314|\n",
      "|       110014|              19874|                1703.008|\n",
      "|       110015|              37928|                 1969.85|\n",
      "|       110018|              33822|                6240.932|\n",
      "|       110020|             428527|               34096.388|\n",
      "|       110025|              22319|                1758.465|\n",
      "|       110026|               3316|                 1717.64|\n",
      "|       110028|              50648|                1457.888|\n",
      "+-------------+-------------------+------------------------+\n",
      "only showing top 20 rows\n",
      "\n"
     ]
    }
   ],
   "source": [
    "ibge = spark.table(\"stage.ibge\")\n",
    "\n",
    "ibge.printSchema()\n",
    "\n",
    "print(ibge.count())\n",
    "\n",
    "ibge.show()"
   ]
  },
  {
   "cell_type": "code",
   "execution_count": 7,
   "id": "d5c2da03-49d6-465a-92aa-49ed10126764",
   "metadata": {},
   "outputs": [
    {
     "name": "stdout",
     "output_type": "stream",
     "text": [
      "root\n",
      " |-- data: string (nullable = true)\n",
      " |-- nome: string (nullable = true)\n",
      " |-- tipo: string (nullable = true)\n",
      " |-- descricao: string (nullable = true)\n",
      " |-- uf: string (nullable = true)\n",
      " |-- municipio: string (nullable = true)\n",
      " |-- cod_municipio: string (nullable = true)\n",
      "\n",
      "154698\n",
      "+----------+--------------------+---------+--------------------+---+----------------+-------------+\n",
      "|      data|                nome|     tipo|           descricao| uf|       municipio|cod_municipio|\n",
      "+----------+--------------------+---------+--------------------+---+----------------+-------------+\n",
      "|2014-04-28|   Feriado Municipal|MUNICIPAL|                null| AC|     Acrelândia |       120001|\n",
      "|2014-09-06|   Feriado Municipal|MUNICIPAL|                null| AC|     Acrelândia |       120001|\n",
      "|2014-05-14|   Feriado Municipal|MUNICIPAL|                null| AC|   Assis Brasil |       120005|\n",
      "|2014-05-31|   Feriado Municipal|MUNICIPAL|                null| AC|   Assis Brasil |       120005|\n",
      "|2014-08-15|   Feriado Municipal|MUNICIPAL|                null| AC|   Assis Brasil |       120005|\n",
      "|2014-07-03|   Feriado Municipal|MUNICIPAL|                null| AC|      Brasiléia |       120010|\n",
      "|2014-09-06|   Feriado Municipal|MUNICIPAL|                null| AC|      Brasiléia |       120010|\n",
      "|2014-09-06|   Feriado Municipal|MUNICIPAL|                null| AC|         Bujari |       120013|\n",
      "|2014-09-06|   Feriado Municipal|MUNICIPAL|                null| AC|       Capixaba |       120017|\n",
      "|2014-08-15| Nossa Sra da Glória|MUNICIPAL|Nossa Senhora da ...| AC|Cruzeiro do Sul |       430620|\n",
      "|2014-08-15| Nossa Sra da Glória|MUNICIPAL|Nossa Senhora da ...| AC|Cruzeiro do Sul |       410670|\n",
      "|2014-08-15| Nossa Sra da Glória|MUNICIPAL|Nossa Senhora da ...| AC|Cruzeiro do Sul |       120020|\n",
      "|2014-09-28|Aniversário da Ci...|MUNICIPAL|Aniversário de Cr...| AC|Cruzeiro do Sul |       430620|\n",
      "|2014-09-28|Aniversário da Ci...|MUNICIPAL|Aniversário de Cr...| AC|Cruzeiro do Sul |       410670|\n",
      "|2014-09-28|Aniversário da Ci...|MUNICIPAL|Aniversário de Cr...| AC|Cruzeiro do Sul |       120020|\n",
      "|2014-04-28|   Feriado Municipal|MUNICIPAL|                null| AC| Epitaciolândia |       120025|\n",
      "|2014-09-06|   Feriado Municipal|MUNICIPAL|                null| AC| Epitaciolândia |       120025|\n",
      "|2014-06-27|Dia da Padroeira ...|MUNICIPAL|Homenagem a Nossa...| AC|          Feijó |       120030|\n",
      "|2014-09-06|   Feriado Municipal|MUNICIPAL|                null| AC|          Feijó |       120030|\n",
      "|2014-12-21|   Feriado Municipal|MUNICIPAL|                null| AC|          Feijó |       120030|\n",
      "+----------+--------------------+---------+--------------------+---+----------------+-------------+\n",
      "only showing top 20 rows\n",
      "\n"
     ]
    }
   ],
   "source": [
    "feriados = spark.table(\"stage.feriados\")\n",
    "\n",
    "feriados.printSchema()\n",
    "\n",
    "print(feriados.count())\n",
    "\n",
    "feriados.show()"
   ]
  },
  {
   "cell_type": "code",
   "execution_count": 11,
   "id": "66392495-fb1f-49a4-8bb0-50e0c706984a",
   "metadata": {},
   "outputs": [
    {
     "data": {
      "text/html": [
       "<table border='1'>\n",
       "<tr><th>max(data)</th></tr>\n",
       "<tr><td>2025-12-31</td></tr>\n",
       "</table>\n"
      ],
      "text/plain": [
       "+----------+\n",
       "| max(data)|\n",
       "+----------+\n",
       "|2025-12-31|\n",
       "+----------+"
      ]
     },
     "execution_count": 11,
     "metadata": {},
     "output_type": "execute_result"
    }
   ],
   "source": [
    "feriados.select(max(\"data\"))"
   ]
  },
  {
   "cell_type": "code",
   "execution_count": 34,
   "id": "87706165-1ec6-4603-8113-611ee623e3a3",
   "metadata": {},
   "outputs": [],
   "source": [
    "# Join para feriados exatos\n",
    "\n",
    "ciha_fer_1 = ciha.alias(\"c\") \\\n",
    "                .join(\n",
    "                    feriados.filter(\"tipo = 'MUNICIPAL'\").alias(\"f\"),\n",
    "                    [\n",
    "                        col(\"c.dt_atend\") == col(\"f.data\"),\n",
    "                        col(\"c.munic_res\") == col(\"f.cod_municipio\")\n",
    "                    ],\n",
    "                    \"left\"\n",
    "                ) \\\n",
    "                .select(\n",
    "                    *[col(x).alias(x) for x in ciha.columns],\n",
    "                    col(\"f.nome\").alias(\"feriado_mun_nome\"),\n",
    "                    col(\"f.tipo\").alias(\"feriado_mun_tipo\"),\n",
    "                    col(\"f.descricao\").alias(\"feriado_mun_descricao\"),\n",
    "                    col(\"f.uf\").alias(\"feriado_mun_uf\"),\n",
    "                    col(\"f.municipio\").alias(\"feriado_mun_municipio\")\n",
    "                ) \\\n",
    "                .groupBy(\"pk\").agg(\n",
    "                    *[first(x).alias(x) for x in ciha.drop(\"pk\").columns],\n",
    "                    collect_set(\n",
    "                        struct(\n",
    "                            col(\"feriado_mun_nome\"),\n",
    "                            col(\"feriado_mun_tipo\"),\n",
    "                            col(\"feriado_mun_descricao\"),\n",
    "                            col(\"feriado_mun_uf\"),\n",
    "                            col(\"feriado_mun_municipio\")\n",
    "                        )\n",
    "                    ).alias(\"feriado_mun\")\n",
    "                )\n",
    "\n",
    "ciha_fer_2 = ciha_fer_1.alias(\"c\") \\\n",
    "                .join(\n",
    "                    feriados.filter(\"tipo = 'ESTADUAL'\").alias(\"f\"),\n",
    "                    [\n",
    "                        col(\"c.dt_atend\") == col(\"f.data\"),\n",
    "                        col(\"c.estado_uf\") == col(\"f.uf\")\n",
    "                    ],\n",
    "                    \"left\"\n",
    "                ) \\\n",
    "                .select(\n",
    "                    *[col(x).alias(x) for x in ciha_fer_1.columns],\n",
    "                    col(\"f.nome\").alias(\"feriado_est_nome\"),\n",
    "                    col(\"f.tipo\").alias(\"feriado_est_tipo\"),\n",
    "                    col(\"f.descricao\").alias(\"feriado_est_descricao\"),\n",
    "                    col(\"f.uf\").alias(\"feriado_est_uf\"),\n",
    "                    col(\"f.municipio\").alias(\"feriado_est_municipio\")\n",
    "                ) \\\n",
    "                .groupBy(\"pk\").agg(\n",
    "                    *[first(x).alias(x) for x in ciha_fer_1.drop(\"pk\").columns],\n",
    "                    collect_set(\n",
    "                        struct(\n",
    "                            col(\"feriado_est_nome\"),\n",
    "                            col(\"feriado_est_tipo\"),\n",
    "                            col(\"feriado_est_descricao\"),\n",
    "                            col(\"feriado_est_uf\"),\n",
    "                            col(\"feriado_est_municipio\")\n",
    "                        )\n",
    "                    ).alias(\"feriado_est\")\n",
    "                ) \n",
    "\n",
    "ciha_fer_3 = ciha_fer_2.alias(\"c\") \\\n",
    "                .join(\n",
    "                    feriados.filter(\"tipo in ('FACULTATIVO', 'NACIONAL')\").alias(\"f\"),\n",
    "                    [\n",
    "                        col(\"c.dt_atend\") == col(\"f.data\")\n",
    "                    ],\n",
    "                    \"left\"\n",
    "                ) \\\n",
    "                .select(\n",
    "                    *[col(x).alias(x) for x in ciha_fer_2.columns],\n",
    "                    col(\"f.nome\").alias(\"feriado_nac_nome\"),\n",
    "                    col(\"f.tipo\").alias(\"feriado_nac_tipo\"),\n",
    "                    col(\"f.descricao\").alias(\"feriado_nac_descricao\"),\n",
    "                    col(\"f.uf\").alias(\"feriado_nac_uf\"),\n",
    "                    col(\"f.municipio\").alias(\"feriado_nac_municipio\")\n",
    "                ) \\\n",
    "                .groupBy(\"pk\").agg(\n",
    "                    *[first(x).alias(x) for x in ciha_fer_2.drop(\"pk\").columns],\n",
    "                    collect_set(\n",
    "                        struct(\n",
    "                            col(\"feriado_nac_nome\"),\n",
    "                            col(\"feriado_nac_tipo\"),\n",
    "                            col(\"feriado_nac_descricao\"),\n",
    "                            col(\"feriado_nac_uf\"),\n",
    "                            col(\"feriado_nac_municipio\")\n",
    "                        )\n",
    "                    ).alias(\"feriado_nac\")\n",
    "                )\n",
    "\n",
    "ciha_fer_3.write.format(\"parquet\").mode(\"overwrite\").save(\"s3a://datalake/temp/ciha_fer_exatos/\")"
   ]
  },
  {
   "cell_type": "code",
   "execution_count": 5,
   "id": "28d95cf4-a025-4803-8089-a06454dbf595",
   "metadata": {},
   "outputs": [
    {
     "name": "stdout",
     "output_type": "stream",
     "text": [
      "root\n",
      " |-- pk: string (nullable = true)\n",
      " |-- mes_cmpt: string (nullable = true)\n",
      " |-- espec: string (nullable = true)\n",
      " |-- cgc_hosp: string (nullable = true)\n",
      " |-- munic_res: string (nullable = true)\n",
      " |-- nasc: date (nullable = true)\n",
      " |-- sexo: string (nullable = true)\n",
      " |-- uti_mes_to: string (nullable = true)\n",
      " |-- uti_int_to: string (nullable = true)\n",
      " |-- proc_rea: string (nullable = true)\n",
      " |-- qt_proc: string (nullable = true)\n",
      " |-- dt_atend: date (nullable = true)\n",
      " |-- dt_saida: date (nullable = true)\n",
      " |-- diag_princ: string (nullable = true)\n",
      " |-- diag_secun: string (nullable = true)\n",
      " |-- cobranca: string (nullable = true)\n",
      " |-- natureza: string (nullable = true)\n",
      " |-- gestao: string (nullable = true)\n",
      " |-- munic_mov: string (nullable = true)\n",
      " |-- cod_idade: string (nullable = true)\n",
      " |-- idade: string (nullable = true)\n",
      " |-- dias_perm: string (nullable = true)\n",
      " |-- morte: string (nullable = true)\n",
      " |-- nacional: string (nullable = true)\n",
      " |-- car_int: string (nullable = true)\n",
      " |-- homonimo: string (nullable = true)\n",
      " |-- cnes: string (nullable = true)\n",
      " |-- fonte: string (nullable = true)\n",
      " |-- cgc_consor: string (nullable = true)\n",
      " |-- modalidade: string (nullable = true)\n",
      " |-- input_file_name: string (nullable = true)\n",
      " |-- estado_uf: string (nullable = true)\n",
      " |-- ano_cmpt: integer (nullable = true)\n",
      " |-- feriado_mun: array (nullable = true)\n",
      " |    |-- element: struct (containsNull = true)\n",
      " |    |    |-- feriado_mun_nome: string (nullable = true)\n",
      " |    |    |-- feriado_mun_tipo: string (nullable = true)\n",
      " |    |    |-- feriado_mun_descricao: string (nullable = true)\n",
      " |    |    |-- feriado_mun_uf: string (nullable = true)\n",
      " |    |    |-- feriado_mun_municipio: string (nullable = true)\n",
      " |-- feriado_est: array (nullable = true)\n",
      " |    |-- element: struct (containsNull = true)\n",
      " |    |    |-- feriado_est_nome: string (nullable = true)\n",
      " |    |    |-- feriado_est_tipo: string (nullable = true)\n",
      " |    |    |-- feriado_est_descricao: string (nullable = true)\n",
      " |    |    |-- feriado_est_uf: string (nullable = true)\n",
      " |    |    |-- feriado_est_municipio: string (nullable = true)\n",
      " |-- feriado_nac: array (nullable = true)\n",
      " |    |-- element: struct (containsNull = true)\n",
      " |    |    |-- feriado_nac_nome: string (nullable = true)\n",
      " |    |    |-- feriado_nac_tipo: string (nullable = true)\n",
      " |    |    |-- feriado_nac_descricao: string (nullable = true)\n",
      " |    |    |-- feriado_nac_uf: string (nullable = true)\n",
      " |    |    |-- feriado_nac_municipio: string (nullable = true)\n",
      "\n"
     ]
    }
   ],
   "source": [
    "ciha_fer = spark.read.parquet(\"s3a://datalake/temp/ciha_fer_exatos/\")\n",
    "\n",
    "ciha_fer.printSchema()"
   ]
  },
  {
   "cell_type": "code",
   "execution_count": 8,
   "id": "e25bd12e-5aa2-4362-9058-45cf3a12103a",
   "metadata": {},
   "outputs": [],
   "source": [
    "# Join para feriados proximos, considerando uma janela de mais e menos 30 dias\n",
    "\n",
    "ciha_ferpro_1 = ciha_fer \\\n",
    "                    .withColumn(\"dt_atend_m30\", date_sub(col(\"dt_atend\"), lit(30))) \\\n",
    "                    .withColumn(\"dt_atend_p30\", date_add(col(\"dt_atend\"), lit(30))) \\\n",
    "                    .alias(\"c\") \\\n",
    "                    .join(\n",
    "                        feriados.filter(\"tipo = 'MUNICIPAL'\").alias(\"f\"),\n",
    "                        [\n",
    "                            col(\"f.data\").between(col(\"c.dt_atend_m30\"), col(\"c.dt_atend_p30\")),\n",
    "                            col(\"c.munic_res\") == col(\"f.cod_municipio\")\n",
    "                        ],\n",
    "                        \"left\"\n",
    "                    ) \\\n",
    "                    .select(\n",
    "                        *[col(x).alias(x) for x in ciha_fer.columns],\n",
    "                        col(\"c.dt_atend_m30\"),\n",
    "                        col(\"c.dt_atend_p30\"),\n",
    "                        col(\"f.data\").alias(\"feriado_pro_mun_data\"),\n",
    "                        col(\"f.nome\").alias(\"feriado_pro_mun_nome\"),\n",
    "                        col(\"f.tipo\").alias(\"feriado_pro_mun_tipo\"),\n",
    "                        col(\"f.descricao\").alias(\"feriado_pro_mun_descricao\"),\n",
    "                        col(\"f.uf\").alias(\"feriado_pro_mun_uf\"),\n",
    "                        col(\"f.municipio\").alias(\"feriado_pro_mun_municipio\")\n",
    "                    ) \\\n",
    "                    .groupBy(\"pk\").agg(\n",
    "                        *[first(x).alias(x) for x in ciha_fer.drop(\"pk\").columns],\n",
    "                        first(\"c.dt_atend_m30\").alias(\"dt_atend_m30\"),\n",
    "                        first(\"c.dt_atend_p30\").alias(\"dt_atend_p30\"),\n",
    "                        collect_set(\n",
    "                            struct(\n",
    "                                col(\"feriado_pro_mun_data\"),\n",
    "                                col(\"feriado_pro_mun_nome\"),\n",
    "                                col(\"feriado_pro_mun_tipo\"),\n",
    "                                col(\"feriado_pro_mun_descricao\"),\n",
    "                                col(\"feriado_pro_mun_uf\"),\n",
    "                                col(\"feriado_pro_mun_municipio\")\n",
    "                            )\n",
    "                        ).alias(\"feriado_pro_mun\")\n",
    "                    )\n",
    "\n",
    "\n",
    "ciha_ferpro_2 = ciha_ferpro_1.alias(\"c\") \\\n",
    "                .join(\n",
    "                    feriados.filter(\"tipo = 'ESTADUAL'\").alias(\"f\"),\n",
    "                    [\n",
    "                        col(\"f.data\").between(col(\"c.dt_atend_m30\"), col(\"c.dt_atend_p30\")),\n",
    "                        col(\"c.estado_uf\") == col(\"f.uf\")\n",
    "                    ],\n",
    "                    \"left\"\n",
    "                ) \\\n",
    "                .select(\n",
    "                    *[col(x).alias(x) for x in ciha_ferpro_1.columns],\n",
    "                    col(\"f.data\").alias(\"feriado_pro_est_data\"),\n",
    "                    col(\"f.nome\").alias(\"feriado_pro_est_nome\"),\n",
    "                    col(\"f.tipo\").alias(\"feriado_pro_est_tipo\"),\n",
    "                    col(\"f.descricao\").alias(\"feriado_pro_est_descricao\"),\n",
    "                    col(\"f.uf\").alias(\"feriado_pro_est_uf\"),\n",
    "                    col(\"f.municipio\").alias(\"feriado_pro_est_municipio\")\n",
    "                ) \\\n",
    "                .groupBy(\"pk\").agg(\n",
    "                    *[first(x).alias(x) for x in ciha_ferpro_1.drop(\"pk\").columns],\n",
    "                    collect_set(\n",
    "                        struct(\n",
    "                            col(\"feriado_pro_est_data\"),\n",
    "                            col(\"feriado_pro_est_nome\"),\n",
    "                            col(\"feriado_pro_est_tipo\"),\n",
    "                            col(\"feriado_pro_est_descricao\"),\n",
    "                            col(\"feriado_pro_est_uf\"),\n",
    "                            col(\"feriado_pro_est_municipio\")\n",
    "                        )\n",
    "                    ).alias(\"feriado_pro_est\")\n",
    "                ) \n",
    "\n",
    "ciha_ferpro_3 = ciha_ferpro_2.alias(\"c\") \\\n",
    "                .join(\n",
    "                    feriados.filter(\"tipo in ('FACULTATIVO', 'NACIONAL')\").alias(\"f\"),\n",
    "                    [\n",
    "                        col(\"f.data\").between(col(\"c.dt_atend_m30\"), col(\"c.dt_atend_p30\")),\n",
    "                    ],\n",
    "                    \"left\"\n",
    "                ) \\\n",
    "                .select(\n",
    "                    *[col(x).alias(x) for x in ciha_ferpro_2.columns],\n",
    "                    col(\"f.data\").alias(\"feriado_pro_nac_data\"),\n",
    "                    col(\"f.nome\").alias(\"feriado_pro_nac_nome\"),\n",
    "                    col(\"f.tipo\").alias(\"feriado_pro_nac_tipo\"),\n",
    "                    col(\"f.descricao\").alias(\"feriado_pro_nac_descricao\"),\n",
    "                    col(\"f.uf\").alias(\"feriado_pro_nac_uf\"),\n",
    "                    col(\"f.municipio\").alias(\"feriado_pro_nac_municipio\")\n",
    "                ) \\\n",
    "                .groupBy(\"pk\").agg(\n",
    "                    *[first(x).alias(x) for x in ciha_ferpro_2.drop(\"pk\").columns],\n",
    "                    collect_set(\n",
    "                        struct(\n",
    "                            col(\"feriado_pro_nac_data\"),\n",
    "                            col(\"feriado_pro_nac_nome\"),\n",
    "                            col(\"feriado_pro_nac_tipo\"),\n",
    "                            col(\"feriado_pro_nac_descricao\"),\n",
    "                            col(\"feriado_pro_nac_uf\"),\n",
    "                            col(\"feriado_pro_nac_municipio\")\n",
    "                        )\n",
    "                    ).alias(\"feriado_pro_nac\")\n",
    "                )\n",
    "\n",
    "ciha_ferpro_3.write.format(\"parquet\").mode(\"overwrite\").save(\"s3a://datalake/temp/ciha_fer_proximos/\")"
   ]
  },
  {
   "cell_type": "code",
   "execution_count": 9,
   "id": "5818f2d7-374b-42d3-818a-ab9f946cbb05",
   "metadata": {},
   "outputs": [
    {
     "name": "stdout",
     "output_type": "stream",
     "text": [
      "root\n",
      " |-- pk: string (nullable = true)\n",
      " |-- mes_cmpt: string (nullable = true)\n",
      " |-- espec: string (nullable = true)\n",
      " |-- cgc_hosp: string (nullable = true)\n",
      " |-- munic_res: string (nullable = true)\n",
      " |-- nasc: date (nullable = true)\n",
      " |-- sexo: string (nullable = true)\n",
      " |-- uti_mes_to: string (nullable = true)\n",
      " |-- uti_int_to: string (nullable = true)\n",
      " |-- proc_rea: string (nullable = true)\n",
      " |-- qt_proc: string (nullable = true)\n",
      " |-- dt_atend: date (nullable = true)\n",
      " |-- dt_saida: date (nullable = true)\n",
      " |-- diag_princ: string (nullable = true)\n",
      " |-- diag_secun: string (nullable = true)\n",
      " |-- cobranca: string (nullable = true)\n",
      " |-- natureza: string (nullable = true)\n",
      " |-- gestao: string (nullable = true)\n",
      " |-- munic_mov: string (nullable = true)\n",
      " |-- cod_idade: string (nullable = true)\n",
      " |-- idade: string (nullable = true)\n",
      " |-- dias_perm: string (nullable = true)\n",
      " |-- morte: string (nullable = true)\n",
      " |-- nacional: string (nullable = true)\n",
      " |-- car_int: string (nullable = true)\n",
      " |-- homonimo: string (nullable = true)\n",
      " |-- cnes: string (nullable = true)\n",
      " |-- fonte: string (nullable = true)\n",
      " |-- cgc_consor: string (nullable = true)\n",
      " |-- modalidade: string (nullable = true)\n",
      " |-- input_file_name: string (nullable = true)\n",
      " |-- estado_uf: string (nullable = true)\n",
      " |-- ano_cmpt: integer (nullable = true)\n",
      " |-- feriado_mun: array (nullable = true)\n",
      " |    |-- element: struct (containsNull = true)\n",
      " |    |    |-- feriado_mun_nome: string (nullable = true)\n",
      " |    |    |-- feriado_mun_tipo: string (nullable = true)\n",
      " |    |    |-- feriado_mun_descricao: string (nullable = true)\n",
      " |    |    |-- feriado_mun_uf: string (nullable = true)\n",
      " |    |    |-- feriado_mun_municipio: string (nullable = true)\n",
      " |-- feriado_est: array (nullable = true)\n",
      " |    |-- element: struct (containsNull = true)\n",
      " |    |    |-- feriado_est_nome: string (nullable = true)\n",
      " |    |    |-- feriado_est_tipo: string (nullable = true)\n",
      " |    |    |-- feriado_est_descricao: string (nullable = true)\n",
      " |    |    |-- feriado_est_uf: string (nullable = true)\n",
      " |    |    |-- feriado_est_municipio: string (nullable = true)\n",
      " |-- feriado_nac: array (nullable = true)\n",
      " |    |-- element: struct (containsNull = true)\n",
      " |    |    |-- feriado_nac_nome: string (nullable = true)\n",
      " |    |    |-- feriado_nac_tipo: string (nullable = true)\n",
      " |    |    |-- feriado_nac_descricao: string (nullable = true)\n",
      " |    |    |-- feriado_nac_uf: string (nullable = true)\n",
      " |    |    |-- feriado_nac_municipio: string (nullable = true)\n",
      " |-- dt_atend_m30: date (nullable = true)\n",
      " |-- dt_atend_p30: date (nullable = true)\n",
      " |-- feriado_pro_mun: array (nullable = true)\n",
      " |    |-- element: struct (containsNull = true)\n",
      " |    |    |-- feriado_pro_mun_data: string (nullable = true)\n",
      " |    |    |-- feriado_pro_mun_nome: string (nullable = true)\n",
      " |    |    |-- feriado_pro_mun_tipo: string (nullable = true)\n",
      " |    |    |-- feriado_pro_mun_descricao: string (nullable = true)\n",
      " |    |    |-- feriado_pro_mun_uf: string (nullable = true)\n",
      " |    |    |-- feriado_pro_mun_municipio: string (nullable = true)\n",
      " |-- feriado_pro_est: array (nullable = true)\n",
      " |    |-- element: struct (containsNull = true)\n",
      " |    |    |-- feriado_pro_est_data: string (nullable = true)\n",
      " |    |    |-- feriado_pro_est_nome: string (nullable = true)\n",
      " |    |    |-- feriado_pro_est_tipo: string (nullable = true)\n",
      " |    |    |-- feriado_pro_est_descricao: string (nullable = true)\n",
      " |    |    |-- feriado_pro_est_uf: string (nullable = true)\n",
      " |    |    |-- feriado_pro_est_municipio: string (nullable = true)\n",
      " |-- feriado_pro_nac: array (nullable = true)\n",
      " |    |-- element: struct (containsNull = true)\n",
      " |    |    |-- feriado_pro_nac_data: string (nullable = true)\n",
      " |    |    |-- feriado_pro_nac_nome: string (nullable = true)\n",
      " |    |    |-- feriado_pro_nac_tipo: string (nullable = true)\n",
      " |    |    |-- feriado_pro_nac_descricao: string (nullable = true)\n",
      " |    |    |-- feriado_pro_nac_uf: string (nullable = true)\n",
      " |    |    |-- feriado_pro_nac_municipio: string (nullable = true)\n",
      "\n"
     ]
    }
   ],
   "source": [
    "ciha_ferpro = spark.read.parquet(\"s3a://datalake/temp/ciha_fer_proximos/\")\n",
    "\n",
    "ciha_ferpro.printSchema()"
   ]
  },
  {
   "cell_type": "code",
   "execution_count": null,
   "id": "6524e7d5-5aef-4633-8d47-ff95e955c5ca",
   "metadata": {},
   "outputs": [],
   "source": [
    "df_u = ciha_ferpro \\\n",
    "        .select(\n",
    "            \n",
    "        )"
   ]
  },
  {
   "cell_type": "code",
   "execution_count": null,
   "id": "9e8d3542-ee02-4b49-9dd7-2850fdddd559",
   "metadata": {},
   "outputs": [],
   "source": [
    "# ------------------------------------"
   ]
  },
  {
   "cell_type": "code",
   "execution_count": 14,
   "id": "d537104c-58ca-4704-a30c-dda02fafbe89",
   "metadata": {},
   "outputs": [
    {
     "name": "stdout",
     "output_type": "stream",
     "text": [
      "+--------+-----+--------------+---------+----------+----+----------+----------+----------+-------+----------+----------+----------+----------+--------+--------+------+---------+---------+-----+---------+-----+--------+-------+--------+-------+-----+----------+----------+--------------------+----------------+--------+-----------------+-----------------+------------------------+------------------------+------------------+------------------+----------------+----------------+-----------------------------+-----------------------------+----------------------------------+----------------------------------+\n",
      "|mes_cmpt|espec|      cgc_hosp|munic_res|      nasc|sexo|uti_mes_to|uti_int_to|  proc_rea|qt_proc|  dt_atend|  dt_saida|diag_princ|diag_secun|cobranca|natureza|gestao|munic_mov|cod_idade|idade|dias_perm|morte|nacional|car_int|homonimo|   cnes|fonte|cgc_consor|modalidade|     input_file_name|arquivo_sigla_uf|ano_cmpt|munic_res_nome_uf|munic_mov_nome_uf|munic_res_nome_municipio|munic_mov_nome_municipio|munic_res_sigla_uf|munic_mov_sigla_uf|munic_res_regiao|munic_mov_regiao|munic_res_populacao_residente|munic_mov_populacao_residente|munic_res_area_unidade_territorial|munic_mov_area_unidade_territorial|\n",
      "+--------+-----+--------------+---------+----------+----+----------+----------+----------+-------+----------+----------+----------+----------+--------+--------+------+---------+---------+-----+---------+-----+--------+-------+--------+-------+-----+----------+----------+--------------------+----------------+--------+-----------------+-----------------+------------------------+------------------------+------------------+------------------+----------------+----------------+-----------------------------+-----------------------------+----------------------------------+----------------------------------+\n",
      "|      07| null|60552098000111|   355030|1989-12-01|   3|         0|       000|0301010072|      1|2019-07-10|2019-07-10|      M652|      null|    null|    null|     M|   355030|        4|   29|        0|    0|    null|   null|    null|2082624|   01|         1|        01|s3a://datalake/so...|              SP|    2019|        São Paulo|        São Paulo|               São Paulo|               São Paulo|                SP|                SP|         Sudeste|         Sudeste|                     11253503|                     11253503|                          1521.101|                          1521.101|\n",
      "|      07| null|60552098000111|   355030|1982-10-21|   3|         0|       000|0301010072|      1|2019-07-11|2019-07-11|      E221|      null|    null|    null|     M|   355030|        4|   36|        0|    0|    null|   null|    null|2082624|   01|         1|        01|s3a://datalake/so...|              SP|    2019|        São Paulo|        São Paulo|               São Paulo|               São Paulo|                SP|                SP|         Sudeste|         Sudeste|                     11253503|                     11253503|                          1521.101|                          1521.101|\n",
      "|      07| null|60922168000771|   355030|1963-02-22|   3|         0|       000|0301060088|      1|2019-06-30|2019-07-01|      M544|      E788|      12|    null|     M|   355030|        4|   56|        1|    0|    null|   null|    null|2688603|   01|         1|        02|s3a://datalake/so...|              SP|    2019|        São Paulo|        São Paulo|               São Paulo|               São Paulo|                SP|                SP|         Sudeste|         Sudeste|                     11253503|                     11253503|                          1521.101|                          1521.101|\n",
      "|      07| null|61599908000158|   355030|1953-03-03|   1|         0|       000|0301070113|      1|2019-07-19|2019-07-19|      Z000|      null|    null|    null|     M|   355030|        4|   66|        0|    0|    null|   null|    null|2080575|   06|         6|        01|s3a://datalake/so...|              SP|    2019|        São Paulo|        São Paulo|               São Paulo|               São Paulo|                SP|                SP|         Sudeste|         Sudeste|                     11253503|                     11253503|                          1521.101|                          1521.101|\n",
      "|      07| null|61599908000158|   355030|1953-03-03|   1|         0|       000|0205010032|      1|2019-07-29|2019-07-29|      R072|      null|    null|    null|     M|   355030|        4|   66|        0|    0|    null|   null|    null|2080575|   06|         6|        01|s3a://datalake/so...|              SP|    2019|        São Paulo|        São Paulo|               São Paulo|               São Paulo|                SP|                SP|         Sudeste|         Sudeste|                     11253503|                     11253503|                          1521.101|                          1521.101|\n",
      "|      07| null|60975737000232|   355030|1952-07-18|   1|         0|       004|0303130016|      1|2019-07-08|2019-07-12|      I714|       I10|      12|    null|     M|   355030|        4|   66|        4|    0|    null|   null|    null|2688565|   01|         1|        02|s3a://datalake/so...|              SP|    2019|        São Paulo|        São Paulo|               São Paulo|               São Paulo|                SP|                SP|         Sudeste|         Sudeste|                     11253503|                     11253503|                          1521.101|                          1521.101|\n",
      "|      07| null|61590410000124|   355030|1978-12-06|   1|         0|       002|0404010326|      1|2019-07-27|2019-07-30|      J329|      G473|      12|    null|     M|   355030|        4|   40|        3|    0|    null|   null|    null|2079127|   01|         1|        02|s3a://datalake/so...|              SP|    2019|        São Paulo|        São Paulo|               São Paulo|               São Paulo|                SP|                SP|         Sudeste|         Sudeste|                     11253503|                     11253503|                          1521.101|                          1521.101|\n",
      "|      07| null|44803922000293|   353870|1962-05-13|   3|         0|       000|0201010402|      1|2019-07-25|2019-07-25|      D381|      null|      12|    null|     M|   353870|        4|   57|        0|    0|    null|   null|    null|2080699|   01|         1|        02|s3a://datalake/so...|              SP|    2019|        São Paulo|        São Paulo|              Piracicaba|              Piracicaba|                SP|                SP|         Sudeste|         Sudeste|                       364571|                       364571|                          1378.501|                          1378.501|\n",
      "|      07| null|44803922000293|   353870|1951-05-08|   3|         0|       000|0303160063|      1|2019-06-23|2019-07-04|      J459|      null|      12|    null|     M|   353870|        4|   68|       11|    0|    null|   null|    null|2080699|   01|         1|        02|s3a://datalake/so...|              SP|    2019|        São Paulo|        São Paulo|              Piracicaba|              Piracicaba|                SP|                SP|         Sudeste|         Sudeste|                       364571|                       364571|                          1378.501|                          1378.501|\n",
      "|      07| null|60552098000111|   355030|1960-02-13|   1|         0|       000|0301010072|      1|2019-07-17|2019-07-17|       K21|      null|    null|    null|     M|   355030|        4|   59|        0|    0|    null|   null|    null|2082624|   01|         1|        01|s3a://datalake/so...|              SP|    2019|        São Paulo|        São Paulo|               São Paulo|               São Paulo|                SP|                SP|         Sudeste|         Sudeste|                     11253503|                     11253503|                          1521.101|                          1521.101|\n",
      "+--------+-----+--------------+---------+----------+----+----------+----------+----------+-------+----------+----------+----------+----------+--------+--------+------+---------+---------+-----+---------+-----+--------+-------+--------+-------+-----+----------+----------+--------------------+----------------+--------+-----------------+-----------------+------------------------+------------------------+------------------+------------------+----------------+----------------+-----------------------------+-----------------------------+----------------------------------+----------------------------------+\n",
      "\n"
     ]
    }
   ],
   "source": [
    "prefinal = (ciha.alias(\"ciha\")\n",
    "            .join(municipios.alias(\"mun_1\"), col(\"ciha.munic_res\") == col(\"mun_1.cod_municipio\"), \"inner\")\n",
    "            .join(municipios.alias(\"mun_2\"), col(\"ciha.munic_mov\") == col(\"mun_2.cod_municipio\"), \"inner\")\n",
    "            .join(estados.alias(\"est_1\"), col(\"mun_1.uf\") == col(\"est_1.cod_uf\"), \"left\")\n",
    "            .join(estados.alias(\"est_2\"), col(\"mun_2.uf\") == col(\"est_2.cod_uf\"), \"left\")\n",
    "            # .join(idhm.alias(\"idhm\"), col(\"ciha.munic_res\") == col(\"idhm.cod_municipio\"), \"left\")\n",
    "            .join(ibge.alias(\"ibge_1\"), col(\"ciha.munic_res\") == col(\"ibge_1.cod_municipio\"), \"inner\")\n",
    "            .join(ibge.alias(\"ibge_2\"), col(\"ciha.munic_mov\") == col(\"ibge_2.cod_municipio\"), \"inner\")\n",
    "\n",
    "            .select(\n",
    "                col(\"ciha.mes_cmpt\"),\n",
    "                col(\"ciha.espec\"),\n",
    "                col(\"ciha.cgc_hosp\"),\n",
    "                col(\"ciha.munic_res\"),\n",
    "                col(\"ciha.nasc\"),\n",
    "                col(\"ciha.sexo\"),\n",
    "                col(\"ciha.uti_mes_to\"),\n",
    "                col(\"ciha.uti_int_to\"),\n",
    "                col(\"ciha.proc_rea\"),\n",
    "                col(\"ciha.qt_proc\"),\n",
    "                col(\"ciha.dt_atend\"),\n",
    "                col(\"ciha.dt_saida\"),\n",
    "                col(\"ciha.diag_princ\"),\n",
    "                col(\"ciha.diag_secun\"),\n",
    "                col(\"ciha.cobranca\"),\n",
    "                col(\"ciha.natureza\"),\n",
    "                col(\"ciha.gestao\"),\n",
    "                col(\"ciha.munic_mov\"),\n",
    "                col(\"ciha.cod_idade\"),\n",
    "                col(\"ciha.idade\"),\n",
    "                col(\"ciha.dias_perm\"),\n",
    "                col(\"ciha.morte\"),\n",
    "                col(\"ciha.nacional\"),\n",
    "                col(\"ciha.car_int\"),\n",
    "                col(\"ciha.homonimo\"),\n",
    "                col(\"ciha.cnes\"),\n",
    "                col(\"ciha.fonte\"),\n",
    "                col(\"ciha.cgc_consor\"),\n",
    "                col(\"ciha.modalidade\"),\n",
    "                col(\"ciha.input_file_name\"),\n",
    "                col(\"ciha.estado_uf\").alias(\"arquivo_sigla_uf\"),\n",
    "                col(\"ciha.ano_cmpt\"),\n",
    "                col(\"mun_1.nome_uf\").alias(\"munic_res_nome_uf\"),\n",
    "                col(\"mun_2.nome_uf\").alias(\"munic_mov_nome_uf\"),\n",
    "                col(\"mun_1.nome_municipio\").alias(\"munic_res_nome_municipio\"),\n",
    "                col(\"mun_2.nome_municipio\").alias(\"munic_mov_nome_municipio\"),\n",
    "                col(\"est_1.sigla\").alias(\"munic_res_sigla_uf\"),\n",
    "                col(\"est_2.sigla\").alias(\"munic_mov_sigla_uf\"),\n",
    "                col(\"est_1.regiao\").alias(\"munic_res_regiao\"),\n",
    "                col(\"est_2.regiao\").alias(\"munic_mov_regiao\"),\n",
    "                # col(\"idhm.idhm_2010\").alias(\"idhm\"),\n",
    "                col(\"ibge_1.populacao_residente\").alias(\"munic_res_populacao_residente\"),\n",
    "                col(\"ibge_2.populacao_residente\").alias(\"munic_mov_populacao_residente\"),\n",
    "                col(\"ibge_1.area_unidade_territorial\").alias(\"munic_res_area_unidade_territorial\"),\n",
    "                col(\"ibge_2.area_unidade_territorial\").alias(\"munic_mov_area_unidade_territorial\")\n",
    "            )\n",
    "           )\n",
    "\n",
    "prefinal.limit(10).show()"
   ]
  },
  {
   "cell_type": "code",
   "execution_count": 14,
   "id": "92f08afe-9368-4988-93b4-afba2fc3f522",
   "metadata": {},
   "outputs": [
    {
     "data": {
      "text/plain": [
       "126778574"
      ]
     },
     "execution_count": 14,
     "metadata": {},
     "output_type": "execute_result"
    }
   ],
   "source": [
    "prefinal.count()"
   ]
  },
  {
   "cell_type": "code",
   "execution_count": 35,
   "id": "ddcebad9-ab7d-46bf-bc35-e59cd4e174af",
   "metadata": {},
   "outputs": [
    {
     "data": {
      "text/html": [
       "<table border='1'>\n",
       "<tr><th>max(dt_atend)</th></tr>\n",
       "<tr><td>2025-04-30</td></tr>\n",
       "</table>\n"
      ],
      "text/plain": [
       "+-------------+\n",
       "|max(dt_atend)|\n",
       "+-------------+\n",
       "|   2025-04-30|\n",
       "+-------------+"
      ]
     },
     "execution_count": 35,
     "metadata": {},
     "output_type": "execute_result"
    }
   ],
   "source": [
    "prefinal.select(max(\"dt_atend\"))"
   ]
  },
  {
   "cell_type": "code",
   "execution_count": 15,
   "id": "7a673024-366c-402d-866e-ad95e9417b79",
   "metadata": {},
   "outputs": [
    {
     "name": "stdout",
     "output_type": "stream",
     "text": [
      "+--------+-----+--------+---------+----+----+----------+----------+--------+-------+--------+--------+----------+----------+--------+--------+------+---------+---------+-----+---------+-----+--------+-------+--------+----+-----+----------+----------+---------------+----------------+--------+-----------------+-----------------+------------------------+------------------------+------------------+------------------+----------------+----------------+-----------------------------+-----------------------------+----------------------------------+----------------------------------+\n",
      "|mes_cmpt|espec|cgc_hosp|munic_res|nasc|sexo|uti_mes_to|uti_int_to|proc_rea|qt_proc|dt_atend|dt_saida|diag_princ|diag_secun|cobranca|natureza|gestao|munic_mov|cod_idade|idade|dias_perm|morte|nacional|car_int|homonimo|cnes|fonte|cgc_consor|modalidade|input_file_name|arquivo_sigla_uf|ano_cmpt|munic_res_nome_uf|munic_mov_nome_uf|munic_res_nome_municipio|munic_mov_nome_municipio|munic_res_sigla_uf|munic_mov_sigla_uf|munic_res_regiao|munic_mov_regiao|munic_res_populacao_residente|munic_mov_populacao_residente|munic_res_area_unidade_territorial|munic_mov_area_unidade_territorial|\n",
      "+--------+-----+--------+---------+----+----+----------+----------+--------+-------+--------+--------+----------+----------+--------+--------+------+---------+---------+-----+---------+-----+--------+-------+--------+----+-----+----------+----------+---------------+----------------+--------+-----------------+-----------------+------------------------+------------------------+------------------+------------------+----------------+----------------+-----------------------------+-----------------------------+----------------------------------+----------------------------------+\n",
      "+--------+-----+--------+---------+----+----+----------+----------+--------+-------+--------+--------+----------+----------+--------+--------+------+---------+---------+-----+---------+-----+--------+-------+--------+----+-----+----------+----------+---------------+----------------+--------+-----------------+-----------------+------------------------+------------------------+------------------+------------------+----------------+----------------+-----------------------------+-----------------------------+----------------------------------+----------------------------------+\n",
      "\n"
     ]
    }
   ],
   "source": [
    "prefinal.filter(\"arquivo_sigla_uf != munic_mov_sigla_uf \").show(truncate=False)"
   ]
  },
  {
   "cell_type": "code",
   "execution_count": 38,
   "id": "26edb11d-ddc7-46a9-bd0c-721af8acf414",
   "metadata": {},
   "outputs": [],
   "source": [
    "preferiado = prefinal.select(\"dt_atend\", \"munic_res\", \"munic_mov\", \"arquivo_sigla_uf\").distinct()\n",
    "preferiado.write.partitionBy(\"arquivo_sigla_uf\").mode(\"overwrite\").format(\"delta\").option(\"mergeSchema\", \"true\").save(\"s3a://datalake/temp/preferiado/\")"
   ]
  },
  {
   "cell_type": "code",
   "execution_count": 17,
   "id": "da2e89bc-1266-48de-a44d-76508e3dd3bb",
   "metadata": {},
   "outputs": [
    {
     "name": "stdout",
     "output_type": "stream",
     "text": [
      "+----------------+-------+\n",
      "|arquivo_sigla_uf|  count|\n",
      "+----------------+-------+\n",
      "|              SC| 219610|\n",
      "|              RO|   9528|\n",
      "|              PI|  19006|\n",
      "|              AM|   1310|\n",
      "|              GO|  54081|\n",
      "|              TO|   9140|\n",
      "|              MT|  42436|\n",
      "|              SP|1252750|\n",
      "|              ES|  90412|\n",
      "|              PB|  25150|\n",
      "|              RS| 570008|\n",
      "|              MS|  55882|\n",
      "|              AL|  36955|\n",
      "|              MG| 702683|\n",
      "|              PA|  54963|\n",
      "|              BA| 109283|\n",
      "|              SE|  16308|\n",
      "|              PE|  82308|\n",
      "|              CE| 100123|\n",
      "|              RN|  38445|\n",
      "|              RJ| 171017|\n",
      "|              MA|  18107|\n",
      "|              AC|   1223|\n",
      "|              DF|   3465|\n",
      "|              PR| 287808|\n",
      "|              AP|   5298|\n",
      "+----------------+-------+\n",
      "\n"
     ]
    }
   ],
   "source": [
    "preferiado.groupBy(\"arquivo_sigla_uf\").count().show(999)"
   ]
  },
  {
   "cell_type": "code",
   "execution_count": 18,
   "id": "22c7d06d-2d81-4351-8b17-98fcf022072f",
   "metadata": {},
   "outputs": [],
   "source": [
    "ufs = [\n",
    "    # \"SC\",\n",
    "    # \"RO\",\n",
    "    # \"PI\",\n",
    "    # \"AM\",\n",
    "    # \"GO\",\n",
    "    # \"TO\",\n",
    "    # \"MT\",\n",
    "    \"SP\",\n",
    "    \"ES\",\n",
    "    \"PB\",\n",
    "    \"RS\",\n",
    "    \"MS\",\n",
    "    \"AL\",\n",
    "    \"MG\",\n",
    "    \"PA\",\n",
    "    \"BA\",\n",
    "    \"SE\",\n",
    "    \"PE\",\n",
    "    \"CE\",\n",
    "    \"RN\",\n",
    "    \"RJ\",\n",
    "    \"MA\",\n",
    "    \"AC\",\n",
    "    \"DF\",\n",
    "    \"PR\",\n",
    "    \"AP\"\n",
    "]"
   ]
  },
  {
   "cell_type": "code",
   "execution_count": 19,
   "id": "3fbf4c16-5adb-401a-8b26-0257fe6e3f0f",
   "metadata": {},
   "outputs": [
    {
     "name": "stdout",
     "output_type": "stream",
     "text": [
      "2025-06-22 14:32:26: SP\n",
      "2025-06-22 21:24:54: ES\n",
      "2025-06-22 22:02:15: PB\n",
      "2025-06-22 22:12:44: RS\n",
      "2025-06-23 02:08:16: MS\n",
      "2025-06-23 02:31:33: AL\n",
      "2025-06-23 02:47:01: MG\n",
      "2025-06-23 07:36:10: PA\n",
      "2025-06-23 07:59:21: BA\n",
      "2025-06-23 08:45:01: SE\n",
      "2025-06-23 08:51:57: PE\n",
      "2025-06-23 09:25:55: CE\n",
      "2025-06-23 10:07:08: RN\n",
      "2025-06-23 10:22:58: RJ\n",
      "2025-06-23 11:33:12: MA\n",
      "2025-06-23 11:40:49: AC\n",
      "2025-06-23 11:41:24: DF\n",
      "2025-06-23 11:42:54: PR\n",
      "2025-06-23 13:40:51: AP\n"
     ]
    }
   ],
   "source": [
    "for uf in ufs:\n",
    "    print(datetime.now().strftime(\"%Y-%m-%d %H:%M:%S\") + \": \" + uf)\n",
    "    withferiado = spark.read.format(\"delta\").load(\"s3a://datalake/temp/preferiado/\").filter(f\"arquivo_sigla_uf = '{uf}' \").withColumn(\"feriado\", udf_checa_feriados(col(\"dt_atend\"), col(\"munic_res\"), col(\"arquivo_sigla_uf\")))\n",
    "    withferiado.write.partitionBy(\"arquivo_sigla_uf\").mode(\"overwrite\").format(\"delta\").save(\"s3a://datalake/temp/withferiado1/\")"
   ]
  },
  {
   "cell_type": "code",
   "execution_count": null,
   "id": "cbf3874f-4eef-43fe-9a88-ce8ba6df71fc",
   "metadata": {},
   "outputs": [],
   "source": [
    "# Pode continar a partir daqui"
   ]
  },
  {
   "cell_type": "code",
   "execution_count": 12,
   "id": "287b7b9a-66f5-4321-a85c-2b71a10f14b1",
   "metadata": {},
   "outputs": [
    {
     "name": "stdout",
     "output_type": "stream",
     "text": [
      "+----------+---------+---------+----------------+-----------------------------------------------------------------------------------------------------------------------------------------+\n",
      "|dt_atend  |munic_res|munic_mov|arquivo_sigla_uf|feriado                                                                                                                                  |\n",
      "+----------+---------+---------+----------------+-----------------------------------------------------------------------------------------------------------------------------------------+\n",
      "|2001-01-26|353890   |353890   |SP              |{null, null, null, [<FrameSummary file /tmp/ipykernel_104/3567610216.py, line 51 in checa_feriados>] / 'NoneType' object is not iterable}|\n",
      "|2002-08-31|352440   |352440   |SP              |{null, null, null, [<FrameSummary file /tmp/ipykernel_104/3567610216.py, line 51 in checa_feriados>] / 'NoneType' object is not iterable}|\n",
      "|2004-07-13|355030   |355030   |SP              |{null, null, null, [<FrameSummary file /tmp/ipykernel_104/3567610216.py, line 51 in checa_feriados>] / 'NoneType' object is not iterable}|\n",
      "|2000-09-03|352260   |352260   |SP              |{null, null, null, [<FrameSummary file /tmp/ipykernel_104/3567610216.py, line 51 in checa_feriados>] / 'NoneType' object is not iterable}|\n",
      "|2001-01-28|354990   |354990   |SP              |{null, null, null, [<FrameSummary file /tmp/ipykernel_104/3567610216.py, line 51 in checa_feriados>] / 'NoneType' object is not iterable}|\n",
      "|1977-12-11|355250   |354680   |SP              |{null, null, null, [<FrameSummary file /tmp/ipykernel_104/3567610216.py, line 51 in checa_feriados>] / 'NoneType' object is not iterable}|\n",
      "|1973-04-01|355030   |355030   |SP              |{null, null, null, [<FrameSummary file /tmp/ipykernel_104/3567610216.py, line 51 in checa_feriados>] / 'NoneType' object is not iterable}|\n",
      "|2006-04-19|353440   |353440   |SP              |{null, null, null, [<FrameSummary file /tmp/ipykernel_104/3567610216.py, line 51 in checa_feriados>] / 'NoneType' object is not iterable}|\n",
      "|1942-07-28|351940   |354980   |SP              |{null, null, null, [<FrameSummary file /tmp/ipykernel_104/3567610216.py, line 51 in checa_feriados>] / 'NoneType' object is not iterable}|\n",
      "|2005-12-11|315690   |315690   |MG              |{null, null, null, [<FrameSummary file /tmp/ipykernel_104/3567610216.py, line 51 in checa_feriados>] / 'NoneType' object is not iterable}|\n",
      "|1931-04-05|313270   |313270   |MG              |{null, null, null, [<FrameSummary file /tmp/ipykernel_104/3567610216.py, line 51 in checa_feriados>] / 'NoneType' object is not iterable}|\n",
      "|1967-05-29|311100   |311100   |MG              |{null, null, null, [<FrameSummary file /tmp/ipykernel_104/3567610216.py, line 51 in checa_feriados>] / 'NoneType' object is not iterable}|\n",
      "|1971-03-23|310020   |310020   |MG              |{null, null, null, [<FrameSummary file /tmp/ipykernel_104/3567610216.py, line 51 in checa_feriados>] / 'NoneType' object is not iterable}|\n",
      "|1995-11-25|310620   |310620   |MG              |{null, null, null, [<FrameSummary file /tmp/ipykernel_104/3567610216.py, line 51 in checa_feriados>] / 'NoneType' object is not iterable}|\n",
      "|1945-07-14|310020   |310020   |MG              |{null, null, null, [<FrameSummary file /tmp/ipykernel_104/3567610216.py, line 51 in checa_feriados>] / 'NoneType' object is not iterable}|\n",
      "|2007-02-20|316720   |316720   |MG              |{null, null, null, [<FrameSummary file /tmp/ipykernel_104/3567610216.py, line 51 in checa_feriados>] / 'NoneType' object is not iterable}|\n",
      "|1987-12-10|314400   |313770   |MG              |{null, null, null, [<FrameSummary file /tmp/ipykernel_104/3567610216.py, line 51 in checa_feriados>] / 'NoneType' object is not iterable}|\n",
      "|1935-08-21|313270   |313270   |MG              |{null, null, null, [<FrameSummary file /tmp/ipykernel_104/3567610216.py, line 51 in checa_feriados>] / 'NoneType' object is not iterable}|\n",
      "|2005-09-02|317180   |317180   |MG              |{null, null, null, [<FrameSummary file /tmp/ipykernel_104/3567610216.py, line 51 in checa_feriados>] / 'NoneType' object is not iterable}|\n",
      "|2004-08-04|314330   |314330   |MG              |{null, null, null, [<FrameSummary file /tmp/ipykernel_104/3567610216.py, line 51 in checa_feriados>] / 'NoneType' object is not iterable}|\n",
      "+----------+---------+---------+----------------+-----------------------------------------------------------------------------------------------------------------------------------------+\n",
      "only showing top 20 rows\n",
      "\n"
     ]
    }
   ],
   "source": [
    "feriado_done = spark.read.format(\"delta\").load(\"s3a://datalake/temp/withferiado1/\")\n",
    "feriado_done.filter(\"feriado.erro != '' \").show(20, truncate = False)"
   ]
  },
  {
   "cell_type": "code",
   "execution_count": 13,
   "id": "32248b41-bc0c-4256-bc3d-ec5a6618234f",
   "metadata": {},
   "outputs": [
    {
     "data": {
      "text/html": [
       "<table border='1'>\n",
       "<tr><th>max(dt_atend)</th></tr>\n",
       "<tr><td>2025-04-30</td></tr>\n",
       "</table>\n"
      ],
      "text/plain": [
       "+-------------+\n",
       "|max(dt_atend)|\n",
       "+-------------+\n",
       "|   2025-04-30|\n",
       "+-------------+"
      ]
     },
     "execution_count": 13,
     "metadata": {},
     "output_type": "execute_result"
    }
   ],
   "source": [
    "feriado_done.select(max(\"dt_atend\"))"
   ]
  },
  {
   "cell_type": "code",
   "execution_count": 18,
   "id": "7725986a-6e08-4841-8c6d-7c39adbc6528",
   "metadata": {},
   "outputs": [
    {
     "data": {
      "text/html": [
       "<table border='1'>\n",
       "<tr><th>feriado</th><th>distancia_feriado</th></tr>\n",
       "<tr><td>false</td><td>11</td></tr>\n",
       "<tr><td>false</td><td>10</td></tr>\n",
       "<tr><td>false</td><td>861</td></tr>\n",
       "<tr><td>false</td><td>3</td></tr>\n",
       "<tr><td>false</td><td>358</td></tr>\n",
       "<tr><td>false</td><td>227</td></tr>\n",
       "<tr><td>false</td><td>31</td></tr>\n",
       "<tr><td>false</td><td>430</td></tr>\n",
       "<tr><td>false</td><td>629</td></tr>\n",
       "<tr><td>false</td><td>510</td></tr>\n",
       "<tr><td>false</td><td>18</td></tr>\n",
       "<tr><td>false</td><td>199</td></tr>\n",
       "<tr><td>false</td><td>236</td></tr>\n",
       "<tr><td>false</td><td>7</td></tr>\n",
       "<tr><td>false</td><td>715</td></tr>\n",
       "<tr><td>false</td><td>210</td></tr>\n",
       "<tr><td>false</td><td>334</td></tr>\n",
       "<tr><td>false</td><td>84</td></tr>\n",
       "<tr><td>false</td><td>2</td></tr>\n",
       "<tr><td>false</td><td>239</td></tr>\n",
       "</table>\n",
       "only showing top 20 rows\n"
      ],
      "text/plain": [
       "+-------+-----------------+\n",
       "|feriado|distancia_feriado|\n",
       "+-------+-----------------+\n",
       "|  false|               11|\n",
       "|  false|               10|\n",
       "|  false|              861|\n",
       "|  false|                3|\n",
       "|  false|              358|\n",
       "|  false|              227|\n",
       "|  false|               31|\n",
       "|  false|              430|\n",
       "|  false|              629|\n",
       "|  false|              510|\n",
       "|  false|               18|\n",
       "|  false|              199|\n",
       "|  false|              236|\n",
       "|  false|                7|\n",
       "|  false|              715|\n",
       "|  false|              210|\n",
       "|  false|              334|\n",
       "|  false|               84|\n",
       "|  false|                2|\n",
       "|  false|              239|\n",
       "+-------+-----------------+\n",
       "only showing top 20 rows"
      ]
     },
     "execution_count": 18,
     "metadata": {},
     "output_type": "execute_result"
    }
   ],
   "source": [
    "feriado_done.filter(\"feriado.erro == '' \").select(\"feriado.feriado\", \"feriado.distancia_feriado\").distinct()"
   ]
  },
  {
   "cell_type": "code",
   "execution_count": 22,
   "id": "7d8219ac-fc30-4402-af77-adab01f8ed37",
   "metadata": {},
   "outputs": [
    {
     "data": {
      "text/plain": [
       "349"
      ]
     },
     "execution_count": 22,
     "metadata": {},
     "output_type": "execute_result"
    }
   ],
   "source": [
    "feriado_done.filter(\"feriado.erro != '' \").count()"
   ]
  },
  {
   "cell_type": "code",
   "execution_count": 23,
   "id": "43aaac36-39b3-4ee4-8a07-7f0cc0c1cac9",
   "metadata": {},
   "outputs": [
    {
     "data": {
      "text/plain": [
       "3977299"
      ]
     },
     "execution_count": 23,
     "metadata": {},
     "output_type": "execute_result"
    }
   ],
   "source": [
    "feriado_done.count()"
   ]
  },
  {
   "cell_type": "code",
   "execution_count": 23,
   "id": "9b785148-03e6-413f-85df-7ffbef9bb69c",
   "metadata": {},
   "outputs": [
    {
     "name": "stdout",
     "output_type": "stream",
     "text": [
      "+---------+\n",
      "|namespace|\n",
      "+---------+\n",
      "|  default|\n",
      "|    stage|\n",
      "+---------+\n",
      "\n"
     ]
    }
   ],
   "source": [
    "spark.sql(\"show databases\").show()"
   ]
  },
  {
   "cell_type": "code",
   "execution_count": 24,
   "id": "3d4c7b54-3b67-45f7-871e-43fe44809e27",
   "metadata": {},
   "outputs": [
    {
     "name": "stdout",
     "output_type": "stream",
     "text": [
      "+---------+-------------------+-----------+\n",
      "|namespace|          tableName|isTemporary|\n",
      "+---------+-------------------+-----------+\n",
      "|    stage|         municipios|      false|\n",
      "|    stage|            estados|      false|\n",
      "|    stage|           feriados|      false|\n",
      "|    stage|               idhm|      false|\n",
      "|    stage|               ibge|      false|\n",
      "|    stage|         ciha_step1|      false|\n",
      "|    stage|    cid10_capitulos|      false|\n",
      "|    stage|   cid10_categorias|      false|\n",
      "|    stage|       cid10_grupos|      false|\n",
      "|    stage|cid10_subcategorias|      false|\n",
      "|    stage|       cid10_joined|      false|\n",
      "|    stage|         ciha_step2|      false|\n",
      "|    stage|      procedimentos|      false|\n",
      "|    stage|         ciha_step3|      false|\n",
      "|    stage|               ciha|      false|\n",
      "+---------+-------------------+-----------+\n",
      "\n"
     ]
    }
   ],
   "source": [
    "spark.sql(\"show tables from stage\").show()"
   ]
  },
  {
   "cell_type": "code",
   "execution_count": 26,
   "id": "9e1f2787-746f-477a-88d1-eaed5f1a4a75",
   "metadata": {},
   "outputs": [
    {
     "data": {
      "text/plain": [
       "<delta.tables.DeltaTable at 0x7a1448faec10>"
      ]
     },
     "execution_count": 26,
     "metadata": {},
     "output_type": "execute_result"
    }
   ],
   "source": [
    "DeltaTable.createIfNotExists(spark) \\\n",
    "  .tableName(\"stage.ciha_feriados\") \\\n",
    "  .addColumns(feriado_done.schema) \\\n",
    "  .partitionedBy(\"arquivo_sigla_uf\") \\\n",
    "  .execute()"
   ]
  },
  {
   "cell_type": "code",
   "execution_count": 27,
   "id": "93e32f7a-5bca-4282-9e06-b5898ce7f77b",
   "metadata": {},
   "outputs": [],
   "source": [
    "feriado_done.write.mode(\"overwrite\").insertInto(\"stage.ciha_feriados\")"
   ]
  },
  {
   "cell_type": "code",
   "execution_count": 28,
   "id": "d6df2d75-8138-4697-b274-f06fe1a7db80",
   "metadata": {},
   "outputs": [],
   "source": [
    "ciha_feriados = spark.table(\"stage.ciha_feriados\")"
   ]
  },
  {
   "cell_type": "code",
   "execution_count": 29,
   "id": "e71a522b-e560-4051-817c-6c79e37145e2",
   "metadata": {},
   "outputs": [
    {
     "name": "stdout",
     "output_type": "stream",
     "text": [
      "+--------+-----+--------------+---------+----------+----+----------+----------+----------+-------+----------+----------+----------+----------+--------+--------+------+---------+---------+-----+---------+-----+--------+-------+--------+-------+-----+----------+----------+--------------------+----------------+--------+-----------------+-----------------+------------------------+------------------------+------------------+------------------+----------------+----------------+-----------------------------+-----------------------------+----------------------------------+----------------------------------+--------------------+\n",
      "|mes_cmpt|espec|      cgc_hosp|munic_res|      nasc|sexo|uti_mes_to|uti_int_to|  proc_rea|qt_proc|  dt_atend|  dt_saida|diag_princ|diag_secun|cobranca|natureza|gestao|munic_mov|cod_idade|idade|dias_perm|morte|nacional|car_int|homonimo|   cnes|fonte|cgc_consor|modalidade|     input_file_name|arquivo_sigla_uf|ano_cmpt|munic_res_nome_uf|munic_mov_nome_uf|munic_res_nome_municipio|munic_mov_nome_municipio|munic_res_sigla_uf|munic_mov_sigla_uf|munic_res_regiao|munic_mov_regiao|munic_res_populacao_residente|munic_mov_populacao_residente|munic_res_area_unidade_territorial|munic_mov_area_unidade_territorial|             feriado|\n",
      "+--------+-----+--------------+---------+----------+----+----------+----------+----------+-------+----------+----------+----------+----------+--------+--------+------+---------+---------+-----+---------+-----+--------+-------+--------+-------+-----+----------+----------+--------------------+----------------+--------+-----------------+-----------------+------------------------+------------------------+------------------+------------------+----------------+----------------+-----------------------------+-----------------------------+----------------------------------+----------------------------------+--------------------+\n",
      "|      06| null|60453024000390|   355030|1919-09-19|   3|         0|       029|0303040149|      1|2009-09-10|2011-06-28|      I639|      I219|      41|      11|     M|   355030|        4|   89|      656|    1|    null|   null|    null|2081288|   01|        02|      null|s3a://datalake/so...|              SP|    2011|        São Paulo|        São Paulo|               São Paulo|               São Paulo|                SP|                SP|         Sudeste|         Sudeste|                     11253503|                     11253503|                          1521.101|                          1521.101|{false, 113, [{20...|\n",
      "|      09| null|60765823000130|   355030|1927-03-27|   3|         0|       007|0404010377|      1|2010-04-15|2013-09-26|      J969|       J81|      18|      11|     M|   355030|        4|   83|     1260|    0|    null|   null|    null|2058391|   01|         1|        02|s3a://datalake/so...|              SP|    2013|        São Paulo|        São Paulo|               São Paulo|               São Paulo|                SP|                SP|         Sudeste|         Sudeste|                     11253503|                     11253503|                          1521.101|                          1521.101|{false, 6, [{2010...|\n",
      "|      03| null|60975737005110|   355030|1937-01-03|   1|         0|       042|0407020047|      1|2010-04-15|2012-03-20|       I64|      null|      12|      11|     M|   355030|        4|   73|      705|    0|    null|   null|    null|3027600|   01|         1|        02|s3a://datalake/so...|              SP|    2012|        São Paulo|        São Paulo|               São Paulo|               São Paulo|                SP|                SP|         Sudeste|         Sudeste|                     11253503|                     11253503|                          1521.101|                          1521.101|{false, 6, [{2010...|\n",
      "|      02| null|60765823000130|   355030|1922-05-11|   3|         0|       000|0407010211|      1|2010-04-15|2011-02-08|      J988|      I959|      12|      11|     M|   355030|        4|   87|      299|    0|    null|   null|    null|2058391|   01|        02|      null|s3a://datalake/so...|              SP|    2011|        São Paulo|        São Paulo|               São Paulo|               São Paulo|                SP|                SP|         Sudeste|         Sudeste|                     11253503|                     11253503|                          1521.101|                          1521.101|{false, 6, [{2010...|\n",
      "|      01| null|60922168000348|   330455|1934-06-13|   3|         0|       071|0301060070|      1|2010-11-09|2011-01-28|      G919|      null|      12|      11|     M|   330455|        4|   76|       80|    0|    null|   null|    null|2271443|   01|        02|      null|s3a://datalake/so...|              RJ|    2011|   Rio de Janeiro|   Rio de Janeiro|          Rio de Janeiro|          Rio de Janeiro|                RJ|                RJ|         Sudeste|         Sudeste|                      6320446|                      6320446|                          1200.278|                          1200.278|{false, 6, [{2010...|\n",
      "|      01| null|51502821000752|   352710|1941-11-21|   3|         0|       000|0301060088|      1|2010-11-18|2016-01-28|       R54|      null|      41|    null|     M|   352710|        4|   68|     1897|    1|    null|   null|    null|3060616|   01|         1|        02|s3a://datalake/so...|              SP|    2016|        São Paulo|        São Paulo|                    Lins|                    Lins|                SP|                SP|         Sudeste|         Sudeste|                        71432|                        71432|                           571.538|                           571.538|{false, 2, [{2010...|\n",
      "|      02| null|59307074000118|   354880|1936-11-13|   1|         0|        24|0407030026|      1|2010-12-20|2011-02-03|      K810|       R17|      12|      11|     M|   354880|        4|   74|       45|    0|    null|   null|    null|2082330|   01|        02|      null|s3a://datalake/so...|              SP|    2011|        São Paulo|        São Paulo|      São Caetano do Sul|      São Caetano do Sul|                SP|                SP|         Sudeste|         Sudeste|                       149263|                       149263|                            15.331|                            15.331|{false, 5, [{2010...|\n",
      "|      01| null|44402675000132|   354880|1940-07-29|   3|         0|       000|0301060088|      1|2010-12-20|2011-01-10|      Z000|      null|      18|      07|     M|   354880|        4|   70|       21|    0|    null|   null|    null|2080613|   02|        02|      null|s3a://datalake/so...|              SP|    2011|        São Paulo|        São Paulo|      São Caetano do Sul|      São Caetano do Sul|                SP|                SP|         Sudeste|         Sudeste|                       149263|                       149263|                            15.331|                            15.331|{false, 5, [{2010...|\n",
      "|      01| null|51612828000131|   351840|1933-05-22|   1|         0|       004|0406030014|      1|2010-12-24|2011-01-01|      I200|      null|      12|      11|     M|   351840|        4|   77|        8|    0|    null|   null|    null|2081644|   01|        02|      null|s3a://datalake/so...|              SP|    2011|        São Paulo|        São Paulo|           Guaratinguetá|           Guaratinguetá|                SP|                SP|         Sudeste|         Sudeste|                       112072|                       112072|                           752.636|                           752.636|{false, 1, [{2010...|\n",
      "|      01| null|59610394000142|   354890|1966-03-27|   1|         0|       000|0412040166|      1|2010-12-26|2011-01-27|       J91|      null|      51|      11|     M|   354890|        4|   44|       32|    1|    null|   null|    null|2080931|   01|        02|      null|s3a://datalake/so...|              SP|    2011|        São Paulo|        São Paulo|              São Carlos|              São Carlos|                SP|                SP|         Sudeste|         Sudeste|                       221950|                       221950|                          1137.332|                          1137.332|{false, 1, [{2010...|\n",
      "+--------+-----+--------------+---------+----------+----+----------+----------+----------+-------+----------+----------+----------+----------+--------+--------+------+---------+---------+-----+---------+-----+--------+-------+--------+-------+-----+----------+----------+--------------------+----------------+--------+-----------------+-----------------+------------------------+------------------------+------------------+------------------+----------------+----------------+-----------------------------+-----------------------------+----------------------------------+----------------------------------+--------------------+\n",
      "\n"
     ]
    }
   ],
   "source": [
    "ciha_step1 = (ciha.alias(\"ciha\")\n",
    "            .join(municipios.alias(\"mun_1\"), col(\"ciha.munic_res\") == col(\"mun_1.cod_municipio\"), \"inner\")\n",
    "            .join(municipios.alias(\"mun_2\"), col(\"ciha.munic_mov\") == col(\"mun_2.cod_municipio\"), \"inner\")\n",
    "            .join(estados.alias(\"est_1\"), col(\"mun_1.uf\") == col(\"est_1.cod_uf\"), \"left\")\n",
    "            .join(estados.alias(\"est_2\"), col(\"mun_2.uf\") == col(\"est_2.cod_uf\"), \"left\")\n",
    "            # .join(idhm.alias(\"idhm\"), col(\"ciha.munic_res\") == col(\"idhm.cod_municipio\"), \"left\")\n",
    "            .join(ibge.alias(\"ibge_1\"), col(\"ciha.munic_res\") == col(\"ibge_1.cod_municipio\"), \"inner\")\n",
    "            .join(ibge.alias(\"ibge_2\"), col(\"ciha.munic_mov\") == col(\"ibge_2.cod_municipio\"), \"inner\")\n",
    "            .join(ciha_feriados.alias(\"fer\"), \n",
    "                  [col(\"ciha.dt_atend\") == col(\"fer.dt_atend\"), \n",
    "                  col(\"ciha.munic_res\") == col(\"fer.munic_res\"), \n",
    "                  col(\"ciha.munic_mov\") == col(\"fer.munic_mov\"), \n",
    "                  col(\"ciha.estado_uf\") == col(\"fer.arquivo_sigla_uf\")], \n",
    "                  \"inner\")\n",
    "\n",
    "            .select(\n",
    "                col(\"ciha.mes_cmpt\"),\n",
    "                col(\"ciha.espec\"),\n",
    "                col(\"ciha.cgc_hosp\"),\n",
    "                col(\"ciha.munic_res\"),\n",
    "                col(\"ciha.nasc\"),\n",
    "                col(\"ciha.sexo\"),\n",
    "                col(\"ciha.uti_mes_to\"),\n",
    "                col(\"ciha.uti_int_to\"),\n",
    "                col(\"ciha.proc_rea\"),\n",
    "                col(\"ciha.qt_proc\"),\n",
    "                col(\"ciha.dt_atend\"),\n",
    "                col(\"ciha.dt_saida\"),\n",
    "                col(\"ciha.diag_princ\"),\n",
    "                col(\"ciha.diag_secun\"),\n",
    "                col(\"ciha.cobranca\"),\n",
    "                col(\"ciha.natureza\"),\n",
    "                col(\"ciha.gestao\"),\n",
    "                col(\"ciha.munic_mov\"),\n",
    "                col(\"ciha.cod_idade\"),\n",
    "                col(\"ciha.idade\"),\n",
    "                col(\"ciha.dias_perm\"),\n",
    "                col(\"ciha.morte\"),\n",
    "                col(\"ciha.nacional\"),\n",
    "                col(\"ciha.car_int\"),\n",
    "                col(\"ciha.homonimo\"),\n",
    "                col(\"ciha.cnes\"),\n",
    "                col(\"ciha.fonte\"),\n",
    "                col(\"ciha.cgc_consor\"),\n",
    "                col(\"ciha.modalidade\"),\n",
    "                col(\"ciha.input_file_name\"),\n",
    "                col(\"ciha.estado_uf\").alias(\"arquivo_sigla_uf\"),\n",
    "                col(\"ciha.ano_cmpt\"),\n",
    "                col(\"mun_1.nome_uf\").alias(\"munic_res_nome_uf\"),\n",
    "                col(\"mun_2.nome_uf\").alias(\"munic_mov_nome_uf\"),\n",
    "                col(\"mun_1.nome_municipio\").alias(\"munic_res_nome_municipio\"),\n",
    "                col(\"mun_2.nome_municipio\").alias(\"munic_mov_nome_municipio\"),\n",
    "                col(\"est_1.sigla\").alias(\"munic_res_sigla_uf\"),\n",
    "                col(\"est_2.sigla\").alias(\"munic_mov_sigla_uf\"),\n",
    "                col(\"est_1.regiao\").alias(\"munic_res_regiao\"),\n",
    "                col(\"est_2.regiao\").alias(\"munic_mov_regiao\"),\n",
    "                # col(\"idhm.idhm_2010\").alias(\"idhm\"),\n",
    "                col(\"ibge_1.populacao_residente\").alias(\"munic_res_populacao_residente\"),\n",
    "                col(\"ibge_2.populacao_residente\").alias(\"munic_mov_populacao_residente\"),\n",
    "                col(\"ibge_1.area_unidade_territorial\").alias(\"munic_res_area_unidade_territorial\"),\n",
    "                col(\"ibge_2.area_unidade_territorial\").alias(\"munic_mov_area_unidade_territorial\"),\n",
    "                col(\"fer.feriado\").alias(\"feriado\")\n",
    "            )\n",
    "           )\n",
    "\n",
    "ciha_step1.limit(10).show()"
   ]
  },
  {
   "cell_type": "code",
   "execution_count": 30,
   "id": "ef938061-c442-445e-a1fa-991d6732f066",
   "metadata": {},
   "outputs": [
    {
     "name": "stdout",
     "output_type": "stream",
     "text": [
      "+-----------------+\n",
      "|num_affected_rows|\n",
      "+-----------------+\n",
      "|        119528540|\n",
      "+-----------------+\n",
      "\n"
     ]
    }
   ],
   "source": [
    "spark.sql(\"delete from stage.ciha_step1\").show()"
   ]
  },
  {
   "cell_type": "code",
   "execution_count": 24,
   "id": "58d2650c-3838-4a3c-b01d-877f9264e680",
   "metadata": {},
   "outputs": [
    {
     "data": {
      "text/plain": [
       "<delta.tables.DeltaTable at 0x7f3a0b46cc10>"
      ]
     },
     "execution_count": 24,
     "metadata": {},
     "output_type": "execute_result"
    }
   ],
   "source": [
    "DeltaTable.createIfNotExists(spark) \\\n",
    "  .tableName(\"stage.ciha_step1\") \\\n",
    "  .addColumns(ciha_step1.schema) \\\n",
    "  .partitionedBy(\"ano_cmpt\") \\\n",
    "  .execute()"
   ]
  },
  {
   "cell_type": "code",
   "execution_count": 31,
   "id": "c8e8542f-53b9-4bfb-ae64-cd848eab0e6f",
   "metadata": {},
   "outputs": [],
   "source": [
    "ciha_step1.write.mode(\"overwrite\").insertInto(\"stage.ciha_step1\")"
   ]
  },
  {
   "cell_type": "code",
   "execution_count": 19,
   "id": "b0c53f38-cd71-46d7-876e-f54d535adfa5",
   "metadata": {},
   "outputs": [
    {
     "name": "stdout",
     "output_type": "stream",
     "text": [
      "+---------+\n",
      "| count(1)|\n",
      "+---------+\n",
      "|119528540|\n",
      "+---------+\n",
      "\n"
     ]
    }
   ],
   "source": [
    "spark.sql(\"select count(*) from stage.ciha_step1\").show()"
   ]
  },
  {
   "cell_type": "code",
   "execution_count": 33,
   "id": "9ce33559-a13d-4451-91da-62d9643a9e48",
   "metadata": {},
   "outputs": [
    {
     "data": {
      "text/plain": [
       "126778574"
      ]
     },
     "execution_count": 33,
     "metadata": {},
     "output_type": "execute_result"
    }
   ],
   "source": [
    "ciha_step1.count()"
   ]
  },
  {
   "cell_type": "code",
   "execution_count": 32,
   "id": "d3173aec-9471-42ae-b2e2-7bf2d247da89",
   "metadata": {},
   "outputs": [
    {
     "data": {
      "text/html": [
       "<table border='1'>\n",
       "<tr><th>month</th><th>count(1)</th></tr>\n",
       "<tr><td>2025-4</td><td>428803</td></tr>\n",
       "<tr><td>2025-3</td><td>572650</td></tr>\n",
       "<tr><td>2025-2</td><td>644185</td></tr>\n",
       "<tr><td>2025-1</td><td>664742</td></tr>\n",
       "<tr><td>2024-9</td><td>798087</td></tr>\n",
       "<tr><td>2024-8</td><td>822552</td></tr>\n",
       "<tr><td>2024-7</td><td>818334</td></tr>\n",
       "<tr><td>2024-6</td><td>897999</td></tr>\n",
       "<tr><td>2024-5</td><td>948572</td></tr>\n",
       "<tr><td>2024-4</td><td>1072117</td></tr>\n",
       "<tr><td>2024-3</td><td>1012663</td></tr>\n",
       "<tr><td>2024-2</td><td>897287</td></tr>\n",
       "<tr><td>2024-12</td><td>635165</td></tr>\n",
       "<tr><td>2024-11</td><td>755784</td></tr>\n",
       "<tr><td>2024-10</td><td>831779</td></tr>\n",
       "<tr><td>2024-1</td><td>861636</td></tr>\n",
       "<tr><td>2023-9</td><td>1023035</td></tr>\n",
       "<tr><td>2023-8</td><td>1090978</td></tr>\n",
       "<tr><td>2023-7</td><td>927407</td></tr>\n",
       "<tr><td>2023-6</td><td>928674</td></tr>\n",
       "</table>\n",
       "only showing top 20 rows\n"
      ],
      "text/plain": [
       "+-------+--------+\n",
       "|  month|count(1)|\n",
       "+-------+--------+\n",
       "| 2025-4|  428803|\n",
       "| 2025-3|  572650|\n",
       "| 2025-2|  644185|\n",
       "| 2025-1|  664742|\n",
       "| 2024-9|  798087|\n",
       "| 2024-8|  822552|\n",
       "| 2024-7|  818334|\n",
       "| 2024-6|  897999|\n",
       "| 2024-5|  948572|\n",
       "| 2024-4| 1072117|\n",
       "| 2024-3| 1012663|\n",
       "| 2024-2|  897287|\n",
       "|2024-12|  635165|\n",
       "|2024-11|  755784|\n",
       "|2024-10|  831779|\n",
       "| 2024-1|  861636|\n",
       "| 2023-9| 1023035|\n",
       "| 2023-8| 1090978|\n",
       "| 2023-7|  927407|\n",
       "| 2023-6|  928674|\n",
       "+-------+--------+\n",
       "only showing top 20 rows"
      ]
     },
     "execution_count": 32,
     "metadata": {},
     "output_type": "execute_result"
    }
   ],
   "source": [
    "spark.sql(\"select concat(year(cast(dt_atend as date)), '-', month(cast(dt_atend as date))) as month, count(*) from stage.ciha_step1 group by 1 order by 1 desc\")"
   ]
  },
  {
   "cell_type": "code",
   "execution_count": 28,
   "id": "64cdcb52-6b5b-4a53-87b3-bcf46325ea22",
   "metadata": {},
   "outputs": [
    {
     "data": {
      "text/html": [
       "<table border='1'>\n",
       "<tr><th>max(dt_atend)</th></tr>\n",
       "<tr><td>2025-05-02</td></tr>\n",
       "</table>\n"
      ],
      "text/plain": [
       "+-------------+\n",
       "|max(dt_atend)|\n",
       "+-------------+\n",
       "|   2025-05-02|\n",
       "+-------------+"
      ]
     },
     "execution_count": 28,
     "metadata": {},
     "output_type": "execute_result"
    }
   ],
   "source": [
    "spark.sql(\"select max(dt_atend) from stage.ciha\")"
   ]
  },
  {
   "cell_type": "code",
   "execution_count": 4,
   "id": "a05497e7-91a1-4b55-9aeb-d804dfab5762",
   "metadata": {},
   "outputs": [
    {
     "data": {
      "text/html": [
       "<table border='1'>\n",
       "<tr><th>max(dt_atend)</th></tr>\n",
       "<tr><td>2025-04-30</td></tr>\n",
       "</table>\n"
      ],
      "text/plain": [
       "+-------------+\n",
       "|max(dt_atend)|\n",
       "+-------------+\n",
       "|   2025-04-30|\n",
       "+-------------+"
      ]
     },
     "execution_count": 4,
     "metadata": {},
     "output_type": "execute_result"
    }
   ],
   "source": [
    "spark.sql(\"select max(dt_atend) from stage.ciha_step1\")"
   ]
  },
  {
   "cell_type": "code",
   "execution_count": 6,
   "id": "04b28e40-11a7-43d4-a2fb-cb441fbd1908",
   "metadata": {},
   "outputs": [
    {
     "data": {
      "text/html": [
       "<table border='1'>\n",
       "<tr><th>path</th><th>metrics</th></tr>\n",
       "<tr><td>s3a://datalake/st...</td><td>{15, 150, {329404...</td></tr>\n",
       "</table>\n"
      ],
      "text/plain": [
       "+--------------------+--------------------+\n",
       "|                path|             metrics|\n",
       "+--------------------+--------------------+\n",
       "|s3a://datalake/st...|{15, 150, {329404...|\n",
       "+--------------------+--------------------+"
      ]
     },
     "execution_count": 6,
     "metadata": {},
     "output_type": "execute_result"
    }
   ],
   "source": [
    "spark.sql(\"optimize stage.ciha\")"
   ]
  },
  {
   "cell_type": "code",
   "execution_count": 7,
   "id": "6dc06d26-3688-4f54-951d-7b9819f1ae49",
   "metadata": {},
   "outputs": [
    {
     "data": {
      "text/html": [
       "<table border='1'>\n",
       "<tr><th>version</th><th>timestamp</th><th>userId</th><th>userName</th><th>operation</th><th>operationParameters</th><th>job</th><th>notebook</th><th>clusterId</th><th>readVersion</th><th>isolationLevel</th><th>isBlindAppend</th><th>operationMetrics</th><th>userMetadata</th><th>engineInfo</th></tr>\n",
       "<tr><td>16</td><td>2025-06-23 19:06:10</td><td>null</td><td>null</td><td>OPTIMIZE</td><td>{predicate -&gt; [],...</td><td>null</td><td>null</td><td>null</td><td>15</td><td>SnapshotIsolation</td><td>false</td><td>{numRemovedFiles ...</td><td>null</td><td>Apache-Spark/3.4....</td></tr>\n",
       "<tr><td>15</td><td>2025-06-20 02:21:09</td><td>null</td><td>null</td><td>WRITE</td><td>{mode -&gt; Append, ...</td><td>null</td><td>null</td><td>null</td><td>14</td><td>Serializable</td><td>true</td><td>{numFiles -&gt; 10, ...</td><td>null</td><td>Apache-Spark/3.4....</td></tr>\n",
       "<tr><td>14</td><td>2025-06-20 02:20:50</td><td>null</td><td>null</td><td>WRITE</td><td>{mode -&gt; Append, ...</td><td>null</td><td>null</td><td>null</td><td>13</td><td>Serializable</td><td>true</td><td>{numFiles -&gt; 10, ...</td><td>null</td><td>Apache-Spark/3.4....</td></tr>\n",
       "<tr><td>13</td><td>2025-06-20 02:19:58</td><td>null</td><td>null</td><td>WRITE</td><td>{mode -&gt; Append, ...</td><td>null</td><td>null</td><td>null</td><td>12</td><td>Serializable</td><td>true</td><td>{numFiles -&gt; 10, ...</td><td>null</td><td>Apache-Spark/3.4....</td></tr>\n",
       "<tr><td>12</td><td>2025-06-20 02:18:56</td><td>null</td><td>null</td><td>WRITE</td><td>{mode -&gt; Append, ...</td><td>null</td><td>null</td><td>null</td><td>11</td><td>Serializable</td><td>true</td><td>{numFiles -&gt; 10, ...</td><td>null</td><td>Apache-Spark/3.4....</td></tr>\n",
       "<tr><td>11</td><td>2025-06-20 02:17:58</td><td>null</td><td>null</td><td>WRITE</td><td>{mode -&gt; Append, ...</td><td>null</td><td>null</td><td>null</td><td>10</td><td>Serializable</td><td>true</td><td>{numFiles -&gt; 10, ...</td><td>null</td><td>Apache-Spark/3.4....</td></tr>\n",
       "<tr><td>10</td><td>2025-06-20 02:16:55</td><td>null</td><td>null</td><td>WRITE</td><td>{mode -&gt; Append, ...</td><td>null</td><td>null</td><td>null</td><td>9</td><td>Serializable</td><td>true</td><td>{numFiles -&gt; 10, ...</td><td>null</td><td>Apache-Spark/3.4....</td></tr>\n",
       "<tr><td>9</td><td>2025-06-20 02:16:04</td><td>null</td><td>null</td><td>WRITE</td><td>{mode -&gt; Append, ...</td><td>null</td><td>null</td><td>null</td><td>8</td><td>Serializable</td><td>true</td><td>{numFiles -&gt; 10, ...</td><td>null</td><td>Apache-Spark/3.4....</td></tr>\n",
       "<tr><td>8</td><td>2025-06-20 02:15:09</td><td>null</td><td>null</td><td>WRITE</td><td>{mode -&gt; Append, ...</td><td>null</td><td>null</td><td>null</td><td>7</td><td>Serializable</td><td>true</td><td>{numFiles -&gt; 10, ...</td><td>null</td><td>Apache-Spark/3.4....</td></tr>\n",
       "<tr><td>7</td><td>2025-06-20 02:14:17</td><td>null</td><td>null</td><td>WRITE</td><td>{mode -&gt; Append, ...</td><td>null</td><td>null</td><td>null</td><td>6</td><td>Serializable</td><td>true</td><td>{numFiles -&gt; 10, ...</td><td>null</td><td>Apache-Spark/3.4....</td></tr>\n",
       "<tr><td>6</td><td>2025-06-20 02:13:12</td><td>null</td><td>null</td><td>WRITE</td><td>{mode -&gt; Append, ...</td><td>null</td><td>null</td><td>null</td><td>5</td><td>Serializable</td><td>true</td><td>{numFiles -&gt; 10, ...</td><td>null</td><td>Apache-Spark/3.4....</td></tr>\n",
       "<tr><td>5</td><td>2025-06-20 02:12:13</td><td>null</td><td>null</td><td>WRITE</td><td>{mode -&gt; Append, ...</td><td>null</td><td>null</td><td>null</td><td>4</td><td>Serializable</td><td>true</td><td>{numFiles -&gt; 10, ...</td><td>null</td><td>Apache-Spark/3.4....</td></tr>\n",
       "<tr><td>4</td><td>2025-06-20 02:11:21</td><td>null</td><td>null</td><td>WRITE</td><td>{mode -&gt; Append, ...</td><td>null</td><td>null</td><td>null</td><td>3</td><td>Serializable</td><td>true</td><td>{numFiles -&gt; 10, ...</td><td>null</td><td>Apache-Spark/3.4....</td></tr>\n",
       "<tr><td>3</td><td>2025-06-20 02:10:14</td><td>null</td><td>null</td><td>WRITE</td><td>{mode -&gt; Append, ...</td><td>null</td><td>null</td><td>null</td><td>2</td><td>Serializable</td><td>true</td><td>{numFiles -&gt; 10, ...</td><td>null</td><td>Apache-Spark/3.4....</td></tr>\n",
       "<tr><td>2</td><td>2025-06-20 02:09:16</td><td>null</td><td>null</td><td>WRITE</td><td>{mode -&gt; Append, ...</td><td>null</td><td>null</td><td>null</td><td>1</td><td>Serializable</td><td>true</td><td>{numFiles -&gt; 10, ...</td><td>null</td><td>Apache-Spark/3.4....</td></tr>\n",
       "<tr><td>1</td><td>2025-06-20 02:08:28</td><td>null</td><td>null</td><td>WRITE</td><td>{mode -&gt; Append, ...</td><td>null</td><td>null</td><td>null</td><td>0</td><td>Serializable</td><td>true</td><td>{numFiles -&gt; 10, ...</td><td>null</td><td>Apache-Spark/3.4....</td></tr>\n",
       "<tr><td>0</td><td>2025-06-20 02:06:26</td><td>null</td><td>null</td><td>CREATE TABLE</td><td>{isManaged -&gt; tru...</td><td>null</td><td>null</td><td>null</td><td>null</td><td>Serializable</td><td>true</td><td>{}</td><td>null</td><td>Apache-Spark/3.4....</td></tr>\n",
       "</table>\n"
      ],
      "text/plain": [
       "+-------+-------------------+------+--------+------------+--------------------+----+--------+---------+-----------+-----------------+-------------+--------------------+------------+--------------------+\n",
       "|version|          timestamp|userId|userName|   operation| operationParameters| job|notebook|clusterId|readVersion|   isolationLevel|isBlindAppend|    operationMetrics|userMetadata|          engineInfo|\n",
       "+-------+-------------------+------+--------+------------+--------------------+----+--------+---------+-----------+-----------------+-------------+--------------------+------------+--------------------+\n",
       "|     16|2025-06-23 19:06:10|  null|    null|    OPTIMIZE|{predicate -> [],...|null|    null|     null|         15|SnapshotIsolation|        false|{numRemovedFiles ...|        null|Apache-Spark/3.4....|\n",
       "|     15|2025-06-20 02:21:09|  null|    null|       WRITE|{mode -> Append, ...|null|    null|     null|         14|     Serializable|         true|{numFiles -> 10, ...|        null|Apache-Spark/3.4....|\n",
       "|     14|2025-06-20 02:20:50|  null|    null|       WRITE|{mode -> Append, ...|null|    null|     null|         13|     Serializable|         true|{numFiles -> 10, ...|        null|Apache-Spark/3.4....|\n",
       "|     13|2025-06-20 02:19:58|  null|    null|       WRITE|{mode -> Append, ...|null|    null|     null|         12|     Serializable|         true|{numFiles -> 10, ...|        null|Apache-Spark/3.4....|\n",
       "|     12|2025-06-20 02:18:56|  null|    null|       WRITE|{mode -> Append, ...|null|    null|     null|         11|     Serializable|         true|{numFiles -> 10, ...|        null|Apache-Spark/3.4....|\n",
       "|     11|2025-06-20 02:17:58|  null|    null|       WRITE|{mode -> Append, ...|null|    null|     null|         10|     Serializable|         true|{numFiles -> 10, ...|        null|Apache-Spark/3.4....|\n",
       "|     10|2025-06-20 02:16:55|  null|    null|       WRITE|{mode -> Append, ...|null|    null|     null|          9|     Serializable|         true|{numFiles -> 10, ...|        null|Apache-Spark/3.4....|\n",
       "|      9|2025-06-20 02:16:04|  null|    null|       WRITE|{mode -> Append, ...|null|    null|     null|          8|     Serializable|         true|{numFiles -> 10, ...|        null|Apache-Spark/3.4....|\n",
       "|      8|2025-06-20 02:15:09|  null|    null|       WRITE|{mode -> Append, ...|null|    null|     null|          7|     Serializable|         true|{numFiles -> 10, ...|        null|Apache-Spark/3.4....|\n",
       "|      7|2025-06-20 02:14:17|  null|    null|       WRITE|{mode -> Append, ...|null|    null|     null|          6|     Serializable|         true|{numFiles -> 10, ...|        null|Apache-Spark/3.4....|\n",
       "|      6|2025-06-20 02:13:12|  null|    null|       WRITE|{mode -> Append, ...|null|    null|     null|          5|     Serializable|         true|{numFiles -> 10, ...|        null|Apache-Spark/3.4....|\n",
       "|      5|2025-06-20 02:12:13|  null|    null|       WRITE|{mode -> Append, ...|null|    null|     null|          4|     Serializable|         true|{numFiles -> 10, ...|        null|Apache-Spark/3.4....|\n",
       "|      4|2025-06-20 02:11:21|  null|    null|       WRITE|{mode -> Append, ...|null|    null|     null|          3|     Serializable|         true|{numFiles -> 10, ...|        null|Apache-Spark/3.4....|\n",
       "|      3|2025-06-20 02:10:14|  null|    null|       WRITE|{mode -> Append, ...|null|    null|     null|          2|     Serializable|         true|{numFiles -> 10, ...|        null|Apache-Spark/3.4....|\n",
       "|      2|2025-06-20 02:09:16|  null|    null|       WRITE|{mode -> Append, ...|null|    null|     null|          1|     Serializable|         true|{numFiles -> 10, ...|        null|Apache-Spark/3.4....|\n",
       "|      1|2025-06-20 02:08:28|  null|    null|       WRITE|{mode -> Append, ...|null|    null|     null|          0|     Serializable|         true|{numFiles -> 10, ...|        null|Apache-Spark/3.4....|\n",
       "|      0|2025-06-20 02:06:26|  null|    null|CREATE TABLE|{isManaged -> tru...|null|    null|     null|       null|     Serializable|         true|                  {}|        null|Apache-Spark/3.4....|\n",
       "+-------+-------------------+------+--------+------------+--------------------+----+--------+---------+-----------+-----------------+-------------+--------------------+------------+--------------------+"
      ]
     },
     "execution_count": 7,
     "metadata": {},
     "output_type": "execute_result"
    }
   ],
   "source": [
    "spark.sql(\"describe history stage.ciha\")"
   ]
  },
  {
   "cell_type": "code",
   "execution_count": 8,
   "id": "e1864fee-847f-47be-87f9-08ba63105b4b",
   "metadata": {},
   "outputs": [
    {
     "data": {
      "text/html": [
       "<table border='1'>\n",
       "<tr><th>path</th><th>metrics</th></tr>\n",
       "<tr><td>s3a://datalake/st...</td><td>{15, 3000, {37707...</td></tr>\n",
       "</table>\n"
      ],
      "text/plain": [
       "+--------------------+--------------------+\n",
       "|                path|             metrics|\n",
       "+--------------------+--------------------+\n",
       "|s3a://datalake/st...|{15, 3000, {37707...|\n",
       "+--------------------+--------------------+"
      ]
     },
     "execution_count": 8,
     "metadata": {},
     "output_type": "execute_result"
    }
   ],
   "source": [
    "spark.sql(\"optimize stage.ciha_step1\")"
   ]
  },
  {
   "cell_type": "code",
   "execution_count": 9,
   "id": "a2eea4b3-5e29-4844-931b-3bcf88f0cd12",
   "metadata": {},
   "outputs": [
    {
     "data": {
      "text/html": [
       "<table border='1'>\n",
       "<tr><th>version</th><th>timestamp</th><th>userId</th><th>userName</th><th>operation</th><th>operationParameters</th><th>job</th><th>notebook</th><th>clusterId</th><th>readVersion</th><th>isolationLevel</th><th>isBlindAppend</th><th>operationMetrics</th><th>userMetadata</th><th>engineInfo</th></tr>\n",
       "<tr><td>7</td><td>2025-06-23 19:14:45</td><td>null</td><td>null</td><td>OPTIMIZE</td><td>{predicate -&gt; [],...</td><td>null</td><td>null</td><td>null</td><td>6</td><td>SnapshotIsolation</td><td>false</td><td>{numRemovedFiles ...</td><td>null</td><td>Apache-Spark/3.4....</td></tr>\n",
       "<tr><td>6</td><td>2025-06-23 16:07:10</td><td>null</td><td>null</td><td>WRITE</td><td>{mode -&gt; Overwrit...</td><td>null</td><td>null</td><td>null</td><td>5</td><td>Serializable</td><td>false</td><td>{numFiles -&gt; 3000...</td><td>null</td><td>Apache-Spark/3.4....</td></tr>\n",
       "<tr><td>5</td><td>2025-06-23 15:56:25</td><td>null</td><td>null</td><td>DELETE</td><td>{predicate -&gt; [&quot;t...</td><td>null</td><td>null</td><td>null</td><td>4</td><td>Serializable</td><td>false</td><td>{numRemovedFiles ...</td><td>null</td><td>Apache-Spark/3.4....</td></tr>\n",
       "<tr><td>4</td><td>2025-06-21 16:12:41</td><td>null</td><td>null</td><td>WRITE</td><td>{mode -&gt; Overwrit...</td><td>null</td><td>null</td><td>null</td><td>3</td><td>Serializable</td><td>false</td><td>{numFiles -&gt; 2923...</td><td>null</td><td>Apache-Spark/3.4....</td></tr>\n",
       "<tr><td>3</td><td>2025-06-21 05:32:20</td><td>null</td><td>null</td><td>DELETE</td><td>{predicate -&gt; [&quot;t...</td><td>null</td><td>null</td><td>null</td><td>2</td><td>Serializable</td><td>false</td><td>{numRemovedFiles ...</td><td>null</td><td>Apache-Spark/3.4....</td></tr>\n",
       "<tr><td>2</td><td>2025-01-30 03:03:49</td><td>null</td><td>null</td><td>OPTIMIZE</td><td>{predicate -&gt; [],...</td><td>null</td><td>null</td><td>null</td><td>1</td><td>SnapshotIsolation</td><td>false</td><td>{numRemovedFiles ...</td><td>null</td><td>Apache-Spark/3.4....</td></tr>\n",
       "<tr><td>1</td><td>2025-01-30 02:52:25</td><td>null</td><td>null</td><td>WRITE</td><td>{mode -&gt; Append, ...</td><td>null</td><td>null</td><td>null</td><td>0</td><td>Serializable</td><td>true</td><td>{numFiles -&gt; 2800...</td><td>null</td><td>Apache-Spark/3.4....</td></tr>\n",
       "<tr><td>0</td><td>2025-01-30 02:45:06</td><td>null</td><td>null</td><td>CREATE TABLE</td><td>{isManaged -&gt; tru...</td><td>null</td><td>null</td><td>null</td><td>null</td><td>Serializable</td><td>true</td><td>{}</td><td>null</td><td>Apache-Spark/3.4....</td></tr>\n",
       "</table>\n"
      ],
      "text/plain": [
       "+-------+-------------------+------+--------+------------+--------------------+----+--------+---------+-----------+-----------------+-------------+--------------------+------------+--------------------+\n",
       "|version|          timestamp|userId|userName|   operation| operationParameters| job|notebook|clusterId|readVersion|   isolationLevel|isBlindAppend|    operationMetrics|userMetadata|          engineInfo|\n",
       "+-------+-------------------+------+--------+------------+--------------------+----+--------+---------+-----------+-----------------+-------------+--------------------+------------+--------------------+\n",
       "|      7|2025-06-23 19:14:45|  null|    null|    OPTIMIZE|{predicate -> [],...|null|    null|     null|          6|SnapshotIsolation|        false|{numRemovedFiles ...|        null|Apache-Spark/3.4....|\n",
       "|      6|2025-06-23 16:07:10|  null|    null|       WRITE|{mode -> Overwrit...|null|    null|     null|          5|     Serializable|        false|{numFiles -> 3000...|        null|Apache-Spark/3.4....|\n",
       "|      5|2025-06-23 15:56:25|  null|    null|      DELETE|{predicate -> [\"t...|null|    null|     null|          4|     Serializable|        false|{numRemovedFiles ...|        null|Apache-Spark/3.4....|\n",
       "|      4|2025-06-21 16:12:41|  null|    null|       WRITE|{mode -> Overwrit...|null|    null|     null|          3|     Serializable|        false|{numFiles -> 2923...|        null|Apache-Spark/3.4....|\n",
       "|      3|2025-06-21 05:32:20|  null|    null|      DELETE|{predicate -> [\"t...|null|    null|     null|          2|     Serializable|        false|{numRemovedFiles ...|        null|Apache-Spark/3.4....|\n",
       "|      2|2025-01-30 03:03:49|  null|    null|    OPTIMIZE|{predicate -> [],...|null|    null|     null|          1|SnapshotIsolation|        false|{numRemovedFiles ...|        null|Apache-Spark/3.4....|\n",
       "|      1|2025-01-30 02:52:25|  null|    null|       WRITE|{mode -> Append, ...|null|    null|     null|          0|     Serializable|         true|{numFiles -> 2800...|        null|Apache-Spark/3.4....|\n",
       "|      0|2025-01-30 02:45:06|  null|    null|CREATE TABLE|{isManaged -> tru...|null|    null|     null|       null|     Serializable|         true|                  {}|        null|Apache-Spark/3.4....|\n",
       "+-------+-------------------+------+--------+------------+--------------------+----+--------+---------+-----------+-----------------+-------------+--------------------+------------+--------------------+"
      ]
     },
     "execution_count": 9,
     "metadata": {},
     "output_type": "execute_result"
    }
   ],
   "source": [
    "spark.sql(\"describe history stage.ciha_step1\")"
   ]
  },
  {
   "cell_type": "code",
   "execution_count": 5,
   "id": "39eb2224-22bf-4d01-8778-aa0342cea2a6",
   "metadata": {},
   "outputs": [],
   "source": [
    "spark.conf.set(\"spark.databricks.delta.retentionDurationCheck.enabled\", \"false\")"
   ]
  },
  {
   "cell_type": "code",
   "execution_count": 12,
   "id": "63830d6b-3daf-4541-9e1a-9a15a7e57c98",
   "metadata": {},
   "outputs": [
    {
     "data": {
      "text/html": [
       "<table border='1'>\n",
       "<tr><th>path</th></tr>\n",
       "<tr><td>s3a://datalake/st...</td></tr>\n",
       "</table>\n"
      ],
      "text/plain": [
       "+--------------------+\n",
       "|                path|\n",
       "+--------------------+\n",
       "|s3a://datalake/st...|\n",
       "+--------------------+"
      ]
     },
     "execution_count": 12,
     "metadata": {},
     "output_type": "execute_result"
    }
   ],
   "source": [
    "spark.sql(\"VACUUM stage.ciha RETAIN 0 HOURS\")"
   ]
  },
  {
   "cell_type": "code",
   "execution_count": 6,
   "id": "5e6975e8-1d8d-4c2c-a9b1-f4e325f3b96e",
   "metadata": {},
   "outputs": [
    {
     "data": {
      "text/html": [
       "<table border='1'>\n",
       "<tr><th>path</th></tr>\n",
       "<tr><td>s3a://datalake/st...</td></tr>\n",
       "</table>\n"
      ],
      "text/plain": [
       "+--------------------+\n",
       "|                path|\n",
       "+--------------------+\n",
       "|s3a://datalake/st...|\n",
       "+--------------------+"
      ]
     },
     "execution_count": 6,
     "metadata": {},
     "output_type": "execute_result"
    }
   ],
   "source": [
    "spark.sql(\"VACUUM stage.ciha_step1 RETAIN 0 HOURS\")"
   ]
  },
  {
   "cell_type": "code",
   "execution_count": 30,
   "id": "57f10154-3167-4ce8-bd25-edcd18ec00eb",
   "metadata": {},
   "outputs": [],
   "source": [
    "spark.stop()"
   ]
  },
  {
   "cell_type": "code",
   "execution_count": null,
   "id": "1619cbb6-4f18-4017-842d-58e85b27b4b2",
   "metadata": {},
   "outputs": [],
   "source": [
    "# Até aqui, a base do CIHA foi enriquecida com:\n",
    "#  - Nome das cidades (residencia e movimentação)\n",
    "#  - Nome, uf e info dos estados (residencia e movimentação)\n",
    "#  - Infos do IBGE como população e área\n",
    "#  - Calculo de feriados"
   ]
  }
 ],
 "metadata": {
  "kernelspec": {
   "display_name": "Python 3 (ipykernel)",
   "language": "python",
   "name": "python3"
  },
  "language_info": {
   "codemirror_mode": {
    "name": "ipython",
    "version": 3
   },
   "file_extension": ".py",
   "mimetype": "text/x-python",
   "name": "python",
   "nbconvert_exporter": "python",
   "pygments_lexer": "ipython3",
   "version": "3.11.6"
  }
 },
 "nbformat": 4,
 "nbformat_minor": 5
}
