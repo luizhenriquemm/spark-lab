{
 "cells": [
  {
   "cell_type": "code",
   "execution_count": 27,
   "id": "fbc086c8-2a3d-440d-b04b-c4e32a0b09a7",
   "metadata": {},
   "outputs": [],
   "source": [
    "# stage_cid10_joined\n",
    "# Unifica todos os dados do CID10"
   ]
  },
  {
   "cell_type": "code",
   "execution_count": 28,
   "id": "1c5329b5-24c8-4194-84c8-72d4dcf1e250",
   "metadata": {},
   "outputs": [],
   "source": [
    "%run ../spark-default.py"
   ]
  },
  {
   "cell_type": "code",
   "execution_count": 29,
   "id": "e5d8ffd9-0b13-49f7-996b-64d456216f30",
   "metadata": {},
   "outputs": [],
   "source": [
    "from delta.tables import DeltaTable"
   ]
  },
  {
   "cell_type": "code",
   "execution_count": 13,
   "id": "13489393-9b96-42e5-b4eb-e91c074ce3dd",
   "metadata": {},
   "outputs": [],
   "source": []
  },
  {
   "cell_type": "code",
   "execution_count": 53,
   "id": "f04f450b-999a-4260-b62f-a5423194c126",
   "metadata": {},
   "outputs": [
    {
     "name": "stdout",
     "output_type": "stream",
     "text": [
      "+-------------+-------------+----------------+-----------+----------------------------------------------------+-------------------------------------------------+----------+---------+---------+\n",
      "|sub_categoria|classificacao|restringido_sexo|causa_obito|descricao                                           |descricao_abreviada                              |referencia|excluidos|categoria|\n",
      "+-------------+-------------+----------------+-----------+----------------------------------------------------+-------------------------------------------------+----------+---------+---------+\n",
      "|A000         |null         |null            |null       |Cólera devida a Vibrio cholerae 01, biótipo cholerae|A00.0 Colera dev Vibrio cholerae 01 biot cholerae|null      |null     |A00      |\n",
      "|A001         |null         |null            |null       |Cólera devida a Vibrio cholerae 01, biótipo El Tor  |A00.1 Colera dev Vibrio cholerae 01 biot El Tor  |null      |null     |A00      |\n",
      "|A009         |null         |null            |null       |Cólera não especificada                             |A00.9 Colera NE                                  |null      |null     |A00      |\n",
      "|A010         |null         |null            |null       |Febre tifóide                                       |A01.0 Febre tifoide                              |null      |null     |A01      |\n",
      "|A011         |null         |null            |null       |Febre paratifóide A                                 |A01.1 Febre paratifoide A                        |null      |null     |A01      |\n",
      "|A012         |null         |null            |null       |Febre paratifóide B                                 |A01.2 Febre paratifoide B                        |null      |null     |A01      |\n",
      "|A013         |null         |null            |null       |Febre paratifóide C                                 |A01.3 Febre paratifoide C                        |null      |null     |A01      |\n",
      "|A014         |null         |null            |null       |Febre paratifóide não especificada                  |A01.4 Febre paratifoide NE                       |null      |null     |A01      |\n",
      "|A020         |null         |null            |null       |Enterite por salmonela                              |A02.0 Enterite p/salmonela                       |null      |null     |A02      |\n",
      "|A021         |null         |null            |null       |Septicemia por salmonela                            |A02.1 Septicemia p/salmonela                     |null      |null     |A02      |\n",
      "|A022         |null         |null            |null       |Infecções localizadas por salmonela                 |A02.2 Infecc localizadas p/salmonela             |null      |null     |A02      |\n",
      "|A028         |null         |null            |null       |Outras infecções especificadas por salmonela        |A02.8 Outr infecc espec p/salmonela              |null      |null     |A02      |\n",
      "|A029         |null         |null            |null       |Infecção não especificada por salmonela             |A02.9 Infecc NE p/salmonela                      |null      |null     |A02      |\n",
      "|A030         |null         |null            |null       |Shiguelose devida a Shigella dysenteriae            |A03.0 Shiguelose dev Shigella dysenteriae        |null      |null     |A03      |\n",
      "|A031         |null         |null            |null       |Shiguelose devida a Shigella flexneri               |A03.1 Shiguelose dev Shigella flexneri           |null      |null     |A03      |\n",
      "|A032         |null         |null            |null       |Shiguelose devida a Shigella boydii                 |A03.2 Shiguelose dev Shigella boydii             |null      |null     |A03      |\n",
      "|A033         |null         |null            |null       |Shiguelose devida a Shigella sonnei                 |A03.3 Shiguelose dev Shigella sonnei             |null      |null     |A03      |\n",
      "|A038         |null         |null            |null       |Outras shigueloses                                  |A03.8 Outr shigueloses                           |null      |null     |A03      |\n",
      "|A039         |null         |null            |null       |Shiguelose não especificada                         |A03.9 Shiguelose NE                              |null      |null     |A03      |\n",
      "|A040         |null         |null            |null       |Infecção por Escherichia coli enteropatogênica      |A04.0 Infecc p/Escherichia coli enteropatogenica |null      |null     |A04      |\n",
      "+-------------+-------------+----------------+-----------+----------------------------------------------------+-------------------------------------------------+----------+---------+---------+\n",
      "only showing top 20 rows\n",
      "\n"
     ]
    }
   ],
   "source": [
    "cid10_subcategorias = spark.table(\"stage.cid10_subcategorias\")\n",
    "cid10_subcategorias = cid10_subcategorias.withColumn(\"categoria\", substring('sub_categoria', 0, 3))\n",
    "cid10_subcategorias.show(truncate=False)"
   ]
  },
  {
   "cell_type": "code",
   "execution_count": 54,
   "id": "660ecb54-f88e-41b8-ae9b-b89bcd260d77",
   "metadata": {},
   "outputs": [
    {
     "name": "stdout",
     "output_type": "stream",
     "text": [
      "+---------+-------------+---------------------------------------------------------------------------------+--------------------------------------------------+----------+-------------------------+--------------------------+\n",
      "|categoria|classificacao|descricao                                                                        |descricao_abreviada                               |referencia|identificador_grupo_letra|identificador_grupo_numero|\n",
      "+---------+-------------+---------------------------------------------------------------------------------+--------------------------------------------------+----------+-------------------------+--------------------------+\n",
      "|A00      |null         |Cólera                                                                           |A00   Colera                                      |null      |A                        |0                         |\n",
      "|A01      |null         |Febres tifóide e paratifóide                                                     |A01   Febres tifoide e paratifoide                |null      |A                        |1                         |\n",
      "|A02      |null         |Outras infecções por Salmonella                                                  |A02   Outr infecc p/Salmonella                    |null      |A                        |2                         |\n",
      "|A03      |null         |Shiguelose                                                                       |A03   Shiguelose                                  |null      |A                        |3                         |\n",
      "|A04      |null         |Outras infecções intestinais bacterianas                                         |A04   Outr infecc intestinais bacter              |null      |A                        |4                         |\n",
      "|A05      |null         |Outras intoxicações alimentares bacterianas, não classificadas em outra parte    |A05   Outr intox alimentares bacter NCOP          |null      |A                        |5                         |\n",
      "|A06      |null         |Amebíase                                                                         |A06   Amebiase                                    |null      |A                        |6                         |\n",
      "|A07      |null         |Outras doenças intestinais por protozoários                                      |A07   Outr doenc intestinais p/protozoarios       |null      |A                        |7                         |\n",
      "|A08      |null         |Infecções intestinais virais, outras e as não especificadas                      |A08   Infecc intestinais virais outr e as NE      |null      |A                        |8                         |\n",
      "|A09      |null         |Diarréia e gastroenterite de origem infecciosa presumível                        |A09   Diarreia e gastroenterite orig infecc presum|null      |A                        |9                         |\n",
      "|A15      |null         |Tuberculose respiratória, com confirmação bacteriológica e histológica           |A15   Tuberc respirat c/conf bacteriol e histolog |null      |A                        |15                        |\n",
      "|A16      |null         |Tuberculose das vias respiratórias, sem confirmação bacteriológica ou histológica|A16   Tuberc vias respirat s/conf bacter histol   |null      |A                        |16                        |\n",
      "|A17      |+            |Tuberculose do sistema nervoso                                                   |A17   Tuberc do sist nervoso                      |null      |A                        |17                        |\n",
      "|A18      |null         |Tuberculose de outros órgãos                                                     |A18   Tuberc de outr orgaos                       |null      |A                        |18                        |\n",
      "|A19      |null         |Tuberculose miliar                                                               |A19   Tuberc miliar                               |null      |A                        |19                        |\n",
      "|A20      |null         |Peste                                                                            |A20   Peste                                       |null      |A                        |20                        |\n",
      "|A21      |null         |Tularemia                                                                        |A21   Tularemia                                   |null      |A                        |21                        |\n",
      "|A22      |null         |Carbúnculo                                                                       |A22   Carbunculo                                  |null      |A                        |22                        |\n",
      "|A23      |null         |Brucelose                                                                        |A23   Brucelose                                   |null      |A                        |23                        |\n",
      "|A24      |null         |Mormo e melioidose                                                               |A24   Mormo e melioidose                          |null      |A                        |24                        |\n",
      "+---------+-------------+---------------------------------------------------------------------------------+--------------------------------------------------+----------+-------------------------+--------------------------+\n",
      "only showing top 20 rows\n",
      "\n"
     ]
    }
   ],
   "source": [
    "cid10_categorias = spark.table(\"stage.cid10_categorias\")\n",
    "cid10_categorias = cid10_categorias.withColumn(\"identificador_grupo_letra\", substring('categoria', 0, 1)).withColumn(\"identificador_grupo_numero\", substring('categoria', 2, 2).cast(\"integer\"))\n",
    "cid10_categorias.show(truncate=False)"
   ]
  },
  {
   "cell_type": "code",
   "execution_count": 59,
   "id": "0c194d0f-c829-40ed-986e-265b6dcd49cc",
   "metadata": {},
   "outputs": [
    {
     "name": "stdout",
     "output_type": "stream",
     "text": [
      "+----------------+-------------+---------------------------------------------------------------------+--------------------------------------------------+----------------------+-----------------------+-------------------+--------------------+\n",
      "|categoria_inicio|categoria_fim|descricao                                                            |descricao_abreviada                               |categoria_inicio_letra|categoria_inicio_numero|categoria_fim_letra|categoria_fim_numero|\n",
      "+----------------+-------------+---------------------------------------------------------------------+--------------------------------------------------+----------------------+-----------------------+-------------------+--------------------+\n",
      "|A00             |A09          |Doenças infecciosas intestinais                                      |Doenças infecciosas intestinais                   |A                     |0                      |A                  |9                   |\n",
      "|A15             |A19          |Tuberculose                                                          |Tuberculose                                       |A                     |15                     |A                  |19                  |\n",
      "|A20             |A28          |Algumas doenças bacterianas zoonóticas                               |Algumas doenças bacterianas zoonóticas            |A                     |20                     |A                  |28                  |\n",
      "|A30             |A49          |Outras doenças bacterianas                                           |Outras doenças bacterianas                        |A                     |30                     |A                  |49                  |\n",
      "|A50             |A64          |Infecções de transmissão predominantemente sexual                    |Infecções de transmissão predominantemente sexual |A                     |50                     |A                  |64                  |\n",
      "|A65             |A69          |Outras doenças por espiroquetas                                      |Outras doenças por espiroquetas                   |A                     |65                     |A                  |69                  |\n",
      "|A70             |A74          |Outras doenças causadas por clamídias                                |Outras doenças causadas por clamídias             |A                     |70                     |A                  |74                  |\n",
      "|A75             |A79          |Rickettsioses                                                        |Rickettsioses                                     |A                     |75                     |A                  |79                  |\n",
      "|A80             |A89          |Infecções virais do sistema nervoso central                          |Infecções virais do sistema nervoso central       |A                     |80                     |A                  |89                  |\n",
      "|A90             |A99          |Febres por arbovírus e febres hemorrágicas virais                    |Febres por arbovírus e febres hemorrágicas virais |A                     |90                     |A                  |99                  |\n",
      "|B00             |B09          |Infecções virais caracterizadas por lesões de pele e mucosas         |Infecções virais caract p/lesões de pele e mucosas|B                     |0                      |B                  |9                   |\n",
      "|B15             |B19          |Hepatite viral                                                       |Hepatite viral                                    |B                     |15                     |B                  |19                  |\n",
      "|B20             |B24          |Doença pelo vírus da imunodeficiência humana [HIV]                   |Doença pelo vírus da imunodeficiência humana [HIV]|B                     |20                     |B                  |24                  |\n",
      "|B25             |B34          |Outras doenças por vírus                                             |Outras doenças por vírus                          |B                     |25                     |B                  |34                  |\n",
      "|B35             |B49          |Micoses                                                              |Micoses                                           |B                     |35                     |B                  |49                  |\n",
      "|B50             |B64          |Doenças devidas a protozoários                                       |Doenças devidas a protozoários                    |B                     |50                     |B                  |64                  |\n",
      "|B65             |B83          |Helmintíases                                                         |Helmintíases                                      |B                     |65                     |B                  |83                  |\n",
      "|B85             |B89          |Pediculose, acaríase e outras infestações                            |Pediculose, acaríase e outras infestações         |B                     |85                     |B                  |89                  |\n",
      "|B90             |B94          |Seqüelas de doenças infecciosas e parasitárias                       |Seqüelas de doenças infecciosas e parasitárias    |B                     |90                     |B                  |94                  |\n",
      "|B95             |B97          |Agentes de infecções bacterianas, virais e outros agentes infecciosos|Agentes infec bacter, virais e outr agentes infecc|B                     |95                     |B                  |97                  |\n",
      "+----------------+-------------+---------------------------------------------------------------------+--------------------------------------------------+----------------------+-----------------------+-------------------+--------------------+\n",
      "only showing top 20 rows\n",
      "\n"
     ]
    }
   ],
   "source": [
    "cid10_grupos = spark.table(\"stage.cid10_grupos\") \\\n",
    "            .withColumn(\"categoria_inicio_letra\", substring(\"categoria_inicio\", 0, 1)) \\\n",
    "            .withColumn(\"categoria_inicio_numero\", substring(\"categoria_inicio\", 2, 2).cast(\"integer\")) \\\n",
    "            .withColumn(\"categoria_fim_letra\", substring(\"categoria_fim\", 0, 1)) \\\n",
    "            .withColumn(\"categoria_fim_numero\", substring(\"categoria_fim\", 2, 2).cast(\"integer\")) \n",
    "\n",
    "cid10_grupos.show(truncate=False)"
   ]
  },
  {
   "cell_type": "code",
   "execution_count": 56,
   "id": "ef1a0e1d-5838-4f48-a54b-085921b554c2",
   "metadata": {},
   "outputs": [
    {
     "name": "stdout",
     "output_type": "stream",
     "text": [
      "+----------------+-------------+-------------------------------------------------+-------------------------------------------------+----------------------+-----------------------+-------------------+--------------------+\n",
      "|categoria_inicio|categoria_fim|descricao                                        |descricao_abreviada                              |categoria_inicio_letra|categoria_inicio_numero|categoria_fim_letra|categoria_fim_numero|\n",
      "+----------------+-------------+-------------------------------------------------+-------------------------------------------------+----------------------+-----------------------+-------------------+--------------------+\n",
      "|V01             |X59          |Acidentes                                        |Acidentes                                        |V                     |01                     |X                  |59                  |\n",
      "|W00             |X59          |Outras causas externas de traumatismos acidentais|Outras causas externas de traumatismos acidentais|W                     |00                     |X                  |59                  |\n",
      "|X85             |Y09          |Agressões                                        |Agressões                                        |X                     |85                     |Y                  |09                  |\n",
      "+----------------+-------------+-------------------------------------------------+-------------------------------------------------+----------------------+-----------------------+-------------------+--------------------+\n",
      "\n"
     ]
    }
   ],
   "source": [
    "cid10_grupos.filter(\"substring(categoria_inicio, 0, 1) != substring(categoria_fim, 0, 1) \").show(30, truncate=False)"
   ]
  },
  {
   "cell_type": "code",
   "execution_count": 68,
   "id": "4fd73abc-3748-4e4b-8f6c-ea743647f3f5",
   "metadata": {},
   "outputs": [
    {
     "name": "stdout",
     "output_type": "stream",
     "text": [
      "+---------------+----------------+-------------+--------------------------------------------------------------------------------------------------------------------------+--------------------------------------------------+----------------------+-----------------------+-------------------+--------------------+\n",
      "|numero_capitulo|categoria_inicio|categoria_fim|descricao                                                                                                                 |descricao_abreviada                               |categoria_inicio_letra|categoria_inicio_numero|categoria_fim_letra|categoria_fim_numero|\n",
      "+---------------+----------------+-------------+--------------------------------------------------------------------------------------------------------------------------+--------------------------------------------------+----------------------+-----------------------+-------------------+--------------------+\n",
      "|1              |A00             |B99          |Capítulo I - Algumas doenças infecciosas e parasitárias                                                                   |I.   Algumas doenças infecciosas e parasitárias   |A                     |0                      |B                  |99                  |\n",
      "|2              |C00             |D48          |Capítulo II - Neoplasias [tumores]                                                                                        |II.  Neoplasias (tumores)                         |C                     |0                      |D                  |48                  |\n",
      "|3              |D50             |D89          |Capítulo III  - Doenças do sangue e dos órgãos hematopoéticos e alguns transtornos imunitários                            |III. Doenças sangue órgãos hemat e transt imunitár|D                     |50                     |D                  |89                  |\n",
      "|4              |E00             |E90          |Capítulo IV - Doenças endócrinas, nutricionais e metabólicas                                                              |IV.  Doenças endócrinas nutricionais e metabólicas|E                     |0                      |E                  |90                  |\n",
      "|5              |F00             |F99          |Capítulo V - Transtornos mentais e comportamentais                                                                        |V.   Transtornos mentais e comportamentais        |F                     |0                      |F                  |99                  |\n",
      "|6              |G00             |G99          |Capítulo VI - Doenças do sistema nervoso                                                                                  |VI.  Doenças do sistema nervoso                   |G                     |0                      |G                  |99                  |\n",
      "|7              |H00             |H59          |Capítulo VII - Doenças do olho e anexos                                                                                   |VII. Doenças do olho e anexos                     |H                     |0                      |H                  |59                  |\n",
      "|8              |H60             |H95          |Capítulo VIII - Doenças do ouvido e da apófise mastóide                                                                   |VIII.Doenças do ouvido e da apófise mastóide      |H                     |60                     |H                  |95                  |\n",
      "|9              |I00             |I99          |Capítulo IX - Doenças do aparelho circulatório                                                                            |IX.  Doenças do aparelho circulatório             |I                     |0                      |I                  |99                  |\n",
      "|10             |J00             |J99          |Capítulo X - Doenças do aparelho respiratório                                                                             |X.   Doenças do aparelho respiratório             |J                     |0                      |J                  |99                  |\n",
      "|11             |K00             |K93          |Capítulo XI - Doenças do aparelho digestivo                                                                               |XI.  Doenças do aparelho digestivo                |K                     |0                      |K                  |93                  |\n",
      "|12             |L00             |L99          |Capítulo XII - Doenças da pele e do tecido subcutâneo                                                                     |XII. Doenças da pele e do tecido subcutâneo       |L                     |0                      |L                  |99                  |\n",
      "|13             |M00             |M99          |Capítulo XIII - Doenças do sistema osteomuscular e do tecido conjuntivo                                                   |XIII.Doenças sist osteomuscular e tec conjuntivo  |M                     |0                      |M                  |99                  |\n",
      "|14             |N00             |N99          |Capítulo XIV - Doenças do aparelho geniturinário                                                                          |XIV. Doenças do aparelho geniturinário            |N                     |0                      |N                  |99                  |\n",
      "|15             |O00             |O99          |Capítulo XV - Gravidez, parto e puerpério                                                                                 |XV.  Gravidez parto e puerpério                   |O                     |0                      |O                  |99                  |\n",
      "|16             |P00             |P96          |Capítulo XVI - Algumas afecções originadas no período perinatal                                                           |XVI. Algumas afec originadas no período perinatal |P                     |0                      |P                  |96                  |\n",
      "|17             |Q00             |Q99          |Capítulo XVII - Malformações congênitas, deformidades e anomalias cromossômicas                                           |XVII.Malf cong deformid e anomalias cromossômicas |Q                     |0                      |Q                  |99                  |\n",
      "|18             |R00             |R99          |Capítulo XVIII - Sintomas, sinais e achados anormais de exames clínicos e de laboratório, não classificados em outra parte|XVIII.Sint sinais e achad anorm ex clín e laborat |R                     |0                      |R                  |99                  |\n",
      "|19             |S00             |T98          |Capítulo XIX - Lesões, envenenamento e algumas outras conseqüências de causas externas                                    |XIX. Lesões enven e alg out conseq causas externas|S                     |0                      |T                  |98                  |\n",
      "|20             |V01             |Y98          |Capítulo XX - Causas externas de morbidade e de mortalidade                                                               |XX.  Causas externas de morbidade e mortalidade   |V                     |1                      |Y                  |98                  |\n",
      "|21             |Z00             |Z99          |Capítulo XXI - Fatores que influenciam o estado de saúde e o contato com os serviços de saúde                             |XXI. Contatos com serviços de saúde               |Z                     |0                      |Z                  |99                  |\n",
      "|22             |U04             |U99          |Capítulo XXII - Códigos para propósitos especiais                                                                         |XXII.Códigos para propósitos especiais            |U                     |4                      |U                  |99                  |\n",
      "+---------------+----------------+-------------+--------------------------------------------------------------------------------------------------------------------------+--------------------------------------------------+----------------------+-----------------------+-------------------+--------------------+\n",
      "\n"
     ]
    }
   ],
   "source": [
    "cid10_capitulos= spark.table(\"stage.cid10_capitulos\") \\\n",
    "            .withColumn(\"categoria_inicio_letra\", substring(\"categoria_inicio\", 0, 1)) \\\n",
    "            .withColumn(\"categoria_inicio_numero\", substring(\"categoria_inicio\", 2, 2).cast(\"integer\")) \\\n",
    "            .withColumn(\"categoria_fim_letra\", substring(\"categoria_fim\", 0, 1)) \\\n",
    "            .withColumn(\"categoria_fim_numero\", substring(\"categoria_fim\", 2, 2).cast(\"integer\")) \n",
    "\n",
    "cid10_capitulos.show(30, truncate=False)"
   ]
  },
  {
   "cell_type": "code",
   "execution_count": 81,
   "id": "9a269f9a-409d-453a-b618-3a9a366ee09e",
   "metadata": {},
   "outputs": [
    {
     "name": "stdout",
     "output_type": "stream",
     "text": [
      "+-------------+---------------------------+----------------+-----------+----------------------------------------------------+-------------------------------------------------+------------------------+-----------------------+---------+-----------------------+----------------------------------------+------------------------------------+--------------------+---------------+-------------------------------------------------------+-----------------------------------------------+\n",
      "|sub_categoria|sub_categoria_classificacao|restringido_sexo|causa_obito|sub_categoria_descricao                             |sub_categoria_descricao_abreviada                |sub_categoria_referencia|sub_categoria_excluidos|categoria|categoria_classificacao|categoria_descricao                     |categoria_descricao_abreviada       |categoria_referencia|capitulo_numero|capitulo_descricao                                     |capitulo_descricao_abreviada                   |\n",
      "+-------------+---------------------------+----------------+-----------+----------------------------------------------------+-------------------------------------------------+------------------------+-----------------------+---------+-----------------------+----------------------------------------+------------------------------------+--------------------+---------------+-------------------------------------------------------+-----------------------------------------------+\n",
      "|A000         |null                       |null            |null       |Cólera devida a Vibrio cholerae 01, biótipo cholerae|A00.0 Colera dev Vibrio cholerae 01 biot cholerae|null                    |null                   |A00      |null                   |Cólera                                  |A00   Colera                        |null                |1              |Capítulo I - Algumas doenças infecciosas e parasitárias|I.   Algumas doenças infecciosas e parasitárias|\n",
      "|A001         |null                       |null            |null       |Cólera devida a Vibrio cholerae 01, biótipo El Tor  |A00.1 Colera dev Vibrio cholerae 01 biot El Tor  |null                    |null                   |A00      |null                   |Cólera                                  |A00   Colera                        |null                |1              |Capítulo I - Algumas doenças infecciosas e parasitárias|I.   Algumas doenças infecciosas e parasitárias|\n",
      "|A009         |null                       |null            |null       |Cólera não especificada                             |A00.9 Colera NE                                  |null                    |null                   |A00      |null                   |Cólera                                  |A00   Colera                        |null                |1              |Capítulo I - Algumas doenças infecciosas e parasitárias|I.   Algumas doenças infecciosas e parasitárias|\n",
      "|A010         |null                       |null            |null       |Febre tifóide                                       |A01.0 Febre tifoide                              |null                    |null                   |A01      |null                   |Febres tifóide e paratifóide            |A01   Febres tifoide e paratifoide  |null                |1              |Capítulo I - Algumas doenças infecciosas e parasitárias|I.   Algumas doenças infecciosas e parasitárias|\n",
      "|A011         |null                       |null            |null       |Febre paratifóide A                                 |A01.1 Febre paratifoide A                        |null                    |null                   |A01      |null                   |Febres tifóide e paratifóide            |A01   Febres tifoide e paratifoide  |null                |1              |Capítulo I - Algumas doenças infecciosas e parasitárias|I.   Algumas doenças infecciosas e parasitárias|\n",
      "|A012         |null                       |null            |null       |Febre paratifóide B                                 |A01.2 Febre paratifoide B                        |null                    |null                   |A01      |null                   |Febres tifóide e paratifóide            |A01   Febres tifoide e paratifoide  |null                |1              |Capítulo I - Algumas doenças infecciosas e parasitárias|I.   Algumas doenças infecciosas e parasitárias|\n",
      "|A013         |null                       |null            |null       |Febre paratifóide C                                 |A01.3 Febre paratifoide C                        |null                    |null                   |A01      |null                   |Febres tifóide e paratifóide            |A01   Febres tifoide e paratifoide  |null                |1              |Capítulo I - Algumas doenças infecciosas e parasitárias|I.   Algumas doenças infecciosas e parasitárias|\n",
      "|A014         |null                       |null            |null       |Febre paratifóide não especificada                  |A01.4 Febre paratifoide NE                       |null                    |null                   |A01      |null                   |Febres tifóide e paratifóide            |A01   Febres tifoide e paratifoide  |null                |1              |Capítulo I - Algumas doenças infecciosas e parasitárias|I.   Algumas doenças infecciosas e parasitárias|\n",
      "|A020         |null                       |null            |null       |Enterite por salmonela                              |A02.0 Enterite p/salmonela                       |null                    |null                   |A02      |null                   |Outras infecções por Salmonella         |A02   Outr infecc p/Salmonella      |null                |1              |Capítulo I - Algumas doenças infecciosas e parasitárias|I.   Algumas doenças infecciosas e parasitárias|\n",
      "|A021         |null                       |null            |null       |Septicemia por salmonela                            |A02.1 Septicemia p/salmonela                     |null                    |null                   |A02      |null                   |Outras infecções por Salmonella         |A02   Outr infecc p/Salmonella      |null                |1              |Capítulo I - Algumas doenças infecciosas e parasitárias|I.   Algumas doenças infecciosas e parasitárias|\n",
      "|A022         |null                       |null            |null       |Infecções localizadas por salmonela                 |A02.2 Infecc localizadas p/salmonela             |null                    |null                   |A02      |null                   |Outras infecções por Salmonella         |A02   Outr infecc p/Salmonella      |null                |1              |Capítulo I - Algumas doenças infecciosas e parasitárias|I.   Algumas doenças infecciosas e parasitárias|\n",
      "|A028         |null                       |null            |null       |Outras infecções especificadas por salmonela        |A02.8 Outr infecc espec p/salmonela              |null                    |null                   |A02      |null                   |Outras infecções por Salmonella         |A02   Outr infecc p/Salmonella      |null                |1              |Capítulo I - Algumas doenças infecciosas e parasitárias|I.   Algumas doenças infecciosas e parasitárias|\n",
      "|A029         |null                       |null            |null       |Infecção não especificada por salmonela             |A02.9 Infecc NE p/salmonela                      |null                    |null                   |A02      |null                   |Outras infecções por Salmonella         |A02   Outr infecc p/Salmonella      |null                |1              |Capítulo I - Algumas doenças infecciosas e parasitárias|I.   Algumas doenças infecciosas e parasitárias|\n",
      "|A030         |null                       |null            |null       |Shiguelose devida a Shigella dysenteriae            |A03.0 Shiguelose dev Shigella dysenteriae        |null                    |null                   |A03      |null                   |Shiguelose                              |A03   Shiguelose                    |null                |1              |Capítulo I - Algumas doenças infecciosas e parasitárias|I.   Algumas doenças infecciosas e parasitárias|\n",
      "|A031         |null                       |null            |null       |Shiguelose devida a Shigella flexneri               |A03.1 Shiguelose dev Shigella flexneri           |null                    |null                   |A03      |null                   |Shiguelose                              |A03   Shiguelose                    |null                |1              |Capítulo I - Algumas doenças infecciosas e parasitárias|I.   Algumas doenças infecciosas e parasitárias|\n",
      "|A032         |null                       |null            |null       |Shiguelose devida a Shigella boydii                 |A03.2 Shiguelose dev Shigella boydii             |null                    |null                   |A03      |null                   |Shiguelose                              |A03   Shiguelose                    |null                |1              |Capítulo I - Algumas doenças infecciosas e parasitárias|I.   Algumas doenças infecciosas e parasitárias|\n",
      "|A033         |null                       |null            |null       |Shiguelose devida a Shigella sonnei                 |A03.3 Shiguelose dev Shigella sonnei             |null                    |null                   |A03      |null                   |Shiguelose                              |A03   Shiguelose                    |null                |1              |Capítulo I - Algumas doenças infecciosas e parasitárias|I.   Algumas doenças infecciosas e parasitárias|\n",
      "|A038         |null                       |null            |null       |Outras shigueloses                                  |A03.8 Outr shigueloses                           |null                    |null                   |A03      |null                   |Shiguelose                              |A03   Shiguelose                    |null                |1              |Capítulo I - Algumas doenças infecciosas e parasitárias|I.   Algumas doenças infecciosas e parasitárias|\n",
      "|A039         |null                       |null            |null       |Shiguelose não especificada                         |A03.9 Shiguelose NE                              |null                    |null                   |A03      |null                   |Shiguelose                              |A03   Shiguelose                    |null                |1              |Capítulo I - Algumas doenças infecciosas e parasitárias|I.   Algumas doenças infecciosas e parasitárias|\n",
      "|A040         |null                       |null            |null       |Infecção por Escherichia coli enteropatogênica      |A04.0 Infecc p/Escherichia coli enteropatogenica |null                    |null                   |A04      |null                   |Outras infecções intestinais bacterianas|A04   Outr infecc intestinais bacter|null                |1              |Capítulo I - Algumas doenças infecciosas e parasitárias|I.   Algumas doenças infecciosas e parasitárias|\n",
      "+-------------+---------------------------+----------------+-----------+----------------------------------------------------+-------------------------------------------------+------------------------+-----------------------+---------+-----------------------+----------------------------------------+------------------------------------+--------------------+---------------+-------------------------------------------------------+-----------------------------------------------+\n",
      "only showing top 20 rows\n",
      "\n"
     ]
    }
   ],
   "source": [
    "cid10 = cid10_subcategorias.alias(\"sc\") \\\n",
    "                .join(\n",
    "                    cid10_categorias.alias(\"cat\"),\n",
    "                    col(\"sc.categoria\") == col(\"cat.categoria\"),\n",
    "                    \"left\"\n",
    "                ) \\\n",
    "                .join(\n",
    "                    cid10_grupos.alias(\"g\"),\n",
    "                    (\n",
    "                        (col(\"g.categoria_inicio_letra\") == col(\"g.categoria_fim_letra\"))\n",
    "                        & (col(\"cat.identificador_grupo_letra\") == col(\"g.categoria_inicio_letra\"))\n",
    "                        & (col(\"cat.identificador_grupo_numero\") >= col(\"g.categoria_inicio_numero\"))\n",
    "                        & (col(\"cat.identificador_grupo_numero\") <= col(\"g.categoria_fim_numero\"))\n",
    "                    )\n",
    "                    | (\n",
    "                        (col(\"g.categoria_inicio_letra\") != col(\"g.categoria_fim_letra\"))\n",
    "                        & (col(\"cat.identificador_grupo_letra\") == col(\"g.categoria_inicio_letra\"))\n",
    "                        & (col(\"cat.identificador_grupo_numero\") >= col(\"g.categoria_inicio_numero\"))\n",
    "                    )\n",
    "                    | (\n",
    "                        (col(\"g.categoria_inicio_letra\") != col(\"g.categoria_fim_letra\"))\n",
    "                        & (col(\"cat.identificador_grupo_letra\") == col(\"g.categoria_fim_letra\"))\n",
    "                        & (col(\"cat.identificador_grupo_numero\") <= col(\"g.categoria_fim_numero\"))\n",
    "                    )\n",
    "                    | (\n",
    "                        (col(\"g.categoria_inicio_letra\") != col(\"g.categoria_fim_letra\"))\n",
    "                        & (col(\"cat.identificador_grupo_letra\") > col(\"g.categoria_inicio_letra\"))\n",
    "                        & (col(\"cat.identificador_grupo_letra\") < col(\"g.categoria_fim_letra\"))\n",
    "                    )\n",
    "                    ,\n",
    "                    \"left\"\n",
    "                ) \\\n",
    "                .join(\n",
    "                    cid10_capitulos.alias(\"cap\"),\n",
    "                    (\n",
    "                        (col(\"cap.categoria_inicio_letra\") == col(\"cap.categoria_fim_letra\"))\n",
    "                        & (col(\"cat.identificador_grupo_letra\") == col(\"cap.categoria_inicio_letra\"))\n",
    "                        & (col(\"cat.identificador_grupo_numero\") >= col(\"cap.categoria_inicio_numero\"))\n",
    "                        & (col(\"cat.identificador_grupo_numero\") <= col(\"cap.categoria_fim_numero\"))\n",
    "                    )\n",
    "                    | (\n",
    "                        (col(\"cap.categoria_inicio_letra\") != col(\"cap.categoria_fim_letra\"))\n",
    "                        & (col(\"cat.identificador_grupo_letra\") == col(\"cap.categoria_inicio_letra\"))\n",
    "                        & (col(\"cat.identificador_grupo_numero\") >= col(\"cap.categoria_inicio_numero\"))\n",
    "                    )\n",
    "                    | (\n",
    "                        (col(\"cap.categoria_inicio_letra\") != col(\"cap.categoria_fim_letra\"))\n",
    "                        & (col(\"cat.identificador_grupo_letra\") == col(\"cap.categoria_fim_letra\"))\n",
    "                        & (col(\"cat.identificador_grupo_numero\") <= col(\"cap.categoria_fim_numero\"))\n",
    "                    )\n",
    "                    | (\n",
    "                        (col(\"cap.categoria_inicio_letra\") != col(\"cap.categoria_fim_letra\"))\n",
    "                        & (col(\"cat.identificador_grupo_letra\") > col(\"cap.categoria_inicio_letra\"))\n",
    "                        & (col(\"cat.identificador_grupo_letra\") < col(\"cap.categoria_fim_letra\"))\n",
    "                    )\n",
    "                    ,\n",
    "                    \"left\"\n",
    "                ) \\\n",
    "                .select(\n",
    "                    col(\"sc.sub_categoria\"),\n",
    "                    col(\"sc.classificacao\").alias(\"sub_categoria_classificacao\"),\n",
    "                    col(\"sc.restringido_sexo\"),\n",
    "                    col(\"sc.causa_obito\"),\n",
    "                    col(\"sc.descricao\").alias(\"sub_categoria_descricao\"),\n",
    "                    col(\"sc.descricao_abreviada\").alias(\"sub_categoria_descricao_abreviada\"),\n",
    "                    col(\"sc.referencia\").alias(\"sub_categoria_referencia\"),\n",
    "                    col(\"sc.excluidos\").alias(\"sub_categoria_excluidos\"),\n",
    "                    col(\"cat.categoria\").alias(\"categoria\"),\n",
    "                    col(\"cat.classificacao\").alias(\"categoria_classificacao\"),\n",
    "                    col(\"cat.descricao\").alias(\"categoria_descricao\"),\n",
    "                    col(\"cat.descricao_abreviada\").alias(\"categoria_descricao_abreviada\"),\n",
    "                    col(\"cat.referencia\").alias(\"categoria_referencia\"),                    \n",
    "                    col(\"cap.numero_capitulo\").alias(\"capitulo_numero\"),\n",
    "                    col(\"cap.descricao\").alias(\"capitulo_descricao\"),\n",
    "                    col(\"cap.descricao_abreviada\").alias(\"capitulo_descricao_abreviada\")\n",
    "                )\n",
    "\n",
    "\n",
    "cid10.show(truncate=False)"
   ]
  },
  {
   "cell_type": "code",
   "execution_count": 91,
   "id": "d0e00921-49b1-4124-8f71-b817f134f6cc",
   "metadata": {},
   "outputs": [
    {
     "data": {
      "text/plain": [
       "18572"
      ]
     },
     "execution_count": 91,
     "metadata": {},
     "output_type": "execute_result"
    }
   ],
   "source": [
    "cid10.count()"
   ]
  },
  {
   "cell_type": "code",
   "execution_count": 92,
   "id": "9029522f-163c-4880-bdbd-4e8ef33d20d6",
   "metadata": {},
   "outputs": [
    {
     "data": {
      "text/plain": [
       "12451"
      ]
     },
     "execution_count": 92,
     "metadata": {},
     "output_type": "execute_result"
    }
   ],
   "source": [
    "cid10.distinct().count()"
   ]
  },
  {
   "cell_type": "code",
   "execution_count": 93,
   "id": "97df4ab0-9aa9-4fb2-868f-3420e023102d",
   "metadata": {},
   "outputs": [
    {
     "data": {
      "text/plain": [
       "12451"
      ]
     },
     "execution_count": 93,
     "metadata": {},
     "output_type": "execute_result"
    }
   ],
   "source": [
    "cid10_subcategorias.count()"
   ]
  },
  {
   "cell_type": "code",
   "execution_count": 89,
   "id": "c62bd30b-3e23-459c-8fcc-2f26fbbfdc6b",
   "metadata": {},
   "outputs": [
    {
     "name": "stdout",
     "output_type": "stream",
     "text": [
      "+-------------+-----+-----------------------+-----------------------------+\n",
      "|sub_categoria|count|collect_list(categoria)|collect_list(capitulo_numero)|\n",
      "+-------------+-----+-----------------------+-----------------------------+\n",
      "|C000         |3    |[C00, C00, C00]        |[2, 2, 2]                    |\n",
      "|C001         |3    |[C00, C00, C00]        |[2, 2, 2]                    |\n",
      "|C002         |3    |[C00, C00, C00]        |[2, 2, 2]                    |\n",
      "|C003         |3    |[C00, C00, C00]        |[2, 2, 2]                    |\n",
      "|C004         |3    |[C00, C00, C00]        |[2, 2, 2]                    |\n",
      "|C005         |3    |[C00, C00, C00]        |[2, 2, 2]                    |\n",
      "|C006         |3    |[C00, C00, C00]        |[2, 2, 2]                    |\n",
      "|C008         |3    |[C00, C00, C00]        |[2, 2, 2]                    |\n",
      "|C009         |3    |[C00, C00, C00]        |[2, 2, 2]                    |\n",
      "|C01          |3    |[C01, C01, C01]        |[2, 2, 2]                    |\n",
      "|C020         |3    |[C02, C02, C02]        |[2, 2, 2]                    |\n",
      "|C021         |3    |[C02, C02, C02]        |[2, 2, 2]                    |\n",
      "|C022         |3    |[C02, C02, C02]        |[2, 2, 2]                    |\n",
      "|C023         |3    |[C02, C02, C02]        |[2, 2, 2]                    |\n",
      "|C024         |3    |[C02, C02, C02]        |[2, 2, 2]                    |\n",
      "|C028         |3    |[C02, C02, C02]        |[2, 2, 2]                    |\n",
      "|C029         |3    |[C02, C02, C02]        |[2, 2, 2]                    |\n",
      "|C030         |3    |[C03, C03, C03]        |[2, 2, 2]                    |\n",
      "|C031         |3    |[C03, C03, C03]        |[2, 2, 2]                    |\n",
      "|C039         |3    |[C03, C03, C03]        |[2, 2, 2]                    |\n",
      "+-------------+-----+-----------------------+-----------------------------+\n",
      "only showing top 20 rows\n",
      "\n"
     ]
    }
   ],
   "source": [
    "cid10.groupBy(\"sub_categoria\").agg(count(\"*\").alias(\"count\"), collect_list(col(\"categoria\")), collect_list(col(\"capitulo_numero\"))).filter(\"count > 1\").show(truncate=False)"
   ]
  },
  {
   "cell_type": "code",
   "execution_count": 80,
   "id": "141613f1-d322-44ec-b009-0b3ba8925714",
   "metadata": {},
   "outputs": [
    {
     "data": {
      "text/plain": [
       "{'sub_categoria': 'A000',\n",
       " 'sub_categoria_classificacao': None,\n",
       " 'restringido_sexo': None,\n",
       " 'causa_obito': None,\n",
       " 'sub_categoria_descricao': 'Cólera devida a Vibrio cholerae 01, biótipo cholerae',\n",
       " 'sub_categoria_descricao_abreviada': 'A00.0 Colera dev Vibrio cholerae 01 biot cholerae',\n",
       " 'sub_categoria_referencia': None,\n",
       " 'sub_categoria_excluidos': None,\n",
       " 'categoria': 'A00',\n",
       " 'categoria_classificacao': None,\n",
       " 'categoria_descricao': 'Cólera',\n",
       " 'categoria_descricao_abreviada': 'A00   Colera',\n",
       " 'categoria_referencia': None,\n",
       " 'identificador_grupo_letra': 'A',\n",
       " 'identificador_grupo_numero': 0,\n",
       " 'capitulo_numero': '1',\n",
       " 'capitulo_descricao': 'Capítulo I - Algumas doenças infecciosas e parasitárias',\n",
       " 'capitulo_descricao_abreviada': 'I.   Algumas doenças infecciosas e parasitárias'}"
      ]
     },
     "execution_count": 80,
     "metadata": {},
     "output_type": "execute_result"
    }
   ],
   "source": [
    "cid10.first().asDict()"
   ]
  },
  {
   "cell_type": "code",
   "execution_count": 83,
   "id": "786ecaac-351f-44ce-ab22-7478acda50e5",
   "metadata": {},
   "outputs": [
    {
     "data": {
      "text/plain": [
       "<delta.tables.DeltaTable at 0x7f9068926810>"
      ]
     },
     "execution_count": 83,
     "metadata": {},
     "output_type": "execute_result"
    }
   ],
   "source": [
    "DeltaTable.createIfNotExists(spark) \\\n",
    "  .tableName(\"stage.cid10_joined\") \\\n",
    "  .addColumns(cid10.schema) \\\n",
    "  .execute()"
   ]
  },
  {
   "cell_type": "code",
   "execution_count": 94,
   "id": "6ebf65cb-23f4-4e69-b36d-4c98436816d2",
   "metadata": {},
   "outputs": [],
   "source": [
    "cid10.distinct().write.insertInto(\"stage.cid10_joined\")"
   ]
  },
  {
   "cell_type": "code",
   "execution_count": 95,
   "id": "896306e1-213b-4f40-becc-8f6904790cf9",
   "metadata": {},
   "outputs": [],
   "source": [
    "spark.stop()"
   ]
  }
 ],
 "metadata": {
  "kernelspec": {
   "display_name": "Python 3 (ipykernel)",
   "language": "python",
   "name": "python3"
  },
  "language_info": {
   "codemirror_mode": {
    "name": "ipython",
    "version": 3
   },
   "file_extension": ".py",
   "mimetype": "text/x-python",
   "name": "python",
   "nbconvert_exporter": "python",
   "pygments_lexer": "ipython3",
   "version": "3.11.6"
  }
 },
 "nbformat": 4,
 "nbformat_minor": 5
}
