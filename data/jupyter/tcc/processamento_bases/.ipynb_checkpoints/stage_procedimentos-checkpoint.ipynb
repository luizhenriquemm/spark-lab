{
 "cells": [
  {
   "cell_type": "code",
   "execution_count": 1,
   "id": "fbc086c8-2a3d-440d-b04b-c4e32a0b09a7",
   "metadata": {},
   "outputs": [],
   "source": [
    "# stage_procedimentos\n",
    "# Processa a camada stage das bases de procedimentos e seus derivados"
   ]
  },
  {
   "cell_type": "code",
   "execution_count": 2,
   "id": "1c5329b5-24c8-4194-84c8-72d4dcf1e250",
   "metadata": {},
   "outputs": [],
   "source": [
    "%run ../spark-default.py"
   ]
  },
  {
   "cell_type": "code",
   "execution_count": 24,
   "id": "e5d8ffd9-0b13-49f7-996b-64d456216f30",
   "metadata": {},
   "outputs": [],
   "source": [
    "from delta.tables import DeltaTable\n",
    "import builtins as b"
   ]
  },
  {
   "cell_type": "code",
   "execution_count": 5,
   "id": "a31d359f-4cb3-4168-b8ec-aa7444f59dae",
   "metadata": {},
   "outputs": [],
   "source": [
    "df_procedimento = spark.read.parquet(\"s3a://datalake/raw/proc_procedimento\")\n",
    "df_descricao = spark.read.parquet(\"s3a://datalake/raw/proc_descricao\")\n",
    "\n",
    "df_grupo = spark.read.parquet(\"s3a://datalake/raw/proc_grupo\")\n",
    "df_sub_grupo = spark.read.parquet(\"s3a://datalake/raw/proc_sub_grupo\")\n",
    "df_forma_organizacao = spark.read.parquet(\"s3a://datalake/raw/proc_forma_organizacao\")\n",
    "\n",
    "df_rl_procedimento_cid = spark.read.parquet(\"s3a://datalake/raw/proc_rl_procedimento_cid\")"
   ]
  },
  {
   "cell_type": "code",
   "execution_count": 19,
   "id": "b9dccec8-3151-482e-9472-56469b3f43ef",
   "metadata": {},
   "outputs": [
    {
     "name": "stdout",
     "output_type": "stream",
     "text": [
      "+---------------+------------------------------------------------------------------+---------------+-------+------------------+-------------------+---------+---------------+---------------+----------+----------+----------+----------------+----------+--------------------+--------------+\n",
      "|co_procedimento|no_procedimento                                                   |tp_complexidade|tp_sexo|qt_maxima_execucao|qt_dias_permanencia|qt_pontos|vl_idade_minima|vl_idade_maxima|vl_sh     |vl_sa     |vl_sp     |co_financiamento|co_rubrica|qt_tempo_permanencia|dt_competencia|\n",
      "+---------------+------------------------------------------------------------------+---------------+-------+------------------+-------------------+---------+---------------+---------------+----------+----------+----------+----------------+----------+--------------------+--------------+\n",
      "|0101010010     |ATIVIDADE EDUCATIVA / ORIENTAÇÃO EM GRUPO NA ATENÇÃO PRIMÁRIA     |1              |N      |9999              |9999               |0000     |9999           |9999           |0000000000|0000000000|0000000000|01              |          |9999                |202501        |\n",
      "|0101010028     |ATIVIDADE EDUCATIVA / ORIENTAÇÃO EM GRUPO NA ATENÇÃO ESPECIALIZADA|2              |I      |9999              |9999               |0000     |0084           |1571           |0000000000|0000000270|0000000000|06              |          |9999                |202501        |\n",
      "|0101010036     |PRÁTICA CORPORAL / ATIVIDADE FÍSICA EM GRUPO                      |1              |I      |9999              |9999               |0000     |0072           |1571           |0000000000|0000000000|0000000000|01              |          |9999                |202501        |\n",
      "|0101010095     |PREVENÇÃO DA COVID-19 NAS ESCOLAS                                 |1              |I      |9999              |9999               |0000     |0000           |1571           |0000000000|0000000000|0000000000|01              |          |9999                |202501        |\n",
      "|0101010109     |ATIVIDADES EDUCATIVAS DA POPULAÇÃO SOBRE A TEMÁTICA DAMALÁRIA     |1              |I      |9999              |9999               |0000     |0000           |1571           |0000000000|0000000000|0000000000|07              |          |9999                |202501        |\n",
      "|0101010117     |ATIVIDADE DE EDUCAÇÃO PERMANENTE EM SAÚDE DO TRABALHADOR          |2              |N      |9999              |9999               |0000     |9999           |9999           |0000000000|0000000000|0000000000|05              |          |9999                |202501        |\n",
      "|0101020015     |AÇÃO COLETIVA DE APLICAÇÃO TÓPICA DE FLÚOR GEL                    |1              |I      |9999              |9999               |0000     |0048           |1571           |0000000000|0000000000|0000000000|01              |          |9999                |202501        |\n",
      "|0101020023     |AÇÃO COLETIVA DE BOCHECHO FLUORADO                                |1              |I      |9999              |9999               |0000     |0084           |1571           |0000000000|0000000000|0000000000|01              |          |9999                |202501        |\n",
      "|0101020031     |AÇÃO COLETIVA DE ESCOVAÇÃO DENTAL SUPERVISIONADA                  |1              |I      |9999              |9999               |0000     |0036           |1571           |0000000000|0000000000|0000000000|01              |          |9999                |202501        |\n",
      "|0101020040     |AÇÃO COLETIVA DE EXAME BUCAL COM FINALIDADE EPIDEMIOLÓGICA        |1              |I      |9999              |9999               |0000     |0000           |1571           |0000000000|0000000000|0000000000|01              |          |9999                |202501        |\n",
      "|0101020058     |APLICAÇÃO DE CARIOSTÁTICO (POR DENTE)                             |1              |I      |9999              |9999               |0000     |0000           |1571           |0000000000|0000000000|0000000000|01              |          |9999                |202501        |\n",
      "|0101020066     |APLICAÇÃO DE SELANTE (POR DENTE)                                  |1              |I      |9999              |9999               |0000     |0000           |1571           |0000000000|0000000000|0000000000|01              |          |9999                |202501        |\n",
      "|0101020074     |APLICAÇÃO TÓPICA DE FLÚOR (INDIVIDUAL POR SESSÃO)                 |1              |I      |9999              |9999               |0000     |0000           |1571           |0000000000|0000000000|0000000000|01              |          |9999                |202501        |\n",
      "|0101020082     |EVIDENCIAÇÃO DE PLACA BACTERIANA                                  |1              |I      |9999              |9999               |0000     |0000           |1571           |0000000000|0000000000|0000000000|01              |          |9999                |202501        |\n",
      "|0101020090     |SELAMENTO PROVISÓRIO DE CAVIDADE DENTÁRIA                         |1              |I      |9999              |9999               |0000     |0000           |1571           |0000000000|0000000000|0000000000|01              |          |9999                |202501        |\n",
      "|0101020104     |ORIENTAÇÃO DE HIGIENE BUCAL                                       |1              |I      |9999              |9999               |0000     |0000           |1571           |0000000000|0000000000|0000000000|01              |          |9999                |202501        |\n",
      "|0101020112     |AÇÃO COLETIVA DE PREVENÇÃO DE CÂNCER BUCAL                        |1              |I      |9999              |9999               |0000     |0120           |1571           |0000000000|0000000000|0000000000|01              |          |9999                |202501        |\n",
      "|0101020120     |ORIENTAÇÃO DE HIGIENIZAÇÃO DE PRÓTESES DENTÁRIAS                  |1              |I      |9999              |9999               |0000     |0120           |1571           |0000000000|0000000000|0000000000|01              |          |9999                |202501        |\n",
      "|0101030010     |VISITA DOMICILIAR POR PROFISSIONAL DE NÍVEL MÉDIO                 |1              |I      |9999              |9999               |0000     |0000           |1571           |0000000000|0000000000|0000000000|01              |          |9999                |202501        |\n",
      "|0101030029     |VISITA DOMICILIAR/INSTITUCIONAL POR PROFISSIONAL DE NÍVEL SUPERIOR|1              |I      |9999              |9999               |0000     |0000           |1571           |0000000000|0000000000|0000000000|01              |          |9999                |202501        |\n",
      "+---------------+------------------------------------------------------------------+---------------+-------+------------------+-------------------+---------+---------------+---------------+----------+----------+----------+----------------+----------+--------------------+--------------+\n",
      "only showing top 20 rows\n",
      "\n",
      "+--------------+\n",
      "|dt_competencia|\n",
      "+--------------+\n",
      "|202501        |\n",
      "+--------------+\n",
      "\n"
     ]
    }
   ],
   "source": [
    "df_procedimento.show(truncate=False)\n",
    "df_procedimento.select(\"dt_competencia\").distinct().show(truncate=False)"
   ]
  },
  {
   "cell_type": "code",
   "execution_count": 35,
   "id": "86f2bd2c-4da0-41d8-b3a6-7f81fc04f601",
   "metadata": {},
   "outputs": [
    {
     "name": "stdout",
     "output_type": "stream",
     "text": [
      "+---------------+------------------------------------------------------------------+---------------+-------+------------------+-------------------+---------+---------------+---------------+----------+----------+----------+----------------+----------+--------------------+--------------------------------------------------------------------------------------------------------------------------------------------------------------------------------------------------------------------------------------------------------------------------------------------------------------------------------------------------------------------------------------------------------------------------------------------------------------------------------------------------------------------------------------------------------------------------------------------------------------------------------------------------------------------------------------------------------------------------------------------------------------+--------------------------------------+------------------------------------+--------------------+\n",
      "|co_procedimento|no_procedimento                                                   |tp_complexidade|tp_sexo|qt_maxima_execucao|qt_dias_permanencia|qt_pontos|vl_idade_minima|vl_idade_maxima|vl_sh     |vl_sa     |vl_sp     |co_financiamento|co_rubrica|qt_tempo_permanencia|ds_procedimento                                                                                                                                                                                                                                                                                                                                                                                                                                                                                                                                                                                                                                                                                                                                               |no_grupo                              |no_sub_grupo                        |no_forma_organizacao|\n",
      "+---------------+------------------------------------------------------------------+---------------+-------+------------------+-------------------+---------+---------------+---------------+----------+----------+----------+----------------+----------+--------------------+--------------------------------------------------------------------------------------------------------------------------------------------------------------------------------------------------------------------------------------------------------------------------------------------------------------------------------------------------------------------------------------------------------------------------------------------------------------------------------------------------------------------------------------------------------------------------------------------------------------------------------------------------------------------------------------------------------------------------------------------------------------+--------------------------------------+------------------------------------+--------------------+\n",
      "|0101010010     |ATIVIDADE EDUCATIVA / ORIENTAÇÃO EM GRUPO NA ATENÇÃO PRIMÁRIA     |1              |N      |9999              |9999               |0000     |9999           |9999           |0000000000|0000000000|0000000000|01              |          |9999                |CONSISTE NAS ATIVIDADES EDUCATIVAS, EM GRUPO,  SOBRE AÇÕES DE PROMOÇÃO E PREVENÇÃO À SAÚDE, DESENVOLVIDAS NA UNIDADE OU NA COMUNIDADE.  RECOMENDA-SE O MÍNIMO DE 10 (DEZ) PARTICIPANTES,COM DURAÇÃO MÍNIMA  DE 30 (TRINTA) MINUTOS.DEVE-SE REGISTRAR O NÚMERO DE ATIVIDADES REALIZADAS POR MÊS                                                                                                                                                                                                                                                                                                                                                                                                                                                                |Ações de promoção e prevenção em saúde|Ações coletivas/individuais em saúde|Educação em saúde   |\n",
      "|0101010028     |ATIVIDADE EDUCATIVA / ORIENTAÇÃO EM GRUPO NA ATENÇÃO ESPECIALIZADA|2              |I      |9999              |9999               |0000     |0084           |1571           |0000000000|0000000270|0000000000|06              |          |9999                |CONSISTE NAS ATIVIDADES EDUCATIVAS SOBRE AÇÕES DE PROMOÇÃO E PREVENÇÃO À SAÚDE, DESENVOLVIDAS EM GRUPO.  RECOMENDA-SE O MÍNIMO DE 10 (DEZ) PARTICIPANTES,COM DURAÇÃO MÍNIMA  DE 30 (TRINTA) MINUTOS.DEVE-SE REGISTRAR O NÚMERO DE ATIVIDADES REALIZADAS POR MÊS.                                                                                                                                                                                                                                                                                                                                                                                                                                                                                              |Ações de promoção e prevenção em saúde|Ações coletivas/individuais em saúde|Educação em saúde   |\n",
      "|0101010036     |PRÁTICA CORPORAL / ATIVIDADE FÍSICA EM GRUPO                      |1              |I      |9999              |9999               |0000     |0072           |1571           |0000000000|0000000000|0000000000|01              |          |9999                |ATIVIDADE FÍSICA DESENVOLVIDA EM GRUPO POR PROFISSIONAIS QUALIFICADOS , REALIZADA NO ESTABELECIMENTO DE SAÚDE OU NA COMUNIDADE.INFORMAR NÚMERO DE ATIVIDADES REALIZADAS EM GRUPO POR MÊS.                                                                                                                                                                                                                                                                                                                                                                                                                                                                                                                                                                     |Ações de promoção e prevenção em saúde|Ações coletivas/individuais em saúde|Educação em saúde   |\n",
      "|0101010095     |PREVENÇÃO DA COVID-19 NAS ESCOLAS                                 |1              |I      |9999              |9999               |0000     |0000           |1571           |0000000000|0000000000|0000000000|01              |          |9999                |AÇÕES COLETIVAS DE PROMOÇÃO DA SAÚDE E PREVENÇÃO DE DOENÇAS VOLTADAS À PREVENÇÃO DO NOVO CORONAVÍRUS (COVID-19) REALIZADAS NO ÂMBITO DAS ESCOLAS                                                                                                                                                                                                                                                                                                                                                                                                                                                                                                                                                                                                              |Ações de promoção e prevenção em saúde|Ações coletivas/individuais em saúde|Educação em saúde   |\n",
      "|0101010109     |ATIVIDADES EDUCATIVAS DA POPULAÇÃO SOBRE A TEMÁTICA DAMALÁRIA     |1              |I      |9999              |9999               |0000     |0000           |1571           |0000000000|0000000000|0000000000|07              |          |9999                |PROMOVER OU REALIZAR EVENTOS, PALESTRAS, REUNIÕES, AULAS, OFICINAS, PEÇASTEATRAIS E DEMAIS ATIVIDADES DE DIVULGAÇÃO DE TEMAS RELACIONADOS ÀPREVENÇÃO E CONTROLE DA MALÁRIA.                                                                                                                                                                                                                                                                                                                                                                                                                                                                                                                                                                                   |Ações de promoção e prevenção em saúde|Ações coletivas/individuais em saúde|Educação em saúde   |\n",
      "|0101010117     |ATIVIDADE DE EDUCAÇÃO PERMANENTE EM SAÚDE DO TRABALHADOR          |2              |N      |9999              |9999               |0000     |9999           |9999           |0000000000|0000000000|0000000000|05              |          |9999                |ENTENDE-SE A EDUCAÇÃO PERMANENTE EM SAÚDE DO TRABALHADOR COMO UMA ESTRATÉGIA DE FORMAÇÃO QUE INCORPORA, COMO OBJETO, OS PROBLEMAS E AS NECESSIDADES QUE SURGEM A PARTIR DO PROCESSO DE TRABALHO EM SAÚDE E QUE VISAM MUDANÇAS NESTE CONTEXTO, POR EXEMPLO, INCORPORAÇÃO DE AÇÕES DE SAÚDE DO TRABALHADOR NA ROTINA DOS SERVIÇOS DE SAÚDE NA REDE DE ATENÇÃO EM SAÚDE (RAS). ESTA AÇÃO DEVE PROMOVER A FORMAÇÃO E O DESENVOLVIMENTO DOS TRABALHADORES NO SUS, A PARTIR DOS PROBLEMAS COTIDIANOS, REFERENTES À ATENÇÃO À SAÚDE E À ORGANIZAÇÃO DO TRABALHO EM SAÚDE, ESTIMULAR O PLANEJAMENTO, EXECUÇÃO E AVALIAÇÃO DOS PROCESSOS FORMATIVOS EM SAÚDE DO TRABALHADOR. O PROCEDIMENTO A SER INFORMADO É A AÇÃO REALIZADA E NÃO O NÚMERO DE PARTICIPANTES DA AÇÃO.|Ações de promoção e prevenção em saúde|Ações coletivas/individuais em saúde|Educação em saúde   |\n",
      "|0101020015     |AÇÃO COLETIVA DE APLICAÇÃO TÓPICA DE FLÚOR GEL                    |1              |I      |9999              |9999               |0000     |0048           |1571           |0000000000|0000000000|0000000000|01              |          |9999                |APLICAÇÃO TÓPICA DE FLÚOR EM GEL COM CONCENTRAÇÃO DE 1,23 , REALIZADA SISTEMATICAMENTE POR GRUPOS POPULACIONAIS SOB ORIENTAÇÃO E SUPERVISÃO DE UM OU MAIS PROFISSIONAIS DE SAÚDE, UTILIZANDO-SE ESCOVA DENTAL, MOLDEIRA, PINCELAMENTO OU OUTRAS FORMAS DE APLICAÇÃO. AÇÃO REGISTRADA POR PESSOA POR MÊS.                                                                                                                                                                                                                                                                                                                                                                                                                                                      |Ações de promoção e prevenção em saúde|Ações coletivas/individuais em saúde|Educação em saúde   |\n",
      "|0101020023     |AÇÃO COLETIVA DE BOCHECHO FLUORADO                                |1              |I      |9999              |9999               |0000     |0084           |1571           |0000000000|0000000000|0000000000|01              |          |9999                |BOCHECHO DE SOLUÇÃO FLUORETADA, REALIZADO SISTEMATICAMENTE POR GRUPOS POPULACIONAIS SOB  ORIENTAÇÃO E SUPERVISÃO DE UM OU MAIS PROFISSIONAIS DE SAÚDE, PODENDO TER PERIODICIDADE SEMANAL, CASO A  SOLUÇÃO DE FLUORETO DE SÓDIO TENHA A CONCENTRAÇÃO DE 0,2 , OU DIARIAMENTE, CASO A CONCENTRAÇÃO SEJA DE 0,05. AÇÃO REGISTRADA POR USUÁRIO PARTICIPANTE POR MÊS, INDEPENDENTE DA FREQUÊNCIA COM QUE É REALIZADA (DIÁRIA OU SEMANAL) OU DA FREQUÊNCIA COM QUE O USUÁRIO PARTICIPOU DA AÇÃO.                                                                                                                                                                                                                                                                    |Ações de promoção e prevenção em saúde|Ações coletivas/individuais em saúde|Educação em saúde   |\n",
      "|0101020031     |AÇÃO COLETIVA DE ESCOVAÇÃO DENTAL SUPERVISIONADA                  |1              |I      |9999              |9999               |0000     |0036           |1571           |0000000000|0000000000|0000000000|01              |          |9999                |ESCOVAÇÃO DENTAL COM OU SEM EVIDENCIAÇÃO DE PLACAS BACTERIANAS. REALIZADA COM GRUPOS POPULACIONAIS SOB ORIENTAÇÃO E SUPERVISÃO DE UM OU MAIS PROFISSIONAIS DE SAÚDE. AÇÃO REGISTRADA POR USUÁRIO POR USUÁRIO PARTICIPANTE DA AÇÃO.                                                                                                                                                                                                                                                                                                                                                                                                                                                                                                                            |Ações de promoção e prevenção em saúde|Ações coletivas/individuais em saúde|Educação em saúde   |\n",
      "|0101020040     |AÇÃO COLETIVA DE EXAME BUCAL COM FINALIDADE EPIDEMIOLÓGICA        |1              |I      |9999              |9999               |0000     |0000           |1571           |0000000000|0000000000|0000000000|01              |          |9999                |COMPREENDE A AVALIAÇÃO DE ESTRUTURAS DA CAVIDADE BUCAL, COM FINALIDADE DE DIAGNÓSTICO SEGUNDO CRITÉRIOS EPIDEMIOLÓGICOS, EM ESTUDOS DE PREVALÊNCIA, INCIDÊNCIA E OUTROS, COM O OBJETIVO DE ELABORAR PERFIL EPIDEMIOLÓGICO E/OU AVALIAR O IMPACTO DAS ATIVIDADES DESENVOLVIDAS, SUBSIDIANDO O PLANEJAMENTO.                                                                                                                                                                                                                                                                                                                                                                                                                                                    |Ações de promoção e prevenção em saúde|Ações coletivas/individuais em saúde|Educação em saúde   |\n",
      "|0101020058     |APLICAÇÃO DE CARIOSTÁTICO (POR DENTE)                             |1              |I      |9999              |9999               |0000     |0000           |1571           |0000000000|0000000000|0000000000|01              |          |9999                |ATIVIDADE COM FINALIDADE TERAPÊUTICA E  CONTROLE DE UM OU MAIS DENTES COM LESÕES DE CARIE.                                                                                                                                                                                                                                                                                                                                                                                                                                                                                                                                                                                                                                                                    |Ações de promoção e prevenção em saúde|Ações coletivas/individuais em saúde|Educação em saúde   |\n",
      "|0101020066     |APLICAÇÃO DE SELANTE (POR DENTE)                                  |1              |I      |9999              |9999               |0000     |0000           |1571           |0000000000|0000000000|0000000000|01              |          |9999                |APLICAÇÃO DE MATERIAL SELADOR POR DENTE EM PONTOS, SULCOS E FISSURAS, REALIZADA COM FINALIDADE PREVENTIVA DAS LESÕES DE CARIE.                                                                                                                                                                                                                                                                                                                                                                                                                                                                                                                                                                                                                                |Ações de promoção e prevenção em saúde|Ações coletivas/individuais em saúde|Educação em saúde   |\n",
      "|0101020074     |APLICAÇÃO TÓPICA DE FLÚOR (INDIVIDUAL POR SESSÃO)                 |1              |I      |9999              |9999               |0000     |0000           |1571           |0000000000|0000000000|0000000000|01              |          |9999                |APLICAÇÃO TÓPICA DE FLÚOR NA FORMA DE GEL COM CONCENTRAÇÃO DE 1,23  OU NA FORMA DE VERNIZ, PODENDO USAR PINCÉIS, ESCOVA DENTAL, MOLDEIRA E OUTRAS FORMAS DE APLICAÇÕES, COM A FINALIDADE DE PREVENIR E/OU  REMINERALIZAR OS DENTES COM OU SEM LESÕES. O NUMERO DE SESSÕES DEVE SER DEFINIDO SEGUNDO PADRÕES TÉCNICO CIENTIFICO DE ABORDAGEM DO CASO E DO ACOMPANHAMENTO DO PROFISSIONAL AOS PROGRAMAS LOCAIS.                                                                                                                                                                                                                                                                                                                                                 |Ações de promoção e prevenção em saúde|Ações coletivas/individuais em saúde|Educação em saúde   |\n",
      "|0101020082     |EVIDENCIAÇÃO DE PLACA BACTERIANA                                  |1              |I      |9999              |9999               |0000     |0000           |1571           |0000000000|0000000000|0000000000|01              |          |9999                |UTILIZAÇÃO DE SUBSTÂNCIAS CORANTES COM A FINALIDADE DE EVIDENCIAR A PLACA BACTERIANA.                                                                                                                                                                                                                                                                                                                                                                                                                                                                                                                                                                                                                                                                         |Ações de promoção e prevenção em saúde|Ações coletivas/individuais em saúde|Educação em saúde   |\n",
      "|0101020090     |SELAMENTO PROVISÓRIO DE CAVIDADE DENTÁRIA                         |1              |I      |9999              |9999               |0000     |0000           |1571           |0000000000|0000000000|0000000000|01              |          |9999                |FECHAMENTO DE CAVIDADE COM OU SEM PRAPARO CAVITARIO PARA FINS DE RESTAURACAO, COM O OBJETIVO DE REDUCAO DA SEPTICEMIA BUCAL OU DE TERAPIA EXPECTANTE COMO ETAPA INTERMEDIARIA  ATE QUE A RESTAURACAO DEFINITIVA SEJA EXECUTADA. INCLUI-SE NESTA DENIMINACAO OS PROCEDIMENTOS CONHECIDOS COMO ADEQUACAO DO MEIO BUCAL, CONTROLE DA INFECCAO INTRA BUCAL, CONTROLE EPIDEMIOLOGICO DA CARIE E A RESTAURACAO PROVISORIA, DENTRE OUTRAS.                                                                                                                                                                                                                                                                                                                           |Ações de promoção e prevenção em saúde|Ações coletivas/individuais em saúde|Educação em saúde   |\n",
      "|0101020104     |ORIENTAÇÃO DE HIGIENE BUCAL                                       |1              |I      |9999              |9999               |0000     |0000           |1571           |0000000000|0000000000|0000000000|01              |          |9999                |CONSISTE EM ATIVIDADES DE ORIENTAÇÃO DE HIGIENE BUCAL VOLTADAS À PROMOÇÃO DO AUTOCUIDADO E MELHORIA DA CONDIÇÃO BUCAL.                                                                                                                                                                                                                                                                                                                                                                                                                                                                                                                                                                                                                                        |Ações de promoção e prevenção em saúde|Ações coletivas/individuais em saúde|Educação em saúde   |\n",
      "|0101020112     |AÇÃO COLETIVA DE PREVENÇÃO DE CÂNCER BUCAL                        |1              |I      |9999              |9999               |0000     |0120           |1571           |0000000000|0000000000|0000000000|01              |          |9999                |CONSISTE EM ATIVIDADES COLETIVAS COM A FINALIDADE DE ELUCIDAR A POPULAÇÃO  SOBRE OS PRINCIPAIS SINTOMAS, CAUSAS E OUTROS FATORES LIGADOS AO CÂNCER DE BOCA PARA GRUPOS POPULACIONAIS, PROMOVENDO SAÚDE E PREVENINDO ESSA NEOPLASIA. GRUPOS ENTRE 5 E 20 PESSOAS.                                                                                                                                                                                                                                                                                                                                                                                                                                                                                              |Ações de promoção e prevenção em saúde|Ações coletivas/individuais em saúde|Educação em saúde   |\n",
      "|0101020120     |ORIENTAÇÃO DE HIGIENIZAÇÃO DE PRÓTESES DENTÁRIAS                  |1              |I      |9999              |9999               |0000     |0120           |1571           |0000000000|0000000000|0000000000|01              |          |9999                |CONSISTE EM ORIENTAÇÃO PROFISSIONAL ACERCA DOS CUIDADOS COM A DESINFECÇÃO E A HIGIENIZAÇÃO DOS DIFERENTES TIPOS DE PRÓTESE, PROMOVENDO A MANUTENÇÃO DA ESTRUTURA DA PRÓTESE, ASSIM COMO EVITANDO QUE OS USUÁRIOS DESENVOLVAM AGRAVOS RELACIONADOS À MICRORGANISMOS QUE ANCORAM NA SUPERFÍCIE DAS PRÓTESES OU INTERFACE DESTA COM OS DENTES REMANESCENTES.                                                                                                                                                                                                                                                                                                                                                                                                     |Ações de promoção e prevenção em saúde|Ações coletivas/individuais em saúde|Educação em saúde   |\n",
      "|0101030010     |VISITA DOMICILIAR POR PROFISSIONAL DE NÍVEL MÉDIO                 |1              |I      |9999              |9999               |0000     |0000           |1571           |0000000000|0000000000|0000000000|01              |          |9999                |ATIVIDADE EXTERNA REALIZADA POR PROFISSIONAL AUXILIAR OU TÉCNICO DE NÍVEL MÉDIO, OBJETIVANDO A REALIZAÇÃO DE AÇÕES PARA FINS DE BUSCA ATIVA, AÇÕES DE VIGILÂNCIA, CADASTRAMENTO FAMILIAR, IDENTIFICAÇÃO, ENCAMINHAMENTO E ACOMPANHAMENTO DA POPULAÇÃO ALVO, INCLUINDO OS USUÁRIOS SOB CUIDADOS DOMICILIARES, VISANDO A CONTINUIDADE DE CUIDADOS EM AÇÃO INTEGRADA ÀS REDES DE ATENÇÃO À SAÚDE                                                                                                                                                                                                                                                                                                                                                                 |Ações de promoção e prevenção em saúde|Ações coletivas/individuais em saúde|Educação em saúde   |\n",
      "|0101030029     |VISITA DOMICILIAR/INSTITUCIONAL POR PROFISSIONAL DE NÍVEL SUPERIOR|1              |I      |9999              |9999               |0000     |0000           |1571           |0000000000|0000000000|0000000000|01              |          |9999                |CONSISTE NA AVALIAÇÃO PELA EQUIPE DE ATENÇÃO DOMICILIAR COM OBJETIVO DE VERIFICAR A CONDIÇÃO DO PACIENTE. CONSIDERANDO AVALIAÇÃO CLÍNICA, DO DOMICÍLIO, DO CUIDADOR E OUTRAS.                                                                                                                                                                                                                                                                                                                                                                                                                                                                                                                                                                                 |Ações de promoção e prevenção em saúde|Ações coletivas/individuais em saúde|Educação em saúde   |\n",
      "+---------------+------------------------------------------------------------------+---------------+-------+------------------+-------------------+---------+---------------+---------------+----------+----------+----------+----------------+----------+--------------------+--------------------------------------------------------------------------------------------------------------------------------------------------------------------------------------------------------------------------------------------------------------------------------------------------------------------------------------------------------------------------------------------------------------------------------------------------------------------------------------------------------------------------------------------------------------------------------------------------------------------------------------------------------------------------------------------------------------------------------------------------------------+--------------------------------------+------------------------------------+--------------------+\n",
      "only showing top 20 rows\n",
      "\n"
     ]
    }
   ],
   "source": [
    "df_final = df_procedimento.alias(\"proc\") \\\n",
    "            .join(\n",
    "                df_descricao.alias(\"desc\"),\n",
    "                col(\"desc.co_procedimento\") == col(\"proc.co_procedimento\"),\n",
    "                \"left\"\n",
    "            ) \\\n",
    "            .withColumn(\"proc_co_procedimento\", substring(\"proc.co_procedimento\", 0, 2)) \\\n",
    "            .withColumn(\"proc_co_sub_grupo\", substring(\"proc.co_procedimento\", 2, 2)) \\\n",
    "            .withColumn(\"proc_co_forma_organizacao\", substring(\"proc.co_procedimento\", 4, 2)) \\\n",
    "            .join(\n",
    "                df_grupo.alias(\"grup\"),\n",
    "                [\n",
    "                    col(\"proc_co_procedimento\") == col(\"grup.co_grupo\")\n",
    "                ],\n",
    "                \"left\"\n",
    "            ) \\\n",
    "            .join(\n",
    "                df_sub_grupo.alias(\"subg\"),\n",
    "                [\n",
    "                    col(\"proc_co_procedimento\") == col(\"subg.co_grupo\"),\n",
    "                    col(\"proc_co_procedimento\") == col(\"subg.co_sub_grupo\")\n",
    "                ],\n",
    "                \"left\"\n",
    "            ) \\\n",
    "            .join(\n",
    "                df_forma_organizacao.alias(\"form\"),\n",
    "                [\n",
    "                    col(\"proc_co_procedimento\") == col(\"form.co_grupo\"),\n",
    "                    col(\"proc_co_procedimento\") == col(\"form.co_sub_grupo\"),\n",
    "                    col(\"proc_co_procedimento\") == col(\"form.co_forma_organizacao\")\n",
    "                ],\n",
    "                \"left\"\n",
    "            ) \\\n",
    "            .select(\n",
    "                col(\"proc.co_procedimento\"),\n",
    "                col(\"proc.no_procedimento\"),\n",
    "                col(\"proc.tp_complexidade\"),\n",
    "                col(\"proc.tp_sexo\"),\n",
    "                col(\"proc.qt_maxima_execucao\"),\n",
    "                col(\"proc.qt_dias_permanencia\"),\n",
    "                col(\"proc.qt_pontos\"),\n",
    "                col(\"proc.vl_idade_minima\"),\n",
    "                col(\"proc.vl_idade_maxima\"),\n",
    "                col(\"proc.vl_sh\"),\n",
    "                col(\"proc.vl_sa\"),\n",
    "                col(\"proc.vl_sp\"),\n",
    "                col(\"proc.co_financiamento\"),\n",
    "                col(\"proc.co_rubrica\"),\n",
    "                col(\"proc.qt_tempo_permanencia\"),\n",
    "                col(\"desc.ds_procedimento\"),\n",
    "                col(\"grup.no_grupo\"),\n",
    "                col(\"subg.no_sub_grupo\"),\n",
    "                col(\"form.no_forma_organizacao\")\n",
    "            )\n",
    "\n",
    "df_final.show(truncate=False)"
   ]
  },
  {
   "cell_type": "code",
   "execution_count": 36,
   "id": "377ef611-26c8-4133-a5c7-7c47933edced",
   "metadata": {},
   "outputs": [
    {
     "name": "stdout",
     "output_type": "stream",
     "text": [
      "+--------------------+-----+----------+\n",
      "|col                 |count|percentual|\n",
      "+--------------------+-----+----------+\n",
      "|total               |4865 |100.0     |\n",
      "|co_procedimento     |0    |0.0       |\n",
      "|no_procedimento     |0    |0.0       |\n",
      "|tp_complexidade     |0    |0.0       |\n",
      "|tp_sexo             |0    |0.0       |\n",
      "|qt_maxima_execucao  |0    |0.0       |\n",
      "|qt_dias_permanencia |0    |0.0       |\n",
      "|qt_pontos           |0    |0.0       |\n",
      "|vl_idade_minima     |0    |0.0       |\n",
      "|vl_idade_maxima     |0    |0.0       |\n",
      "|vl_sh               |0    |0.0       |\n",
      "|vl_sa               |0    |0.0       |\n",
      "|vl_sp               |0    |0.0       |\n",
      "|co_financiamento    |0    |0.0       |\n",
      "|co_rubrica          |0    |0.0       |\n",
      "|qt_tempo_permanencia|0    |0.0       |\n",
      "|ds_procedimento     |805  |16.55     |\n",
      "|no_grupo            |0    |0.0       |\n",
      "|no_sub_grupo        |1007 |20.7      |\n",
      "|no_forma_organizacao|2845 |58.48     |\n",
      "+--------------------+-----+----------+\n",
      "\n"
     ]
    }
   ],
   "source": [
    "df_final_nulls = df_final.select(count(\"*\").alias(\"total\"), *[count(when(col(c).isNull(), c)).alias(c) for c in df_final.columns]).first().asDict()\n",
    "\n",
    "df_final_nulls_total = df_final_nulls[\"total\"]\n",
    "\n",
    "df_final_nulls = spark.createDataFrame(\n",
    "    [{\"col\": k, \"count\": v, \"percentual\": b.round((v/df_final_nulls_total) * 100, 2)} for k,v in df_final_nulls.items()]\n",
    ") #.orderBy(col(\"count\").desc())\n",
    "\n",
    "df_final_nulls.show(200, truncate=False)"
   ]
  },
  {
   "cell_type": "code",
   "execution_count": 37,
   "id": "be002b9a-acef-400c-8784-e9be6363a84c",
   "metadata": {},
   "outputs": [
    {
     "data": {
      "text/plain": [
       "<delta.tables.DeltaTable at 0x7f2243f62350>"
      ]
     },
     "execution_count": 37,
     "metadata": {},
     "output_type": "execute_result"
    }
   ],
   "source": [
    "DeltaTable.createIfNotExists(spark) \\\n",
    "  .tableName(\"stage.procedimentos\") \\\n",
    "  .addColumns(df_final.schema) \\\n",
    "  .execute()"
   ]
  },
  {
   "cell_type": "code",
   "execution_count": 38,
   "id": "861a9ef8-a853-4ae2-80d0-28b73cf6767d",
   "metadata": {},
   "outputs": [],
   "source": [
    "df_final.write.insertInto(\"stage.procedimentos\")"
   ]
  },
  {
   "cell_type": "code",
   "execution_count": 39,
   "id": "029fe14e-c1de-478c-b6b0-24886ecb5b50",
   "metadata": {},
   "outputs": [],
   "source": [
    "spark.stop()"
   ]
  }
 ],
 "metadata": {
  "kernelspec": {
   "display_name": "Python 3 (ipykernel)",
   "language": "python",
   "name": "python3"
  },
  "language_info": {
   "codemirror_mode": {
    "name": "ipython",
    "version": 3
   },
   "file_extension": ".py",
   "mimetype": "text/x-python",
   "name": "python",
   "nbconvert_exporter": "python",
   "pygments_lexer": "ipython3",
   "version": "3.11.6"
  }
 },
 "nbformat": 4,
 "nbformat_minor": 5
}
