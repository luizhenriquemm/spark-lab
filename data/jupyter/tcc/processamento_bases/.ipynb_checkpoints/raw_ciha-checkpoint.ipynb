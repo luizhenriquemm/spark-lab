{
 "cells": [
  {
   "cell_type": "code",
   "execution_count": null,
   "id": "f40c7d7a-83e2-4ea9-949d-32339acc81d5",
   "metadata": {},
   "outputs": [],
   "source": [
    "# raw_ciha \n",
    "# Este notebook foi utilizado para transformar a base do CIHA de csv para PARQUET, criando a camada raw"
   ]
  },
  {
   "cell_type": "code",
   "execution_count": 1,
   "id": "e6a14ac6-d42c-4a7c-a7e0-452d55b2e335",
   "metadata": {},
   "outputs": [],
   "source": [
    "from pyspark.sql import SparkSession\n",
    "from pyspark.sql.types import *\n",
    "from pyspark.sql.functions import *\n",
    "\n",
    "spark = (SparkSession.builder\n",
    "             .master(\"spark://spark-master:7077\") # Points to the Spark Cluster\n",
    "             .appName('lab') # Name the app\n",
    "             .config(\"hive.metastore.uris\", \"thrift://hive-metastore:9083\") # Set external Hive Metastore\n",
    "             .config(\"hive.metastore.warehouse.dir\", \"s3a://minio:9000/datalake/\") # Set default warehouse dir (legacy) users/hive/warehouse\n",
    "             .config(\"spark.sql.warehouse.dir\", \"s3a://minio:9000/datalake/\") # Set default warehouse dir\n",
    "             .config(\"hive.metastore.schema.verification\", \"false\") # Prevent some errors\n",
    "             .config(\"fs.defaultFS\", \"s3a://minio:9000/datalake/\") # Set default file system into the HDFS namenode\n",
    "             .config(\"spark.jars\", \"/opt/bitnami/spark/jars_external/hadoop-aws-3.3.4.jar,/opt/bitnami/spark/jars_external/aws-java-sdk-bundle-1.12.588.jar\")\n",
    "             .config(\"spark.sql.repl.eagerEval.enabled\", True)\n",
    "             .config(\"spark.driver.memory\", \"16g\")  # Memória para o driver\n",
    "             .config(\"spark.executor.memory\", \"32g\")  # Memória para os executores\n",
    "             .config(\"spark.executor.cores\", \"10\")  # Número de núcleos por executor\n",
    "             .enableHiveSupport()\n",
    "             .getOrCreate())\n",
    "\n",
    "sc = spark.sparkContext\n",
    "\n",
    "hdp_configs = {\n",
    "    \"fs.s3a.endpoint\": \"http://minio:9000\",\n",
    "    \"fs.s3a.access.key\": \"minio\",\n",
    "    \"fs.s3a.secret.key\": \"minioadmin\",\n",
    "    \"fs.s3a.connection.timeout\": \"600000\",\n",
    "    \"spark.sql.debug.maxToStringFields\": \"100\",\n",
    "    \"fs.s3a.path.style.access\": \"true\",\n",
    "    \"fs.s3a.impl\": \"org.apache.hadoop.fs.s3a.S3AFileSystem\",\n",
    "    \"fs.s3a.connection.ssl.enabled\": \"true\"\n",
    "}\n",
    "\n",
    "for k,v in hdp_configs.items():\n",
    "    spark.sparkContext._jsc.hadoopConfiguration().set(k, v)\n"
   ]
  },
  {
   "cell_type": "code",
   "execution_count": 2,
   "id": "8fc7b332-1bbf-4b50-85d7-c41ce8c914cb",
   "metadata": {},
   "outputs": [],
   "source": [
    "spark.conf.set(\"spark.sql.sources.partitionOverwriteMode\",\"dynamic\")"
   ]
  },
  {
   "cell_type": "code",
   "execution_count": 3,
   "id": "5671f0f0-6ee1-4974-b3b1-766d7ef276b0",
   "metadata": {},
   "outputs": [
    {
     "name": "stdout",
     "output_type": "stream",
     "text": [
      "root\n",
      " |-- ano_cmpt: string (nullable = true)\n",
      " |-- mes_cmpt: string (nullable = true)\n",
      " |-- espec: string (nullable = true)\n",
      " |-- cgc_hosp: string (nullable = true)\n",
      " |-- munic_res: string (nullable = true)\n",
      " |-- nasc: date (nullable = true)\n",
      " |-- sexo: string (nullable = true)\n",
      " |-- uti_mes_to: string (nullable = true)\n",
      " |-- uti_int_to: string (nullable = true)\n",
      " |-- proc_rea: string (nullable = true)\n",
      " |-- qt_proc: string (nullable = true)\n",
      " |-- dt_atend: date (nullable = true)\n",
      " |-- dt_saida: date (nullable = true)\n",
      " |-- diag_princ: string (nullable = true)\n",
      " |-- diag_secun: string (nullable = true)\n",
      " |-- cobranca: string (nullable = true)\n",
      " |-- natureza: string (nullable = true)\n",
      " |-- gestao: string (nullable = true)\n",
      " |-- munic_mov: string (nullable = true)\n",
      " |-- cod_idade: string (nullable = true)\n",
      " |-- idade: string (nullable = true)\n",
      " |-- dias_perm: string (nullable = true)\n",
      " |-- morte: string (nullable = true)\n",
      " |-- nacional: string (nullable = true)\n",
      " |-- car_int: string (nullable = true)\n",
      " |-- homonimo: string (nullable = true)\n",
      " |-- cnes: string (nullable = true)\n",
      " |-- fonte: string (nullable = true)\n",
      " |-- cgc_consor: string (nullable = true)\n",
      " |-- modalidade: string (nullable = true)\n",
      " |-- input_file_name: string (nullable = false)\n",
      " |-- estado_uf: string (nullable = true)\n",
      "\n",
      "+--------+--------+-----+--------------+---------+----+----+----------+----------+----------+-------+--------+--------+----------+----------+--------+--------+------+---------+---------+-----+---------+-----+--------+-------+--------+-------+-----+----------+----------+--------------------+---------+\n",
      "|ano_cmpt|mes_cmpt|espec|      cgc_hosp|munic_res|nasc|sexo|uti_mes_to|uti_int_to|  proc_rea|qt_proc|dt_atend|dt_saida|diag_princ|diag_secun|cobranca|natureza|gestao|munic_mov|cod_idade|idade|dias_perm|morte|nacional|car_int|homonimo|   cnes|fonte|cgc_consor|modalidade|     input_file_name|estado_uf|\n",
      "+--------+--------+-----+--------------+---------+----+----+----------+----------+----------+-------+--------+--------+----------+----------+--------+--------+------+---------+---------+-----+---------+-----+--------+-------+--------+-------+-----+----------+----------+--------------------+---------+\n",
      "|    2014|      07| null|60961968000106|     null|null|null|         0|         0|0202010210|      3|    null|    null|      null|      null|    null|      11|     M|   355030|     null| null|     null| null|    null|   null|    null|2077531|   01|      null|        00|s3a://datalake/so...|       SP|\n",
      "|    2014|      07| null|60961968000106|     null|null|null|         0|         0|0202010210|      6|    null|    null|      null|      null|    null|      11|     M|   355030|     null| null|     null| null|    null|   null|    null|2077531|   01|      null|        00|s3a://datalake/so...|       SP|\n",
      "|    2014|      07| null|60961968000106|     null|null|null|         0|         0|0202010210|     15|    null|    null|      null|      null|    null|      11|     M|   355030|     null| null|     null| null|    null|   null|    null|2077531|   01|      null|        00|s3a://datalake/so...|       SP|\n",
      "|    2014|      07| null|60961968000106|     null|null|null|         0|         0|0202010210|     58|    null|    null|      null|      null|    null|      11|     M|   355030|     null| null|     null| null|    null|   null|    null|2077531|   01|      null|        00|s3a://datalake/so...|       SP|\n",
      "|    2014|      07| null|60961968000106|     null|null|null|         0|         0|0202010210|     65|    null|    null|      null|      null|    null|      11|     M|   355030|     null| null|     null| null|    null|   null|    null|2077531|   01|      null|        00|s3a://datalake/so...|       SP|\n",
      "|    2014|      07| null|60961968000106|     null|null|null|         0|         0|0202010210|      1|    null|    null|      null|      null|    null|      11|     M|   355030|     null| null|     null| null|    null|   null|    null|2077531|   01|      null|        00|s3a://datalake/so...|       SP|\n",
      "|    2014|      07| null|60961968000106|     null|null|null|         0|         0|0202010210|     13|    null|    null|      null|      null|    null|      11|     M|   355030|     null| null|     null| null|    null|   null|    null|2077531|   01|      null|        00|s3a://datalake/so...|       SP|\n",
      "|    2014|      07| null|60961968000106|     null|null|null|         0|         0|0202010210|      9|    null|    null|      null|      null|    null|      11|     M|   355030|     null| null|     null| null|    null|   null|    null|2077531|   01|      null|        00|s3a://datalake/so...|       SP|\n",
      "|    2014|      07| null|60961968000106|     null|null|null|         0|         0|0202010210|      2|    null|    null|      null|      null|    null|      11|     M|   355030|     null| null|     null| null|    null|   null|    null|2077531|   01|      null|        00|s3a://datalake/so...|       SP|\n",
      "|    2014|      07| null|60961968000106|     null|null|null|         0|         0|0202010210|      2|    null|    null|      null|      null|    null|      11|     M|   355030|     null| null|     null| null|    null|   null|    null|2077531|   01|      null|        00|s3a://datalake/so...|       SP|\n",
      "|    2014|      07| null|60961968000106|     null|null|null|         0|         0|0202010210|      4|    null|    null|      null|      null|    null|      11|     M|   355030|     null| null|     null| null|    null|   null|    null|2077531|   01|      null|        00|s3a://datalake/so...|       SP|\n",
      "|    2014|      07| null|60961968000106|     null|null|null|         0|         0|0202010210|     10|    null|    null|      null|      null|    null|      11|     M|   355030|     null| null|     null| null|    null|   null|    null|2077531|   01|      null|        00|s3a://datalake/so...|       SP|\n",
      "|    2014|      07| null|60961968000106|     null|null|null|         0|         0|0202010210|      2|    null|    null|      null|      null|    null|      11|     M|   355030|     null| null|     null| null|    null|   null|    null|2077531|   01|      null|        00|s3a://datalake/so...|       SP|\n",
      "|    2014|      07| null|60961968000106|     null|null|null|         0|         0|0202010210|      9|    null|    null|      null|      null|    null|      11|     M|   355030|     null| null|     null| null|    null|   null|    null|2077531|   01|      null|        00|s3a://datalake/so...|       SP|\n",
      "|    2014|      07| null|60961968000106|     null|null|null|         0|         0|0202010210|      1|    null|    null|      null|      null|    null|      11|     M|   355030|     null| null|     null| null|    null|   null|    null|2077531|   01|      null|        00|s3a://datalake/so...|       SP|\n",
      "|    2014|      07| null|60961968000106|     null|null|null|         0|         0|0202010210|      2|    null|    null|      null|      null|    null|      11|     M|   355030|     null| null|     null| null|    null|   null|    null|2077531|   01|      null|        00|s3a://datalake/so...|       SP|\n",
      "|    2014|      07| null|60961968000106|     null|null|null|         0|         0|0202010210|      3|    null|    null|      null|      null|    null|      11|     M|   355030|     null| null|     null| null|    null|   null|    null|2077531|   02|      null|        00|s3a://datalake/so...|       SP|\n",
      "|    2014|      07| null|60961968000106|     null|null|null|         0|         0|0202010210|      1|    null|    null|      null|      null|    null|      11|     M|   355030|     null| null|     null| null|    null|   null|    null|2077531|   01|      null|        00|s3a://datalake/so...|       SP|\n",
      "|    2014|      07| null|60961968000106|     null|null|null|         0|         0|0202010210|      2|    null|    null|      null|      null|    null|      11|     M|   355030|     null| null|     null| null|    null|   null|    null|2077531|   01|      null|        00|s3a://datalake/so...|       SP|\n",
      "|    2014|      07| null|60961968000106|     null|null|null|         0|         0|0202010210|      1|    null|    null|      null|      null|    null|      11|     M|   355030|     null| null|     null| null|    null|   null|    null|2077531|   01|      null|        00|s3a://datalake/so...|       SP|\n",
      "+--------+--------+-----+--------------+---------+----+----+----------+----------+----------+-------+--------+--------+----------+----------+--------+--------+------+---------+---------+-----+---------+-----+--------+-------+--------+-------+-----+----------+----------+--------------------+---------+\n",
      "only showing top 20 rows\n",
      "\n"
     ]
    }
   ],
   "source": [
    "ciha_raw = spark.read.option(\"header\", True).csv(\"s3a://datalake/source/ciha_csv/\")\n",
    "    \n",
    "ciha = ciha_raw.select(\n",
    "    col(\"ANO_CMPT\").alias(\"ano_cmpt\"),\n",
    "    col(\"MES_CMPT\").alias(\"mes_cmpt\"),\n",
    "    col(\"ESPEC\").alias(\"espec\"),\n",
    "    col(\"CGC_HOSP\").alias(\"cgc_hosp\"),\n",
    "    col(\"MUNIC_RES\").alias(\"munic_res\"),\n",
    "    to_date(\"NASC\", \"yyyyMMdd\").alias(\"nasc\"),\n",
    "    col(\"SEXO\").alias(\"sexo\"),\n",
    "    col(\"UTI_MES_TO\").alias(\"uti_mes_to\"),\n",
    "    col(\"UTI_INT_TO\").alias(\"uti_int_to\"),\n",
    "    col(\"PROC_REA\").alias(\"proc_rea\"),\n",
    "    col(\"QT_PROC\").alias(\"qt_proc\"),\n",
    "    to_date(\"DT_ATEND\", \"yyyyMMdd\").alias(\"dt_atend\"),\n",
    "    to_date(\"DT_SAIDA\", \"yyyyMMdd\").alias(\"dt_saida\"),\n",
    "    col(\"DIAG_PRINC\").alias(\"diag_princ\"),\n",
    "    col(\"DIAG_SECUN\").alias(\"diag_secun\"),\n",
    "    col(\"COBRANCA\").alias(\"cobranca\"),\n",
    "    col(\"NATUREZA\").alias(\"natureza\"),\n",
    "    col(\"GESTAO\").alias(\"gestao\"),\n",
    "    col(\"MUNIC_MOV\").alias(\"munic_mov\"),\n",
    "    col(\"COD_IDADE\").alias(\"cod_idade\"),\n",
    "    col(\"IDADE\").alias(\"idade\"),\n",
    "    col(\"DIAS_PERM\").alias(\"dias_perm\"),\n",
    "    col(\"MORTE\").alias(\"morte\"),\n",
    "    col(\"NACIONAL\").alias(\"nacional\"),\n",
    "    col(\"CAR_INT\").alias(\"car_int\"),\n",
    "    col(\"HOMONIMO\").alias(\"homonimo\"),\n",
    "    col(\"CNES\").alias(\"cnes\"),\n",
    "    col(\"FONTE\").alias(\"fonte\"),\n",
    "    col(\"CGC_CONSOR\").alias(\"cgc_consor\"),\n",
    "    col(\"MODALIDADE\").alias(\"modalidade\"),\n",
    "    input_file_name().alias(\"input_file_name\")\n",
    ").withColumn(\"estado_uf\", substring( split(col(\"input_file_name\"), \"/\")[5], 5, 2))\n",
    "\n",
    "ciha.printSchema()\n",
    "\n",
    "# print(ciha.count())\n",
    "\n",
    "ciha.show()"
   ]
  },
  {
   "cell_type": "code",
   "execution_count": 5,
   "id": "c19126ed-d64a-4bac-9145-d8a6e93ddeaa",
   "metadata": {},
   "outputs": [
    {
     "name": "stdout",
     "output_type": "stream",
     "text": [
      "+--------+--------+\n",
      "|ano_cmpt|count(1)|\n",
      "+--------+--------+\n",
      "|2011    |10642684|\n",
      "|2012    |12857677|\n",
      "|2013    |14974908|\n",
      "|2014    |18555742|\n",
      "|2015    |16620815|\n",
      "|2016    |18869474|\n",
      "|2017    |20327035|\n",
      "|2018    |18744844|\n",
      "|2019    |19447461|\n",
      "|2020    |15165019|\n",
      "|2021    |18263073|\n",
      "|2022    |19742407|\n",
      "|2023    |17944281|\n",
      "|2024    |8686891 |\n",
      "+--------+--------+\n",
      "\n"
     ]
    }
   ],
   "source": [
    "ciha.groupBy(\"ano_cmpt\").agg(count(\"*\")).orderBy(\"ano_cmpt\").show(truncate=False)"
   ]
  },
  {
   "cell_type": "code",
   "execution_count": 5,
   "id": "14c61abf-154d-477d-a774-3b28940e78e9",
   "metadata": {},
   "outputs": [
    {
     "name": "stdout",
     "output_type": "stream",
     "text": [
      "+---------+--------+\n",
      "|estado_uf|count(1)|\n",
      "+---------+--------+\n",
      "|AC       |46547   |\n",
      "|AL       |1409098 |\n",
      "|AM       |1170521 |\n",
      "|AP       |801518  |\n",
      "|BA       |9966235 |\n",
      "|CE       |2416704 |\n",
      "|DF       |132599  |\n",
      "|ES       |2375047 |\n",
      "|GO       |1168715 |\n",
      "|MA       |406895  |\n",
      "|MG       |27502206|\n",
      "|MS       |1512187 |\n",
      "|MT       |737912  |\n",
      "|PA       |4130110 |\n",
      "|PB       |469368  |\n",
      "|PE       |5190979 |\n",
      "|PI       |507707  |\n",
      "|PR       |13891970|\n",
      "|RJ       |8428685 |\n",
      "|RN       |871089  |\n",
      "+---------+--------+\n",
      "only showing top 20 rows\n",
      "\n"
     ]
    }
   ],
   "source": [
    "ciha.groupBy(\"estado_uf\").agg(count(\"*\")).orderBy(\"estado_uf\").show(truncate=False)"
   ]
  },
  {
   "cell_type": "code",
   "execution_count": 6,
   "id": "3f0bbdb7-391f-4851-be83-4554ce9297fc",
   "metadata": {},
   "outputs": [
    {
     "data": {
      "text/html": [
       "<table border='1'>\n",
       "<tr><th>min_NASC</th><th>min_DT_ATEND</th><th>min_DT_SAIDA</th></tr>\n",
       "<tr><td>0195-10-05</td><td>1931-04-05</td><td>1899-12-30</td></tr>\n",
       "</table>\n"
      ],
      "text/plain": [
       "+----------+------------+------------+\n",
       "|  min_NASC|min_DT_ATEND|min_DT_SAIDA|\n",
       "+----------+------------+------------+\n",
       "|0195-10-05|  1931-04-05|  1899-12-30|\n",
       "+----------+------------+------------+"
      ]
     },
     "execution_count": 6,
     "metadata": {},
     "output_type": "execute_result"
    }
   ],
   "source": [
    "# NASC DT_ATEND DT_SAIDA\n",
    "\n",
    "ciha.filter(\"ano_cmpt = '2023'\").select(\n",
    "    min(\"NASC\").alias(\"min_NASC\"),\n",
    "    min(\"DT_ATEND\").alias(\"min_DT_ATEND\"),\n",
    "    min(\"DT_SAIDA\").alias(\"min_DT_SAIDA\")\n",
    ")"
   ]
  },
  {
   "cell_type": "code",
   "execution_count": 8,
   "id": "1d2ed0e5-ef1a-44e2-b5a5-c15da738ca2d",
   "metadata": {},
   "outputs": [
    {
     "data": {
      "text/html": [
       "<table border='1'>\n",
       "<tr><th>ano_cmpt</th><th>mes_cmpt</th><th>espec</th><th>cgc_hosp</th><th>munic_res</th><th>nasc</th><th>sexo</th><th>uti_mes_to</th><th>uti_int_to</th><th>proc_rea</th><th>qt_proc</th><th>dt_atend</th><th>dt_saida</th><th>diag_princ</th><th>diag_secun</th><th>cobranca</th><th>natureza</th><th>gestao</th><th>munic_mov</th><th>cod_idade</th><th>idade</th><th>dias_perm</th><th>morte</th><th>nacional</th><th>car_int</th><th>homonimo</th><th>cnes</th><th>fonte</th><th>cgc_consor</th><th>modalidade</th><th>input_file_name</th><th>estado_uf</th></tr>\n",
       "<tr><td>2023</td><td>01</td><td>null</td><td>92815000000834</td><td>043090</td><td>0196-06-01</td><td>0</td><td>0</td><td>000</td><td>0209020016</td><td>1</td><td>2023-01-04</td><td>2023-01-04</td><td>C670</td><td>null</td><td>18</td><td>null</td><td>M</td><td>430920</td><td>0</td><td>99</td><td>0</td><td>0</td><td>null</td><td>null</td><td>null</td><td>2232049</td><td>06</td><td>00000000000000</td><td>01</td><td>s3a://datalake/so...</td><td>RS</td></tr>\n",
       "<tr><td>2023</td><td>08</td><td>null</td><td>76591049000128</td><td>042054</td><td>0195-10-05</td><td>0</td><td>0</td><td>000</td><td>0301010072</td><td>1</td><td>2023-08-14</td><td>2023-08-14</td><td>null</td><td>null</td><td>18</td><td>null</td><td>D</td><td>410690</td><td>0</td><td>99</td><td>0</td><td>0</td><td>null</td><td>null</td><td>null</td><td>0015644</td><td>01</td><td>00000000000000</td><td>01</td><td>s3a://datalake/so...</td><td>PR</td></tr>\n",
       "<tr><td>2023</td><td>08</td><td>null</td><td>76591049000128</td><td>042054</td><td>0195-10-05</td><td>0</td><td>0</td><td>000</td><td>0301010072</td><td>2</td><td>2023-08-09</td><td>2023-08-09</td><td>null</td><td>null</td><td>18</td><td>null</td><td>D</td><td>410690</td><td>0</td><td>99</td><td>0</td><td>0</td><td>null</td><td>null</td><td>null</td><td>0015644</td><td>01</td><td>00000000000000</td><td>01</td><td>s3a://datalake/so...</td><td>PR</td></tr>\n",
       "<tr><td>2023</td><td>08</td><td>null</td><td>76591049000128</td><td>042054</td><td>0195-10-05</td><td>0</td><td>0</td><td>000</td><td>0301010072</td><td>1</td><td>2023-08-11</td><td>2023-08-11</td><td>null</td><td>null</td><td>18</td><td>null</td><td>D</td><td>410690</td><td>0</td><td>99</td><td>0</td><td>0</td><td>null</td><td>null</td><td>null</td><td>0015644</td><td>01</td><td>00000000000000</td><td>01</td><td>s3a://datalake/so...</td><td>PR</td></tr>\n",
       "<tr><td>2023</td><td>08</td><td>null</td><td>76591049000128</td><td>042054</td><td>0195-10-05</td><td>0</td><td>0</td><td>000</td><td>0301010072</td><td>1</td><td>2023-08-04</td><td>2023-08-04</td><td>null</td><td>null</td><td>18</td><td>null</td><td>D</td><td>410690</td><td>0</td><td>99</td><td>0</td><td>0</td><td>null</td><td>null</td><td>null</td><td>0015644</td><td>01</td><td>00000000000000</td><td>01</td><td>s3a://datalake/so...</td><td>PR</td></tr>\n",
       "<tr><td>2023</td><td>08</td><td>null</td><td>76591049000128</td><td>042054</td><td>0195-10-05</td><td>0</td><td>0</td><td>000</td><td>0211020036</td><td>1</td><td>2023-08-02</td><td>2023-08-02</td><td>null</td><td>null</td><td>18</td><td>null</td><td>D</td><td>410690</td><td>0</td><td>99</td><td>0</td><td>0</td><td>null</td><td>null</td><td>null</td><td>0015644</td><td>01</td><td>00000000000000</td><td>01</td><td>s3a://datalake/so...</td><td>PR</td></tr>\n",
       "<tr><td>2023</td><td>08</td><td>null</td><td>76591049000128</td><td>042054</td><td>0195-10-05</td><td>0</td><td>0</td><td>000</td><td>0301010072</td><td>1</td><td>2023-08-02</td><td>2023-08-02</td><td>null</td><td>null</td><td>18</td><td>null</td><td>D</td><td>410690</td><td>0</td><td>99</td><td>0</td><td>0</td><td>null</td><td>null</td><td>null</td><td>0015644</td><td>01</td><td>00000000000000</td><td>01</td><td>s3a://datalake/so...</td><td>PR</td></tr>\n",
       "</table>\n"
      ],
      "text/plain": [
       "+--------+--------+-----+--------------+---------+----------+----+----------+----------+----------+-------+----------+----------+----------+----------+--------+--------+------+---------+---------+-----+---------+-----+--------+-------+--------+-------+-----+--------------+----------+--------------------+---------+\n",
       "|ano_cmpt|mes_cmpt|espec|      cgc_hosp|munic_res|      nasc|sexo|uti_mes_to|uti_int_to|  proc_rea|qt_proc|  dt_atend|  dt_saida|diag_princ|diag_secun|cobranca|natureza|gestao|munic_mov|cod_idade|idade|dias_perm|morte|nacional|car_int|homonimo|   cnes|fonte|    cgc_consor|modalidade|     input_file_name|estado_uf|\n",
       "+--------+--------+-----+--------------+---------+----------+----+----------+----------+----------+-------+----------+----------+----------+----------+--------+--------+------+---------+---------+-----+---------+-----+--------+-------+--------+-------+-----+--------------+----------+--------------------+---------+\n",
       "|    2023|      01| null|92815000000834|   043090|0196-06-01|   0|         0|       000|0209020016|      1|2023-01-04|2023-01-04|      C670|      null|      18|    null|     M|   430920|        0|   99|        0|    0|    null|   null|    null|2232049|   06|00000000000000|        01|s3a://datalake/so...|       RS|\n",
       "|    2023|      08| null|76591049000128|   042054|0195-10-05|   0|         0|       000|0301010072|      1|2023-08-14|2023-08-14|      null|      null|      18|    null|     D|   410690|        0|   99|        0|    0|    null|   null|    null|0015644|   01|00000000000000|        01|s3a://datalake/so...|       PR|\n",
       "|    2023|      08| null|76591049000128|   042054|0195-10-05|   0|         0|       000|0301010072|      2|2023-08-09|2023-08-09|      null|      null|      18|    null|     D|   410690|        0|   99|        0|    0|    null|   null|    null|0015644|   01|00000000000000|        01|s3a://datalake/so...|       PR|\n",
       "|    2023|      08| null|76591049000128|   042054|0195-10-05|   0|         0|       000|0301010072|      1|2023-08-11|2023-08-11|      null|      null|      18|    null|     D|   410690|        0|   99|        0|    0|    null|   null|    null|0015644|   01|00000000000000|        01|s3a://datalake/so...|       PR|\n",
       "|    2023|      08| null|76591049000128|   042054|0195-10-05|   0|         0|       000|0301010072|      1|2023-08-04|2023-08-04|      null|      null|      18|    null|     D|   410690|        0|   99|        0|    0|    null|   null|    null|0015644|   01|00000000000000|        01|s3a://datalake/so...|       PR|\n",
       "|    2023|      08| null|76591049000128|   042054|0195-10-05|   0|         0|       000|0211020036|      1|2023-08-02|2023-08-02|      null|      null|      18|    null|     D|   410690|        0|   99|        0|    0|    null|   null|    null|0015644|   01|00000000000000|        01|s3a://datalake/so...|       PR|\n",
       "|    2023|      08| null|76591049000128|   042054|0195-10-05|   0|         0|       000|0301010072|      1|2023-08-02|2023-08-02|      null|      null|      18|    null|     D|   410690|        0|   99|        0|    0|    null|   null|    null|0015644|   01|00000000000000|        01|s3a://datalake/so...|       PR|\n",
       "+--------+--------+-----+--------------+---------+----------+----+----------+----------+----------+-------+----------+----------+----------+----------+--------+--------+------+---------+---------+-----+---------+-----+--------+-------+--------+-------+-----+--------------+----------+--------------------+---------+"
      ]
     },
     "execution_count": 8,
     "metadata": {},
     "output_type": "execute_result"
    }
   ],
   "source": [
    "ciha.filter(\"ano_cmpt = '2023' and nasc < '1500-01-01'\")"
   ]
  },
  {
   "cell_type": "code",
   "execution_count": 7,
   "id": "47469989-5490-41a9-80ef-bcc42b4cd863",
   "metadata": {},
   "outputs": [
    {
     "name": "stdout",
     "output_type": "stream",
     "text": [
      "2023\n",
      "2024\n"
     ]
    }
   ],
   "source": [
    "for ano in [2011, 2012, 2013, 2014, 2015, 2016, 2017, 2018, 2019, 2020, 2021, 2022, 2023, 2024]:\n",
    "    print(ano)\n",
    "    ciha.filter(f\"ano_cmpt = '{ano}'\").filter(\"nasc >= '1500-01-01' \").write.mode(\"overwrite\").partitionBy(\"ano_cmpt\").parquet(\"s3a://datalake/raw/ciha/\")"
   ]
  }
 ],
 "metadata": {
  "kernelspec": {
   "display_name": "Python 3 (ipykernel)",
   "language": "python",
   "name": "python3"
  },
  "language_info": {
   "codemirror_mode": {
    "name": "ipython",
    "version": 3
   },
   "file_extension": ".py",
   "mimetype": "text/x-python",
   "name": "python",
   "nbconvert_exporter": "python",
   "pygments_lexer": "ipython3",
   "version": "3.11.6"
  }
 },
 "nbformat": 4,
 "nbformat_minor": 5
}
