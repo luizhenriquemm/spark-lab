{
 "cells": [
  {
   "cell_type": "code",
   "execution_count": null,
   "id": "8c15152c-cc2e-4af9-a1fc-60198ccef31e",
   "metadata": {},
   "outputs": [],
   "source": [
    "# raw_feriados\n",
    "# Este notebook cria a base de feriados considerando os nacionais, facultativos, estaduais e municipais e também os associa a suas localizações"
   ]
  },
  {
   "cell_type": "code",
   "execution_count": 1,
   "id": "08f370e1-1ed6-4558-9731-495dc30c8690",
   "metadata": {},
   "outputs": [],
   "source": [
    "%run ../spark-default.py"
   ]
  },
  {
   "cell_type": "code",
   "execution_count": 2,
   "id": "183ae178-394f-42ad-b1f8-41e4ba3b8512",
   "metadata": {},
   "outputs": [],
   "source": [
    "from datetime import date, timedelta\n",
    "from unidecode import unidecode\n",
    "import builtins as b"
   ]
  },
  {
   "cell_type": "code",
   "execution_count": 3,
   "id": "c8c97f1f-867d-4ebe-9eb4-e10a88a4d5fc",
   "metadata": {},
   "outputs": [
    {
     "name": "stdout",
     "output_type": "stream",
     "text": [
      "+----------+---+---+-----+----+\n",
      "|      date|day|dow|month|year|\n",
      "+----------+---+---+-----+----+\n",
      "|2010-01-01|  1|SEX|    1|2010|\n",
      "|2010-01-02|  2|SAB|    1|2010|\n",
      "|2010-01-03|  3|DOM|    1|2010|\n",
      "|2010-01-04|  4|SEG|    1|2010|\n",
      "|2010-01-05|  5|TER|    1|2010|\n",
      "|2010-01-06|  6|QUA|    1|2010|\n",
      "|2010-01-07|  7|QUI|    1|2010|\n",
      "|2010-01-08|  8|SEX|    1|2010|\n",
      "|2010-01-09|  9|SAB|    1|2010|\n",
      "|2010-01-10| 10|DOM|    1|2010|\n",
      "|2010-01-11| 11|SEG|    1|2010|\n",
      "|2010-01-12| 12|TER|    1|2010|\n",
      "|2010-01-13| 13|QUA|    1|2010|\n",
      "|2010-01-14| 14|QUI|    1|2010|\n",
      "|2010-01-15| 15|SEX|    1|2010|\n",
      "|2010-01-16| 16|SAB|    1|2010|\n",
      "|2010-01-17| 17|DOM|    1|2010|\n",
      "|2010-01-18| 18|SEG|    1|2010|\n",
      "|2010-01-19| 19|TER|    1|2010|\n",
      "|2010-01-20| 20|QUA|    1|2010|\n",
      "+----------+---+---+-----+----+\n",
      "only showing top 20 rows\n",
      "\n"
     ]
    }
   ],
   "source": [
    "dates = []\n",
    "\n",
    "weekdays = {0: \"SEG\", 1: \"TER\", 2: \"QUA\", 3: \"QUI\", 4: \"SEX\", 5: \"SAB\", 6: \"DOM\"}\n",
    "\n",
    "d = date(2010, 1, 1)\n",
    "\n",
    "while True:\n",
    "    o = {\n",
    "        \"date\": d.strftime(\"%Y-%m-%d\"),\n",
    "        \"year\": d.year,\n",
    "        \"month\": d.month,\n",
    "        \"day\": d.day,\n",
    "        \"dow\": weekdays[d.weekday()]\n",
    "    }\n",
    "    dates.append(o)\n",
    "\n",
    "    if (d.year >= 2025):\n",
    "        break\n",
    "    else:\n",
    "        d += timedelta(days=1)\n",
    "\n",
    "dates = spark.createDataFrame(dates)\n",
    "dates.show()"
   ]
  },
  {
   "cell_type": "code",
   "execution_count": 4,
   "id": "e1219277-902d-4553-8ad0-928e1852ff87",
   "metadata": {},
   "outputs": [],
   "source": [
    "schema = StructType([\n",
    "    StructField(\"data\", StringType(), True),\n",
    "    StructField(\"nome\", StringType(), True),\n",
    "    StructField(\"tipo\", StringType(), True),\n",
    "    StructField(\"descricao\", StringType(), True),\n",
    "    StructField(\"uf\", StringType(), True),\n",
    "    StructField(\"municipio\", StringType(), True)\n",
    "])\n",
    "\n",
    "def fix_data(obj):\n",
    "    obj = obj.asDict()\n",
    "    data = obj[\"data\"].split(\"/\")\n",
    "    municipio = None if obj[\"municipio\"] == \" \" else obj[\"municipio\"]\n",
    "    return {\n",
    "        **obj,\n",
    "        \"data\": data[2] + \"-\" + data[1] + \"-\" + data[0],\n",
    "        \"municipio\": municipio\n",
    "    }"
   ]
  },
  {
   "cell_type": "code",
   "execution_count": 5,
   "id": "945e6007-e1d1-4811-b6b4-54fd2b03bce4",
   "metadata": {},
   "outputs": [
    {
     "name": "stdout",
     "output_type": "stream",
     "text": [
      "+----------+--------------------+--------+--------------------+----+---------+\n",
      "|      data|                nome|    tipo|           descricao|  uf|municipio|\n",
      "+----------+--------------------+--------+--------------------+----+---------+\n",
      "|2010-01-01|            Ano Novo|NACIONAL|O Ano-Novo ou Rév...|null|     null|\n",
      "|2010-04-02|   Sexta-Feira Santa|NACIONAL|Também chamada de...|null|     null|\n",
      "|2010-04-21|   Dia de Tiradentes|NACIONAL|Joaquim José da S...|null|     null|\n",
      "|2010-05-01|     Dia do Trabalho|NACIONAL|O Dia do Trabalha...|null|     null|\n",
      "|2010-09-07|Independência do ...|NACIONAL|O Dia da Indepênc...|null|     null|\n",
      "|2010-10-12|Nossa Senhora Apa...|NACIONAL|Nossa Senhora da ...|null|     null|\n",
      "|2010-11-02|      Dia de Finados|NACIONAL|O Dia de Finados ...|null|     null|\n",
      "|2010-11-15|Proclamação da Re...|NACIONAL|A Proclamação da ...|null|     null|\n",
      "|2010-12-25|               Natal|NACIONAL|O Natal é comemor...|null|     null|\n",
      "|2011-01-01|            Ano Novo|NACIONAL|O Ano-Novo ou Rév...|null|     null|\n",
      "|2011-04-21|   Dia de Tiradentes|NACIONAL|Joaquim José da S...|null|     null|\n",
      "|2011-04-22|   Sexta-Feira Santa|NACIONAL|Também chamada de...|null|     null|\n",
      "|2011-05-01|     Dia do Trabalho|NACIONAL|O Dia do Trabalha...|null|     null|\n",
      "|2011-09-07|Independência do ...|NACIONAL|O Dia da Indepênc...|null|     null|\n",
      "|2011-10-12|Nossa Senhora Apa...|NACIONAL|Nossa Senhora da ...|null|     null|\n",
      "|2011-11-02|      Dia de Finados|NACIONAL|O Dia de Finados ...|null|     null|\n",
      "|2011-11-15|Proclamação da Re...|NACIONAL|A Proclamação da ...|null|     null|\n",
      "|2011-12-25|               Natal|NACIONAL|O Natal é comemor...|null|     null|\n",
      "|2012-01-01|            Ano Novo|NACIONAL|O Ano-Novo ou Rév...|null|     null|\n",
      "|2012-04-06|   Sexta-Feira Santa|NACIONAL|Também chamada de...|null|     null|\n",
      "+----------+--------------------+--------+--------------------+----+---------+\n",
      "only showing top 20 rows\n",
      "\n"
     ]
    }
   ],
   "source": [
    "feriados_nacionais = (spark.read\n",
    "                      .schema(schema)\n",
    "                      .csv(\"s3a://datalake/source/feriados/nacional/\", sep=\",\", escape='\"')\n",
    "                      .rdd\n",
    "                      .map(fix_data)\n",
    "                      .toDF(schema=schema)\n",
    "                     )\n",
    "\n",
    "feriados_nacionais.show()"
   ]
  },
  {
   "cell_type": "code",
   "execution_count": 6,
   "id": "bd496fa2-13a7-4a69-a94e-ca0ae3b30505",
   "metadata": {},
   "outputs": [
    {
     "name": "stdout",
     "output_type": "stream",
     "text": [
      "+----------+--------------------+-----------+--------------------+----+---------+\n",
      "|      data|                nome|       tipo|           descricao|  uf|municipio|\n",
      "+----------+--------------------+-----------+--------------------+----+---------+\n",
      "|2019-03-04|            Carnaval|FACULTATIVO|Ponto Facultativo...|null|     null|\n",
      "|2019-03-05|            Carnaval|FACULTATIVO|Carnaval NÃO é um...|null|     null|\n",
      "|2019-03-06|            Carnaval|FACULTATIVO|Ponto Facultativo...|null|     null|\n",
      "|2019-06-20|      Corpus Christi|FACULTATIVO|Ponto Facultativo...|null|     null|\n",
      "|2019-10-15|    Dia do Professor|FACULTATIVO|FERIADO ESCOLAR -...|null|     null|\n",
      "|2019-10-28|Dia do Servidor P...|FACULTATIVO|O dia do servidor...|null|     null|\n",
      "|2019-10-28|Ponto Facultativo...|FACULTATIVO|Dia do Servidor P...|null|     null|\n",
      "|2019-03-29|Aniversário da Ci...|FACULTATIVO|Fundação de Curit...|null|     null|\n",
      "|2019-12-24|         Facultativo|FACULTATIVO|    Véspera do Natal|null|     null|\n",
      "|2019-11-20|Dia da Consciênci...|FACULTATIVO|Lei Municipal Nº ...|null|     null|\n",
      "|2019-12-08|   Ponto Facultativo|FACULTATIVO|Nossa Senhora da ...|null|     null|\n",
      "|2019-10-31|   Dia do Evangélico|FACULTATIVO|   Dia do Evangélico|null|     null|\n",
      "|2019-03-19|     Dia de São José|FACULTATIVO|Padroeiro do Esta...|null|     null|\n",
      "|2019-07-26|Fundação da Cidad...|FACULTATIVO|Feriado para Serv...|null|     null|\n",
      "|2019-10-24|Pedra fundamental...|FACULTATIVO|Feriado para Serv...|null|     null|\n",
      "|2019-03-05|   Terça de Carnaval|FACULTATIVO|Feriado apenas no...|null|     null|\n",
      "|2019-06-21|         Facultativo|FACULTATIVO|   Ponto facultativo|null|     null|\n",
      "|2019-01-14|  Véspera de feriado|FACULTATIVO|Véspera do aniver...|null|     null|\n",
      "|2019-04-18|  Quinta-feira Santa|FACULTATIVO|Ponto facultativo...|null|     null|\n",
      "|2019-06-14|         Pós-feriado|FACULTATIVO|Pós-feriado de Sa...|null|     null|\n",
      "+----------+--------------------+-----------+--------------------+----+---------+\n",
      "only showing top 20 rows\n",
      "\n"
     ]
    }
   ],
   "source": [
    "feriados_facultativos = (spark.read\n",
    "                      .schema(schema)\n",
    "                      .csv(\"s3a://datalake/source/feriados/facultativo/\", sep=\",\", escape='\"')\n",
    "                      .rdd\n",
    "                      .map(fix_data)\n",
    "                      .toDF(schema=schema)\n",
    "                     )\n",
    "\n",
    "feriados_facultativos.show()"
   ]
  },
  {
   "cell_type": "code",
   "execution_count": 7,
   "id": "f576c20b-6e21-4361-8adf-577f50c397f9",
   "metadata": {},
   "outputs": [
    {
     "name": "stdout",
     "output_type": "stream",
     "text": [
      "+----------+--------------------+--------+--------------------+---+---------+\n",
      "|      data|                nome|    tipo|           descricao| uf|municipio|\n",
      "+----------+--------------------+--------+--------------------+---+---------+\n",
      "|2015-01-20|     Dia do Católico|ESTADUAL|Dia 20 de janeiro...| AC|     null|\n",
      "|2015-01-23|   Dia do Evangélico|ESTADUAL|Dia 23 de janeiro...| AC|     null|\n",
      "|2015-03-08|       Dia da Mulher|ESTADUAL|Feriado conforme ...| AC|     null|\n",
      "|2015-06-15| Aniversário do Acre|ESTADUAL|De acordo com a L...| AC|     null|\n",
      "|2015-08-06|   Revolução Acreana|ESTADUAL|                null| AC|     null|\n",
      "|2015-09-05|     Dia da Amazônia|ESTADUAL|Conforme a lei Nº...| AC|     null|\n",
      "|2015-06-24|     Dia de São João|ESTADUAL|O mastro de São J...| AL|     null|\n",
      "|2015-06-29|    Dia de São Pedro|ESTADUAL|São Pedro foi um ...| AL|     null|\n",
      "|2015-09-16|Emancipação de Al...|ESTADUAL|Comemoração da em...| AL|     null|\n",
      "|2015-11-20|Dia da Consciênci...|ESTADUAL|O Dia Nacional da...| AL|     null|\n",
      "|2015-11-30|   Dia do Evangélico|ESTADUAL|Dia do evangélico...| AL|     null|\n",
      "|2015-09-05|Aniversário do Am...|ESTADUAL|Dia da elevação d...| AM|     null|\n",
      "|2015-11-20|Dia da Consciênci...|ESTADUAL|O Dia Nacional da...| AM|     null|\n",
      "|2015-12-08|Dia de Nossa Senh...|ESTADUAL|                null| AM|     null|\n",
      "|2015-03-19|     Dia de São José|ESTADUAL|São José é o sant...| AP|     null|\n",
      "|2015-05-15|  Dia de Cabralzinho|ESTADUAL|Homenagem a Franc...| AP|     null|\n",
      "|2015-07-25|    Dia de São Tiago|ESTADUAL|De acordo com a L...| AP|     null|\n",
      "|2015-09-13|Aniversário da cr...|ESTADUAL|Dia da criação do...| AP|     null|\n",
      "|2015-11-20|Dia da Consciênci...|ESTADUAL|De acordo com a L...| AP|     null|\n",
      "|2015-11-30|   Dia do Evangélico|ESTADUAL|Dia 30 de Novembr...| AP|     null|\n",
      "+----------+--------------------+--------+--------------------+---+---------+\n",
      "only showing top 20 rows\n",
      "\n"
     ]
    }
   ],
   "source": [
    "feriados_estaduais = (spark.read\n",
    "                      .schema(schema)\n",
    "                      .csv(\"s3a://datalake/source/feriados/estadual/\", sep=\",\", escape='\"')\n",
    "                      .rdd\n",
    "                      .map(fix_data)\n",
    "                      .toDF(schema=schema)\n",
    "                     )\n",
    "\n",
    "feriados_estaduais.show()"
   ]
  },
  {
   "cell_type": "code",
   "execution_count": 8,
   "id": "a5be16b4-4432-4551-b1fb-865aef43df05",
   "metadata": {},
   "outputs": [
    {
     "name": "stdout",
     "output_type": "stream",
     "text": [
      "+----------+--------------------+---------+--------------------+---+----------------+\n",
      "|      data|                nome|     tipo|           descricao| uf|       municipio|\n",
      "+----------+--------------------+---------+--------------------+---+----------------+\n",
      "|2014-04-28|   Feriado Municipal|MUNICIPAL|                null| AC|     Acrelândia |\n",
      "|2014-09-06|   Feriado Municipal|MUNICIPAL|                null| AC|     Acrelândia |\n",
      "|2014-05-14|   Feriado Municipal|MUNICIPAL|                null| AC|   Assis Brasil |\n",
      "|2014-05-31|   Feriado Municipal|MUNICIPAL|                null| AC|   Assis Brasil |\n",
      "|2014-08-15|   Feriado Municipal|MUNICIPAL|                null| AC|   Assis Brasil |\n",
      "|2014-07-03|   Feriado Municipal|MUNICIPAL|                null| AC|      Brasiléia |\n",
      "|2014-09-06|   Feriado Municipal|MUNICIPAL|                null| AC|      Brasiléia |\n",
      "|2014-09-06|   Feriado Municipal|MUNICIPAL|                null| AC|         Bujari |\n",
      "|2014-09-06|   Feriado Municipal|MUNICIPAL|                null| AC|       Capixaba |\n",
      "|2014-08-15| Nossa Sra da Glória|MUNICIPAL|Nossa Senhora da ...| AC|Cruzeiro do Sul |\n",
      "|2014-09-28|Aniversário da Ci...|MUNICIPAL|Aniversário de Cr...| AC|Cruzeiro do Sul |\n",
      "|2014-04-28|   Feriado Municipal|MUNICIPAL|                null| AC| Epitaciolândia |\n",
      "|2014-09-06|   Feriado Municipal|MUNICIPAL|                null| AC| Epitaciolândia |\n",
      "|2014-06-27|Dia da Padroeira ...|MUNICIPAL|Homenagem a Nossa...| AC|          Feijó |\n",
      "|2014-09-06|   Feriado Municipal|MUNICIPAL|                null| AC|          Feijó |\n",
      "|2014-12-21|   Feriado Municipal|MUNICIPAL|                null| AC|          Feijó |\n",
      "|2014-05-30|   Feriado Municipal|MUNICIPAL|                null| AC|    Mâncio Lima |\n",
      "|2014-09-06|   Feriado Municipal|MUNICIPAL|                null| AC|    Mâncio Lima |\n",
      "|2014-05-14|   Feriado Municipal|MUNICIPAL|                null| AC|  Manoel Urbano |\n",
      "|2014-09-06|   Feriado Municipal|MUNICIPAL|                null| AC|  Manoel Urbano |\n",
      "+----------+--------------------+---------+--------------------+---+----------------+\n",
      "only showing top 20 rows\n",
      "\n"
     ]
    }
   ],
   "source": [
    "feriados_municipais = (spark.read\n",
    "                      .schema(schema)\n",
    "                      .option(\"multiline\", \"true\")\n",
    "                      .csv(\"s3a://datalake/source/feriados/municipal/\", sep=\",\", escape='\"')\n",
    "                      .rdd\n",
    "                      .map(fix_data)\n",
    "                      .toDF(schema=schema)\n",
    "                     )\n",
    "\n",
    "feriados_municipais.show()"
   ]
  },
  {
   "cell_type": "code",
   "execution_count": 9,
   "id": "ff1c517c-c6dd-42ce-89b0-bf04443f1aff",
   "metadata": {},
   "outputs": [
    {
     "name": "stdout",
     "output_type": "stream",
     "text": [
      "138214\n",
      "+----------+--------------------+--------+--------------------+---+---------+\n",
      "|      data|                nome|    tipo|           descricao| uf|municipio|\n",
      "+----------+--------------------+--------+--------------------+---+---------+\n",
      "|2015-01-20|     Dia do Católico|ESTADUAL|Dia 20 de janeiro...| AC|     null|\n",
      "|2015-01-23|   Dia do Evangélico|ESTADUAL|Dia 23 de janeiro...| AC|     null|\n",
      "|2015-03-08|       Dia da Mulher|ESTADUAL|Feriado conforme ...| AC|     null|\n",
      "|2015-06-15| Aniversário do Acre|ESTADUAL|De acordo com a L...| AC|     null|\n",
      "|2015-08-06|   Revolução Acreana|ESTADUAL|                null| AC|     null|\n",
      "|2015-09-05|     Dia da Amazônia|ESTADUAL|Conforme a lei Nº...| AC|     null|\n",
      "|2015-06-24|     Dia de São João|ESTADUAL|O mastro de São J...| AL|     null|\n",
      "|2015-06-29|    Dia de São Pedro|ESTADUAL|São Pedro foi um ...| AL|     null|\n",
      "|2015-09-16|Emancipação de Al...|ESTADUAL|Comemoração da em...| AL|     null|\n",
      "|2015-11-20|Dia da Consciênci...|ESTADUAL|O Dia Nacional da...| AL|     null|\n",
      "|2015-11-30|   Dia do Evangélico|ESTADUAL|Dia do evangélico...| AL|     null|\n",
      "|2015-09-05|Aniversário do Am...|ESTADUAL|Dia da elevação d...| AM|     null|\n",
      "|2015-11-20|Dia da Consciênci...|ESTADUAL|O Dia Nacional da...| AM|     null|\n",
      "|2015-12-08|Dia de Nossa Senh...|ESTADUAL|                null| AM|     null|\n",
      "|2015-03-19|     Dia de São José|ESTADUAL|São José é o sant...| AP|     null|\n",
      "|2015-05-15|  Dia de Cabralzinho|ESTADUAL|Homenagem a Franc...| AP|     null|\n",
      "|2015-07-25|    Dia de São Tiago|ESTADUAL|De acordo com a L...| AP|     null|\n",
      "|2015-09-13|Aniversário da cr...|ESTADUAL|Dia da criação do...| AP|     null|\n",
      "|2015-11-20|Dia da Consciênci...|ESTADUAL|De acordo com a L...| AP|     null|\n",
      "|2015-11-30|   Dia do Evangélico|ESTADUAL|Dia 30 de Novembr...| AP|     null|\n",
      "+----------+--------------------+--------+--------------------+---+---------+\n",
      "only showing top 20 rows\n",
      "\n"
     ]
    }
   ],
   "source": [
    "feriados = (feriados_estaduais\n",
    "            .union(feriados_facultativos)\n",
    "            .union(feriados_municipais)\n",
    "            .union(feriados_nacionais)\n",
    "            .withColumn(\"municipio\", when(col(\"municipio\") == lit(\" \"), lit(None)).when(col(\"municipio\") == lit(\"\"), lit(None)).otherwise(col(\"municipio\")))\n",
    "           )\n",
    "\n",
    "print(feriados.count())\n",
    "feriados.show()"
   ]
  },
  {
   "cell_type": "code",
   "execution_count": 10,
   "id": "47055d68-0a1b-46f4-9f0f-2686f2519a4c",
   "metadata": {},
   "outputs": [
    {
     "name": "stdout",
     "output_type": "stream",
     "text": [
      "root\n",
      " |-- UF: string (nullable = true)\n",
      " |-- Nome_UF: string (nullable = true)\n",
      " |-- Região Geográfica Intermediária: string (nullable = true)\n",
      " |-- Nome Região Geográfica Intermediária: string (nullable = true)\n",
      " |-- Região Geográfica Imediata: string (nullable = true)\n",
      " |-- Nome Região Geográfica Imediata: string (nullable = true)\n",
      " |-- Mesorregião Geográfica: string (nullable = true)\n",
      " |-- Nome_Mesorregião: string (nullable = true)\n",
      " |-- Microrregião Geográfica: string (nullable = true)\n",
      " |-- Nome_Microrregião: string (nullable = true)\n",
      " |-- Município: string (nullable = true)\n",
      " |-- Código Município Completo: string (nullable = true)\n",
      " |-- Nome_Município: string (nullable = true)\n",
      "\n",
      "5570\n",
      "+---+--------+---------+----------------------+-------------------------+-------------+\n",
      "|uf |nome_uf |municipio|cod_municipio_completo|nome_municipio           |cod_municipio|\n",
      "+---+--------+---------+----------------------+-------------------------+-------------+\n",
      "|11 |Rondônia|00015    |1100015               |Alta Floresta D'Oeste    |110001       |\n",
      "|11 |Rondônia|00379    |1100379               |Alto Alegre dos Parecis  |110037       |\n",
      "|11 |Rondônia|00403    |1100403               |Alto Paraíso             |110040       |\n",
      "|11 |Rondônia|00346    |1100346               |Alvorada D'Oeste         |110034       |\n",
      "|11 |Rondônia|00023    |1100023               |Ariquemes                |110002       |\n",
      "|11 |Rondônia|00452    |1100452               |Buritis                  |110045       |\n",
      "|11 |Rondônia|00031    |1100031               |Cabixi                   |110003       |\n",
      "|11 |Rondônia|00601    |1100601               |Cacaulândia              |110060       |\n",
      "|11 |Rondônia|00049    |1100049               |Cacoal                   |110004       |\n",
      "|11 |Rondônia|00700    |1100700               |Campo Novo de Rondônia   |110070       |\n",
      "|11 |Rondônia|00809    |1100809               |Candeias do Jamari       |110080       |\n",
      "|11 |Rondônia|00908    |1100908               |Castanheiras             |110090       |\n",
      "|11 |Rondônia|00056    |1100056               |Cerejeiras               |110005       |\n",
      "|11 |Rondônia|00924    |1100924               |Chupinguaia              |110092       |\n",
      "|11 |Rondônia|00064    |1100064               |Colorado do Oeste        |110006       |\n",
      "|11 |Rondônia|00072    |1100072               |Corumbiara               |110007       |\n",
      "|11 |Rondônia|00080    |1100080               |Costa Marques            |110008       |\n",
      "|11 |Rondônia|00940    |1100940               |Cujubim                  |110094       |\n",
      "|11 |Rondônia|00098    |1100098               |Espigão D'Oeste          |110009       |\n",
      "|11 |Rondônia|01005    |1101005               |Governador Jorge Teixeira|110100       |\n",
      "+---+--------+---------+----------------------+-------------------------+-------------+\n",
      "only showing top 20 rows\n",
      "\n"
     ]
    }
   ],
   "source": [
    "municipios = spark.read.option(\"header\", True).option(\"sep\", \";\").option(\"encoding\", \"ISO-8859-1\").csv(\"s3a://datalake/source/municipios_csv/\")\n",
    "\n",
    "municipios.printSchema()\n",
    "\n",
    "municipios = municipios.select(\n",
    "    col(\"UF\").alias(\"uf\"),\n",
    "    col(\"Nome_UF\").alias(\"nome_uf\"),\n",
    "    col(\"Município\").alias(\"municipio\"),\n",
    "    col(\"Código Município Completo\").alias(\"cod_municipio_completo\"),\n",
    "    col(\"Nome_Município\").alias(\"nome_municipio\"),\n",
    "    substring('Código Município Completo', 1,6).alias(\"cod_municipio\")\n",
    ")\n",
    "\n",
    "print(municipios.count())\n",
    "\n",
    "municipios.show(truncate=False)"
   ]
  },
  {
   "cell_type": "code",
   "execution_count": 11,
   "id": "f5e5a127-ee3d-411d-b6c1-cc7177a3d3ee",
   "metadata": {},
   "outputs": [],
   "source": [
    "def remover_acentos(texto):\n",
    "    return unidecode(texto).lower() if texto else None\n",
    "\n",
    "remover_acentos_udf = udf(remover_acentos, StringType())"
   ]
  },
  {
   "cell_type": "code",
   "execution_count": 16,
   "id": "531c6046-fd89-42f2-a543-33fba2a0b73c",
   "metadata": {},
   "outputs": [
    {
     "name": "stdout",
     "output_type": "stream",
     "text": [
      "+----------+--------------------+---------+--------------------+---+----------------+-------------+\n",
      "|      data|                nome|     tipo|           descricao| uf|       municipio|cod_municipio|\n",
      "+----------+--------------------+---------+--------------------+---+----------------+-------------+\n",
      "|2014-04-28|   Feriado Municipal|MUNICIPAL|                null| AC|     Acrelândia |       120001|\n",
      "|2014-09-06|   Feriado Municipal|MUNICIPAL|                null| AC|     Acrelândia |       120001|\n",
      "|2014-05-14|   Feriado Municipal|MUNICIPAL|                null| AC|   Assis Brasil |       120005|\n",
      "|2014-05-31|   Feriado Municipal|MUNICIPAL|                null| AC|   Assis Brasil |       120005|\n",
      "|2014-08-15|   Feriado Municipal|MUNICIPAL|                null| AC|   Assis Brasil |       120005|\n",
      "|2014-07-03|   Feriado Municipal|MUNICIPAL|                null| AC|      Brasiléia |       120010|\n",
      "|2014-09-06|   Feriado Municipal|MUNICIPAL|                null| AC|      Brasiléia |       120010|\n",
      "|2014-09-06|   Feriado Municipal|MUNICIPAL|                null| AC|         Bujari |       120013|\n",
      "|2014-09-06|   Feriado Municipal|MUNICIPAL|                null| AC|       Capixaba |       120017|\n",
      "|2014-08-15| Nossa Sra da Glória|MUNICIPAL|Nossa Senhora da ...| AC|Cruzeiro do Sul |       430620|\n",
      "|2014-08-15| Nossa Sra da Glória|MUNICIPAL|Nossa Senhora da ...| AC|Cruzeiro do Sul |       410670|\n",
      "|2014-08-15| Nossa Sra da Glória|MUNICIPAL|Nossa Senhora da ...| AC|Cruzeiro do Sul |       120020|\n",
      "|2014-09-28|Aniversário da Ci...|MUNICIPAL|Aniversário de Cr...| AC|Cruzeiro do Sul |       430620|\n",
      "|2014-09-28|Aniversário da Ci...|MUNICIPAL|Aniversário de Cr...| AC|Cruzeiro do Sul |       410670|\n",
      "|2014-09-28|Aniversário da Ci...|MUNICIPAL|Aniversário de Cr...| AC|Cruzeiro do Sul |       120020|\n",
      "|2014-04-28|   Feriado Municipal|MUNICIPAL|                null| AC| Epitaciolândia |       120025|\n",
      "|2014-09-06|   Feriado Municipal|MUNICIPAL|                null| AC| Epitaciolândia |       120025|\n",
      "|2014-06-27|Dia da Padroeira ...|MUNICIPAL|Homenagem a Nossa...| AC|          Feijó |       120030|\n",
      "|2014-09-06|   Feriado Municipal|MUNICIPAL|                null| AC|          Feijó |       120030|\n",
      "|2014-12-21|   Feriado Municipal|MUNICIPAL|                null| AC|          Feijó |       120030|\n",
      "+----------+--------------------+---------+--------------------+---+----------------+-------------+\n",
      "only showing top 20 rows\n",
      "\n"
     ]
    }
   ],
   "source": [
    "final = (\n",
    "    feriados\n",
    "        .withColumn(\"municipio_formatado\", trim(remover_acentos_udf(col(\"municipio\"))))\n",
    "        .alias(\"f\")\n",
    "        .join(\n",
    "            municipios\n",
    "                .withColumn(\"nome_municipio_formatado\", trim(remover_acentos_udf(col(\"nome_municipio\"))))\n",
    "                .alias(\"c\"), \n",
    "            col(\"f.municipio_formatado\") == col(\"c.nome_municipio_formatado\"), \"left\")\n",
    "        .select(\n",
    "            \"f.data\",\n",
    "            \"f.nome\",\n",
    "            \"f.tipo\",\n",
    "            \"f.descricao\",\n",
    "            \"f.uf\",\n",
    "            \"f.municipio\",\n",
    "            \"c.cod_municipio\"\n",
    "        )\n",
    ")\n",
    "\n",
    "final.filter(\"f.municipio is not null\").show()"
   ]
  },
  {
   "cell_type": "code",
   "execution_count": 18,
   "id": "6dbbcfd6-97ed-4050-adcc-2c992a2a6415",
   "metadata": {},
   "outputs": [
    {
     "name": "stdout",
     "output_type": "stream",
     "text": [
      "543\n",
      "+----------+--------------------+---------+---------------+---+--------------------+-------------+\n",
      "|      data|                nome|     tipo|      descricao| uf|           municipio|cod_municipio|\n",
      "+----------+--------------------+---------+---------------+---+--------------------+-------------+\n",
      "|2014-07-20|   Feriado Municipal|MUNICIPAL|           null| CE|            Itapagé |         null|\n",
      "|2014-08-07|   Feriado Municipal|MUNICIPAL|           null| MG|         Brasópolis |         null|\n",
      "|2014-09-16|   Feriado Municipal|MUNICIPAL|           null| MG|         Brasópolis |         null|\n",
      "|2014-12-08|   Feriado Municipal|MUNICIPAL|           null| MG|         Brasópolis |         null|\n",
      "|2014-06-24|   Feriado Municipal|MUNICIPAL|           null| MT|            Poxoréo |         null|\n",
      "|2014-05-05|   Feriado Municipal|MUNICIPAL|           null| MT|Santo Antônio do ...|         null|\n",
      "|2014-06-13|Dia de Santo Antônio|MUNICIPAL|           null| MT|Santo Antônio do ...|         null|\n",
      "|2014-01-07|   Feriado Municipal|MUNICIPAL|           null| PA|Santa Isabel do P...|         null|\n",
      "|2014-01-06|   Feriado Municipal|MUNICIPAL|           null| PB|   Campo de Santana |         null|\n",
      "|2014-04-30|   Feriado Municipal|MUNICIPAL|           null| PB|   Campo de Santana |         null|\n",
      "|2014-06-24|   Feriado Municipal|MUNICIPAL|           null| PB|   Campo de Santana |         null|\n",
      "|2014-05-07|   Feriado Municipal|MUNICIPAL|           null| PE|Belém de São Fran...|         null|\n",
      "|2014-12-08|   Feriado Municipal|MUNICIPAL|           null| PE|Belém de São Fran...|         null|\n",
      "|2014-01-20|   Feriado Municipal|MUNICIPAL|           null| PE|           Iguaraci |         null|\n",
      "|2014-03-19|            São José|MUNICIPAL|Dia de São José| PE|           Iguaraci |         null|\n",
      "|2014-08-15|   Feriado Municipal|MUNICIPAL|           null| PE|           Iguaraci |         null|\n",
      "|2014-12-20|   Feriado Municipal|MUNICIPAL|           null| PE|           Iguaraci |         null|\n",
      "|2014-01-20|   Feriado Municipal|MUNICIPAL|           null| PE|   Lagoa do Itaenga |         null|\n",
      "|2014-12-20|   Feriado Municipal|MUNICIPAL|           null| PE|   Lagoa do Itaenga |         null|\n",
      "|2014-02-28|   Feriado Municipal|MUNICIPAL|           null| RJ|             Parati |         null|\n",
      "+----------+--------------------+---------+---------------+---+--------------------+-------------+\n",
      "only showing top 20 rows\n",
      "\n"
     ]
    }
   ],
   "source": [
    "# Check for erros...\n",
    "\n",
    "print(\n",
    "    final.filter(\"f.municipio is not null and cod_municipio is null\").count()\n",
    ")\n",
    "\n",
    "final.filter(\"f.municipio is not null and cod_municipio is null\").show()"
   ]
  },
  {
   "cell_type": "code",
   "execution_count": 19,
   "id": "5b3cbd55-b814-451e-b15f-3bd95b3f55f1",
   "metadata": {},
   "outputs": [],
   "source": [
    "final.write.mode(\"overwrite\").parquet(\"s3a://datalake/raw/feriados/\")"
   ]
  }
 ],
 "metadata": {
  "kernelspec": {
   "display_name": "Python 3 (ipykernel)",
   "language": "python",
   "name": "python3"
  },
  "language_info": {
   "codemirror_mode": {
    "name": "ipython",
    "version": 3
   },
   "file_extension": ".py",
   "mimetype": "text/x-python",
   "name": "python",
   "nbconvert_exporter": "python",
   "pygments_lexer": "ipython3",
   "version": "3.11.6"
  }
 },
 "nbformat": 4,
 "nbformat_minor": 5
}
