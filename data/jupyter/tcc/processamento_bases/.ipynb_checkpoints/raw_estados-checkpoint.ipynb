{
 "cells": [
  {
   "cell_type": "code",
   "execution_count": null,
   "id": "439dbe55-7529-44c8-915b-db145d291a11",
   "metadata": {},
   "outputs": [],
   "source": [
    "# raw_municipios\n",
    "# Este notebook cria a camada raw da base de municipios."
   ]
  },
  {
   "cell_type": "code",
   "execution_count": 1,
   "id": "946c10d9-fcf6-4866-91c6-1429b0ca8387",
   "metadata": {},
   "outputs": [],
   "source": [
    "%run ../spark-default.py"
   ]
  },
  {
   "cell_type": "code",
   "execution_count": 2,
   "id": "ce491ffd-613e-4899-975c-b207bac61b6b",
   "metadata": {},
   "outputs": [],
   "source": [
    "spark.conf.set(\"spark.sql.sources.partitionOverwriteMode\",\"dynamic\")"
   ]
  },
  {
   "cell_type": "code",
   "execution_count": 10,
   "id": "8aaec831-965d-4504-aeb6-8fe2151af919",
   "metadata": {},
   "outputs": [
    {
     "name": "stdout",
     "output_type": "stream",
     "text": [
      "root\n",
      " |-- UF: string (nullable = true)\n",
      " |-- Nome_UF: string (nullable = true)\n",
      " |-- Região Geográfica Intermediária: string (nullable = true)\n",
      " |-- Nome Região Geográfica Intermediária: string (nullable = true)\n",
      " |-- Região Geográfica Imediata: string (nullable = true)\n",
      " |-- Nome Região Geográfica Imediata: string (nullable = true)\n",
      " |-- Mesorregião Geográfica: string (nullable = true)\n",
      " |-- Nome_Mesorregião: string (nullable = true)\n",
      " |-- Microrregião Geográfica: string (nullable = true)\n",
      " |-- Nome_Microrregião: string (nullable = true)\n",
      " |-- Município: string (nullable = true)\n",
      " |-- Código Município Completo: string (nullable = true)\n",
      " |-- Nome_Município: string (nullable = true)\n",
      "\n",
      "5570\n",
      "+---+--------+-------------------------------+------------------------------------+-------------------------------+----------------------+-----------------+-----------------------+-----------------+---------+----------------------+--------------------+-------------+\n",
      "| uf| nome_uf|regiao_geografica_intermediaria|nome_regiao_geografica_intermediaria|nome_regiao_geografica_imediata|mesorregiao_geografica| nome_mesorregiao|microrregiao_geografica|nome_microrregiao|municipio|cod_municipio_completo|      nome_municipio|cod_municipio|\n",
      "+---+--------+-------------------------------+------------------------------------+-------------------------------+----------------------+-----------------+-----------------------+-----------------+---------+----------------------+--------------------+-------------+\n",
      "| 11|Rondônia|                           1102|                           Ji-Paraná|                         Cacoal|                    02|Leste Rondoniense|                    006|           Cacoal|    00015|               1100015|Alta Floresta D'O...|       110001|\n",
      "| 11|Rondônia|                           1102|                           Ji-Paraná|                         Cacoal|                    02|Leste Rondoniense|                    006|           Cacoal|    00379|               1100379|Alto Alegre dos P...|       110037|\n",
      "| 11|Rondônia|                           1101|                         Porto Velho|                      Ariquemes|                    02|Leste Rondoniense|                    003|        Ariquemes|    00403|               1100403|        Alto Paraíso|       110040|\n",
      "| 11|Rondônia|                           1102|                           Ji-Paraná|                      Ji-Paraná|                    02|Leste Rondoniense|                    005| Alvorada D'Oeste|    00346|               1100346|    Alvorada D'Oeste|       110034|\n",
      "| 11|Rondônia|                           1101|                         Porto Velho|                      Ariquemes|                    02|Leste Rondoniense|                    003|        Ariquemes|    00023|               1100023|           Ariquemes|       110002|\n",
      "| 11|Rondônia|                           1101|                         Porto Velho|                      Ariquemes|                    01|  Madeira-Guaporé|                    001|      Porto Velho|    00452|               1100452|             Buritis|       110045|\n",
      "| 11|Rondônia|                           1102|                           Ji-Paraná|                        Vilhena|                    02|Leste Rondoniense|                    008|Colorado do Oeste|    00031|               1100031|              Cabixi|       110003|\n",
      "| 11|Rondônia|                           1101|                         Porto Velho|                      Ariquemes|                    02|Leste Rondoniense|                    003|        Ariquemes|    00601|               1100601|         Cacaulândia|       110060|\n",
      "| 11|Rondônia|                           1102|                           Ji-Paraná|                         Cacoal|                    02|Leste Rondoniense|                    006|           Cacoal|    00049|               1100049|              Cacoal|       110004|\n",
      "| 11|Rondônia|                           1101|                         Porto Velho|                      Ariquemes|                    01|  Madeira-Guaporé|                    001|      Porto Velho|    00700|               1100700|Campo Novo de Ron...|       110070|\n",
      "| 11|Rondônia|                           1101|                         Porto Velho|                    Porto Velho|                    01|  Madeira-Guaporé|                    001|      Porto Velho|    00809|               1100809|  Candeias do Jamari|       110080|\n",
      "| 11|Rondônia|                           1102|                           Ji-Paraná|                         Cacoal|                    02|Leste Rondoniense|                    006|           Cacoal|    00908|               1100908|        Castanheiras|       110090|\n",
      "| 11|Rondônia|                           1102|                           Ji-Paraná|                        Vilhena|                    02|Leste Rondoniense|                    008|Colorado do Oeste|    00056|               1100056|          Cerejeiras|       110005|\n",
      "| 11|Rondônia|                           1102|                           Ji-Paraná|                        Vilhena|                    02|Leste Rondoniense|                    007|          Vilhena|    00924|               1100924|         Chupinguaia|       110092|\n",
      "| 11|Rondônia|                           1102|                           Ji-Paraná|                        Vilhena|                    02|Leste Rondoniense|                    008|Colorado do Oeste|    00064|               1100064|   Colorado do Oeste|       110006|\n",
      "| 11|Rondônia|                           1102|                           Ji-Paraná|                        Vilhena|                    02|Leste Rondoniense|                    008|Colorado do Oeste|    00072|               1100072|          Corumbiara|       110007|\n",
      "| 11|Rondônia|                           1102|                           Ji-Paraná|                      Ji-Paraná|                    01|  Madeira-Guaporé|                    002|    Guajará-Mirim|    00080|               1100080|       Costa Marques|       110008|\n",
      "| 11|Rondônia|                           1101|                         Porto Velho|                      Ariquemes|                    01|  Madeira-Guaporé|                    001|      Porto Velho|    00940|               1100940|             Cujubim|       110094|\n",
      "| 11|Rondônia|                           1102|                           Ji-Paraná|                         Cacoal|                    02|Leste Rondoniense|                    006|           Cacoal|    00098|               1100098|     Espigão D'Oeste|       110009|\n",
      "| 11|Rondônia|                           1101|                         Porto Velho|                           Jaru|                    02|Leste Rondoniense|                    004|        Ji-Paraná|    01005|               1101005|Governador Jorge ...|       110100|\n",
      "+---+--------+-------------------------------+------------------------------------+-------------------------------+----------------------+-----------------+-----------------------+-----------------+---------+----------------------+--------------------+-------------+\n",
      "only showing top 20 rows\n",
      "\n"
     ]
    }
   ],
   "source": [
    "municipios = spark.read.option(\"header\", True).option(\"sep\", \";\").option(\"encoding\", \"ISO-8859-1\").csv(\"s3a://datalake/source/municipios_csv/municipios.csv\")\n",
    "\n",
    "municipios.printSchema()\n",
    "\n",
    "municipios = municipios.select(\n",
    "    col(\"UF\").alias(\"uf\"),\n",
    "    col(\"Nome_UF\").alias(\"nome_uf\"),\n",
    "    col(\"Região Geográfica Intermediária\").alias(\"regiao_geografica_intermediaria\"),\n",
    "    col(\"Nome Região Geográfica Intermediária\").alias(\"nome_regiao_geografica_intermediaria\"),\n",
    "    col(\"Nome Região Geográfica Imediata\").alias(\"nome_regiao_geografica_imediata\"),\n",
    "    col(\"Mesorregião Geográfica\").alias(\"mesorregiao_geografica\"),\n",
    "    col(\"Nome_Mesorregião\").alias(\"nome_mesorregiao\"),\n",
    "    col(\"Microrregião Geográfica\").alias(\"microrregiao_geografica\"),\n",
    "    col(\"Nome_Microrregião\").alias(\"nome_microrregiao\"),\n",
    "    col(\"Município\").alias(\"municipio\"),\n",
    "    col(\"Código Município Completo\").alias(\"cod_municipio_completo\"),\n",
    "    col(\"Nome_Município\").alias(\"nome_municipio\"),\n",
    "    substring('Código Município Completo', 1,6).alias(\"cod_municipio\")\n",
    ")\n",
    "\n",
    "print(municipios.count())\n",
    "\n",
    "municipios.show()"
   ]
  },
  {
   "cell_type": "code",
   "execution_count": 11,
   "id": "e58456d2-988e-422d-b86d-51c35d70bff2",
   "metadata": {},
   "outputs": [
    {
     "data": {
      "text/plain": [
       "5570"
      ]
     },
     "execution_count": 11,
     "metadata": {},
     "output_type": "execute_result"
    }
   ],
   "source": [
    "municipios.count()"
   ]
  },
  {
   "cell_type": "code",
   "execution_count": 12,
   "id": "6d9fe46b-1317-4f8d-ae36-8db82820a744",
   "metadata": {},
   "outputs": [],
   "source": [
    "municipios.write.parquet(\"s3a://datalake/raw/municipios/\")"
   ]
  },
  {
   "cell_type": "code",
   "execution_count": 9,
   "id": "46cb6043-791f-4c71-9220-6bcf80b70171",
   "metadata": {},
   "outputs": [
    {
     "name": "stdout",
     "output_type": "stream",
     "text": [
      "+---+-------+---------+----------------------+--------------+-------------+\n",
      "| uf|nome_uf|municipio|cod_municipio_completo|nome_municipio|cod_municipio|\n",
      "+---+-------+---------+----------------------+--------------+-------------+\n",
      "| 41| Paraná|    06902|               4106902|      Curitiba|       410690|\n",
      "+---+-------+---------+----------------------+--------------+-------------+\n",
      "\n"
     ]
    }
   ],
   "source": [
    "municipios.filter(\"cod_municipio like '%410690%'\").show()"
   ]
  },
  {
   "cell_type": "code",
   "execution_count": 13,
   "id": "a38bd0b7-fb98-46fc-b567-686e1adf6359",
   "metadata": {},
   "outputs": [],
   "source": [
    "spark.stop()"
   ]
  }
 ],
 "metadata": {
  "kernelspec": {
   "display_name": "Python 3 (ipykernel)",
   "language": "python",
   "name": "python3"
  },
  "language_info": {
   "codemirror_mode": {
    "name": "ipython",
    "version": 3
   },
   "file_extension": ".py",
   "mimetype": "text/x-python",
   "name": "python",
   "nbconvert_exporter": "python",
   "pygments_lexer": "ipython3",
   "version": "3.11.6"
  }
 },
 "nbformat": 4,
 "nbformat_minor": 5
}
