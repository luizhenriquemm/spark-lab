{
 "cells": [
  {
   "cell_type": "code",
   "execution_count": 1,
   "id": "fbc086c8-2a3d-440d-b04b-c4e32a0b09a7",
   "metadata": {},
   "outputs": [],
   "source": [
    "# stage_feriados\n",
    "# Processa a camada stage da base feriados, criando a tabela no catalogo e salvando em delta"
   ]
  },
  {
   "cell_type": "code",
   "execution_count": 2,
   "id": "1c5329b5-24c8-4194-84c8-72d4dcf1e250",
   "metadata": {},
   "outputs": [],
   "source": [
    "%run ../spark-default.py"
   ]
  },
  {
   "cell_type": "code",
   "execution_count": 3,
   "id": "e5d8ffd9-0b13-49f7-996b-64d456216f30",
   "metadata": {},
   "outputs": [],
   "source": [
    "from delta.tables import DeltaTable"
   ]
  },
  {
   "cell_type": "code",
   "execution_count": 4,
   "id": "13489393-9b96-42e5-b4eb-e91c074ce3dd",
   "metadata": {},
   "outputs": [],
   "source": [
    "feriados = spark.read.parquet(\"s3a://datalake/raw/feriados/\")"
   ]
  },
  {
   "cell_type": "code",
   "execution_count": 5,
   "id": "06d8a074-5e99-40f5-9b59-91a455bbc359",
   "metadata": {},
   "outputs": [
    {
     "name": "stdout",
     "output_type": "stream",
     "text": [
      "+---------+\n",
      "|namespace|\n",
      "+---------+\n",
      "|default  |\n",
      "|stage    |\n",
      "+---------+\n",
      "\n"
     ]
    }
   ],
   "source": [
    "spark.sql(\"show databases\").show(truncate=False)"
   ]
  },
  {
   "cell_type": "code",
   "execution_count": 6,
   "id": "be002b9a-acef-400c-8784-e9be6363a84c",
   "metadata": {},
   "outputs": [
    {
     "data": {
      "text/plain": [
       "<delta.tables.DeltaTable at 0x7fe65cdbbd10>"
      ]
     },
     "execution_count": 6,
     "metadata": {},
     "output_type": "execute_result"
    }
   ],
   "source": [
    "DeltaTable.createIfNotExists(spark) \\\n",
    "  .tableName(\"stage.feriados\") \\\n",
    "  .addColumns(feriados.schema) \\\n",
    "  .execute()"
   ]
  },
  {
   "cell_type": "code",
   "execution_count": 7,
   "id": "861a9ef8-a853-4ae2-80d0-28b73cf6767d",
   "metadata": {},
   "outputs": [],
   "source": [
    "feriados.write.insertInto(\"stage.feriados\")"
   ]
  },
  {
   "cell_type": "code",
   "execution_count": 8,
   "id": "a4ea4b98-71ec-4591-bbd2-9d9c787e775a",
   "metadata": {},
   "outputs": [],
   "source": [
    "feriados = spark.table(\"stage.feriados\")"
   ]
  },
  {
   "cell_type": "code",
   "execution_count": 9,
   "id": "87ae1949-01b0-4cc0-aea8-174f580e5060",
   "metadata": {},
   "outputs": [
    {
     "name": "stdout",
     "output_type": "stream",
     "text": [
      "+----------+-------------------+---------+-----------------------------------------------------------------------------------+---+----------------+-------------+\n",
      "|data      |nome               |tipo     |descricao                                                                          |uf |municipio       |cod_municipio|\n",
      "+----------+-------------------+---------+-----------------------------------------------------------------------------------+---+----------------+-------------+\n",
      "|2014-04-28|Feriado Municipal  |MUNICIPAL|null                                                                               |AC |Acrelândia      |120001       |\n",
      "|2014-09-06|Feriado Municipal  |MUNICIPAL|null                                                                               |AC |Acrelândia      |120001       |\n",
      "|2014-05-14|Feriado Municipal  |MUNICIPAL|null                                                                               |AC |Assis Brasil    |120005       |\n",
      "|2014-05-31|Feriado Municipal  |MUNICIPAL|null                                                                               |AC |Assis Brasil    |120005       |\n",
      "|2014-08-15|Feriado Municipal  |MUNICIPAL|null                                                                               |AC |Assis Brasil    |120005       |\n",
      "|2014-07-03|Feriado Municipal  |MUNICIPAL|null                                                                               |AC |Brasiléia       |120010       |\n",
      "|2014-09-06|Feriado Municipal  |MUNICIPAL|null                                                                               |AC |Brasiléia       |120010       |\n",
      "|2014-09-06|Feriado Municipal  |MUNICIPAL|null                                                                               |AC |Bujari          |120013       |\n",
      "|2014-09-06|Feriado Municipal  |MUNICIPAL|null                                                                               |AC |Capixaba        |120017       |\n",
      "|2014-08-15|Nossa Sra da Glória|MUNICIPAL|Nossa Senhora da Glória. Feriado movido para Sexta-Feira, segundo decreto municipal|AC |Cruzeiro do Sul |430620       |\n",
      "+----------+-------------------+---------+-----------------------------------------------------------------------------------+---+----------------+-------------+\n",
      "\n"
     ]
    }
   ],
   "source": [
    "feriados.limit(10).show(truncate=False)"
   ]
  },
  {
   "cell_type": "code",
   "execution_count": 10,
   "id": "029fe14e-c1de-478c-b6b0-24886ecb5b50",
   "metadata": {},
   "outputs": [
    {
     "data": {
      "text/plain": [
       "154698"
      ]
     },
     "execution_count": 10,
     "metadata": {},
     "output_type": "execute_result"
    }
   ],
   "source": [
    "feriados.count()"
   ]
  }
 ],
 "metadata": {
  "kernelspec": {
   "display_name": "Python 3 (ipykernel)",
   "language": "python",
   "name": "python3"
  },
  "language_info": {
   "codemirror_mode": {
    "name": "ipython",
    "version": 3
   },
   "file_extension": ".py",
   "mimetype": "text/x-python",
   "name": "python",
   "nbconvert_exporter": "python",
   "pygments_lexer": "ipython3",
   "version": "3.11.6"
  }
 },
 "nbformat": 4,
 "nbformat_minor": 5
}
