{
 "cells": [
  {
   "cell_type": "code",
   "execution_count": 1,
   "id": "fbc086c8-2a3d-440d-b04b-c4e32a0b09a7",
   "metadata": {},
   "outputs": [],
   "source": [
    "# stage_cid10\n",
    "# Processa as camadas stage das bases do CID10"
   ]
  },
  {
   "cell_type": "code",
   "execution_count": 16,
   "id": "1c5329b5-24c8-4194-84c8-72d4dcf1e250",
   "metadata": {},
   "outputs": [],
   "source": [
    "%run ../spark-default.py"
   ]
  },
  {
   "cell_type": "code",
   "execution_count": 17,
   "id": "e5d8ffd9-0b13-49f7-996b-64d456216f30",
   "metadata": {},
   "outputs": [],
   "source": [
    "from delta.tables import DeltaTable"
   ]
  },
  {
   "cell_type": "code",
   "execution_count": 18,
   "id": "13489393-9b96-42e5-b4eb-e91c074ce3dd",
   "metadata": {},
   "outputs": [],
   "source": [
    "cid10_capitulos = spark.read.parquet(\"s3a://datalake/raw/cid10_capitulos/\")\n",
    "cid10_categorias = spark.read.parquet(\"s3a://datalake/raw/cid10_categorias/\")\n",
    "cid10_grupos = spark.read.parquet(\"s3a://datalake/raw/cid10_grupos/\")\n",
    "cid10_subcategorias = spark.read.parquet(\"s3a://datalake/raw/cid10_subcategorias/\")"
   ]
  },
  {
   "cell_type": "code",
   "execution_count": 19,
   "id": "06d8a074-5e99-40f5-9b59-91a455bbc359",
   "metadata": {},
   "outputs": [
    {
     "name": "stdout",
     "output_type": "stream",
     "text": [
      "+---------+\n",
      "|namespace|\n",
      "+---------+\n",
      "|default  |\n",
      "|stage    |\n",
      "+---------+\n",
      "\n"
     ]
    }
   ],
   "source": [
    "spark.sql(\"show databases\").show(truncate=False)"
   ]
  },
  {
   "cell_type": "code",
   "execution_count": 20,
   "id": "f1e1a670-17c1-4a06-b004-859cfdea47cf",
   "metadata": {},
   "outputs": [
    {
     "name": "stdout",
     "output_type": "stream",
     "text": [
      "+---------+----------+-----------+\n",
      "|namespace|tableName |isTemporary|\n",
      "+---------+----------+-----------+\n",
      "|stage    |ciha      |false      |\n",
      "|stage    |municipios|false      |\n",
      "|stage    |estados   |false      |\n",
      "|stage    |feriados  |false      |\n",
      "|stage    |idhm      |false      |\n",
      "|stage    |ibge      |false      |\n",
      "|stage    |ciha_step1|false      |\n",
      "+---------+----------+-----------+\n",
      "\n"
     ]
    }
   ],
   "source": [
    "spark.sql(\"show tables from stage\").show(truncate=False)"
   ]
  },
  {
   "cell_type": "code",
   "execution_count": 21,
   "id": "be002b9a-acef-400c-8784-e9be6363a84c",
   "metadata": {},
   "outputs": [
    {
     "data": {
      "text/plain": [
       "<delta.tables.DeltaTable at 0x7f995aba7850>"
      ]
     },
     "execution_count": 21,
     "metadata": {},
     "output_type": "execute_result"
    }
   ],
   "source": [
    "DeltaTable.createIfNotExists(spark) \\\n",
    "  .tableName(\"stage.cid10_capitulos\") \\\n",
    "  .addColumns(cid10_capitulos.schema) \\\n",
    "  .execute()\n",
    "\n",
    "DeltaTable.createIfNotExists(spark) \\\n",
    "  .tableName(\"stage.cid10_categorias\") \\\n",
    "  .addColumns(cid10_categorias.schema) \\\n",
    "  .execute()\n",
    "\n",
    "DeltaTable.createIfNotExists(spark) \\\n",
    "  .tableName(\"stage.cid10_grupos\") \\\n",
    "  .addColumns(cid10_grupos.schema) \\\n",
    "  .execute()\n",
    "\n",
    "DeltaTable.createIfNotExists(spark) \\\n",
    "  .tableName(\"stage.cid10_subcategorias\") \\\n",
    "  .addColumns(cid10_subcategorias.schema) \\\n",
    "  .execute()"
   ]
  },
  {
   "cell_type": "code",
   "execution_count": 22,
   "id": "861a9ef8-a853-4ae2-80d0-28b73cf6767d",
   "metadata": {},
   "outputs": [],
   "source": [
    "cid10_capitulos.write.insertInto(\"stage.cid10_capitulos\")\n",
    "cid10_categorias.write.insertInto(\"stage.cid10_categorias\")\n",
    "cid10_grupos.write.insertInto(\"stage.cid10_grupos\")\n",
    "cid10_subcategorias.write.insertInto(\"stage.cid10_subcategorias\")"
   ]
  },
  {
   "cell_type": "code",
   "execution_count": 23,
   "id": "896306e1-213b-4f40-becc-8f6904790cf9",
   "metadata": {},
   "outputs": [],
   "source": [
    "spark.stop()"
   ]
  }
 ],
 "metadata": {
  "kernelspec": {
   "display_name": "Python 3 (ipykernel)",
   "language": "python",
   "name": "python3"
  },
  "language_info": {
   "codemirror_mode": {
    "name": "ipython",
    "version": 3
   },
   "file_extension": ".py",
   "mimetype": "text/x-python",
   "name": "python",
   "nbconvert_exporter": "python",
   "pygments_lexer": "ipython3",
   "version": "3.11.6"
  }
 },
 "nbformat": 4,
 "nbformat_minor": 5
}
