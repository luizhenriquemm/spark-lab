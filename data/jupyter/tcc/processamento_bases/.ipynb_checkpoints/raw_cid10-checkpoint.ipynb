{
 "cells": [
  {
   "cell_type": "code",
   "execution_count": 1,
   "id": "439dbe55-7529-44c8-915b-db145d291a11",
   "metadata": {},
   "outputs": [],
   "source": [
    "# raw_cid10\n",
    "# Este notebook cria a camada raw das 4 bases do CID10"
   ]
  },
  {
   "cell_type": "code",
   "execution_count": 31,
   "id": "946c10d9-fcf6-4866-91c6-1429b0ca8387",
   "metadata": {},
   "outputs": [],
   "source": [
    "%run ../spark-default.py"
   ]
  },
  {
   "cell_type": "code",
   "execution_count": 32,
   "id": "ce491ffd-613e-4899-975c-b207bac61b6b",
   "metadata": {},
   "outputs": [],
   "source": [
    "spark.conf.set(\"spark.sql.sources.partitionOverwriteMode\",\"dynamic\")"
   ]
  },
  {
   "cell_type": "code",
   "execution_count": 34,
   "id": "8aaec831-965d-4504-aeb6-8fe2151af919",
   "metadata": {},
   "outputs": [
    {
     "name": "stdout",
     "output_type": "stream",
     "text": [
      "root\n",
      " |-- NUMCAP: string (nullable = true)\n",
      " |-- CATINIC: string (nullable = true)\n",
      " |-- CATFIM: string (nullable = true)\n",
      " |-- DESCRICAO: string (nullable = true)\n",
      " |-- DESCRABREV: string (nullable = true)\n",
      " |-- _c5: string (nullable = true)\n",
      "\n",
      "22\n",
      "+---------------+----------------+-------------+--------------------+--------------------+\n",
      "|numero_capitulo|categoria_inicio|categoria_fim|           descricao| descricao_abreviada|\n",
      "+---------------+----------------+-------------+--------------------+--------------------+\n",
      "|              1|             A00|          B99|Capítulo I - Algu...|I.   Algumas doen...|\n",
      "|              2|             C00|          D48|Capítulo II - Neo...|II.  Neoplasias (...|\n",
      "|              3|             D50|          D89|Capítulo III  - D...|III. Doenças sang...|\n",
      "|              4|             E00|          E90|Capítulo IV - Doe...|IV.  Doenças endó...|\n",
      "|              5|             F00|          F99|Capítulo V - Tran...|V.   Transtornos ...|\n",
      "|              6|             G00|          G99|Capítulo VI - Doe...|VI.  Doenças do s...|\n",
      "|              7|             H00|          H59|Capítulo VII - Do...|VII. Doenças do o...|\n",
      "|              8|             H60|          H95|Capítulo VIII - D...|VIII.Doenças do o...|\n",
      "|              9|             I00|          I99|Capítulo IX - Doe...|IX.  Doenças do a...|\n",
      "|             10|             J00|          J99|Capítulo X - Doen...|X.   Doenças do a...|\n",
      "|             11|             K00|          K93|Capítulo XI - Doe...|XI.  Doenças do a...|\n",
      "|             12|             L00|          L99|Capítulo XII - Do...|XII. Doenças da p...|\n",
      "|             13|             M00|          M99|Capítulo XIII - D...|XIII.Doenças sist...|\n",
      "|             14|             N00|          N99|Capítulo XIV - Do...|XIV. Doenças do a...|\n",
      "|             15|             O00|          O99|Capítulo XV - Gra...|XV.  Gravidez par...|\n",
      "|             16|             P00|          P96|Capítulo XVI - Al...|XVI. Algumas afec...|\n",
      "|             17|             Q00|          Q99|Capítulo XVII - M...|XVII.Malf cong de...|\n",
      "|             18|             R00|          R99|Capítulo XVIII - ...|XVIII.Sint sinais...|\n",
      "|             19|             S00|          T98|Capítulo XIX - Le...|XIX. Lesões enven...|\n",
      "|             20|             V01|          Y98|Capítulo XX - Cau...|XX.  Causas exter...|\n",
      "|             21|             Z00|          Z99|Capítulo XXI - Fa...|XXI. Contatos com...|\n",
      "|             22|             U04|          U99|Capítulo XXII - C...|XXII.Códigos para...|\n",
      "+---------------+----------------+-------------+--------------------+--------------------+\n",
      "\n"
     ]
    }
   ],
   "source": [
    "cid10_capitulos = spark.read.option(\"header\", True).option(\"sep\", \";\").option(\"encoding\", \"ISO-8859-1\").csv(\"s3a://datalake/input/cid10_capitulos/\")\n",
    "\n",
    "cid10_capitulos.printSchema()\n",
    "\n",
    "cid10_capitulos = cid10_capitulos.select(\n",
    "    col(\"NUMCAP\").alias(\"numero_capitulo\"),\n",
    "    col(\"CATINIC\").alias(\"categoria_inicio\"),\n",
    "    col(\"CATFIM\").alias(\"categoria_fim\"),\n",
    "    col(\"DESCRICAO\").alias(\"descricao\"),\n",
    "    col(\"DESCRABREV\").alias(\"descricao_abreviada\")\n",
    ")\n",
    "\n",
    "print(cid10_capitulos.count())\n",
    "\n",
    "cid10_capitulos.show(999)"
   ]
  },
  {
   "cell_type": "code",
   "execution_count": 35,
   "id": "b408abbb-5a81-40a7-951b-1d62532ea90d",
   "metadata": {},
   "outputs": [],
   "source": [
    "cid10_capitulos.write.parquet(\"s3a://datalake/raw/cid10_capitulos/\")"
   ]
  },
  {
   "cell_type": "code",
   "execution_count": 36,
   "id": "5635d121-693d-4ddd-b7df-df8e0020e7b7",
   "metadata": {},
   "outputs": [
    {
     "name": "stdout",
     "output_type": "stream",
     "text": [
      "root\n",
      " |-- CAT: string (nullable = true)\n",
      " |-- CLASSIF: string (nullable = true)\n",
      " |-- DESCRICAO: string (nullable = true)\n",
      " |-- DESCRABREV: string (nullable = true)\n",
      " |-- REFER: string (nullable = true)\n",
      " |-- EXCLUIDOS: string (nullable = true)\n",
      " |-- _c6: string (nullable = true)\n",
      "\n",
      "2045\n",
      "+---------+-------------+--------------------+--------------------+----------+\n",
      "|categoria|classificacao|           descricao| descricao_abreviada|referencia|\n",
      "+---------+-------------+--------------------+--------------------+----------+\n",
      "|      A00|         null|              Cólera|        A00   Colera|      null|\n",
      "|      A01|         null|Febres tifóide e ...|A01   Febres tifo...|      null|\n",
      "|      A02|         null|Outras infecções ...|A02   Outr infecc...|      null|\n",
      "|      A03|         null|          Shiguelose|    A03   Shiguelose|      null|\n",
      "|      A04|         null|Outras infecções ...|A04   Outr infecc...|      null|\n",
      "|      A05|         null|Outras intoxicaçõ...|A05   Outr intox ...|      null|\n",
      "|      A06|         null|            Amebíase|      A06   Amebiase|      null|\n",
      "|      A07|         null|Outras doenças in...|A07   Outr doenc ...|      null|\n",
      "|      A08|         null|Infecções intesti...|A08   Infecc inte...|      null|\n",
      "|      A09|         null|Diarréia e gastro...|A09   Diarreia e ...|      null|\n",
      "|      A15|         null|Tuberculose respi...|A15   Tuberc resp...|      null|\n",
      "|      A16|         null|Tuberculose das v...|A16   Tuberc vias...|      null|\n",
      "|      A17|            +|Tuberculose do si...|A17   Tuberc do s...|      null|\n",
      "|      A18|         null|Tuberculose de ou...|A18   Tuberc de o...|      null|\n",
      "|      A19|         null|  Tuberculose miliar| A19   Tuberc miliar|      null|\n",
      "|      A20|         null|               Peste|         A20   Peste|      null|\n",
      "|      A21|         null|           Tularemia|     A21   Tularemia|      null|\n",
      "|      A22|         null|          Carbúnculo|    A22   Carbunculo|      null|\n",
      "|      A23|         null|           Brucelose|     A23   Brucelose|      null|\n",
      "|      A24|         null|  Mormo e melioidose|A24   Mormo e mel...|      null|\n",
      "+---------+-------------+--------------------+--------------------+----------+\n",
      "only showing top 20 rows\n",
      "\n"
     ]
    }
   ],
   "source": [
    "cid10_categorias = spark.read.option(\"header\", True).option(\"sep\", \";\").option(\"encoding\", \"ISO-8859-1\").csv(\"s3a://datalake/input/cid10_categorias/\")\n",
    "\n",
    "cid10_categorias.printSchema()\n",
    "\n",
    "cid10_categorias = cid10_categorias.select(\n",
    "    col(\"CAT\").alias(\"categoria\"),\n",
    "    col(\"CLASSIF\").alias(\"classificacao\"),\n",
    "    col(\"DESCRICAO\").alias(\"descricao\"),\n",
    "    col(\"DESCRABREV\").alias(\"descricao_abreviada\"),\n",
    "    col(\"REFER\").alias(\"referencia\")\n",
    ")\n",
    "\n",
    "print(cid10_categorias.count())\n",
    "\n",
    "cid10_categorias.show()"
   ]
  },
  {
   "cell_type": "code",
   "execution_count": 37,
   "id": "699ab6a2-32cd-4b77-be2e-2e496de6eacc",
   "metadata": {},
   "outputs": [],
   "source": [
    "cid10_categorias.write.parquet(\"s3a://datalake/raw/cid10_categorias/\")"
   ]
  },
  {
   "cell_type": "code",
   "execution_count": 38,
   "id": "b075ac31-896a-4bb5-b30a-e3280b12caff",
   "metadata": {},
   "outputs": [
    {
     "name": "stdout",
     "output_type": "stream",
     "text": [
      "root\n",
      " |-- CATINIC: string (nullable = true)\n",
      " |-- CATFIM: string (nullable = true)\n",
      " |-- DESCRICAO: string (nullable = true)\n",
      " |-- DESCRABREV: string (nullable = true)\n",
      " |-- _c4: string (nullable = true)\n",
      "\n",
      "275\n",
      "+----------------+-------------+--------------------+--------------------+\n",
      "|categoria_inicio|categoria_fim|           descricao| descricao_abreviada|\n",
      "+----------------+-------------+--------------------+--------------------+\n",
      "|             A00|          A09|Doenças infeccios...|Doenças infeccios...|\n",
      "|             A15|          A19|         Tuberculose|         Tuberculose|\n",
      "|             A20|          A28|Algumas doenças b...|Algumas doenças b...|\n",
      "|             A30|          A49|Outras doenças ba...|Outras doenças ba...|\n",
      "|             A50|          A64|Infecções de tran...|Infecções de tran...|\n",
      "|             A65|          A69|Outras doenças po...|Outras doenças po...|\n",
      "|             A70|          A74|Outras doenças ca...|Outras doenças ca...|\n",
      "|             A75|          A79|       Rickettsioses|       Rickettsioses|\n",
      "|             A80|          A89|Infecções virais ...|Infecções virais ...|\n",
      "|             A90|          A99|Febres por arboví...|Febres por arboví...|\n",
      "|             B00|          B09|Infecções virais ...|Infecções virais ...|\n",
      "|             B15|          B19|      Hepatite viral|      Hepatite viral|\n",
      "|             B20|          B24|Doença pelo vírus...|Doença pelo vírus...|\n",
      "|             B25|          B34|Outras doenças po...|Outras doenças po...|\n",
      "|             B35|          B49|             Micoses|             Micoses|\n",
      "|             B50|          B64|Doenças devidas a...|Doenças devidas a...|\n",
      "|             B65|          B83|        Helmintíases|        Helmintíases|\n",
      "|             B85|          B89|Pediculose, acarí...|Pediculose, acarí...|\n",
      "|             B90|          B94|Seqüelas de doenç...|Seqüelas de doenç...|\n",
      "|             B95|          B97|Agentes de infecç...|Agentes infec bac...|\n",
      "+----------------+-------------+--------------------+--------------------+\n",
      "only showing top 20 rows\n",
      "\n"
     ]
    }
   ],
   "source": [
    "cid10_grupos = spark.read.option(\"header\", True).option(\"sep\", \";\").option(\"encoding\", \"ISO-8859-1\").csv(\"s3a://datalake/input/cid10_grupos/\")\n",
    "\n",
    "cid10_grupos.printSchema()\n",
    "\n",
    "cid10_grupos = cid10_grupos.select(\n",
    "    col(\"CATINIC\").alias(\"categoria_inicio\"),\n",
    "    col(\"CATFIM\").alias(\"categoria_fim\"),\n",
    "    col(\"DESCRICAO\").alias(\"descricao\"),\n",
    "    col(\"DESCRABREV\").alias(\"descricao_abreviada\")\n",
    ")\n",
    "\n",
    "print(cid10_grupos.count())\n",
    "\n",
    "cid10_grupos.show()"
   ]
  },
  {
   "cell_type": "code",
   "execution_count": 39,
   "id": "88995e0a-2135-44b8-8875-e247c1d1e2e7",
   "metadata": {},
   "outputs": [],
   "source": [
    "cid10_grupos.write.parquet(\"s3a://datalake/raw/cid10_grupos/\")"
   ]
  },
  {
   "cell_type": "code",
   "execution_count": 40,
   "id": "13cb3980-d864-4477-a09c-57d231f3d773",
   "metadata": {},
   "outputs": [
    {
     "name": "stdout",
     "output_type": "stream",
     "text": [
      "root\n",
      " |-- SUBCAT: string (nullable = true)\n",
      " |-- CLASSIF: string (nullable = true)\n",
      " |-- RESTRSEXO: string (nullable = true)\n",
      " |-- CAUSAOBITO: string (nullable = true)\n",
      " |-- DESCRICAO: string (nullable = true)\n",
      " |-- DESCRABREV: string (nullable = true)\n",
      " |-- REFER: string (nullable = true)\n",
      " |-- EXCLUIDOS: string (nullable = true)\n",
      " |-- _c8: string (nullable = true)\n",
      "\n",
      "12451\n",
      "+-------------+-------------+----------------+-----------+--------------------+--------------------+----------+---------+\n",
      "|sub_categoria|classificacao|restringido_sexo|causa_obito|           descricao| descricao_abreviada|referencia|excluidos|\n",
      "+-------------+-------------+----------------+-----------+--------------------+--------------------+----------+---------+\n",
      "|         A000|         null|            null|       null|Cólera devida a V...|A00.0 Colera dev ...|      null|     null|\n",
      "|         A001|         null|            null|       null|Cólera devida a V...|A00.1 Colera dev ...|      null|     null|\n",
      "|         A009|         null|            null|       null|Cólera não especi...|     A00.9 Colera NE|      null|     null|\n",
      "|         A010|         null|            null|       null|       Febre tifóide| A01.0 Febre tifoide|      null|     null|\n",
      "|         A011|         null|            null|       null| Febre paratifóide A|A01.1 Febre parat...|      null|     null|\n",
      "|         A012|         null|            null|       null| Febre paratifóide B|A01.2 Febre parat...|      null|     null|\n",
      "|         A013|         null|            null|       null| Febre paratifóide C|A01.3 Febre parat...|      null|     null|\n",
      "|         A014|         null|            null|       null|Febre paratifóide...|A01.4 Febre parat...|      null|     null|\n",
      "|         A020|         null|            null|       null|Enterite por salm...|A02.0 Enterite p/...|      null|     null|\n",
      "|         A021|         null|            null|       null|Septicemia por sa...|A02.1 Septicemia ...|      null|     null|\n",
      "|         A022|         null|            null|       null|Infecções localiz...|A02.2 Infecc loca...|      null|     null|\n",
      "|         A028|         null|            null|       null|Outras infecções ...|A02.8 Outr infecc...|      null|     null|\n",
      "|         A029|         null|            null|       null|Infecção não espe...|A02.9 Infecc NE p...|      null|     null|\n",
      "|         A030|         null|            null|       null|Shiguelose devida...|A03.0 Shiguelose ...|      null|     null|\n",
      "|         A031|         null|            null|       null|Shiguelose devida...|A03.1 Shiguelose ...|      null|     null|\n",
      "|         A032|         null|            null|       null|Shiguelose devida...|A03.2 Shiguelose ...|      null|     null|\n",
      "|         A033|         null|            null|       null|Shiguelose devida...|A03.3 Shiguelose ...|      null|     null|\n",
      "|         A038|         null|            null|       null|  Outras shigueloses|A03.8 Outr shigue...|      null|     null|\n",
      "|         A039|         null|            null|       null|Shiguelose não es...| A03.9 Shiguelose NE|      null|     null|\n",
      "|         A040|         null|            null|       null|Infecção por Esch...|A04.0 Infecc p/Es...|      null|     null|\n",
      "+-------------+-------------+----------------+-----------+--------------------+--------------------+----------+---------+\n",
      "only showing top 20 rows\n",
      "\n"
     ]
    }
   ],
   "source": [
    "cid10_subcategorias = spark.read.option(\"header\", True).option(\"sep\", \";\").option(\"encoding\", \"ISO-8859-1\").csv(\"s3a://datalake/input/cid10_subcategorias/\")\n",
    "\n",
    "cid10_subcategorias.printSchema()\n",
    "\n",
    "cid10_subcategorias = cid10_subcategorias.select(\n",
    "    col(\"SUBCAT\").alias(\"sub_categoria\"),\n",
    "    col(\"CLASSIF\").alias(\"classificacao\"),\n",
    "    col(\"RESTRSEXO\").alias(\"restringido_sexo\"),\n",
    "    col(\"CAUSAOBITO\").alias(\"causa_obito\"),\n",
    "    col(\"DESCRICAO\").alias(\"descricao\"),\n",
    "    col(\"DESCRABREV\").alias(\"descricao_abreviada\"),\n",
    "    col(\"REFER\").alias(\"referencia\"),\n",
    "    col(\"EXCLUIDOS\").alias(\"excluidos\")\n",
    ")\n",
    "\n",
    "print(cid10_subcategorias.count())\n",
    "\n",
    "cid10_subcategorias.show()"
   ]
  },
  {
   "cell_type": "code",
   "execution_count": 41,
   "id": "e44df6b9-a3f1-4417-972e-3d10dbd45406",
   "metadata": {},
   "outputs": [],
   "source": [
    "cid10_subcategorias.write.parquet(\"s3a://datalake/raw/cid10_subcategorias/\")"
   ]
  },
  {
   "cell_type": "code",
   "execution_count": 42,
   "id": "a38bd0b7-fb98-46fc-b567-686e1adf6359",
   "metadata": {},
   "outputs": [],
   "source": [
    "spark.stop()"
   ]
  }
 ],
 "metadata": {
  "kernelspec": {
   "display_name": "Python 3 (ipykernel)",
   "language": "python",
   "name": "python3"
  },
  "language_info": {
   "codemirror_mode": {
    "name": "ipython",
    "version": 3
   },
   "file_extension": ".py",
   "mimetype": "text/x-python",
   "name": "python",
   "nbconvert_exporter": "python",
   "pygments_lexer": "ipython3",
   "version": "3.11.6"
  }
 },
 "nbformat": 4,
 "nbformat_minor": 5
}
