{
 "cells": [
  {
   "cell_type": "code",
   "execution_count": 3,
   "id": "fbc086c8-2a3d-440d-b04b-c4e32a0b09a7",
   "metadata": {},
   "outputs": [],
   "source": [
    "# stage_municipios\n",
    "# Processa a camada stage da base municipios, criando a tabela no catalogo e salvando em delta"
   ]
  },
  {
   "cell_type": "code",
   "execution_count": 1,
   "id": "1c5329b5-24c8-4194-84c8-72d4dcf1e250",
   "metadata": {},
   "outputs": [],
   "source": [
    "%run ../spark-default.py"
   ]
  },
  {
   "cell_type": "code",
   "execution_count": 2,
   "id": "e5d8ffd9-0b13-49f7-996b-64d456216f30",
   "metadata": {},
   "outputs": [],
   "source": [
    "from delta.tables import DeltaTable"
   ]
  },
  {
   "cell_type": "code",
   "execution_count": 3,
   "id": "13489393-9b96-42e5-b4eb-e91c074ce3dd",
   "metadata": {},
   "outputs": [],
   "source": [
    "municipios = spark.read.parquet(\"s3a://datalake/raw/municipios/\")"
   ]
  },
  {
   "cell_type": "code",
   "execution_count": 4,
   "id": "06d8a074-5e99-40f5-9b59-91a455bbc359",
   "metadata": {},
   "outputs": [
    {
     "name": "stdout",
     "output_type": "stream",
     "text": [
      "+---------+\n",
      "|namespace|\n",
      "+---------+\n",
      "|default  |\n",
      "|stage    |\n",
      "+---------+\n",
      "\n"
     ]
    }
   ],
   "source": [
    "spark.sql(\"show databases\").show(truncate=False)"
   ]
  },
  {
   "cell_type": "code",
   "execution_count": 5,
   "id": "be002b9a-acef-400c-8784-e9be6363a84c",
   "metadata": {},
   "outputs": [
    {
     "data": {
      "text/plain": [
       "<delta.tables.DeltaTable at 0x7f6fdc386ad0>"
      ]
     },
     "execution_count": 5,
     "metadata": {},
     "output_type": "execute_result"
    }
   ],
   "source": [
    "DeltaTable.createIfNotExists(spark) \\\n",
    "  .tableName(\"stage.municipios\") \\\n",
    "  .addColumns(municipios.schema) \\\n",
    "  .execute()"
   ]
  },
  {
   "cell_type": "code",
   "execution_count": 6,
   "id": "861a9ef8-a853-4ae2-80d0-28b73cf6767d",
   "metadata": {},
   "outputs": [],
   "source": [
    "municipios.write.insertInto(\"stage.municipios\")"
   ]
  },
  {
   "cell_type": "code",
   "execution_count": 7,
   "id": "a4ea4b98-71ec-4591-bbd2-9d9c787e775a",
   "metadata": {},
   "outputs": [],
   "source": [
    "municipios = spark.table(\"stage.municipios\")"
   ]
  },
  {
   "cell_type": "code",
   "execution_count": 8,
   "id": "87ae1949-01b0-4cc0-aea8-174f580e5060",
   "metadata": {},
   "outputs": [
    {
     "name": "stdout",
     "output_type": "stream",
     "text": [
      "+---+--------+-------------------------------+------------------------------------+-------------------------------+----------------------+-----------------+-----------------------+-----------------+---------+----------------------+-----------------------+-------------+\n",
      "|uf |nome_uf |regiao_geografica_intermediaria|nome_regiao_geografica_intermediaria|nome_regiao_geografica_imediata|mesorregiao_geografica|nome_mesorregiao |microrregiao_geografica|nome_microrregiao|municipio|cod_municipio_completo|nome_municipio         |cod_municipio|\n",
      "+---+--------+-------------------------------+------------------------------------+-------------------------------+----------------------+-----------------+-----------------------+-----------------+---------+----------------------+-----------------------+-------------+\n",
      "|11 |Rondônia|1102                           |Ji-Paraná                           |Cacoal                         |02                    |Leste Rondoniense|006                    |Cacoal           |00015    |1100015               |Alta Floresta D'Oeste  |110001       |\n",
      "|11 |Rondônia|1102                           |Ji-Paraná                           |Cacoal                         |02                    |Leste Rondoniense|006                    |Cacoal           |00379    |1100379               |Alto Alegre dos Parecis|110037       |\n",
      "|11 |Rondônia|1101                           |Porto Velho                         |Ariquemes                      |02                    |Leste Rondoniense|003                    |Ariquemes        |00403    |1100403               |Alto Paraíso           |110040       |\n",
      "|11 |Rondônia|1102                           |Ji-Paraná                           |Ji-Paraná                      |02                    |Leste Rondoniense|005                    |Alvorada D'Oeste |00346    |1100346               |Alvorada D'Oeste       |110034       |\n",
      "|11 |Rondônia|1101                           |Porto Velho                         |Ariquemes                      |02                    |Leste Rondoniense|003                    |Ariquemes        |00023    |1100023               |Ariquemes              |110002       |\n",
      "|11 |Rondônia|1101                           |Porto Velho                         |Ariquemes                      |01                    |Madeira-Guaporé  |001                    |Porto Velho      |00452    |1100452               |Buritis                |110045       |\n",
      "|11 |Rondônia|1102                           |Ji-Paraná                           |Vilhena                        |02                    |Leste Rondoniense|008                    |Colorado do Oeste|00031    |1100031               |Cabixi                 |110003       |\n",
      "|11 |Rondônia|1101                           |Porto Velho                         |Ariquemes                      |02                    |Leste Rondoniense|003                    |Ariquemes        |00601    |1100601               |Cacaulândia            |110060       |\n",
      "|11 |Rondônia|1102                           |Ji-Paraná                           |Cacoal                         |02                    |Leste Rondoniense|006                    |Cacoal           |00049    |1100049               |Cacoal                 |110004       |\n",
      "|11 |Rondônia|1101                           |Porto Velho                         |Ariquemes                      |01                    |Madeira-Guaporé  |001                    |Porto Velho      |00700    |1100700               |Campo Novo de Rondônia |110070       |\n",
      "+---+--------+-------------------------------+------------------------------------+-------------------------------+----------------------+-----------------+-----------------------+-----------------+---------+----------------------+-----------------------+-------------+\n",
      "\n"
     ]
    }
   ],
   "source": [
    "municipios.limit(10).show(truncate=False)"
   ]
  },
  {
   "cell_type": "code",
   "execution_count": 9,
   "id": "029fe14e-c1de-478c-b6b0-24886ecb5b50",
   "metadata": {},
   "outputs": [
    {
     "data": {
      "text/plain": [
       "5570"
      ]
     },
     "execution_count": 9,
     "metadata": {},
     "output_type": "execute_result"
    }
   ],
   "source": [
    "municipios.count()"
   ]
  }
 ],
 "metadata": {
  "kernelspec": {
   "display_name": "Python 3 (ipykernel)",
   "language": "python",
   "name": "python3"
  },
  "language_info": {
   "codemirror_mode": {
    "name": "ipython",
    "version": 3
   },
   "file_extension": ".py",
   "mimetype": "text/x-python",
   "name": "python",
   "nbconvert_exporter": "python",
   "pygments_lexer": "ipython3",
   "version": "3.11.6"
  }
 },
 "nbformat": 4,
 "nbformat_minor": 5
}
