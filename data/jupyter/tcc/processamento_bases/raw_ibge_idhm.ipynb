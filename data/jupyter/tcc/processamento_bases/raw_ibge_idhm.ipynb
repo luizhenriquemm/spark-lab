{
 "cells": [
  {
   "cell_type": "code",
   "execution_count": 1,
   "id": "439dbe55-7529-44c8-915b-db145d291a11",
   "metadata": {},
   "outputs": [],
   "source": [
    "# raw_ibge_idhm\n",
    "# Este notebook cria a camada raw da base de de IDH municipal do IBGE de 2010."
   ]
  },
  {
   "cell_type": "code",
   "execution_count": 2,
   "id": "946c10d9-fcf6-4866-91c6-1429b0ca8387",
   "metadata": {},
   "outputs": [],
   "source": [
    "%run ../spark-default.py"
   ]
  },
  {
   "cell_type": "code",
   "execution_count": 3,
   "id": "ce491ffd-613e-4899-975c-b207bac61b6b",
   "metadata": {},
   "outputs": [],
   "source": [
    "spark.conf.set(\"spark.sql.sources.partitionOverwriteMode\",\"dynamic\")"
   ]
  },
  {
   "cell_type": "code",
   "execution_count": 5,
   "id": "3e2b15d0-573f-4cd2-b1cc-9041c8c40e48",
   "metadata": {},
   "outputs": [
    {
     "data": {
      "text/html": [
       "<table border='1'>\n",
       "<tr><th>COD_MUNICIPIO</th><th>IDHM_2010</th></tr>\n",
       "<tr><td>110001</td><td>0.641</td></tr>\n",
       "<tr><td>110002</td><td>0.702</td></tr>\n",
       "<tr><td>110003</td><td>0.65</td></tr>\n",
       "<tr><td>110004</td><td>0.718</td></tr>\n",
       "<tr><td>110005</td><td>0.692</td></tr>\n",
       "<tr><td>110006</td><td>0.685</td></tr>\n",
       "<tr><td>110007</td><td>0.613</td></tr>\n",
       "<tr><td>110008</td><td>0.611</td></tr>\n",
       "<tr><td>110009</td><td>0.672</td></tr>\n",
       "<tr><td>110010</td><td>0.657</td></tr>\n",
       "<tr><td>110011</td><td>0.689</td></tr>\n",
       "<tr><td>110012</td><td>0.714</td></tr>\n",
       "<tr><td>110013</td><td>0.596</td></tr>\n",
       "<tr><td>110014</td><td>0.643</td></tr>\n",
       "<tr><td>110015</td><td>0.682</td></tr>\n",
       "<tr><td>110018</td><td>0.71</td></tr>\n",
       "<tr><td>110020</td><td>0.736</td></tr>\n",
       "<tr><td>110025</td><td>0.664</td></tr>\n",
       "<tr><td>110026</td><td>0.643</td></tr>\n",
       "<tr><td>110028</td><td>0.7</td></tr>\n",
       "</table>\n",
       "only showing top 20 rows\n"
      ],
      "text/plain": [
       "+-------------+---------+\n",
       "|COD_MUNICIPIO|IDHM_2010|\n",
       "+-------------+---------+\n",
       "|       110001|    0.641|\n",
       "|       110002|    0.702|\n",
       "|       110003|     0.65|\n",
       "|       110004|    0.718|\n",
       "|       110005|    0.692|\n",
       "|       110006|    0.685|\n",
       "|       110007|    0.613|\n",
       "|       110008|    0.611|\n",
       "|       110009|    0.672|\n",
       "|       110010|    0.657|\n",
       "|       110011|    0.689|\n",
       "|       110012|    0.714|\n",
       "|       110013|    0.596|\n",
       "|       110014|    0.643|\n",
       "|       110015|    0.682|\n",
       "|       110018|     0.71|\n",
       "|       110020|    0.736|\n",
       "|       110025|    0.664|\n",
       "|       110026|    0.643|\n",
       "|       110028|      0.7|\n",
       "+-------------+---------+\n",
       "only showing top 20 rows"
      ]
     },
     "execution_count": 5,
     "metadata": {},
     "output_type": "execute_result"
    }
   ],
   "source": []
  },
  {
   "cell_type": "code",
   "execution_count": 6,
   "id": "8aaec831-965d-4504-aeb6-8fe2151af919",
   "metadata": {},
   "outputs": [
    {
     "name": "stdout",
     "output_type": "stream",
     "text": [
      "5564\n",
      "+-------------+---------+\n",
      "|cod_municipio|idhm_2010|\n",
      "+-------------+---------+\n",
      "|       110001|    0.641|\n",
      "|       110002|    0.702|\n",
      "|       110003|     0.65|\n",
      "|       110004|    0.718|\n",
      "|       110005|    0.692|\n",
      "|       110006|    0.685|\n",
      "|       110007|    0.613|\n",
      "|       110008|    0.611|\n",
      "|       110009|    0.672|\n",
      "|       110010|    0.657|\n",
      "|       110011|    0.689|\n",
      "|       110012|    0.714|\n",
      "|       110013|    0.596|\n",
      "|       110014|    0.643|\n",
      "|       110015|    0.682|\n",
      "|       110018|     0.71|\n",
      "|       110020|    0.736|\n",
      "|       110025|    0.664|\n",
      "|       110026|    0.643|\n",
      "|       110028|      0.7|\n",
      "+-------------+---------+\n",
      "only showing top 20 rows\n",
      "\n"
     ]
    }
   ],
   "source": [
    "idhm = spark.read.option(\"header\", True).csv(\"s3a://datalake/input/ibge_idhm_2010/\")\n",
    "\n",
    "idhm = idhm.select(\n",
    "    col(\"COD_MUNICIPIO\").alias(\"cod_municipio\"),\n",
    "    col(\"IDHM_2010\").alias(\"idhm_2010\")\n",
    ")\n",
    "\n",
    "print(idhm.count())\n",
    "\n",
    "idhm.show()"
   ]
  },
  {
   "cell_type": "code",
   "execution_count": 7,
   "id": "6d9fe46b-1317-4f8d-ae36-8db82820a744",
   "metadata": {},
   "outputs": [],
   "source": [
    "idhm.write.parquet(\"s3a://datalake/raw/ibge_idhm_2010/\")"
   ]
  },
  {
   "cell_type": "code",
   "execution_count": 8,
   "id": "a38bd0b7-fb98-46fc-b567-686e1adf6359",
   "metadata": {},
   "outputs": [],
   "source": [
    "spark.stop()"
   ]
  }
 ],
 "metadata": {
  "kernelspec": {
   "display_name": "Python 3 (ipykernel)",
   "language": "python",
   "name": "python3"
  },
  "language_info": {
   "codemirror_mode": {
    "name": "ipython",
    "version": 3
   },
   "file_extension": ".py",
   "mimetype": "text/x-python",
   "name": "python",
   "nbconvert_exporter": "python",
   "pygments_lexer": "ipython3",
   "version": "3.11.6"
  }
 },
 "nbformat": 4,
 "nbformat_minor": 5
}
