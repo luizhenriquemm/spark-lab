{
 "cells": [
  {
   "cell_type": "code",
   "execution_count": 1,
   "id": "b3df293e-ba90-4615-8ef2-c185222cc409",
   "metadata": {},
   "outputs": [
    {
     "name": "stdout",
     "output_type": "stream",
     "text": [
      "Collecting faker\n",
      "  Obtaining dependency information for faker from https://files.pythonhosted.org/packages/cc/9a/74db0cf3115df2f71edcaf8d86ed556195ac31575212c20425820f81bfd0/Faker-20.1.0-py3-none-any.whl.metadata\n",
      "  Downloading Faker-20.1.0-py3-none-any.whl.metadata (15 kB)\n",
      "Requirement already satisfied: python-dateutil>=2.4 in /opt/conda/lib/python3.11/site-packages (from faker) (2.8.2)\n",
      "Requirement already satisfied: six>=1.5 in /opt/conda/lib/python3.11/site-packages (from python-dateutil>=2.4->faker) (1.16.0)\n",
      "Downloading Faker-20.1.0-py3-none-any.whl (1.7 MB)\n",
      "\u001b[2K   \u001b[90m━━━━━━━━━━━━━━━━━━━━━━━━━━━━━━━━━━━━━━━━\u001b[0m \u001b[32m1.7/1.7 MB\u001b[0m \u001b[31m17.4 MB/s\u001b[0m eta \u001b[36m0:00:00\u001b[0ma \u001b[36m0:00:01\u001b[0m\n",
      "\u001b[?25hInstalling collected packages: faker\n",
      "Successfully installed faker-20.1.0\n"
     ]
    }
   ],
   "source": [
    "!pip install faker"
   ]
  },
  {
   "cell_type": "code",
   "execution_count": 4,
   "id": "abfa06e4-9c10-4709-ae1f-714722fad501",
   "metadata": {},
   "outputs": [],
   "source": [
    "import requests, time, random, json, datetime\n",
    "from faker import Faker\n",
    "\n",
    "last_client_id = 10\n",
    "last_product_id = 10"
   ]
  },
  {
   "cell_type": "code",
   "execution_count": 6,
   "id": "3c56f026-7d05-42ff-a952-8188613d1186",
   "metadata": {},
   "outputs": [],
   "source": [
    "products = [\"V-Neck T-Shirt\",\"Hoodie\",\"Hoodie with Logo\",\"T-Shirt\",\"Beanie\",\n",
    "    \"Belt\",\"Cap\",\"Sunglasses\",\"Hoodie with Pocket\",\"Hoodie with Zipper\",\n",
    "    \"Long Sleeve Tee\",\"Polo\",\"Album\",\"Single\",\"V-Neck T-Shirt - Red\",\"V-Neck T-Shirt - Green\",\n",
    "    \"V-Neck T-Shirt - Blue\",\"Hoodie - Red, No\",\"Hoodie - Green, No\",\n",
    "    \"Hoodie - Blue, No\",\"T-Shirt with Logo\",\"Beanie with Logo\",\n",
    "    \"Logo Collection\",\"WordPress Pennant\",\"Hoodie - Blue, Yes\"]\n",
    "\n"
   ]
  },
  {
   "cell_type": "code",
   "execution_count": 10,
   "id": "8da9faa2-5f52-4de7-b481-093436aee41b",
   "metadata": {},
   "outputs": [],
   "source": [
    "def random_birthdate():\n",
    "    min_age = 18 * 365\n",
    "    max_age = 75 * 365\n",
    "    days = random.randint(min_age, max_age)\n",
    "    birthdate = (datetime.datetime.today() - datetime.timedelta(days=days)).strftime(\"%Y-%m-%d\")\n",
    "    return birthdate\n",
    "\n",
    "def do_client():\n",
    "    url = \"http://app-server:5000/api/cadastro/novo\"\n",
    "    fake=Faker()\n",
    "    payload = json.dumps({\n",
    "      \"name\": fake.name(),\n",
    "      \"gender\": random.choice(['Male', 'Female', 'Not Informed']),\n",
    "      \"birthdate\": random_birthdate(),\n",
    "      \"address\": fake.street_address() + ' | ' + fake.city() + ' | ' + fake.country_code(),\n",
    "      \"city\": fake.city(),\n",
    "      \"state\": fake.state()\n",
    "    })\n",
    "    headers = {'Content-Type': 'application/json'}\n",
    "    response = requests.request(\"POST\", url, headers=headers, data=payload)\n",
    "    last_client_id = response.json()[\"r\"][\"client_id\"]\n",
    "    return response.status_code\n",
    "\n",
    "def do_product():\n",
    "    url = \"http://app-server:5000/api/produto/novo\"\n",
    "    fake=Faker()\n",
    "    payload = json.dumps({\n",
    "      \"name\": fake.name(),\n",
    "      \"value\": random.choice(['Male', 'Female', 'Not Informed']),\n",
    "      \"catgory_id\": 1\n",
    "    })\n",
    "    headers = {'Content-Type': 'application/json'}\n",
    "    response = requests.request(\"POST\", url, headers=headers, data=payload)\n",
    "    last_client_id = response.json()[\"client_id\"]\n",
    "    return response.status_code"
   ]
  },
  {
   "cell_type": "code",
   "execution_count": 12,
   "id": "7cdea6b9-d984-458e-aaa7-cbaae5f19f08",
   "metadata": {},
   "outputs": [],
   "source": [
    "for i in range(10):\n",
    "    do_client()"
   ]
  },
  {
   "cell_type": "code",
   "execution_count": null,
   "id": "e28f4ffc-b64f-4618-b564-1f911055aac4",
   "metadata": {},
   "outputs": [],
   "source": []
  }
 ],
 "metadata": {
  "kernelspec": {
   "display_name": "Python 3 (ipykernel)",
   "language": "python",
   "name": "python3"
  },
  "language_info": {
   "codemirror_mode": {
    "name": "ipython",
    "version": 3
   },
   "file_extension": ".py",
   "mimetype": "text/x-python",
   "name": "python",
   "nbconvert_exporter": "python",
   "pygments_lexer": "ipython3",
   "version": "3.11.6"
  }
 },
 "nbformat": 4,
 "nbformat_minor": 5
}
