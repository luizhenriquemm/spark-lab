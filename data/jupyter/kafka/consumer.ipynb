{
 "cells": [
  {
   "cell_type": "code",
   "execution_count": 1,
   "id": "77793d7a-14d5-43de-bfc4-992717a76367",
   "metadata": {},
   "outputs": [
    {
     "name": "stdout",
     "output_type": "stream",
     "text": [
      "Kafka Consumer has been initiated...\n"
     ]
    }
   ],
   "source": [
    "from confluent_kafka import Consumer\n",
    "################\n",
    "c=Consumer({'bootstrap.servers':'localhost:9092','group.id':'python-consumer','auto.offset.reset':'earliest'})\n",
    "print('Kafka Consumer has been initiated...')"
   ]
  },
  {
   "cell_type": "code",
   "execution_count": 2,
   "id": "9689e9ac-9672-4603-8809-1c15ef390d82",
   "metadata": {},
   "outputs": [
    {
     "name": "stdout",
     "output_type": "stream",
     "text": [
      "Available topics to consume:  {'clients': TopicMetadata(clients, 1 partitions), '__consumer_offsets': TopicMetadata(__consumer_offsets, 50 partitions)}\n"
     ]
    }
   ],
   "source": [
    "print('Available topics to consume: ', c.list_topics().topics)\n",
    "c.subscribe(['clients'])"
   ]
  },
  {
   "cell_type": "code",
   "execution_count": 3,
   "id": "563f6f1b-8ec4-4725-a07b-0783bb9c38a6",
   "metadata": {},
   "outputs": [],
   "source": [
    "def main():\n",
    "    while True:\n",
    "        msg=c.poll(1.0) #timeout\n",
    "        if msg is None:\n",
    "            continue\n",
    "        if msg.error():\n",
    "            print('Error: {}'.format(msg.error()))\n",
    "            continue\n",
    "        data=msg.value().decode('utf-8')\n",
    "        print(data)\n",
    "    c.close()"
   ]
  },
  {
   "cell_type": "code",
   "execution_count": 4,
   "id": "c96fdb52-817d-4d5f-a761-6043742b03fc",
   "metadata": {},
   "outputs": [
    {
     "name": "stdout",
     "output_type": "stream",
     "text": [
      "{\"client_id\": 42, \"name\": \"a\", \"gender\": \"b\", \"birthdate\": \"2000-01-01\", \"address\": \"c\", \"city\": \"e\", \"state\": \"f\"}\n",
      "{\"client_id\": 43, \"name\": \"a\", \"gender\": \"b\", \"birthdate\": \"2000-01-01\", \"address\": \"c\", \"city\": \"e\", \"state\": \"f\"}\n",
      "{\"client_id\": 44, \"name\": \"a\", \"gender\": \"b\", \"birthdate\": \"2000-01-01\", \"address\": \"c\", \"city\": \"e\", \"state\": \"f\"}\n",
      "{\"client_id\": 45, \"name\": \"a\", \"gender\": \"b\", \"birthdate\": \"2000-01-01\", \"address\": \"c\", \"city\": \"e\", \"state\": \"f\"}\n"
     ]
    },
    {
     "ename": "KeyboardInterrupt",
     "evalue": "",
     "output_type": "error",
     "traceback": [
      "\u001b[1;31m---------------------------------------------------------------------------\u001b[0m",
      "\u001b[1;31mKeyboardInterrupt\u001b[0m                         Traceback (most recent call last)",
      "\u001b[1;32mc:\\Users\\luizh\\Documents\\GitHub\\spark-lab\\data\\jupyter\\kafka\\consumer.ipynb Cell 4\u001b[0m line \u001b[0;36m1\n\u001b[1;32m----> <a href='vscode-notebook-cell:/c%3A/Users/luizh/Documents/GitHub/spark-lab/data/jupyter/kafka/consumer.ipynb#W3sZmlsZQ%3D%3D?line=0'>1</a>\u001b[0m main()\n",
      "\u001b[1;32mc:\\Users\\luizh\\Documents\\GitHub\\spark-lab\\data\\jupyter\\kafka\\consumer.ipynb Cell 4\u001b[0m line \u001b[0;36m3\n\u001b[0;32m      <a href='vscode-notebook-cell:/c%3A/Users/luizh/Documents/GitHub/spark-lab/data/jupyter/kafka/consumer.ipynb#W3sZmlsZQ%3D%3D?line=0'>1</a>\u001b[0m \u001b[39mdef\u001b[39;00m \u001b[39mmain\u001b[39m():\n\u001b[0;32m      <a href='vscode-notebook-cell:/c%3A/Users/luizh/Documents/GitHub/spark-lab/data/jupyter/kafka/consumer.ipynb#W3sZmlsZQ%3D%3D?line=1'>2</a>\u001b[0m     \u001b[39mwhile\u001b[39;00m \u001b[39mTrue\u001b[39;00m:\n\u001b[1;32m----> <a href='vscode-notebook-cell:/c%3A/Users/luizh/Documents/GitHub/spark-lab/data/jupyter/kafka/consumer.ipynb#W3sZmlsZQ%3D%3D?line=2'>3</a>\u001b[0m         msg\u001b[39m=\u001b[39mc\u001b[39m.\u001b[39;49mpoll(\u001b[39m1.0\u001b[39;49m) \u001b[39m#timeout\u001b[39;00m\n\u001b[0;32m      <a href='vscode-notebook-cell:/c%3A/Users/luizh/Documents/GitHub/spark-lab/data/jupyter/kafka/consumer.ipynb#W3sZmlsZQ%3D%3D?line=3'>4</a>\u001b[0m         \u001b[39mif\u001b[39;00m msg \u001b[39mis\u001b[39;00m \u001b[39mNone\u001b[39;00m:\n\u001b[0;32m      <a href='vscode-notebook-cell:/c%3A/Users/luizh/Documents/GitHub/spark-lab/data/jupyter/kafka/consumer.ipynb#W3sZmlsZQ%3D%3D?line=4'>5</a>\u001b[0m             \u001b[39mcontinue\u001b[39;00m\n",
      "\u001b[1;31mKeyboardInterrupt\u001b[0m: "
     ]
    }
   ],
   "source": [
    "main()"
   ]
  }
 ],
 "metadata": {
  "kernelspec": {
   "display_name": "Python 3 (ipykernel)",
   "language": "python",
   "name": "python3"
  },
  "language_info": {
   "codemirror_mode": {
    "name": "ipython",
    "version": 3
   },
   "file_extension": ".py",
   "mimetype": "text/x-python",
   "name": "python",
   "nbconvert_exporter": "python",
   "pygments_lexer": "ipython3",
   "version": "3.12.0"
  }
 },
 "nbformat": 4,
 "nbformat_minor": 5
}
