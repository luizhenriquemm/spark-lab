{
 "cells": [
  {
   "cell_type": "code",
   "execution_count": 2,
   "id": "766ce421-9d98-489c-acd6-c5f5ace3f93d",
   "metadata": {},
   "outputs": [
    {
     "name": "stdout",
     "output_type": "stream",
     "text": [
      "Collecting confluent_kafka\n",
      "  Obtaining dependency information for confluent_kafka from https://files.pythonhosted.org/packages/7b/7a/67ee8dedaa6941841a2425bc140a401ad21ad4fb011280771865db7d460e/confluent_kafka-2.3.0-cp311-cp311-manylinux_2_17_x86_64.manylinux2014_x86_64.whl.metadata\n",
      "  Downloading confluent_kafka-2.3.0-cp311-cp311-manylinux_2_17_x86_64.manylinux2014_x86_64.whl.metadata (2.3 kB)\n",
      "Downloading confluent_kafka-2.3.0-cp311-cp311-manylinux_2_17_x86_64.manylinux2014_x86_64.whl (4.0 MB)\n",
      "\u001b[2K   \u001b[90m━━━━━━━━━━━━━━━━━━━━━━━━━━━━━━━━━━━━━━━━\u001b[0m \u001b[32m4.0/4.0 MB\u001b[0m \u001b[31m22.1 MB/s\u001b[0m eta \u001b[36m0:00:00\u001b[0m00:01\u001b[0m00:01\u001b[0m\n",
      "\u001b[?25hInstalling collected packages: confluent_kafka\n",
      "Successfully installed confluent_kafka-2.3.0\n",
      "Note: you may need to restart the kernel to use updated packages.\n"
     ]
    }
   ],
   "source": [
    "pip install confluent_kafka"
   ]
  },
  {
   "cell_type": "code",
   "execution_count": 1,
   "id": "77793d7a-14d5-43de-bfc4-992717a76367",
   "metadata": {},
   "outputs": [
    {
     "name": "stdout",
     "output_type": "stream",
     "text": [
      "Kafka Consumer has been initiated...\n"
     ]
    }
   ],
   "source": [
    "from confluent_kafka import Consumer\n",
    "################\n",
    "c=Consumer({'bootstrap.servers':'kafka:29092','group.id':'python-consumer','auto.offset.reset':'earliest'})\n",
    "print('Kafka Consumer has been initiated...')"
   ]
  },
  {
   "cell_type": "code",
   "execution_count": 2,
   "id": "9689e9ac-9672-4603-8809-1c15ef390d82",
   "metadata": {},
   "outputs": [
    {
     "name": "stdout",
     "output_type": "stream",
     "text": [
      "Available topics to consume:  {'debezium_connect_offsets': TopicMetadata(debezium_connect_offsets, 25 partitions), 'clients': TopicMetadata(clients, 1 partitions), 'debezium_connect_statuses': TopicMetadata(debezium_connect_statuses, 5 partitions), '__consumer_offsets': TopicMetadata(__consumer_offsets, 50 partitions), 'debezium_connect_configs': TopicMetadata(debezium_connect_configs, 1 partitions), 'app.public.clients': TopicMetadata(app.public.clients, 1 partitions)}\n"
     ]
    }
   ],
   "source": [
    "print('Available topics to consume: ', c.list_topics().topics)\n",
    "c.subscribe(['app.public.clients'])"
   ]
  },
  {
   "cell_type": "code",
   "execution_count": null,
   "id": "563f6f1b-8ec4-4725-a07b-0783bb9c38a6",
   "metadata": {},
   "outputs": [],
   "source": [
    "def main():\n",
    "    while True:\n",
    "        msg=c.poll(1.0) #timeout\n",
    "        if msg is None:\n",
    "            continue\n",
    "        if msg.error():\n",
    "            print('Error: {}'.format(msg.error()))\n",
    "            continue\n",
    "        data=msg.value().decode('utf-8')\n",
    "        print(data)\n",
    "    c.close()"
   ]
  },
  {
   "cell_type": "code",
   "execution_count": null,
   "id": "c96fdb52-817d-4d5f-a761-6043742b03fc",
   "metadata": {},
   "outputs": [],
   "source": [
    "main()"
   ]
  }
 ],
 "metadata": {
  "kernelspec": {
   "display_name": "Python 3 (ipykernel)",
   "language": "python",
   "name": "python3"
  },
  "language_info": {
   "codemirror_mode": {
    "name": "ipython",
    "version": 3
   },
   "file_extension": ".py",
   "mimetype": "text/x-python",
   "name": "python",
   "nbconvert_exporter": "python",
   "pygments_lexer": "ipython3",
   "version": "3.11.6"
  }
 },
 "nbformat": 4,
 "nbformat_minor": 5
}
