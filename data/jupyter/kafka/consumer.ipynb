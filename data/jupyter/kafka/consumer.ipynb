{
 "cells": [
  {
   "cell_type": "code",
   "execution_count": 1,
   "id": "77793d7a-14d5-43de-bfc4-992717a76367",
   "metadata": {},
   "outputs": [
    {
     "name": "stdout",
     "output_type": "stream",
     "text": [
      "Kafka Consumer has been initiated...\n"
     ]
    }
   ],
   "source": [
    "from confluent_kafka import Consumer\n",
    "################\n",
    "c=Consumer({'bootstrap.servers':'kafka:9092','group.id':'python-consumer','auto.offset.reset':'earliest'})\n",
    "print('Kafka Consumer has been initiated...')"
   ]
  },
  {
   "cell_type": "code",
   "execution_count": 2,
   "id": "9689e9ac-9672-4603-8809-1c15ef390d82",
   "metadata": {},
   "outputs": [
    {
     "name": "stdout",
     "output_type": "stream",
     "text": [
      "Available topics to consume:  {'user-tracker': TopicMetadata(user-tracker, 1 partitions)}\n"
     ]
    }
   ],
   "source": [
    "print('Available topics to consume: ', c.list_topics().topics)\n",
    "c.subscribe(['user-tracker'])"
   ]
  },
  {
   "cell_type": "code",
   "execution_count": 3,
   "id": "563f6f1b-8ec4-4725-a07b-0783bb9c38a6",
   "metadata": {},
   "outputs": [],
   "source": [
    "def main():\n",
    "    while True:\n",
    "        msg=c.poll(1.0) #timeout\n",
    "        if msg is None:\n",
    "            continue\n",
    "        if msg.error():\n",
    "            print('Error: {}'.format(msg.error()))\n",
    "            continue\n",
    "        data=msg.value().decode('utf-8')\n",
    "        print(data)\n",
    "    c.close()"
   ]
  },
  {
   "cell_type": "code",
   "execution_count": null,
   "id": "c96fdb52-817d-4d5f-a761-6043742b03fc",
   "metadata": {},
   "outputs": [],
   "source": [
    "main()"
   ]
  }
 ],
 "metadata": {
  "kernelspec": {
   "display_name": "Python 3 (ipykernel)",
   "language": "python",
   "name": "python3"
  },
  "language_info": {
   "codemirror_mode": {
    "name": "ipython",
    "version": 3
   },
   "file_extension": ".py",
   "mimetype": "text/x-python",
   "name": "python",
   "nbconvert_exporter": "python",
   "pygments_lexer": "ipython3",
   "version": "3.11.4"
  }
 },
 "nbformat": 4,
 "nbformat_minor": 5
}
