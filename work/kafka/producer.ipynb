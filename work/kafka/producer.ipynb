{
 "cells": [
  {
   "cell_type": "code",
   "execution_count": 1,
   "id": "1de2fd3c-cf10-47cc-b9e0-90a500a2f279",
   "metadata": {},
   "outputs": [
    {
     "name": "stdout",
     "output_type": "stream",
     "text": [
      "Collecting confluent-kafka\n",
      "  Downloading confluent_kafka-2.2.0-cp311-cp311-manylinux_2_17_x86_64.manylinux2014_x86_64.whl (4.0 MB)\n",
      "\u001b[2K     \u001b[90m━━━━━━━━━━━━━━━━━━━━━━━━━━━━━━━━━━━━━━━━\u001b[0m \u001b[32m4.0/4.0 MB\u001b[0m \u001b[31m14.1 MB/s\u001b[0m eta \u001b[36m0:00:00\u001b[0m00:01\u001b[0m00:01\u001b[0m\n",
      "\u001b[?25hCollecting faker\n",
      "  Downloading Faker-19.6.2-py3-none-any.whl (1.7 MB)\n",
      "\u001b[2K     \u001b[90m━━━━━━━━━━━━━━━━━━━━━━━━━━━━━━━━━━━━━━━━\u001b[0m \u001b[32m1.7/1.7 MB\u001b[0m \u001b[31m17.5 MB/s\u001b[0m eta \u001b[36m0:00:00\u001b[0m00:01\u001b[0m00:01\u001b[0m\n",
      "\u001b[?25hRequirement already satisfied: python-dateutil>=2.4 in /opt/conda/lib/python3.11/site-packages (from faker) (2.8.2)\n",
      "Requirement already satisfied: six>=1.5 in /opt/conda/lib/python3.11/site-packages (from python-dateutil>=2.4->faker) (1.16.0)\n",
      "Installing collected packages: confluent-kafka, faker\n",
      "Successfully installed confluent-kafka-2.2.0 faker-19.6.2\n",
      "Note: you may need to restart the kernel to use updated packages.\n"
     ]
    }
   ],
   "source": [
    "pip install confluent-kafka faker"
   ]
  },
  {
   "cell_type": "code",
   "execution_count": 1,
   "id": "4681f6eb-6ddf-4276-bf5a-2d78f52cd851",
   "metadata": {},
   "outputs": [],
   "source": [
    "from confluent_kafka import Producer\n",
    "from faker import Faker\n",
    "import json\n",
    "import time\n",
    "import logging\n",
    "import random \n",
    "fake=Faker()"
   ]
  },
  {
   "cell_type": "code",
   "execution_count": 2,
   "id": "35750cb5-9467-4856-98ae-ee001aefca85",
   "metadata": {},
   "outputs": [],
   "source": [
    "logging.basicConfig(format='%(asctime)s %(message)s',\n",
    "                    datefmt='%Y-%m-%d %H:%M:%S',\n",
    "                    filename='producer.log',\n",
    "                    filemode='w')\n",
    "\n",
    "logger = logging.getLogger()\n",
    "logger.setLevel(logging.INFO)"
   ]
  },
  {
   "cell_type": "code",
   "execution_count": 3,
   "id": "c173bcf7-0c98-4f12-bfa5-53e99eab9b93",
   "metadata": {},
   "outputs": [
    {
     "name": "stdout",
     "output_type": "stream",
     "text": [
      "Kafka Producer has been initiated...\n"
     ]
    }
   ],
   "source": [
    "p=Producer({'bootstrap.servers':'kafka:9092'})\n",
    "print('Kafka Producer has been initiated...')"
   ]
  },
  {
   "cell_type": "code",
   "execution_count": 4,
   "id": "2a366352-5696-4d36-9db5-e9f3a43e78af",
   "metadata": {},
   "outputs": [],
   "source": [
    "def receipt(err,msg):\n",
    "    if err is not None:\n",
    "        print('Error: {}'.format(err))\n",
    "    else:\n",
    "        message = 'Produced message on topic {} with value of {}\\n'.format(msg.topic(), msg.value().decode('utf-8'))\n",
    "        logger.info(message)\n",
    "        print(message)"
   ]
  },
  {
   "cell_type": "code",
   "execution_count": 5,
   "id": "1e03d823-b200-4e4e-a8c5-b295d8b604d7",
   "metadata": {},
   "outputs": [],
   "source": [
    "def main():\n",
    "    for i in range(10):\n",
    "        data={\n",
    "           'user_id': fake.random_int(min=20000, max=100000),\n",
    "           'user_name':fake.name(),\n",
    "           'user_address':fake.street_address() + ' | ' + fake.city() + ' | ' + fake.country_code(),\n",
    "           'platform': random.choice(['Mobile', 'Laptop', 'Tablet']),\n",
    "           'signup_at': str(fake.date_time_this_month())    \n",
    "           }\n",
    "        m=json.dumps(data)\n",
    "        p.poll(1)\n",
    "        p.produce('user-tracker', m.encode('utf-8'),callback=receipt)\n",
    "        p.flush()\n",
    "        time.sleep(3)"
   ]
  },
  {
   "cell_type": "code",
   "execution_count": null,
   "id": "d60d7799-dbca-4f47-bb0c-04fdabfbf457",
   "metadata": {},
   "outputs": [],
   "source": [
    "main()"
   ]
  }
 ],
 "metadata": {
  "kernelspec": {
   "display_name": "Python 3 (ipykernel)",
   "language": "python",
   "name": "python3"
  },
  "language_info": {
   "codemirror_mode": {
    "name": "ipython",
    "version": 3
   },
   "file_extension": ".py",
   "mimetype": "text/x-python",
   "name": "python",
   "nbconvert_exporter": "python",
   "pygments_lexer": "ipython3",
   "version": "3.11.4"
  }
 },
 "nbformat": 4,
 "nbformat_minor": 5
}
